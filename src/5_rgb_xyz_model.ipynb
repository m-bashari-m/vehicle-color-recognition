{
  "cells": [
    {
      "cell_type": "markdown",
      "metadata": {
        "id": "view-in-github",
        "colab_type": "text"
      },
      "source": [
        "<a href=\"https://colab.research.google.com/github/m-bashari-m/vehicle-color-recognition/blob/main/src/5_rgb_xyz_model.ipynb\" target=\"_parent\"><img src=\"https://colab.research.google.com/assets/colab-badge.svg\" alt=\"Open In Colab\"/></a>"
      ]
    },
    {
      "cell_type": "code",
      "execution_count": 5,
      "metadata": {
        "colab": {
          "base_uri": "https://localhost:8080/"
        },
        "id": "FaoIT7KdsydD",
        "outputId": "d7f503a1-2a9e-44dd-a0a6-91c5d0df7db7"
      },
      "outputs": [
        {
          "output_type": "stream",
          "name": "stdout",
          "text": [
            "--2022-06-15 14:57:50--  https://raw.githubusercontent.com/m-bashari-m/vehicle-color-recognition/main/src/utils.py\n",
            "Resolving raw.githubusercontent.com (raw.githubusercontent.com)... 185.199.110.133, 185.199.108.133, 185.199.111.133, ...\n",
            "Connecting to raw.githubusercontent.com (raw.githubusercontent.com)|185.199.110.133|:443... connected.\n",
            "HTTP request sent, awaiting response... 200 OK\n",
            "Length: 11733 (11K) [text/plain]\n",
            "Saving to: ‘utils.py’\n",
            "\n",
            "utils.py            100%[===================>]  11.46K  --.-KB/s    in 0s      \n",
            "\n",
            "2022-06-15 14:57:51 (105 MB/s) - ‘utils.py’ saved [11733/11733]\n",
            "\n"
          ]
        }
      ],
      "source": [
        "!wget https://raw.githubusercontent.com/m-bashari-m/vehicle-color-recognition/main/src/utils.py"
      ]
    },
    {
      "cell_type": "code",
      "execution_count": null,
      "metadata": {
        "colab": {
          "base_uri": "https://localhost:8080/"
        },
        "id": "HytB7-lTs7g5",
        "outputId": "e51682e6-6cf6-414f-e618-3e5847cf4add"
      },
      "outputs": [
        {
          "output_type": "stream",
          "name": "stdout",
          "text": [
            "Mounted at ./drive\n"
          ]
        }
      ],
      "source": [
        "from google.colab import drive\n",
        "drive.mount('./drive')"
      ]
    },
    {
      "cell_type": "code",
      "execution_count": 6,
      "metadata": {
        "id": "dQvl_Em4s8Oi"
      },
      "outputs": [],
      "source": [
        "import os\n",
        "\n",
        "import tensorflow as tf\n",
        "from tensorflow import keras\n",
        "import tensorflow_hub as hub\n",
        "\n",
        "!pip install -q tensorflow-io\n",
        "import tensorflow_io as tfio\n",
        "\n",
        "from utils import get_train_val_ds, get_class_weight"
      ]
    },
    {
      "cell_type": "code",
      "execution_count": 7,
      "metadata": {
        "id": "S5qkZw4Ns8Z7"
      },
      "outputs": [],
      "source": [
        "BATCH_SIZE = 32\n",
        "IMG_SIZE = (256, 256)\n",
        "AUTOTUNE = tf.data.AUTOTUNE\n",
        "N_CLASSES = 16\n",
        "HUB_URL = 'https://tfhub.dev/google/bit/m-r50x1/1'"
      ]
    },
    {
      "cell_type": "code",
      "execution_count": null,
      "metadata": {
        "id": "J8g_1jhQtDFq"
      },
      "outputs": [],
      "source": [
        "dataset_dir = os.path.join('drive', 'MyDrive', 'cars')\n",
        "train_dir = os.path.join(dataset_dir, 'train')\n",
        "val_dir = os.path.join(dataset_dir, 'val')"
      ]
    },
    {
      "cell_type": "code",
      "execution_count": null,
      "metadata": {
        "id": "ZDdC4GywtEQh",
        "outputId": "6e65f775-395f-4558-a976-11f74274ccdf",
        "colab": {
          "base_uri": "https://localhost:8080/"
        }
      },
      "outputs": [
        {
          "output_type": "stream",
          "name": "stdout",
          "text": [
            "Found 16580 files belonging to 16 classes.\n",
            "Found 3510 files belonging to 16 classes.\n"
          ]
        }
      ],
      "source": [
        "train_ds, _ = get_train_val_ds(train_dir, val_dir, batch_size=BATCH_SIZE, img_size=IMG_SIZE)"
      ]
    },
    {
      "cell_type": "code",
      "execution_count": null,
      "metadata": {
        "id": "VfXJuXaItHeC"
      },
      "outputs": [],
      "source": [
        "classes, class_weight = get_class_weight()"
      ]
    },
    {
      "cell_type": "code",
      "execution_count": null,
      "metadata": {
        "id": "YUizq5ZwtHqM"
      },
      "outputs": [],
      "source": [
        "train_ds = (\n",
        "    train_ds.\n",
        "    map(lambda img, lbl: (img/255., lbl), num_parallel_calls=AUTOTUNE).\n",
        "    prefetch(AUTOTUNE))"
      ]
    },
    {
      "cell_type": "code",
      "source": [
        "rgb_input = keras.Input(shape=IMG_SIZE+(3,))\n",
        "hub_module = hub.KerasLayer(HUB_URL)\n",
        "\n",
        "rgb_features = hub_module(rgb_input)\n",
        "\n",
        "xyz_input = tfio.experimental.color.rgb_to_xyz(rgb_input)\n",
        "xyz_features = hub_module(xyz_input)\n",
        "\n",
        "hsv_input = tf.image.rgb_to_hsv(rgb_input)\n",
        "hsv_features = hub_module(hsv_input)\n",
        "\n",
        "features = keras.layers.Concatenate()([rgb_features, xyz_features, hsv_features])\n",
        "\n",
        "output = keras.layers.Dense(N_CLASSES, activation='softmax')(features)\n",
        "\n",
        "model = keras.models.Model(inputs=[rgb_input], outputs=[output])"
      ],
      "metadata": {
        "id": "yY2InyDe18Px"
      },
      "execution_count": null,
      "outputs": []
    },
    {
      "cell_type": "code",
      "source": [
        "target_shape = (32, 64, 1)\n",
        "\n",
        "rgb_input = keras.Input(shape=IMG_SIZE+(3,))\n",
        "hub_module = hub.KerasLayer(HUB_URL)\n",
        "\n",
        "rgb_features = hub_module(rgb_input)\n",
        "rgb_layer = keras.layers.Reshape(target_shape=target_shape)(rgb_features)\n",
        "\n",
        "xyz_input = tfio.experimental.color.rgb_to_xyz(rgb_input)\n",
        "xyz_features = hub_module(xyz_input)\n",
        "xyz_layer = keras.layers.Reshape(target_shape=target_shape)(xyz_features)\n",
        "\n",
        "hsv_input = tf.image.rgb_to_hsv(rgb_input)\n",
        "hsv_features = hub_module(hsv_input)\n",
        "hsv_layer = keras.layers.Reshape(target_shape=target_shape)(hsv_features)\n",
        "\n",
        "block = keras.layers.Concatenate()([rgb_layer, xyz_layer, hsv_layer])\n",
        "\n",
        "conv1 = keras.layers.Conv2D(filters=10,\n",
        "                            kernel_size=(2,2),\n",
        "                            strides=(1,2),\n",
        "                            padding='same',\n",
        "                            activation='relu')(block)\n",
        "\n",
        "conv2 = keras.layers.Conv2D(filters=20,\n",
        "                            kernel_size=(2,2),\n",
        "                            strides=(2,2),\n",
        "                            activation='relu')(conv1)\n",
        "\n",
        "avg_pool = keras.layers.AveragePooling2D(pool_size=(2,2))(conv2)\n",
        "\n",
        "conv3 = keras.layers.Conv2D(filters=20,\n",
        "                            kernel_size=(1,1),\n",
        "                            activation='relu')(avg_pool)\n",
        "\n",
        "flatten = keras.layers.Flatten()(conv3)\n",
        "\n",
        "output = keras.layers.Dense(N_CLASSES, activation='softmax')(flatten)\n",
        "\n",
        "model = keras.models.Model(inputs=[rgb_input], outputs=[output])"
      ],
      "metadata": {
        "id": "EyjtMBoD5lMN"
      },
      "execution_count": 30,
      "outputs": []
    },
    {
      "cell_type": "code",
      "source": [
        "model._name = 'combined-model'"
      ],
      "metadata": {
        "id": "x9Cf6BCzCHdO"
      },
      "execution_count": 31,
      "outputs": []
    },
    {
      "cell_type": "code",
      "source": [
        "model.summary()"
      ],
      "metadata": {
        "id": "BFeVHpaxCrvY",
        "outputId": "3c65303a-5a8a-4624-b98a-2141efc80d7d",
        "colab": {
          "base_uri": "https://localhost:8080/"
        }
      },
      "execution_count": 34,
      "outputs": [
        {
          "output_type": "stream",
          "name": "stdout",
          "text": [
            "Model: \"combined-model\"\n",
            "__________________________________________________________________________________________________\n",
            " Layer (type)                   Output Shape         Param #     Connected to                     \n",
            "==================================================================================================\n",
            " input_16 (InputLayer)          [(None, 256, 256, 3  0           []                               \n",
            "                                )]                                                                \n",
            "                                                                                                  \n",
            " tf.convert_to_tensor_12 (TFOpL  (None, 256, 256, 3)  0          ['input_16[0][0]']               \n",
            " ambda)                                                                                           \n",
            "                                                                                                  \n",
            " tf.__operators__.add_12 (TFOpL  (None, 256, 256, 3)  0          ['tf.convert_to_tensor_12[0][0]']\n",
            " ambda)                                                                                           \n",
            "                                                                                                  \n",
            " tf.math.truediv_24 (TFOpLambda  (None, 256, 256, 3)  0          ['tf.__operators__.add_12[0][0]']\n",
            " )                                                                                                \n",
            "                                                                                                  \n",
            " tf.math.greater_12 (TFOpLambda  (None, 256, 256, 3)  0          ['tf.convert_to_tensor_12[0][0]']\n",
            " )                                                                                                \n",
            "                                                                                                  \n",
            " tf.math.pow_12 (TFOpLambda)    (None, 256, 256, 3)  0           ['tf.math.truediv_24[0][0]']     \n",
            "                                                                                                  \n",
            " tf.math.truediv_25 (TFOpLambda  (None, 256, 256, 3)  0          ['tf.convert_to_tensor_12[0][0]']\n",
            " )                                                                                                \n",
            "                                                                                                  \n",
            " tf.where_12 (TFOpLambda)       (None, 256, 256, 3)  0           ['tf.math.greater_12[0][0]',     \n",
            "                                                                  'tf.math.pow_12[0][0]',         \n",
            "                                                                  'tf.math.truediv_25[0][0]']     \n",
            "                                                                                                  \n",
            " tf.tensordot_12 (TFOpLambda)   (None, 256, 256, 3)  0           ['tf.where_12[0][0]']            \n",
            "                                                                                                  \n",
            " tf.image.rgb_to_hsv_12 (TFOpLa  (None, 256, 256, 3)  0          ['input_16[0][0]']               \n",
            " mbda)                                                                                            \n",
            "                                                                                                  \n",
            " keras_layer_13 (KerasLayer)    (None, 2048)         23500352    ['input_16[0][0]',               \n",
            "                                                                  'tf.tensordot_12[0][0]',        \n",
            "                                                                  'tf.image.rgb_to_hsv_12[0][0]'] \n",
            "                                                                                                  \n",
            " reshape_27 (Reshape)           (None, 32, 64, 1)    0           ['keras_layer_13[0][0]']         \n",
            "                                                                                                  \n",
            " reshape_28 (Reshape)           (None, 32, 64, 1)    0           ['keras_layer_13[1][0]']         \n",
            "                                                                                                  \n",
            " reshape_29 (Reshape)           (None, 32, 64, 1)    0           ['keras_layer_13[2][0]']         \n",
            "                                                                                                  \n",
            " concatenate_12 (Concatenate)   (None, 32, 64, 3)    0           ['reshape_27[0][0]',             \n",
            "                                                                  'reshape_28[0][0]',             \n",
            "                                                                  'reshape_29[0][0]']             \n",
            "                                                                                                  \n",
            " conv2d_12 (Conv2D)             (None, 32, 32, 20)   260         ['concatenate_12[0][0]']         \n",
            "                                                                                                  \n",
            " conv2d_13 (Conv2D)             (None, 16, 16, 50)   4050        ['conv2d_12[0][0]']              \n",
            "                                                                                                  \n",
            " average_pooling2d_2 (AveragePo  (None, 8, 8, 50)    0           ['conv2d_13[0][0]']              \n",
            " oling2D)                                                                                         \n",
            "                                                                                                  \n",
            " conv2d_14 (Conv2D)             (None, 8, 8, 20)     1020        ['average_pooling2d_2[0][0]']    \n",
            "                                                                                                  \n",
            " flatten_6 (Flatten)            (None, 1280)         0           ['conv2d_14[0][0]']              \n",
            "                                                                                                  \n",
            " dense_8 (Dense)                (None, 16)           20496       ['flatten_6[0][0]']              \n",
            "                                                                                                  \n",
            "==================================================================================================\n",
            "Total params: 23,526,178\n",
            "Trainable params: 25,826\n",
            "Non-trainable params: 23,500,352\n",
            "__________________________________________________________________________________________________\n"
          ]
        }
      ]
    },
    {
      "cell_type": "code",
      "source": [
        "metrics = [\n",
        "            keras.metrics.AUC(name='auc', curve='PR', num_thresholds=100),\n",
        "            'accuracy'\n",
        "          ]\n",
        "\n",
        "loss_fn = keras.losses.CategoricalCrossentropy()\n",
        "lr_schedule =tf.keras.optimizers.schedules.ExponentialDecay(1e-2, 533, .9)\n",
        "\n",
        "model.compile(loss=loss_fn,\n",
        "            optimizer=keras.optimizers.Adam(learning_rate=lr_schedule),\n",
        "            metrics=metrics)"
      ],
      "metadata": {
        "id": "ZtVjR1lMAlyA"
      },
      "execution_count": 29,
      "outputs": []
    },
    {
      "cell_type": "code",
      "source": [
        "early_stopping = keras.callbacks.EarlyStopping(\n",
        "                                              monitor='auc', \n",
        "                                              verbose=1,\n",
        "                                              patience=3,\n",
        "                                              restore_best_weights=True,\n",
        "                                              mode='max')\n",
        "\n",
        "check_point_path = os.path.join('./logs/checkpoints', model._name+\"-{epoch:02d}.h5\")\n",
        "check_point = keras.callbacks.ModelCheckpoint(\n",
        "                                            filepath=check_point_path,\n",
        "                                            monitor='auc',\n",
        "                                            save_best_only=True,\n",
        "                                            mode='max')\n",
        "        \n",
        "callbacks = [early_stopping, check_point]"
      ],
      "metadata": {
        "id": "auoSXmr3A4i3"
      },
      "execution_count": null,
      "outputs": []
    },
    {
      "cell_type": "code",
      "execution_count": null,
      "metadata": {
        "colab": {
          "base_uri": "https://localhost:8080/"
        },
        "id": "81hWi4y1utc0",
        "outputId": "0f1d4380-5e98-4f35-e24f-d7bd44f4a5bd"
      },
      "outputs": [
        {
          "output_type": "stream",
          "name": "stdout",
          "text": [
            "Epoch 1/7\n",
            "519/519 [==============================] - 197s 353ms/step - loss: 123.6843 - auc: 0.6291 - accuracy: 0.6905\n",
            "Epoch 2/7\n",
            "519/519 [==============================] - 183s 349ms/step - loss: 77.5934 - auc: 0.7019 - accuracy: 0.7700\n",
            "Epoch 3/7\n",
            "519/519 [==============================] - 184s 352ms/step - loss: 68.1623 - auc: 0.7352 - accuracy: 0.7966\n",
            "Epoch 4/7\n",
            "519/519 [==============================] - 183s 350ms/step - loss: 55.1114 - auc: 0.7732 - accuracy: 0.8259\n",
            "Epoch 5/7\n",
            "519/519 [==============================] - 181s 347ms/step - loss: 45.7943 - auc: 0.7982 - accuracy: 0.8421\n",
            "Epoch 6/7\n",
            "519/519 [==============================] - 181s 346ms/step - loss: 48.1038 - auc: 0.8042 - accuracy: 0.8483\n",
            "Epoch 7/7\n",
            "519/519 [==============================] - 181s 346ms/step - loss: 36.7506 - auc: 0.8276 - accuracy: 0.8653\n"
          ]
        }
      ],
      "source": [
        "history = model.fit(train_ds,\n",
        "                    callbacks=callbacks,\n",
        "                    epochs=25,\n",
        "                    class_weight=class_weight)"
      ]
    }
  ],
  "metadata": {
    "colab": {
      "name": "xyz_model.ipynb",
      "provenance": [],
      "include_colab_link": true
    },
    "kernelspec": {
      "display_name": "Python 3",
      "name": "python3"
    },
    "language_info": {
      "name": "python"
    },
    "accelerator": "GPU"
  },
  "nbformat": 4,
  "nbformat_minor": 0
}