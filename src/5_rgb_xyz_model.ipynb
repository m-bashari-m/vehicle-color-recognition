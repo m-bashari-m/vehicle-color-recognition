{
  "cells": [
    {
      "cell_type": "markdown",
      "metadata": {
        "id": "view-in-github",
        "colab_type": "text"
      },
      "source": [
        "<a href=\"https://colab.research.google.com/github/m-bashari-m/vehicle-color-recognition/blob/main/src/rgb_xyz_model.ipynb\" target=\"_parent\"><img src=\"https://colab.research.google.com/assets/colab-badge.svg\" alt=\"Open In Colab\"/></a>"
      ]
    },
    {
      "cell_type": "code",
      "execution_count": 1,
      "metadata": {
        "colab": {
          "base_uri": "https://localhost:8080/"
        },
        "id": "FaoIT7KdsydD",
        "outputId": "b581df75-babd-4e5b-fffa-a8eecaaca845"
      },
      "outputs": [
        {
          "output_type": "stream",
          "name": "stdout",
          "text": [
            "--2022-06-07 18:23:05--  https://raw.githubusercontent.com/m-bashari-m/vehicle-color-recognition/main/src/utils.py\n",
            "Resolving raw.githubusercontent.com (raw.githubusercontent.com)... 185.199.108.133, 185.199.109.133, 185.199.110.133, ...\n",
            "Connecting to raw.githubusercontent.com (raw.githubusercontent.com)|185.199.108.133|:443... connected.\n",
            "HTTP request sent, awaiting response... 200 OK\n",
            "Length: 9887 (9.7K) [text/plain]\n",
            "Saving to: ‘utils.py’\n",
            "\n",
            "\rutils.py              0%[                    ]       0  --.-KB/s               \rutils.py            100%[===================>]   9.66K  --.-KB/s    in 0s      \n",
            "\n",
            "2022-06-07 18:23:05 (68.0 MB/s) - ‘utils.py’ saved [9887/9887]\n",
            "\n"
          ]
        }
      ],
      "source": [
        "!wget https://raw.githubusercontent.com/m-bashari-m/vehicle-color-recognition/main/src/utils.py"
      ]
    },
    {
      "cell_type": "code",
      "execution_count": 2,
      "metadata": {
        "colab": {
          "base_uri": "https://localhost:8080/"
        },
        "id": "HytB7-lTs7g5",
        "outputId": "dfcdfd5d-bc24-4e8e-f940-e9a1d4351890"
      },
      "outputs": [
        {
          "output_type": "stream",
          "name": "stdout",
          "text": [
            "Mounted at ./drive\n"
          ]
        }
      ],
      "source": [
        "from google.colab import drive\n",
        "drive.mount('./drive')"
      ]
    },
    {
      "cell_type": "code",
      "execution_count": 3,
      "metadata": {
        "id": "dQvl_Em4s8Oi",
        "outputId": "f51da4c1-96ba-41ea-c12e-665cfa9409aa",
        "colab": {
          "base_uri": "https://localhost:8080/"
        }
      },
      "outputs": [
        {
          "output_type": "stream",
          "name": "stdout",
          "text": [
            "\u001b[K     |████████████████████████████████| 25.9 MB 1.6 MB/s \n",
            "\u001b[?25h"
          ]
        }
      ],
      "source": [
        "import pandas as pd\n",
        "import numpy as np\n",
        "import os\n",
        "\n",
        "import tensorflow as tf\n",
        "from tensorflow import keras\n",
        "import tensorflow_hub as hub\n",
        "\n",
        "!pip install -q tensorflow-io\n",
        "import tensorflow_io as tfio\n",
        "\n",
        "from utils import ModelCreator, get_train_val_ds, get_class_weight"
      ]
    },
    {
      "cell_type": "code",
      "execution_count": 4,
      "metadata": {
        "id": "S5qkZw4Ns8Z7"
      },
      "outputs": [],
      "source": [
        "BATCH_SIZE = 32\n",
        "IMG_SIZE = (256, 256)\n",
        "AUTOTUNE = tf.data.AUTOTUNE\n",
        "N_CLASSES = 16\n",
        "HUB_URL = 'https://tfhub.dev/google/bit/m-r50x1/1'"
      ]
    },
    {
      "cell_type": "code",
      "execution_count": 5,
      "metadata": {
        "id": "J8g_1jhQtDFq"
      },
      "outputs": [],
      "source": [
        "dataset_dir = os.path.join('drive', 'MyDrive', 'cars')\n",
        "train_dir = os.path.join(dataset_dir, 'train')\n",
        "val_dir = os.path.join(dataset_dir, 'val')"
      ]
    },
    {
      "cell_type": "code",
      "execution_count": null,
      "metadata": {
        "id": "ZDdC4GywtEQh"
      },
      "outputs": [],
      "source": [
        "train_ds, _ = get_train_val_ds(train_dir, val_dir, batch_size=BATCH_SIZE, img_size=IMG_SIZE)"
      ]
    },
    {
      "cell_type": "code",
      "execution_count": 7,
      "metadata": {
        "id": "VfXJuXaItHeC"
      },
      "outputs": [],
      "source": [
        "classes, class_weight = get_class_weight()"
      ]
    },
    {
      "cell_type": "code",
      "source": [
        "def combine_rgb_xyz(img_batch):\n",
        "  img_batch_xyz = tfio.experimental.color.rgb_to_xyz(img_batch)\n",
        "  return (img_batch + img_batch_xyz) / 2"
      ],
      "metadata": {
        "id": "_LHNsQs_QfKQ"
      },
      "execution_count": 8,
      "outputs": []
    },
    {
      "cell_type": "code",
      "execution_count": 9,
      "metadata": {
        "id": "YUizq5ZwtHqM"
      },
      "outputs": [],
      "source": [
        "train_ds = (\n",
        "    train_ds.\n",
        "    map(lambda img, lbl: (img/255., lbl), num_parallel_calls=AUTOTUNE).\n",
        "    map(lambda img, lbl: (combine_rgb_xyz(img), lbl), num_parallel_calls=AUTOTUNE).\n",
        "    prefetch(AUTOTUNE))"
      ]
    },
    {
      "cell_type": "code",
      "execution_count": 10,
      "metadata": {
        "id": "SOzs81ywtH3h",
        "outputId": "9b42f602-f3fc-41b7-8e5b-6c780e8b4116",
        "colab": {
          "base_uri": "https://localhost:8080/"
        }
      },
      "outputs": [
        {
          "output_type": "stream",
          "name": "stdout",
          "text": [
            "Model: \"RGB_XYZ-model\"\n",
            "_________________________________________________________________\n",
            " Layer (type)                Output Shape              Param #   \n",
            "=================================================================\n",
            " keras_layer (KerasLayer)    (None, 2048)              23500352  \n",
            "                                                                 \n",
            " dense (Dense)               (None, 600)               1229400   \n",
            "                                                                 \n",
            " dropout (Dropout)           (None, 600)               0         \n",
            "                                                                 \n",
            " dense_1 (Dense)             (None, 16)                9616      \n",
            "                                                                 \n",
            "=================================================================\n",
            "Total params: 24,739,368\n",
            "Trainable params: 1,239,016\n",
            "Non-trainable params: 23,500,352\n",
            "_________________________________________________________________\n"
          ]
        }
      ],
      "source": [
        "rgb_xyz_creator = ModelCreator(HUB_URL, 'RGB_XYZ-model')\n",
        "rgb_xyz_model = rgb_xyz_creator.make_model(img_size=IMG_SIZE)"
      ]
    },
    {
      "cell_type": "code",
      "source": [
        "callbacks = rgb_xyz_creator.get_callbacks()"
      ],
      "metadata": {
        "id": "rHnL7xHEoQLX"
      },
      "execution_count": 11,
      "outputs": []
    },
    {
      "cell_type": "code",
      "execution_count": null,
      "metadata": {
        "colab": {
          "base_uri": "https://localhost:8080/"
        },
        "id": "81hWi4y1utc0",
        "outputId": "c750a161-623f-4889-bdad-dadf926ae273"
      },
      "outputs": [
        {
          "output_type": "stream",
          "name": "stdout",
          "text": [
            "Epoch 1/25\n",
            "533/533 [==============================] - 3664s 7s/step - loss: 1327.2883 - auc: 0.3555 - accuracy: 0.5368\n",
            "Epoch 2/25\n",
            "533/533 [==============================] - 197s 366ms/step - loss: 1579.3336 - auc: 0.4610 - accuracy: 0.6359\n",
            "Epoch 3/25\n",
            "533/533 [==============================] - 199s 370ms/step - loss: 1329.1544 - auc: 0.5445 - accuracy: 0.7045\n",
            "Epoch 4/25\n",
            "533/533 [==============================] - 195s 363ms/step - loss: 1195.9619 - auc: 0.5679 - accuracy: 0.7210\n",
            "Epoch 5/25\n",
            "533/533 [==============================] - 200s 373ms/step - loss: 943.9908 - auc: 0.5974 - accuracy: 0.7432\n",
            "Epoch 6/25\n",
            "533/533 [==============================] - 195s 364ms/step - loss: 811.6707 - auc: 0.6275 - accuracy: 0.7645\n",
            "Epoch 7/25\n",
            "533/533 [==============================] - 193s 359ms/step - loss: 660.4785 - auc: 0.6481 - accuracy: 0.7792\n",
            "Epoch 8/25\n",
            "533/533 [==============================] - 194s 360ms/step - loss: 540.9615 - auc: 0.6609 - accuracy: 0.7862\n",
            "Epoch 9/25\n",
            "533/533 [==============================] - 197s 366ms/step - loss: 519.6245 - auc: 0.6712 - accuracy: 0.7944\n",
            "Epoch 10/25\n",
            "533/533 [==============================] - 198s 368ms/step - loss: 409.1829 - auc: 0.6941 - accuracy: 0.8089\n",
            "Epoch 11/25\n",
            "533/533 [==============================] - 192s 357ms/step - loss: 357.9386 - auc: 0.7059 - accuracy: 0.8162\n",
            "Epoch 12/25\n",
            "533/533 [==============================] - 192s 357ms/step - loss: 283.0166 - auc: 0.7308 - accuracy: 0.8328\n",
            "Epoch 13/25\n",
            "533/533 [==============================] - 188s 349ms/step - loss: 247.5027 - auc: 0.7335 - accuracy: 0.8345\n",
            "Epoch 14/25\n",
            "533/533 [==============================] - 191s 355ms/step - loss: 214.6129 - auc: 0.7560 - accuracy: 0.8489\n",
            "Epoch 15/25\n",
            "533/533 [==============================] - 191s 355ms/step - loss: 178.6830 - auc: 0.7612 - accuracy: 0.8517\n",
            "Epoch 16/25\n",
            "533/533 [==============================] - 191s 356ms/step - loss: 160.3031 - auc: 0.7656 - accuracy: 0.8533\n",
            "Epoch 17/25\n",
            "533/533 [==============================] - 195s 363ms/step - loss: 134.3117 - auc: 0.7829 - accuracy: 0.8628\n",
            "Epoch 18/25\n",
            "533/533 [==============================] - 196s 365ms/step - loss: 123.4721 - auc: 0.7955 - accuracy: 0.8718\n",
            "Epoch 19/25\n",
            "533/533 [==============================] - 196s 365ms/step - loss: 110.2859 - auc: 0.7966 - accuracy: 0.8711\n",
            "Epoch 20/25\n",
            "533/533 [==============================] - 198s 369ms/step - loss: 85.7099 - auc: 0.8191 - accuracy: 0.8852\n",
            "Epoch 21/25\n",
            "533/533 [==============================] - 190s 353ms/step - loss: 73.8492 - auc: 0.8218 - accuracy: 0.8867\n",
            "Epoch 22/25\n",
            "533/533 [==============================] - 197s 366ms/step - loss: 72.1060 - auc: 0.8204 - accuracy: 0.8842\n",
            "Epoch 23/25\n",
            "533/533 [==============================] - 190s 354ms/step - loss: 62.6399 - auc: 0.8417 - accuracy: 0.8964\n",
            "Epoch 24/25\n",
            "533/533 [==============================] - 193s 359ms/step - loss: 55.6868 - auc: 0.8413 - accuracy: 0.8983\n",
            "Epoch 25/25\n",
            "533/533 [==============================] - 198s 369ms/step - loss: 49.3117 - auc: 0.8513 - accuracy: 0.9011\n"
          ]
        }
      ],
      "source": [
        "history = rgb_xyz_model.fit(train_ds,\n",
        "                        callbacks=callbacks,\n",
        "                        epochs=25,\n",
        "                        class_weight=class_weight)"
      ]
    },
    {
      "cell_type": "code",
      "source": [
        "rgb_xyz_model.save('./drive/MyDrive/checkpoints/rgb-xyz-model-25.h5')"
      ],
      "metadata": {
        "id": "2X6tlCAxxpR8"
      },
      "execution_count": null,
      "outputs": []
    },
    {
      "cell_type": "markdown",
      "source": [
        "# ***Second*** day"
      ],
      "metadata": {
        "id": "2UQKXaWyaXUc"
      }
    },
    {
      "cell_type": "code",
      "source": [
        "rgb_xyz_model = tf.keras.models.load_model('./drive/MyDrive/checkpoints/rgb-xyz-model-25.h5',\n",
        "                                           custom_objects={'KerasLayer': hub.KerasLayer})"
      ],
      "metadata": {
        "id": "TF5AqXwfaWig"
      },
      "execution_count": 12,
      "outputs": []
    },
    {
      "cell_type": "code",
      "source": [
        "history =rgb_xyz_model.fit(train_ds,\n",
        "                        callbacks=callbacks,\n",
        "                        epochs=40,\n",
        "                        initial_epoch=25,\n",
        "                        class_weight=class_weight)"
      ],
      "metadata": {
        "id": "LtkwjJbi55U3",
        "outputId": "648db45c-e0ce-46b0-b01e-4e8c76dab034",
        "colab": {
          "base_uri": "https://localhost:8080/"
        }
      },
      "execution_count": 14,
      "outputs": [
        {
          "output_type": "stream",
          "name": "stdout",
          "text": [
            "Epoch 26/40\n",
            "533/533 [==============================] - 2721s 5s/step - loss: 47.2428 - auc: 0.8484 - accuracy: 0.9008\n",
            "Epoch 27/40\n",
            "533/533 [==============================] - 211s 393ms/step - loss: 37.6466 - auc: 0.8631 - accuracy: 0.9085\n",
            "Epoch 28/40\n",
            "533/533 [==============================] - 192s 358ms/step - loss: 35.2107 - auc: 0.8656 - accuracy: 0.9093\n",
            "Epoch 29/40\n",
            "533/533 [==============================] - 191s 356ms/step - loss: 31.1496 - auc: 0.8762 - accuracy: 0.9147\n",
            "Epoch 30/40\n",
            "533/533 [==============================] - 202s 376ms/step - loss: 27.8738 - auc: 0.8787 - accuracy: 0.9160\n",
            "Epoch 31/40\n",
            "533/533 [==============================] - 191s 355ms/step - loss: 25.6474 - auc: 0.8844 - accuracy: 0.9183\n",
            "Epoch 32/40\n",
            "533/533 [==============================] - 196s 365ms/step - loss: 22.5698 - auc: 0.8923 - accuracy: 0.9216\n",
            "Epoch 33/40\n",
            "533/533 [==============================] - 194s 361ms/step - loss: 20.8611 - auc: 0.8913 - accuracy: 0.9233\n",
            "Epoch 34/40\n",
            "533/533 [==============================] - 214s 400ms/step - loss: 19.4793 - auc: 0.8947 - accuracy: 0.9236\n",
            "Epoch 35/40\n",
            "533/533 [==============================] - 240s 445ms/step - loss: 18.1103 - auc: 0.9025 - accuracy: 0.9263\n",
            "Epoch 36/40\n",
            "533/533 [==============================] - 194s 361ms/step - loss: 17.5402 - auc: 0.8987 - accuracy: 0.9251\n",
            "Epoch 37/40\n",
            "533/533 [==============================] - 192s 357ms/step - loss: 14.7035 - auc: 0.9117 - accuracy: 0.9325\n",
            "Epoch 38/40\n",
            "533/533 [==============================] - 202s 375ms/step - loss: 13.9502 - auc: 0.9134 - accuracy: 0.9337\n",
            "Epoch 39/40\n",
            "533/533 [==============================] - 195s 363ms/step - loss: 14.2604 - auc: 0.9140 - accuracy: 0.9326\n",
            "Epoch 40/40\n",
            "533/533 [==============================] - 192s 357ms/step - loss: 12.2510 - auc: 0.9184 - accuracy: 0.9346\n"
          ]
        }
      ]
    },
    {
      "cell_type": "code",
      "source": [
        "rgb_xyz_model.save_weights('drive/MyDrive/checkpoints/rgb-xyz-model-40.h5')"
      ],
      "metadata": {
        "id": "hFVBXi0D6psm"
      },
      "execution_count": 15,
      "outputs": []
    },
    {
      "cell_type": "code",
      "source": [
        "history =rgb_xyz_model.fit(train_ds,\n",
        "                        callbacks=callbacks,\n",
        "                        epochs=50,\n",
        "                        initial_epoch=40,\n",
        "                        class_weight=class_weight)"
      ],
      "metadata": {
        "id": "4HwMJUUksBWB",
        "outputId": "88947e33-0eeb-42ac-d458-9aa57dfc1245",
        "colab": {
          "base_uri": "https://localhost:8080/"
        }
      },
      "execution_count": 16,
      "outputs": [
        {
          "output_type": "stream",
          "name": "stdout",
          "text": [
            "Epoch 41/50\n",
            "533/533 [==============================] - 196s 365ms/step - loss: 13.2826 - auc: 0.9172 - accuracy: 0.9344\n",
            "Epoch 42/50\n",
            "533/533 [==============================] - 184s 343ms/step - loss: 12.0273 - auc: 0.9200 - accuracy: 0.9369\n",
            "Epoch 43/50\n",
            "533/533 [==============================] - 195s 364ms/step - loss: 11.6070 - auc: 0.9223 - accuracy: 0.9363\n",
            "Epoch 44/50\n",
            "533/533 [==============================] - 197s 366ms/step - loss: 9.9959 - auc: 0.9295 - accuracy: 0.9412\n",
            "Epoch 45/50\n",
            "533/533 [==============================] - 198s 368ms/step - loss: 10.7260 - auc: 0.9251 - accuracy: 0.9387\n",
            "Epoch 46/50\n",
            "533/533 [==============================] - 202s 376ms/step - loss: 9.4814 - auc: 0.9301 - accuracy: 0.9424\n",
            "Epoch 47/50\n",
            "533/533 [==============================] - 194s 360ms/step - loss: 9.0810 - auc: 0.9326 - accuracy: 0.9441\n",
            "Epoch 48/50\n",
            "533/533 [==============================] - 194s 362ms/step - loss: 8.3280 - auc: 0.9345 - accuracy: 0.9447\n",
            "Epoch 49/50\n",
            "533/533 [==============================] - 197s 366ms/step - loss: 8.6864 - auc: 0.9331 - accuracy: 0.9420\n",
            "Epoch 50/50\n",
            "533/533 [==============================] - 203s 379ms/step - loss: 8.8230 - auc: 0.9347 - accuracy: 0.9436\n"
          ]
        }
      ]
    },
    {
      "cell_type": "code",
      "source": [
        "rgb_xyz_model.save_weights('drive/MyDrive/checkpoints/rgb-xyz-model-50.h5')"
      ],
      "metadata": {
        "id": "7cwg4XQDsoU7"
      },
      "execution_count": 17,
      "outputs": []
    },
    {
      "cell_type": "code",
      "source": [
        "history =rgb_xyz_model.fit(train_ds,\n",
        "                        callbacks=callbacks,\n",
        "                        epochs=60,\n",
        "                        initial_epoch=50,\n",
        "                        class_weight=class_weight)"
      ],
      "metadata": {
        "id": "Sn1JlOj3tAA1",
        "outputId": "46053f5f-3490-4485-c248-487abbe35608",
        "colab": {
          "base_uri": "https://localhost:8080/"
        }
      },
      "execution_count": 18,
      "outputs": [
        {
          "output_type": "stream",
          "name": "stdout",
          "text": [
            "Epoch 51/60\n",
            "533/533 [==============================] - 192s 356ms/step - loss: 8.1753 - auc: 0.9343 - accuracy: 0.9447\n",
            "Epoch 52/60\n",
            "533/533 [==============================] - 197s 368ms/step - loss: 7.7764 - auc: 0.9379 - accuracy: 0.9454\n",
            "Epoch 53/60\n",
            "533/533 [==============================] - 209s 389ms/step - loss: 8.0568 - auc: 0.9398 - accuracy: 0.9468\n",
            "Epoch 54/60\n",
            "533/533 [==============================] - 193s 359ms/step - loss: 7.6623 - auc: 0.9397 - accuracy: 0.9437\n",
            "Epoch 55/60\n",
            "533/533 [==============================] - 190s 354ms/step - loss: 7.6085 - auc: 0.9405 - accuracy: 0.9464\n",
            "Epoch 56/60\n",
            "533/533 [==============================] - 201s 375ms/step - loss: 7.2338 - auc: 0.9419 - accuracy: 0.9458\n",
            "Epoch 57/60\n",
            "533/533 [==============================] - 211s 393ms/step - loss: 6.7196 - auc: 0.9442 - accuracy: 0.9478\n",
            "Epoch 58/60\n",
            "533/533 [==============================] - 217s 404ms/step - loss: 6.9903 - auc: 0.9403 - accuracy: 0.9473\n",
            "Epoch 59/60\n",
            "533/533 [==============================] - 194s 361ms/step - loss: 6.6459 - auc: 0.9446 - accuracy: 0.9483\n",
            "Epoch 60/60\n",
            "533/533 [==============================] - 193s 358ms/step - loss: 6.7637 - auc: 0.9421 - accuracy: 0.9458\n"
          ]
        }
      ]
    },
    {
      "cell_type": "code",
      "source": [
        "rgb_xyz_model.save_weights('drive/MyDrive/checkpoints/rgb-xyz-model-60.h5')"
      ],
      "metadata": {
        "id": "XE1TA14e0zyy"
      },
      "execution_count": 19,
      "outputs": []
    },
    {
      "cell_type": "code",
      "source": [
        "history =rgb_xyz_model.fit(train_ds,\n",
        "                        callbacks=callbacks,\n",
        "                        epochs=65,\n",
        "                        initial_epoch=60,\n",
        "                        class_weight=class_weight)"
      ],
      "metadata": {
        "id": "87qGescb-jH_",
        "outputId": "6ad21eb4-143f-482d-f36e-442987827315",
        "colab": {
          "base_uri": "https://localhost:8080/"
        }
      },
      "execution_count": 20,
      "outputs": [
        {
          "output_type": "stream",
          "name": "stdout",
          "text": [
            "Epoch 61/65\n",
            "533/533 [==============================] - 194s 361ms/step - loss: 6.4579 - auc: 0.9457 - accuracy: 0.9491\n",
            "Epoch 62/65\n",
            "533/533 [==============================] - 191s 356ms/step - loss: 6.5886 - auc: 0.9428 - accuracy: 0.9468\n",
            "Epoch 63/65\n",
            "533/533 [==============================] - 191s 355ms/step - loss: 6.7383 - auc: 0.9431 - accuracy: 0.9479\n",
            "Epoch 64/65\n",
            "533/533 [==============================] - ETA: 0s - loss: 6.4305 - auc: 0.9449 - accuracy: 0.9484Restoring model weights from the end of the best epoch: 61.\n",
            "533/533 [==============================] - 187s 348ms/step - loss: 6.4305 - auc: 0.9449 - accuracy: 0.9484\n",
            "Epoch 64: early stopping\n"
          ]
        }
      ]
    },
    {
      "cell_type": "code",
      "source": [
        "rgb_xyz_model.save_weights('drive/MyDrive/checkpoints/rgb-xyz-model-61.h5')"
      ],
      "metadata": {
        "id": "NKMVuhr3-pRn"
      },
      "execution_count": 21,
      "outputs": []
    }
  ],
  "metadata": {
    "colab": {
      "name": "xyz_model.ipynb",
      "provenance": [],
      "include_colab_link": true
    },
    "kernelspec": {
      "display_name": "Python 3",
      "name": "python3"
    },
    "language_info": {
      "name": "python"
    },
    "accelerator": "GPU"
  },
  "nbformat": 4,
  "nbformat_minor": 0
}