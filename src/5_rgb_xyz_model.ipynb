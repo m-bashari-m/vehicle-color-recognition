{
  "cells": [
    {
      "cell_type": "markdown",
      "metadata": {
        "id": "view-in-github",
        "colab_type": "text"
      },
      "source": [
        "<a href=\"https://colab.research.google.com/github/m-bashari-m/vehicle-color-recognition/blob/main/src/5_rgb_xyz_model.ipynb\" target=\"_parent\"><img src=\"https://colab.research.google.com/assets/colab-badge.svg\" alt=\"Open In Colab\"/></a>"
      ]
    },
    {
      "cell_type": "code",
      "execution_count": 1,
      "metadata": {
        "colab": {
          "base_uri": "https://localhost:8080/"
        },
        "id": "FaoIT7KdsydD",
        "outputId": "4f78fdc5-1abc-497c-9914-0bb7af009e1f"
      },
      "outputs": [
        {
          "output_type": "stream",
          "name": "stdout",
          "text": [
            "--2022-06-09 18:01:03--  https://raw.githubusercontent.com/m-bashari-m/vehicle-color-recognition/main/src/utils.py\n",
            "Resolving raw.githubusercontent.com (raw.githubusercontent.com)... 185.199.108.133, 185.199.109.133, 185.199.110.133, ...\n",
            "Connecting to raw.githubusercontent.com (raw.githubusercontent.com)|185.199.108.133|:443... connected.\n",
            "HTTP request sent, awaiting response... 200 OK\n",
            "Length: 11788 (12K) [text/plain]\n",
            "Saving to: ‘utils.py.1’\n",
            "\n",
            "\rutils.py.1            0%[                    ]       0  --.-KB/s               \rutils.py.1          100%[===================>]  11.51K  --.-KB/s    in 0s      \n",
            "\n",
            "2022-06-09 18:01:03 (81.3 MB/s) - ‘utils.py.1’ saved [11788/11788]\n",
            "\n"
          ]
        }
      ],
      "source": [
        "!wget https://raw.githubusercontent.com/m-bashari-m/vehicle-color-recognition/main/src/utils.py"
      ]
    },
    {
      "cell_type": "code",
      "execution_count": 5,
      "metadata": {
        "colab": {
          "base_uri": "https://localhost:8080/"
        },
        "id": "HytB7-lTs7g5",
        "outputId": "0b8d0708-d7ca-46ed-dd78-3e0eda74d744"
      },
      "outputs": [
        {
          "output_type": "stream",
          "name": "stdout",
          "text": [
            "Drive already mounted at ./drive; to attempt to forcibly remount, call drive.mount(\"./drive\", force_remount=True).\n"
          ]
        }
      ],
      "source": [
        "from google.colab import drive\n",
        "drive.mount('./drive')"
      ]
    },
    {
      "cell_type": "code",
      "execution_count": 6,
      "metadata": {
        "id": "dQvl_Em4s8Oi"
      },
      "outputs": [],
      "source": [
        "import pandas as pd\n",
        "import numpy as np\n",
        "import os\n",
        "\n",
        "import tensorflow as tf\n",
        "from tensorflow import keras\n",
        "import tensorflow_hub as hub\n",
        "\n",
        "!pip install -q tensorflow-io\n",
        "import tensorflow_io as tfio\n",
        "\n",
        "from utils import ModelCreator, get_train_val_ds, get_class_weight"
      ]
    },
    {
      "cell_type": "code",
      "execution_count": 7,
      "metadata": {
        "id": "S5qkZw4Ns8Z7"
      },
      "outputs": [],
      "source": [
        "BATCH_SIZE = 32\n",
        "IMG_SIZE = (256, 256)\n",
        "AUTOTUNE = tf.data.AUTOTUNE\n",
        "N_CLASSES = 16\n",
        "HUB_URL = 'https://tfhub.dev/google/bit/m-r50x1/1'"
      ]
    },
    {
      "cell_type": "code",
      "execution_count": 8,
      "metadata": {
        "id": "J8g_1jhQtDFq"
      },
      "outputs": [],
      "source": [
        "dataset_dir = os.path.join('drive', 'MyDrive', 'cars')\n",
        "train_dir = os.path.join(dataset_dir, 'train')\n",
        "val_dir = os.path.join(dataset_dir, 'val')"
      ]
    },
    {
      "cell_type": "code",
      "execution_count": 9,
      "metadata": {
        "id": "ZDdC4GywtEQh",
        "outputId": "d009e296-0af5-4b2f-9b75-be27d08f8330",
        "colab": {
          "base_uri": "https://localhost:8080/"
        }
      },
      "outputs": [
        {
          "output_type": "stream",
          "name": "stdout",
          "text": [
            "Found 16580 files belonging to 16 classes.\n",
            "Found 3508 files belonging to 16 classes.\n"
          ]
        }
      ],
      "source": [
        "train_ds, _ = get_train_val_ds(train_dir, val_dir, batch_size=BATCH_SIZE, img_size=IMG_SIZE)"
      ]
    },
    {
      "cell_type": "code",
      "execution_count": 10,
      "metadata": {
        "id": "VfXJuXaItHeC"
      },
      "outputs": [],
      "source": [
        "classes, class_weight = get_class_weight()"
      ]
    },
    {
      "cell_type": "code",
      "source": [
        "def combine_rgb_xyz(img_batch):\n",
        "  img_batch_xyz = tfio.experimental.color.rgb_to_xyz(img_batch)\n",
        "  return (img_batch + img_batch_xyz) / 2"
      ],
      "metadata": {
        "id": "_LHNsQs_QfKQ"
      },
      "execution_count": 11,
      "outputs": []
    },
    {
      "cell_type": "code",
      "execution_count": 12,
      "metadata": {
        "id": "YUizq5ZwtHqM"
      },
      "outputs": [],
      "source": [
        "train_ds = (\n",
        "    train_ds.\n",
        "    map(lambda img, lbl: (img/255., lbl), num_parallel_calls=AUTOTUNE).\n",
        "    map(lambda img, lbl: (combine_rgb_xyz(img), lbl), num_parallel_calls=AUTOTUNE).\n",
        "    prefetch(AUTOTUNE))"
      ]
    },
    {
      "cell_type": "code",
      "execution_count": 13,
      "metadata": {
        "id": "SOzs81ywtH3h",
        "outputId": "13068dba-5f59-4959-e578-cb4441c9f53c",
        "colab": {
          "base_uri": "https://localhost:8080/"
        }
      },
      "outputs": [
        {
          "output_type": "stream",
          "name": "stdout",
          "text": [
            "Model: \"RGB_XYZ-model\"\n",
            "_________________________________________________________________\n",
            " Layer (type)                Output Shape              Param #   \n",
            "=================================================================\n",
            " keras_layer (KerasLayer)    (None, 2048)              23500352  \n",
            "                                                                 \n",
            " dense (Dense)               (None, 600)               1229400   \n",
            "                                                                 \n",
            " dropout (Dropout)           (None, 600)               0         \n",
            "                                                                 \n",
            " dense_1 (Dense)             (None, 16)                9616      \n",
            "                                                                 \n",
            "=================================================================\n",
            "Total params: 24,739,368\n",
            "Trainable params: 1,239,016\n",
            "Non-trainable params: 23,500,352\n",
            "_________________________________________________________________\n"
          ]
        }
      ],
      "source": [
        "rgb_xyz_creator = ModelCreator(HUB_URL, 'RGB_XYZ-model')\n",
        "rgb_xyz_model = rgb_xyz_creator.make_model(img_size=IMG_SIZE)"
      ]
    },
    {
      "cell_type": "code",
      "source": [
        "callbacks = rgb_xyz_creator.get_callbacks()"
      ],
      "metadata": {
        "id": "rHnL7xHEoQLX"
      },
      "execution_count": 14,
      "outputs": []
    },
    {
      "cell_type": "code",
      "execution_count": null,
      "metadata": {
        "colab": {
          "base_uri": "https://localhost:8080/"
        },
        "id": "81hWi4y1utc0",
        "outputId": "cda47799-b3fa-47e0-e0df-75f3251ccd9e"
      },
      "outputs": [
        {
          "output_type": "stream",
          "name": "stdout",
          "text": [
            "Epoch 1/25\n",
            "519/519 [==============================] - 191s 344ms/step - loss: 1158.2117 - auc: 0.4725 - accuracy: 0.6395\n",
            "Epoch 2/25\n",
            "519/519 [==============================] - 175s 334ms/step - loss: 1703.9325 - auc: 0.5370 - accuracy: 0.6982\n",
            "Epoch 3/25\n",
            "519/519 [==============================] - 173s 331ms/step - loss: 1564.8438 - auc: 0.5940 - accuracy: 0.7411\n",
            "Epoch 4/25\n",
            "519/519 [==============================] - 174s 333ms/step - loss: 1205.7815 - auc: 0.6347 - accuracy: 0.7706\n",
            "Epoch 5/25\n",
            "519/519 [==============================] - 176s 336ms/step - loss: 935.1781 - auc: 0.6603 - accuracy: 0.7874\n",
            "Epoch 6/25\n",
            "519/519 [==============================] - 178s 341ms/step - loss: 805.5470 - auc: 0.6739 - accuracy: 0.7978\n",
            "Epoch 7/25\n",
            "519/519 [==============================] - 174s 333ms/step - loss: 717.5233 - auc: 0.6864 - accuracy: 0.8056\n",
            "Epoch 8/25\n",
            "519/519 [==============================] - 174s 333ms/step - loss: 614.1190 - auc: 0.7106 - accuracy: 0.8218\n",
            "Epoch 9/25\n",
            "519/519 [==============================] - 174s 332ms/step - loss: 537.5464 - auc: 0.7188 - accuracy: 0.8260\n",
            "Epoch 10/25\n",
            "519/519 [==============================] - 174s 332ms/step - loss: 424.9606 - auc: 0.7374 - accuracy: 0.8384\n",
            "Epoch 11/25\n",
            "519/519 [==============================] - 176s 337ms/step - loss: 432.0635 - auc: 0.7386 - accuracy: 0.8390\n",
            "Epoch 12/25\n",
            "519/519 [==============================] - 174s 333ms/step - loss: 324.0774 - auc: 0.7572 - accuracy: 0.8502\n",
            "Epoch 13/25\n",
            "519/519 [==============================] - 176s 336ms/step - loss: 272.5331 - auc: 0.7683 - accuracy: 0.8566\n",
            "Epoch 14/25\n",
            "519/519 [==============================] - 172s 327ms/step - loss: 259.5055 - auc: 0.7748 - accuracy: 0.8620\n",
            "Epoch 15/25\n",
            "519/519 [==============================] - 172s 329ms/step - loss: 221.2251 - auc: 0.7857 - accuracy: 0.8671\n",
            "Epoch 16/25\n",
            "519/519 [==============================] - 176s 336ms/step - loss: 169.1190 - auc: 0.8007 - accuracy: 0.8762\n",
            "Epoch 17/25\n",
            "519/519 [==============================] - 178s 340ms/step - loss: 164.3561 - auc: 0.8049 - accuracy: 0.8788\n",
            "Epoch 18/25\n",
            "519/519 [==============================] - 177s 338ms/step - loss: 139.4581 - auc: 0.8199 - accuracy: 0.8869\n",
            "Epoch 19/25\n",
            "519/519 [==============================] - 179s 343ms/step - loss: 119.6334 - auc: 0.8232 - accuracy: 0.8890\n",
            "Epoch 20/25\n",
            "519/519 [==============================] - 176s 336ms/step - loss: 105.0289 - auc: 0.8344 - accuracy: 0.8961\n",
            "Epoch 21/25\n",
            "519/519 [==============================] - 179s 342ms/step - loss: 89.8724 - auc: 0.8424 - accuracy: 0.8987\n",
            "Epoch 22/25\n",
            "519/519 [==============================] - 175s 335ms/step - loss: 78.7246 - auc: 0.8522 - accuracy: 0.9065\n",
            "Epoch 23/25\n",
            "519/519 [==============================] - 176s 337ms/step - loss: 72.1650 - auc: 0.8523 - accuracy: 0.9053\n",
            "Epoch 24/25\n",
            "519/519 [==============================] - 179s 343ms/step - loss: 66.5307 - auc: 0.8615 - accuracy: 0.9098\n",
            "Epoch 25/25\n",
            "519/519 [==============================] - 180s 343ms/step - loss: 65.1612 - auc: 0.8631 - accuracy: 0.9095\n"
          ]
        }
      ],
      "source": [
        "history = rgb_xyz_model.fit(train_ds,\n",
        "                        callbacks=callbacks,\n",
        "                        epochs=25,\n",
        "                        class_weight=class_weight)"
      ]
    },
    {
      "cell_type": "code",
      "source": [
        "rgb_xyz_model.save('./drive/MyDrive/checkpoints/rgb-xyz-model-25.h5')"
      ],
      "metadata": {
        "id": "2X6tlCAxxpR8"
      },
      "execution_count": null,
      "outputs": []
    },
    {
      "cell_type": "markdown",
      "source": [
        "# ***Second*** day"
      ],
      "metadata": {
        "id": "2UQKXaWyaXUc"
      }
    },
    {
      "cell_type": "code",
      "source": [
        "rgb_xyz_model = tf.keras.models.load_model('./drive/MyDrive/checkpoints/rgb-xyz-model-25.h5',\n",
        "                                           custom_objects={'KerasLayer': hub.KerasLayer})"
      ],
      "metadata": {
        "id": "TF5AqXwfaWig"
      },
      "execution_count": 15,
      "outputs": []
    },
    {
      "cell_type": "code",
      "source": [
        "history =rgb_xyz_model.fit(train_ds,\n",
        "                        callbacks=callbacks,\n",
        "                        epochs=40,\n",
        "                        initial_epoch=25,\n",
        "                        class_weight=class_weight)"
      ],
      "metadata": {
        "id": "LtkwjJbi55U3",
        "colab": {
          "base_uri": "https://localhost:8080/"
        },
        "outputId": "7725be1d-2d92-4180-a827-39325e233e1f"
      },
      "execution_count": 16,
      "outputs": [
        {
          "output_type": "stream",
          "name": "stdout",
          "text": [
            "Epoch 26/40\n",
            "519/519 [==============================] - 1354s 3s/step - loss: 53.7484 - auc: 0.8693 - accuracy: 0.9128\n",
            "Epoch 27/40\n",
            "519/519 [==============================] - 177s 339ms/step - loss: 47.7616 - auc: 0.8758 - accuracy: 0.9171\n",
            "Epoch 28/40\n",
            "519/519 [==============================] - 174s 332ms/step - loss: 41.6081 - auc: 0.8822 - accuracy: 0.9207\n",
            "Epoch 29/40\n",
            "519/519 [==============================] - 182s 348ms/step - loss: 38.0185 - auc: 0.8882 - accuracy: 0.9240\n",
            "Epoch 30/40\n",
            "519/519 [==============================] - 178s 341ms/step - loss: 32.8925 - auc: 0.8942 - accuracy: 0.9267\n",
            "Epoch 31/40\n",
            "519/519 [==============================] - 183s 351ms/step - loss: 32.2328 - auc: 0.8976 - accuracy: 0.9291\n",
            "Epoch 32/40\n",
            "519/519 [==============================] - 187s 358ms/step - loss: 27.8445 - auc: 0.9033 - accuracy: 0.9324\n",
            "Epoch 33/40\n",
            "519/519 [==============================] - 180s 345ms/step - loss: 26.8951 - auc: 0.9085 - accuracy: 0.9338\n",
            "Epoch 34/40\n",
            "519/519 [==============================] - 179s 343ms/step - loss: 24.9438 - auc: 0.9108 - accuracy: 0.9346\n",
            "Epoch 35/40\n",
            "519/519 [==============================] - 178s 339ms/step - loss: 22.6812 - auc: 0.9115 - accuracy: 0.9362\n",
            "Epoch 36/40\n",
            "519/519 [==============================] - 173s 330ms/step - loss: 19.5375 - auc: 0.9197 - accuracy: 0.9403\n",
            "Epoch 37/40\n",
            "519/519 [==============================] - 177s 339ms/step - loss: 19.0255 - auc: 0.9226 - accuracy: 0.9402\n",
            "Epoch 38/40\n",
            "519/519 [==============================] - 175s 334ms/step - loss: 17.3819 - auc: 0.9290 - accuracy: 0.9426\n",
            "Epoch 39/40\n",
            "519/519 [==============================] - 180s 343ms/step - loss: 15.0617 - auc: 0.9354 - accuracy: 0.9478\n",
            "Epoch 40/40\n",
            "519/519 [==============================] - 180s 345ms/step - loss: 15.2470 - auc: 0.9313 - accuracy: 0.9463\n"
          ]
        }
      ]
    },
    {
      "cell_type": "code",
      "source": [
        "rgb_xyz_model.save('drive/MyDrive/checkpoints/rgb-xyz-model-40.h5')"
      ],
      "metadata": {
        "id": "hFVBXi0D6psm"
      },
      "execution_count": 17,
      "outputs": []
    },
    {
      "cell_type": "code",
      "source": [
        "history =rgb_xyz_model.fit(train_ds,\n",
        "                        callbacks=callbacks,\n",
        "                        epochs=50,\n",
        "                        initial_epoch=40,\n",
        "                        class_weight=class_weight)"
      ],
      "metadata": {
        "id": "4HwMJUUksBWB",
        "outputId": "56ba949b-7f16-4b27-b3a9-565a1100391b",
        "colab": {
          "base_uri": "https://localhost:8080/"
        }
      },
      "execution_count": 18,
      "outputs": [
        {
          "output_type": "stream",
          "name": "stdout",
          "text": [
            "Epoch 41/50\n",
            "519/519 [==============================] - 174s 332ms/step - loss: 13.4663 - auc: 0.9352 - accuracy: 0.9476\n",
            "Epoch 42/50\n",
            "519/519 [==============================] - 170s 326ms/step - loss: 12.9879 - auc: 0.9395 - accuracy: 0.9505\n",
            "Epoch 43/50\n",
            "519/519 [==============================] - 177s 339ms/step - loss: 13.9674 - auc: 0.9360 - accuracy: 0.9463\n",
            "Epoch 44/50\n",
            "519/519 [==============================] - 174s 332ms/step - loss: 12.2783 - auc: 0.9398 - accuracy: 0.9502\n",
            "Epoch 45/50\n",
            "519/519 [==============================] - 172s 329ms/step - loss: 11.2335 - auc: 0.9429 - accuracy: 0.9492\n",
            "Epoch 46/50\n",
            "519/519 [==============================] - 172s 329ms/step - loss: 10.3868 - auc: 0.9473 - accuracy: 0.9522\n",
            "Epoch 47/50\n",
            "519/519 [==============================] - 178s 340ms/step - loss: 11.0245 - auc: 0.9445 - accuracy: 0.9511\n",
            "Epoch 48/50\n",
            "519/519 [==============================] - 171s 328ms/step - loss: 10.3962 - auc: 0.9471 - accuracy: 0.9522\n",
            "Epoch 49/50\n",
            "519/519 [==============================] - 171s 326ms/step - loss: 9.9146 - auc: 0.9492 - accuracy: 0.9527\n",
            "Epoch 50/50\n",
            "519/519 [==============================] - 171s 327ms/step - loss: 9.8876 - auc: 0.9491 - accuracy: 0.9537\n"
          ]
        }
      ]
    },
    {
      "cell_type": "code",
      "source": [
        "rgb_xyz_model.save('drive/MyDrive/checkpoints/rgb-xyz-model-50.h5')"
      ],
      "metadata": {
        "id": "7cwg4XQDsoU7"
      },
      "execution_count": 19,
      "outputs": []
    },
    {
      "cell_type": "code",
      "source": [
        "history =rgb_xyz_model.fit(train_ds,\n",
        "                        callbacks=callbacks,\n",
        "                        epochs=60,\n",
        "                        initial_epoch=50,\n",
        "                        class_weight=class_weight)"
      ],
      "metadata": {
        "id": "Sn1JlOj3tAA1",
        "outputId": "46053f5f-3490-4485-c248-487abbe35608",
        "colab": {
          "base_uri": "https://localhost:8080/"
        }
      },
      "execution_count": null,
      "outputs": [
        {
          "output_type": "stream",
          "name": "stdout",
          "text": [
            "Epoch 51/60\n",
            "533/533 [==============================] - 192s 356ms/step - loss: 8.1753 - auc: 0.9343 - accuracy: 0.9447\n",
            "Epoch 52/60\n",
            "533/533 [==============================] - 197s 368ms/step - loss: 7.7764 - auc: 0.9379 - accuracy: 0.9454\n",
            "Epoch 53/60\n",
            "533/533 [==============================] - 209s 389ms/step - loss: 8.0568 - auc: 0.9398 - accuracy: 0.9468\n",
            "Epoch 54/60\n",
            "533/533 [==============================] - 193s 359ms/step - loss: 7.6623 - auc: 0.9397 - accuracy: 0.9437\n",
            "Epoch 55/60\n",
            "533/533 [==============================] - 190s 354ms/step - loss: 7.6085 - auc: 0.9405 - accuracy: 0.9464\n",
            "Epoch 56/60\n",
            "533/533 [==============================] - 201s 375ms/step - loss: 7.2338 - auc: 0.9419 - accuracy: 0.9458\n",
            "Epoch 57/60\n",
            "533/533 [==============================] - 211s 393ms/step - loss: 6.7196 - auc: 0.9442 - accuracy: 0.9478\n",
            "Epoch 58/60\n",
            "533/533 [==============================] - 217s 404ms/step - loss: 6.9903 - auc: 0.9403 - accuracy: 0.9473\n",
            "Epoch 59/60\n",
            "533/533 [==============================] - 194s 361ms/step - loss: 6.6459 - auc: 0.9446 - accuracy: 0.9483\n",
            "Epoch 60/60\n",
            "533/533 [==============================] - 193s 358ms/step - loss: 6.7637 - auc: 0.9421 - accuracy: 0.9458\n"
          ]
        }
      ]
    },
    {
      "cell_type": "code",
      "source": [
        "rgb_xyz_model.save('drive/MyDrive/checkpoints/rgb-xyz-model-60.h5')"
      ],
      "metadata": {
        "id": "XE1TA14e0zyy"
      },
      "execution_count": null,
      "outputs": []
    },
    {
      "cell_type": "code",
      "source": [
        "history =rgb_xyz_model.fit(train_ds,\n",
        "                        callbacks=callbacks,\n",
        "                        epochs=65,\n",
        "                        initial_epoch=60,\n",
        "                        class_weight=class_weight)"
      ],
      "metadata": {
        "id": "87qGescb-jH_",
        "outputId": "6ad21eb4-143f-482d-f36e-442987827315",
        "colab": {
          "base_uri": "https://localhost:8080/"
        }
      },
      "execution_count": null,
      "outputs": [
        {
          "output_type": "stream",
          "name": "stdout",
          "text": [
            "Epoch 61/65\n",
            "533/533 [==============================] - 194s 361ms/step - loss: 6.4579 - auc: 0.9457 - accuracy: 0.9491\n",
            "Epoch 62/65\n",
            "533/533 [==============================] - 191s 356ms/step - loss: 6.5886 - auc: 0.9428 - accuracy: 0.9468\n",
            "Epoch 63/65\n",
            "533/533 [==============================] - 191s 355ms/step - loss: 6.7383 - auc: 0.9431 - accuracy: 0.9479\n",
            "Epoch 64/65\n",
            "533/533 [==============================] - ETA: 0s - loss: 6.4305 - auc: 0.9449 - accuracy: 0.9484Restoring model weights from the end of the best epoch: 61.\n",
            "533/533 [==============================] - 187s 348ms/step - loss: 6.4305 - auc: 0.9449 - accuracy: 0.9484\n",
            "Epoch 64: early stopping\n"
          ]
        }
      ]
    },
    {
      "cell_type": "code",
      "source": [
        "rgb_xyz_model.save_weights('drive/MyDrive/checkpoints/rgb-xyz-model-61.h5')"
      ],
      "metadata": {
        "id": "NKMVuhr3-pRn"
      },
      "execution_count": null,
      "outputs": []
    }
  ],
  "metadata": {
    "colab": {
      "name": "xyz_model.ipynb",
      "provenance": [],
      "include_colab_link": true
    },
    "kernelspec": {
      "display_name": "Python 3",
      "name": "python3"
    },
    "language_info": {
      "name": "python"
    },
    "accelerator": "GPU"
  },
  "nbformat": 4,
  "nbformat_minor": 0
}