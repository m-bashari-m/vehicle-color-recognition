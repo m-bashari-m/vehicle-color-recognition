{
  "cells": [
    {
      "cell_type": "markdown",
      "metadata": {
        "id": "view-in-github",
        "colab_type": "text"
      },
      "source": [
        "<a href=\"https://colab.research.google.com/github/m-bashari-m/vehicle-color-recognition/blob/main/src/05_combined_model_v1.ipynb\" target=\"_parent\"><img src=\"https://colab.research.google.com/assets/colab-badge.svg\" alt=\"Open In Colab\"/></a>"
      ]
    },
    {
      "cell_type": "code",
      "execution_count": 1,
      "metadata": {
        "colab": {
          "base_uri": "https://localhost:8080/"
        },
        "id": "FaoIT7KdsydD",
        "outputId": "8f702b79-e90d-4fe5-8349-3bd9508a3254"
      },
      "outputs": [
        {
          "output_type": "stream",
          "name": "stdout",
          "text": [
            "--2022-06-18 13:15:37--  https://raw.githubusercontent.com/m-bashari-m/vehicle-color-recognition/main/src/utils.py\n",
            "Resolving raw.githubusercontent.com (raw.githubusercontent.com)... 185.199.108.133, 185.199.109.133, 185.199.110.133, ...\n",
            "Connecting to raw.githubusercontent.com (raw.githubusercontent.com)|185.199.108.133|:443... connected.\n",
            "HTTP request sent, awaiting response... 200 OK\n",
            "Length: 11745 (11K) [text/plain]\n",
            "Saving to: ‘utils.py’\n",
            "\n",
            "\rutils.py              0%[                    ]       0  --.-KB/s               \rutils.py            100%[===================>]  11.47K  --.-KB/s    in 0s      \n",
            "\n",
            "2022-06-18 13:15:37 (45.6 MB/s) - ‘utils.py’ saved [11745/11745]\n",
            "\n"
          ]
        }
      ],
      "source": [
        "!wget https://raw.githubusercontent.com/m-bashari-m/vehicle-color-recognition/main/src/utils.py"
      ]
    },
    {
      "cell_type": "code",
      "execution_count": 2,
      "metadata": {
        "colab": {
          "base_uri": "https://localhost:8080/"
        },
        "id": "HytB7-lTs7g5",
        "outputId": "886ce3e8-106f-48ab-9817-35654c263d82"
      },
      "outputs": [
        {
          "output_type": "stream",
          "name": "stdout",
          "text": [
            "Mounted at ./drive\n"
          ]
        }
      ],
      "source": [
        "from google.colab import drive\n",
        "drive.mount('./drive')"
      ]
    },
    {
      "cell_type": "code",
      "execution_count": 3,
      "metadata": {
        "id": "dQvl_Em4s8Oi",
        "outputId": "8d577cc3-12f1-45bf-e37f-12f41b14bb3d",
        "colab": {
          "base_uri": "https://localhost:8080/"
        }
      },
      "outputs": [
        {
          "output_type": "stream",
          "name": "stdout",
          "text": [
            "\u001b[K     |████████████████████████████████| 25.9 MB 75.5 MB/s \n",
            "\u001b[?25h"
          ]
        }
      ],
      "source": [
        "import os\n",
        "\n",
        "import tensorflow as tf\n",
        "from tensorflow import keras\n",
        "import tensorflow_hub as hub\n",
        "\n",
        "!pip install -q tensorflow-io\n",
        "import tensorflow_io as tfio\n",
        "\n",
        "from utils import get_train_val_ds, get_class_weight"
      ]
    },
    {
      "cell_type": "code",
      "execution_count": 4,
      "metadata": {
        "id": "S5qkZw4Ns8Z7"
      },
      "outputs": [],
      "source": [
        "BATCH_SIZE = 32\n",
        "IMG_SIZE = (256, 256)\n",
        "AUTOTUNE = tf.data.AUTOTUNE\n",
        "N_CLASSES = 16\n",
        "HUB_URL = 'https://tfhub.dev/google/bit/m-r50x1/1'"
      ]
    },
    {
      "cell_type": "code",
      "execution_count": 5,
      "metadata": {
        "id": "J8g_1jhQtDFq"
      },
      "outputs": [],
      "source": [
        "dataset_dir = os.path.join('drive', 'MyDrive', 'cars')\n",
        "train_dir = os.path.join(dataset_dir, 'train')\n",
        "val_dir = os.path.join(dataset_dir, 'val')"
      ]
    },
    {
      "cell_type": "code",
      "execution_count": 6,
      "metadata": {
        "id": "ZDdC4GywtEQh",
        "outputId": "9ab0143c-3bc9-44dc-bc4e-6ae5bdbf774e",
        "colab": {
          "base_uri": "https://localhost:8080/"
        }
      },
      "outputs": [
        {
          "output_type": "stream",
          "name": "stdout",
          "text": [
            "Found 16580 files belonging to 16 classes.\n",
            "Found 3508 files belonging to 16 classes.\n"
          ]
        }
      ],
      "source": [
        "train_ds, _ = get_train_val_ds(train_dir, val_dir, batch_size=BATCH_SIZE, img_size=IMG_SIZE)"
      ]
    },
    {
      "cell_type": "code",
      "execution_count": 7,
      "metadata": {
        "id": "VfXJuXaItHeC"
      },
      "outputs": [],
      "source": [
        "classes, class_weight = get_class_weight()"
      ]
    },
    {
      "cell_type": "code",
      "execution_count": 8,
      "metadata": {
        "id": "YUizq5ZwtHqM"
      },
      "outputs": [],
      "source": [
        "train_ds = (\n",
        "    train_ds.\n",
        "    map(lambda img, lbl: (img/255., lbl), num_parallel_calls=AUTOTUNE).\n",
        "    prefetch(AUTOTUNE))"
      ]
    },
    {
      "cell_type": "code",
      "source": [
        "target_shape = (32, 64, 1)\n",
        "\n",
        "rgb_input = keras.Input(shape=IMG_SIZE+(3,))\n",
        "hub_module = hub.KerasLayer(HUB_URL)\n",
        "\n",
        "rgb_features = hub_module(rgb_input)\n",
        "rgb_layer = keras.layers.Reshape(target_shape=target_shape)(rgb_features)\n",
        "\n",
        "xyz_input = tfio.experimental.color.rgb_to_xyz(rgb_input)\n",
        "xyz_features = hub_module(xyz_input)\n",
        "xyz_layer = keras.layers.Reshape(target_shape=target_shape)(xyz_features)\n",
        "\n",
        "hsv_input = tf.image.rgb_to_hsv(rgb_input)\n",
        "hsv_features = hub_module(hsv_input)\n",
        "hsv_layer = keras.layers.Reshape(target_shape=target_shape)(hsv_features)\n",
        "\n",
        "block = keras.layers.Concatenate()([rgb_layer, xyz_layer, hsv_layer])\n",
        "\n",
        "conv1 = keras.layers.Conv2D(filters=10,\n",
        "                            kernel_size=(2,2),\n",
        "                            strides=(1,2),\n",
        "                            padding='same',\n",
        "                            activation='relu')(block)\n",
        "\n",
        "conv2 = keras.layers.Conv2D(filters=20,\n",
        "                            kernel_size=(2,2),\n",
        "                            strides=(2,2),\n",
        "                            activation='relu')(conv1)\n",
        "\n",
        "avg_pool = keras.layers.AveragePooling2D(pool_size=(2,2))(conv2)\n",
        "\n",
        "conv3 = keras.layers.Conv2D(filters=20,\n",
        "                            kernel_size=(1,1),\n",
        "                            activation='relu')(avg_pool)\n",
        "\n",
        "flatten = keras.layers.Flatten()(conv3)\n",
        "\n",
        "output = keras.layers.Dense(N_CLASSES, activation='softmax')(flatten)\n",
        "\n",
        "model = keras.models.Model(inputs=[rgb_input], outputs=[output])"
      ],
      "metadata": {
        "id": "EyjtMBoD5lMN"
      },
      "execution_count": 9,
      "outputs": []
    },
    {
      "cell_type": "code",
      "source": [
        "model._name = 'combined-model'"
      ],
      "metadata": {
        "id": "x9Cf6BCzCHdO"
      },
      "execution_count": 10,
      "outputs": []
    },
    {
      "cell_type": "code",
      "source": [
        "metrics = [\n",
        "            keras.metrics.AUC(name='auc', curve='PR', num_thresholds=100),\n",
        "            'accuracy'\n",
        "          ]\n",
        "\n",
        "loss_fn = keras.losses.CategoricalCrossentropy()\n",
        "lr_schedule =tf.keras.optimizers.schedules.ExponentialDecay(1e-2, 533, .9)\n",
        "\n",
        "model.compile(loss=loss_fn,\n",
        "            optimizer=keras.optimizers.Adam(learning_rate=lr_schedule),\n",
        "            metrics=metrics)"
      ],
      "metadata": {
        "id": "ZtVjR1lMAlyA"
      },
      "execution_count": 11,
      "outputs": []
    },
    {
      "cell_type": "code",
      "source": [
        "early_stopping = keras.callbacks.EarlyStopping(\n",
        "                                              monitor='auc', \n",
        "                                              verbose=1,\n",
        "                                              patience=3,\n",
        "                                              restore_best_weights=True,\n",
        "                                              mode='max')\n",
        "\n",
        "check_point_path = os.path.join('./logs/checkpoints', model._name+\"-{epoch:02d}.h5\")\n",
        "check_point = keras.callbacks.ModelCheckpoint(\n",
        "                                            filepath=check_point_path,\n",
        "                                            monitor='auc',\n",
        "                                            save_best_only=True,\n",
        "                                            mode='max')\n",
        "        \n",
        "callbacks = [early_stopping, check_point]"
      ],
      "metadata": {
        "id": "auoSXmr3A4i3"
      },
      "execution_count": 12,
      "outputs": []
    },
    {
      "cell_type": "code",
      "execution_count": 13,
      "metadata": {
        "colab": {
          "base_uri": "https://localhost:8080/"
        },
        "id": "81hWi4y1utc0",
        "outputId": "1edbaee3-a1cf-478a-b934-bab736aa60ab"
      },
      "outputs": [
        {
          "output_type": "stream",
          "name": "stdout",
          "text": [
            "Epoch 1/20\n",
            "519/519 [==============================] - 1840s 3s/step - loss: 15.8601 - auc: 0.7678 - accuracy: 0.6863\n",
            "Epoch 2/20\n",
            "519/519 [==============================] - 416s 798ms/step - loss: 10.1916 - auc: 0.8661 - accuracy: 0.7778\n",
            "Epoch 3/20\n",
            "519/519 [==============================] - 418s 804ms/step - loss: 8.7507 - auc: 0.8847 - accuracy: 0.7975\n",
            "Epoch 4/20\n",
            "519/519 [==============================] - 418s 804ms/step - loss: 7.6248 - auc: 0.9046 - accuracy: 0.8198\n",
            "Epoch 5/20\n",
            "519/519 [==============================] - 419s 805ms/step - loss: 6.8611 - auc: 0.9178 - accuracy: 0.8328\n",
            "Epoch 6/20\n",
            "519/519 [==============================] - 419s 805ms/step - loss: 6.0437 - auc: 0.9287 - accuracy: 0.8471\n",
            "Epoch 7/20\n",
            "519/519 [==============================] - 419s 805ms/step - loss: 5.4428 - auc: 0.9364 - accuracy: 0.8581\n",
            "Epoch 8/20\n",
            "519/519 [==============================] - 419s 805ms/step - loss: 5.0344 - auc: 0.9421 - accuracy: 0.8679\n",
            "Epoch 9/20\n",
            "519/519 [==============================] - 419s 804ms/step - loss: 4.6162 - auc: 0.9478 - accuracy: 0.8745\n",
            "Epoch 10/20\n",
            "519/519 [==============================] - 419s 804ms/step - loss: 4.1010 - auc: 0.9548 - accuracy: 0.8836\n",
            "Epoch 11/20\n",
            "519/519 [==============================] - 419s 805ms/step - loss: 3.6685 - auc: 0.9603 - accuracy: 0.8973\n",
            "Epoch 12/20\n",
            "519/519 [==============================] - 419s 805ms/step - loss: 3.4077 - auc: 0.9631 - accuracy: 0.9056\n",
            "Epoch 13/20\n",
            "519/519 [==============================] - 419s 805ms/step - loss: 3.1549 - auc: 0.9663 - accuracy: 0.9087\n",
            "Epoch 14/20\n",
            "519/519 [==============================] - 419s 805ms/step - loss: 2.9080 - auc: 0.9702 - accuracy: 0.9166\n",
            "Epoch 15/20\n",
            "519/519 [==============================] - 418s 804ms/step - loss: 2.5801 - auc: 0.9731 - accuracy: 0.9232\n",
            "Epoch 16/20\n",
            "519/519 [==============================] - 419s 805ms/step - loss: 2.3789 - auc: 0.9763 - accuracy: 0.9277\n",
            "Epoch 17/20\n",
            "519/519 [==============================] - 419s 804ms/step - loss: 2.2411 - auc: 0.9766 - accuracy: 0.9335\n",
            "Epoch 18/20\n",
            "519/519 [==============================] - 419s 804ms/step - loss: 2.0645 - auc: 0.9801 - accuracy: 0.9400\n",
            "Epoch 19/20\n",
            "519/519 [==============================] - 418s 803ms/step - loss: 1.8823 - auc: 0.9819 - accuracy: 0.9427\n",
            "Epoch 20/20\n",
            "519/519 [==============================] - 419s 804ms/step - loss: 1.8007 - auc: 0.9828 - accuracy: 0.9451\n"
          ]
        }
      ],
      "source": [
        "history = model.fit(train_ds,\n",
        "                    callbacks=callbacks,\n",
        "                    epochs=20,\n",
        "                    class_weight=class_weight)"
      ]
    },
    {
      "cell_type": "code",
      "source": [
        "!cp ./logs/checkpoints/combined-model-10.h5 ./drive/MyDrive/checkpoints/combined-model-10.1.h5\n",
        "!cp ./logs/checkpoints/combined-model-15.h5 ./drive/MyDrive/checkpoints/combined-model-15.1.h5\n",
        "!cp ./logs/checkpoints/combined-model-20.h5 ./drive/MyDrive/checkpoints/combined-model-20.1.h5"
      ],
      "metadata": {
        "id": "FsbrLof_N6IJ"
      },
      "execution_count": 14,
      "outputs": []
    },
    {
      "cell_type": "code",
      "source": [
        "history = model.fit(train_ds,\n",
        "                        callbacks=callbacks,\n",
        "                        epochs=30,\n",
        "                        initial_epoch=20,\n",
        "                        class_weight=class_weight)"
      ],
      "metadata": {
        "id": "plnJlVzTONGL",
        "outputId": "ae6d3ac4-fa11-4316-e23e-bbacf63bf0bd",
        "colab": {
          "base_uri": "https://localhost:8080/"
        }
      },
      "execution_count": 15,
      "outputs": [
        {
          "output_type": "stream",
          "name": "stdout",
          "text": [
            "Epoch 21/30\n",
            "519/519 [==============================] - 419s 805ms/step - loss: 1.6773 - auc: 0.9835 - accuracy: 0.9476\n",
            "Epoch 22/30\n",
            "519/519 [==============================] - 419s 804ms/step - loss: 1.6029 - auc: 0.9848 - accuracy: 0.9497\n",
            "Epoch 23/30\n",
            "519/519 [==============================] - 419s 804ms/step - loss: 1.4878 - auc: 0.9859 - accuracy: 0.9527\n",
            "Epoch 24/30\n",
            "519/519 [==============================] - 419s 804ms/step - loss: 1.4111 - auc: 0.9869 - accuracy: 0.9562\n",
            "Epoch 25/30\n",
            "519/519 [==============================] - 419s 805ms/step - loss: 1.3436 - auc: 0.9876 - accuracy: 0.9578\n",
            "Epoch 26/30\n",
            "519/519 [==============================] - 419s 804ms/step - loss: 1.2742 - auc: 0.9880 - accuracy: 0.9603\n",
            "Epoch 27/30\n",
            "519/519 [==============================] - 419s 805ms/step - loss: 1.2097 - auc: 0.9892 - accuracy: 0.9615\n",
            "Epoch 28/30\n",
            "519/519 [==============================] - 419s 805ms/step - loss: 1.1573 - auc: 0.9894 - accuracy: 0.9654\n",
            "Epoch 29/30\n",
            "519/519 [==============================] - 419s 804ms/step - loss: 1.1211 - auc: 0.9901 - accuracy: 0.9650\n",
            "Epoch 30/30\n",
            "519/519 [==============================] - 419s 805ms/step - loss: 1.0735 - auc: 0.9903 - accuracy: 0.9677\n"
          ]
        }
      ]
    },
    {
      "cell_type": "code",
      "source": [
        "!cp ./logs/checkpoints/combined-model-25.h5 ./drive/MyDrive/checkpoints/combined-model-25.1.h5\n",
        "!cp ./logs/checkpoints/combined-model-30.h5 ./drive/MyDrive/checkpoints/combined-model-30.1.h5"
      ],
      "metadata": {
        "id": "ECMHZIydcbyp"
      },
      "execution_count": 16,
      "outputs": []
    },
    {
      "cell_type": "code",
      "source": [
        "history = model.fit(train_ds,\n",
        "                        callbacks=callbacks,\n",
        "                        epochs=35,\n",
        "                        initial_epoch=30,\n",
        "                        class_weight=class_weight)"
      ],
      "metadata": {
        "id": "00ctzAKmzS_k",
        "outputId": "650ad9d4-e51b-4067-dfae-dfe9ba0a76ff",
        "colab": {
          "base_uri": "https://localhost:8080/"
        }
      },
      "execution_count": 17,
      "outputs": [
        {
          "output_type": "stream",
          "name": "stdout",
          "text": [
            "Epoch 31/35\n",
            "519/519 [==============================] - 420s 806ms/step - loss: 1.0314 - auc: 0.9908 - accuracy: 0.9685\n",
            "Epoch 32/35\n",
            "519/519 [==============================] - 419s 804ms/step - loss: 0.9957 - auc: 0.9910 - accuracy: 0.9689\n",
            "Epoch 33/35\n",
            "519/519 [==============================] - 419s 805ms/step - loss: 0.9585 - auc: 0.9913 - accuracy: 0.9704\n",
            "Epoch 34/35\n",
            "519/519 [==============================] - 419s 804ms/step - loss: 0.9375 - auc: 0.9919 - accuracy: 0.9712\n",
            "Epoch 35/35\n",
            "519/519 [==============================] - 418s 804ms/step - loss: 0.9046 - auc: 0.9921 - accuracy: 0.9721\n"
          ]
        }
      ]
    },
    {
      "cell_type": "code",
      "source": [
        "!cp ./logs/checkpoints/combined-model-35.h5 ./drive/MyDrive/checkpoints/combined-model-35.1.h5"
      ],
      "metadata": {
        "id": "ExQavPEAzYV0"
      },
      "execution_count": 18,
      "outputs": []
    }
  ],
  "metadata": {
    "colab": {
      "name": "xyz_model.ipynb",
      "provenance": [],
      "include_colab_link": true
    },
    "kernelspec": {
      "display_name": "Python 3",
      "name": "python3"
    },
    "language_info": {
      "name": "python"
    },
    "accelerator": "GPU",
    "gpuClass": "standard"
  },
  "nbformat": 4,
  "nbformat_minor": 0
}