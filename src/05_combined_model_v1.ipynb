{
  "cells": [
    {
      "cell_type": "markdown",
      "metadata": {
        "id": "view-in-github",
        "colab_type": "text"
      },
      "source": [
        "<a href=\"https://colab.research.google.com/github/m-bashari-m/vehicle-color-recognition/blob/main/src/05_combined_model_v1.ipynb\" target=\"_parent\"><img src=\"https://colab.research.google.com/assets/colab-badge.svg\" alt=\"Open In Colab\"/></a>"
      ]
    },
    {
      "cell_type": "code",
      "source": [
        "!wget https://raw.githubusercontent.com/m-bashari-m/vehicle-color-recognition/main/src/utils.py"
      ],
      "metadata": {
        "id": "VCDu3EkUfYCK",
        "outputId": "977936b7-40a1-4f7b-d69d-08408b2fad03",
        "colab": {
          "base_uri": "https://localhost:8080/"
        }
      },
      "execution_count": 1,
      "outputs": [
        {
          "output_type": "stream",
          "name": "stdout",
          "text": [
            "--2022-06-27 02:01:32--  https://raw.githubusercontent.com/m-bashari-m/vehicle-color-recognition/main/src/utils.py\n",
            "Resolving raw.githubusercontent.com (raw.githubusercontent.com)... 185.199.108.133, 185.199.109.133, 185.199.110.133, ...\n",
            "Connecting to raw.githubusercontent.com (raw.githubusercontent.com)|185.199.108.133|:443... connected.\n",
            "HTTP request sent, awaiting response... 200 OK\n",
            "Length: 12110 (12K) [text/plain]\n",
            "Saving to: ‘utils.py’\n",
            "\n",
            "\rutils.py              0%[                    ]       0  --.-KB/s               \rutils.py            100%[===================>]  11.83K  --.-KB/s    in 0s      \n",
            "\n",
            "2022-06-27 02:01:32 (84.9 MB/s) - ‘utils.py’ saved [12110/12110]\n",
            "\n"
          ]
        }
      ]
    },
    {
      "cell_type": "code",
      "execution_count": 2,
      "metadata": {
        "colab": {
          "base_uri": "https://localhost:8080/"
        },
        "id": "HytB7-lTs7g5",
        "outputId": "fca6470d-af81-4f10-cb8f-80b2c1a4e181"
      },
      "outputs": [
        {
          "output_type": "stream",
          "name": "stdout",
          "text": [
            "Mounted at ./drive\n"
          ]
        }
      ],
      "source": [
        "from google.colab import drive\n",
        "drive.mount('./drive')"
      ]
    },
    {
      "cell_type": "code",
      "execution_count": 3,
      "metadata": {
        "id": "dQvl_Em4s8Oi",
        "outputId": "0ee46187-2fba-4d53-e718-607fcb6329f1",
        "colab": {
          "base_uri": "https://localhost:8080/"
        }
      },
      "outputs": [
        {
          "output_type": "stream",
          "name": "stdout",
          "text": [
            "\u001b[K     |████████████████████████████████| 25.9 MB 1.2 MB/s \n",
            "\u001b[?25h"
          ]
        }
      ],
      "source": [
        "import os\n",
        "\n",
        "import tensorflow as tf\n",
        "from tensorflow import keras\n",
        "import tensorflow_hub as hub\n",
        "\n",
        "!pip install -q tensorflow-io\n",
        "import tensorflow_io as tfio\n",
        "\n",
        "from utils import get_train_val_ds, get_class_weight"
      ]
    },
    {
      "cell_type": "code",
      "execution_count": 4,
      "metadata": {
        "id": "S5qkZw4Ns8Z7"
      },
      "outputs": [],
      "source": [
        "BATCH_SIZE = 16\n",
        "IMG_SIZE = (256, 256)\n",
        "AUTOTUNE = tf.data.AUTOTUNE\n",
        "N_CLASSES = 16\n",
        "HUB_URL = 'https://tfhub.dev/google/imagenet/efficientnet_v2_imagenet21k_ft1k_b3/feature_vector/2'"
      ]
    },
    {
      "cell_type": "code",
      "execution_count": 5,
      "metadata": {
        "id": "J8g_1jhQtDFq"
      },
      "outputs": [],
      "source": [
        "dataset_dir = os.path.join('drive', 'MyDrive', 'cars')\n",
        "train_dir = os.path.join(dataset_dir, 'train')\n",
        "val_dir = os.path.join(dataset_dir, 'val')"
      ]
    },
    {
      "cell_type": "code",
      "execution_count": 6,
      "metadata": {
        "id": "ZDdC4GywtEQh",
        "outputId": "4741d878-eb19-41a4-9dc1-53bffd186f8d",
        "colab": {
          "base_uri": "https://localhost:8080/"
        }
      },
      "outputs": [
        {
          "output_type": "stream",
          "name": "stdout",
          "text": [
            "Found 16580 files belonging to 16 classes.\n",
            "Found 3495 files belonging to 16 classes.\n"
          ]
        }
      ],
      "source": [
        "train_ds, val_ds = get_train_val_ds(train_dir, val_dir, batch_size=BATCH_SIZE, img_size=IMG_SIZE)"
      ]
    },
    {
      "cell_type": "code",
      "execution_count": 7,
      "metadata": {
        "id": "VfXJuXaItHeC"
      },
      "outputs": [],
      "source": [
        "classes, class_weight = get_class_weight()"
      ]
    },
    {
      "cell_type": "code",
      "execution_count": 8,
      "metadata": {
        "id": "YUizq5ZwtHqM"
      },
      "outputs": [],
      "source": [
        "train_ds = (\n",
        "    train_ds.\n",
        "    map(lambda img, lbl: (img/255., lbl), num_parallel_calls=AUTOTUNE).\n",
        "    prefetch(AUTOTUNE))\n",
        "\n",
        "val_ds = (\n",
        "    val_ds.\n",
        "    map(lambda img, lbl: (img/255., lbl), num_parallel_calls=AUTOTUNE).\n",
        "    prefetch(AUTOTUNE))"
      ]
    },
    {
      "cell_type": "code",
      "source": [
        "target_shape = (32, 48, 1)\n",
        "\n",
        "rgb_input = keras.Input(shape=IMG_SIZE+(3,))\n",
        "rgb_hub_module = hub.KerasLayer(HUB_URL, trainable=True)\n",
        "xyz_hub_module = hub.KerasLayer(HUB_URL, trainable=True)\n",
        "hsv_hub_module = hub.KerasLayer(HUB_URL, trainable=True)\n",
        "\n",
        "\n",
        "rgb_features = rgb_hub_module(rgb_input)\n",
        "rgb_layer = keras.layers.Reshape(target_shape=target_shape)(rgb_features)\n",
        "\n",
        "xyz_input = tfio.experimental.color.rgb_to_xyz(rgb_input)\n",
        "xyz_features = xyz_hub_module(xyz_input)\n",
        "xyz_layer = keras.layers.Reshape(target_shape=target_shape)(xyz_features)\n",
        "\n",
        "hsv_input = tf.image.rgb_to_hsv(rgb_input)\n",
        "hsv_features = hsv_hub_module(hsv_input)\n",
        "hsv_layer = keras.layers.Reshape(target_shape=target_shape)(hsv_features)\n",
        "\n",
        "block = keras.layers.Concatenate()([rgb_layer, xyz_layer, hsv_layer])\n",
        "\n",
        "conv1 = keras.layers.Conv2D(filters=10,\n",
        "                            kernel_size=(2,2),\n",
        "                            strides=(2,3),\n",
        "                            padding='same',\n",
        "                            activation='relu')(block)\n",
        "\n",
        "conv2 = keras.layers.Conv2D(filters=20,\n",
        "                            kernel_size=(2,2),\n",
        "                            strides=(2,2),\n",
        "                            activation='relu')(conv1)\n",
        "\n",
        "avg_pool = keras.layers.AveragePooling2D(pool_size=(2,2))(conv2)\n",
        "\n",
        "conv3 = keras.layers.Conv2D(filters=20,\n",
        "                            kernel_size=(1,1),\n",
        "                            activation='relu')(avg_pool)\n",
        "\n",
        "flatten = keras.layers.Flatten()(conv3)\n",
        "\n",
        "output = keras.layers.Dense(N_CLASSES, activation='softmax')(flatten)\n",
        "\n",
        "model = keras.models.Model(inputs=[rgb_input], outputs=[output])"
      ],
      "metadata": {
        "id": "EyjtMBoD5lMN"
      },
      "execution_count": 9,
      "outputs": []
    },
    {
      "cell_type": "code",
      "source": [
        "model._name = 'combined-model-v1'"
      ],
      "metadata": {
        "id": "x9Cf6BCzCHdO"
      },
      "execution_count": 10,
      "outputs": []
    },
    {
      "cell_type": "code",
      "source": [
        "metrics = [\n",
        "            keras.metrics.AUC(name='auc', curve='PR', num_thresholds=100),\n",
        "            'accuracy'\n",
        "          ]\n",
        "\n",
        "loss_fn = keras.losses.CategoricalCrossentropy()\n",
        "lr_schedule =tf.keras.optimizers.schedules.ExponentialDecay(1e-3, 500, .9)\n",
        "\n",
        "model.compile(loss=loss_fn,\n",
        "            optimizer=keras.optimizers.Adam(learning_rate=lr_schedule),\n",
        "            metrics=metrics)"
      ],
      "metadata": {
        "id": "ZtVjR1lMAlyA"
      },
      "execution_count": 11,
      "outputs": []
    },
    {
      "cell_type": "code",
      "source": [
        "early_stopping = keras.callbacks.EarlyStopping(\n",
        "                                              monitor='val_accuracy', \n",
        "                                              verbose=1,\n",
        "                                              patience=8,\n",
        "                                              mode='max')\n",
        "\n",
        "check_point_path = os.path.join('./logs/checkpoints', model._name)\n",
        "check_point = keras.callbacks.ModelCheckpoint(\n",
        "                                            filepath=check_point_path,\n",
        "                                            monitor='val_accuracy',\n",
        "                                            save_best_only=True,\n",
        "                                            mode='max')\n",
        "        \n",
        "callbacks = [early_stopping, check_point]"
      ],
      "metadata": {
        "id": "auoSXmr3A4i3"
      },
      "execution_count": 13,
      "outputs": []
    },
    {
      "cell_type": "code",
      "execution_count": 14,
      "metadata": {
        "colab": {
          "base_uri": "https://localhost:8080/"
        },
        "id": "81hWi4y1utc0",
        "outputId": "b54b425d-fa7f-487b-88c1-019a802f6912"
      },
      "outputs": [
        {
          "metadata": {
            "tags": null
          },
          "name": "stdout",
          "output_type": "stream",
          "text": [
            "Epoch 1/15\n",
            "1037/1037 [==============================] - ETA: 0s - loss: 19.3803 - auc: 0.6741 - accuracy: 0.6029"
          ]
        },
        {
          "metadata": {
            "tags": null
          },
          "name": "stderr",
          "output_type": "stream",
          "text": [
            "WARNING:absl:Found untraced functions such as restored_function_body, restored_function_body, restored_function_body, restored_function_body, restored_function_body while saving (showing 5 of 1494). These functions will not be directly callable after loading.\n"
          ]
        },
        {
          "metadata": {
            "tags": null
          },
          "name": "stdout",
          "output_type": "stream",
          "text": [
            "INFO:tensorflow:Assets written to: ./logs/checkpoints/combined-model-v1/assets\n"
          ]
        },
        {
          "metadata": {
            "tags": null
          },
          "name": "stderr",
          "output_type": "stream",
          "text": [
            "INFO:tensorflow:Assets written to: ./logs/checkpoints/combined-model-v1/assets\n"
          ]
        },
        {
          "metadata": {
            "tags": null
          },
          "name": "stdout",
          "output_type": "stream",
          "text": [
            "1037/1037 [==============================] - 2472s 2s/step - loss: 19.3803 - auc: 0.6741 - accuracy: 0.6029 - val_loss: 1.1515 - val_auc: 0.7181 - val_accuracy: 0.6255\n",
            "Epoch 2/15\n",
            "1037/1037 [==============================] - ETA: 0s - loss: 12.5516 - auc: 0.8228 - accuracy: 0.7368"
          ]
        },
        {
          "metadata": {
            "tags": null
          },
          "name": "stderr",
          "output_type": "stream",
          "text": [
            "WARNING:absl:Found untraced functions such as restored_function_body, restored_function_body, restored_function_body, restored_function_body, restored_function_body while saving (showing 5 of 1494). These functions will not be directly callable after loading.\n"
          ]
        },
        {
          "metadata": {
            "tags": null
          },
          "name": "stdout",
          "output_type": "stream",
          "text": [
            "INFO:tensorflow:Assets written to: ./logs/checkpoints/combined-model-v1/assets\n"
          ]
        },
        {
          "metadata": {
            "tags": null
          },
          "name": "stderr",
          "output_type": "stream",
          "text": [
            "INFO:tensorflow:Assets written to: ./logs/checkpoints/combined-model-v1/assets\n"
          ]
        },
        {
          "metadata": {
            "tags": null
          },
          "name": "stdout",
          "output_type": "stream",
          "text": [
            "1037/1037 [==============================] - 780s 751ms/step - loss: 12.5516 - auc: 0.8228 - accuracy: 0.7368 - val_loss: 1.0451 - val_auc: 0.7339 - val_accuracy: 0.6549\n",
            "Epoch 3/15\n",
            "1037/1037 [==============================] - ETA: 0s - loss: 9.7693 - auc: 0.8800 - accuracy: 0.7923"
          ]
        },
        {
          "metadata": {
            "tags": null
          },
          "name": "stderr",
          "output_type": "stream",
          "text": [
            "WARNING:absl:Found untraced functions such as restored_function_body, restored_function_body, restored_function_body, restored_function_body, restored_function_body while saving (showing 5 of 1494). These functions will not be directly callable after loading.\n"
          ]
        },
        {
          "metadata": {
            "tags": null
          },
          "name": "stdout",
          "output_type": "stream",
          "text": [
            "INFO:tensorflow:Assets written to: ./logs/checkpoints/combined-model-v1/assets\n"
          ]
        },
        {
          "metadata": {
            "tags": null
          },
          "name": "stderr",
          "output_type": "stream",
          "text": [
            "INFO:tensorflow:Assets written to: ./logs/checkpoints/combined-model-v1/assets\n"
          ]
        },
        {
          "metadata": {
            "tags": null
          },
          "name": "stdout",
          "output_type": "stream",
          "text": [
            "1037/1037 [==============================] - 779s 751ms/step - loss: 9.7693 - auc: 0.8800 - accuracy: 0.7923 - val_loss: 0.9006 - val_auc: 0.8039 - val_accuracy: 0.7110\n",
            "Epoch 4/15\n",
            "1037/1037 [==============================] - ETA: 0s - loss: 7.7238 - auc: 0.9138 - accuracy: 0.8305"
          ]
        },
        {
          "metadata": {
            "tags": null
          },
          "name": "stderr",
          "output_type": "stream",
          "text": [
            "WARNING:absl:Found untraced functions such as restored_function_body, restored_function_body, restored_function_body, restored_function_body, restored_function_body while saving (showing 5 of 1494). These functions will not be directly callable after loading.\n"
          ]
        },
        {
          "metadata": {
            "tags": null
          },
          "name": "stdout",
          "output_type": "stream",
          "text": [
            "INFO:tensorflow:Assets written to: ./logs/checkpoints/combined-model-v1/assets\n"
          ]
        },
        {
          "metadata": {
            "tags": null
          },
          "name": "stderr",
          "output_type": "stream",
          "text": [
            "INFO:tensorflow:Assets written to: ./logs/checkpoints/combined-model-v1/assets\n"
          ]
        },
        {
          "metadata": {
            "tags": null
          },
          "name": "stdout",
          "output_type": "stream",
          "text": [
            "1037/1037 [==============================] - 779s 751ms/step - loss: 7.7238 - auc: 0.9138 - accuracy: 0.8305 - val_loss: 0.9711 - val_auc: 0.7991 - val_accuracy: 0.7179\n",
            "Epoch 5/15\n",
            "1037/1037 [==============================] - ETA: 0s - loss: 5.7379 - auc: 0.9414 - accuracy: 0.8686"
          ]
        },
        {
          "metadata": {
            "tags": null
          },
          "name": "stderr",
          "output_type": "stream",
          "text": [
            "WARNING:absl:Found untraced functions such as restored_function_body, restored_function_body, restored_function_body, restored_function_body, restored_function_body while saving (showing 5 of 1494). These functions will not be directly callable after loading.\n"
          ]
        },
        {
          "metadata": {
            "tags": null
          },
          "name": "stdout",
          "output_type": "stream",
          "text": [
            "INFO:tensorflow:Assets written to: ./logs/checkpoints/combined-model-v1/assets\n"
          ]
        },
        {
          "metadata": {
            "tags": null
          },
          "name": "stderr",
          "output_type": "stream",
          "text": [
            "INFO:tensorflow:Assets written to: ./logs/checkpoints/combined-model-v1/assets\n"
          ]
        },
        {
          "metadata": {
            "tags": null
          },
          "name": "stdout",
          "output_type": "stream",
          "text": [
            "1037/1037 [==============================] - 782s 753ms/step - loss: 5.7379 - auc: 0.9414 - accuracy: 0.8686 - val_loss: 0.9826 - val_auc: 0.7945 - val_accuracy: 0.7419\n",
            "Epoch 6/15\n",
            "1037/1037 [==============================] - ETA: 0s - loss: 4.2354 - auc: 0.9622 - accuracy: 0.9026"
          ]
        },
        {
          "metadata": {
            "tags": null
          },
          "name": "stderr",
          "output_type": "stream",
          "text": [
            "WARNING:absl:Found untraced functions such as restored_function_body, restored_function_body, restored_function_body, restored_function_body, restored_function_body while saving (showing 5 of 1494). These functions will not be directly callable after loading.\n"
          ]
        },
        {
          "metadata": {
            "tags": null
          },
          "name": "stdout",
          "output_type": "stream",
          "text": [
            "INFO:tensorflow:Assets written to: ./logs/checkpoints/combined-model-v1/assets\n"
          ]
        },
        {
          "metadata": {
            "tags": null
          },
          "name": "stderr",
          "output_type": "stream",
          "text": [
            "INFO:tensorflow:Assets written to: ./logs/checkpoints/combined-model-v1/assets\n"
          ]
        },
        {
          "metadata": {
            "tags": null
          },
          "name": "stdout",
          "output_type": "stream",
          "text": [
            "1037/1037 [==============================] - 780s 751ms/step - loss: 4.2354 - auc: 0.9622 - accuracy: 0.9026 - val_loss: 0.8709 - val_auc: 0.8450 - val_accuracy: 0.7960\n",
            "Epoch 7/15\n",
            "1037/1037 [==============================] - ETA: 0s - loss: 3.1116 - auc: 0.9755 - accuracy: 0.9239"
          ]
        },
        {
          "metadata": {
            "tags": null
          },
          "name": "stderr",
          "output_type": "stream",
          "text": [
            "WARNING:absl:Found untraced functions such as restored_function_body, restored_function_body, restored_function_body, restored_function_body, restored_function_body while saving (showing 5 of 1494). These functions will not be directly callable after loading.\n"
          ]
        },
        {
          "metadata": {
            "tags": null
          },
          "name": "stdout",
          "output_type": "stream",
          "text": [
            "INFO:tensorflow:Assets written to: ./logs/checkpoints/combined-model-v1/assets\n"
          ]
        },
        {
          "metadata": {
            "tags": null
          },
          "name": "stderr",
          "output_type": "stream",
          "text": [
            "INFO:tensorflow:Assets written to: ./logs/checkpoints/combined-model-v1/assets\n"
          ]
        },
        {
          "metadata": {
            "tags": null
          },
          "name": "stdout",
          "output_type": "stream",
          "text": [
            "1037/1037 [==============================] - 780s 752ms/step - loss: 3.1116 - auc: 0.9755 - accuracy: 0.9239 - val_loss: 0.8803 - val_auc: 0.8544 - val_accuracy: 0.8046\n",
            "Epoch 8/15\n",
            "1037/1037 [==============================] - 727s 700ms/step - loss: 2.0482 - auc: 0.9853 - accuracy: 0.9466 - val_loss: 0.9873 - val_auc: 0.8385 - val_accuracy: 0.7989\n",
            "Epoch 9/15\n",
            "1037/1037 [==============================] - 728s 701ms/step - loss: 1.5154 - auc: 0.9911 - accuracy: 0.9623 - val_loss: 1.0589 - val_auc: 0.8247 - val_accuracy: 0.7894\n",
            "Epoch 10/15\n",
            "1037/1037 [==============================] - 728s 702ms/step - loss: 1.0439 - auc: 0.9947 - accuracy: 0.9722 - val_loss: 1.0081 - val_auc: 0.8420 - val_accuracy: 0.8034\n",
            "Epoch 11/15\n",
            "1037/1037 [==============================] - 728s 701ms/step - loss: 0.7486 - auc: 0.9961 - accuracy: 0.9793 - val_loss: 1.0416 - val_auc: 0.8359 - val_accuracy: 0.8046\n",
            "Epoch 12/15\n",
            "1037/1037 [==============================] - 729s 702ms/step - loss: 0.5971 - auc: 0.9972 - accuracy: 0.9842 - val_loss: 1.1952 - val_auc: 0.8180 - val_accuracy: 0.8017\n",
            "Epoch 13/15\n",
            "1037/1037 [==============================] - 727s 701ms/step - loss: 0.4712 - auc: 0.9984 - accuracy: 0.9879 - val_loss: 1.2631 - val_auc: 0.8171 - val_accuracy: 0.8003\n",
            "Epoch 14/15\n",
            "1037/1037 [==============================] - ETA: 0s - loss: 0.3290 - auc: 0.9981 - accuracy: 0.9905"
          ]
        },
        {
          "metadata": {
            "tags": null
          },
          "name": "stderr",
          "output_type": "stream",
          "text": [
            "WARNING:absl:Found untraced functions such as restored_function_body, restored_function_body, restored_function_body, restored_function_body, restored_function_body while saving (showing 5 of 1494). These functions will not be directly callable after loading.\n"
          ]
        },
        {
          "metadata": {
            "tags": null
          },
          "name": "stdout",
          "output_type": "stream",
          "text": [
            "INFO:tensorflow:Assets written to: ./logs/checkpoints/combined-model-v1/assets\n"
          ]
        },
        {
          "metadata": {
            "tags": null
          },
          "name": "stderr",
          "output_type": "stream",
          "text": [
            "INFO:tensorflow:Assets written to: ./logs/checkpoints/combined-model-v1/assets\n"
          ]
        },
        {
          "metadata": {
            "tags": null
          },
          "name": "stdout",
          "output_type": "stream",
          "text": [
            "1037/1037 [==============================] - 782s 753ms/step - loss: 0.3290 - auc: 0.9981 - accuracy: 0.9905 - val_loss: 1.1227 - val_auc: 0.8423 - val_accuracy: 0.8240\n",
            "Epoch 15/15\n",
            "1037/1037 [==============================] - 727s 701ms/step - loss: 0.2894 - auc: 0.9992 - accuracy: 0.9916 - val_loss: 1.2316 - val_auc: 0.8326 - val_accuracy: 0.8160\n"
          ]
        }
      ],
      "source": [
        "history = model.fit(train_ds,\n",
        "                    callbacks=callbacks,\n",
        "                    epochs=15,\n",
        "                    validation_data=val_ds,\n",
        "                    class_weight=class_weight)"
      ]
    },
    {
      "cell_type": "code",
      "source": [
        "!cp  -r /content/logs/checkpoints/combined-model-v1 /content/drive/MyDrive/checkpoints/combined-v1"
      ],
      "metadata": {
        "id": "T4urwLgDhEo4"
      },
      "execution_count": 15,
      "outputs": []
    }
  ],
  "metadata": {
    "colab": {
      "name": "xyz_model.ipynb",
      "provenance": [],
      "include_colab_link": true
    },
    "kernelspec": {
      "display_name": "Python 3",
      "name": "python3"
    },
    "language_info": {
      "name": "python"
    },
    "accelerator": "GPU",
    "gpuClass": "standard"
  },
  "nbformat": 4,
  "nbformat_minor": 0
}