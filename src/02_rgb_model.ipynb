{
  "cells": [
    {
      "cell_type": "markdown",
      "metadata": {
        "id": "view-in-github",
        "colab_type": "text"
      },
      "source": [
        "<a href=\"https://colab.research.google.com/github/m-bashari-m/vehicle-color-recognition/blob/main/src/02_rgb_model.ipynb\" target=\"_parent\"><img src=\"https://colab.research.google.com/assets/colab-badge.svg\" alt=\"Open In Colab\"/></a>"
      ]
    },
    {
      "cell_type": "code",
      "execution_count": 1,
      "metadata": {
        "colab": {
          "base_uri": "https://localhost:8080/"
        },
        "id": "lo1t1tO9y6L4",
        "outputId": "eaf7fb1d-95e1-478c-b8a7-4f2d59ec36cd"
      },
      "outputs": [
        {
          "output_type": "stream",
          "name": "stdout",
          "text": [
            "--2022-07-20 15:37:35--  https://raw.githubusercontent.com/m-bashari-m/vehicle-color-recognition/main/src/utils.py\n",
            "Resolving raw.githubusercontent.com (raw.githubusercontent.com)... 185.199.108.133, 185.199.109.133, 185.199.110.133, ...\n",
            "Connecting to raw.githubusercontent.com (raw.githubusercontent.com)|185.199.108.133|:443... connected.\n",
            "HTTP request sent, awaiting response... 200 OK\n",
            "Length: 11848 (12K) [text/plain]\n",
            "Saving to: ‘utils.py.1’\n",
            "\n",
            "\rutils.py.1            0%[                    ]       0  --.-KB/s               \rutils.py.1          100%[===================>]  11.57K  --.-KB/s    in 0s      \n",
            "\n",
            "2022-07-20 15:37:35 (92.9 MB/s) - ‘utils.py.1’ saved [11848/11848]\n",
            "\n"
          ]
        }
      ],
      "source": [
        "# Prepare utils file\n",
        "\n",
        "!wget https://raw.githubusercontent.com/m-bashari-m/vehicle-color-recognition/main/src/utils.py"
      ]
    },
    {
      "cell_type": "code",
      "execution_count": 2,
      "metadata": {
        "colab": {
          "base_uri": "https://localhost:8080/"
        },
        "id": "bRdIPsPcp2OF",
        "outputId": "4acaf4b9-b44c-4fb8-c7eb-72428040a25a"
      },
      "outputs": [
        {
          "output_type": "stream",
          "name": "stdout",
          "text": [
            "Drive already mounted at ./drive; to attempt to forcibly remount, call drive.mount(\"./drive\", force_remount=True).\n"
          ]
        }
      ],
      "source": [
        "from google.colab import drive\n",
        "drive.mount('./drive')"
      ]
    },
    {
      "cell_type": "code",
      "execution_count": 3,
      "metadata": {
        "id": "OqaOJQP4krhr"
      },
      "outputs": [],
      "source": [
        "import pandas as pd\n",
        "import numpy as np\n",
        "import os\n",
        "\n",
        "import tensorflow as tf\n",
        "from tensorflow import keras\n",
        "import tensorflow_hub as hub\n",
        "\n",
        "from utils import ModelCreator, get_train_val_ds, ErrorAnalyzer, get_class_weight"
      ]
    },
    {
      "cell_type": "code",
      "execution_count": 4,
      "metadata": {
        "id": "3b2ik0jzro3S"
      },
      "outputs": [],
      "source": [
        "BATCH_SIZE = 32\n",
        "IMG_SIZE = (256, 256)\n",
        "AUTOTUNE = tf.data.AUTOTUNE\n",
        "N_CLASSES = 16\n",
        "HUB_URL = 'https://tfhub.dev/google/imagenet/efficientnet_v2_imagenet21k_ft1k_b3/feature_vector/2'"
      ]
    },
    {
      "cell_type": "code",
      "execution_count": 5,
      "metadata": {
        "id": "fdtpr6ZArLEQ"
      },
      "outputs": [],
      "source": [
        "dataset_dir = os.path.join('drive', 'MyDrive', 'data')\n",
        "train_dir = os.path.join(dataset_dir, 'train')\n",
        "val_dir = os.path.join(dataset_dir, 'val')"
      ]
    },
    {
      "cell_type": "markdown",
      "source": [
        "Found 16580 files belonging to 16 classes.\n",
        "Found 3510 files belonging to 16 classes."
      ],
      "metadata": {
        "id": "rV453uqP9y0j"
      }
    },
    {
      "cell_type": "markdown",
      "source": [
        "beige     \t=> 17.94\n",
        "black     \t=> 13.8\n",
        "blue     \t=> 15.47\n",
        "brown     \t=> 17.92\n",
        "cream     \t=> 56.81\n",
        "crimson     \t=> 76.43\n",
        "gold     \t=> 56.81\n",
        "green     \t=> 21.2\n",
        "grey     \t=> 12.41\n",
        "navy-blue     \t=> 58.77\n",
        "orange     \t=> 22.37\n",
        "red     \t=> 16.39\n",
        "silver     \t=> 20.17\n",
        "titanium     \t=> 56.81\n",
        "white     \t=> 2.97\n",
        "yellow     \t=> 20.68"
      ],
      "metadata": {
        "id": "mI2Bu_OK92U5"
      }
    },
    {
      "cell_type": "code",
      "execution_count": 6,
      "metadata": {
        "colab": {
          "base_uri": "https://localhost:8080/"
        },
        "id": "2Aqeb_chrbtm",
        "outputId": "e598573b-0131-493f-bed7-122ef8f56762"
      },
      "outputs": [
        {
          "output_type": "stream",
          "name": "stdout",
          "text": [
            "Found 20092 files belonging to 16 classes.\n",
            "Found 3495 files belonging to 16 classes.\n"
          ]
        }
      ],
      "source": [
        "# Get shuffled train and validation dataset with one-hot labels\n",
        "\n",
        "train_ds, val_ds = get_train_val_ds(train_dir, val_dir, batch_size=BATCH_SIZE, img_size=IMG_SIZE)"
      ]
    },
    {
      "cell_type": "code",
      "execution_count": 7,
      "metadata": {
        "id": "gDHgOmiOonos"
      },
      "outputs": [],
      "source": [
        "# Get class weights which have calculated from the previous notebook and stored in github\n",
        "\n",
        "classes, class_weight = get_class_weight()"
      ]
    },
    {
      "cell_type": "code",
      "execution_count": 8,
      "metadata": {
        "colab": {
          "base_uri": "https://localhost:8080/"
        },
        "id": "KUMoLJLRpBiS",
        "outputId": "46966fd7-0fce-4897-fc3c-c58b9e6c4deb"
      },
      "outputs": [
        {
          "output_type": "stream",
          "name": "stdout",
          "text": [
            "beige     \t=> 21.15\n",
            "black     \t=> 16.27\n",
            "blue     \t=> 18.23\n",
            "brown     \t=> 21.13\n",
            "cream     \t=> 22.32\n",
            "crimson     \t=> 22.52\n",
            "gold     \t=> 22.32\n",
            "green     \t=> 24.99\n",
            "grey     \t=> 14.63\n",
            "navy-blue     \t=> 23.09\n",
            "orange     \t=> 26.37\n",
            "red     \t=> 19.32\n",
            "silver     \t=> 23.78\n",
            "titanium     \t=> 22.32\n",
            "white     \t=> 3.5\n",
            "yellow     \t=> 24.38\n"
          ]
        }
      ],
      "source": [
        "for color, weight in zip(classes, class_weight.values()):\n",
        "  print(color, \"    \\t=>\", weight)"
      ]
    },
    {
      "cell_type": "code",
      "execution_count": 9,
      "metadata": {
        "id": "HTaqr5PL3RI5"
      },
      "outputs": [],
      "source": [
        "train_ds = (\n",
        "    train_ds.\n",
        "    map(lambda img, lbl: (img/255., lbl), num_parallel_calls=AUTOTUNE).\n",
        "    prefetch(AUTOTUNE))\n",
        "\n",
        "val_ds = (\n",
        "    val_ds.\n",
        "    map(lambda img, lbl: (img/255., lbl), num_parallel_calls=AUTOTUNE).\n",
        "    prefetch(AUTOTUNE))"
      ]
    },
    {
      "cell_type": "code",
      "execution_count": 10,
      "metadata": {
        "id": "jxQRFlkkwx97",
        "outputId": "2ce86707-559c-42ee-8f5e-34bf9969b25a",
        "colab": {
          "base_uri": "https://localhost:8080/"
        }
      },
      "outputs": [
        {
          "output_type": "stream",
          "name": "stdout",
          "text": [
            "Model: \"RGB-model\"\n",
            "_________________________________________________________________\n",
            " Layer (type)                Output Shape              Param #   \n",
            "=================================================================\n",
            " keras_layer (KerasLayer)    (None, 1536)              12930622  \n",
            "                                                                 \n",
            " dense (Dense)               (None, 16)                24592     \n",
            "                                                                 \n",
            "=================================================================\n",
            "Total params: 12,955,214\n",
            "Trainable params: 12,845,998\n",
            "Non-trainable params: 109,216\n",
            "_________________________________________________________________\n"
          ]
        }
      ],
      "source": [
        "rgb_creator = ModelCreator(HUB_URL, 'RGB-model')\n",
        "rgb_model = rgb_creator.make_model(img_size=IMG_SIZE)"
      ]
    },
    {
      "cell_type": "code",
      "source": [
        "# Callbacks are EarlyStopping and ModelCheckpoint\n",
        "\n",
        "callbacks = rgb_creator.get_callbacks()"
      ],
      "metadata": {
        "id": "jm7eCvLpb8CN"
      },
      "execution_count": 11,
      "outputs": []
    },
    {
      "cell_type": "code",
      "source": [
        "history = rgb_model.fit(train_ds,\n",
        "                        callbacks=callbacks,\n",
        "                        epochs=15,\n",
        "                        validation_data=val_ds,\n",
        "                        class_weight=class_weight)"
      ],
      "metadata": {
        "id": "8z71vSshIzN4",
        "outputId": "c7cface4-ea65-4dbb-e642-ccbbab8abb1f",
        "colab": {
          "base_uri": "https://localhost:8080/"
        }
      },
      "execution_count": 12,
      "outputs": [
        {
          "output_type": "stream",
          "name": "stdout",
          "text": [
            "Epoch 1/15\n",
            "628/628 [==============================] - 634s 976ms/step - loss: 11.6381 - auc: 0.8527 - accuracy: 0.7673 - val_loss: 0.6813 - val_auc: 0.8725 - val_accuracy: 0.7854\n",
            "Epoch 2/15\n",
            "628/628 [==============================] - 269s 426ms/step - loss: 6.7064 - auc: 0.9346 - accuracy: 0.8594 - val_loss: 0.6945 - val_auc: 0.8704 - val_accuracy: 0.7894\n",
            "Epoch 3/15\n",
            "628/628 [==============================] - 268s 426ms/step - loss: 4.7788 - auc: 0.9607 - accuracy: 0.8970 - val_loss: 0.8397 - val_auc: 0.8753 - val_accuracy: 0.8120\n",
            "Epoch 4/15\n",
            "628/628 [==============================] - 267s 424ms/step - loss: 3.6380 - auc: 0.9746 - accuracy: 0.9248 - val_loss: 0.8163 - val_auc: 0.8442 - val_accuracy: 0.7828\n",
            "Epoch 5/15\n",
            "628/628 [==============================] - 269s 426ms/step - loss: 2.7398 - auc: 0.9827 - accuracy: 0.9375 - val_loss: 0.6579 - val_auc: 0.8964 - val_accuracy: 0.8363\n",
            "Epoch 6/15\n",
            "628/628 [==============================] - 273s 432ms/step - loss: 2.0308 - auc: 0.9888 - accuracy: 0.9539 - val_loss: 0.8665 - val_auc: 0.8664 - val_accuracy: 0.8343\n",
            "Epoch 7/15\n",
            "628/628 [==============================] - 269s 427ms/step - loss: 1.3699 - auc: 0.9932 - accuracy: 0.9696 - val_loss: 0.8079 - val_auc: 0.8781 - val_accuracy: 0.8441\n",
            "Epoch 8/15\n",
            "628/628 [==============================] - 267s 424ms/step - loss: 1.1017 - auc: 0.9942 - accuracy: 0.9739 - val_loss: 0.9892 - val_auc: 0.8433 - val_accuracy: 0.8175\n",
            "Epoch 9/15\n",
            "628/628 [==============================] - 267s 424ms/step - loss: 0.8143 - auc: 0.9971 - accuracy: 0.9814 - val_loss: 0.9260 - val_auc: 0.8536 - val_accuracy: 0.8352\n",
            "Epoch 10/15\n",
            "628/628 [==============================] - 268s 425ms/step - loss: 0.5884 - auc: 0.9975 - accuracy: 0.9868 - val_loss: 0.9241 - val_auc: 0.8622 - val_accuracy: 0.8375\n",
            "Epoch 11/15\n",
            "628/628 [==============================] - 269s 427ms/step - loss: 0.4818 - auc: 0.9989 - accuracy: 0.9890 - val_loss: 0.9868 - val_auc: 0.8617 - val_accuracy: 0.8492\n",
            "Epoch 12/15\n",
            "628/628 [==============================] - 268s 425ms/step - loss: 0.3656 - auc: 0.9985 - accuracy: 0.9919 - val_loss: 1.1918 - val_auc: 0.8351 - val_accuracy: 0.8303\n",
            "Epoch 13/15\n",
            "628/628 [==============================] - 269s 426ms/step - loss: 0.2893 - auc: 0.9986 - accuracy: 0.9929 - val_loss: 0.9899 - val_auc: 0.8626 - val_accuracy: 0.8578\n",
            "Epoch 14/15\n",
            "628/628 [==============================] - 266s 423ms/step - loss: 0.2607 - auc: 0.9990 - accuracy: 0.9946 - val_loss: 1.1503 - val_auc: 0.8509 - val_accuracy: 0.8498\n",
            "Epoch 15/15\n",
            "628/628 [==============================] - 267s 423ms/step - loss: 0.1986 - auc: 0.9993 - accuracy: 0.9953 - val_loss: 1.1286 - val_auc: 0.8553 - val_accuracy: 0.8515\n"
          ]
        }
      ]
    },
    {
      "cell_type": "code",
      "source": [
        "!cp ./logs/checkpoints/RGB-model.h5 ./drive/MyDrive/checkpoints/rgb-model-aug.h5"
      ],
      "metadata": {
        "id": "r8SwGzblJcoY"
      },
      "execution_count": 13,
      "outputs": []
    }
  ],
  "metadata": {
    "accelerator": "GPU",
    "colab": {
      "name": "rgb_model.ipynb",
      "provenance": [],
      "include_colab_link": true
    },
    "kernelspec": {
      "display_name": "Python 3 (ipykernel)",
      "language": "python",
      "name": "python3"
    },
    "language_info": {
      "codemirror_mode": {
        "name": "ipython",
        "version": 3
      },
      "file_extension": ".py",
      "mimetype": "text/x-python",
      "name": "python",
      "nbconvert_exporter": "python",
      "pygments_lexer": "ipython3",
      "version": "3.8.10"
    },
    "gpuClass": "standard"
  },
  "nbformat": 4,
  "nbformat_minor": 0
}