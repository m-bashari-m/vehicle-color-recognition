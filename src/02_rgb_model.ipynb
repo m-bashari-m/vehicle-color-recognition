{
  "cells": [
    {
      "cell_type": "markdown",
      "metadata": {
        "id": "view-in-github",
        "colab_type": "text"
      },
      "source": [
        "<a href=\"https://colab.research.google.com/github/m-bashari-m/vehicle-color-recognition/blob/main/src/02_rgb_model.ipynb\" target=\"_parent\"><img src=\"https://colab.research.google.com/assets/colab-badge.svg\" alt=\"Open In Colab\"/></a>"
      ]
    },
    {
      "cell_type": "code",
      "execution_count": 1,
      "metadata": {
        "colab": {
          "base_uri": "https://localhost:8080/"
        },
        "id": "lo1t1tO9y6L4",
        "outputId": "48528002-99e1-4efd-f4f9-9e71bd4c4d37"
      },
      "outputs": [
        {
          "output_type": "stream",
          "name": "stdout",
          "text": [
            "--2022-06-20 20:18:42--  https://raw.githubusercontent.com/m-bashari-m/vehicle-color-recognition/main/src/utils.py\n",
            "Resolving raw.githubusercontent.com (raw.githubusercontent.com)... 185.199.109.133, 185.199.108.133, 185.199.110.133, ...\n",
            "Connecting to raw.githubusercontent.com (raw.githubusercontent.com)|185.199.109.133|:443... connected.\n",
            "HTTP request sent, awaiting response... 200 OK\n",
            "Length: 12074 (12K) [text/plain]\n",
            "Saving to: ‘utils.py’\n",
            "\n",
            "\rutils.py              0%[                    ]       0  --.-KB/s               \rutils.py            100%[===================>]  11.79K  --.-KB/s    in 0s      \n",
            "\n",
            "2022-06-20 20:18:42 (121 MB/s) - ‘utils.py’ saved [12074/12074]\n",
            "\n"
          ]
        }
      ],
      "source": [
        "# Prepare utils file\n",
        "\n",
        "!wget https://raw.githubusercontent.com/m-bashari-m/vehicle-color-recognition/main/src/utils.py"
      ]
    },
    {
      "cell_type": "code",
      "execution_count": 2,
      "metadata": {
        "colab": {
          "base_uri": "https://localhost:8080/"
        },
        "id": "bRdIPsPcp2OF",
        "outputId": "8e2f2b27-1a2b-48d6-9208-db0470d53206"
      },
      "outputs": [
        {
          "output_type": "stream",
          "name": "stdout",
          "text": [
            "Mounted at ./drive\n"
          ]
        }
      ],
      "source": [
        "from google.colab import drive\n",
        "drive.mount('./drive')"
      ]
    },
    {
      "cell_type": "code",
      "execution_count": 3,
      "metadata": {
        "id": "OqaOJQP4krhr"
      },
      "outputs": [],
      "source": [
        "import pandas as pd\n",
        "import numpy as np\n",
        "import os\n",
        "\n",
        "import tensorflow as tf\n",
        "from tensorflow import keras\n",
        "import tensorflow_hub as hub\n",
        "\n",
        "from utils import ModelCreator, get_train_val_ds, ErrorAnalyzer, get_class_weight"
      ]
    },
    {
      "cell_type": "code",
      "execution_count": 4,
      "metadata": {
        "id": "3b2ik0jzro3S"
      },
      "outputs": [],
      "source": [
        "BATCH_SIZE = 32\n",
        "IMG_SIZE = (256, 256)\n",
        "AUTOTUNE = tf.data.AUTOTUNE\n",
        "N_CLASSES = 16\n",
        "HUB_URL = 'https://tfhub.dev/google/bit/m-r50x1/1'"
      ]
    },
    {
      "cell_type": "code",
      "execution_count": 5,
      "metadata": {
        "id": "fdtpr6ZArLEQ"
      },
      "outputs": [],
      "source": [
        "dataset_dir = os.path.join('drive', 'MyDrive', 'cars')\n",
        "train_dir = os.path.join(dataset_dir, 'train')\n",
        "val_dir = os.path.join(dataset_dir, 'val')"
      ]
    },
    {
      "cell_type": "code",
      "execution_count": 6,
      "metadata": {
        "colab": {
          "base_uri": "https://localhost:8080/"
        },
        "id": "2Aqeb_chrbtm",
        "outputId": "5b8f54b4-0775-4d29-fabd-a8a5d5476531"
      },
      "outputs": [
        {
          "output_type": "stream",
          "name": "stdout",
          "text": [
            "Found 16580 files belonging to 16 classes.\n",
            "Found 3508 files belonging to 16 classes.\n"
          ]
        }
      ],
      "source": [
        "# Get shuffled train and validation dataset with one-hot labels\n",
        "\n",
        "train_ds, val_ds = get_train_val_ds(train_dir, val_dir, batch_size=BATCH_SIZE, img_size=IMG_SIZE)"
      ]
    },
    {
      "cell_type": "code",
      "execution_count": 7,
      "metadata": {
        "id": "gDHgOmiOonos"
      },
      "outputs": [],
      "source": [
        "# Get class weights which have calculated from the previous notebook and stored in github\n",
        "\n",
        "classes, class_weight = get_class_weight()"
      ]
    },
    {
      "cell_type": "code",
      "execution_count": 8,
      "metadata": {
        "colab": {
          "base_uri": "https://localhost:8080/"
        },
        "id": "KUMoLJLRpBiS",
        "outputId": "b4906a0f-7e61-4234-ca99-cebe6fde9c14"
      },
      "outputs": [
        {
          "output_type": "stream",
          "name": "stdout",
          "text": [
            "beige     \t=> 17.94\n",
            "black     \t=> 13.8\n",
            "blue     \t=> 15.47\n",
            "brown     \t=> 17.92\n",
            "cream     \t=> 56.81\n",
            "crimson     \t=> 76.43\n",
            "gold     \t=> 56.81\n",
            "green     \t=> 21.2\n",
            "grey     \t=> 12.41\n",
            "navy-blue     \t=> 58.77\n",
            "orange     \t=> 22.37\n",
            "red     \t=> 16.39\n",
            "silver     \t=> 20.17\n",
            "titanium     \t=> 56.81\n",
            "white     \t=> 2.97\n",
            "yellow     \t=> 20.68\n"
          ]
        }
      ],
      "source": [
        "for color, weight in zip(classes, class_weight.values()):\n",
        "  print(color, \"    \\t=>\", weight)"
      ]
    },
    {
      "cell_type": "code",
      "execution_count": 9,
      "metadata": {
        "id": "HTaqr5PL3RI5"
      },
      "outputs": [],
      "source": [
        "train_ds = (\n",
        "    train_ds.\n",
        "    map(lambda img, lbl: (img/255., lbl), num_parallel_calls=AUTOTUNE).\n",
        "    prefetch(AUTOTUNE))\n",
        "\n",
        "val_ds = (\n",
        "    val_ds.\n",
        "    map(lambda img, lbl: (img/255., lbl), num_parallel_calls=AUTOTUNE).\n",
        "    prefetch(AUTOTUNE))"
      ]
    },
    {
      "cell_type": "code",
      "execution_count": 10,
      "metadata": {
        "id": "jxQRFlkkwx97",
        "outputId": "b0d840f0-cd29-432d-8ea2-86c10e7112b7",
        "colab": {
          "base_uri": "https://localhost:8080/"
        }
      },
      "outputs": [
        {
          "output_type": "stream",
          "name": "stdout",
          "text": [
            "Model: \"RGB-model\"\n",
            "_________________________________________________________________\n",
            " Layer (type)                Output Shape              Param #   \n",
            "=================================================================\n",
            " keras_layer (KerasLayer)    (None, 2048)              23500352  \n",
            "                                                                 \n",
            " dense (Dense)               (None, 16)                32784     \n",
            "                                                                 \n",
            "=================================================================\n",
            "Total params: 23,533,136\n",
            "Trainable params: 32,784\n",
            "Non-trainable params: 23,500,352\n",
            "_________________________________________________________________\n"
          ]
        }
      ],
      "source": [
        "rgb_creator = ModelCreator(HUB_URL, 'RGB-model')\n",
        "rgb_model = rgb_creator.make_model(img_size=IMG_SIZE)"
      ]
    },
    {
      "cell_type": "code",
      "source": [
        "# Callbacks are EarlyStopping and ModelCheckpoint\n",
        "\n",
        "callbacks = rgb_creator.get_callbacks()"
      ],
      "metadata": {
        "id": "jm7eCvLpb8CN"
      },
      "execution_count": 11,
      "outputs": []
    },
    {
      "cell_type": "code",
      "source": [
        "history = rgb_model.fit(train_ds,\n",
        "                        callbacks=callbacks,\n",
        "                        epochs=10,\n",
        "                        validation_data=val_ds,\n",
        "                        class_weight=class_weight)"
      ],
      "metadata": {
        "id": "8z71vSshIzN4"
      },
      "execution_count": null,
      "outputs": []
    },
    {
      "cell_type": "code",
      "source": [
        "rgb_model.layers[0].trainable = True\n",
        "rgb_creator.re_compile(rgb_model)"
      ],
      "metadata": {
        "id": "t_EiW5ynJCXQ"
      },
      "execution_count": null,
      "outputs": []
    },
    {
      "cell_type": "code",
      "source": [
        "history = rgb_model.fit(train_ds,\n",
        "                        callbacks=callbacks,\n",
        "                        epochs=5,\n",
        "                        validation_data=val_ds,\n",
        "                        class_weight=class_weight)"
      ],
      "metadata": {
        "id": "U-HKWfB5JXAD"
      },
      "execution_count": null,
      "outputs": []
    },
    {
      "cell_type": "code",
      "source": [
        "!cp .logs/checkpoints/RGB-model-05.h5 ./drive/MyDrive/checkpoints/rgb-model-5-ft.h5"
      ],
      "metadata": {
        "id": "r8SwGzblJcoY"
      },
      "execution_count": null,
      "outputs": []
    },
    {
      "cell_type": "code",
      "source": [
        "rgb_model = keras.models.load_model('./drive/MyDrive/checkpoints/rgb-model-5-ft.h5',\n",
        "                                    custom_objects={'KerasLayer':hub.KerasLayer})"
      ],
      "metadata": {
        "id": "Kwyb2ZMxxQ1u"
      },
      "execution_count": 12,
      "outputs": []
    },
    {
      "cell_type": "code",
      "execution_count": 16,
      "metadata": {
        "colab": {
          "base_uri": "https://localhost:8080/"
        },
        "id": "0gnG_cv46Bqx",
        "outputId": "a16387ed-c944-4488-d7d3-a4e321404ae0"
      },
      "outputs": [
        {
          "output_type": "stream",
          "name": "stdout",
          "text": [
            "Epoch 6/10\n",
            "519/519 [==============================] - 1958s 4s/step - loss: 4.3639 - auc: 0.9605 - accuracy: 0.9003 - val_loss: 0.9830 - val_auc: 0.8415 - val_accuracy: 0.7928\n",
            "Epoch 7/10\n",
            "519/519 [==============================] - 409s 787ms/step - loss: 3.8970 - auc: 0.9675 - accuracy: 0.9138 - val_loss: 1.3638 - val_auc: 0.7679 - val_accuracy: 0.7081\n",
            "Epoch 8/10\n",
            "519/519 [==============================] - 415s 797ms/step - loss: 2.7486 - auc: 0.9802 - accuracy: 0.9366 - val_loss: 0.8088 - val_auc: 0.8590 - val_accuracy: 0.8007\n",
            "Epoch 9/10\n",
            "519/519 [==============================] - 413s 794ms/step - loss: 1.8688 - auc: 0.9871 - accuracy: 0.9581 - val_loss: 1.1744 - val_auc: 0.7976 - val_accuracy: 0.7908\n",
            "Epoch 10/10\n",
            "519/519 [==============================] - 415s 798ms/step - loss: 1.3974 - auc: 0.9897 - accuracy: 0.9593 - val_loss: 1.0319 - val_auc: 0.8305 - val_accuracy: 0.7905\n"
          ]
        }
      ],
      "source": [
        "history = rgb_model.fit(train_ds,\n",
        "                        callbacks=callbacks,\n",
        "                        epochs=10,\n",
        "                        initial_epoch=5,\n",
        "                        validation_data=val_ds,\n",
        "                        class_weight=class_weight)"
      ]
    },
    {
      "cell_type": "code",
      "source": [
        "history = rgb_model.fit(train_ds,\n",
        "                        callbacks=callbacks,\n",
        "                        epochs=15,\n",
        "                        initial_epoch=10,\n",
        "                        validation_data=val_ds,\n",
        "                        class_weight=class_weight)"
      ],
      "metadata": {
        "id": "iHuMHr4oQJ2D",
        "outputId": "01be5932-3ec2-4732-a769-66fadd6e8a0e",
        "colab": {
          "base_uri": "https://localhost:8080/"
        }
      },
      "execution_count": 18,
      "outputs": [
        {
          "output_type": "stream",
          "name": "stdout",
          "text": [
            "Epoch 11/15\n",
            "519/519 [==============================] - 409s 786ms/step - loss: 1.7362 - auc: 0.9865 - accuracy: 0.9564 - val_loss: 0.9274 - val_auc: 0.8580 - val_accuracy: 0.8158\n",
            "Epoch 12/15\n",
            "519/519 [==============================] - 415s 797ms/step - loss: 1.6086 - auc: 0.9916 - accuracy: 0.9639 - val_loss: 0.9341 - val_auc: 0.8480 - val_accuracy: 0.8119\n",
            "Epoch 13/15\n",
            "519/519 [==============================] - 413s 793ms/step - loss: 0.9780 - auc: 0.9946 - accuracy: 0.9762 - val_loss: 0.9531 - val_auc: 0.8568 - val_accuracy: 0.8070\n",
            "Epoch 14/15\n",
            "519/519 [==============================] - 415s 797ms/step - loss: 0.9299 - auc: 0.9951 - accuracy: 0.9783 - val_loss: 1.0175 - val_auc: 0.8576 - val_accuracy: 0.8221\n",
            "Epoch 15/15\n",
            "519/519 [==============================] - 417s 800ms/step - loss: 0.6745 - auc: 0.9975 - accuracy: 0.9853 - val_loss: 1.2467 - val_auc: 0.8296 - val_accuracy: 0.8173\n"
          ]
        }
      ]
    },
    {
      "cell_type": "code",
      "source": [
        "!cp .logs/checkpoints/RGB-model-14.h5 ./drive/MyDrive/checkpoints/rgb-model-14-ft.h5"
      ],
      "metadata": {
        "id": "TRPcjTbYJz8a",
        "outputId": "b49c3e5f-912d-44a6-e36b-879d718784b0",
        "colab": {
          "base_uri": "https://localhost:8080/"
        }
      },
      "execution_count": 19,
      "outputs": [
        {
          "output_type": "stream",
          "name": "stdout",
          "text": [
            "cp: cannot stat '.logs/checkpoints/RGB-model-14.h5': No such file or directory\n"
          ]
        }
      ]
    }
  ],
  "metadata": {
    "accelerator": "GPU",
    "colab": {
      "name": "rgb_model.ipynb",
      "provenance": [],
      "include_colab_link": true
    },
    "kernelspec": {
      "display_name": "Python 3 (ipykernel)",
      "language": "python",
      "name": "python3"
    },
    "language_info": {
      "codemirror_mode": {
        "name": "ipython",
        "version": 3
      },
      "file_extension": ".py",
      "mimetype": "text/x-python",
      "name": "python",
      "nbconvert_exporter": "python",
      "pygments_lexer": "ipython3",
      "version": "3.8.10"
    },
    "gpuClass": "standard"
  },
  "nbformat": 4,
  "nbformat_minor": 0
}