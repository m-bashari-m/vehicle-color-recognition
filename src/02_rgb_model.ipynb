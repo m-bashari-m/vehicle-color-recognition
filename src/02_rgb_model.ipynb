{
  "cells": [
    {
      "cell_type": "markdown",
      "metadata": {
        "id": "view-in-github",
        "colab_type": "text"
      },
      "source": [
        "<a href=\"https://colab.research.google.com/github/m-bashari-m/vehicle-color-recognition/blob/main/src/02_rgb_model.ipynb\" target=\"_parent\"><img src=\"https://colab.research.google.com/assets/colab-badge.svg\" alt=\"Open In Colab\"/></a>"
      ]
    },
    {
      "cell_type": "code",
      "execution_count": 1,
      "metadata": {
        "colab": {
          "base_uri": "https://localhost:8080/"
        },
        "id": "lo1t1tO9y6L4",
        "outputId": "67ff1509-f7af-4ccd-d653-118bf88a95f1"
      },
      "outputs": [
        {
          "output_type": "stream",
          "name": "stdout",
          "text": [
            "--2022-06-30 13:39:55--  https://raw.githubusercontent.com/m-bashari-m/vehicle-color-recognition/main/src/utils.py\n",
            "Resolving raw.githubusercontent.com (raw.githubusercontent.com)... 185.199.108.133, 185.199.109.133, 185.199.110.133, ...\n",
            "Connecting to raw.githubusercontent.com (raw.githubusercontent.com)|185.199.108.133|:443... connected.\n",
            "HTTP request sent, awaiting response... 200 OK\n",
            "Length: 11821 (12K) [text/plain]\n",
            "Saving to: ‘utils.py’\n",
            "\n",
            "\rutils.py              0%[                    ]       0  --.-KB/s               \rutils.py            100%[===================>]  11.54K  --.-KB/s    in 0s      \n",
            "\n",
            "2022-06-30 13:39:55 (73.7 MB/s) - ‘utils.py’ saved [11821/11821]\n",
            "\n"
          ]
        }
      ],
      "source": [
        "# Prepare utils file\n",
        "\n",
        "!wget https://raw.githubusercontent.com/m-bashari-m/vehicle-color-recognition/main/src/utils.py"
      ]
    },
    {
      "cell_type": "code",
      "execution_count": 2,
      "metadata": {
        "colab": {
          "base_uri": "https://localhost:8080/"
        },
        "id": "bRdIPsPcp2OF",
        "outputId": "ab87e851-4d7a-4c5b-b1ea-d63d99817b5a"
      },
      "outputs": [
        {
          "output_type": "stream",
          "name": "stdout",
          "text": [
            "Mounted at ./drive\n"
          ]
        }
      ],
      "source": [
        "from google.colab import drive\n",
        "drive.mount('./drive')"
      ]
    },
    {
      "cell_type": "code",
      "execution_count": 1,
      "metadata": {
        "id": "OqaOJQP4krhr"
      },
      "outputs": [],
      "source": [
        "import pandas as pd\n",
        "import numpy as np\n",
        "import os\n",
        "\n",
        "import tensorflow as tf\n",
        "from tensorflow import keras\n",
        "import tensorflow_hub as hub\n",
        "\n",
        "from utils import ModelCreator, get_train_val_ds, ErrorAnalyzer, get_class_weight"
      ]
    },
    {
      "cell_type": "code",
      "execution_count": 2,
      "metadata": {
        "id": "3b2ik0jzro3S"
      },
      "outputs": [],
      "source": [
        "BATCH_SIZE = 32\n",
        "IMG_SIZE = (256, 256)\n",
        "AUTOTUNE = tf.data.AUTOTUNE\n",
        "N_CLASSES = 16\n",
        "HUB_URL = 'https://tfhub.dev/google/imagenet/efficientnet_v2_imagenet21k_ft1k_b3/feature_vector/2'"
      ]
    },
    {
      "cell_type": "code",
      "execution_count": 3,
      "metadata": {
        "id": "fdtpr6ZArLEQ"
      },
      "outputs": [],
      "source": [
        "dataset_dir = os.path.join('drive', 'MyDrive', 'cars')\n",
        "train_dir = os.path.join(dataset_dir, 'train')\n",
        "val_dir = os.path.join(dataset_dir, 'val')"
      ]
    },
    {
      "cell_type": "code",
      "execution_count": 4,
      "metadata": {
        "colab": {
          "base_uri": "https://localhost:8080/"
        },
        "id": "2Aqeb_chrbtm",
        "outputId": "2e058b7e-bd51-4e05-cd9b-0a4e13d4dfc7"
      },
      "outputs": [
        {
          "output_type": "stream",
          "name": "stdout",
          "text": [
            "Found 16580 files belonging to 16 classes.\n",
            "Found 3510 files belonging to 16 classes.\n"
          ]
        }
      ],
      "source": [
        "# Get shuffled train and validation dataset with one-hot labels\n",
        "\n",
        "train_ds, val_ds = get_train_val_ds(train_dir, val_dir, batch_size=BATCH_SIZE, img_size=IMG_SIZE)"
      ]
    },
    {
      "cell_type": "code",
      "execution_count": 5,
      "metadata": {
        "id": "gDHgOmiOonos"
      },
      "outputs": [],
      "source": [
        "# Get class weights which have calculated from the previous notebook and stored in github\n",
        "\n",
        "classes, class_weight = get_class_weight()"
      ]
    },
    {
      "cell_type": "code",
      "execution_count": 6,
      "metadata": {
        "colab": {
          "base_uri": "https://localhost:8080/"
        },
        "id": "KUMoLJLRpBiS",
        "outputId": "5c890e36-8e40-47ce-9bcc-cf81dfe2e6c6"
      },
      "outputs": [
        {
          "output_type": "stream",
          "name": "stdout",
          "text": [
            "beige     \t=> 17.94\n",
            "black     \t=> 13.8\n",
            "blue     \t=> 15.47\n",
            "brown     \t=> 17.92\n",
            "cream     \t=> 56.81\n",
            "crimson     \t=> 76.43\n",
            "gold     \t=> 56.81\n",
            "green     \t=> 21.2\n",
            "grey     \t=> 12.41\n",
            "navy-blue     \t=> 58.77\n",
            "orange     \t=> 22.37\n",
            "red     \t=> 16.39\n",
            "silver     \t=> 20.17\n",
            "titanium     \t=> 56.81\n",
            "white     \t=> 2.97\n",
            "yellow     \t=> 20.68\n"
          ]
        }
      ],
      "source": [
        "for color, weight in zip(classes, class_weight.values()):\n",
        "  print(color, \"    \\t=>\", weight)"
      ]
    },
    {
      "cell_type": "code",
      "execution_count": 7,
      "metadata": {
        "id": "HTaqr5PL3RI5"
      },
      "outputs": [],
      "source": [
        "train_ds = (\n",
        "    train_ds.\n",
        "    map(lambda img, lbl: (img/255., lbl), num_parallel_calls=AUTOTUNE).\n",
        "    prefetch(AUTOTUNE))\n",
        "\n",
        "val_ds = (\n",
        "    val_ds.\n",
        "    map(lambda img, lbl: (img/255., lbl), num_parallel_calls=AUTOTUNE).\n",
        "    prefetch(AUTOTUNE))"
      ]
    },
    {
      "cell_type": "code",
      "execution_count": 8,
      "metadata": {
        "id": "jxQRFlkkwx97",
        "outputId": "22fc6bf3-afcf-46a0-a4a7-9c81d7e211ae",
        "colab": {
          "base_uri": "https://localhost:8080/"
        }
      },
      "outputs": [
        {
          "output_type": "stream",
          "name": "stdout",
          "text": [
            "Model: \"RGB-model\"\n",
            "_________________________________________________________________\n",
            " Layer (type)                Output Shape              Param #   \n",
            "=================================================================\n",
            " keras_layer (KerasLayer)    (None, 1536)              12930622  \n",
            "                                                                 \n",
            " dense (Dense)               (None, 16)                24592     \n",
            "                                                                 \n",
            "=================================================================\n",
            "Total params: 12,955,214\n",
            "Trainable params: 12,845,998\n",
            "Non-trainable params: 109,216\n",
            "_________________________________________________________________\n"
          ]
        }
      ],
      "source": [
        "rgb_creator = ModelCreator(HUB_URL, 'RGB-model')\n",
        "rgb_model = rgb_creator.make_model(img_size=IMG_SIZE)"
      ]
    },
    {
      "cell_type": "code",
      "source": [
        "# Callbacks are EarlyStopping and ModelCheckpoint\n",
        "\n",
        "callbacks = rgb_creator.get_callbacks()"
      ],
      "metadata": {
        "id": "jm7eCvLpb8CN"
      },
      "execution_count": 9,
      "outputs": []
    },
    {
      "cell_type": "code",
      "source": [
        "history = rgb_model.fit(train_ds,\n",
        "                        callbacks=callbacks,\n",
        "                        epochs=15,\n",
        "                        validation_data=val_ds,\n",
        "                        class_weight=class_weight)"
      ],
      "metadata": {
        "id": "8z71vSshIzN4",
        "outputId": "6f7341cf-e9d8-43d1-a669-c777f03bfbc9",
        "colab": {
          "base_uri": "https://localhost:8080/"
        }
      },
      "execution_count": 10,
      "outputs": [
        {
          "output_type": "stream",
          "name": "stdout",
          "text": [
            "Epoch 1/15\n",
            "519/519 [==============================] - 744s 1s/step - loss: 14.6355 - auc: 0.7865 - accuracy: 0.6959 - val_loss: 0.9146 - val_auc: 0.8010 - val_accuracy: 0.7251\n",
            "Epoch 2/15\n",
            "519/519 [==============================] - 232s 445ms/step - loss: 10.1488 - auc: 0.8706 - accuracy: 0.7862 - val_loss: 0.7383 - val_auc: 0.8620 - val_accuracy: 0.7704\n",
            "Epoch 3/15\n",
            "519/519 [==============================] - 232s 445ms/step - loss: 6.9866 - auc: 0.9269 - accuracy: 0.8540 - val_loss: 0.8817 - val_auc: 0.8445 - val_accuracy: 0.7792\n",
            "Epoch 4/15\n",
            "519/519 [==============================] - 231s 442ms/step - loss: 5.1662 - auc: 0.9524 - accuracy: 0.8855 - val_loss: 0.9257 - val_auc: 0.8423 - val_accuracy: 0.7732\n",
            "Epoch 5/15\n",
            "519/519 [==============================] - 236s 453ms/step - loss: 4.4172 - auc: 0.9606 - accuracy: 0.9008 - val_loss: 0.8334 - val_auc: 0.8602 - val_accuracy: 0.7966\n",
            "Epoch 6/15\n",
            "519/519 [==============================] - 231s 443ms/step - loss: 3.5321 - auc: 0.9697 - accuracy: 0.9156 - val_loss: 0.9518 - val_auc: 0.8248 - val_accuracy: 0.7863\n",
            "Epoch 7/15\n",
            "519/519 [==============================] - 237s 454ms/step - loss: 2.4841 - auc: 0.9825 - accuracy: 0.9384 - val_loss: 0.7662 - val_auc: 0.8685 - val_accuracy: 0.8168\n",
            "Epoch 8/15\n",
            "519/519 [==============================] - 231s 442ms/step - loss: 2.1423 - auc: 0.9851 - accuracy: 0.9457 - val_loss: 1.0035 - val_auc: 0.8464 - val_accuracy: 0.8137\n",
            "Epoch 9/15\n",
            "519/519 [==============================] - 232s 445ms/step - loss: 1.4307 - auc: 0.9923 - accuracy: 0.9656 - val_loss: 0.8499 - val_auc: 0.8651 - val_accuracy: 0.8248\n",
            "Epoch 10/15\n",
            "519/519 [==============================] - 234s 448ms/step - loss: 0.9557 - auc: 0.9951 - accuracy: 0.9741 - val_loss: 0.8869 - val_auc: 0.8675 - val_accuracy: 0.8382\n",
            "Epoch 11/15\n",
            "519/519 [==============================] - 232s 445ms/step - loss: 0.9815 - auc: 0.9944 - accuracy: 0.9762 - val_loss: 0.8074 - val_auc: 0.8761 - val_accuracy: 0.8399\n",
            "Epoch 12/15\n",
            "519/519 [==============================] - 236s 452ms/step - loss: 0.5938 - auc: 0.9970 - accuracy: 0.9840 - val_loss: 1.0627 - val_auc: 0.8440 - val_accuracy: 0.8214\n",
            "Epoch 13/15\n",
            "519/519 [==============================] - 235s 451ms/step - loss: 0.4987 - auc: 0.9977 - accuracy: 0.9882 - val_loss: 1.1748 - val_auc: 0.8261 - val_accuracy: 0.8034\n",
            "Epoch 14/15\n",
            "519/519 [==============================] - 235s 451ms/step - loss: 0.4725 - auc: 0.9981 - accuracy: 0.9883 - val_loss: 0.9981 - val_auc: 0.8531 - val_accuracy: 0.8262\n",
            "Epoch 15/15\n",
            "519/519 [==============================] - 236s 452ms/step - loss: 0.2998 - auc: 0.9990 - accuracy: 0.9921 - val_loss: 1.4662 - val_auc: 0.8099 - val_accuracy: 0.8080\n"
          ]
        }
      ]
    },
    {
      "cell_type": "code",
      "source": [
        "history = rgb_model.fit(train_ds,\n",
        "                        callbacks=callbacks,\n",
        "                        epochs=20,\n",
        "                        initial_epoch=15,\n",
        "                        validation_data=val_ds,\n",
        "                        class_weight=class_weight)"
      ],
      "metadata": {
        "id": "f32JB8H3SLus",
        "outputId": "24048cab-56ed-42fd-cd0d-61ab6aebafa0",
        "colab": {
          "base_uri": "https://localhost:8080/"
        }
      },
      "execution_count": 11,
      "outputs": [
        {
          "output_type": "stream",
          "name": "stdout",
          "text": [
            "Epoch 16/20\n",
            "519/519 [==============================] - 236s 452ms/step - loss: 0.4110 - auc: 0.9980 - accuracy: 0.9913 - val_loss: 1.2083 - val_auc: 0.8333 - val_accuracy: 0.8219\n",
            "Epoch 17/20\n",
            "519/519 [==============================] - 231s 443ms/step - loss: 0.4228 - auc: 0.9983 - accuracy: 0.9899 - val_loss: 1.0204 - val_auc: 0.8537 - val_accuracy: 0.8350\n",
            "Epoch 18/20\n",
            "519/519 [==============================] - 232s 446ms/step - loss: 0.2677 - auc: 0.9994 - accuracy: 0.9928 - val_loss: 1.0773 - val_auc: 0.8451 - val_accuracy: 0.8268\n",
            "Epoch 19/20\n",
            "519/519 [==============================] - 235s 451ms/step - loss: 0.1851 - auc: 0.9994 - accuracy: 0.9951 - val_loss: 1.1830 - val_auc: 0.8341 - val_accuracy: 0.8293\n",
            "Epoch 20/20\n",
            "519/519 [==============================] - 231s 443ms/step - loss: 0.2296 - auc: 0.9988 - accuracy: 0.9938 - val_loss: 1.0842 - val_auc: 0.8433 - val_accuracy: 0.8308\n"
          ]
        }
      ]
    },
    {
      "cell_type": "code",
      "source": [
        "!cp ./logs/checkpoints/RGB-model.h5 ./drive/MyDrive/checkpoints/rgb-model.h5"
      ],
      "metadata": {
        "id": "r8SwGzblJcoY"
      },
      "execution_count": 12,
      "outputs": []
    }
  ],
  "metadata": {
    "accelerator": "GPU",
    "colab": {
      "name": "rgb_model.ipynb",
      "provenance": [],
      "include_colab_link": true
    },
    "kernelspec": {
      "display_name": "Python 3 (ipykernel)",
      "language": "python",
      "name": "python3"
    },
    "language_info": {
      "codemirror_mode": {
        "name": "ipython",
        "version": 3
      },
      "file_extension": ".py",
      "mimetype": "text/x-python",
      "name": "python",
      "nbconvert_exporter": "python",
      "pygments_lexer": "ipython3",
      "version": "3.8.10"
    },
    "gpuClass": "standard"
  },
  "nbformat": 4,
  "nbformat_minor": 0
}