{
  "cells": [
    {
      "cell_type": "markdown",
      "metadata": {
        "id": "view-in-github",
        "colab_type": "text"
      },
      "source": [
        "<a href=\"https://colab.research.google.com/github/m-bashari-m/vehicle-color-recognition/blob/main/src/02_rgb_model.ipynb\" target=\"_parent\"><img src=\"https://colab.research.google.com/assets/colab-badge.svg\" alt=\"Open In Colab\"/></a>"
      ]
    },
    {
      "cell_type": "code",
      "execution_count": 1,
      "metadata": {
        "colab": {
          "base_uri": "https://localhost:8080/"
        },
        "id": "lo1t1tO9y6L4",
        "outputId": "0817082d-4f0a-4ccb-a683-12145b040819"
      },
      "outputs": [
        {
          "output_type": "stream",
          "name": "stdout",
          "text": [
            "--2022-06-16 23:13:28--  https://raw.githubusercontent.com/m-bashari-m/vehicle-color-recognition/main/src/utils.py\n",
            "Resolving raw.githubusercontent.com (raw.githubusercontent.com)... 185.199.110.133, 185.199.109.133, 185.199.111.133, ...\n",
            "Connecting to raw.githubusercontent.com (raw.githubusercontent.com)|185.199.110.133|:443... connected.\n",
            "HTTP request sent, awaiting response... 200 OK\n",
            "Length: 11745 (11K) [text/plain]\n",
            "Saving to: ‘utils.py.1’\n",
            "\n",
            "\rutils.py.1            0%[                    ]       0  --.-KB/s               \rutils.py.1          100%[===================>]  11.47K  --.-KB/s    in 0s      \n",
            "\n",
            "2022-06-16 23:13:28 (121 MB/s) - ‘utils.py.1’ saved [11745/11745]\n",
            "\n"
          ]
        }
      ],
      "source": [
        "# Prepare utils file\n",
        "\n",
        "!wget https://raw.githubusercontent.com/m-bashari-m/vehicle-color-recognition/main/src/utils.py"
      ]
    },
    {
      "cell_type": "code",
      "execution_count": 2,
      "metadata": {
        "colab": {
          "base_uri": "https://localhost:8080/"
        },
        "id": "bRdIPsPcp2OF",
        "outputId": "4b8e587e-9e5d-40e1-8873-709a802140c0"
      },
      "outputs": [
        {
          "output_type": "stream",
          "name": "stdout",
          "text": [
            "Drive already mounted at ./drive; to attempt to forcibly remount, call drive.mount(\"./drive\", force_remount=True).\n"
          ]
        }
      ],
      "source": [
        "from google.colab import drive\n",
        "drive.mount('./drive')"
      ]
    },
    {
      "cell_type": "code",
      "execution_count": 4,
      "metadata": {
        "id": "OqaOJQP4krhr"
      },
      "outputs": [],
      "source": [
        "import pandas as pd\n",
        "import numpy as np\n",
        "import os\n",
        "\n",
        "import tensorflow as tf\n",
        "from tensorflow import keras\n",
        "import tensorflow_hub as hub\n",
        "\n",
        "from utils import ModelCreator, get_train_val_ds, ErrorAnalyzer, get_class_weight"
      ]
    },
    {
      "cell_type": "code",
      "execution_count": 5,
      "metadata": {
        "id": "3b2ik0jzro3S"
      },
      "outputs": [],
      "source": [
        "BATCH_SIZE = 32\n",
        "IMG_SIZE = (256, 256)\n",
        "AUTOTUNE = tf.data.AUTOTUNE\n",
        "N_CLASSES = 16\n",
        "HUB_URL = 'https://tfhub.dev/google/bit/m-r50x1/1'"
      ]
    },
    {
      "cell_type": "code",
      "execution_count": 6,
      "metadata": {
        "id": "fdtpr6ZArLEQ"
      },
      "outputs": [],
      "source": [
        "dataset_dir = os.path.join('drive', 'MyDrive', 'cars')\n",
        "train_dir = os.path.join(dataset_dir, 'train')\n",
        "val_dir = os.path.join(dataset_dir, 'val')"
      ]
    },
    {
      "cell_type": "code",
      "execution_count": 7,
      "metadata": {
        "colab": {
          "base_uri": "https://localhost:8080/"
        },
        "id": "2Aqeb_chrbtm",
        "outputId": "5062710e-d90f-4e90-f51e-2eb4b4b7da5d"
      },
      "outputs": [
        {
          "output_type": "stream",
          "name": "stdout",
          "text": [
            "Found 17043 files belonging to 16 classes.\n",
            "Found 3495 files belonging to 16 classes.\n"
          ]
        }
      ],
      "source": [
        "# Get shuffled train and validation dataset with one-hot labels\n",
        "\n",
        "train_ds, val_ds = get_train_val_ds(train_dir, val_dir, batch_size=BATCH_SIZE, img_size=IMG_SIZE)"
      ]
    },
    {
      "cell_type": "code",
      "execution_count": 8,
      "metadata": {
        "id": "gDHgOmiOonos"
      },
      "outputs": [],
      "source": [
        "# Get class weights which have calculated from the previous notebook and stored in github\n",
        "\n",
        "classes, class_weight = get_class_weight()"
      ]
    },
    {
      "cell_type": "code",
      "execution_count": 9,
      "metadata": {
        "colab": {
          "base_uri": "https://localhost:8080/"
        },
        "id": "KUMoLJLRpBiS",
        "outputId": "c0c1ac5a-66fc-49e7-a3e1-e83e8eb59f73"
      },
      "outputs": [
        {
          "output_type": "stream",
          "name": "stdout",
          "text": [
            "beige     \t=> 17.94\n",
            "black     \t=> 13.8\n",
            "blue     \t=> 15.47\n",
            "brown     \t=> 17.92\n",
            "cream     \t=> 56.81\n",
            "crimson     \t=> 76.43\n",
            "gold     \t=> 56.81\n",
            "green     \t=> 21.2\n",
            "grey     \t=> 12.41\n",
            "navy-blue     \t=> 58.77\n",
            "orange     \t=> 22.37\n",
            "red     \t=> 16.39\n",
            "silver     \t=> 20.17\n",
            "titanium     \t=> 56.81\n",
            "white     \t=> 2.97\n",
            "yellow     \t=> 20.68\n"
          ]
        }
      ],
      "source": [
        "for color, weight in zip(classes, class_weight.values()):\n",
        "  print(color, \"    \\t=>\", weight)"
      ]
    },
    {
      "cell_type": "code",
      "execution_count": 10,
      "metadata": {
        "id": "HTaqr5PL3RI5"
      },
      "outputs": [],
      "source": [
        "train_ds = (\n",
        "    train_ds.\n",
        "    map(lambda img, lbl: (img/255., lbl), num_parallel_calls=AUTOTUNE).\n",
        "    prefetch(AUTOTUNE))"
      ]
    },
    {
      "cell_type": "code",
      "execution_count": 11,
      "metadata": {
        "id": "jxQRFlkkwx97",
        "outputId": "2dcfc507-7abf-4253-ccce-44ad44d85d9a",
        "colab": {
          "base_uri": "https://localhost:8080/"
        }
      },
      "outputs": [
        {
          "output_type": "stream",
          "name": "stdout",
          "text": [
            "Model: \"RGB-model\"\n",
            "_________________________________________________________________\n",
            " Layer (type)                Output Shape              Param #   \n",
            "=================================================================\n",
            " keras_layer (KerasLayer)    (None, 2048)              23500352  \n",
            "                                                                 \n",
            " dense (Dense)               (None, 16)                32784     \n",
            "                                                                 \n",
            "=================================================================\n",
            "Total params: 23,533,136\n",
            "Trainable params: 32,784\n",
            "Non-trainable params: 23,500,352\n",
            "_________________________________________________________________\n"
          ]
        }
      ],
      "source": [
        "rgb_creator = ModelCreator(HUB_URL, 'RGB-model')\n",
        "rgb_model = rgb_creator.make_model(img_size=IMG_SIZE)"
      ]
    },
    {
      "cell_type": "code",
      "source": [
        "# Callbacks are EarlyStopping and ModelCheckpoint\n",
        "\n",
        "callbacks = rgb_creator.get_callbacks()"
      ],
      "metadata": {
        "id": "jm7eCvLpb8CN"
      },
      "execution_count": 12,
      "outputs": []
    },
    {
      "cell_type": "code",
      "execution_count": 13,
      "metadata": {
        "colab": {
          "base_uri": "https://localhost:8080/"
        },
        "id": "0gnG_cv46Bqx",
        "outputId": "6a65323b-60f2-45af-ffa2-45f278409186"
      },
      "outputs": [
        {
          "output_type": "stream",
          "name": "stdout",
          "text": [
            "Epoch 1/20\n",
            "533/533 [==============================] - 512s 931ms/step - loss: 114.3607 - auc: 0.5134 - accuracy: 0.6061\n",
            "Epoch 2/20\n",
            "533/533 [==============================] - 148s 275ms/step - loss: 75.4070 - auc: 0.6443 - accuracy: 0.7261\n",
            "Epoch 3/20\n",
            "533/533 [==============================] - 150s 280ms/step - loss: 63.6368 - auc: 0.7018 - accuracy: 0.7717\n",
            "Epoch 4/20\n",
            "533/533 [==============================] - 150s 279ms/step - loss: 54.8657 - auc: 0.7316 - accuracy: 0.7946\n",
            "Epoch 5/20\n",
            "533/533 [==============================] - 150s 279ms/step - loss: 47.9548 - auc: 0.7540 - accuracy: 0.8094\n",
            "Epoch 6/20\n",
            "533/533 [==============================] - 150s 280ms/step - loss: 40.7218 - auc: 0.7723 - accuracy: 0.8246\n",
            "Epoch 7/20\n",
            "533/533 [==============================] - 150s 280ms/step - loss: 29.8010 - auc: 0.8183 - accuracy: 0.8530\n",
            "Epoch 8/20\n",
            "533/533 [==============================] - 150s 280ms/step - loss: 26.2726 - auc: 0.8292 - accuracy: 0.8601\n",
            "Epoch 9/20\n",
            "533/533 [==============================] - 150s 280ms/step - loss: 22.7711 - auc: 0.8455 - accuracy: 0.8698\n",
            "Epoch 10/20\n",
            "533/533 [==============================] - 150s 280ms/step - loss: 19.5537 - auc: 0.8595 - accuracy: 0.8811\n",
            "Epoch 11/20\n",
            "533/533 [==============================] - 150s 280ms/step - loss: 15.8641 - auc: 0.8781 - accuracy: 0.8946\n",
            "Epoch 12/20\n",
            "533/533 [==============================] - 151s 280ms/step - loss: 14.6744 - auc: 0.8877 - accuracy: 0.8980\n",
            "Epoch 13/20\n",
            "533/533 [==============================] - 150s 279ms/step - loss: 13.2732 - auc: 0.8901 - accuracy: 0.9009\n",
            "Epoch 14/20\n",
            "533/533 [==============================] - 150s 279ms/step - loss: 9.8211 - auc: 0.9145 - accuracy: 0.9194\n",
            "Epoch 15/20\n",
            "533/533 [==============================] - 150s 280ms/step - loss: 9.1845 - auc: 0.9181 - accuracy: 0.9174\n",
            "Epoch 16/20\n",
            "533/533 [==============================] - 150s 280ms/step - loss: 7.1694 - auc: 0.9310 - accuracy: 0.9264\n",
            "Epoch 17/20\n",
            "533/533 [==============================] - 151s 280ms/step - loss: 6.7695 - auc: 0.9352 - accuracy: 0.9313\n",
            "Epoch 18/20\n",
            "533/533 [==============================] - 150s 280ms/step - loss: 5.2695 - auc: 0.9481 - accuracy: 0.9417\n",
            "Epoch 19/20\n",
            "533/533 [==============================] - 150s 280ms/step - loss: 4.6172 - auc: 0.9526 - accuracy: 0.9438\n",
            "Epoch 20/20\n",
            "533/533 [==============================] - 150s 280ms/step - loss: 4.0799 - auc: 0.9570 - accuracy: 0.9478\n"
          ]
        }
      ],
      "source": [
        "history = rgb_model.fit(train_ds,\n",
        "                        callbacks=callbacks,\n",
        "                        epochs=20,\n",
        "                        class_weight=class_weight)"
      ]
    },
    {
      "cell_type": "code",
      "source": [
        "history = rgb_model.fit(train_ds,\n",
        "                        callbacks=callbacks,\n",
        "                        epochs=25,\n",
        "                        initial_epoch=10,\n",
        "                        class_weight=class_weight)"
      ],
      "metadata": {
        "id": "iHuMHr4oQJ2D",
        "outputId": "9ecc36a3-d9b4-418a-c800-d32873ad288e",
        "colab": {
          "base_uri": "https://localhost:8080/"
        }
      },
      "execution_count": null,
      "outputs": [
        {
          "output_type": "stream",
          "name": "stdout",
          "text": [
            "Epoch 11/25\n",
            "533/533 [==============================] - 154s 286ms/step - loss: 14.8086 - auc: 0.8846 - accuracy: 0.8963\n",
            "Epoch 12/25\n",
            "533/533 [==============================] - 153s 286ms/step - loss: 15.4249 - auc: 0.8774 - accuracy: 0.8910\n",
            "Epoch 13/25\n",
            "533/533 [==============================] - 153s 286ms/step - loss: 11.6201 - auc: 0.9081 - accuracy: 0.9116\n",
            "Epoch 14/25\n",
            "533/533 [==============================] - 154s 286ms/step - loss: 9.5923 - auc: 0.9162 - accuracy: 0.9149\n",
            "Epoch 15/25\n",
            "533/533 [==============================] - 153s 285ms/step - loss: 9.4777 - auc: 0.9153 - accuracy: 0.9153\n",
            "Epoch 16/25\n",
            "533/533 [==============================] - 153s 285ms/step - loss: 6.9022 - auc: 0.9325 - accuracy: 0.9289\n",
            "Epoch 17/25\n",
            "533/533 [==============================] - 154s 286ms/step - loss: 6.3071 - auc: 0.9396 - accuracy: 0.9332\n",
            "Epoch 18/25\n",
            "533/533 [==============================] - 154s 286ms/step - loss: 5.2822 - auc: 0.9488 - accuracy: 0.9396\n",
            "Epoch 19/25\n",
            "533/533 [==============================] - 154s 286ms/step - loss: 5.1156 - auc: 0.9496 - accuracy: 0.9387\n",
            "Epoch 20/25\n",
            "533/533 [==============================] - 154s 286ms/step - loss: 4.1312 - auc: 0.9595 - accuracy: 0.9470\n",
            "Epoch 21/25\n",
            "533/533 [==============================] - 153s 286ms/step - loss: 3.7612 - auc: 0.9598 - accuracy: 0.9496\n",
            "Epoch 22/25\n",
            "533/533 [==============================] - 154s 286ms/step - loss: 3.1217 - auc: 0.9689 - accuracy: 0.9572\n",
            "Epoch 23/25\n",
            "533/533 [==============================] - 154s 286ms/step - loss: 2.6668 - auc: 0.9727 - accuracy: 0.9589\n",
            "Epoch 24/25\n",
            "533/533 [==============================] - 153s 286ms/step - loss: 2.5626 - auc: 0.9747 - accuracy: 0.9614\n",
            "Epoch 25/25\n",
            "533/533 [==============================] - 154s 286ms/step - loss: 2.1749 - auc: 0.9783 - accuracy: 0.9659\n"
          ]
        }
      ]
    },
    {
      "cell_type": "code",
      "source": [
        "!cp ./logs/checkpoints/RGB-model-10.h5 ./drive/MyDrive/checkpoints/rgb-model-10.h5\n",
        "!cp ./logs/checkpoints/RGB-model-15.h5 ./drive/MyDrive/checkpoints/rgb-model-15.h5\n",
        "!cp ./logs/checkpoints/RGB-model-20.h5 ./drive/MyDrive/checkpoints/rgb-model-20.h5"
      ],
      "metadata": {
        "id": "LjYSD1a-PK5U"
      },
      "execution_count": 17,
      "outputs": []
    },
    {
      "cell_type": "code",
      "source": [
        "history = rgb_model.fit(train_ds,\n",
        "                        callbacks=callbacks,\n",
        "                        epochs=30,\n",
        "                        initial_epoch=20,\n",
        "                        class_weight=class_weight)"
      ],
      "metadata": {
        "id": "Z36LYdqja1Bs",
        "outputId": "64fa772d-ab55-4341-b25e-cbcb5c701d53",
        "colab": {
          "base_uri": "https://localhost:8080/"
        }
      },
      "execution_count": 15,
      "outputs": [
        {
          "output_type": "stream",
          "name": "stdout",
          "text": [
            "Epoch 21/30\n",
            "533/533 [==============================] - 151s 281ms/step - loss: 3.8759 - auc: 0.9586 - accuracy: 0.9487\n",
            "Epoch 22/30\n",
            "533/533 [==============================] - 152s 281ms/step - loss: 2.9074 - auc: 0.9710 - accuracy: 0.9585\n",
            "Epoch 23/30\n",
            "533/533 [==============================] - 151s 280ms/step - loss: 2.6168 - auc: 0.9739 - accuracy: 0.9597\n",
            "Epoch 24/30\n",
            "533/533 [==============================] - 151s 280ms/step - loss: 2.3565 - auc: 0.9767 - accuracy: 0.9615\n",
            "Epoch 25/30\n",
            "533/533 [==============================] - 150s 280ms/step - loss: 2.1508 - auc: 0.9793 - accuracy: 0.9649\n",
            "Epoch 26/30\n",
            "533/533 [==============================] - 150s 280ms/step - loss: 1.8371 - auc: 0.9838 - accuracy: 0.9692\n",
            "Epoch 27/30\n",
            "533/533 [==============================] - 150s 280ms/step - loss: 1.9915 - auc: 0.9823 - accuracy: 0.9661\n",
            "Epoch 28/30\n",
            "533/533 [==============================] - 151s 280ms/step - loss: 1.5529 - auc: 0.9845 - accuracy: 0.9734\n",
            "Epoch 29/30\n",
            "533/533 [==============================] - 151s 281ms/step - loss: 1.3427 - auc: 0.9864 - accuracy: 0.9752\n",
            "Epoch 30/30\n",
            "533/533 [==============================] - 150s 280ms/step - loss: 1.2149 - auc: 0.9891 - accuracy: 0.9778\n"
          ]
        }
      ]
    },
    {
      "cell_type": "code",
      "source": [
        "!cp ./logs/checkpoints/RGB-model-25.h5 ./drive/MyDrive/checkpoints/rgb-model-25.h5\n",
        "!cp ./logs/checkpoints/RGB-model-30.h5 ./drive/MyDrive/checkpoints/rgb-model-30.h5"
      ],
      "metadata": {
        "id": "J48AzG6fdwcS"
      },
      "execution_count": 16,
      "outputs": []
    },
    {
      "cell_type": "code",
      "source": [
        "history = rgb_model.fit(train_ds,\n",
        "                        callbacks=callbacks,\n",
        "                        epochs=35,\n",
        "                        initial_epoch=30,\n",
        "                        class_weight=class_weight)"
      ],
      "metadata": {
        "id": "wNeKShx9OTPR",
        "outputId": "3027c786-bebc-47b8-e9db-70b77112c832",
        "colab": {
          "base_uri": "https://localhost:8080/"
        }
      },
      "execution_count": 18,
      "outputs": [
        {
          "output_type": "stream",
          "name": "stdout",
          "text": [
            "Epoch 31/35\n",
            "533/533 [==============================] - 151s 281ms/step - loss: 1.0675 - auc: 0.9903 - accuracy: 0.9807\n",
            "Epoch 32/35\n",
            "533/533 [==============================] - 150s 279ms/step - loss: 1.0857 - auc: 0.9901 - accuracy: 0.9802\n",
            "Epoch 33/35\n",
            "533/533 [==============================] - 150s 280ms/step - loss: 0.9595 - auc: 0.9909 - accuracy: 0.9813\n",
            "Epoch 34/35\n",
            "533/533 [==============================] - 151s 281ms/step - loss: 0.8930 - auc: 0.9919 - accuracy: 0.9819\n",
            "Epoch 35/35\n",
            "533/533 [==============================] - 151s 280ms/step - loss: 0.8100 - auc: 0.9929 - accuracy: 0.9838\n"
          ]
        }
      ]
    },
    {
      "cell_type": "code",
      "source": [
        "!cp ./logs/checkpoints/RGB-model-35.h5 ./drive/MyDrive/checkpoints/rgb-model-35.h5"
      ],
      "metadata": {
        "id": "WbjwPjbQR6HJ"
      },
      "execution_count": 19,
      "outputs": []
    }
  ],
  "metadata": {
    "accelerator": "GPU",
    "colab": {
      "name": "rgb_model.ipynb",
      "provenance": [],
      "include_colab_link": true
    },
    "kernelspec": {
      "display_name": "Python 3 (ipykernel)",
      "language": "python",
      "name": "python3"
    },
    "language_info": {
      "codemirror_mode": {
        "name": "ipython",
        "version": 3
      },
      "file_extension": ".py",
      "mimetype": "text/x-python",
      "name": "python",
      "nbconvert_exporter": "python",
      "pygments_lexer": "ipython3",
      "version": "3.8.10"
    },
    "gpuClass": "standard"
  },
  "nbformat": 4,
  "nbformat_minor": 0
}