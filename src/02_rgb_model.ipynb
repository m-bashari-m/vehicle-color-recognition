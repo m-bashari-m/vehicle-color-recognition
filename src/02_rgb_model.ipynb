{
  "cells": [
    {
      "cell_type": "markdown",
      "metadata": {
        "id": "view-in-github",
        "colab_type": "text"
      },
      "source": [
        "<a href=\"https://colab.research.google.com/github/m-bashari-m/vehicle-color-recognition/blob/main/src/02_rgb_model.ipynb\" target=\"_parent\"><img src=\"https://colab.research.google.com/assets/colab-badge.svg\" alt=\"Open In Colab\"/></a>"
      ]
    },
    {
      "cell_type": "code",
      "execution_count": 1,
      "metadata": {
        "colab": {
          "base_uri": "https://localhost:8080/"
        },
        "id": "lo1t1tO9y6L4",
        "outputId": "f5924d5b-e9db-432f-fbfa-46df64bd2743"
      },
      "outputs": [
        {
          "output_type": "stream",
          "name": "stdout",
          "text": [
            "--2022-06-25 08:36:27--  https://raw.githubusercontent.com/m-bashari-m/vehicle-color-recognition/main/src/utils.py\n",
            "Resolving raw.githubusercontent.com (raw.githubusercontent.com)... 185.199.108.133, 185.199.109.133, 185.199.110.133, ...\n",
            "Connecting to raw.githubusercontent.com (raw.githubusercontent.com)|185.199.108.133|:443... connected.\n",
            "HTTP request sent, awaiting response... 200 OK\n",
            "Length: 12099 (12K) [text/plain]\n",
            "Saving to: ‘utils.py’\n",
            "\n",
            "\rutils.py              0%[                    ]       0  --.-KB/s               \rutils.py            100%[===================>]  11.82K  --.-KB/s    in 0s      \n",
            "\n",
            "2022-06-25 08:36:27 (51.2 MB/s) - ‘utils.py’ saved [12099/12099]\n",
            "\n"
          ]
        }
      ],
      "source": [
        "# Prepare utils file\n",
        "\n",
        "!wget https://raw.githubusercontent.com/m-bashari-m/vehicle-color-recognition/main/src/utils.py"
      ]
    },
    {
      "cell_type": "code",
      "execution_count": 3,
      "metadata": {
        "colab": {
          "base_uri": "https://localhost:8080/"
        },
        "id": "bRdIPsPcp2OF",
        "outputId": "52ccd049-dab1-4ccf-90a3-a6f02d69fb96"
      },
      "outputs": [
        {
          "output_type": "stream",
          "name": "stdout",
          "text": [
            "Mounted at ./drive\n"
          ]
        }
      ],
      "source": [
        "from google.colab import drive\n",
        "drive.mount('./drive')"
      ]
    },
    {
      "cell_type": "code",
      "execution_count": 4,
      "metadata": {
        "id": "OqaOJQP4krhr"
      },
      "outputs": [],
      "source": [
        "import pandas as pd\n",
        "import numpy as np\n",
        "import os\n",
        "\n",
        "import tensorflow as tf\n",
        "from tensorflow import keras\n",
        "import tensorflow_hub as hub\n",
        "\n",
        "from utils import ModelCreator, get_train_val_ds, ErrorAnalyzer, get_class_weight"
      ]
    },
    {
      "cell_type": "code",
      "execution_count": 5,
      "metadata": {
        "id": "3b2ik0jzro3S"
      },
      "outputs": [],
      "source": [
        "BATCH_SIZE = 32\n",
        "IMG_SIZE = (224, 224)\n",
        "AUTOTUNE = tf.data.AUTOTUNE\n",
        "N_CLASSES = 16\n",
        "HUB_URL = 'https://tfhub.dev/google/imagenet/efficientnet_v2_imagenet21k_ft1k_b3/feature_vector/2'"
      ]
    },
    {
      "cell_type": "code",
      "execution_count": 6,
      "metadata": {
        "id": "fdtpr6ZArLEQ"
      },
      "outputs": [],
      "source": [
        "dataset_dir = os.path.join('drive', 'MyDrive', 'cars')\n",
        "train_dir = os.path.join(dataset_dir, 'train')\n",
        "val_dir = os.path.join(dataset_dir, 'val')"
      ]
    },
    {
      "cell_type": "code",
      "execution_count": 7,
      "metadata": {
        "colab": {
          "base_uri": "https://localhost:8080/"
        },
        "id": "2Aqeb_chrbtm",
        "outputId": "3e4e2b70-d8ad-4e67-baba-5b7c526119e0"
      },
      "outputs": [
        {
          "output_type": "stream",
          "name": "stdout",
          "text": [
            "Found 16580 files belonging to 16 classes.\n",
            "Found 3508 files belonging to 16 classes.\n"
          ]
        }
      ],
      "source": [
        "# Get shuffled train and validation dataset with one-hot labels\n",
        "\n",
        "train_ds, val_ds = get_train_val_ds(train_dir, val_dir, batch_size=BATCH_SIZE, img_size=IMG_SIZE)"
      ]
    },
    {
      "cell_type": "code",
      "execution_count": 8,
      "metadata": {
        "id": "gDHgOmiOonos"
      },
      "outputs": [],
      "source": [
        "# Get class weights which have calculated from the previous notebook and stored in github\n",
        "\n",
        "classes, class_weight = get_class_weight()"
      ]
    },
    {
      "cell_type": "code",
      "execution_count": null,
      "metadata": {
        "colab": {
          "base_uri": "https://localhost:8080/"
        },
        "id": "KUMoLJLRpBiS",
        "outputId": "b4906a0f-7e61-4234-ca99-cebe6fde9c14"
      },
      "outputs": [
        {
          "output_type": "stream",
          "name": "stdout",
          "text": [
            "beige     \t=> 17.94\n",
            "black     \t=> 13.8\n",
            "blue     \t=> 15.47\n",
            "brown     \t=> 17.92\n",
            "cream     \t=> 56.81\n",
            "crimson     \t=> 76.43\n",
            "gold     \t=> 56.81\n",
            "green     \t=> 21.2\n",
            "grey     \t=> 12.41\n",
            "navy-blue     \t=> 58.77\n",
            "orange     \t=> 22.37\n",
            "red     \t=> 16.39\n",
            "silver     \t=> 20.17\n",
            "titanium     \t=> 56.81\n",
            "white     \t=> 2.97\n",
            "yellow     \t=> 20.68\n"
          ]
        }
      ],
      "source": [
        "for color, weight in zip(classes, class_weight.values()):\n",
        "  print(color, \"    \\t=>\", weight)"
      ]
    },
    {
      "cell_type": "code",
      "execution_count": 9,
      "metadata": {
        "id": "HTaqr5PL3RI5"
      },
      "outputs": [],
      "source": [
        "train_ds = (\n",
        "    train_ds.\n",
        "    map(lambda img, lbl: (img/255., lbl), num_parallel_calls=AUTOTUNE).\n",
        "    prefetch(AUTOTUNE))\n",
        "\n",
        "val_ds = (\n",
        "    val_ds.\n",
        "    map(lambda img, lbl: (img/255., lbl), num_parallel_calls=AUTOTUNE).\n",
        "    prefetch(AUTOTUNE))"
      ]
    },
    {
      "cell_type": "code",
      "execution_count": 10,
      "metadata": {
        "id": "jxQRFlkkwx97",
        "outputId": "4621f139-596a-4dd0-9c67-ced41241d42c",
        "colab": {
          "base_uri": "https://localhost:8080/"
        }
      },
      "outputs": [
        {
          "output_type": "stream",
          "name": "stdout",
          "text": [
            "Model: \"RGB-model\"\n",
            "_________________________________________________________________\n",
            " Layer (type)                Output Shape              Param #   \n",
            "=================================================================\n",
            " keras_layer (KerasLayer)    (None, 1536)              12930622  \n",
            "                                                                 \n",
            " dense (Dense)               (None, 16)                24592     \n",
            "                                                                 \n",
            "=================================================================\n",
            "Total params: 12,955,214\n",
            "Trainable params: 12,845,998\n",
            "Non-trainable params: 109,216\n",
            "_________________________________________________________________\n"
          ]
        }
      ],
      "source": [
        "rgb_creator = ModelCreator(HUB_URL, 'RGB-model')\n",
        "rgb_model = rgb_creator.make_model(img_size=IMG_SIZE)"
      ]
    },
    {
      "cell_type": "code",
      "source": [
        "# Callbacks are EarlyStopping and ModelCheckpoint\n",
        "\n",
        "callbacks = rgb_creator.get_callbacks()"
      ],
      "metadata": {
        "id": "jm7eCvLpb8CN"
      },
      "execution_count": 11,
      "outputs": []
    },
    {
      "cell_type": "code",
      "source": [
        "history = rgb_model.fit(train_ds,\n",
        "                        callbacks=callbacks,\n",
        "                        epochs=15,\n",
        "                        validation_data=val_ds,\n",
        "                        class_weight=class_weight)"
      ],
      "metadata": {
        "id": "8z71vSshIzN4",
        "outputId": "45eeb920-3c2a-4de4-b5e4-643b0bc75378",
        "colab": {
          "base_uri": "https://localhost:8080/"
        }
      },
      "execution_count": 12,
      "outputs": [
        {
          "output_type": "stream",
          "name": "stdout",
          "text": [
            "Epoch 1/15\n",
            "519/519 [==============================] - 2636s 5s/step - loss: 14.9032 - auc: 0.7918 - accuracy: 0.7065 - val_loss: 1.0909 - val_auc: 0.6769 - val_accuracy: 0.6212\n",
            "Epoch 2/15\n",
            "519/519 [==============================] - 191s 365ms/step - loss: 8.9283 - auc: 0.8978 - accuracy: 0.8128 - val_loss: 0.8043 - val_auc: 0.8214 - val_accuracy: 0.7289\n",
            "Epoch 3/15\n",
            "519/519 [==============================] - 184s 352ms/step - loss: 6.6187 - auc: 0.9327 - accuracy: 0.8605 - val_loss: 1.7000 - val_auc: 0.5446 - val_accuracy: 0.5205\n",
            "Epoch 4/15\n",
            "519/519 [==============================] - 185s 354ms/step - loss: 5.5756 - auc: 0.9380 - accuracy: 0.8710 - val_loss: 0.7676 - val_auc: 0.8625 - val_accuracy: 0.8002\n",
            "Epoch 5/15\n",
            "519/519 [==============================] - 185s 355ms/step - loss: 3.8524 - auc: 0.9675 - accuracy: 0.9106 - val_loss: 0.6678 - val_auc: 0.8889 - val_accuracy: 0.8235\n",
            "Epoch 6/15\n",
            "519/519 [==============================] - 190s 363ms/step - loss: 3.2511 - auc: 0.9731 - accuracy: 0.9223 - val_loss: 0.9366 - val_auc: 0.8378 - val_accuracy: 0.7910\n",
            "Epoch 7/15\n",
            "519/519 [==============================] - 189s 362ms/step - loss: 2.1460 - auc: 0.9857 - accuracy: 0.9482 - val_loss: 0.7925 - val_auc: 0.8807 - val_accuracy: 0.8255\n",
            "Epoch 8/15\n",
            "519/519 [==============================] - 190s 363ms/step - loss: 3.2684 - auc: 0.9721 - accuracy: 0.9213 - val_loss: 0.9416 - val_auc: 0.8552 - val_accuracy: 0.8124\n",
            "Epoch 9/15\n",
            "519/519 [==============================] - 185s 354ms/step - loss: 1.6095 - auc: 0.9905 - accuracy: 0.9623 - val_loss: 1.0023 - val_auc: 0.8559 - val_accuracy: 0.8253\n",
            "Epoch 10/15\n",
            "519/519 [==============================] - 184s 353ms/step - loss: 0.9515 - auc: 0.9953 - accuracy: 0.9765 - val_loss: 1.0890 - val_auc: 0.8309 - val_accuracy: 0.8030\n",
            "Epoch 10: early stopping\n"
          ]
        }
      ]
    },
    {
      "cell_type": "code",
      "source": [
        "history = rgb_model.fit(train_ds,\n",
        "                        callbacks=callbacks,\n",
        "                        epochs=20,\n",
        "                        initial_epoch=10,\n",
        "                        validation_data=val_ds,\n",
        "                        class_weight=class_weight)"
      ],
      "metadata": {
        "id": "f32JB8H3SLus",
        "outputId": "1f3c966f-ad29-4f78-a87b-a0c32c9f1497",
        "colab": {
          "base_uri": "https://localhost:8080/"
        }
      },
      "execution_count": 15,
      "outputs": [
        {
          "output_type": "stream",
          "name": "stdout",
          "text": [
            "Epoch 11/20\n",
            "519/519 [==============================] - 189s 363ms/step - loss: 0.7564 - auc: 0.9967 - accuracy: 0.9817 - val_loss: 1.0689 - val_auc: 0.8392 - val_accuracy: 0.8170\n",
            "Epoch 12/20\n",
            "519/519 [==============================] - 185s 355ms/step - loss: 0.7321 - auc: 0.9970 - accuracy: 0.9846 - val_loss: 1.1278 - val_auc: 0.8477 - val_accuracy: 0.8355\n",
            "Epoch 13/20\n",
            "519/519 [==============================] - 185s 354ms/step - loss: 0.5081 - auc: 0.9975 - accuracy: 0.9874 - val_loss: 1.1698 - val_auc: 0.8339 - val_accuracy: 0.8213\n",
            "Epoch 14/20\n",
            "519/519 [==============================] - 185s 354ms/step - loss: 0.4426 - auc: 0.9973 - accuracy: 0.9879 - val_loss: 1.3878 - val_auc: 0.8044 - val_accuracy: 0.8039\n",
            "Epoch 15/20\n",
            "519/519 [==============================] - 190s 364ms/step - loss: 0.3734 - auc: 0.9985 - accuracy: 0.9911 - val_loss: 1.2638 - val_auc: 0.8245 - val_accuracy: 0.8067\n",
            "Epoch 16/20\n",
            "519/519 [==============================] - 190s 364ms/step - loss: 0.5160 - auc: 0.9966 - accuracy: 0.9839 - val_loss: 1.1832 - val_auc: 0.8395 - val_accuracy: 0.8287\n",
            "Epoch 17/20\n",
            "519/519 [==============================] - 190s 363ms/step - loss: 0.3323 - auc: 0.9982 - accuracy: 0.9923 - val_loss: 1.0218 - val_auc: 0.8499 - val_accuracy: 0.8310\n",
            "Epoch 18/20\n",
            "519/519 [==============================] - 184s 353ms/step - loss: 0.2522 - auc: 0.9988 - accuracy: 0.9928 - val_loss: 1.1139 - val_auc: 0.8401 - val_accuracy: 0.8330\n",
            "Epoch 19/20\n",
            "519/519 [==============================] - 190s 363ms/step - loss: 0.2054 - auc: 0.9992 - accuracy: 0.9954 - val_loss: 1.2367 - val_auc: 0.8352 - val_accuracy: 0.8361\n",
            "Epoch 20/20\n",
            "519/519 [==============================] - 185s 354ms/step - loss: 0.1470 - auc: 0.9994 - accuracy: 0.9960 - val_loss: 1.1849 - val_auc: 0.8448 - val_accuracy: 0.8401\n"
          ]
        }
      ]
    },
    {
      "cell_type": "code",
      "source": [
        "!cp ./logs/checkpoints/RGB-model.h5 ./drive/MyDrive/checkpoints/rgb-model-final.h5"
      ],
      "metadata": {
        "id": "r8SwGzblJcoY"
      },
      "execution_count": 16,
      "outputs": []
    }
  ],
  "metadata": {
    "accelerator": "GPU",
    "colab": {
      "name": "rgb_model.ipynb",
      "provenance": [],
      "include_colab_link": true
    },
    "kernelspec": {
      "display_name": "Python 3 (ipykernel)",
      "language": "python",
      "name": "python3"
    },
    "language_info": {
      "codemirror_mode": {
        "name": "ipython",
        "version": 3
      },
      "file_extension": ".py",
      "mimetype": "text/x-python",
      "name": "python",
      "nbconvert_exporter": "python",
      "pygments_lexer": "ipython3",
      "version": "3.8.10"
    },
    "gpuClass": "standard"
  },
  "nbformat": 4,
  "nbformat_minor": 0
}