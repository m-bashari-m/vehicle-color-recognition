{
  "cells": [
    {
      "cell_type": "markdown",
      "metadata": {
        "id": "view-in-github",
        "colab_type": "text"
      },
      "source": [
        "<a href=\"https://colab.research.google.com/github/m-bashari-m/vehicle-color-recognition/blob/main/src/02_rgb_model.ipynb\" target=\"_parent\"><img src=\"https://colab.research.google.com/assets/colab-badge.svg\" alt=\"Open In Colab\"/></a>"
      ]
    },
    {
      "cell_type": "code",
      "execution_count": 1,
      "metadata": {
        "colab": {
          "base_uri": "https://localhost:8080/"
        },
        "id": "lo1t1tO9y6L4",
        "outputId": "8920d0c1-4b50-4eec-fd27-d89652543edc"
      },
      "outputs": [
        {
          "output_type": "stream",
          "name": "stdout",
          "text": [
            "--2022-06-27 01:55:42--  https://raw.githubusercontent.com/m-bashari-m/vehicle-color-recognition/main/src/utils.py\n",
            "Resolving raw.githubusercontent.com (raw.githubusercontent.com)... 185.199.108.133, 185.199.109.133, 185.199.110.133, ...\n",
            "Connecting to raw.githubusercontent.com (raw.githubusercontent.com)|185.199.108.133|:443... connected.\n",
            "HTTP request sent, awaiting response... 200 OK\n",
            "Length: 12110 (12K) [text/plain]\n",
            "Saving to: ‘utils.py’\n",
            "\n",
            "\rutils.py              0%[                    ]       0  --.-KB/s               \rutils.py            100%[===================>]  11.83K  --.-KB/s    in 0s      \n",
            "\n",
            "2022-06-27 01:55:42 (105 MB/s) - ‘utils.py’ saved [12110/12110]\n",
            "\n"
          ]
        }
      ],
      "source": [
        "# Prepare utils file\n",
        "\n",
        "!wget https://raw.githubusercontent.com/m-bashari-m/vehicle-color-recognition/main/src/utils.py"
      ]
    },
    {
      "cell_type": "code",
      "execution_count": 2,
      "metadata": {
        "colab": {
          "base_uri": "https://localhost:8080/"
        },
        "id": "bRdIPsPcp2OF",
        "outputId": "d9bd0ac8-b6b8-4ea5-947a-333cae1d1407"
      },
      "outputs": [
        {
          "output_type": "stream",
          "name": "stdout",
          "text": [
            "Mounted at ./drive\n"
          ]
        }
      ],
      "source": [
        "from google.colab import drive\n",
        "drive.mount('./drive')"
      ]
    },
    {
      "cell_type": "code",
      "execution_count": 5,
      "metadata": {
        "id": "OqaOJQP4krhr"
      },
      "outputs": [],
      "source": [
        "import pandas as pd\n",
        "import numpy as np\n",
        "import os\n",
        "\n",
        "import tensorflow as tf\n",
        "from tensorflow import keras\n",
        "import tensorflow_hub as hub\n",
        "\n",
        "from utils import ModelCreator, get_train_val_ds, ErrorAnalyzer, get_class_weight"
      ]
    },
    {
      "cell_type": "code",
      "execution_count": 4,
      "metadata": {
        "id": "3b2ik0jzro3S"
      },
      "outputs": [],
      "source": [
        "BATCH_SIZE = 32\n",
        "IMG_SIZE = (224, 224)\n",
        "AUTOTUNE = tf.data.AUTOTUNE\n",
        "N_CLASSES = 16\n",
        "HUB_URL = 'https://tfhub.dev/google/imagenet/efficientnet_v2_imagenet21k_ft1k_b3/feature_vector/2'"
      ]
    },
    {
      "cell_type": "code",
      "execution_count": 6,
      "metadata": {
        "id": "fdtpr6ZArLEQ"
      },
      "outputs": [],
      "source": [
        "dataset_dir = os.path.join('drive', 'MyDrive', 'cars')\n",
        "train_dir = os.path.join(dataset_dir, 'train')\n",
        "val_dir = os.path.join(dataset_dir, 'val')"
      ]
    },
    {
      "cell_type": "code",
      "execution_count": 7,
      "metadata": {
        "colab": {
          "base_uri": "https://localhost:8080/"
        },
        "id": "2Aqeb_chrbtm",
        "outputId": "25f7aa14-288d-4593-be29-c7a4d442d369"
      },
      "outputs": [
        {
          "output_type": "stream",
          "name": "stdout",
          "text": [
            "Found 16580 files belonging to 16 classes.\n",
            "Found 3508 files belonging to 16 classes.\n"
          ]
        }
      ],
      "source": [
        "# Get shuffled train and validation dataset with one-hot labels\n",
        "\n",
        "train_ds, val_ds = get_train_val_ds(train_dir, val_dir, batch_size=BATCH_SIZE, img_size=IMG_SIZE)"
      ]
    },
    {
      "cell_type": "code",
      "execution_count": 8,
      "metadata": {
        "id": "gDHgOmiOonos"
      },
      "outputs": [],
      "source": [
        "# Get class weights which have calculated from the previous notebook and stored in github\n",
        "\n",
        "classes, class_weight = get_class_weight()"
      ]
    },
    {
      "cell_type": "code",
      "execution_count": null,
      "metadata": {
        "colab": {
          "base_uri": "https://localhost:8080/"
        },
        "id": "KUMoLJLRpBiS",
        "outputId": "b4906a0f-7e61-4234-ca99-cebe6fde9c14"
      },
      "outputs": [
        {
          "output_type": "stream",
          "name": "stdout",
          "text": [
            "beige     \t=> 17.94\n",
            "black     \t=> 13.8\n",
            "blue     \t=> 15.47\n",
            "brown     \t=> 17.92\n",
            "cream     \t=> 56.81\n",
            "crimson     \t=> 76.43\n",
            "gold     \t=> 56.81\n",
            "green     \t=> 21.2\n",
            "grey     \t=> 12.41\n",
            "navy-blue     \t=> 58.77\n",
            "orange     \t=> 22.37\n",
            "red     \t=> 16.39\n",
            "silver     \t=> 20.17\n",
            "titanium     \t=> 56.81\n",
            "white     \t=> 2.97\n",
            "yellow     \t=> 20.68\n"
          ]
        }
      ],
      "source": [
        "for color, weight in zip(classes, class_weight.values()):\n",
        "  print(color, \"    \\t=>\", weight)"
      ]
    },
    {
      "cell_type": "code",
      "execution_count": 9,
      "metadata": {
        "id": "HTaqr5PL3RI5"
      },
      "outputs": [],
      "source": [
        "train_ds = (\n",
        "    train_ds.\n",
        "    map(lambda img, lbl: (img/255., lbl), num_parallel_calls=AUTOTUNE).\n",
        "    prefetch(AUTOTUNE))\n",
        "\n",
        "val_ds = (\n",
        "    val_ds.\n",
        "    map(lambda img, lbl: (img/255., lbl), num_parallel_calls=AUTOTUNE).\n",
        "    prefetch(AUTOTUNE))"
      ]
    },
    {
      "cell_type": "code",
      "execution_count": 10,
      "metadata": {
        "id": "jxQRFlkkwx97",
        "outputId": "d3c91706-890d-48ba-b2d9-c6d2767a37fa",
        "colab": {
          "base_uri": "https://localhost:8080/"
        }
      },
      "outputs": [
        {
          "output_type": "stream",
          "name": "stdout",
          "text": [
            "Model: \"RGB-model\"\n",
            "_________________________________________________________________\n",
            " Layer (type)                Output Shape              Param #   \n",
            "=================================================================\n",
            " keras_layer (KerasLayer)    (None, 1536)              12930622  \n",
            "                                                                 \n",
            " dense (Dense)               (None, 16)                24592     \n",
            "                                                                 \n",
            "=================================================================\n",
            "Total params: 12,955,214\n",
            "Trainable params: 12,845,998\n",
            "Non-trainable params: 109,216\n",
            "_________________________________________________________________\n"
          ]
        }
      ],
      "source": [
        "rgb_creator = ModelCreator(HUB_URL, 'RGB-model')\n",
        "rgb_model = rgb_creator.make_model(img_size=IMG_SIZE)"
      ]
    },
    {
      "cell_type": "code",
      "source": [
        "# Callbacks are EarlyStopping and ModelCheckpoint\n",
        "\n",
        "callbacks = rgb_creator.get_callbacks()"
      ],
      "metadata": {
        "id": "jm7eCvLpb8CN"
      },
      "execution_count": 11,
      "outputs": []
    },
    {
      "cell_type": "code",
      "source": [
        "history = rgb_model.fit(train_ds,\n",
        "                        callbacks=callbacks,\n",
        "                        epochs=15,\n",
        "                        validation_data=val_ds,\n",
        "                        class_weight=class_weight)"
      ],
      "metadata": {
        "id": "8z71vSshIzN4",
        "outputId": "d6d41281-e16f-49f5-aa48-fb811ad6b8d9",
        "colab": {
          "base_uri": "https://localhost:8080/"
        }
      },
      "execution_count": 12,
      "outputs": [
        {
          "output_type": "stream",
          "name": "stdout",
          "text": [
            "Epoch 1/15\n",
            "519/519 [==============================] - 2689s 5s/step - loss: 15.0181 - auc: 0.7889 - accuracy: 0.7040 - val_loss: 1.0045 - val_auc: 0.7907 - val_accuracy: 0.7178\n",
            "Epoch 2/15\n",
            "519/519 [==============================] - 197s 376ms/step - loss: 9.1691 - auc: 0.8910 - accuracy: 0.8104 - val_loss: 0.6810 - val_auc: 0.8701 - val_accuracy: 0.7834\n",
            "Epoch 3/15\n",
            "519/519 [==============================] - 189s 363ms/step - loss: 6.8658 - auc: 0.9288 - accuracy: 0.8548 - val_loss: 0.8694 - val_auc: 0.8353 - val_accuracy: 0.7603\n",
            "Epoch 4/15\n",
            "519/519 [==============================] - 190s 364ms/step - loss: 5.4483 - auc: 0.9433 - accuracy: 0.8747 - val_loss: 0.7391 - val_auc: 0.8682 - val_accuracy: 0.8013\n",
            "Epoch 5/15\n",
            "519/519 [==============================] - 191s 365ms/step - loss: 3.8624 - auc: 0.9683 - accuracy: 0.9125 - val_loss: 0.7407 - val_auc: 0.8815 - val_accuracy: 0.8176\n",
            "Epoch 6/15\n",
            "519/519 [==============================] - 191s 366ms/step - loss: 2.9939 - auc: 0.9775 - accuracy: 0.9321 - val_loss: 0.7516 - val_auc: 0.8806 - val_accuracy: 0.8250\n",
            "Epoch 7/15\n",
            "519/519 [==============================] - 195s 373ms/step - loss: 2.1450 - auc: 0.9864 - accuracy: 0.9487 - val_loss: 0.8824 - val_auc: 0.8632 - val_accuracy: 0.8213\n",
            "Epoch 8/15\n",
            "519/519 [==============================] - 190s 364ms/step - loss: 2.1670 - auc: 0.9842 - accuracy: 0.9498 - val_loss: 0.7445 - val_auc: 0.8795 - val_accuracy: 0.8352\n",
            "Epoch 9/15\n",
            "519/519 [==============================] - 194s 372ms/step - loss: 1.3096 - auc: 0.9933 - accuracy: 0.9666 - val_loss: 0.9156 - val_auc: 0.8585 - val_accuracy: 0.8270\n",
            "Epoch 10/15\n",
            "519/519 [==============================] - 194s 371ms/step - loss: 0.8313 - auc: 0.9960 - accuracy: 0.9795 - val_loss: 1.0659 - val_auc: 0.8402 - val_accuracy: 0.8218\n",
            "Epoch 11/15\n",
            "519/519 [==============================] - 194s 373ms/step - loss: 0.7427 - auc: 0.9962 - accuracy: 0.9815 - val_loss: 1.1147 - val_auc: 0.8324 - val_accuracy: 0.8201\n",
            "Epoch 12/15\n",
            "519/519 [==============================] - 189s 361ms/step - loss: 0.6550 - auc: 0.9968 - accuracy: 0.9822 - val_loss: 1.0805 - val_auc: 0.8418 - val_accuracy: 0.8136\n",
            "Epoch 13/15\n",
            "519/519 [==============================] - 194s 372ms/step - loss: 0.4782 - auc: 0.9981 - accuracy: 0.9890 - val_loss: 1.1198 - val_auc: 0.8351 - val_accuracy: 0.8241\n",
            "Epoch 14/15\n",
            "519/519 [==============================] - 189s 362ms/step - loss: 0.4548 - auc: 0.9980 - accuracy: 0.9892 - val_loss: 0.9620 - val_auc: 0.8588 - val_accuracy: 0.8426\n",
            "Epoch 15/15\n",
            "519/519 [==============================] - 189s 362ms/step - loss: 0.4414 - auc: 0.9985 - accuracy: 0.9899 - val_loss: 1.1661 - val_auc: 0.8287 - val_accuracy: 0.8124\n"
          ]
        }
      ]
    },
    {
      "cell_type": "code",
      "source": [
        "history = rgb_model.fit(train_ds,\n",
        "                        callbacks=callbacks,\n",
        "                        epochs=20,\n",
        "                        initial_epoch=15,\n",
        "                        validation_data=val_ds,\n",
        "                        class_weight=class_weight)"
      ],
      "metadata": {
        "id": "f32JB8H3SLus",
        "outputId": "00ba7b2c-f32e-4e81-bf60-d0da26831397",
        "colab": {
          "base_uri": "https://localhost:8080/"
        }
      },
      "execution_count": 13,
      "outputs": [
        {
          "output_type": "stream",
          "name": "stdout",
          "text": [
            "Epoch 16/20\n",
            "519/519 [==============================] - 195s 374ms/step - loss: 0.3051 - auc: 0.9989 - accuracy: 0.9923 - val_loss: 1.3207 - val_auc: 0.8238 - val_accuracy: 0.8224\n",
            "Epoch 17/20\n",
            "519/519 [==============================] - 188s 361ms/step - loss: 0.4224 - auc: 0.9977 - accuracy: 0.9900 - val_loss: 1.2046 - val_auc: 0.8337 - val_accuracy: 0.8312\n",
            "Epoch 18/20\n",
            "519/519 [==============================] - 194s 372ms/step - loss: 0.1779 - auc: 0.9995 - accuracy: 0.9959 - val_loss: 1.2166 - val_auc: 0.8304 - val_accuracy: 0.8261\n",
            "Epoch 19/20\n",
            "519/519 [==============================] - 188s 361ms/step - loss: 0.1403 - auc: 0.9993 - accuracy: 0.9970 - val_loss: 1.4170 - val_auc: 0.8114 - val_accuracy: 0.8147\n",
            "Epoch 20/20\n",
            "519/519 [==============================] - 188s 361ms/step - loss: 0.2190 - auc: 0.9991 - accuracy: 0.9941 - val_loss: 1.4189 - val_auc: 0.8231 - val_accuracy: 0.8284\n"
          ]
        }
      ]
    },
    {
      "cell_type": "code",
      "source": [
        "!cp ./logs/checkpoints/RGB-model.h5 ./drive/MyDrive/checkpoints/rgb-model.h5"
      ],
      "metadata": {
        "id": "r8SwGzblJcoY"
      },
      "execution_count": 14,
      "outputs": []
    }
  ],
  "metadata": {
    "accelerator": "GPU",
    "colab": {
      "name": "rgb_model.ipynb",
      "provenance": [],
      "include_colab_link": true
    },
    "kernelspec": {
      "display_name": "Python 3 (ipykernel)",
      "language": "python",
      "name": "python3"
    },
    "language_info": {
      "codemirror_mode": {
        "name": "ipython",
        "version": 3
      },
      "file_extension": ".py",
      "mimetype": "text/x-python",
      "name": "python",
      "nbconvert_exporter": "python",
      "pygments_lexer": "ipython3",
      "version": "3.8.10"
    },
    "gpuClass": "standard"
  },
  "nbformat": 4,
  "nbformat_minor": 0
}