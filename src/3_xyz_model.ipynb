{
  "cells": [
    {
      "cell_type": "markdown",
      "metadata": {
        "id": "view-in-github",
        "colab_type": "text"
      },
      "source": [
        "<a href=\"https://colab.research.google.com/github/m-bashari-m/vehicle-color-recognition/blob/main/src/xyz_model.ipynb\" target=\"_parent\"><img src=\"https://colab.research.google.com/assets/colab-badge.svg\" alt=\"Open In Colab\"/></a>"
      ]
    },
    {
      "cell_type": "code",
      "execution_count": 1,
      "metadata": {
        "colab": {
          "base_uri": "https://localhost:8080/"
        },
        "id": "FaoIT7KdsydD",
        "outputId": "a99de6da-170e-44a5-b4fa-dd38b790ad32"
      },
      "outputs": [
        {
          "output_type": "stream",
          "name": "stdout",
          "text": [
            "--2022-06-07 18:31:47--  https://raw.githubusercontent.com/m-bashari-m/vehicle-color-recognition/main/src/utils.py\n",
            "Resolving raw.githubusercontent.com (raw.githubusercontent.com)... 185.199.108.133, 185.199.111.133, 185.199.109.133, ...\n",
            "Connecting to raw.githubusercontent.com (raw.githubusercontent.com)|185.199.108.133|:443... connected.\n",
            "HTTP request sent, awaiting response... 200 OK\n",
            "Length: 9887 (9.7K) [text/plain]\n",
            "Saving to: ‘utils.py’\n",
            "\n",
            "\rutils.py              0%[                    ]       0  --.-KB/s               \rutils.py            100%[===================>]   9.66K  --.-KB/s    in 0s      \n",
            "\n",
            "2022-06-07 18:31:47 (76.9 MB/s) - ‘utils.py’ saved [9887/9887]\n",
            "\n"
          ]
        }
      ],
      "source": [
        "!wget https://raw.githubusercontent.com/m-bashari-m/vehicle-color-recognition/main/src/utils.py"
      ]
    },
    {
      "cell_type": "code",
      "execution_count": 2,
      "metadata": {
        "colab": {
          "base_uri": "https://localhost:8080/"
        },
        "id": "HytB7-lTs7g5",
        "outputId": "82ac645f-c56d-4bfd-b484-b0a20e8f5214"
      },
      "outputs": [
        {
          "output_type": "stream",
          "name": "stdout",
          "text": [
            "Mounted at ./drive\n"
          ]
        }
      ],
      "source": [
        "from google.colab import drive\n",
        "drive.mount('./drive')"
      ]
    },
    {
      "cell_type": "code",
      "execution_count": 3,
      "metadata": {
        "id": "dQvl_Em4s8Oi",
        "outputId": "3ab1addf-67e5-4ad2-8995-819057e5eadc",
        "colab": {
          "base_uri": "https://localhost:8080/"
        }
      },
      "outputs": [
        {
          "output_type": "stream",
          "name": "stdout",
          "text": [
            "\u001b[K     |████████████████████████████████| 25.9 MB 1.3 MB/s \n",
            "\u001b[?25h"
          ]
        }
      ],
      "source": [
        "import pandas as pd\n",
        "import numpy as np\n",
        "import os\n",
        "\n",
        "import tensorflow as tf\n",
        "from tensorflow import keras\n",
        "import tensorflow_hub as hub\n",
        "\n",
        "!pip install -q tensorflow-io\n",
        "import tensorflow_io as tfio\n",
        "\n",
        "from utils import ModelCreator, get_train_val_ds, get_class_weight"
      ]
    },
    {
      "cell_type": "code",
      "execution_count": 4,
      "metadata": {
        "id": "S5qkZw4Ns8Z7"
      },
      "outputs": [],
      "source": [
        "BATCH_SIZE = 32\n",
        "IMG_SIZE = (256, 256)\n",
        "AUTOTUNE = tf.data.AUTOTUNE\n",
        "N_CLASSES = 16\n",
        "HUB_URL = 'https://tfhub.dev/google/bit/m-r50x1/1'"
      ]
    },
    {
      "cell_type": "code",
      "execution_count": 5,
      "metadata": {
        "id": "J8g_1jhQtDFq"
      },
      "outputs": [],
      "source": [
        "dataset_dir = os.path.join('drive', 'MyDrive', 'cars')\n",
        "train_dir = os.path.join(dataset_dir, 'train')\n",
        "val_dir = os.path.join(dataset_dir, 'val')"
      ]
    },
    {
      "cell_type": "code",
      "execution_count": 6,
      "metadata": {
        "colab": {
          "base_uri": "https://localhost:8080/"
        },
        "id": "ZDdC4GywtEQh",
        "outputId": "71ea5b9e-84cd-46d0-c8ae-17ad2da95585"
      },
      "outputs": [
        {
          "output_type": "stream",
          "name": "stdout",
          "text": [
            "Found 16580 files belonging to 16 classes.\n",
            "Found 3508 files belonging to 16 classes.\n"
          ]
        }
      ],
      "source": [
        "train_ds, _ = get_train_val_ds(train_dir, val_dir, batch_size=BATCH_SIZE, img_size=IMG_SIZE)"
      ]
    },
    {
      "cell_type": "code",
      "execution_count": 7,
      "metadata": {
        "id": "VfXJuXaItHeC"
      },
      "outputs": [],
      "source": [
        "classes, class_weight = get_class_weight()"
      ]
    },
    {
      "cell_type": "code",
      "execution_count": 8,
      "metadata": {
        "id": "YUizq5ZwtHqM"
      },
      "outputs": [],
      "source": [
        "train_ds = (\n",
        "    train_ds.\n",
        "    map(lambda img, lbl: (img/255., lbl), num_parallel_calls=AUTOTUNE).\n",
        "    map(lambda img, lbl: (tfio.experimental.color.rgb_to_xyz(img), lbl), num_parallel_calls=AUTOTUNE).\n",
        "    prefetch(AUTOTUNE))\n",
        "\n",
        "val_ds = (\n",
        "    val_ds.\n",
        "    map(lambda img, lbl: (img/255., lbl), num_parallel_calls=AUTOTUNE).\n",
        "    map(lambda img, lbl: (tfio.experimental.color.rgb_to_xyz(img), lbl), num_parallel_calls=AUTOTUNE).\n",
        "    prefetch(AUTOTUNE))"
      ]
    },
    {
      "cell_type": "code",
      "execution_count": 9,
      "metadata": {
        "id": "SOzs81ywtH3h",
        "outputId": "8b6863fd-51d9-40fa-b90b-1c0d322fdd53",
        "colab": {
          "base_uri": "https://localhost:8080/"
        }
      },
      "outputs": [
        {
          "output_type": "stream",
          "name": "stdout",
          "text": [
            "Model: \"XYZ-model\"\n",
            "_________________________________________________________________\n",
            " Layer (type)                Output Shape              Param #   \n",
            "=================================================================\n",
            " keras_layer (KerasLayer)    (None, 2048)              23500352  \n",
            "                                                                 \n",
            " dense (Dense)               (None, 600)               1229400   \n",
            "                                                                 \n",
            " dropout (Dropout)           (None, 600)               0         \n",
            "                                                                 \n",
            " dense_1 (Dense)             (None, 16)                9616      \n",
            "                                                                 \n",
            "=================================================================\n",
            "Total params: 24,739,368\n",
            "Trainable params: 1,239,016\n",
            "Non-trainable params: 23,500,352\n",
            "_________________________________________________________________\n"
          ]
        }
      ],
      "source": [
        "xyz_creator = ModelCreator(HUB_URL, 'XYZ-model')\n",
        "xyz_model = xyz_creator.make_model(img_size=IMG_SIZE)"
      ]
    },
    {
      "cell_type": "code",
      "source": [
        "callbacks = xyz_creator.get_callbacks()"
      ],
      "metadata": {
        "id": "rHnL7xHEoQLX"
      },
      "execution_count": 10,
      "outputs": []
    },
    {
      "cell_type": "markdown",
      "source": [
        "# **First** day of training"
      ],
      "metadata": {
        "id": "MbKbz4gzWBkV"
      }
    },
    {
      "cell_type": "code",
      "execution_count": null,
      "metadata": {
        "colab": {
          "base_uri": "https://localhost:8080/"
        },
        "id": "81hWi4y1utc0",
        "outputId": "530d877a-3e0b-42f8-cc35-695618ba73f4"
      },
      "outputs": [
        {
          "output_type": "stream",
          "name": "stdout",
          "text": [
            "Epoch 1/25\n",
            "519/519 [==============================] - 2665s 5s/step - loss: 1285.7012 - auc: 0.4276 - accuracy: 0.5987\n",
            "Epoch 2/25\n",
            "519/519 [==============================] - 172s 328ms/step - loss: 1400.2124 - auc: 0.4820 - accuracy: 0.6511\n",
            "Epoch 3/25\n",
            "519/519 [==============================] - 170s 324ms/step - loss: 1394.4506 - auc: 0.5243 - accuracy: 0.6875\n",
            "Epoch 4/25\n",
            "519/519 [==============================] - 174s 333ms/step - loss: 1170.0436 - auc: 0.5599 - accuracy: 0.7136\n",
            "Epoch 5/25\n",
            "519/519 [==============================] - 182s 349ms/step - loss: 975.6834 - auc: 0.5901 - accuracy: 0.7364\n",
            "Epoch 6/25\n",
            "519/519 [==============================] - 182s 347ms/step - loss: 831.1248 - auc: 0.6078 - accuracy: 0.7490\n",
            "Epoch 7/25\n",
            "519/519 [==============================] - 177s 338ms/step - loss: 727.5509 - auc: 0.6239 - accuracy: 0.7598\n",
            "Epoch 8/25\n",
            "519/519 [==============================] - 174s 333ms/step - loss: 558.0904 - auc: 0.6487 - accuracy: 0.7775\n",
            "Epoch 9/25\n",
            "519/519 [==============================] - 172s 328ms/step - loss: 443.4437 - auc: 0.6710 - accuracy: 0.7911\n",
            "Epoch 10/25\n",
            "519/519 [==============================] - 171s 326ms/step - loss: 396.8283 - auc: 0.6773 - accuracy: 0.7957\n",
            "Epoch 11/25\n",
            "519/519 [==============================] - 173s 330ms/step - loss: 364.5767 - auc: 0.6860 - accuracy: 0.8016\n",
            "Epoch 12/25\n",
            "519/519 [==============================] - 169s 323ms/step - loss: 315.6449 - auc: 0.7014 - accuracy: 0.8106\n",
            "Epoch 13/25\n",
            "519/519 [==============================] - 167s 320ms/step - loss: 343.0946 - auc: 0.7019 - accuracy: 0.8108\n",
            "Epoch 14/25\n",
            "519/519 [==============================] - 173s 331ms/step - loss: 235.0493 - auc: 0.7318 - accuracy: 0.8295\n",
            "Epoch 15/25\n",
            "519/519 [==============================] - 169s 323ms/step - loss: 222.6784 - auc: 0.7286 - accuracy: 0.8279\n",
            "Epoch 16/25\n",
            "519/519 [==============================] - 168s 321ms/step - loss: 175.5292 - auc: 0.7551 - accuracy: 0.8435\n",
            "Epoch 17/25\n",
            "519/519 [==============================] - 175s 334ms/step - loss: 157.7176 - auc: 0.7625 - accuracy: 0.8472\n",
            "Epoch 18/25\n",
            "519/519 [==============================] - 184s 351ms/step - loss: 131.6218 - auc: 0.7832 - accuracy: 0.8586\n",
            "Epoch 19/25\n",
            "519/519 [==============================] - 173s 330ms/step - loss: 113.7517 - auc: 0.7869 - accuracy: 0.8612\n",
            "Epoch 20/25\n",
            "519/519 [==============================] - 176s 336ms/step - loss: 103.5754 - auc: 0.7950 - accuracy: 0.8674\n",
            "Epoch 21/25\n",
            "519/519 [==============================] - 179s 342ms/step - loss: 86.5822 - auc: 0.8073 - accuracy: 0.8716\n",
            "Epoch 22/25\n",
            "519/519 [==============================] - 174s 332ms/step - loss: 78.2897 - auc: 0.8090 - accuracy: 0.8733\n",
            "Epoch 23/25\n",
            "519/519 [==============================] - 170s 325ms/step - loss: 70.1544 - auc: 0.8195 - accuracy: 0.8797\n",
            "Epoch 24/25\n",
            "519/519 [==============================] - 171s 326ms/step - loss: 62.3592 - auc: 0.8380 - accuracy: 0.8886\n",
            "Epoch 25/25\n",
            "519/519 [==============================] - 175s 334ms/step - loss: 54.7075 - auc: 0.8396 - accuracy: 0.8919\n"
          ]
        }
      ],
      "source": [
        "history = xyz_model.fit(train_ds,\n",
        "                        callbacks=callbacks,\n",
        "                        epochs=25,\n",
        "                        class_weight=class_weight)"
      ]
    },
    {
      "cell_type": "code",
      "source": [
        "xyz_model.save('./drive/MyDrive/checkpoints/xyz-model-25.h5')"
      ],
      "metadata": {
        "id": "2X6tlCAxxpR8"
      },
      "execution_count": null,
      "outputs": []
    },
    {
      "cell_type": "markdown",
      "source": [
        "# ***Second*** day"
      ],
      "metadata": {
        "id": "nDwHM3TBD-ro"
      }
    },
    {
      "cell_type": "code",
      "source": [
        "xyz_model = tf.keras.models.load_model('drive/MyDrive/checkpoints/xyz-model-25.h5',\n",
        "                                       custom_objects={'KerasLayer':hub.KerasLayer})"
      ],
      "metadata": {
        "id": "VQ_oVzYaEEvY"
      },
      "execution_count": 11,
      "outputs": []
    },
    {
      "cell_type": "code",
      "source": [
        "history = xyz_model.fit(train_ds,\n",
        "                        callbacks=callbacks,\n",
        "                        epochs=45,\n",
        "                        initial_epoch=25,\n",
        "                        class_weight=class_weight\n",
        "                        )"
      ],
      "metadata": {
        "id": "n4aN7FfJC2NN",
        "outputId": "d520fbce-3b72-4bc7-dd7c-d3634192b513",
        "colab": {
          "base_uri": "https://localhost:8080/"
        }
      },
      "execution_count": 12,
      "outputs": [
        {
          "output_type": "stream",
          "name": "stdout",
          "text": [
            "Epoch 26/45\n",
            "519/519 [==============================] - 2478s 5s/step - loss: 49.5260 - auc: 0.8471 - accuracy: 0.8924\n",
            "Epoch 27/45\n",
            "519/519 [==============================] - 171s 326ms/step - loss: 42.6935 - auc: 0.8563 - accuracy: 0.8988\n",
            "Epoch 28/45\n",
            "519/519 [==============================] - 172s 328ms/step - loss: 37.7512 - auc: 0.8592 - accuracy: 0.8990\n",
            "Epoch 29/45\n",
            "519/519 [==============================] - 176s 336ms/step - loss: 35.5559 - auc: 0.8685 - accuracy: 0.9054\n",
            "Epoch 30/45\n",
            "519/519 [==============================] - 166s 317ms/step - loss: 29.3628 - auc: 0.8784 - accuracy: 0.9115\n",
            "Epoch 31/45\n",
            "519/519 [==============================] - 174s 332ms/step - loss: 27.8082 - auc: 0.8871 - accuracy: 0.9155\n",
            "Epoch 32/45\n",
            "519/519 [==============================] - 172s 327ms/step - loss: 26.4545 - auc: 0.8853 - accuracy: 0.9141\n",
            "Epoch 33/45\n",
            "519/519 [==============================] - 166s 318ms/step - loss: 22.6312 - auc: 0.8943 - accuracy: 0.9159\n",
            "Epoch 34/45\n",
            "519/519 [==============================] - 169s 323ms/step - loss: 21.4860 - auc: 0.8943 - accuracy: 0.9162\n",
            "Epoch 35/45\n",
            "519/519 [==============================] - 169s 323ms/step - loss: 20.6569 - auc: 0.9021 - accuracy: 0.9216\n",
            "Epoch 36/45\n",
            "519/519 [==============================] - 168s 322ms/step - loss: 17.6124 - auc: 0.9106 - accuracy: 0.9247\n",
            "Epoch 37/45\n",
            "519/519 [==============================] - 171s 327ms/step - loss: 16.6813 - auc: 0.9120 - accuracy: 0.9265\n",
            "Epoch 38/45\n",
            "519/519 [==============================] - 217s 416ms/step - loss: 16.4166 - auc: 0.9133 - accuracy: 0.9253\n",
            "Epoch 39/45\n",
            "519/519 [==============================] - 170s 325ms/step - loss: 15.9256 - auc: 0.9119 - accuracy: 0.9262\n",
            "Epoch 40/45\n",
            "519/519 [==============================] - 169s 324ms/step - loss: 13.4209 - auc: 0.9243 - accuracy: 0.9320\n",
            "Epoch 41/45\n",
            "519/519 [==============================] - 172s 328ms/step - loss: 12.7912 - auc: 0.9245 - accuracy: 0.9300\n",
            "Epoch 42/45\n",
            "519/519 [==============================] - 171s 327ms/step - loss: 11.4119 - auc: 0.9281 - accuracy: 0.9337\n",
            "Epoch 43/45\n",
            "519/519 [==============================] - 170s 325ms/step - loss: 11.0754 - auc: 0.9329 - accuracy: 0.9330\n",
            "Epoch 44/45\n",
            "519/519 [==============================] - 175s 334ms/step - loss: 11.1937 - auc: 0.9315 - accuracy: 0.9330\n",
            "Epoch 45/45\n",
            "519/519 [==============================] - 177s 339ms/step - loss: 10.9855 - auc: 0.9371 - accuracy: 0.9346\n"
          ]
        }
      ]
    },
    {
      "cell_type": "code",
      "source": [
        "xyz_model.save('./drive/MyDrive/checkpoints/xyz-model-45.h5')"
      ],
      "metadata": {
        "id": "26NhGaUiky8-"
      },
      "execution_count": 13,
      "outputs": []
    },
    {
      "cell_type": "code",
      "source": [
        "history = xyz_model.fit(train_ds,\n",
        "                        callbacks=callbacks,\n",
        "                        epochs=55,\n",
        "                        initial_epoch=45,\n",
        "                        class_weight=class_weight)"
      ],
      "metadata": {
        "id": "LtkwjJbi55U3",
        "outputId": "55e76009-2aba-4578-b14d-c53296041bed",
        "colab": {
          "base_uri": "https://localhost:8080/"
        }
      },
      "execution_count": 14,
      "outputs": [
        {
          "output_type": "stream",
          "name": "stdout",
          "text": [
            "Epoch 46/55\n",
            "519/519 [==============================] - 170s 324ms/step - loss: 9.9243 - auc: 0.9416 - accuracy: 0.9374\n",
            "Epoch 47/55\n",
            "519/519 [==============================] - 173s 331ms/step - loss: 9.1274 - auc: 0.9439 - accuracy: 0.9367\n",
            "Epoch 48/55\n",
            "519/519 [==============================] - 184s 352ms/step - loss: 9.9053 - auc: 0.9384 - accuracy: 0.9366\n",
            "Epoch 49/55\n",
            "519/519 [==============================] - 167s 320ms/step - loss: 8.5145 - auc: 0.9476 - accuracy: 0.9425\n",
            "Epoch 50/55\n",
            "519/519 [==============================] - 171s 326ms/step - loss: 8.0599 - auc: 0.9474 - accuracy: 0.9417\n",
            "Epoch 51/55\n",
            "519/519 [==============================] - 170s 324ms/step - loss: 7.6836 - auc: 0.9489 - accuracy: 0.9434\n",
            "Epoch 52/55\n",
            "519/519 [==============================] - 169s 323ms/step - loss: 8.1299 - auc: 0.9510 - accuracy: 0.9425\n",
            "Epoch 53/55\n",
            "519/519 [==============================] - 169s 323ms/step - loss: 7.4536 - auc: 0.9528 - accuracy: 0.9438\n",
            "Epoch 54/55\n",
            "519/519 [==============================] - 169s 324ms/step - loss: 7.3309 - auc: 0.9528 - accuracy: 0.9455\n",
            "Epoch 55/55\n",
            "519/519 [==============================] - 169s 321ms/step - loss: 7.2379 - auc: 0.9528 - accuracy: 0.9446\n"
          ]
        }
      ]
    },
    {
      "cell_type": "code",
      "source": [
        "xyz_model.save('./drive/MyDrive/checkpoints/xyz-model-55.h5')"
      ],
      "metadata": {
        "id": "ZhDUXh_sy-hV"
      },
      "execution_count": 15,
      "outputs": []
    },
    {
      "cell_type": "code",
      "source": [
        "history = xyz_model.fit(train_ds,\n",
        "                        callbacks=callbacks,\n",
        "                        epochs=60,\n",
        "                        initial_epoch=55,\n",
        "                        class_weight=class_weight)"
      ],
      "metadata": {
        "id": "KCEdBCRI1AgE",
        "outputId": "9a9c859f-c7f6-4420-bef0-84e962241dde",
        "colab": {
          "base_uri": "https://localhost:8080/"
        }
      },
      "execution_count": 16,
      "outputs": [
        {
          "output_type": "stream",
          "name": "stdout",
          "text": [
            "Epoch 56/60\n",
            "519/519 [==============================] - 169s 323ms/step - loss: 7.1294 - auc: 0.9554 - accuracy: 0.9469\n",
            "Epoch 57/60\n",
            "519/519 [==============================] - 174s 333ms/step - loss: 7.0125 - auc: 0.9538 - accuracy: 0.9455\n",
            "Epoch 58/60\n",
            "519/519 [==============================] - 170s 325ms/step - loss: 6.3978 - auc: 0.9559 - accuracy: 0.9486\n",
            "Epoch 59/60\n",
            "519/519 [==============================] - 175s 335ms/step - loss: 6.3172 - auc: 0.9572 - accuracy: 0.9480\n",
            "Epoch 60/60\n",
            "519/519 [==============================] - 171s 327ms/step - loss: 6.8798 - auc: 0.9558 - accuracy: 0.9451\n"
          ]
        }
      ]
    },
    {
      "cell_type": "code",
      "source": [
        "xyz_model.save('./drive/MyDrive/checkpoints/xyz-model-60.h5')"
      ],
      "metadata": {
        "id": "oCmo0GVG1DiM"
      },
      "execution_count": 17,
      "outputs": []
    },
    {
      "cell_type": "code",
      "source": [
        "history = xyz_model.fit(train_ds,\n",
        "                        callbacks=callbacks,\n",
        "                        epochs=65,\n",
        "                        initial_epoch=60,\n",
        "                        class_weight=class_weight)"
      ],
      "metadata": {
        "id": "muqwwNMz-O_i",
        "outputId": "a7b54a40-bd0f-4405-8ce2-d6da593c646a",
        "colab": {
          "base_uri": "https://localhost:8080/"
        }
      },
      "execution_count": 18,
      "outputs": [
        {
          "output_type": "stream",
          "name": "stdout",
          "text": [
            "Epoch 61/65\n",
            "519/519 [==============================] - 187s 357ms/step - loss: 6.4984 - auc: 0.9576 - accuracy: 0.9461\n",
            "Epoch 62/65\n",
            "519/519 [==============================] - 180s 343ms/step - loss: 6.2245 - auc: 0.9579 - accuracy: 0.9495\n",
            "Epoch 63/65\n",
            "519/519 [==============================] - 176s 337ms/step - loss: 6.7042 - auc: 0.9563 - accuracy: 0.9476\n",
            "Epoch 64/65\n",
            "519/519 [==============================] - 172s 328ms/step - loss: 6.5438 - auc: 0.9578 - accuracy: 0.9479\n",
            "Epoch 65/65\n",
            "519/519 [==============================] - 172s 329ms/step - loss: 6.0676 - auc: 0.9604 - accuracy: 0.9489\n"
          ]
        }
      ]
    },
    {
      "cell_type": "code",
      "source": [
        "xyz_model.save('./drive/MyDrive/checkpoints/xyz-model-65.h5')"
      ],
      "metadata": {
        "id": "yKLQ6Fdk-VOK"
      },
      "execution_count": 19,
      "outputs": []
    },
    {
      "cell_type": "code",
      "source": [
        "history = xyz_model.fit(train_ds,\n",
        "                        callbacks=callbacks,\n",
        "                        epochs=70,\n",
        "                        initial_epoch=65,\n",
        "                        class_weight=class_weight)"
      ],
      "metadata": {
        "id": "l3HN5_Ir-asb",
        "outputId": "8a417cd2-f9d0-43ed-c0fe-5c4fa03841f5",
        "colab": {
          "base_uri": "https://localhost:8080/"
        }
      },
      "execution_count": null,
      "outputs": [
        {
          "output_type": "stream",
          "name": "stdout",
          "text": [
            "Epoch 66/70\n",
            "519/519 [==============================] - 168s 321ms/step - loss: 6.0934 - auc: 0.9582 - accuracy: 0.9486\n",
            "Epoch 67/70\n",
            "391/519 [=====================>........] - ETA: 41s - loss: 6.1662 - auc: 0.9596 - accuracy: 0.9486"
          ]
        }
      ]
    },
    {
      "cell_type": "code",
      "source": [
        "xyz_model.save('./drive/MyDrive/checkpoints/xyz-model-70.h5')"
      ],
      "metadata": {
        "id": "-uPuwVtQ-dzq"
      },
      "execution_count": null,
      "outputs": []
    }
  ],
  "metadata": {
    "colab": {
      "name": "xyz_model.ipynb",
      "provenance": [],
      "include_colab_link": true
    },
    "kernelspec": {
      "display_name": "Python 3",
      "name": "python3"
    },
    "language_info": {
      "name": "python"
    },
    "accelerator": "GPU"
  },
  "nbformat": 4,
  "nbformat_minor": 0
}