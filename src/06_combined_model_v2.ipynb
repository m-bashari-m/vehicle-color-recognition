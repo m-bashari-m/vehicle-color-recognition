{
  "cells": [
    {
      "cell_type": "markdown",
      "metadata": {
        "id": "view-in-github",
        "colab_type": "text"
      },
      "source": [
        "<a href=\"https://colab.research.google.com/github/m-bashari-m/vehicle-color-recognition/blob/main/src/06_combined_model_v2.ipynb\" target=\"_parent\"><img src=\"https://colab.research.google.com/assets/colab-badge.svg\" alt=\"Open In Colab\"/></a>"
      ]
    },
    {
      "cell_type": "code",
      "source": [
        "!wget https://raw.githubusercontent.com/m-bashari-m/vehicle-color-recognition/main/src/utils.py"
      ],
      "metadata": {
        "id": "B0bMEXJwfi-L",
        "outputId": "9ebf501b-4c05-4374-c1c9-f2d8d1326c0e",
        "colab": {
          "base_uri": "https://localhost:8080/"
        }
      },
      "execution_count": 1,
      "outputs": [
        {
          "output_type": "stream",
          "name": "stdout",
          "text": [
            "--2022-06-27 02:01:53--  https://raw.githubusercontent.com/m-bashari-m/vehicle-color-recognition/main/src/utils.py\n",
            "Resolving raw.githubusercontent.com (raw.githubusercontent.com)... 185.199.108.133, 185.199.109.133, 185.199.110.133, ...\n",
            "Connecting to raw.githubusercontent.com (raw.githubusercontent.com)|185.199.108.133|:443... connected.\n",
            "HTTP request sent, awaiting response... 200 OK\n",
            "Length: 12110 (12K) [text/plain]\n",
            "Saving to: ‘utils.py’\n",
            "\n",
            "\rutils.py              0%[                    ]       0  --.-KB/s               \rutils.py            100%[===================>]  11.83K  --.-KB/s    in 0s      \n",
            "\n",
            "2022-06-27 02:01:53 (70.1 MB/s) - ‘utils.py’ saved [12110/12110]\n",
            "\n"
          ]
        }
      ]
    },
    {
      "cell_type": "code",
      "execution_count": 2,
      "metadata": {
        "colab": {
          "base_uri": "https://localhost:8080/"
        },
        "id": "HytB7-lTs7g5",
        "outputId": "f049de8c-ebfa-4a72-e5e1-49de9770616e"
      },
      "outputs": [
        {
          "output_type": "stream",
          "name": "stdout",
          "text": [
            "Mounted at ./drive\n"
          ]
        }
      ],
      "source": [
        "from google.colab import drive\n",
        "drive.mount('./drive')"
      ]
    },
    {
      "cell_type": "code",
      "execution_count": 3,
      "metadata": {
        "id": "dQvl_Em4s8Oi",
        "outputId": "4acc7b07-aa8b-4986-81f1-b31d2fc19d17",
        "colab": {
          "base_uri": "https://localhost:8080/"
        }
      },
      "outputs": [
        {
          "output_type": "stream",
          "name": "stdout",
          "text": [
            "\u001b[K     |████████████████████████████████| 25.9 MB 58.6 MB/s \n",
            "\u001b[?25h"
          ]
        }
      ],
      "source": [
        "import os\n",
        "\n",
        "import tensorflow as tf\n",
        "from tensorflow import keras\n",
        "import tensorflow_hub as hub\n",
        "\n",
        "!pip install -q tensorflow-io\n",
        "import tensorflow_io as tfio\n",
        "\n",
        "from utils import get_train_val_ds, get_class_weight"
      ]
    },
    {
      "cell_type": "code",
      "execution_count": 4,
      "metadata": {
        "id": "S5qkZw4Ns8Z7"
      },
      "outputs": [],
      "source": [
        "BATCH_SIZE = 16\n",
        "IMG_SIZE = (256, 256)\n",
        "AUTOTUNE = tf.data.AUTOTUNE\n",
        "N_CLASSES = 16\n",
        "HUB_URL = 'https://tfhub.dev/google/imagenet/efficientnet_v2_imagenet21k_ft1k_b3/feature_vector/2'"
      ]
    },
    {
      "cell_type": "code",
      "execution_count": 5,
      "metadata": {
        "id": "J8g_1jhQtDFq"
      },
      "outputs": [],
      "source": [
        "dataset_dir = os.path.join('drive', 'MyDrive', 'cars')\n",
        "train_dir = os.path.join(dataset_dir, 'train')\n",
        "val_dir = os.path.join(dataset_dir, 'val')"
      ]
    },
    {
      "cell_type": "code",
      "execution_count": 6,
      "metadata": {
        "id": "ZDdC4GywtEQh",
        "outputId": "da100d28-f989-4384-e460-1790e08a2afa",
        "colab": {
          "base_uri": "https://localhost:8080/"
        }
      },
      "outputs": [
        {
          "output_type": "stream",
          "name": "stdout",
          "text": [
            "Found 16580 files belonging to 16 classes.\n",
            "Found 3495 files belonging to 16 classes.\n"
          ]
        }
      ],
      "source": [
        "train_ds, val_ds = get_train_val_ds(train_dir, val_dir, batch_size=BATCH_SIZE, img_size=IMG_SIZE)"
      ]
    },
    {
      "cell_type": "code",
      "execution_count": 7,
      "metadata": {
        "id": "VfXJuXaItHeC"
      },
      "outputs": [],
      "source": [
        "classes, class_weight = get_class_weight()"
      ]
    },
    {
      "cell_type": "code",
      "execution_count": 8,
      "metadata": {
        "id": "YUizq5ZwtHqM"
      },
      "outputs": [],
      "source": [
        "train_ds = (\n",
        "    train_ds.\n",
        "    map(lambda img, lbl: (img/255., lbl), num_parallel_calls=AUTOTUNE).\n",
        "    prefetch(AUTOTUNE))\n",
        "\n",
        "val_ds = (\n",
        "    val_ds.\n",
        "    map(lambda img, lbl: (img/255., lbl), num_parallel_calls=AUTOTUNE).\n",
        "    prefetch(AUTOTUNE))"
      ]
    },
    {
      "cell_type": "code",
      "source": [
        "rgb_input = keras.Input(shape=IMG_SIZE+(3,))\n",
        "rgb_hub_module = hub.KerasLayer(HUB_URL,  trainable=True)\n",
        "hsv_hub_module = hub.KerasLayer(HUB_URL,  trainable=True)\n",
        "xyz_hub_module = hub.KerasLayer(HUB_URL,  trainable=True)\n",
        "\n",
        "rgb_features = rgb_hub_module(rgb_input)\n",
        "\n",
        "xyz_input = tfio.experimental.color.rgb_to_xyz(rgb_input)\n",
        "xyz_features = xyz_hub_module(xyz_input)\n",
        "\n",
        "hsv_input = tf.image.rgb_to_hsv(rgb_input)\n",
        "hsv_features = hsv_hub_module(hsv_input)\n",
        "\n",
        "features = keras.layers.Concatenate()([rgb_features, xyz_features, hsv_features])\n",
        "\n",
        "output = keras.layers.Dense(N_CLASSES, activation='softmax')(features)\n",
        "\n",
        "model = keras.models.Model(inputs=[rgb_input], outputs=[output])"
      ],
      "metadata": {
        "id": "yY2InyDe18Px"
      },
      "execution_count": 9,
      "outputs": []
    },
    {
      "cell_type": "code",
      "source": [
        "model._name = 'combined-model-v2'"
      ],
      "metadata": {
        "id": "x9Cf6BCzCHdO"
      },
      "execution_count": 10,
      "outputs": []
    },
    {
      "cell_type": "code",
      "source": [
        "metrics = [\n",
        "            keras.metrics.AUC(name='auc', curve='PR', num_thresholds=100),\n",
        "            'accuracy'\n",
        "          ]\n",
        "\n",
        "loss_fn = keras.losses.CategoricalCrossentropy()\n",
        "lr_schedule =tf.keras.optimizers.schedules.ExponentialDecay(1e-3, 500, .9)\n",
        "\n",
        "model.compile(loss=loss_fn,\n",
        "            optimizer=keras.optimizers.Adam(learning_rate=lr_schedule),\n",
        "            metrics=metrics)"
      ],
      "metadata": {
        "id": "ZtVjR1lMAlyA"
      },
      "execution_count": 11,
      "outputs": []
    },
    {
      "cell_type": "code",
      "source": [
        "early_stopping = keras.callbacks.EarlyStopping(\n",
        "                                              monitor='val_accuracy', \n",
        "                                              verbose=1,\n",
        "                                              patience=8,\n",
        "                                              mode='max')\n",
        "\n",
        "check_point_path = os.path.join('./logs/checkpoints', model._name)\n",
        "check_point = keras.callbacks.ModelCheckpoint(\n",
        "                                            filepath=check_point_path,\n",
        "                                            monitor='val_accuracy',\n",
        "                                            save_best_only=True,\n",
        "                                            mode='max')\n",
        "        \n",
        "callbacks = [early_stopping, check_point]"
      ],
      "metadata": {
        "id": "auoSXmr3A4i3"
      },
      "execution_count": 13,
      "outputs": []
    },
    {
      "cell_type": "code",
      "execution_count": 14,
      "metadata": {
        "colab": {
          "base_uri": "https://localhost:8080/"
        },
        "id": "81hWi4y1utc0",
        "outputId": "9033c45b-cd0e-42db-e9c4-67fdc014f152"
      },
      "outputs": [
        {
          "metadata": {
            "tags": null
          },
          "name": "stdout",
          "output_type": "stream",
          "text": [
            "Epoch 1/15\n",
            "1037/1037 [==============================] - ETA: 0s - loss: 19.1490 - auc: 0.7048 - accuracy: 0.6300"
          ]
        },
        {
          "metadata": {
            "tags": null
          },
          "name": "stderr",
          "output_type": "stream",
          "text": [
            "WARNING:absl:Found untraced functions such as restored_function_body, restored_function_body, restored_function_body, restored_function_body, restored_function_body while saving (showing 5 of 1494). These functions will not be directly callable after loading.\n"
          ]
        },
        {
          "metadata": {
            "tags": null
          },
          "name": "stdout",
          "output_type": "stream",
          "text": [
            "INFO:tensorflow:Assets written to: ./logs/checkpoints/combined-model-v2/assets\n"
          ]
        },
        {
          "metadata": {
            "tags": null
          },
          "name": "stderr",
          "output_type": "stream",
          "text": [
            "INFO:tensorflow:Assets written to: ./logs/checkpoints/combined-model-v2/assets\n"
          ]
        },
        {
          "metadata": {
            "tags": null
          },
          "name": "stdout",
          "output_type": "stream",
          "text": [
            "1037/1037 [==============================] - 3393s 3s/step - loss: 19.1490 - auc: 0.7048 - accuracy: 0.6300 - val_loss: 0.9229 - val_auc: 0.7616 - val_accuracy: 0.6687\n",
            "Epoch 2/15\n",
            "1037/1037 [==============================] - ETA: 0s - loss: 11.7602 - auc: 0.8454 - accuracy: 0.7602"
          ]
        },
        {
          "metadata": {
            "tags": null
          },
          "name": "stderr",
          "output_type": "stream",
          "text": [
            "WARNING:absl:Found untraced functions such as restored_function_body, restored_function_body, restored_function_body, restored_function_body, restored_function_body while saving (showing 5 of 1494). These functions will not be directly callable after loading.\n"
          ]
        },
        {
          "metadata": {
            "tags": null
          },
          "name": "stdout",
          "output_type": "stream",
          "text": [
            "INFO:tensorflow:Assets written to: ./logs/checkpoints/combined-model-v2/assets\n"
          ]
        },
        {
          "metadata": {
            "tags": null
          },
          "name": "stderr",
          "output_type": "stream",
          "text": [
            "INFO:tensorflow:Assets written to: ./logs/checkpoints/combined-model-v2/assets\n"
          ]
        },
        {
          "metadata": {
            "tags": null
          },
          "name": "stdout",
          "output_type": "stream",
          "text": [
            "1037/1037 [==============================] - 740s 713ms/step - loss: 11.7602 - auc: 0.8454 - accuracy: 0.7602 - val_loss: 0.8235 - val_auc: 0.8301 - val_accuracy: 0.7465\n",
            "Epoch 3/15\n",
            "1037/1037 [==============================] - ETA: 0s - loss: 8.5218 - auc: 0.9016 - accuracy: 0.8210"
          ]
        },
        {
          "metadata": {
            "tags": null
          },
          "name": "stderr",
          "output_type": "stream",
          "text": [
            "WARNING:absl:Found untraced functions such as restored_function_body, restored_function_body, restored_function_body, restored_function_body, restored_function_body while saving (showing 5 of 1494). These functions will not be directly callable after loading.\n"
          ]
        },
        {
          "metadata": {
            "tags": null
          },
          "name": "stdout",
          "output_type": "stream",
          "text": [
            "INFO:tensorflow:Assets written to: ./logs/checkpoints/combined-model-v2/assets\n"
          ]
        },
        {
          "metadata": {
            "tags": null
          },
          "name": "stderr",
          "output_type": "stream",
          "text": [
            "INFO:tensorflow:Assets written to: ./logs/checkpoints/combined-model-v2/assets\n"
          ]
        },
        {
          "metadata": {
            "tags": null
          },
          "name": "stdout",
          "output_type": "stream",
          "text": [
            "1037/1037 [==============================] - 740s 713ms/step - loss: 8.5218 - auc: 0.9016 - accuracy: 0.8210 - val_loss: 0.7257 - val_auc: 0.8520 - val_accuracy: 0.7674\n",
            "Epoch 4/15\n",
            "1037/1037 [==============================] - ETA: 0s - loss: 6.3447 - auc: 0.9346 - accuracy: 0.8639"
          ]
        },
        {
          "metadata": {
            "tags": null
          },
          "name": "stderr",
          "output_type": "stream",
          "text": [
            "WARNING:absl:Found untraced functions such as restored_function_body, restored_function_body, restored_function_body, restored_function_body, restored_function_body while saving (showing 5 of 1494). These functions will not be directly callable after loading.\n"
          ]
        },
        {
          "metadata": {
            "tags": null
          },
          "name": "stdout",
          "output_type": "stream",
          "text": [
            "INFO:tensorflow:Assets written to: ./logs/checkpoints/combined-model-v2/assets\n"
          ]
        },
        {
          "metadata": {
            "tags": null
          },
          "name": "stderr",
          "output_type": "stream",
          "text": [
            "INFO:tensorflow:Assets written to: ./logs/checkpoints/combined-model-v2/assets\n"
          ]
        },
        {
          "metadata": {
            "tags": null
          },
          "name": "stdout",
          "output_type": "stream",
          "text": [
            "1037/1037 [==============================] - 740s 713ms/step - loss: 6.3447 - auc: 0.9346 - accuracy: 0.8639 - val_loss: 0.7430 - val_auc: 0.8619 - val_accuracy: 0.7900\n",
            "Epoch 5/15\n",
            "1037/1037 [==============================] - ETA: 0s - loss: 4.1998 - auc: 0.9638 - accuracy: 0.9030"
          ]
        },
        {
          "metadata": {
            "tags": null
          },
          "name": "stderr",
          "output_type": "stream",
          "text": [
            "WARNING:absl:Found untraced functions such as restored_function_body, restored_function_body, restored_function_body, restored_function_body, restored_function_body while saving (showing 5 of 1494). These functions will not be directly callable after loading.\n"
          ]
        },
        {
          "metadata": {
            "tags": null
          },
          "name": "stdout",
          "output_type": "stream",
          "text": [
            "INFO:tensorflow:Assets written to: ./logs/checkpoints/combined-model-v2/assets\n"
          ]
        },
        {
          "metadata": {
            "tags": null
          },
          "name": "stderr",
          "output_type": "stream",
          "text": [
            "INFO:tensorflow:Assets written to: ./logs/checkpoints/combined-model-v2/assets\n"
          ]
        },
        {
          "metadata": {
            "tags": null
          },
          "name": "stdout",
          "output_type": "stream",
          "text": [
            "1037/1037 [==============================] - 741s 714ms/step - loss: 4.1998 - auc: 0.9638 - accuracy: 0.9030 - val_loss: 0.7160 - val_auc: 0.8752 - val_accuracy: 0.8129\n",
            "Epoch 6/15\n",
            "1037/1037 [==============================] - ETA: 0s - loss: 3.0843 - auc: 0.9766 - accuracy: 0.9294"
          ]
        },
        {
          "metadata": {
            "tags": null
          },
          "name": "stderr",
          "output_type": "stream",
          "text": [
            "WARNING:absl:Found untraced functions such as restored_function_body, restored_function_body, restored_function_body, restored_function_body, restored_function_body while saving (showing 5 of 1494). These functions will not be directly callable after loading.\n"
          ]
        },
        {
          "metadata": {
            "tags": null
          },
          "name": "stdout",
          "output_type": "stream",
          "text": [
            "INFO:tensorflow:Assets written to: ./logs/checkpoints/combined-model-v2/assets\n"
          ]
        },
        {
          "metadata": {
            "tags": null
          },
          "name": "stderr",
          "output_type": "stream",
          "text": [
            "INFO:tensorflow:Assets written to: ./logs/checkpoints/combined-model-v2/assets\n"
          ]
        },
        {
          "metadata": {
            "tags": null
          },
          "name": "stdout",
          "output_type": "stream",
          "text": [
            "1037/1037 [==============================] - 742s 715ms/step - loss: 3.0843 - auc: 0.9766 - accuracy: 0.9294 - val_loss: 0.7484 - val_auc: 0.8803 - val_accuracy: 0.8175\n",
            "Epoch 7/15\n",
            "1037/1037 [==============================] - ETA: 0s - loss: 2.0602 - auc: 0.9859 - accuracy: 0.9470"
          ]
        },
        {
          "metadata": {
            "tags": null
          },
          "name": "stderr",
          "output_type": "stream",
          "text": [
            "WARNING:absl:Found untraced functions such as restored_function_body, restored_function_body, restored_function_body, restored_function_body, restored_function_body while saving (showing 5 of 1494). These functions will not be directly callable after loading.\n"
          ]
        },
        {
          "metadata": {
            "tags": null
          },
          "name": "stdout",
          "output_type": "stream",
          "text": [
            "INFO:tensorflow:Assets written to: ./logs/checkpoints/combined-model-v2/assets\n"
          ]
        },
        {
          "metadata": {
            "tags": null
          },
          "name": "stderr",
          "output_type": "stream",
          "text": [
            "INFO:tensorflow:Assets written to: ./logs/checkpoints/combined-model-v2/assets\n"
          ]
        },
        {
          "metadata": {
            "tags": null
          },
          "name": "stdout",
          "output_type": "stream",
          "text": [
            "1037/1037 [==============================] - 740s 713ms/step - loss: 2.0602 - auc: 0.9859 - accuracy: 0.9470 - val_loss: 0.7464 - val_auc: 0.8840 - val_accuracy: 0.8315\n",
            "Epoch 8/15\n",
            "1037/1037 [==============================] - 688s 663ms/step - loss: 1.2160 - auc: 0.9935 - accuracy: 0.9712 - val_loss: 1.0265 - val_auc: 0.8367 - val_accuracy: 0.8189\n",
            "Epoch 9/15\n",
            "1037/1037 [==============================] - 687s 662ms/step - loss: 0.8759 - auc: 0.9959 - accuracy: 0.9778 - val_loss: 0.9358 - val_auc: 0.8597 - val_accuracy: 0.8240\n",
            "Epoch 10/15\n",
            "1037/1037 [==============================] - ETA: 0s - loss: 0.5622 - auc: 0.9975 - accuracy: 0.9855"
          ]
        },
        {
          "metadata": {
            "tags": null
          },
          "name": "stderr",
          "output_type": "stream",
          "text": [
            "WARNING:absl:Found untraced functions such as restored_function_body, restored_function_body, restored_function_body, restored_function_body, restored_function_body while saving (showing 5 of 1494). These functions will not be directly callable after loading.\n"
          ]
        },
        {
          "metadata": {
            "tags": null
          },
          "name": "stdout",
          "output_type": "stream",
          "text": [
            "INFO:tensorflow:Assets written to: ./logs/checkpoints/combined-model-v2/assets\n"
          ]
        },
        {
          "metadata": {
            "tags": null
          },
          "name": "stderr",
          "output_type": "stream",
          "text": [
            "INFO:tensorflow:Assets written to: ./logs/checkpoints/combined-model-v2/assets\n"
          ]
        },
        {
          "output_type": "stream",
          "name": "stdout",
          "text": [
            "1037/1037 [==============================] - 741s 714ms/step - loss: 0.5622 - auc: 0.9975 - accuracy: 0.9855 - val_loss: 0.9217 - val_auc: 0.8661 - val_accuracy: 0.8329\n",
            "Epoch 11/15\n",
            "1037/1037 [==============================] - 688s 662ms/step - loss: 0.4347 - auc: 0.9981 - accuracy: 0.9888 - val_loss: 1.0412 - val_auc: 0.8507 - val_accuracy: 0.8286\n",
            "Epoch 12/15\n",
            "1037/1037 [==============================] - 686s 661ms/step - loss: 0.3499 - auc: 0.9983 - accuracy: 0.9913 - val_loss: 1.1656 - val_auc: 0.8365 - val_accuracy: 0.8226\n",
            "Epoch 13/15\n",
            "1037/1037 [==============================] - 686s 661ms/step - loss: 0.2164 - auc: 0.9987 - accuracy: 0.9949 - val_loss: 1.2108 - val_auc: 0.8295 - val_accuracy: 0.8266\n",
            "Epoch 14/15\n",
            "1037/1037 [==============================] - 688s 662ms/step - loss: 0.2011 - auc: 0.9994 - accuracy: 0.9955 - val_loss: 1.1531 - val_auc: 0.8394 - val_accuracy: 0.8323\n",
            "Epoch 15/15\n",
            "1037/1037 [==============================] - ETA: 0s - loss: 0.1422 - auc: 0.9993 - accuracy: 0.9964"
          ]
        },
        {
          "output_type": "stream",
          "name": "stderr",
          "text": [
            "WARNING:absl:Found untraced functions such as restored_function_body, restored_function_body, restored_function_body, restored_function_body, restored_function_body while saving (showing 5 of 1494). These functions will not be directly callable after loading.\n"
          ]
        },
        {
          "output_type": "stream",
          "name": "stdout",
          "text": [
            "INFO:tensorflow:Assets written to: ./logs/checkpoints/combined-model-v2/assets\n"
          ]
        },
        {
          "output_type": "stream",
          "name": "stderr",
          "text": [
            "INFO:tensorflow:Assets written to: ./logs/checkpoints/combined-model-v2/assets\n"
          ]
        },
        {
          "output_type": "stream",
          "name": "stdout",
          "text": [
            "\b\b\b\b\b\b\b\b\b\b\b\b\b\b\b\b\b\b\b\b\b\b\b\b\b\b\b\b\b\b\b\b\b\b\b\b\b\b\b\b\b\b\b\b\b\b\b\b\b\b\b\b\b\b\b\b\b\b\b\b\b\b\b\b\b\b\b\b\b\b\b\b\b\b\b\b\b\b\b\b\b\b\b\b\b\b\b\b\b\b\b\b\b\b\b\b\b\b\b\b\r1037/1037 [==============================] - 740s 713ms/step - loss: 0.1422 - auc: 0.9993 - accuracy: 0.9964 - val_loss: 1.1354 - val_auc: 0.8389 - val_accuracy: 0.8355\n"
          ]
        }
      ],
      "source": [
        "history = model.fit(train_ds,\n",
        "                    callbacks=callbacks,\n",
        "                    epochs=15,\n",
        "                    validation_data=val_ds,\n",
        "                    class_weight=class_weight)"
      ]
    },
    {
      "cell_type": "code",
      "source": [
        "!cp  -r /content/logs/checkpoints/combined-model-v2 /content/drive/MyDrive/checkpoints/combined-v2"
      ],
      "metadata": {
        "id": "s74HE0npK8QC"
      },
      "execution_count": 15,
      "outputs": []
    }
  ],
  "metadata": {
    "colab": {
      "name": "xyz_model.ipynb",
      "provenance": [],
      "include_colab_link": true
    },
    "kernelspec": {
      "display_name": "Python 3",
      "name": "python3"
    },
    "language_info": {
      "name": "python"
    },
    "accelerator": "GPU",
    "gpuClass": "standard"
  },
  "nbformat": 4,
  "nbformat_minor": 0
}