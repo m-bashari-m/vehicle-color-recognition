{
  "cells": [
    {
      "cell_type": "markdown",
      "metadata": {
        "id": "view-in-github",
        "colab_type": "text"
      },
      "source": [
        "<a href=\"https://colab.research.google.com/github/m-bashari-m/vehicle-color-recognition/blob/main/src/06_combined_model_v2.ipynb\" target=\"_parent\"><img src=\"https://colab.research.google.com/assets/colab-badge.svg\" alt=\"Open In Colab\"/></a>"
      ]
    },
    {
      "cell_type": "code",
      "execution_count": 1,
      "metadata": {
        "colab": {
          "base_uri": "https://localhost:8080/"
        },
        "id": "FaoIT7KdsydD",
        "outputId": "6095f2dd-6c3e-4916-a5dc-6847f028531e"
      },
      "outputs": [
        {
          "output_type": "stream",
          "name": "stdout",
          "text": [
            "--2022-06-19 14:03:46--  https://raw.githubusercontent.com/m-bashari-m/vehicle-color-recognition/main/src/utils.py\n",
            "Resolving raw.githubusercontent.com (raw.githubusercontent.com)... 185.199.108.133, 185.199.109.133, 185.199.110.133, ...\n",
            "Connecting to raw.githubusercontent.com (raw.githubusercontent.com)|185.199.108.133|:443... connected.\n",
            "HTTP request sent, awaiting response... 200 OK\n",
            "Length: 11745 (11K) [text/plain]\n",
            "Saving to: ‘utils.py’\n",
            "\n",
            "\rutils.py              0%[                    ]       0  --.-KB/s               \rutils.py            100%[===================>]  11.47K  --.-KB/s    in 0s      \n",
            "\n",
            "2022-06-19 14:03:46 (87.5 MB/s) - ‘utils.py’ saved [11745/11745]\n",
            "\n"
          ]
        }
      ],
      "source": [
        "!wget https://raw.githubusercontent.com/m-bashari-m/vehicle-color-recognition/main/src/utils.py"
      ]
    },
    {
      "cell_type": "code",
      "execution_count": 2,
      "metadata": {
        "colab": {
          "base_uri": "https://localhost:8080/"
        },
        "id": "HytB7-lTs7g5",
        "outputId": "f55ad1d6-aa4a-47db-97ea-3a0bec181c3d"
      },
      "outputs": [
        {
          "output_type": "stream",
          "name": "stdout",
          "text": [
            "Mounted at ./drive\n"
          ]
        }
      ],
      "source": [
        "from google.colab import drive\n",
        "drive.mount('./drive')"
      ]
    },
    {
      "cell_type": "code",
      "execution_count": 3,
      "metadata": {
        "id": "dQvl_Em4s8Oi",
        "outputId": "9080350f-b476-4733-b667-e1865479a9f1",
        "colab": {
          "base_uri": "https://localhost:8080/"
        }
      },
      "outputs": [
        {
          "output_type": "stream",
          "name": "stdout",
          "text": [
            "\u001b[K     |████████████████████████████████| 25.9 MB 1.3 MB/s \n",
            "\u001b[?25h"
          ]
        }
      ],
      "source": [
        "import os\n",
        "\n",
        "import tensorflow as tf\n",
        "from tensorflow import keras\n",
        "import tensorflow_hub as hub\n",
        "\n",
        "!pip install -q tensorflow-io\n",
        "import tensorflow_io as tfio\n",
        "\n",
        "from utils import get_train_val_ds, get_class_weight"
      ]
    },
    {
      "cell_type": "code",
      "execution_count": 4,
      "metadata": {
        "id": "S5qkZw4Ns8Z7"
      },
      "outputs": [],
      "source": [
        "BATCH_SIZE = 32\n",
        "IMG_SIZE = (256, 256)\n",
        "AUTOTUNE = tf.data.AUTOTUNE\n",
        "N_CLASSES = 16\n",
        "HUB_URL = 'https://tfhub.dev/google/bit/m-r50x1/1'"
      ]
    },
    {
      "cell_type": "code",
      "execution_count": 5,
      "metadata": {
        "id": "J8g_1jhQtDFq"
      },
      "outputs": [],
      "source": [
        "dataset_dir = os.path.join('drive', 'MyDrive', 'cars')\n",
        "train_dir = os.path.join(dataset_dir, 'train')\n",
        "val_dir = os.path.join(dataset_dir, 'val')"
      ]
    },
    {
      "cell_type": "code",
      "execution_count": 6,
      "metadata": {
        "id": "ZDdC4GywtEQh",
        "outputId": "1e99caf9-cdd7-4842-9a74-56ef9294eff9",
        "colab": {
          "base_uri": "https://localhost:8080/"
        }
      },
      "outputs": [
        {
          "output_type": "stream",
          "name": "stdout",
          "text": [
            "Found 17043 files belonging to 16 classes.\n",
            "Found 3495 files belonging to 16 classes.\n"
          ]
        }
      ],
      "source": [
        "train_ds, _ = get_train_val_ds(train_dir, val_dir, batch_size=BATCH_SIZE, img_size=IMG_SIZE)"
      ]
    },
    {
      "cell_type": "code",
      "execution_count": 7,
      "metadata": {
        "id": "VfXJuXaItHeC"
      },
      "outputs": [],
      "source": [
        "classes, class_weight = get_class_weight()"
      ]
    },
    {
      "cell_type": "code",
      "execution_count": 8,
      "metadata": {
        "id": "YUizq5ZwtHqM"
      },
      "outputs": [],
      "source": [
        "train_ds = (\n",
        "    train_ds.\n",
        "    map(lambda img, lbl: (img/255., lbl), num_parallel_calls=AUTOTUNE).\n",
        "    prefetch(AUTOTUNE))"
      ]
    },
    {
      "cell_type": "code",
      "source": [
        "rgb_input = keras.Input(shape=IMG_SIZE+(3,))\n",
        "hub_module = hub.KerasLayer(HUB_URL)\n",
        "\n",
        "rgb_features = hub_module(rgb_input)\n",
        "\n",
        "xyz_input = tfio.experimental.color.rgb_to_xyz(rgb_input)\n",
        "xyz_features = hub_module(xyz_input)\n",
        "\n",
        "hsv_input = tf.image.rgb_to_hsv(rgb_input)\n",
        "hsv_features = hub_module(hsv_input)\n",
        "\n",
        "features = keras.layers.Concatenate()([rgb_features, xyz_features, hsv_features])\n",
        "\n",
        "output = keras.layers.Dense(N_CLASSES, activation='softmax')(features)\n",
        "\n",
        "model = keras.models.Model(inputs=[rgb_input], outputs=[output])"
      ],
      "metadata": {
        "id": "yY2InyDe18Px"
      },
      "execution_count": null,
      "outputs": []
    },
    {
      "cell_type": "code",
      "source": [
        "model._name = 'combined-model'"
      ],
      "metadata": {
        "id": "x9Cf6BCzCHdO"
      },
      "execution_count": null,
      "outputs": []
    },
    {
      "cell_type": "code",
      "source": [
        "metrics = [\n",
        "            keras.metrics.AUC(name='auc', curve='PR', num_thresholds=100),\n",
        "            'accuracy'\n",
        "          ]\n",
        "\n",
        "loss_fn = keras.losses.CategoricalCrossentropy()\n",
        "lr_schedule =tf.keras.optimizers.schedules.ExponentialDecay(1e-2, 533, .9)\n",
        "\n",
        "model.compile(loss=loss_fn,\n",
        "            optimizer=keras.optimizers.Adam(learning_rate=lr_schedule),\n",
        "            metrics=metrics)"
      ],
      "metadata": {
        "id": "ZtVjR1lMAlyA"
      },
      "execution_count": null,
      "outputs": []
    },
    {
      "cell_type": "code",
      "source": [
        "early_stopping = keras.callbacks.EarlyStopping(\n",
        "                                              monitor='auc', \n",
        "                                              verbose=1,\n",
        "                                              patience=3,\n",
        "                                              restore_best_weights=True,\n",
        "                                              mode='max')\n",
        "\n",
        "check_point_path = os.path.join('./logs/checkpoints', model._name+\"-{epoch:02d}.h5\")\n",
        "check_point = keras.callbacks.ModelCheckpoint(\n",
        "                                            filepath=check_point_path,\n",
        "                                            monitor='auc',\n",
        "                                            save_best_only=True,\n",
        "                                            mode='max')\n",
        "        \n",
        "callbacks = [early_stopping, check_point]"
      ],
      "metadata": {
        "id": "auoSXmr3A4i3"
      },
      "execution_count": 12,
      "outputs": []
    },
    {
      "cell_type": "code",
      "execution_count": null,
      "metadata": {
        "colab": {
          "base_uri": "https://localhost:8080/"
        },
        "id": "81hWi4y1utc0",
        "outputId": "31e83718-6f74-4663-b34e-04a8f9cd5792"
      },
      "outputs": [
        {
          "output_type": "stream",
          "name": "stdout",
          "text": [
            "Epoch 1/20\n",
            "533/533 [==============================] - 2728s 5s/step - loss: 356.9871 - auc: 0.4226 - accuracy: 0.5748\n",
            "Epoch 2/20\n",
            "533/533 [==============================] - 440s 823ms/step - loss: 184.7210 - auc: 0.5973 - accuracy: 0.7217\n",
            "Epoch 3/20\n",
            "533/533 [==============================] - 440s 823ms/step - loss: 160.7567 - auc: 0.6572 - accuracy: 0.7708\n",
            "Epoch 4/20\n",
            "533/533 [==============================] - 440s 823ms/step - loss: 131.6319 - auc: 0.7093 - accuracy: 0.8045\n",
            "Epoch 5/20\n",
            "533/533 [==============================] - 440s 823ms/step - loss: 108.2154 - auc: 0.7323 - accuracy: 0.8227\n",
            "Epoch 6/20\n",
            "533/533 [==============================] - 440s 823ms/step - loss: 79.8795 - auc: 0.7777 - accuracy: 0.8538\n",
            "Epoch 7/20\n",
            "533/533 [==============================] - 440s 823ms/step - loss: 75.1899 - auc: 0.7784 - accuracy: 0.8545\n",
            "Epoch 8/20\n",
            "533/533 [==============================] - 440s 823ms/step - loss: 54.1386 - auc: 0.8265 - accuracy: 0.8851\n",
            "Epoch 9/20\n",
            "533/533 [==============================] - 440s 823ms/step - loss: 50.1748 - auc: 0.8353 - accuracy: 0.8897\n",
            "Epoch 10/20\n",
            "533/533 [==============================] - 440s 823ms/step - loss: 37.8864 - auc: 0.8621 - accuracy: 0.9076\n",
            "Epoch 11/20\n",
            "533/533 [==============================] - 440s 824ms/step - loss: 32.0530 - auc: 0.8704 - accuracy: 0.9133\n",
            "Epoch 12/20\n",
            "533/533 [==============================] - 440s 823ms/step - loss: 28.2531 - auc: 0.8821 - accuracy: 0.9198\n",
            "Epoch 13/20\n",
            "533/533 [==============================] - 440s 824ms/step - loss: 21.6300 - auc: 0.9014 - accuracy: 0.9308\n",
            "Epoch 14/20\n",
            "533/533 [==============================] - 440s 824ms/step - loss: 19.8837 - auc: 0.9085 - accuracy: 0.9362\n",
            "Epoch 15/20\n",
            "533/533 [==============================] - 440s 824ms/step - loss: 12.4659 - auc: 0.9315 - accuracy: 0.9518\n",
            "Epoch 16/20\n",
            "533/533 [==============================] - 440s 823ms/step - loss: 12.4366 - auc: 0.9305 - accuracy: 0.9503\n",
            "Epoch 17/20\n",
            "533/533 [==============================] - 440s 823ms/step - loss: 12.6879 - auc: 0.9342 - accuracy: 0.9523\n",
            "Epoch 18/20\n",
            "533/533 [==============================] - 440s 822ms/step - loss: 7.6557 - auc: 0.9488 - accuracy: 0.9630\n",
            "Epoch 19/20\n",
            "533/533 [==============================] - 440s 823ms/step - loss: 6.3192 - auc: 0.9564 - accuracy: 0.9668\n",
            "Epoch 20/20\n",
            "533/533 [==============================] - 440s 823ms/step - loss: 4.8338 - auc: 0.9658 - accuracy: 0.9716\n"
          ]
        }
      ],
      "source": [
        "history = model.fit(train_ds,\n",
        "                    callbacks=callbacks,\n",
        "                    epochs=20,\n",
        "                    class_weight=class_weight)"
      ]
    },
    {
      "cell_type": "code",
      "source": [
        "!cp ./logs/checkpoints/combined-model-10.h5 ./drive/MyDrive/checkpoints/combined-model-10.2.h5\n",
        "!cp ./logs/checkpoints/combined-model-15.h5 ./drive/MyDrive/checkpoints/combined-model-15.2.h5\n",
        "!cp ./logs/checkpoints/combined-model-20.h5 ./drive/MyDrive/checkpoints/combined-model-20.2.h5"
      ],
      "metadata": {
        "id": "uu5oTNQZOS7D"
      },
      "execution_count": null,
      "outputs": []
    },
    {
      "cell_type": "code",
      "source": [
        "history = model.fit(train_ds,\n",
        "                    callbacks=callbacks,\n",
        "                    epochs=30,\n",
        "                    initial_epoch=20,\n",
        "                    class_weight=class_weight)"
      ],
      "metadata": {
        "id": "fWRIQIL6STD6",
        "outputId": "6d26cdbe-de7d-46a5-d44e-ad8753b48559",
        "colab": {
          "base_uri": "https://localhost:8080/"
        }
      },
      "execution_count": 13,
      "outputs": [
        {
          "output_type": "stream",
          "name": "stdout",
          "text": [
            "Epoch 21/30\n",
            "533/533 [==============================] - 3123s 6s/step - loss: 5.6207 - auc: 0.9592 - accuracy: 0.9698\n",
            "Epoch 22/30\n",
            "533/533 [==============================] - 449s 839ms/step - loss: 4.0567 - auc: 0.9673 - accuracy: 0.9739\n",
            "Epoch 23/30\n",
            "533/533 [==============================] - 448s 839ms/step - loss: 3.2036 - auc: 0.9746 - accuracy: 0.9780\n",
            "Epoch 24/30\n",
            "533/533 [==============================] - 448s 838ms/step - loss: 3.1084 - auc: 0.9736 - accuracy: 0.9782\n",
            "Epoch 25/30\n",
            "533/533 [==============================] - 448s 839ms/step - loss: 2.2643 - auc: 0.9796 - accuracy: 0.9810\n",
            "Epoch 26/30\n",
            "533/533 [==============================] - 448s 839ms/step - loss: 2.1500 - auc: 0.9825 - accuracy: 0.9830\n",
            "Epoch 27/30\n",
            "533/533 [==============================] - 449s 840ms/step - loss: 1.4366 - auc: 0.9879 - accuracy: 0.9886\n",
            "Epoch 28/30\n",
            "533/533 [==============================] - 448s 838ms/step - loss: 1.4828 - auc: 0.9863 - accuracy: 0.9868\n",
            "Epoch 29/30\n",
            "533/533 [==============================] - 449s 839ms/step - loss: 1.3289 - auc: 0.9888 - accuracy: 0.9885\n",
            "Epoch 30/30\n",
            "533/533 [==============================] - 448s 839ms/step - loss: 0.9875 - auc: 0.9913 - accuracy: 0.9908\n"
          ]
        }
      ]
    },
    {
      "cell_type": "code",
      "source": [
        "!cp ./logs/checkpoints/combined-model-25.h5 ./drive/MyDrive/checkpoints/combined-model-25.2.h5\n",
        "!cp ./logs/checkpoints/combined-model-30.h5 ./drive/MyDrive/checkpoints/combined-model-30.2.h5"
      ],
      "metadata": {
        "id": "PFn12cjjckKJ"
      },
      "execution_count": 14,
      "outputs": []
    }
  ],
  "metadata": {
    "colab": {
      "name": "xyz_model.ipynb",
      "provenance": [],
      "include_colab_link": true
    },
    "kernelspec": {
      "display_name": "Python 3",
      "name": "python3"
    },
    "language_info": {
      "name": "python"
    },
    "accelerator": "GPU",
    "gpuClass": "standard"
  },
  "nbformat": 4,
  "nbformat_minor": 0
}