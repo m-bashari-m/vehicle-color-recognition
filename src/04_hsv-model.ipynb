{
  "nbformat": 4,
  "nbformat_minor": 0,
  "metadata": {
    "colab": {
      "name": "Untitled1.ipynb",
      "provenance": [],
      "include_colab_link": true
    },
    "kernelspec": {
      "name": "python3",
      "display_name": "Python 3"
    },
    "language_info": {
      "name": "python"
    },
    "accelerator": "GPU",
    "gpuClass": "standard"
  },
  "cells": [
    {
      "cell_type": "markdown",
      "metadata": {
        "id": "view-in-github",
        "colab_type": "text"
      },
      "source": [
        "<a href=\"https://colab.research.google.com/github/m-bashari-m/vehicle-color-recognition/blob/main/src/04_hsv-model.ipynb\" target=\"_parent\"><img src=\"https://colab.research.google.com/assets/colab-badge.svg\" alt=\"Open In Colab\"/></a>"
      ]
    },
    {
      "cell_type": "code",
      "execution_count": 1,
      "metadata": {
        "colab": {
          "base_uri": "https://localhost:8080/"
        },
        "id": "lbfRhziV_SuY",
        "outputId": "d73f2f3e-7508-4061-8e21-c4df4448cc0a"
      },
      "outputs": [
        {
          "output_type": "stream",
          "name": "stdout",
          "text": [
            "--2022-06-27 01:57:40--  https://raw.githubusercontent.com/m-bashari-m/vehicle-color-recognition/main/src/utils.py\n",
            "Resolving raw.githubusercontent.com (raw.githubusercontent.com)... 185.199.110.133, 185.199.111.133, 185.199.109.133, ...\n",
            "Connecting to raw.githubusercontent.com (raw.githubusercontent.com)|185.199.110.133|:443... connected.\n",
            "HTTP request sent, awaiting response... 200 OK\n",
            "Length: 12110 (12K) [text/plain]\n",
            "Saving to: ‘utils.py’\n",
            "\n",
            "\rutils.py              0%[                    ]       0  --.-KB/s               \rutils.py            100%[===================>]  11.83K  --.-KB/s    in 0s      \n",
            "\n",
            "2022-06-27 01:57:40 (66.7 MB/s) - ‘utils.py’ saved [12110/12110]\n",
            "\n"
          ]
        }
      ],
      "source": [
        "!wget https://raw.githubusercontent.com/m-bashari-m/vehicle-color-recognition/main/src/utils.py"
      ]
    },
    {
      "cell_type": "code",
      "source": [
        "from google.colab import drive\n",
        "drive.mount('./drive')"
      ],
      "metadata": {
        "colab": {
          "base_uri": "https://localhost:8080/"
        },
        "id": "dbaZViRwAPSA",
        "outputId": "4ae40fd5-2f67-4f0b-ad71-240cfc68eead"
      },
      "execution_count": 2,
      "outputs": [
        {
          "output_type": "stream",
          "name": "stdout",
          "text": [
            "Mounted at ./drive\n"
          ]
        }
      ]
    },
    {
      "cell_type": "code",
      "source": [
        "import pandas as pd\n",
        "import numpy as np\n",
        "import os\n",
        "\n",
        "import tensorflow as tf\n",
        "from tensorflow import keras\n",
        "import tensorflow_hub as hub\n",
        "\n",
        "\n",
        "from utils import ModelCreator, get_train_val_ds, get_class_weight"
      ],
      "metadata": {
        "id": "rc7tl4w2AP9w"
      },
      "execution_count": 3,
      "outputs": []
    },
    {
      "cell_type": "code",
      "source": [
        "BATCH_SIZE = 32\n",
        "IMG_SIZE = (256, 256)\n",
        "AUTOTUNE = tf.data.AUTOTUNE\n",
        "N_CLASSES = 16\n",
        "HUB_URL = 'https://tfhub.dev/google/imagenet/efficientnet_v2_imagenet21k_ft1k_b3/feature_vector/2'"
      ],
      "metadata": {
        "id": "srFlURD4AQKI"
      },
      "execution_count": 4,
      "outputs": []
    },
    {
      "cell_type": "code",
      "source": [
        "dataset_dir = os.path.join('drive', 'MyDrive', 'cars')\n",
        "train_dir = os.path.join(dataset_dir, 'train')\n",
        "val_dir = os.path.join(dataset_dir, 'val')"
      ],
      "metadata": {
        "id": "Loa16DctAQVZ"
      },
      "execution_count": 5,
      "outputs": []
    },
    {
      "cell_type": "code",
      "source": [
        "train_ds, val_ds = get_train_val_ds(train_dir, val_dir, batch_size=BATCH_SIZE, img_size=IMG_SIZE)"
      ],
      "metadata": {
        "colab": {
          "base_uri": "https://localhost:8080/"
        },
        "id": "eP5AHSPlAQiY",
        "outputId": "690bd4e5-4238-4111-a42a-0b0b0d3c3483"
      },
      "execution_count": 6,
      "outputs": [
        {
          "output_type": "stream",
          "name": "stdout",
          "text": [
            "Found 17043 files belonging to 16 classes.\n",
            "Found 3495 files belonging to 16 classes.\n"
          ]
        }
      ]
    },
    {
      "cell_type": "code",
      "source": [
        "classes, class_weight = get_class_weight()"
      ],
      "metadata": {
        "id": "3_tfsEoWAQvo"
      },
      "execution_count": 7,
      "outputs": []
    },
    {
      "cell_type": "code",
      "source": [
        "train_ds = (\n",
        "    train_ds.\n",
        "    map(lambda img, lbl: (img/255., lbl), num_parallel_calls=AUTOTUNE).\n",
        "    map(lambda img, lbl: (tf.image.rgb_to_hsv(img), lbl), num_parallel_calls=AUTOTUNE).\n",
        "    prefetch(AUTOTUNE))\n",
        "\n",
        "val_ds = (\n",
        "    val_ds.\n",
        "    map(lambda img, lbl: (img/255., lbl), num_parallel_calls=AUTOTUNE).\n",
        "    map(lambda img, lbl: (tf.image.rgb_to_hsv(img), lbl), num_parallel_calls=AUTOTUNE).\n",
        "    prefetch(AUTOTUNE))"
      ],
      "metadata": {
        "id": "mNVQnvhiAhho"
      },
      "execution_count": 8,
      "outputs": []
    },
    {
      "cell_type": "code",
      "source": [
        "hsv_creator = ModelCreator(HUB_URL, 'HSV-model')\n",
        "hsv_model = hsv_creator.make_model(img_size=IMG_SIZE)"
      ],
      "metadata": {
        "id": "9JsdrSl_AuRh",
        "outputId": "c8bf7ef2-5006-4bda-9884-ae720722a600",
        "colab": {
          "base_uri": "https://localhost:8080/"
        }
      },
      "execution_count": 9,
      "outputs": [
        {
          "output_type": "stream",
          "name": "stdout",
          "text": [
            "Model: \"HSV-model\"\n",
            "_________________________________________________________________\n",
            " Layer (type)                Output Shape              Param #   \n",
            "=================================================================\n",
            " keras_layer (KerasLayer)    (None, 1536)              12930622  \n",
            "                                                                 \n",
            " dense (Dense)               (None, 16)                24592     \n",
            "                                                                 \n",
            "=================================================================\n",
            "Total params: 12,955,214\n",
            "Trainable params: 12,845,998\n",
            "Non-trainable params: 109,216\n",
            "_________________________________________________________________\n"
          ]
        }
      ]
    },
    {
      "cell_type": "code",
      "source": [
        "callbacks = hsv_creator.get_callbacks()"
      ],
      "metadata": {
        "id": "brgc8ZQPpCdQ"
      },
      "execution_count": 10,
      "outputs": []
    },
    {
      "cell_type": "code",
      "source": [
        "history = hsv_model.fit(train_ds,\n",
        "                        callbacks=callbacks,\n",
        "                        epochs=15,\n",
        "                        validation_data=val_ds,\n",
        "                        class_weight=class_weight)"
      ],
      "metadata": {
        "colab": {
          "base_uri": "https://localhost:8080/"
        },
        "id": "gGBleAoQA57o",
        "outputId": "9d5b1e1d-dcb7-4ff2-b6e2-fed5900e42ae"
      },
      "execution_count": 11,
      "outputs": [
        {
          "output_type": "stream",
          "name": "stdout",
          "text": [
            "Epoch 1/15\n",
            "533/533 [==============================] - 3256s 6s/step - loss: 20.7552 - auc: 0.6482 - accuracy: 0.5822 - val_loss: 1.3914 - val_auc: 0.5804 - val_accuracy: 0.5448\n",
            "Epoch 2/15\n",
            "533/533 [==============================] - 246s 459ms/step - loss: 12.3000 - auc: 0.8253 - accuracy: 0.7456 - val_loss: 1.1431 - val_auc: 0.6645 - val_accuracy: 0.6266\n",
            "Epoch 3/15\n",
            "533/533 [==============================] - 244s 455ms/step - loss: 9.3832 - auc: 0.8810 - accuracy: 0.7991 - val_loss: 1.0221 - val_auc: 0.7265 - val_accuracy: 0.6835\n",
            "Epoch 4/15\n",
            "533/533 [==============================] - 244s 456ms/step - loss: 7.0803 - auc: 0.9195 - accuracy: 0.8420 - val_loss: 1.0406 - val_auc: 0.7751 - val_accuracy: 0.7256\n",
            "Epoch 5/15\n",
            "533/533 [==============================] - 258s 482ms/step - loss: 5.7515 - auc: 0.9402 - accuracy: 0.8704 - val_loss: 1.0524 - val_auc: 0.7668 - val_accuracy: 0.7067\n",
            "Epoch 6/15\n",
            "533/533 [==============================] - 243s 454ms/step - loss: 4.1143 - auc: 0.9612 - accuracy: 0.9009 - val_loss: 1.1098 - val_auc: 0.7934 - val_accuracy: 0.7516\n",
            "Epoch 7/15\n",
            "533/533 [==============================] - 243s 454ms/step - loss: 3.2737 - auc: 0.9740 - accuracy: 0.9222 - val_loss: 1.0664 - val_auc: 0.8119 - val_accuracy: 0.7665\n",
            "Epoch 8/15\n",
            "533/533 [==============================] - 243s 454ms/step - loss: 2.3264 - auc: 0.9814 - accuracy: 0.9409 - val_loss: 1.0543 - val_auc: 0.8243 - val_accuracy: 0.7820\n",
            "Epoch 9/15\n",
            "533/533 [==============================] - 242s 452ms/step - loss: 1.7611 - auc: 0.9887 - accuracy: 0.9570 - val_loss: 1.0580 - val_auc: 0.8193 - val_accuracy: 0.7817\n",
            "Epoch 10/15\n",
            "533/533 [==============================] - 244s 456ms/step - loss: 1.3696 - auc: 0.9914 - accuracy: 0.9644 - val_loss: 1.0291 - val_auc: 0.8426 - val_accuracy: 0.8003\n",
            "Epoch 11/15\n",
            "533/533 [==============================] - 243s 454ms/step - loss: 0.9728 - auc: 0.9947 - accuracy: 0.9736 - val_loss: 1.1019 - val_auc: 0.8287 - val_accuracy: 0.7966\n",
            "Epoch 12/15\n",
            "533/533 [==============================] - 242s 451ms/step - loss: 0.8859 - auc: 0.9952 - accuracy: 0.9772 - val_loss: 1.2265 - val_auc: 0.8165 - val_accuracy: 0.7911\n",
            "Epoch 13/15\n",
            "533/533 [==============================] - 243s 454ms/step - loss: 0.6975 - auc: 0.9971 - accuracy: 0.9835 - val_loss: 1.5470 - val_auc: 0.7556 - val_accuracy: 0.7382\n",
            "Epoch 14/15\n",
            "533/533 [==============================] - 242s 452ms/step - loss: 0.5016 - auc: 0.9979 - accuracy: 0.9860 - val_loss: 1.2069 - val_auc: 0.8172 - val_accuracy: 0.7951\n",
            "Epoch 15/15\n",
            "533/533 [==============================] - 260s 486ms/step - loss: 0.4947 - auc: 0.9972 - accuracy: 0.9861 - val_loss: 1.2548 - val_auc: 0.8234 - val_accuracy: 0.8023\n"
          ]
        }
      ]
    },
    {
      "cell_type": "code",
      "source": [
        "history = hsv_model.fit(train_ds,\n",
        "                          callbacks=callbacks,\n",
        "                          epochs=20,\n",
        "                          initial_epoch=15,\n",
        "                          validation_data=val_ds,\n",
        "                          class_weight=class_weight)"
      ],
      "metadata": {
        "id": "VsDEewJ2XI70",
        "outputId": "c265bf04-1d87-4221-e72e-f76d31e8650f",
        "colab": {
          "base_uri": "https://localhost:8080/"
        }
      },
      "execution_count": 12,
      "outputs": [
        {
          "output_type": "stream",
          "name": "stdout",
          "text": [
            "Epoch 16/20\n",
            "533/533 [==============================] - 242s 452ms/step - loss: 0.3012 - auc: 0.9988 - accuracy: 0.9923 - val_loss: 1.4870 - val_auc: 0.7898 - val_accuracy: 0.7883\n",
            "Epoch 17/20\n",
            "533/533 [==============================] - 243s 454ms/step - loss: 0.3248 - auc: 0.9982 - accuracy: 0.9917 - val_loss: 1.3246 - val_auc: 0.8145 - val_accuracy: 0.7971\n",
            "Epoch 18/20\n",
            "533/533 [==============================] - 258s 482ms/step - loss: 0.2980 - auc: 0.9990 - accuracy: 0.9930 - val_loss: 1.4561 - val_auc: 0.7985 - val_accuracy: 0.7951\n",
            "Epoch 19/20\n",
            "533/533 [==============================] - 243s 454ms/step - loss: 0.2384 - auc: 0.9989 - accuracy: 0.9941 - val_loss: 1.4761 - val_auc: 0.7967 - val_accuracy: 0.8026\n",
            "Epoch 20/20\n",
            "533/533 [==============================] - 242s 453ms/step - loss: 0.2382 - auc: 0.9989 - accuracy: 0.9938 - val_loss: 1.5171 - val_auc: 0.7919 - val_accuracy: 0.7934\n"
          ]
        }
      ]
    },
    {
      "cell_type": "code",
      "source": [
        "!cp ./logs/checkpoints/HSV-model.h5 ./drive/MyDrive/checkpoints/hsv-model.h5"
      ],
      "metadata": {
        "id": "4mZGtFypBIuZ"
      },
      "execution_count": 13,
      "outputs": []
    }
  ]
}