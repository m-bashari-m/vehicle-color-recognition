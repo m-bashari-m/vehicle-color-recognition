{
  "nbformat": 4,
  "nbformat_minor": 0,
  "metadata": {
    "colab": {
      "name": "Untitled1.ipynb",
      "provenance": [],
      "include_colab_link": true
    },
    "kernelspec": {
      "name": "python3",
      "display_name": "Python 3"
    },
    "language_info": {
      "name": "python"
    },
    "accelerator": "GPU",
    "gpuClass": "standard"
  },
  "cells": [
    {
      "cell_type": "markdown",
      "metadata": {
        "id": "view-in-github",
        "colab_type": "text"
      },
      "source": [
        "<a href=\"https://colab.research.google.com/github/m-bashari-m/vehicle-color-recognition/blob/main/src/04_hsv-model.ipynb\" target=\"_parent\"><img src=\"https://colab.research.google.com/assets/colab-badge.svg\" alt=\"Open In Colab\"/></a>"
      ]
    },
    {
      "cell_type": "code",
      "execution_count": 1,
      "metadata": {
        "colab": {
          "base_uri": "https://localhost:8080/"
        },
        "id": "lbfRhziV_SuY",
        "outputId": "6cc3c684-9194-4450-ef96-1723d6db578b"
      },
      "outputs": [
        {
          "output_type": "stream",
          "name": "stdout",
          "text": [
            "--2022-06-25 08:48:15--  https://raw.githubusercontent.com/m-bashari-m/vehicle-color-recognition/main/src/utils.py\n",
            "Resolving raw.githubusercontent.com (raw.githubusercontent.com)... 185.199.108.133, 185.199.109.133, 185.199.110.133, ...\n",
            "Connecting to raw.githubusercontent.com (raw.githubusercontent.com)|185.199.108.133|:443... connected.\n",
            "HTTP request sent, awaiting response... 200 OK\n",
            "Length: 12099 (12K) [text/plain]\n",
            "Saving to: ‘utils.py’\n",
            "\n",
            "\rutils.py              0%[                    ]       0  --.-KB/s               \rutils.py            100%[===================>]  11.82K  --.-KB/s    in 0s      \n",
            "\n",
            "2022-06-25 08:48:15 (86.4 MB/s) - ‘utils.py’ saved [12099/12099]\n",
            "\n"
          ]
        }
      ],
      "source": [
        "!wget https://raw.githubusercontent.com/m-bashari-m/vehicle-color-recognition/main/src/utils.py"
      ]
    },
    {
      "cell_type": "code",
      "source": [
        "from google.colab import drive\n",
        "drive.mount('./drive')"
      ],
      "metadata": {
        "colab": {
          "base_uri": "https://localhost:8080/"
        },
        "id": "dbaZViRwAPSA",
        "outputId": "48fffd0e-598d-480b-f730-a139e1b72241"
      },
      "execution_count": 2,
      "outputs": [
        {
          "output_type": "stream",
          "name": "stdout",
          "text": [
            "Mounted at ./drive\n"
          ]
        }
      ]
    },
    {
      "cell_type": "code",
      "source": [
        "import pandas as pd\n",
        "import numpy as np\n",
        "import os\n",
        "\n",
        "import tensorflow as tf\n",
        "from tensorflow import keras\n",
        "import tensorflow_hub as hub\n",
        "\n",
        "\n",
        "from utils import ModelCreator, get_train_val_ds, get_class_weight"
      ],
      "metadata": {
        "id": "rc7tl4w2AP9w"
      },
      "execution_count": 3,
      "outputs": []
    },
    {
      "cell_type": "code",
      "source": [
        "BATCH_SIZE = 32\n",
        "IMG_SIZE = (256, 256)\n",
        "AUTOTUNE = tf.data.AUTOTUNE\n",
        "N_CLASSES = 16\n",
        "HUB_URL = 'https://tfhub.dev/google/imagenet/efficientnet_v2_imagenet21k_ft1k_b3/feature_vector/2'"
      ],
      "metadata": {
        "id": "srFlURD4AQKI"
      },
      "execution_count": 4,
      "outputs": []
    },
    {
      "cell_type": "code",
      "source": [
        "dataset_dir = os.path.join('drive', 'MyDrive', 'cars')\n",
        "train_dir = os.path.join(dataset_dir, 'train')\n",
        "val_dir = os.path.join(dataset_dir, 'val')"
      ],
      "metadata": {
        "id": "Loa16DctAQVZ"
      },
      "execution_count": 5,
      "outputs": []
    },
    {
      "cell_type": "code",
      "source": [
        "train_ds, val_ds = get_train_val_ds(train_dir, val_dir, batch_size=BATCH_SIZE, img_size=IMG_SIZE)"
      ],
      "metadata": {
        "colab": {
          "base_uri": "https://localhost:8080/"
        },
        "id": "eP5AHSPlAQiY",
        "outputId": "e26fc755-2978-4c81-a867-e6c1a4451304"
      },
      "execution_count": 6,
      "outputs": [
        {
          "output_type": "stream",
          "name": "stdout",
          "text": [
            "Found 16580 files belonging to 16 classes.\n",
            "Found 3510 files belonging to 16 classes.\n"
          ]
        }
      ]
    },
    {
      "cell_type": "code",
      "source": [
        "classes, class_weight = get_class_weight()"
      ],
      "metadata": {
        "id": "3_tfsEoWAQvo"
      },
      "execution_count": 7,
      "outputs": []
    },
    {
      "cell_type": "code",
      "source": [
        "train_ds = (\n",
        "    train_ds.\n",
        "    map(lambda img, lbl: (img/255., lbl), num_parallel_calls=AUTOTUNE).\n",
        "    map(lambda img, lbl: (tf.image.rgb_to_hsv(img), lbl), num_parallel_calls=AUTOTUNE).\n",
        "    prefetch(AUTOTUNE))\n",
        "\n",
        "val_ds = (\n",
        "    val_ds.\n",
        "    map(lambda img, lbl: (img/255., lbl), num_parallel_calls=AUTOTUNE).\n",
        "    map(lambda img, lbl: (tf.image.rgb_to_hsv(img), lbl), num_parallel_calls=AUTOTUNE).\n",
        "    prefetch(AUTOTUNE))"
      ],
      "metadata": {
        "id": "mNVQnvhiAhho"
      },
      "execution_count": 8,
      "outputs": []
    },
    {
      "cell_type": "code",
      "source": [
        "hsv_creator = ModelCreator(HUB_URL, 'HSV-model')\n",
        "hsv_model = hsv_creator.make_model(img_size=IMG_SIZE)"
      ],
      "metadata": {
        "id": "9JsdrSl_AuRh",
        "outputId": "9efefb01-2e1c-40c2-dbb4-645361a072b4",
        "colab": {
          "base_uri": "https://localhost:8080/"
        }
      },
      "execution_count": 9,
      "outputs": [
        {
          "output_type": "stream",
          "name": "stdout",
          "text": [
            "Model: \"HSV-model\"\n",
            "_________________________________________________________________\n",
            " Layer (type)                Output Shape              Param #   \n",
            "=================================================================\n",
            " keras_layer (KerasLayer)    (None, 1536)              12930622  \n",
            "                                                                 \n",
            " dense (Dense)               (None, 16)                24592     \n",
            "                                                                 \n",
            "=================================================================\n",
            "Total params: 12,955,214\n",
            "Trainable params: 12,845,998\n",
            "Non-trainable params: 109,216\n",
            "_________________________________________________________________\n"
          ]
        }
      ]
    },
    {
      "cell_type": "code",
      "source": [
        "callbacks = hsv_creator.get_callbacks()"
      ],
      "metadata": {
        "id": "brgc8ZQPpCdQ"
      },
      "execution_count": 10,
      "outputs": []
    },
    {
      "cell_type": "code",
      "source": [
        "history = hsv_model.fit(train_ds,\n",
        "                        callbacks=callbacks,\n",
        "                        epochs=15,\n",
        "                        validation_data=val_ds,\n",
        "                        class_weight=class_weight)"
      ],
      "metadata": {
        "colab": {
          "base_uri": "https://localhost:8080/"
        },
        "id": "gGBleAoQA57o",
        "outputId": "5cb34871-3b3e-4dc0-91a8-e996e3f40cec"
      },
      "execution_count": 11,
      "outputs": [
        {
          "output_type": "stream",
          "name": "stdout",
          "text": [
            "Epoch 1/15\n",
            "519/519 [==============================] - 2021s 4s/step - loss: 18.3531 - auc: 0.6908 - accuracy: 0.6196 - val_loss: 0.9502 - val_auc: 0.8000 - val_accuracy: 0.7194\n",
            "Epoch 2/15\n",
            "519/519 [==============================] - 227s 435ms/step - loss: 11.4144 - auc: 0.8446 - accuracy: 0.7610 - val_loss: 0.9911 - val_auc: 0.7680 - val_accuracy: 0.6786\n",
            "Epoch 3/15\n",
            "519/519 [==============================] - 232s 444ms/step - loss: 9.0094 - auc: 0.8864 - accuracy: 0.8074 - val_loss: 0.9002 - val_auc: 0.8042 - val_accuracy: 0.7228\n",
            "Epoch 4/15\n",
            "519/519 [==============================] - 234s 448ms/step - loss: 6.8091 - auc: 0.9189 - accuracy: 0.8411 - val_loss: 0.8947 - val_auc: 0.8434 - val_accuracy: 0.7732\n",
            "Epoch 5/15\n",
            "519/519 [==============================] - 233s 446ms/step - loss: 5.1457 - auc: 0.9446 - accuracy: 0.8781 - val_loss: 0.8820 - val_auc: 0.8169 - val_accuracy: 0.7430\n",
            "Epoch 6/15\n",
            "519/519 [==============================] - 233s 447ms/step - loss: 3.9131 - auc: 0.9628 - accuracy: 0.9004 - val_loss: 1.0082 - val_auc: 0.8267 - val_accuracy: 0.7698\n",
            "Epoch 7/15\n",
            "519/519 [==============================] - 250s 479ms/step - loss: 2.7700 - auc: 0.9777 - accuracy: 0.9315 - val_loss: 1.3010 - val_auc: 0.7645 - val_accuracy: 0.7319\n",
            "Epoch 8/15\n",
            "519/519 [==============================] - 232s 445ms/step - loss: 2.3149 - auc: 0.9833 - accuracy: 0.9441 - val_loss: 1.2639 - val_auc: 0.7963 - val_accuracy: 0.7567\n",
            "Epoch 9/15\n",
            "519/519 [==============================] - 235s 450ms/step - loss: 1.7607 - auc: 0.9885 - accuracy: 0.9555 - val_loss: 1.2270 - val_auc: 0.7999 - val_accuracy: 0.7795\n",
            "Epoch 9: early stopping\n"
          ]
        }
      ]
    },
    {
      "cell_type": "code",
      "source": [
        "history = hsv_model.fit(train_ds,\n",
        "                          callbacks=callbacks,\n",
        "                          epochs=20,\n",
        "                          initial_epoch=9,\n",
        "                          validation_data=val_ds,\n",
        "                          class_weight=class_weight)"
      ],
      "metadata": {
        "id": "VsDEewJ2XI70",
        "outputId": "7ef2f9e6-6aa1-4218-e17f-4941ee69931c",
        "colab": {
          "base_uri": "https://localhost:8080/"
        }
      },
      "execution_count": 14,
      "outputs": [
        {
          "output_type": "stream",
          "name": "stdout",
          "text": [
            "Epoch 10/20\n",
            "519/519 [==============================] - 230s 437ms/step - loss: 1.0041 - auc: 0.9942 - accuracy: 0.9731 - val_loss: 1.2232 - val_auc: 0.8193 - val_accuracy: 0.8077\n",
            "Epoch 11/20\n",
            "519/519 [==============================] - 231s 443ms/step - loss: 1.5243 - auc: 0.9905 - accuracy: 0.9607 - val_loss: 1.2737 - val_auc: 0.8048 - val_accuracy: 0.7880\n",
            "Epoch 12/20\n",
            "519/519 [==============================] - 249s 478ms/step - loss: 0.7084 - auc: 0.9966 - accuracy: 0.9802 - val_loss: 1.3288 - val_auc: 0.8051 - val_accuracy: 0.7877\n",
            "Epoch 13/20\n",
            "519/519 [==============================] - 248s 476ms/step - loss: 0.4755 - auc: 0.9976 - accuracy: 0.9879 - val_loss: 1.4087 - val_auc: 0.8034 - val_accuracy: 0.7909\n",
            "Epoch 14/20\n",
            "519/519 [==============================] - 232s 445ms/step - loss: 0.6708 - auc: 0.9946 - accuracy: 0.9796 - val_loss: 1.4820 - val_auc: 0.7782 - val_accuracy: 0.7709\n",
            "Epoch 15/20\n",
            "519/519 [==============================] - 233s 447ms/step - loss: 0.3873 - auc: 0.9983 - accuracy: 0.9902 - val_loss: 1.1444 - val_auc: 0.8343 - val_accuracy: 0.8094\n",
            "Epoch 16/20\n",
            "519/519 [==============================] - 233s 447ms/step - loss: 0.3179 - auc: 0.9990 - accuracy: 0.9919 - val_loss: 1.3597 - val_auc: 0.8102 - val_accuracy: 0.8006\n",
            "Epoch 17/20\n",
            "519/519 [==============================] - 232s 444ms/step - loss: 0.2041 - auc: 0.9992 - accuracy: 0.9955 - val_loss: 1.4651 - val_auc: 0.8104 - val_accuracy: 0.8091\n",
            "Epoch 18/20\n",
            "519/519 [==============================] - 235s 450ms/step - loss: 0.3032 - auc: 0.9987 - accuracy: 0.9923 - val_loss: 1.5793 - val_auc: 0.7915 - val_accuracy: 0.7929\n",
            "Epoch 19/20\n",
            "519/519 [==============================] - 248s 476ms/step - loss: 0.2053 - auc: 0.9994 - accuracy: 0.9948 - val_loss: 1.6194 - val_auc: 0.7933 - val_accuracy: 0.7972\n",
            "Epoch 20/20\n",
            "519/519 [==============================] - 232s 444ms/step - loss: 0.1893 - auc: 0.9992 - accuracy: 0.9948 - val_loss: 1.4033 - val_auc: 0.8116 - val_accuracy: 0.8066\n",
            "Epoch 20: early stopping\n"
          ]
        }
      ]
    },
    {
      "cell_type": "code",
      "source": [
        "!cp ./logs/checkpoints/HSV-model.h5 ./drive/MyDrive/checkpoints/hsv-model-final.h5\n"
      ],
      "metadata": {
        "id": "4mZGtFypBIuZ"
      },
      "execution_count": 15,
      "outputs": []
    }
  ]
}