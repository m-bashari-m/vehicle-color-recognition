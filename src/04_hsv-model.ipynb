{
  "nbformat": 4,
  "nbformat_minor": 0,
  "metadata": {
    "colab": {
      "name": "Untitled1.ipynb",
      "provenance": [],
      "include_colab_link": true
    },
    "kernelspec": {
      "name": "python3",
      "display_name": "Python 3"
    },
    "language_info": {
      "name": "python"
    },
    "accelerator": "GPU",
    "gpuClass": "standard"
  },
  "cells": [
    {
      "cell_type": "markdown",
      "metadata": {
        "id": "view-in-github",
        "colab_type": "text"
      },
      "source": [
        "<a href=\"https://colab.research.google.com/github/m-bashari-m/vehicle-color-recognition/blob/main/src/04_hsv-model.ipynb\" target=\"_parent\"><img src=\"https://colab.research.google.com/assets/colab-badge.svg\" alt=\"Open In Colab\"/></a>"
      ]
    },
    {
      "cell_type": "code",
      "execution_count": 1,
      "metadata": {
        "colab": {
          "base_uri": "https://localhost:8080/"
        },
        "id": "lbfRhziV_SuY",
        "outputId": "553c0889-fd6d-45f5-c597-7c4554a632b5"
      },
      "outputs": [
        {
          "output_type": "stream",
          "name": "stdout",
          "text": [
            "--2022-06-16 23:08:31--  https://raw.githubusercontent.com/m-bashari-m/vehicle-color-recognition/main/src/utils.py\n",
            "Resolving raw.githubusercontent.com (raw.githubusercontent.com)... 185.199.108.133, 185.199.109.133, 185.199.110.133, ...\n",
            "Connecting to raw.githubusercontent.com (raw.githubusercontent.com)|185.199.108.133|:443... connected.\n",
            "HTTP request sent, awaiting response... 200 OK\n",
            "Length: 11745 (11K) [text/plain]\n",
            "Saving to: ‘utils.py.1’\n",
            "\n",
            "\rutils.py.1            0%[                    ]       0  --.-KB/s               \rutils.py.1          100%[===================>]  11.47K  --.-KB/s    in 0s      \n",
            "\n",
            "2022-06-16 23:08:32 (114 MB/s) - ‘utils.py.1’ saved [11745/11745]\n",
            "\n"
          ]
        }
      ],
      "source": [
        "!wget https://raw.githubusercontent.com/m-bashari-m/vehicle-color-recognition/main/src/utils.py"
      ]
    },
    {
      "cell_type": "code",
      "source": [
        "from google.colab import drive\n",
        "drive.mount('./drive')"
      ],
      "metadata": {
        "colab": {
          "base_uri": "https://localhost:8080/"
        },
        "id": "dbaZViRwAPSA",
        "outputId": "cf4da815-35f2-44bf-d9d2-3fe4b94e7c1b"
      },
      "execution_count": 2,
      "outputs": [
        {
          "output_type": "stream",
          "name": "stdout",
          "text": [
            "Drive already mounted at ./drive; to attempt to forcibly remount, call drive.mount(\"./drive\", force_remount=True).\n"
          ]
        }
      ]
    },
    {
      "cell_type": "code",
      "source": [
        "import pandas as pd\n",
        "import numpy as np\n",
        "import os\n",
        "\n",
        "import tensorflow as tf\n",
        "from tensorflow import keras\n",
        "import tensorflow_hub as hub\n",
        "\n",
        "\n",
        "from utils import ModelCreator, get_train_val_ds, get_class_weight"
      ],
      "metadata": {
        "id": "rc7tl4w2AP9w"
      },
      "execution_count": 3,
      "outputs": []
    },
    {
      "cell_type": "code",
      "source": [
        "BATCH_SIZE = 32\n",
        "IMG_SIZE = (256, 256)\n",
        "AUTOTUNE = tf.data.AUTOTUNE\n",
        "N_CLASSES = 16\n",
        "HUB_URL = 'https://tfhub.dev/google/bit/m-r50x1/1'"
      ],
      "metadata": {
        "id": "srFlURD4AQKI"
      },
      "execution_count": 4,
      "outputs": []
    },
    {
      "cell_type": "code",
      "source": [
        "dataset_dir = os.path.join('drive', 'MyDrive', 'cars')\n",
        "train_dir = os.path.join(dataset_dir, 'train')\n",
        "val_dir = os.path.join(dataset_dir, 'val')"
      ],
      "metadata": {
        "id": "Loa16DctAQVZ"
      },
      "execution_count": 5,
      "outputs": []
    },
    {
      "cell_type": "code",
      "source": [
        "train_ds, _ = get_train_val_ds(train_dir, val_dir, batch_size=BATCH_SIZE, img_size=IMG_SIZE)"
      ],
      "metadata": {
        "colab": {
          "base_uri": "https://localhost:8080/"
        },
        "id": "eP5AHSPlAQiY",
        "outputId": "473cb01b-e8c2-4001-8d37-1ef224832ad5"
      },
      "execution_count": 6,
      "outputs": [
        {
          "output_type": "stream",
          "name": "stdout",
          "text": [
            "Found 16580 files belonging to 16 classes.\n",
            "Found 3508 files belonging to 16 classes.\n"
          ]
        }
      ]
    },
    {
      "cell_type": "code",
      "source": [
        "classes, class_weight = get_class_weight()"
      ],
      "metadata": {
        "id": "3_tfsEoWAQvo"
      },
      "execution_count": 7,
      "outputs": []
    },
    {
      "cell_type": "code",
      "source": [
        "train_ds = (\n",
        "    train_ds.\n",
        "    map(lambda img, lbl: (img/255., lbl), num_parallel_calls=AUTOTUNE).\n",
        "    map(lambda img, lbl: (tf.image.rgb_to_hsv(img), lbl), num_parallel_calls=AUTOTUNE).\n",
        "    prefetch(AUTOTUNE))"
      ],
      "metadata": {
        "id": "mNVQnvhiAhho"
      },
      "execution_count": 8,
      "outputs": []
    },
    {
      "cell_type": "code",
      "source": [
        "hsv_creator = ModelCreator(HUB_URL, 'HSV-model')\n",
        "hsv_model = hsv_creator.make_model(img_size=IMG_SIZE)"
      ],
      "metadata": {
        "id": "9JsdrSl_AuRh",
        "outputId": "4eb14a19-1ea0-421b-972a-1ed2f6ac3d1f",
        "colab": {
          "base_uri": "https://localhost:8080/"
        }
      },
      "execution_count": 9,
      "outputs": [
        {
          "output_type": "stream",
          "name": "stdout",
          "text": [
            "Model: \"HSV-model\"\n",
            "_________________________________________________________________\n",
            " Layer (type)                Output Shape              Param #   \n",
            "=================================================================\n",
            " keras_layer (KerasLayer)    (None, 2048)              23500352  \n",
            "                                                                 \n",
            " dense (Dense)               (None, 16)                32784     \n",
            "                                                                 \n",
            "=================================================================\n",
            "Total params: 23,533,136\n",
            "Trainable params: 32,784\n",
            "Non-trainable params: 23,500,352\n",
            "_________________________________________________________________\n"
          ]
        }
      ]
    },
    {
      "cell_type": "code",
      "source": [
        "callbacks = hsv_creator.get_callbacks()"
      ],
      "metadata": {
        "id": "brgc8ZQPpCdQ"
      },
      "execution_count": 10,
      "outputs": []
    },
    {
      "cell_type": "code",
      "source": [
        "history = hsv_model.fit(train_ds,\n",
        "                        callbacks=callbacks,\n",
        "                        epochs=20,\n",
        "                        class_weight=class_weight)"
      ],
      "metadata": {
        "colab": {
          "base_uri": "https://localhost:8080/"
        },
        "id": "gGBleAoQA57o",
        "outputId": "b71350f5-5c69-4092-de9c-2232d5eee676"
      },
      "execution_count": 11,
      "outputs": [
        {
          "output_type": "stream",
          "name": "stdout",
          "text": [
            "Epoch 1/20\n",
            "519/519 [==============================] - 299s 542ms/step - loss: 155.6929 - auc: 0.2850 - accuracy: 0.3896\n",
            "Epoch 2/20\n",
            "519/519 [==============================] - 148s 283ms/step - loss: 107.0318 - auc: 0.4021 - accuracy: 0.5098\n",
            "Epoch 3/20\n",
            "519/519 [==============================] - 148s 282ms/step - loss: 89.9372 - auc: 0.4712 - accuracy: 0.5679\n",
            "Epoch 4/20\n",
            "519/519 [==============================] - 148s 282ms/step - loss: 75.6156 - auc: 0.5188 - accuracy: 0.6052\n",
            "Epoch 5/20\n",
            "519/519 [==============================] - 148s 282ms/step - loss: 61.1100 - auc: 0.5729 - accuracy: 0.6478\n",
            "Epoch 6/20\n",
            "519/519 [==============================] - 148s 283ms/step - loss: 58.5743 - auc: 0.5844 - accuracy: 0.6554\n",
            "Epoch 7/20\n",
            "519/519 [==============================] - 148s 282ms/step - loss: 45.6877 - auc: 0.6340 - accuracy: 0.6866\n",
            "Epoch 8/20\n",
            "519/519 [==============================] - 148s 282ms/step - loss: 37.6064 - auc: 0.6643 - accuracy: 0.7055\n",
            "Epoch 9/20\n",
            "519/519 [==============================] - 148s 282ms/step - loss: 32.0073 - auc: 0.6955 - accuracy: 0.7275\n",
            "Epoch 10/20\n",
            "519/519 [==============================] - 148s 282ms/step - loss: 29.4672 - auc: 0.6985 - accuracy: 0.7296\n",
            "Epoch 11/20\n",
            "519/519 [==============================] - 148s 282ms/step - loss: 26.4151 - auc: 0.7228 - accuracy: 0.7476\n",
            "Epoch 12/20\n",
            "519/519 [==============================] - 148s 283ms/step - loss: 21.0000 - auc: 0.7606 - accuracy: 0.7648\n",
            "Epoch 13/20\n",
            "519/519 [==============================] - 148s 283ms/step - loss: 18.0910 - auc: 0.7926 - accuracy: 0.7886\n",
            "Epoch 14/20\n",
            "519/519 [==============================] - 148s 282ms/step - loss: 15.6267 - auc: 0.8156 - accuracy: 0.8036\n",
            "Epoch 15/20\n",
            "519/519 [==============================] - 148s 282ms/step - loss: 14.6710 - auc: 0.8155 - accuracy: 0.8000\n",
            "Epoch 16/20\n",
            "519/519 [==============================] - 147s 282ms/step - loss: 12.3183 - auc: 0.8397 - accuracy: 0.8218\n",
            "Epoch 17/20\n",
            "519/519 [==============================] - 147s 281ms/step - loss: 10.4402 - auc: 0.8587 - accuracy: 0.8314\n",
            "Epoch 18/20\n",
            "519/519 [==============================] - 148s 282ms/step - loss: 9.0136 - auc: 0.8737 - accuracy: 0.8436\n",
            "Epoch 19/20\n",
            "519/519 [==============================] - 148s 282ms/step - loss: 8.3875 - auc: 0.8791 - accuracy: 0.8481\n",
            "Epoch 20/20\n",
            "519/519 [==============================] - 148s 282ms/step - loss: 7.4329 - auc: 0.8966 - accuracy: 0.8597\n"
          ]
        }
      ]
    },
    {
      "cell_type": "code",
      "source": [
        "!cp ./logs/checkpoints/HSV-model-10.h5 ./drive/MyDrive/checkpoints/hsv-model-10.h5\n",
        "!cp ./logs/checkpoints/HSV-model-14.h5 ./drive/MyDrive/checkpoints/hsv-model-14.h5\n",
        "!cp ./logs/checkpoints/HSV-model-20.h5 ./drive/MyDrive/checkpoints/hsv-model-20.h5"
      ],
      "metadata": {
        "id": "LFGG08T94iFO"
      },
      "execution_count": 17,
      "outputs": []
    },
    {
      "cell_type": "code",
      "source": [
        "history = hsv_model.fit(train_ds,\n",
        "                          callbacks=callbacks,\n",
        "                          epochs=30,\n",
        "                          class_weight=class_weight,\n",
        "                          initial_epoch=20)"
      ],
      "metadata": {
        "id": "VsDEewJ2XI70",
        "outputId": "4a4a9022-2496-4bd1-fc23-db4c05d2490c",
        "colab": {
          "base_uri": "https://localhost:8080/"
        }
      },
      "execution_count": 13,
      "outputs": [
        {
          "output_type": "stream",
          "name": "stdout",
          "text": [
            "Epoch 21/30\n",
            "519/519 [==============================] - 147s 280ms/step - loss: 6.0910 - auc: 0.9097 - accuracy: 0.8710\n",
            "Epoch 22/30\n",
            "519/519 [==============================] - 148s 282ms/step - loss: 5.6916 - auc: 0.9191 - accuracy: 0.8753\n",
            "Epoch 23/30\n",
            "519/519 [==============================] - 147s 282ms/step - loss: 5.0233 - auc: 0.9294 - accuracy: 0.8855\n",
            "Epoch 24/30\n",
            "519/519 [==============================] - 148s 282ms/step - loss: 4.5864 - auc: 0.9343 - accuracy: 0.8899\n",
            "Epoch 25/30\n",
            "519/519 [==============================] - 148s 282ms/step - loss: 4.1191 - auc: 0.9423 - accuracy: 0.8963\n",
            "Epoch 26/30\n",
            "519/519 [==============================] - 148s 283ms/step - loss: 3.5427 - auc: 0.9502 - accuracy: 0.9050\n",
            "Epoch 27/30\n",
            "519/519 [==============================] - 147s 281ms/step - loss: 3.5354 - auc: 0.9488 - accuracy: 0.9052\n",
            "Epoch 28/30\n",
            "519/519 [==============================] - 147s 282ms/step - loss: 2.9942 - auc: 0.9593 - accuracy: 0.9166\n",
            "Epoch 29/30\n",
            "519/519 [==============================] - 148s 282ms/step - loss: 2.8541 - auc: 0.9614 - accuracy: 0.9188\n",
            "Epoch 30/30\n",
            "519/519 [==============================] - 148s 283ms/step - loss: 2.6518 - auc: 0.9616 - accuracy: 0.9197\n"
          ]
        }
      ]
    },
    {
      "cell_type": "code",
      "source": [
        "!cp ./logs/checkpoints/HSV-model-25.h5 ./drive/MyDrive/checkpoints/hsv-model-25.h5\n",
        "!cp ./logs/checkpoints/HSV-model-30.h5 ./drive/MyDrive/checkpoints/hsv-model-30.h5"
      ],
      "metadata": {
        "id": "4mZGtFypBIuZ"
      },
      "execution_count": 15,
      "outputs": []
    },
    {
      "cell_type": "code",
      "source": [
        "history = hsv_model.fit(train_ds,\n",
        "                          callbacks=callbacks,\n",
        "                          epochs=40,\n",
        "                          class_weight=class_weight,\n",
        "                          initial_epoch=30)"
      ],
      "metadata": {
        "id": "tpmBxK1EI0Aq",
        "outputId": "b51a734b-b28c-487f-f6b1-97e8eccd374d",
        "colab": {
          "base_uri": "https://localhost:8080/"
        }
      },
      "execution_count": 16,
      "outputs": [
        {
          "output_type": "stream",
          "name": "stdout",
          "text": [
            "Epoch 31/40\n",
            "519/519 [==============================] - 148s 283ms/step - loss: 2.4778 - auc: 0.9648 - accuracy: 0.9261\n",
            "Epoch 32/40\n",
            "519/519 [==============================] - 148s 282ms/step - loss: 2.2595 - auc: 0.9693 - accuracy: 0.9295\n",
            "Epoch 33/40\n",
            "519/519 [==============================] - 149s 284ms/step - loss: 2.1963 - auc: 0.9699 - accuracy: 0.9339\n",
            "Epoch 34/40\n",
            "519/519 [==============================] - 148s 283ms/step - loss: 2.0398 - auc: 0.9713 - accuracy: 0.9357\n",
            "Epoch 35/40\n",
            "519/519 [==============================] - 150s 286ms/step - loss: 1.9213 - auc: 0.9732 - accuracy: 0.9411\n",
            "Epoch 36/40\n",
            "519/519 [==============================] - 148s 282ms/step - loss: 1.8671 - auc: 0.9736 - accuracy: 0.9407\n",
            "Epoch 37/40\n",
            "519/519 [==============================] - 148s 283ms/step - loss: 1.7814 - auc: 0.9752 - accuracy: 0.9448\n",
            "Epoch 38/40\n",
            "519/519 [==============================] - 148s 282ms/step - loss: 1.7170 - auc: 0.9758 - accuracy: 0.9476\n",
            "Epoch 39/40\n",
            "519/519 [==============================] - 148s 282ms/step - loss: 1.6414 - auc: 0.9772 - accuracy: 0.9480\n",
            "Epoch 40/40\n",
            "519/519 [==============================] - 151s 288ms/step - loss: 1.5698 - auc: 0.9771 - accuracy: 0.9483\n"
          ]
        }
      ]
    },
    {
      "cell_type": "code",
      "source": [
        "!cp ./logs/checkpoints/HSV-model-35.h5 ./drive/MyDrive/checkpoints/hsv-model-35.h5\n",
        "!cp ./logs/checkpoints/HSV-model-39.h5 ./drive/MyDrive/checkpoints/hsv-model-39.h5"
      ],
      "metadata": {
        "id": "FO2X8U4fKZTh"
      },
      "execution_count": 18,
      "outputs": []
    },
    {
      "cell_type": "code",
      "source": [
        "history = hsv_model.fit(train_ds,\n",
        "                          callbacks=callbacks,\n",
        "                          epochs=50,\n",
        "                          class_weight=class_weight,\n",
        "                          initial_epoch=40)"
      ],
      "metadata": {
        "id": "EaP1KHjjPrty",
        "outputId": "a44f042b-fe11-46b6-b375-0b2856c64c4c",
        "colab": {
          "base_uri": "https://localhost:8080/"
        }
      },
      "execution_count": 19,
      "outputs": [
        {
          "output_type": "stream",
          "name": "stdout",
          "text": [
            "Epoch 41/50\n",
            "519/519 [==============================] - 149s 285ms/step - loss: 1.5272 - auc: 0.9785 - accuracy: 0.9508\n",
            "Epoch 42/50\n",
            "519/519 [==============================] - 149s 284ms/step - loss: 1.4949 - auc: 0.9789 - accuracy: 0.9507\n",
            "Epoch 43/50\n",
            "519/519 [==============================] - 147s 282ms/step - loss: 1.4616 - auc: 0.9796 - accuracy: 0.9524\n",
            "Epoch 44/50\n",
            "519/519 [==============================] - 148s 282ms/step - loss: 1.4314 - auc: 0.9800 - accuracy: 0.9541\n",
            "Epoch 45/50\n",
            "519/519 [==============================] - 148s 282ms/step - loss: 1.3965 - auc: 0.9803 - accuracy: 0.9543\n",
            "Epoch 46/50\n",
            "519/519 [==============================] - 147s 282ms/step - loss: 1.3419 - auc: 0.9817 - accuracy: 0.9562\n",
            "Epoch 47/50\n",
            "519/519 [==============================] - 148s 282ms/step - loss: 1.3279 - auc: 0.9819 - accuracy: 0.9557\n",
            "Epoch 48/50\n",
            "519/519 [==============================] - 148s 283ms/step - loss: 1.3176 - auc: 0.9817 - accuracy: 0.9563\n",
            "Epoch 49/50\n",
            "519/519 [==============================] - 147s 280ms/step - loss: 1.3004 - auc: 0.9823 - accuracy: 0.9568\n",
            "Epoch 50/50\n",
            "519/519 [==============================] - 148s 282ms/step - loss: 1.2860 - auc: 0.9827 - accuracy: 0.9569\n"
          ]
        }
      ]
    },
    {
      "cell_type": "code",
      "source": [
        "!cp ./logs/checkpoints/HSV-model-45.h5 ./drive/MyDrive/checkpoints/hsv-model-45.h5\n",
        "!cp ./logs/checkpoints/HSV-model-50.h5 ./drive/MyDrive/checkpoints/hsv-model-50.h5"
      ],
      "metadata": {
        "id": "aR42GABhVlx4"
      },
      "execution_count": 21,
      "outputs": []
    }
  ]
}