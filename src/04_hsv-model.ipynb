{
  "nbformat": 4,
  "nbformat_minor": 0,
  "metadata": {
    "colab": {
      "name": "Untitled1.ipynb",
      "provenance": [],
      "include_colab_link": true
    },
    "kernelspec": {
      "name": "python3",
      "display_name": "Python 3"
    },
    "language_info": {
      "name": "python"
    },
    "accelerator": "GPU",
    "gpuClass": "standard"
  },
  "cells": [
    {
      "cell_type": "markdown",
      "metadata": {
        "id": "view-in-github",
        "colab_type": "text"
      },
      "source": [
        "<a href=\"https://colab.research.google.com/github/m-bashari-m/vehicle-color-recognition/blob/main/src/04_hsv-model.ipynb\" target=\"_parent\"><img src=\"https://colab.research.google.com/assets/colab-badge.svg\" alt=\"Open In Colab\"/></a>"
      ]
    },
    {
      "cell_type": "code",
      "execution_count": 1,
      "metadata": {
        "colab": {
          "base_uri": "https://localhost:8080/"
        },
        "id": "lbfRhziV_SuY",
        "outputId": "0daf9cb5-7ff2-4ca0-a187-5ab1308d2687"
      },
      "outputs": [
        {
          "output_type": "stream",
          "name": "stdout",
          "text": [
            "--2022-07-22 09:53:33--  https://raw.githubusercontent.com/m-bashari-m/vehicle-color-recognition/main/src/utils.py\n",
            "Resolving raw.githubusercontent.com (raw.githubusercontent.com)... 185.199.109.133, 185.199.111.133, 185.199.108.133, ...\n",
            "Connecting to raw.githubusercontent.com (raw.githubusercontent.com)|185.199.109.133|:443... connected.\n",
            "HTTP request sent, awaiting response... 200 OK\n",
            "Length: 11848 (12K) [text/plain]\n",
            "Saving to: ‘utils.py’\n",
            "\n",
            "\rutils.py              0%[                    ]       0  --.-KB/s               \rutils.py            100%[===================>]  11.57K  --.-KB/s    in 0s      \n",
            "\n",
            "2022-07-22 09:53:33 (128 MB/s) - ‘utils.py’ saved [11848/11848]\n",
            "\n"
          ]
        }
      ],
      "source": [
        "!wget https://raw.githubusercontent.com/m-bashari-m/vehicle-color-recognition/main/src/utils.py"
      ]
    },
    {
      "cell_type": "code",
      "source": [
        "from google.colab import drive\n",
        "drive.mount('./drive')"
      ],
      "metadata": {
        "colab": {
          "base_uri": "https://localhost:8080/"
        },
        "id": "dbaZViRwAPSA",
        "outputId": "0adfe195-ce0b-4e16-e569-d9aa311f5c69"
      },
      "execution_count": 2,
      "outputs": [
        {
          "output_type": "stream",
          "name": "stdout",
          "text": [
            "Mounted at ./drive\n"
          ]
        }
      ]
    },
    {
      "cell_type": "code",
      "source": [
        "import pandas as pd\n",
        "import numpy as np\n",
        "import os\n",
        "\n",
        "import tensorflow as tf\n",
        "from tensorflow import keras\n",
        "import tensorflow_hub as hub\n",
        "\n",
        "\n",
        "from utils import ModelCreator, get_train_val_ds, get_class_weight"
      ],
      "metadata": {
        "id": "rc7tl4w2AP9w"
      },
      "execution_count": 3,
      "outputs": []
    },
    {
      "cell_type": "code",
      "source": [
        "BATCH_SIZE = 32\n",
        "IMG_SIZE = (256, 256)\n",
        "AUTOTUNE = tf.data.AUTOTUNE\n",
        "N_CLASSES = 16\n",
        "HUB_URL = 'https://tfhub.dev/google/imagenet/efficientnet_v2_imagenet21k_ft1k_b3/feature_vector/2'"
      ],
      "metadata": {
        "id": "srFlURD4AQKI"
      },
      "execution_count": 4,
      "outputs": []
    },
    {
      "cell_type": "code",
      "source": [
        "dataset_dir = os.path.join('drive', 'MyDrive', 'data')\n",
        "train_dir = os.path.join(dataset_dir, 'train')\n",
        "val_dir = os.path.join(dataset_dir, 'val')"
      ],
      "metadata": {
        "id": "Loa16DctAQVZ"
      },
      "execution_count": 5,
      "outputs": []
    },
    {
      "cell_type": "code",
      "source": [
        "train_ds, val_ds = get_train_val_ds(train_dir, val_dir, batch_size=BATCH_SIZE, img_size=IMG_SIZE)"
      ],
      "metadata": {
        "colab": {
          "base_uri": "https://localhost:8080/"
        },
        "id": "eP5AHSPlAQiY",
        "outputId": "807107e9-05d7-44e7-c13f-64d9ee3b110c"
      },
      "execution_count": 6,
      "outputs": [
        {
          "output_type": "stream",
          "name": "stdout",
          "text": [
            "Found 20092 files belonging to 16 classes.\n",
            "Found 3495 files belonging to 16 classes.\n"
          ]
        }
      ]
    },
    {
      "cell_type": "code",
      "source": [
        "classes, class_weight = get_class_weight()"
      ],
      "metadata": {
        "id": "3_tfsEoWAQvo"
      },
      "execution_count": 7,
      "outputs": []
    },
    {
      "cell_type": "code",
      "source": [
        "train_ds = (\n",
        "    train_ds.\n",
        "    map(lambda img, lbl: (img/255., lbl), num_parallel_calls=AUTOTUNE).\n",
        "    map(lambda img, lbl: (tf.image.rgb_to_hsv(img), lbl), num_parallel_calls=AUTOTUNE).\n",
        "    prefetch(AUTOTUNE))\n",
        "\n",
        "val_ds = (\n",
        "    val_ds.\n",
        "    map(lambda img, lbl: (img/255., lbl), num_parallel_calls=AUTOTUNE).\n",
        "    map(lambda img, lbl: (tf.image.rgb_to_hsv(img), lbl), num_parallel_calls=AUTOTUNE).\n",
        "    prefetch(AUTOTUNE))"
      ],
      "metadata": {
        "id": "mNVQnvhiAhho"
      },
      "execution_count": 8,
      "outputs": []
    },
    {
      "cell_type": "code",
      "source": [
        "hsv_creator = ModelCreator(HUB_URL, 'HSV-model')\n",
        "hsv_model = hsv_creator.make_model(img_size=IMG_SIZE)"
      ],
      "metadata": {
        "id": "9JsdrSl_AuRh",
        "outputId": "0ac05f50-4d24-4aba-abe4-73fc125977da",
        "colab": {
          "base_uri": "https://localhost:8080/"
        }
      },
      "execution_count": 9,
      "outputs": [
        {
          "output_type": "stream",
          "name": "stdout",
          "text": [
            "Model: \"HSV-model\"\n",
            "_________________________________________________________________\n",
            " Layer (type)                Output Shape              Param #   \n",
            "=================================================================\n",
            " keras_layer (KerasLayer)    (None, 1536)              12930622  \n",
            "                                                                 \n",
            " dense (Dense)               (None, 16)                24592     \n",
            "                                                                 \n",
            "=================================================================\n",
            "Total params: 12,955,214\n",
            "Trainable params: 12,845,998\n",
            "Non-trainable params: 109,216\n",
            "_________________________________________________________________\n"
          ]
        }
      ]
    },
    {
      "cell_type": "code",
      "source": [
        "callbacks = hsv_creator.get_callbacks()"
      ],
      "metadata": {
        "id": "brgc8ZQPpCdQ"
      },
      "execution_count": 10,
      "outputs": []
    },
    {
      "cell_type": "code",
      "source": [
        "history = hsv_model.fit(train_ds,\n",
        "                        callbacks=callbacks,\n",
        "                        epochs=15,\n",
        "                        validation_data=val_ds,\n",
        "                        class_weight=class_weight)"
      ],
      "metadata": {
        "colab": {
          "base_uri": "https://localhost:8080/"
        },
        "id": "gGBleAoQA57o",
        "outputId": "4794ae7e-f6a3-47f7-eb43-3ec138c99f47"
      },
      "execution_count": 11,
      "outputs": [
        {
          "output_type": "stream",
          "name": "stdout",
          "text": [
            "Epoch 1/15\n",
            "628/628 [==============================] - 2429s 4s/step - loss: 15.2342 - auc: 0.7695 - accuracy: 0.6905 - val_loss: 0.8137 - val_auc: 0.8226 - val_accuracy: 0.7413\n",
            "Epoch 2/15\n",
            "628/628 [==============================] - 289s 458ms/step - loss: 8.5061 - auc: 0.9038 - accuracy: 0.8236 - val_loss: 0.7877 - val_auc: 0.8509 - val_accuracy: 0.7634\n",
            "Epoch 3/15\n",
            "628/628 [==============================] - 290s 460ms/step - loss: 6.2741 - auc: 0.9377 - accuracy: 0.8639 - val_loss: 0.8366 - val_auc: 0.8561 - val_accuracy: 0.7874\n",
            "Epoch 4/15\n",
            "628/628 [==============================] - 287s 456ms/step - loss: 4.6552 - auc: 0.9620 - accuracy: 0.8986 - val_loss: 1.0316 - val_auc: 0.8156 - val_accuracy: 0.7554\n",
            "Epoch 5/15\n",
            "628/628 [==============================] - 289s 458ms/step - loss: 3.6101 - auc: 0.9712 - accuracy: 0.9169 - val_loss: 0.9367 - val_auc: 0.8300 - val_accuracy: 0.7671\n",
            "Epoch 6/15\n",
            "628/628 [==============================] - 289s 458ms/step - loss: 2.5430 - auc: 0.9846 - accuracy: 0.9430 - val_loss: 0.9439 - val_auc: 0.8472 - val_accuracy: 0.7994\n",
            "Epoch 7/15\n",
            "628/628 [==============================] - 290s 460ms/step - loss: 1.9245 - auc: 0.9887 - accuracy: 0.9548 - val_loss: 0.9999 - val_auc: 0.8372 - val_accuracy: 0.8074\n",
            "Epoch 8/15\n",
            "628/628 [==============================] - 288s 456ms/step - loss: 1.2242 - auc: 0.9940 - accuracy: 0.9715 - val_loss: 1.2520 - val_auc: 0.7907 - val_accuracy: 0.7694\n",
            "Epoch 9/15\n",
            "628/628 [==============================] - 288s 457ms/step - loss: 0.9186 - auc: 0.9956 - accuracy: 0.9796 - val_loss: 1.1729 - val_auc: 0.8244 - val_accuracy: 0.7994\n",
            "Epoch 10/15\n",
            "628/628 [==============================] - 288s 457ms/step - loss: 0.8788 - auc: 0.9960 - accuracy: 0.9798 - val_loss: 1.1600 - val_auc: 0.8301 - val_accuracy: 0.7951\n",
            "Epoch 11/15\n",
            "628/628 [==============================] - 289s 458ms/step - loss: 0.6043 - auc: 0.9979 - accuracy: 0.9872 - val_loss: 1.1411 - val_auc: 0.8323 - val_accuracy: 0.8206\n",
            "Epoch 12/15\n",
            "628/628 [==============================] - 304s 482ms/step - loss: 0.4551 - auc: 0.9986 - accuracy: 0.9894 - val_loss: 1.3113 - val_auc: 0.8146 - val_accuracy: 0.8017\n",
            "Epoch 13/15\n",
            "628/628 [==============================] - 288s 456ms/step - loss: 0.4893 - auc: 0.9980 - accuracy: 0.9883 - val_loss: 1.4579 - val_auc: 0.7966 - val_accuracy: 0.7937\n",
            "Epoch 14/15\n",
            "628/628 [==============================] - 289s 459ms/step - loss: 0.3227 - auc: 0.9988 - accuracy: 0.9931 - val_loss: 1.1799 - val_auc: 0.8317 - val_accuracy: 0.8172\n",
            "Epoch 15/15\n",
            "628/628 [==============================] - 289s 457ms/step - loss: 0.2475 - auc: 0.9993 - accuracy: 0.9943 - val_loss: 1.2936 - val_auc: 0.8246 - val_accuracy: 0.8117\n"
          ]
        }
      ]
    },
    {
      "cell_type": "code",
      "source": [
        "!cp ./logs/checkpoints/HSV-model.h5 ./drive/MyDrive/checkpoints/hsv-model-aug.h5"
      ],
      "metadata": {
        "id": "4mZGtFypBIuZ"
      },
      "execution_count": 12,
      "outputs": []
    }
  ]
}