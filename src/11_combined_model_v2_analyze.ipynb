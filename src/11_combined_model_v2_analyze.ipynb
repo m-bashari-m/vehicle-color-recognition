{
 "cells": [
  {
   "cell_type": "markdown",
   "metadata": {
    "colab_type": "text",
    "id": "view-in-github"
   },
   "source": [
    "<a href=\"https://colab.research.google.com/github/m-bashari-m/vehicle-color-recognition/blob/main/src/11_combined_model_v2_analyze.ipynb\" target=\"_parent\"><img src=\"https://colab.research.google.com/assets/colab-badge.svg\" alt=\"Open In Colab\"/></a>"
   ]
  },
  {
   "cell_type": "code",
   "execution_count": 1,
   "metadata": {
    "colab": {
     "base_uri": "https://localhost:8080/"
    },
    "id": "J8ySLmJdGKM7",
    "outputId": "6db75021-ffc5-4991-ccd2-6c1141ef50ff"
   },
   "outputs": [
    {
     "name": "stdout",
     "output_type": "stream",
     "text": [
      "--2022-06-30 23:33:02--  https://raw.githubusercontent.com/m-bashari-m/vehicle-color-recognition/main/src/utils.py\n",
      "Resolving raw.githubusercontent.com (raw.githubusercontent.com)... 185.199.108.133, 185.199.109.133, 185.199.110.133, ...\n",
      "Connecting to raw.githubusercontent.com (raw.githubusercontent.com)|185.199.108.133|:443... connected.\n",
      "HTTP request sent, awaiting response... 200 OK\n",
      "Length: 11845 (12K) [text/plain]\n",
      "Saving to: ‘utils.py’\n",
      "\n",
      "\r",
      "utils.py              0%[                    ]       0  --.-KB/s               \r",
      "utils.py            100%[===================>]  11.57K  --.-KB/s    in 0.001s  \n",
      "\n",
      "2022-06-30 23:33:02 (20.0 MB/s) - ‘utils.py’ saved [11845/11845]\n",
      "\n"
     ]
    }
   ],
   "source": [
    "!wget https://raw.githubusercontent.com/m-bashari-m/vehicle-color-recognition/main/src/utils.py"
   ]
  },
  {
   "cell_type": "code",
   "execution_count": 2,
   "metadata": {
    "colab": {
     "base_uri": "https://localhost:8080/"
    },
    "id": "AVK8jwqcGVQG",
    "outputId": "8647f8fc-9ad9-482c-da8b-7d38dee6321b"
   },
   "outputs": [
    {
     "name": "stdout",
     "output_type": "stream",
     "text": [
      "Drive already mounted at ./drive; to attempt to forcibly remount, call drive.mount(\"./drive\", force_remount=True).\n"
     ]
    }
   ],
   "source": [
    "from google.colab import drive\n",
    "drive.mount('./drive')"
   ]
  },
  {
   "cell_type": "code",
   "execution_count": 3,
   "metadata": {
    "id": "d9pP1eLMGbO4"
   },
   "outputs": [],
   "source": [
    "import os\n",
    "\n",
    "import tensorflow as tf\n",
    "from tensorflow import keras\n",
    "\n",
    "from utils import get_train_val_ds, ErrorAnalyzer, get_class_weight, get_model"
   ]
  },
  {
   "cell_type": "code",
   "execution_count": 4,
   "metadata": {
    "id": "Yi-DuzmqGkPv"
   },
   "outputs": [],
   "source": [
    "BATCH_SIZE = 64\n",
    "IMG_SIZE = (256, 256)\n",
    "AUTOTUNE = tf.data.AUTOTUNE\n",
    "N_CLASSES = 16"
   ]
  },
  {
   "cell_type": "code",
   "execution_count": 5,
   "metadata": {
    "id": "curfXRkZGzCD"
   },
   "outputs": [],
   "source": [
    "dataset_dir = os.path.join('drive', 'MyDrive', 'cars')\n",
    "train_dir = os.path.join(dataset_dir, 'train')\n",
    "val_dir = os.path.join(dataset_dir, 'val')"
   ]
  },
  {
   "cell_type": "code",
   "execution_count": 6,
   "metadata": {
    "colab": {
     "base_uri": "https://localhost:8080/"
    },
    "id": "dKshpdroG3R5",
    "outputId": "1bcdae98-6a6c-4476-ea57-76bdc6725e9f"
   },
   "outputs": [
    {
     "name": "stdout",
     "output_type": "stream",
     "text": [
      "Found 16580 files belonging to 16 classes.\n",
      "Found 3495 files belonging to 16 classes.\n"
     ]
    }
   ],
   "source": [
    "_, val_ds = get_train_val_ds(train_dir, val_dir, batch_size=BATCH_SIZE, img_size=IMG_SIZE)"
   ]
  },
  {
   "cell_type": "code",
   "execution_count": 7,
   "metadata": {
    "id": "P3nOWRv5TGWB"
   },
   "outputs": [],
   "source": [
    "classes, _ = get_class_weight()"
   ]
  },
  {
   "cell_type": "code",
   "execution_count": 8,
   "metadata": {
    "id": "2BwWI4zV8I5_"
   },
   "outputs": [],
   "source": [
    "file_paths = val_ds.file_paths"
   ]
  },
  {
   "cell_type": "code",
   "execution_count": 9,
   "metadata": {
    "id": "npWWaFZlna4C"
   },
   "outputs": [],
   "source": [
    "rgb_ds = (\n",
    "    val_ds.\n",
    "    map(lambda img, lbl: (img/255., lbl), num_parallel_calls=AUTOTUNE).\n",
    "    prefetch(AUTOTUNE))"
   ]
  },
  {
   "cell_type": "code",
   "execution_count": 10,
   "metadata": {
    "id": "OWW316taR-L-"
   },
   "outputs": [],
   "source": [
    "model = get_model('combined-v2')"
   ]
  },
  {
   "cell_type": "code",
   "execution_count": 11,
   "metadata": {
    "colab": {
     "base_uri": "https://localhost:8080/",
     "height": 85,
     "referenced_widgets": [
      "3273fbf65557406788d19ee5e8acfdc5",
      "bdb730535e994270bc7110c236894e7e",
      "ba551615092340d6b2b485db433dcbba",
      "4d52dc6269904002b989e4184a107f97",
      "c5ae681b73c54bd09c06a6cc28ca74b9",
      "5cd9b4922af54ec99f121b3cdb22545e",
      "5201c42e690f4f859f57bef413bfac56",
      "193034b4d01a4fa8a2e2e765b9cf2742",
      "cf1328f84cf74aef80fdaf72b5df41b6",
      "c7ac266f83da4fd1b923725d46dfb861",
      "5e8899e421eb4d16b72a6e350a551183"
     ]
    },
    "id": "mpBJq4C1RNCy",
    "outputId": "70eac5ac-4762-4f95-ab20-151e703e2e35"
   },
   "outputs": [
    {
     "name": "stdout",
     "output_type": "stream",
     "text": [
      "Making confusion matrix:\n"
     ]
    },
    {
     "data": {
      "application/vnd.jupyter.widget-view+json": {
       "model_id": "3273fbf65557406788d19ee5e8acfdc5",
       "version_major": 2,
       "version_minor": 0
      },
      "text/plain": [
       "  0%|          | 0/55 [00:00<?, ?it/s]"
      ]
     },
     "metadata": {},
     "output_type": "display_data"
    },
    {
     "name": "stdout",
     "output_type": "stream",
     "text": [
      "Confusion matrix is saved\n"
     ]
    }
   ],
   "source": [
    "analyzer = ErrorAnalyzer(model=model,\n",
    "                         ds=rgb_ds,\n",
    "                         file_paths=file_paths,\n",
    "                         classes=classes,\n",
    "                         model_name='combined-v2')"
   ]
  },
  {
   "cell_type": "code",
   "execution_count": 12,
   "metadata": {
    "colab": {
     "base_uri": "https://localhost:8080/",
     "height": 645
    },
    "id": "9FSFJU9XxkVF",
    "outputId": "1d3a11cf-f161-40e4-ca4a-ed77eee27318"
   },
   "outputs": [
    {
     "data": {
      "image/png": "[encoded data removed]",
      "text/plain": [
       "<Figure size 720x720 with 2 Axes>"
      ]
     },
     "metadata": {
      "needs_background": "light"
     },
     "output_type": "display_data"
    }
   ],
   "source": [
    "analyzer.plot_confusion_mat()"
   ]
  },
  {
   "cell_type": "code",
   "execution_count": 13,
   "metadata": {
    "colab": {
     "base_uri": "https://localhost:8080/"
    },
    "id": "Ci2E1b4gyPNF",
    "outputId": "b3e432cd-85c3-4bf4-8ecc-ea6db9a29c98"
   },
   "outputs": [
    {
     "name": "stdout",
     "output_type": "stream",
     "text": [
      "Calculateing error types...\n",
      "Writing in log file...\n",
      "\u001b[1;32mAll done. Check log file => combined-v2.csv\n",
      "Accuracy: %83.55\n",
      "Precision mean: 0.7521\n",
      "Recall mean: 0.6514\n"
     ]
    }
   ],
   "source": [
    "analyzer.evaluate_model()"
   ]
  },
  {
   "cell_type": "markdown",
   "metadata": {
    "id": "wRJc686X8EU0"
   },
   "source": [
    "# More Inspection"
   ]
  },
  {
   "cell_type": "markdown",
   "metadata": {
    "id": "Z3sRY2Kt8Cy6"
   },
   "source": [
    "Since RGB and combined v2 almost had same performance, I have used thier models to check errors more precisely, to decide about best model."
   ]
  },
  {
   "cell_type": "code",
   "execution_count": null,
   "metadata": {
    "id": "KZjzFQIj8T5j"
   },
   "outputs": [],
   "source": [
    "for class_ in classes:\n",
    "  analyzer.plot_missclassified(class_)"
   ]
  },
  {
   "cell_type": "code",
   "execution_count": 15,
   "metadata": {
    "colab": {
     "base_uri": "https://localhost:8080/",
     "height": 398
    },
    "id": "r_y7jgJl0-8n",
    "outputId": "ff9a3b2d-931e-44ff-f224-9d3a46163506"
   },
   "outputs": [
    {
     "name": "stdout",
     "output_type": "stream",
     "text": [
      "  adding: logs/statistic/ (stored 0%)\n",
      "  adding: logs/statistic/combined-v2.csv (deflated 82%)\n",
      "  adding: logs/statistic/combined-v2-conf-mat.npy (deflated 75%)\n",
      "  adding: logs/statistic/images/ (stored 0%)\n",
      "  adding: logs/statistic/images/combined-v2-cream.jpeg (deflated 30%)\n",
      "  adding: logs/statistic/images/combined-v2-crimson.jpeg (deflated 38%)\n",
      "  adding: logs/statistic/images/combined-v2-grey.jpeg (deflated 14%)\n",
      "  adding: logs/statistic/images/combined-v2-gold.jpeg (deflated 25%)\n",
      "  adding: logs/statistic/images/combined-v2-green.jpeg (deflated 29%)\n",
      "  adding: logs/statistic/images/combined-v2-navy-blue.jpeg (deflated 31%)\n",
      "  adding: logs/statistic/images/combined-v2-blue.jpeg (deflated 18%)\n",
      "  adding: logs/statistic/images/combined-v2-red.jpeg (deflated 26%)\n",
      "  adding: logs/statistic/images/combined-v2-orange.jpeg (deflated 26%)\n",
      "  adding: logs/statistic/images/combined-v2.jpg (deflated 16%)\n",
      "  adding: logs/statistic/images/combined-v2-titanium.jpeg (deflated 25%)\n",
      "  adding: logs/statistic/images/combined-v2-beige.jpeg (deflated 14%)\n",
      "  adding: logs/statistic/images/combined-v2-silver.jpeg (deflated 19%)\n",
      "  adding: logs/statistic/images/combined-v2-black.jpeg (deflated 19%)\n",
      "  adding: logs/statistic/images/combined-v2-white.jpeg (deflated 27%)\n",
      "  adding: logs/statistic/images/combined-v2-yellow.jpeg (deflated 26%)\n",
      "  adding: logs/statistic/images/combined-v2-brown.jpeg (deflated 17%)\n"
     ]
    },
    {
     "data": {
      "application/javascript": [
       "\n",
       "    async function download(id, filename, size) {\n",
       "      if (!google.colab.kernel.accessAllowed) {\n",
       "        return;\n",
       "      }\n",
       "      const div = document.createElement('div');\n",
       "      const label = document.createElement('label');\n",
       "      label.textContent = `Downloading \"${filename}\": `;\n",
       "      div.appendChild(label);\n",
       "      const progress = document.createElement('progress');\n",
       "      progress.max = size;\n",
       "      div.appendChild(progress);\n",
       "      document.body.appendChild(div);\n",
       "\n",
       "      const buffers = [];\n",
       "      let downloaded = 0;\n",
       "\n",
       "      const channel = await google.colab.kernel.comms.open(id);\n",
       "      // Send a message to notify the kernel that we're ready.\n",
       "      channel.send({})\n",
       "\n",
       "      for await (const message of channel.messages) {\n",
       "        // Send a message to notify the kernel that we're ready.\n",
       "        channel.send({})\n",
       "        if (message.buffers) {\n",
       "          for (const buffer of message.buffers) {\n",
       "            buffers.push(buffer);\n",
       "            downloaded += buffer.byteLength;\n",
       "            progress.value = downloaded;\n",
       "          }\n",
       "        }\n",
       "      }\n",
       "      const blob = new Blob(buffers, {type: 'application/binary'});\n",
       "      const a = document.createElement('a');\n",
       "      a.href = window.URL.createObjectURL(blob);\n",
       "      a.download = filename;\n",
       "      div.appendChild(a);\n",
       "      a.click();\n",
       "      div.remove();\n",
       "    }\n",
       "  "
      ],
      "text/plain": [
       "<IPython.core.display.Javascript object>"
      ]
     },
     "metadata": {},
     "output_type": "display_data"
    },
    {
     "data": {
      "application/javascript": [
       "download(\"download_af98b418-7f0d-461b-96c6-55b0937de9df\", \"combined-v2-stats.zip\", 2583740)"
      ],
      "text/plain": [
       "<IPython.core.display.Javascript object>"
      ]
     },
     "metadata": {},
     "output_type": "display_data"
    }
   ],
   "source": [
    "!zip -r combined-v2-stats.zip ./logs/statistic \n",
    "\n",
    "from google.colab import files\n",
    "files.download('combined-v2-stats.zip')"
   ]
  }
 ],
 "metadata": {
  "accelerator": "GPU",
  "colab": {
   "collapsed_sections": [],
   "include_colab_link": true,
   "name": "Untitled5.ipynb",
   "provenance": []
  },
  "kernelspec": {
   "display_name": "Python 3 (ipykernel)",
   "language": "python",
   "name": "python3"
  },
  "language_info": {
   "codemirror_mode": {
    "name": "ipython",
    "version": 3
   },
   "file_extension": ".py",
   "mimetype": "text/x-python",
   "name": "python",
   "nbconvert_exporter": "python",
   "pygments_lexer": "ipython3",
   "version": "3.8.10"
  },
  "widgets": {
   "application/vnd.jupyter.widget-state+json": {
    "193034b4d01a4fa8a2e2e765b9cf2742": {
     "model_module": "@jupyter-widgets/base",
     "model_module_version": "1.2.0",
     "model_name": "LayoutModel",
     "state": {
      "_model_module": "@jupyter-widgets/base",
      "_model_module_version": "1.2.0",
      "_model_name": "LayoutModel",
      "_view_count": null,
      "_view_module": "@jupyter-widgets/base",
      "_view_module_version": "1.2.0",
      "_view_name": "LayoutView",
      "align_content": null,
      "align_items": null,
      "align_self": null,
      "border": null,
      "bottom": null,
      "display": null,
      "flex": null,
      "flex_flow": null,
      "grid_area": null,
      "grid_auto_columns": null,
      "grid_auto_flow": null,
      "grid_auto_rows": null,
      "grid_column": null,
      "grid_gap": null,
      "grid_row": null,
      "grid_template_areas": null,
      "grid_template_columns": null,
      "grid_template_rows": null,
      "height": null,
      "justify_content": null,
      "justify_items": null,
      "left": null,
      "margin": null,
      "max_height": null,
      "max_width": null,
      "min_height": null,
      "min_width": null,
      "object_fit": null,
      "object_position": null,
      "order": null,
      "overflow": null,
      "overflow_x": null,
      "overflow_y": null,
      "padding": null,
      "right": null,
      "top": null,
      "visibility": null,
      "width": null
     }
    },
    "3273fbf65557406788d19ee5e8acfdc5": {
     "model_module": "@jupyter-widgets/controls",
     "model_module_version": "1.5.0",
     "model_name": "HBoxModel",
     "state": {
      "_dom_classes": [],
      "_model_module": "@jupyter-widgets/controls",
      "_model_module_version": "1.5.0",
      "_model_name": "HBoxModel",
      "_view_count": null,
      "_view_module": "@jupyter-widgets/controls",
      "_view_module_version": "1.5.0",
      "_view_name": "HBoxView",
      "box_style": "",
      "children": [
       "IPY_MODEL_bdb730535e994270bc7110c236894e7e",
       "IPY_MODEL_ba551615092340d6b2b485db433dcbba",
       "IPY_MODEL_4d52dc6269904002b989e4184a107f97"
      ],
      "layout": "IPY_MODEL_c5ae681b73c54bd09c06a6cc28ca74b9"
     }
    },
    "4d52dc6269904002b989e4184a107f97": {
     "model_module": "@jupyter-widgets/controls",
     "model_module_version": "1.5.0",
     "model_name": "HTMLModel",
     "state": {
      "_dom_classes": [],
      "_model_module": "@jupyter-widgets/controls",
      "_model_module_version": "1.5.0",
      "_model_name": "HTMLModel",
      "_view_count": null,
      "_view_module": "@jupyter-widgets/controls",
      "_view_module_version": "1.5.0",
      "_view_name": "HTMLView",
      "description": "",
      "description_tooltip": null,
      "layout": "IPY_MODEL_c7ac266f83da4fd1b923725d46dfb861",
      "placeholder": "​",
      "style": "IPY_MODEL_5e8899e421eb4d16b72a6e350a551183",
      "value": " 55/55 [00:41&lt;00:00,  1.26it/s]"
     }
    },
    "5201c42e690f4f859f57bef413bfac56": {
     "model_module": "@jupyter-widgets/controls",
     "model_module_version": "1.5.0",
     "model_name": "DescriptionStyleModel",
     "state": {
      "_model_module": "@jupyter-widgets/controls",
      "_model_module_version": "1.5.0",
      "_model_name": "DescriptionStyleModel",
      "_view_count": null,
      "_view_module": "@jupyter-widgets/base",
      "_view_module_version": "1.2.0",
      "_view_name": "StyleView",
      "description_width": ""
     }
    },
    "5cd9b4922af54ec99f121b3cdb22545e": {
     "model_module": "@jupyter-widgets/base",
     "model_module_version": "1.2.0",
     "model_name": "LayoutModel",
     "state": {
      "_model_module": "@jupyter-widgets/base",
      "_model_module_version": "1.2.0",
      "_model_name": "LayoutModel",
      "_view_count": null,
      "_view_module": "@jupyter-widgets/base",
      "_view_module_version": "1.2.0",
      "_view_name": "LayoutView",
      "align_content": null,
      "align_items": null,
      "align_self": null,
      "border": null,
      "bottom": null,
      "display": null,
      "flex": null,
      "flex_flow": null,
      "grid_area": null,
      "grid_auto_columns": null,
      "grid_auto_flow": null,
      "grid_auto_rows": null,
      "grid_column": null,
      "grid_gap": null,
      "grid_row": null,
      "grid_template_areas": null,
      "grid_template_columns": null,
      "grid_template_rows": null,
      "height": null,
      "justify_content": null,
      "justify_items": null,
      "left": null,
      "margin": null,
      "max_height": null,
      "max_width": null,
      "min_height": null,
      "min_width": null,
      "object_fit": null,
      "object_position": null,
      "order": null,
      "overflow": null,
      "overflow_x": null,
      "overflow_y": null,
      "padding": null,
      "right": null,
      "top": null,
      "visibility": null,
      "width": null
     }
    },
    "5e8899e421eb4d16b72a6e350a551183": {
     "model_module": "@jupyter-widgets/controls",
     "model_module_version": "1.5.0",
     "model_name": "DescriptionStyleModel",
     "state": {
      "_model_module": "@jupyter-widgets/controls",
      "_model_module_version": "1.5.0",
      "_model_name": "DescriptionStyleModel",
      "_view_count": null,
      "_view_module": "@jupyter-widgets/base",
      "_view_module_version": "1.2.0",
      "_view_name": "StyleView",
      "description_width": ""
     }
    },
    "ba551615092340d6b2b485db433dcbba": {
     "model_module": "@jupyter-widgets/controls",
     "model_module_version": "1.5.0",
     "model_name": "FloatProgressModel",
     "state": {
      "_dom_classes": [],
      "_model_module": "@jupyter-widgets/controls",
      "_model_module_version": "1.5.0",
      "_model_name": "FloatProgressModel",
      "_view_count": null,
      "_view_module": "@jupyter-widgets/controls",
      "_view_module_version": "1.5.0",
      "_view_name": "ProgressView",
      "bar_style": "success",
      "description": "",
      "description_tooltip": null,
      "layout": "IPY_MODEL_193034b4d01a4fa8a2e2e765b9cf2742",
      "max": 55,
      "min": 0,
      "orientation": "horizontal",
      "style": "IPY_MODEL_cf1328f84cf74aef80fdaf72b5df41b6",
      "value": 55
     }
    },
    "bdb730535e994270bc7110c236894e7e": {
     "model_module": "@jupyter-widgets/controls",
     "model_module_version": "1.5.0",
     "model_name": "HTMLModel",
     "state": {
      "_dom_classes": [],
      "_model_module": "@jupyter-widgets/controls",
      "_model_module_version": "1.5.0",
      "_model_name": "HTMLModel",
      "_view_count": null,
      "_view_module": "@jupyter-widgets/controls",
      "_view_module_version": "1.5.0",
      "_view_name": "HTMLView",
      "description": "",
      "description_tooltip": null,
      "layout": "IPY_MODEL_5cd9b4922af54ec99f121b3cdb22545e",
      "placeholder": "​",
      "style": "IPY_MODEL_5201c42e690f4f859f57bef413bfac56",
      "value": "100%"
     }
    },
    "c5ae681b73c54bd09c06a6cc28ca74b9": {
     "model_module": "@jupyter-widgets/base",
     "model_module_version": "1.2.0",
     "model_name": "LayoutModel",
     "state": {
      "_model_module": "@jupyter-widgets/base",
      "_model_module_version": "1.2.0",
      "_model_name": "LayoutModel",
      "_view_count": null,
      "_view_module": "@jupyter-widgets/base",
      "_view_module_version": "1.2.0",
      "_view_name": "LayoutView",
      "align_content": null,
      "align_items": null,
      "align_self": null,
      "border": null,
      "bottom": null,
      "display": null,
      "flex": null,
      "flex_flow": null,
      "grid_area": null,
      "grid_auto_columns": null,
      "grid_auto_flow": null,
      "grid_auto_rows": null,
      "grid_column": null,
      "grid_gap": null,
      "grid_row": null,
      "grid_template_areas": null,
      "grid_template_columns": null,
      "grid_template_rows": null,
      "height": null,
      "justify_content": null,
      "justify_items": null,
      "left": null,
      "margin": null,
      "max_height": null,
      "max_width": null,
      "min_height": null,
      "min_width": null,
      "object_fit": null,
      "object_position": null,
      "order": null,
      "overflow": null,
      "overflow_x": null,
      "overflow_y": null,
      "padding": null,
      "right": null,
      "top": null,
      "visibility": null,
      "width": null
     }
    },
    "c7ac266f83da4fd1b923725d46dfb861": {
     "model_module": "@jupyter-widgets/base",
     "model_module_version": "1.2.0",
     "model_name": "LayoutModel",
     "state": {
      "_model_module": "@jupyter-widgets/base",
      "_model_module_version": "1.2.0",
      "_model_name": "LayoutModel",
      "_view_count": null,
      "_view_module": "@jupyter-widgets/base",
      "_view_module_version": "1.2.0",
      "_view_name": "LayoutView",
      "align_content": null,
      "align_items": null,
      "align_self": null,
      "border": null,
      "bottom": null,
      "display": null,
      "flex": null,
      "flex_flow": null,
      "grid_area": null,
      "grid_auto_columns": null,
      "grid_auto_flow": null,
      "grid_auto_rows": null,
      "grid_column": null,
      "grid_gap": null,
      "grid_row": null,
      "grid_template_areas": null,
      "grid_template_columns": null,
      "grid_template_rows": null,
      "height": null,
      "justify_content": null,
      "justify_items": null,
      "left": null,
      "margin": null,
      "max_height": null,
      "max_width": null,
      "min_height": null,
      "min_width": null,
      "object_fit": null,
      "object_position": null,
      "order": null,
      "overflow": null,
      "overflow_x": null,
      "overflow_y": null,
      "padding": null,
      "right": null,
      "top": null,
      "visibility": null,
      "width": null
     }
    },
    "cf1328f84cf74aef80fdaf72b5df41b6": {
     "model_module": "@jupyter-widgets/controls",
     "model_module_version": "1.5.0",
     "model_name": "ProgressStyleModel",
     "state": {
      "_model_module": "@jupyter-widgets/controls",
      "_model_module_version": "1.5.0",
      "_model_name": "ProgressStyleModel",
      "_view_count": null,
      "_view_module": "@jupyter-widgets/base",
      "_view_module_version": "1.2.0",
      "_view_name": "StyleView",
      "bar_color": null,
      "description_width": ""
     }
    }
   }
  }
 },
 "nbformat": 4,
 "nbformat_minor": 1
}
