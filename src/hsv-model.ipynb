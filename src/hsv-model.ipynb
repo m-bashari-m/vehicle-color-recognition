{
  "nbformat": 4,
  "nbformat_minor": 0,
  "metadata": {
    "colab": {
      "name": "Untitled1.ipynb",
      "provenance": [],
      "authorship_tag": "ABX9TyNyInv/vUXxoeSV7nsdApRC",
      "include_colab_link": true
    },
    "kernelspec": {
      "name": "python3",
      "display_name": "Python 3"
    },
    "language_info": {
      "name": "python"
    },
    "accelerator": "GPU",
    "widgets": {
      "application/vnd.jupyter.widget-state+json": {
        "9c2ced54d1504db1b7a3ba70037bdb0b": {
          "model_module": "@jupyter-widgets/controls",
          "model_name": "HBoxModel",
          "model_module_version": "1.5.0",
          "state": {
            "_dom_classes": [],
            "_model_module": "@jupyter-widgets/controls",
            "_model_module_version": "1.5.0",
            "_model_name": "HBoxModel",
            "_view_count": null,
            "_view_module": "@jupyter-widgets/controls",
            "_view_module_version": "1.5.0",
            "_view_name": "HBoxView",
            "box_style": "",
            "children": [
              "IPY_MODEL_15b3173bb7604438a26f33d0264cc4e7",
              "IPY_MODEL_72fde8be95274fafa8c98d9d564da390",
              "IPY_MODEL_a0f5ea9010f5442ebc62d48a877a2be4"
            ],
            "layout": "IPY_MODEL_7d2a0221873e4ebbab4cbf15bc7873ce"
          }
        },
        "15b3173bb7604438a26f33d0264cc4e7": {
          "model_module": "@jupyter-widgets/controls",
          "model_name": "HTMLModel",
          "model_module_version": "1.5.0",
          "state": {
            "_dom_classes": [],
            "_model_module": "@jupyter-widgets/controls",
            "_model_module_version": "1.5.0",
            "_model_name": "HTMLModel",
            "_view_count": null,
            "_view_module": "@jupyter-widgets/controls",
            "_view_module_version": "1.5.0",
            "_view_name": "HTMLView",
            "description": "",
            "description_tooltip": null,
            "layout": "IPY_MODEL_0de589443543462896c89f56df108152",
            "placeholder": "​",
            "style": "IPY_MODEL_b7a1ee0b5ade4966ba2a48b789c91bd5",
            "value": "100%"
          }
        },
        "72fde8be95274fafa8c98d9d564da390": {
          "model_module": "@jupyter-widgets/controls",
          "model_name": "FloatProgressModel",
          "model_module_version": "1.5.0",
          "state": {
            "_dom_classes": [],
            "_model_module": "@jupyter-widgets/controls",
            "_model_module_version": "1.5.0",
            "_model_name": "FloatProgressModel",
            "_view_count": null,
            "_view_module": "@jupyter-widgets/controls",
            "_view_module_version": "1.5.0",
            "_view_name": "ProgressView",
            "bar_style": "success",
            "description": "",
            "description_tooltip": null,
            "layout": "IPY_MODEL_3d12850664a84af995be092291cfc04b",
            "max": 55,
            "min": 0,
            "orientation": "horizontal",
            "style": "IPY_MODEL_d590f233157548f48d1931f2212f7120",
            "value": 55
          }
        },
        "a0f5ea9010f5442ebc62d48a877a2be4": {
          "model_module": "@jupyter-widgets/controls",
          "model_name": "HTMLModel",
          "model_module_version": "1.5.0",
          "state": {
            "_dom_classes": [],
            "_model_module": "@jupyter-widgets/controls",
            "_model_module_version": "1.5.0",
            "_model_name": "HTMLModel",
            "_view_count": null,
            "_view_module": "@jupyter-widgets/controls",
            "_view_module_version": "1.5.0",
            "_view_name": "HTMLView",
            "description": "",
            "description_tooltip": null,
            "layout": "IPY_MODEL_fc89734108e84bb9a99c7a0c9154f33f",
            "placeholder": "​",
            "style": "IPY_MODEL_68ff5043185d4fe09511cb74bb101c61",
            "value": " 55/55 [00:41&lt;00:00,  1.95it/s]"
          }
        },
        "7d2a0221873e4ebbab4cbf15bc7873ce": {
          "model_module": "@jupyter-widgets/base",
          "model_name": "LayoutModel",
          "model_module_version": "1.2.0",
          "state": {
            "_model_module": "@jupyter-widgets/base",
            "_model_module_version": "1.2.0",
            "_model_name": "LayoutModel",
            "_view_count": null,
            "_view_module": "@jupyter-widgets/base",
            "_view_module_version": "1.2.0",
            "_view_name": "LayoutView",
            "align_content": null,
            "align_items": null,
            "align_self": null,
            "border": null,
            "bottom": null,
            "display": null,
            "flex": null,
            "flex_flow": null,
            "grid_area": null,
            "grid_auto_columns": null,
            "grid_auto_flow": null,
            "grid_auto_rows": null,
            "grid_column": null,
            "grid_gap": null,
            "grid_row": null,
            "grid_template_areas": null,
            "grid_template_columns": null,
            "grid_template_rows": null,
            "height": null,
            "justify_content": null,
            "justify_items": null,
            "left": null,
            "margin": null,
            "max_height": null,
            "max_width": null,
            "min_height": null,
            "min_width": null,
            "object_fit": null,
            "object_position": null,
            "order": null,
            "overflow": null,
            "overflow_x": null,
            "overflow_y": null,
            "padding": null,
            "right": null,
            "top": null,
            "visibility": null,
            "width": null
          }
        },
        "0de589443543462896c89f56df108152": {
          "model_module": "@jupyter-widgets/base",
          "model_name": "LayoutModel",
          "model_module_version": "1.2.0",
          "state": {
            "_model_module": "@jupyter-widgets/base",
            "_model_module_version": "1.2.0",
            "_model_name": "LayoutModel",
            "_view_count": null,
            "_view_module": "@jupyter-widgets/base",
            "_view_module_version": "1.2.0",
            "_view_name": "LayoutView",
            "align_content": null,
            "align_items": null,
            "align_self": null,
            "border": null,
            "bottom": null,
            "display": null,
            "flex": null,
            "flex_flow": null,
            "grid_area": null,
            "grid_auto_columns": null,
            "grid_auto_flow": null,
            "grid_auto_rows": null,
            "grid_column": null,
            "grid_gap": null,
            "grid_row": null,
            "grid_template_areas": null,
            "grid_template_columns": null,
            "grid_template_rows": null,
            "height": null,
            "justify_content": null,
            "justify_items": null,
            "left": null,
            "margin": null,
            "max_height": null,
            "max_width": null,
            "min_height": null,
            "min_width": null,
            "object_fit": null,
            "object_position": null,
            "order": null,
            "overflow": null,
            "overflow_x": null,
            "overflow_y": null,
            "padding": null,
            "right": null,
            "top": null,
            "visibility": null,
            "width": null
          }
        },
        "b7a1ee0b5ade4966ba2a48b789c91bd5": {
          "model_module": "@jupyter-widgets/controls",
          "model_name": "DescriptionStyleModel",
          "model_module_version": "1.5.0",
          "state": {
            "_model_module": "@jupyter-widgets/controls",
            "_model_module_version": "1.5.0",
            "_model_name": "DescriptionStyleModel",
            "_view_count": null,
            "_view_module": "@jupyter-widgets/base",
            "_view_module_version": "1.2.0",
            "_view_name": "StyleView",
            "description_width": ""
          }
        },
        "3d12850664a84af995be092291cfc04b": {
          "model_module": "@jupyter-widgets/base",
          "model_name": "LayoutModel",
          "model_module_version": "1.2.0",
          "state": {
            "_model_module": "@jupyter-widgets/base",
            "_model_module_version": "1.2.0",
            "_model_name": "LayoutModel",
            "_view_count": null,
            "_view_module": "@jupyter-widgets/base",
            "_view_module_version": "1.2.0",
            "_view_name": "LayoutView",
            "align_content": null,
            "align_items": null,
            "align_self": null,
            "border": null,
            "bottom": null,
            "display": null,
            "flex": null,
            "flex_flow": null,
            "grid_area": null,
            "grid_auto_columns": null,
            "grid_auto_flow": null,
            "grid_auto_rows": null,
            "grid_column": null,
            "grid_gap": null,
            "grid_row": null,
            "grid_template_areas": null,
            "grid_template_columns": null,
            "grid_template_rows": null,
            "height": null,
            "justify_content": null,
            "justify_items": null,
            "left": null,
            "margin": null,
            "max_height": null,
            "max_width": null,
            "min_height": null,
            "min_width": null,
            "object_fit": null,
            "object_position": null,
            "order": null,
            "overflow": null,
            "overflow_x": null,
            "overflow_y": null,
            "padding": null,
            "right": null,
            "top": null,
            "visibility": null,
            "width": null
          }
        },
        "d590f233157548f48d1931f2212f7120": {
          "model_module": "@jupyter-widgets/controls",
          "model_name": "ProgressStyleModel",
          "model_module_version": "1.5.0",
          "state": {
            "_model_module": "@jupyter-widgets/controls",
            "_model_module_version": "1.5.0",
            "_model_name": "ProgressStyleModel",
            "_view_count": null,
            "_view_module": "@jupyter-widgets/base",
            "_view_module_version": "1.2.0",
            "_view_name": "StyleView",
            "bar_color": null,
            "description_width": ""
          }
        },
        "fc89734108e84bb9a99c7a0c9154f33f": {
          "model_module": "@jupyter-widgets/base",
          "model_name": "LayoutModel",
          "model_module_version": "1.2.0",
          "state": {
            "_model_module": "@jupyter-widgets/base",
            "_model_module_version": "1.2.0",
            "_model_name": "LayoutModel",
            "_view_count": null,
            "_view_module": "@jupyter-widgets/base",
            "_view_module_version": "1.2.0",
            "_view_name": "LayoutView",
            "align_content": null,
            "align_items": null,
            "align_self": null,
            "border": null,
            "bottom": null,
            "display": null,
            "flex": null,
            "flex_flow": null,
            "grid_area": null,
            "grid_auto_columns": null,
            "grid_auto_flow": null,
            "grid_auto_rows": null,
            "grid_column": null,
            "grid_gap": null,
            "grid_row": null,
            "grid_template_areas": null,
            "grid_template_columns": null,
            "grid_template_rows": null,
            "height": null,
            "justify_content": null,
            "justify_items": null,
            "left": null,
            "margin": null,
            "max_height": null,
            "max_width": null,
            "min_height": null,
            "min_width": null,
            "object_fit": null,
            "object_position": null,
            "order": null,
            "overflow": null,
            "overflow_x": null,
            "overflow_y": null,
            "padding": null,
            "right": null,
            "top": null,
            "visibility": null,
            "width": null
          }
        },
        "68ff5043185d4fe09511cb74bb101c61": {
          "model_module": "@jupyter-widgets/controls",
          "model_name": "DescriptionStyleModel",
          "model_module_version": "1.5.0",
          "state": {
            "_model_module": "@jupyter-widgets/controls",
            "_model_module_version": "1.5.0",
            "_model_name": "DescriptionStyleModel",
            "_view_count": null,
            "_view_module": "@jupyter-widgets/base",
            "_view_module_version": "1.2.0",
            "_view_name": "StyleView",
            "description_width": ""
          }
        },
        "e17de1160f53470fba65a7d01acbc579": {
          "model_module": "@jupyter-widgets/controls",
          "model_name": "HBoxModel",
          "model_module_version": "1.5.0",
          "state": {
            "_dom_classes": [],
            "_model_module": "@jupyter-widgets/controls",
            "_model_module_version": "1.5.0",
            "_model_name": "HBoxModel",
            "_view_count": null,
            "_view_module": "@jupyter-widgets/controls",
            "_view_module_version": "1.5.0",
            "_view_name": "HBoxView",
            "box_style": "",
            "children": [
              "IPY_MODEL_e7930658d9f74293b1f1c1f4671e404b",
              "IPY_MODEL_82a5527d8fa34f42a85225ec15a55318",
              "IPY_MODEL_1178035a87cf4034a5ff40afdb5b9d5c"
            ],
            "layout": "IPY_MODEL_72c86298d65d490a90b4755057aa31a3"
          }
        },
        "e7930658d9f74293b1f1c1f4671e404b": {
          "model_module": "@jupyter-widgets/controls",
          "model_name": "HTMLModel",
          "model_module_version": "1.5.0",
          "state": {
            "_dom_classes": [],
            "_model_module": "@jupyter-widgets/controls",
            "_model_module_version": "1.5.0",
            "_model_name": "HTMLModel",
            "_view_count": null,
            "_view_module": "@jupyter-widgets/controls",
            "_view_module_version": "1.5.0",
            "_view_name": "HTMLView",
            "description": "",
            "description_tooltip": null,
            "layout": "IPY_MODEL_fc379c3529b240b09408bb6883357b0d",
            "placeholder": "​",
            "style": "IPY_MODEL_e197e64d5d454f1e8db96ece4a2cdbb8",
            "value": "100%"
          }
        },
        "82a5527d8fa34f42a85225ec15a55318": {
          "model_module": "@jupyter-widgets/controls",
          "model_name": "FloatProgressModel",
          "model_module_version": "1.5.0",
          "state": {
            "_dom_classes": [],
            "_model_module": "@jupyter-widgets/controls",
            "_model_module_version": "1.5.0",
            "_model_name": "FloatProgressModel",
            "_view_count": null,
            "_view_module": "@jupyter-widgets/controls",
            "_view_module_version": "1.5.0",
            "_view_name": "ProgressView",
            "bar_style": "success",
            "description": "",
            "description_tooltip": null,
            "layout": "IPY_MODEL_6d583eb066bb4ef5b52f8360c07c1d7a",
            "max": 55,
            "min": 0,
            "orientation": "horizontal",
            "style": "IPY_MODEL_de1bbd04ff704c67bb5c71d492941b2e",
            "value": 55
          }
        },
        "1178035a87cf4034a5ff40afdb5b9d5c": {
          "model_module": "@jupyter-widgets/controls",
          "model_name": "HTMLModel",
          "model_module_version": "1.5.0",
          "state": {
            "_dom_classes": [],
            "_model_module": "@jupyter-widgets/controls",
            "_model_module_version": "1.5.0",
            "_model_name": "HTMLModel",
            "_view_count": null,
            "_view_module": "@jupyter-widgets/controls",
            "_view_module_version": "1.5.0",
            "_view_name": "HTMLView",
            "description": "",
            "description_tooltip": null,
            "layout": "IPY_MODEL_164e28e0659643e99e9834e0b10c6dc8",
            "placeholder": "​",
            "style": "IPY_MODEL_4f5a2ee5f63f41a9b6479bf4a8e42578",
            "value": " 55/55 [04:21&lt;00:00,  1.23s/it]"
          }
        },
        "72c86298d65d490a90b4755057aa31a3": {
          "model_module": "@jupyter-widgets/base",
          "model_name": "LayoutModel",
          "model_module_version": "1.2.0",
          "state": {
            "_model_module": "@jupyter-widgets/base",
            "_model_module_version": "1.2.0",
            "_model_name": "LayoutModel",
            "_view_count": null,
            "_view_module": "@jupyter-widgets/base",
            "_view_module_version": "1.2.0",
            "_view_name": "LayoutView",
            "align_content": null,
            "align_items": null,
            "align_self": null,
            "border": null,
            "bottom": null,
            "display": null,
            "flex": null,
            "flex_flow": null,
            "grid_area": null,
            "grid_auto_columns": null,
            "grid_auto_flow": null,
            "grid_auto_rows": null,
            "grid_column": null,
            "grid_gap": null,
            "grid_row": null,
            "grid_template_areas": null,
            "grid_template_columns": null,
            "grid_template_rows": null,
            "height": null,
            "justify_content": null,
            "justify_items": null,
            "left": null,
            "margin": null,
            "max_height": null,
            "max_width": null,
            "min_height": null,
            "min_width": null,
            "object_fit": null,
            "object_position": null,
            "order": null,
            "overflow": null,
            "overflow_x": null,
            "overflow_y": null,
            "padding": null,
            "right": null,
            "top": null,
            "visibility": null,
            "width": null
          }
        },
        "fc379c3529b240b09408bb6883357b0d": {
          "model_module": "@jupyter-widgets/base",
          "model_name": "LayoutModel",
          "model_module_version": "1.2.0",
          "state": {
            "_model_module": "@jupyter-widgets/base",
            "_model_module_version": "1.2.0",
            "_model_name": "LayoutModel",
            "_view_count": null,
            "_view_module": "@jupyter-widgets/base",
            "_view_module_version": "1.2.0",
            "_view_name": "LayoutView",
            "align_content": null,
            "align_items": null,
            "align_self": null,
            "border": null,
            "bottom": null,
            "display": null,
            "flex": null,
            "flex_flow": null,
            "grid_area": null,
            "grid_auto_columns": null,
            "grid_auto_flow": null,
            "grid_auto_rows": null,
            "grid_column": null,
            "grid_gap": null,
            "grid_row": null,
            "grid_template_areas": null,
            "grid_template_columns": null,
            "grid_template_rows": null,
            "height": null,
            "justify_content": null,
            "justify_items": null,
            "left": null,
            "margin": null,
            "max_height": null,
            "max_width": null,
            "min_height": null,
            "min_width": null,
            "object_fit": null,
            "object_position": null,
            "order": null,
            "overflow": null,
            "overflow_x": null,
            "overflow_y": null,
            "padding": null,
            "right": null,
            "top": null,
            "visibility": null,
            "width": null
          }
        },
        "e197e64d5d454f1e8db96ece4a2cdbb8": {
          "model_module": "@jupyter-widgets/controls",
          "model_name": "DescriptionStyleModel",
          "model_module_version": "1.5.0",
          "state": {
            "_model_module": "@jupyter-widgets/controls",
            "_model_module_version": "1.5.0",
            "_model_name": "DescriptionStyleModel",
            "_view_count": null,
            "_view_module": "@jupyter-widgets/base",
            "_view_module_version": "1.2.0",
            "_view_name": "StyleView",
            "description_width": ""
          }
        },
        "6d583eb066bb4ef5b52f8360c07c1d7a": {
          "model_module": "@jupyter-widgets/base",
          "model_name": "LayoutModel",
          "model_module_version": "1.2.0",
          "state": {
            "_model_module": "@jupyter-widgets/base",
            "_model_module_version": "1.2.0",
            "_model_name": "LayoutModel",
            "_view_count": null,
            "_view_module": "@jupyter-widgets/base",
            "_view_module_version": "1.2.0",
            "_view_name": "LayoutView",
            "align_content": null,
            "align_items": null,
            "align_self": null,
            "border": null,
            "bottom": null,
            "display": null,
            "flex": null,
            "flex_flow": null,
            "grid_area": null,
            "grid_auto_columns": null,
            "grid_auto_flow": null,
            "grid_auto_rows": null,
            "grid_column": null,
            "grid_gap": null,
            "grid_row": null,
            "grid_template_areas": null,
            "grid_template_columns": null,
            "grid_template_rows": null,
            "height": null,
            "justify_content": null,
            "justify_items": null,
            "left": null,
            "margin": null,
            "max_height": null,
            "max_width": null,
            "min_height": null,
            "min_width": null,
            "object_fit": null,
            "object_position": null,
            "order": null,
            "overflow": null,
            "overflow_x": null,
            "overflow_y": null,
            "padding": null,
            "right": null,
            "top": null,
            "visibility": null,
            "width": null
          }
        },
        "de1bbd04ff704c67bb5c71d492941b2e": {
          "model_module": "@jupyter-widgets/controls",
          "model_name": "ProgressStyleModel",
          "model_module_version": "1.5.0",
          "state": {
            "_model_module": "@jupyter-widgets/controls",
            "_model_module_version": "1.5.0",
            "_model_name": "ProgressStyleModel",
            "_view_count": null,
            "_view_module": "@jupyter-widgets/base",
            "_view_module_version": "1.2.0",
            "_view_name": "StyleView",
            "bar_color": null,
            "description_width": ""
          }
        },
        "164e28e0659643e99e9834e0b10c6dc8": {
          "model_module": "@jupyter-widgets/base",
          "model_name": "LayoutModel",
          "model_module_version": "1.2.0",
          "state": {
            "_model_module": "@jupyter-widgets/base",
            "_model_module_version": "1.2.0",
            "_model_name": "LayoutModel",
            "_view_count": null,
            "_view_module": "@jupyter-widgets/base",
            "_view_module_version": "1.2.0",
            "_view_name": "LayoutView",
            "align_content": null,
            "align_items": null,
            "align_self": null,
            "border": null,
            "bottom": null,
            "display": null,
            "flex": null,
            "flex_flow": null,
            "grid_area": null,
            "grid_auto_columns": null,
            "grid_auto_flow": null,
            "grid_auto_rows": null,
            "grid_column": null,
            "grid_gap": null,
            "grid_row": null,
            "grid_template_areas": null,
            "grid_template_columns": null,
            "grid_template_rows": null,
            "height": null,
            "justify_content": null,
            "justify_items": null,
            "left": null,
            "margin": null,
            "max_height": null,
            "max_width": null,
            "min_height": null,
            "min_width": null,
            "object_fit": null,
            "object_position": null,
            "order": null,
            "overflow": null,
            "overflow_x": null,
            "overflow_y": null,
            "padding": null,
            "right": null,
            "top": null,
            "visibility": null,
            "width": null
          }
        },
        "4f5a2ee5f63f41a9b6479bf4a8e42578": {
          "model_module": "@jupyter-widgets/controls",
          "model_name": "DescriptionStyleModel",
          "model_module_version": "1.5.0",
          "state": {
            "_model_module": "@jupyter-widgets/controls",
            "_model_module_version": "1.5.0",
            "_model_name": "DescriptionStyleModel",
            "_view_count": null,
            "_view_module": "@jupyter-widgets/base",
            "_view_module_version": "1.2.0",
            "_view_name": "StyleView",
            "description_width": ""
          }
        }
      }
    }
  },
  "cells": [
    {
      "cell_type": "markdown",
      "metadata": {
        "id": "view-in-github",
        "colab_type": "text"
      },
      "source": [
        "<a href=\"https://colab.research.google.com/github/m-bashari-m/vehicle-color-recognition/blob/main/src/hsv-model.ipynb\" target=\"_parent\"><img src=\"https://colab.research.google.com/assets/colab-badge.svg\" alt=\"Open In Colab\"/></a>"
      ]
    },
    {
      "cell_type": "code",
      "execution_count": 1,
      "metadata": {
        "colab": {
          "base_uri": "https://localhost:8080/"
        },
        "id": "lbfRhziV_SuY",
        "outputId": "2f457a4b-6e41-444a-e43b-5d60c3e6dac0"
      },
      "outputs": [
        {
          "output_type": "stream",
          "name": "stdout",
          "text": [
            "--2022-06-05 17:51:36--  https://raw.githubusercontent.com/m-bashari-m/vehicle-color-recognition/main/src/utils.py\n",
            "Resolving raw.githubusercontent.com (raw.githubusercontent.com)... 185.199.110.133, 185.199.111.133, 185.199.109.133, ...\n",
            "Connecting to raw.githubusercontent.com (raw.githubusercontent.com)|185.199.110.133|:443... connected.\n",
            "HTTP request sent, awaiting response... 200 OK\n",
            "Length: 9888 (9.7K) [text/plain]\n",
            "Saving to: ‘utils.py’\n",
            "\n",
            "\rutils.py              0%[                    ]       0  --.-KB/s               \rutils.py            100%[===================>]   9.66K  --.-KB/s    in 0s      \n",
            "\n",
            "2022-06-05 17:51:36 (84.6 MB/s) - ‘utils.py’ saved [9888/9888]\n",
            "\n"
          ]
        }
      ],
      "source": [
        "!wget https://raw.githubusercontent.com/m-bashari-m/vehicle-color-recognition/main/src/utils.py"
      ]
    },
    {
      "cell_type": "code",
      "source": [
        "from google.colab import drive\n",
        "drive.mount('./drive')"
      ],
      "metadata": {
        "colab": {
          "base_uri": "https://localhost:8080/"
        },
        "id": "dbaZViRwAPSA",
        "outputId": "69e3cd97-7c2c-4752-c0c9-54b32b3a693b"
      },
      "execution_count": 1,
      "outputs": [
        {
          "output_type": "stream",
          "name": "stdout",
          "text": [
            "Drive already mounted at ./drive; to attempt to forcibly remount, call drive.mount(\"./drive\", force_remount=True).\n"
          ]
        }
      ]
    },
    {
      "cell_type": "code",
      "source": [
        "import pandas as pd\n",
        "import numpy as np\n",
        "import os\n",
        "\n",
        "import tensorflow as tf\n",
        "from tensorflow import keras\n",
        "import tensorflow_hub as hub\n",
        "\n",
        "\n",
        "from utils import ModelCreator, get_train_val_ds, ErrorAnalyzer, get_class_weight"
      ],
      "metadata": {
        "id": "rc7tl4w2AP9w"
      },
      "execution_count": 3,
      "outputs": []
    },
    {
      "cell_type": "code",
      "source": [
        "BATCH_SIZE = 32\n",
        "IMG_SIZE = (256, 256)\n",
        "AUTOTUNE = tf.data.AUTOTUNE\n",
        "N_CLASSES = 16\n",
        "HUB_URL = 'https://tfhub.dev/google/bit/m-r50x1/1'"
      ],
      "metadata": {
        "id": "srFlURD4AQKI"
      },
      "execution_count": 4,
      "outputs": []
    },
    {
      "cell_type": "code",
      "source": [
        "dataset_dir = os.path.join('drive', 'MyDrive', 'cars')\n",
        "train_dir = os.path.join(dataset_dir, 'train')\n",
        "val_dir = os.path.join(dataset_dir, 'val')"
      ],
      "metadata": {
        "id": "Loa16DctAQVZ"
      },
      "execution_count": 5,
      "outputs": []
    },
    {
      "cell_type": "code",
      "source": [
        "train_ds, val_ds = get_train_val_ds(train_dir, val_dir, batch_size=BATCH_SIZE, img_size=IMG_SIZE)"
      ],
      "metadata": {
        "colab": {
          "base_uri": "https://localhost:8080/"
        },
        "id": "eP5AHSPlAQiY",
        "outputId": "73f8dbbf-1876-4013-c576-0fe2124a58dd"
      },
      "execution_count": 6,
      "outputs": [
        {
          "output_type": "stream",
          "name": "stdout",
          "text": [
            "Found 16580 files belonging to 16 classes.\n",
            "Found 3510 files belonging to 16 classes.\n"
          ]
        }
      ]
    },
    {
      "cell_type": "code",
      "source": [
        "classes, class_weight = get_class_weight()"
      ],
      "metadata": {
        "id": "3_tfsEoWAQvo"
      },
      "execution_count": 7,
      "outputs": []
    },
    {
      "cell_type": "code",
      "source": [
        "train_ds = (\n",
        "    train_ds.\n",
        "    map(lambda img, lbl: (img/255., lbl), num_parallel_calls=AUTOTUNE).\n",
        "    map(lambda img, lbl: (tf.image.rgb_to_hsv(img), lbl), num_parallel_calls=AUTOTUNE).\n",
        "    prefetch(AUTOTUNE))\n",
        "\n",
        "val_ds = (\n",
        "    val_ds.\n",
        "    map(lambda img, lbl: (img/255., lbl), num_parallel_calls=AUTOTUNE).\n",
        "    map(lambda img, lbl: (tf.image.rgb_to_hsv(img), lbl), num_parallel_calls=AUTOTUNE).\n",
        "    prefetch(AUTOTUNE))"
      ],
      "metadata": {
        "id": "mNVQnvhiAhho"
      },
      "execution_count": 8,
      "outputs": []
    },
    {
      "cell_type": "code",
      "source": [
        "hsv_creator = ModelCreator(HUB_URL, 'HSV-model')\n",
        "hsv_model = hsv_creator.make_model(img_size=IMG_SIZE)"
      ],
      "metadata": {
        "id": "9JsdrSl_AuRh",
        "outputId": "873372f3-06c0-4a74-e5fe-c9a241598c93",
        "colab": {
          "base_uri": "https://localhost:8080/"
        }
      },
      "execution_count": 9,
      "outputs": [
        {
          "output_type": "stream",
          "name": "stdout",
          "text": [
            "Model: \"HSV-model\"\n",
            "_________________________________________________________________\n",
            " Layer (type)                Output Shape              Param #   \n",
            "=================================================================\n",
            " keras_layer (KerasLayer)    (None, 2048)              23500352  \n",
            "                                                                 \n",
            " dense (Dense)               (None, 600)               1229400   \n",
            "                                                                 \n",
            " dropout (Dropout)           (None, 600)               0         \n",
            "                                                                 \n",
            " dense_1 (Dense)             (None, 16)                9616      \n",
            "                                                                 \n",
            "=================================================================\n",
            "Total params: 24,739,368\n",
            "Trainable params: 1,239,016\n",
            "Non-trainable params: 23,500,352\n",
            "_________________________________________________________________\n"
          ]
        }
      ]
    },
    {
      "cell_type": "code",
      "source": [
        "callbacks = hsv_creator.get_callbacks()"
      ],
      "metadata": {
        "id": "brgc8ZQPpCdQ"
      },
      "execution_count": 10,
      "outputs": []
    },
    {
      "cell_type": "markdown",
      "source": [
        "# **First** day of training"
      ],
      "metadata": {
        "id": "Ym83QenlAIBY"
      }
    },
    {
      "cell_type": "code",
      "source": [
        "history = hsv_model.fit(train_ds,\n",
        "                        callbacks=callbacks,\n",
        "                        epochs=25,\n",
        "                        class_weight=class_weight)"
      ],
      "metadata": {
        "colab": {
          "base_uri": "https://localhost:8080/"
        },
        "id": "gGBleAoQA57o",
        "outputId": "13a73115-5719-4f95-d372-06a837a1075d"
      },
      "execution_count": null,
      "outputs": [
        {
          "output_type": "stream",
          "name": "stdout",
          "text": [
            "Epoch 1/25\n",
            "519/519 [==============================] - 1562s 3s/step - loss: 1538.1572 - auc: 0.3025 - accuracy: 0.4746\n",
            "Epoch 2/25\n",
            "519/519 [==============================] - 143s 273ms/step - loss: 1306.0544 - auc: 0.3384 - accuracy: 0.5170\n",
            "Epoch 3/25\n",
            "519/519 [==============================] - 146s 279ms/step - loss: 1216.5344 - auc: 0.3713 - accuracy: 0.5489\n",
            "Epoch 4/25\n",
            "519/519 [==============================] - 149s 284ms/step - loss: 1094.6654 - auc: 0.4018 - accuracy: 0.5767\n",
            "Epoch 5/25\n",
            "519/519 [==============================] - 150s 287ms/step - loss: 829.4998 - auc: 0.4306 - accuracy: 0.6024\n",
            "Epoch 6/25\n",
            "519/519 [==============================] - 148s 282ms/step - loss: 799.2505 - auc: 0.4393 - accuracy: 0.6093\n",
            "Epoch 7/25\n",
            "519/519 [==============================] - 144s 276ms/step - loss: 616.3850 - auc: 0.4632 - accuracy: 0.6290\n",
            "Epoch 8/25\n",
            "519/519 [==============================] - 147s 281ms/step - loss: 520.2856 - auc: 0.4830 - accuracy: 0.6412\n",
            "Epoch 9/25\n",
            "519/519 [==============================] - 148s 283ms/step - loss: 509.1712 - auc: 0.4820 - accuracy: 0.6416\n",
            "Epoch 10/25\n",
            "519/519 [==============================] - 149s 286ms/step - loss: 391.6212 - auc: 0.5128 - accuracy: 0.6637\n",
            "Epoch 11/25\n",
            "519/519 [==============================] - 146s 278ms/step - loss: 358.0872 - auc: 0.5217 - accuracy: 0.6698\n",
            "Epoch 12/25\n",
            "519/519 [==============================] - 147s 281ms/step - loss: 289.9128 - auc: 0.5389 - accuracy: 0.6806\n",
            "Epoch 13/25\n",
            "519/519 [==============================] - 145s 276ms/step - loss: 247.8558 - auc: 0.5579 - accuracy: 0.6920\n",
            "Epoch 14/25\n",
            "519/519 [==============================] - 144s 275ms/step - loss: 248.5002 - auc: 0.5625 - accuracy: 0.6970\n",
            "Epoch 15/25\n",
            "519/519 [==============================] - 150s 286ms/step - loss: 192.2646 - auc: 0.5791 - accuracy: 0.7045\n",
            "Epoch 16/25\n",
            "519/519 [==============================] - 150s 287ms/step - loss: 163.7457 - auc: 0.5957 - accuracy: 0.7134\n",
            "Epoch 17/25\n",
            "519/519 [==============================] - 149s 285ms/step - loss: 148.1187 - auc: 0.6090 - accuracy: 0.7231\n",
            "Epoch 18/25\n",
            " 33/519 [>.............................] - ETA: 2:12 - loss: 178.0197 - auc: 0.5570 - accuracy: 0.6799"
          ]
        }
      ]
    },
    {
      "cell_type": "code",
      "source": [
        "hsv_model = tf.keras.models.load_model('./logs/checkpoints/HSV-model-17.h5',\n",
        "                                       custom_objects={'KerasLayer':hub.KerasLayer})"
      ],
      "metadata": {
        "id": "HLeo8xaLYCQF"
      },
      "execution_count": 10,
      "outputs": []
    },
    {
      "cell_type": "code",
      "source": [
        "history = hsv_model.fit(train_ds,\n",
        "                          callbacks=callbacks,\n",
        "                          epochs=25,\n",
        "                          class_weight=class_weight,\n",
        "                          initial_epoch=17)"
      ],
      "metadata": {
        "id": "lajqme_zYfxd",
        "outputId": "d0a5c3be-9538-4e50-ee68-65ae4fa324a2",
        "colab": {
          "base_uri": "https://localhost:8080/"
        }
      },
      "execution_count": 11,
      "outputs": [
        {
          "output_type": "stream",
          "name": "stdout",
          "text": [
            "Epoch 18/25\n",
            "519/519 [==============================] - 160s 271ms/step - loss: 129.2828 - auc: 0.6210 - accuracy: 0.7308\n",
            "Epoch 19/25\n",
            "519/519 [==============================] - 146s 279ms/step - loss: 114.9960 - auc: 0.6345 - accuracy: 0.7361\n",
            "Epoch 20/25\n",
            "519/519 [==============================] - 147s 281ms/step - loss: 92.8319 - auc: 0.6556 - accuracy: 0.7474\n",
            "Epoch 21/25\n",
            "519/519 [==============================] - 150s 286ms/step - loss: 78.0780 - auc: 0.6712 - accuracy: 0.7523\n",
            "Epoch 22/25\n",
            "519/519 [==============================] - 150s 287ms/step - loss: 68.2819 - auc: 0.6809 - accuracy: 0.7618\n",
            "Epoch 23/25\n",
            "519/519 [==============================] - 150s 287ms/step - loss: 61.3573 - auc: 0.7008 - accuracy: 0.7634\n",
            "Epoch 24/25\n",
            "519/519 [==============================] - 150s 287ms/step - loss: 56.4362 - auc: 0.7054 - accuracy: 0.7662\n",
            "Epoch 25/25\n",
            "519/519 [==============================] - 149s 285ms/step - loss: 54.7545 - auc: 0.7135 - accuracy: 0.7672\n"
          ]
        }
      ]
    },
    {
      "cell_type": "code",
      "source": [
        "hsv_model.save('./drive/MyDrive/checkpoints/hsv-model-25.h5')"
      ],
      "metadata": {
        "id": "LFGG08T94iFO"
      },
      "execution_count": 12,
      "outputs": []
    },
    {
      "cell_type": "code",
      "source": [
        "hsv_model = tf.keras.models.load_model('./drive/MyDrive/checkpoints/hsv-model-25.h5',\n",
        "                                       custom_objects={'KerasLayer':hub.KerasLayer})"
      ],
      "metadata": {
        "id": "rnru-jl9f_kU"
      },
      "execution_count": 11,
      "outputs": []
    },
    {
      "cell_type": "code",
      "source": [
        "analyzer = ErrorAnalyzer(model=hsv_model,\n",
        "                         ds=val_ds,\n",
        "                         classes=classes,\n",
        "                         model_name='HSV-model-1')"
      ],
      "metadata": {
        "id": "OpsW3Xo15auH",
        "outputId": "4693ec23-83fe-4d61-cada-cef1fc052bf0",
        "colab": {
          "base_uri": "https://localhost:8080/",
          "height": 84,
          "referenced_widgets": [
            "e17de1160f53470fba65a7d01acbc579",
            "e7930658d9f74293b1f1c1f4671e404b",
            "82a5527d8fa34f42a85225ec15a55318",
            "1178035a87cf4034a5ff40afdb5b9d5c",
            "72c86298d65d490a90b4755057aa31a3",
            "fc379c3529b240b09408bb6883357b0d",
            "e197e64d5d454f1e8db96ece4a2cdbb8",
            "6d583eb066bb4ef5b52f8360c07c1d7a",
            "de1bbd04ff704c67bb5c71d492941b2e",
            "164e28e0659643e99e9834e0b10c6dc8",
            "4f5a2ee5f63f41a9b6479bf4a8e42578"
          ]
        }
      },
      "execution_count": 12,
      "outputs": [
        {
          "output_type": "stream",
          "name": "stdout",
          "text": [
            "Making confusion matrix:\n"
          ]
        },
        {
          "output_type": "display_data",
          "data": {
            "text/plain": [
              "  0%|          | 0/55 [00:00<?, ?it/s]"
            ],
            "application/vnd.jupyter.widget-view+json": {
              "version_major": 2,
              "version_minor": 0,
              "model_id": "e17de1160f53470fba65a7d01acbc579"
            }
          },
          "metadata": {}
        },
        {
          "output_type": "stream",
          "name": "stdout",
          "text": [
            "Confusion matrix is saved\n"
          ]
        }
      ]
    },
    {
      "cell_type": "code",
      "source": [
        "analyzer.plot_confusion_mat()"
      ],
      "metadata": {
        "id": "jxTxa6n15eUu",
        "outputId": "42c4ee9c-d033-4967-b6f5-7bcc7aa80911",
        "colab": {
          "base_uri": "https://localhost:8080/",
          "height": 645
        }
      },
      "execution_count": 13,
      "outputs": [
        {
          "output_type": "display_data",
          "data": {
            "text/plain": [
              "<Figure size 720x720 with 2 Axes>"
            ],
            "image/png": "[encoded data removed]"
          },
          "metadata": {
            "needs_background": "light"
          }
        }
      ]
    },
    {
      "cell_type": "code",
      "source": [
        "analyzer.evaluate_model()"
      ],
      "metadata": {
        "id": "fLeR3OYm5hBI"
      },
      "execution_count": null,
      "outputs": []
    },
    {
      "cell_type": "code",
      "source": [
        "history = hsv_model.fit(train_ds,\n",
        "                          callbacks=callbacks,\n",
        "                          epochs=40,\n",
        "                          class_weight=class_weight,\n",
        "                          initial_epoch=25)"
      ],
      "metadata": {
        "id": "VsDEewJ2XI70",
        "outputId": "d62a9145-415f-438c-f8d3-280bd2825aa1",
        "colab": {
          "base_uri": "https://localhost:8080/"
        }
      },
      "execution_count": null,
      "outputs": [
        {
          "output_type": "stream",
          "name": "stdout",
          "text": [
            "Epoch 26/40\n",
            "519/519 [==============================] - 159s 278ms/step - loss: 43.1583 - auc: 0.7361 - accuracy: 0.7816\n",
            "Epoch 27/40\n",
            "519/519 [==============================] - 147s 281ms/step - loss: 41.0744 - auc: 0.7390 - accuracy: 0.7796\n",
            "Epoch 28/40\n",
            "519/519 [==============================] - 145s 276ms/step - loss: 33.7271 - auc: 0.7631 - accuracy: 0.7916\n",
            "Epoch 29/40\n",
            "519/519 [==============================] - 147s 280ms/step - loss: 29.4082 - auc: 0.7734 - accuracy: 0.7963\n",
            "Epoch 30/40\n",
            "519/519 [==============================] - 148s 282ms/step - loss: 27.5355 - auc: 0.7841 - accuracy: 0.8010\n",
            "Epoch 31/40\n",
            "519/519 [==============================] - 145s 277ms/step - loss: 24.8970 - auc: 0.7969 - accuracy: 0.8060\n",
            "Epoch 32/40\n",
            "291/519 [===============>..............] - ETA: 1:04 - loss: 23.8695 - auc: 0.8029 - accuracy: 0.8087"
          ]
        }
      ]
    },
    {
      "cell_type": "code",
      "source": [
        "hsv_model.save_weights('drive/MyDrive/checkpoints/hsv-weights-40.h5')"
      ],
      "metadata": {
        "id": "XYG-Y6i-8mGl"
      },
      "execution_count": null,
      "outputs": []
    },
    {
      "cell_type": "code",
      "source": [
        "analyzer = ErrorAnalyzer(model=hsv_model,\n",
        "                         ds=val_ds,\n",
        "                         classes=classes,\n",
        "                         model_name='HSV-model-2')\n",
        "\n",
        "analyzer.plot_confusion_mat()\n",
        "analyzer.evaluate_model()"
      ],
      "metadata": {
        "id": "n9ZmBuvs8qUu"
      },
      "execution_count": null,
      "outputs": []
    },
    {
      "cell_type": "code",
      "source": [
        "history = hsv_model.fit(train_ds,\n",
        "                          callbacks=callbacks,\n",
        "                          epochs=35,\n",
        "                          class_weight=class_weight,\n",
        "                          initial_epoch=25)"
      ],
      "metadata": {
        "id": "_KFVY_1IDGNl",
        "outputId": "470b7c92-91fa-4015-f8c1-909476d857ee",
        "colab": {
          "base_uri": "https://localhost:8080/"
        }
      },
      "execution_count": null,
      "outputs": [
        {
          "output_type": "stream",
          "name": "stdout",
          "text": [
            "Epoch 26/35\n",
            "519/519 [==============================] - 145s 276ms/step - loss: 11.0629 - auc: 0.8781 - accuracy: 0.8214\n",
            "Epoch 27/35\n",
            "519/519 [==============================] - 145s 277ms/step - loss: 10.6729 - auc: 0.8829 - accuracy: 0.8261\n",
            "Epoch 28/35\n",
            "519/519 [==============================] - 144s 276ms/step - loss: 10.2715 - auc: 0.8852 - accuracy: 0.8276\n",
            "Epoch 29/35\n",
            "519/519 [==============================] - 144s 276ms/step - loss: 10.0874 - auc: 0.8880 - accuracy: 0.8261\n",
            "Epoch 30/35\n",
            "519/519 [==============================] - 145s 276ms/step - loss: 9.7326 - auc: 0.8930 - accuracy: 0.8288\n",
            "Epoch 31/35\n",
            "519/519 [==============================] - 145s 277ms/step - loss: 9.8528 - auc: 0.8908 - accuracy: 0.8304\n",
            "Epoch 32/35\n",
            "519/519 [==============================] - 145s 276ms/step - loss: 9.5334 - auc: 0.8951 - accuracy: 0.8347\n",
            "Epoch 33/35\n",
            "519/519 [==============================] - 145s 277ms/step - loss: 9.2548 - auc: 0.8978 - accuracy: 0.8369\n",
            "Epoch 34/35\n",
            "519/519 [==============================] - 145s 276ms/step - loss: 9.0105 - auc: 0.9003 - accuracy: 0.8388\n",
            "Epoch 35/35\n",
            "519/519 [==============================] - 144s 276ms/step - loss: 9.0180 - auc: 0.9001 - accuracy: 0.8399\n"
          ]
        }
      ]
    },
    {
      "cell_type": "code",
      "source": [
        "hsv_model.save_weights('drive/MyDrive/checkpoints/hsv-weights-35.h5')"
      ],
      "metadata": {
        "id": "smlXyJayDJP1"
      },
      "execution_count": null,
      "outputs": []
    },
    {
      "cell_type": "code",
      "source": [
        "analyzer = ErrorAnalyzer(model=hsv_model,\n",
        "                         ds=val_ds,\n",
        "                         classes=classes,\n",
        "                         model_name='HSV-model-3')\n",
        "\n",
        "analyzer.plot_confusion_mat()\n",
        "analyzer.evaluate_model()"
      ],
      "metadata": {
        "id": "IQEcTzE1DLb1",
        "outputId": "9cf408d4-6afe-48cc-a211-0b1615c9c2be",
        "colab": {
          "base_uri": "https://localhost:8080/",
          "height": 764,
          "referenced_widgets": [
            "9c2ced54d1504db1b7a3ba70037bdb0b",
            "15b3173bb7604438a26f33d0264cc4e7",
            "72fde8be95274fafa8c98d9d564da390",
            "a0f5ea9010f5442ebc62d48a877a2be4",
            "7d2a0221873e4ebbab4cbf15bc7873ce",
            "0de589443543462896c89f56df108152",
            "b7a1ee0b5ade4966ba2a48b789c91bd5",
            "3d12850664a84af995be092291cfc04b",
            "d590f233157548f48d1931f2212f7120",
            "fc89734108e84bb9a99c7a0c9154f33f",
            "68ff5043185d4fe09511cb74bb101c61"
          ]
        }
      },
      "execution_count": null,
      "outputs": [
        {
          "output_type": "stream",
          "name": "stdout",
          "text": [
            "Making confusion matrix:\n"
          ]
        },
        {
          "output_type": "display_data",
          "data": {
            "text/plain": [
              "  0%|          | 0/55 [00:00<?, ?it/s]"
            ],
            "application/vnd.jupyter.widget-view+json": {
              "version_major": 2,
              "version_minor": 0,
              "model_id": "9c2ced54d1504db1b7a3ba70037bdb0b"
            }
          },
          "metadata": {}
        },
        {
          "output_type": "stream",
          "name": "stdout",
          "text": [
            "Saving confusion matrix\n"
          ]
        },
        {
          "output_type": "display_data",
          "data": {
            "text/plain": [
              "<Figure size 720x720 with 2 Axes>"
            ],
            "image/png": "[encoded data removed]"
          },
          "metadata": {
            "needs_background": "light"
          }
        },
        {
          "output_type": "stream",
          "name": "stdout",
          "text": [
            "Calculating error types...\n",
            "Writing in log file...\n",
            "\u001b[1;32m All done. Check log file => HSV-model-3.csv\n"
          ]
        }
      ]
    }
  ]
}