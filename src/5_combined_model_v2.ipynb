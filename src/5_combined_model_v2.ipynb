{
  "cells": [
    {
      "cell_type": "markdown",
      "metadata": {
        "id": "view-in-github",
        "colab_type": "text"
      },
      "source": [
        "<a href=\"https://colab.research.google.com/github/m-bashari-m/vehicle-color-recognition/blob/main/src/5_combined_model_v2.ipynb\" target=\"_parent\"><img src=\"https://colab.research.google.com/assets/colab-badge.svg\" alt=\"Open In Colab\"/></a>"
      ]
    },
    {
      "cell_type": "code",
      "execution_count": 1,
      "metadata": {
        "colab": {
          "base_uri": "https://localhost:8080/"
        },
        "id": "FaoIT7KdsydD",
        "outputId": "dea28e70-7483-4fc3-b6c3-142110dd4007"
      },
      "outputs": [
        {
          "output_type": "stream",
          "name": "stdout",
          "text": [
            "--2022-06-16 18:56:13--  https://raw.githubusercontent.com/m-bashari-m/vehicle-color-recognition/main/src/utils.py\n",
            "Resolving raw.githubusercontent.com (raw.githubusercontent.com)... 185.199.108.133, 185.199.109.133, 185.199.110.133, ...\n",
            "Connecting to raw.githubusercontent.com (raw.githubusercontent.com)|185.199.108.133|:443... connected.\n",
            "HTTP request sent, awaiting response... 200 OK\n",
            "Length: 11733 (11K) [text/plain]\n",
            "Saving to: ‘utils.py’\n",
            "\n",
            "\rutils.py              0%[                    ]       0  --.-KB/s               \rutils.py            100%[===================>]  11.46K  --.-KB/s    in 0s      \n",
            "\n",
            "2022-06-16 18:56:14 (28.0 MB/s) - ‘utils.py’ saved [11733/11733]\n",
            "\n"
          ]
        }
      ],
      "source": [
        "!wget https://raw.githubusercontent.com/m-bashari-m/vehicle-color-recognition/main/src/utils.py"
      ]
    },
    {
      "cell_type": "code",
      "execution_count": 2,
      "metadata": {
        "colab": {
          "base_uri": "https://localhost:8080/"
        },
        "id": "HytB7-lTs7g5",
        "outputId": "c31354a6-312d-4604-8384-d865fa25a45f"
      },
      "outputs": [
        {
          "output_type": "stream",
          "name": "stdout",
          "text": [
            "Mounted at ./drive\n"
          ]
        }
      ],
      "source": [
        "from google.colab import drive\n",
        "drive.mount('./drive')"
      ]
    },
    {
      "cell_type": "code",
      "execution_count": 1,
      "metadata": {
        "id": "dQvl_Em4s8Oi"
      },
      "outputs": [],
      "source": [
        "import os\n",
        "\n",
        "import tensorflow as tf\n",
        "from tensorflow import keras\n",
        "import tensorflow_hub as hub\n",
        "\n",
        "!pip install -q tensorflow-io\n",
        "import tensorflow_io as tfio\n",
        "\n",
        "from utils import get_train_val_ds, get_class_weight"
      ]
    },
    {
      "cell_type": "code",
      "execution_count": 2,
      "metadata": {
        "id": "S5qkZw4Ns8Z7"
      },
      "outputs": [],
      "source": [
        "BATCH_SIZE = 32\n",
        "IMG_SIZE = (256, 256)\n",
        "AUTOTUNE = tf.data.AUTOTUNE\n",
        "N_CLASSES = 16\n",
        "HUB_URL = 'https://tfhub.dev/google/bit/m-r50x1/1'"
      ]
    },
    {
      "cell_type": "code",
      "execution_count": 3,
      "metadata": {
        "id": "J8g_1jhQtDFq"
      },
      "outputs": [],
      "source": [
        "dataset_dir = os.path.join('drive', 'MyDrive', 'cars')\n",
        "train_dir = os.path.join(dataset_dir, 'train')\n",
        "val_dir = os.path.join(dataset_dir, 'val')"
      ]
    },
    {
      "cell_type": "code",
      "execution_count": 4,
      "metadata": {
        "id": "ZDdC4GywtEQh",
        "outputId": "cfda2464-63e1-4890-a4fe-314eeb9dbce6",
        "colab": {
          "base_uri": "https://localhost:8080/"
        }
      },
      "outputs": [
        {
          "output_type": "stream",
          "name": "stdout",
          "text": [
            "Found 16580 files belonging to 16 classes.\n",
            "Found 3510 files belonging to 16 classes.\n"
          ]
        }
      ],
      "source": [
        "train_ds, _ = get_train_val_ds(train_dir, val_dir, batch_size=BATCH_SIZE, img_size=IMG_SIZE)"
      ]
    },
    {
      "cell_type": "code",
      "execution_count": 5,
      "metadata": {
        "id": "VfXJuXaItHeC"
      },
      "outputs": [],
      "source": [
        "classes, class_weight = get_class_weight()"
      ]
    },
    {
      "cell_type": "code",
      "execution_count": 6,
      "metadata": {
        "id": "YUizq5ZwtHqM"
      },
      "outputs": [],
      "source": [
        "train_ds = (\n",
        "    train_ds.\n",
        "    map(lambda img, lbl: (img/255., lbl), num_parallel_calls=AUTOTUNE).\n",
        "    prefetch(AUTOTUNE))"
      ]
    },
    {
      "cell_type": "code",
      "source": [
        "rgb_input = keras.Input(shape=IMG_SIZE+(3,))\n",
        "hub_module = hub.KerasLayer(HUB_URL)\n",
        "\n",
        "rgb_features = hub_module(rgb_input)\n",
        "\n",
        "xyz_input = tfio.experimental.color.rgb_to_xyz(rgb_input)\n",
        "xyz_features = hub_module(xyz_input)\n",
        "\n",
        "hsv_input = tf.image.rgb_to_hsv(rgb_input)\n",
        "hsv_features = hub_module(hsv_input)\n",
        "\n",
        "features = keras.layers.Concatenate()([rgb_features, xyz_features, hsv_features])\n",
        "\n",
        "output = keras.layers.Dense(N_CLASSES, activation='softmax')(features)\n",
        "\n",
        "model = keras.models.Model(inputs=[rgb_input], outputs=[output])"
      ],
      "metadata": {
        "id": "yY2InyDe18Px"
      },
      "execution_count": null,
      "outputs": []
    },
    {
      "cell_type": "code",
      "source": [
        "model._name = 'combined-model'"
      ],
      "metadata": {
        "id": "x9Cf6BCzCHdO"
      },
      "execution_count": 17,
      "outputs": []
    },
    {
      "cell_type": "code",
      "source": [
        "metrics = [\n",
        "            keras.metrics.AUC(name='auc', curve='PR', num_thresholds=100),\n",
        "            'accuracy'\n",
        "          ]\n",
        "\n",
        "loss_fn = keras.losses.CategoricalCrossentropy()\n",
        "lr_schedule =tf.keras.optimizers.schedules.ExponentialDecay(1e-2, 533, .9)\n",
        "\n",
        "model.compile(loss=loss_fn,\n",
        "            optimizer=keras.optimizers.Adam(learning_rate=lr_schedule),\n",
        "            metrics=metrics)"
      ],
      "metadata": {
        "id": "ZtVjR1lMAlyA"
      },
      "execution_count": 18,
      "outputs": []
    },
    {
      "cell_type": "code",
      "source": [
        "early_stopping = keras.callbacks.EarlyStopping(\n",
        "                                              monitor='auc', \n",
        "                                              verbose=1,\n",
        "                                              patience=3,\n",
        "                                              restore_best_weights=True,\n",
        "                                              mode='max')\n",
        "\n",
        "check_point_path = os.path.join('./logs/checkpoints', model._name+\"-{epoch:02d}.h5\")\n",
        "check_point = keras.callbacks.ModelCheckpoint(\n",
        "                                            filepath=check_point_path,\n",
        "                                            monitor='auc',\n",
        "                                            save_best_only=True,\n",
        "                                            mode='max')\n",
        "        \n",
        "callbacks = [early_stopping, check_point]"
      ],
      "metadata": {
        "id": "auoSXmr3A4i3"
      },
      "execution_count": 9,
      "outputs": []
    },
    {
      "cell_type": "code",
      "execution_count": null,
      "metadata": {
        "colab": {
          "base_uri": "https://localhost:8080/"
        },
        "id": "81hWi4y1utc0",
        "outputId": "aa023d5c-8373-4010-8953-cf537548e6b0"
      },
      "outputs": [
        {
          "output_type": "stream",
          "name": "stdout",
          "text": [
            "Epoch 1/20\n",
            "519/519 [==============================] - 1183s 2s/step - loss: 416.2709 - auc: 0.5196 - accuracy: 0.6564\n",
            "Epoch 2/20\n",
            "519/519 [==============================] - 421s 808ms/step - loss: 193.5110 - auc: 0.6601 - accuracy: 0.7668\n",
            "Epoch 3/20\n",
            "519/519 [==============================] - 420s 807ms/step - loss: 183.8564 - auc: 0.6948 - accuracy: 0.7963\n",
            "Epoch 4/20\n",
            "519/519 [==============================] - 420s 808ms/step - loss: 150.1589 - auc: 0.7323 - accuracy: 0.8227\n",
            "Epoch 5/20\n",
            "519/519 [==============================] - 420s 807ms/step - loss: 109.7715 - auc: 0.7796 - accuracy: 0.8523\n",
            "Epoch 6/20\n",
            "519/519 [==============================] - 420s 807ms/step - loss: 91.0485 - auc: 0.8038 - accuracy: 0.8718\n",
            "Epoch 7/20\n",
            "519/519 [==============================] - 420s 807ms/step - loss: 84.0862 - auc: 0.8191 - accuracy: 0.8809\n",
            "Epoch 8/20\n",
            "519/519 [==============================] - 420s 806ms/step - loss: 65.2560 - auc: 0.8404 - accuracy: 0.8941\n",
            "Epoch 9/20\n",
            "519/519 [==============================] - 420s 808ms/step - loss: 54.9260 - auc: 0.8552 - accuracy: 0.9043\n",
            "Epoch 10/20\n",
            "519/519 [==============================] - 420s 807ms/step - loss: 55.5767 - auc: 0.8628 - accuracy: 0.9087\n",
            "Epoch 11/20\n",
            "519/519 [==============================] - 418s 804ms/step - loss: 37.4812 - auc: 0.8863 - accuracy: 0.9227\n",
            "Epoch 12/20\n",
            "519/519 [==============================] - 420s 806ms/step - loss: 33.7774 - auc: 0.8931 - accuracy: 0.9273\n",
            "Epoch 13/20\n",
            "519/519 [==============================] - 420s 807ms/step - loss: 29.0273 - auc: 0.9099 - accuracy: 0.9366\n",
            "Epoch 14/20\n",
            "519/519 [==============================] - 420s 807ms/step - loss: 22.2333 - auc: 0.9195 - accuracy: 0.9448\n",
            "Epoch 15/20\n",
            "519/519 [==============================] - 418s 803ms/step - loss: 18.9214 - auc: 0.9253 - accuracy: 0.9476\n",
            "Epoch 16/20\n",
            "519/519 [==============================] - 419s 805ms/step - loss: 15.8762 - auc: 0.9397 - accuracy: 0.9562\n",
            "Epoch 17/20\n",
            "519/519 [==============================] - 418s 804ms/step - loss: 13.9088 - auc: 0.9409 - accuracy: 0.9575\n",
            "Epoch 18/20\n",
            "519/519 [==============================] - 420s 808ms/step - loss: 10.8488 - auc: 0.9527 - accuracy: 0.9650\n",
            "Epoch 19/20\n",
            "519/519 [==============================] - 418s 804ms/step - loss: 9.5205 - auc: 0.9551 - accuracy: 0.9666\n",
            "Epoch 20/20\n",
            "519/519 [==============================] - 420s 807ms/step - loss: 7.5649 - auc: 0.9616 - accuracy: 0.9706\n"
          ]
        }
      ],
      "source": [
        "history = model.fit(train_ds,\n",
        "                    callbacks=callbacks,\n",
        "                    epochs=20,\n",
        "                    class_weight=class_weight)"
      ]
    },
    {
      "cell_type": "code",
      "source": [
        "!cp ./logs/checkpoints/combined-model-10.h5 ./drive/MyDrive/checkpoints/combined-model-10.2.h5\n",
        "!cp ./logs/checkpoints/combined-model-15.h5 ./drive/MyDrive/checkpoints/combined-model-15.2.h5\n",
        "!cp ./logs/checkpoints/combined-model-20.h5 ./drive/MyDrive/checkpoints/combined-model-20.2.h5"
      ],
      "metadata": {
        "id": "uu5oTNQZOS7D"
      },
      "execution_count": null,
      "outputs": []
    },
    {
      "cell_type": "code",
      "source": [
        "model = keras.models.load_model(\"./drive/MyDrive/checkpoints/combined-model-20.2.h5\",\n",
        "                                custom_objects={'KerasLayer':hub.KerasLayer})"
      ],
      "metadata": {
        "id": "JqNQH2Hq4BWT"
      },
      "execution_count": 8,
      "outputs": []
    },
    {
      "cell_type": "code",
      "source": [
        "history = model.fit(train_ds,\n",
        "                    callbacks=callbacks,\n",
        "                    epochs=30,\n",
        "                    initial_epoch=20,\n",
        "                    class_weight=class_weight)"
      ],
      "metadata": {
        "id": "fWRIQIL6STD6",
        "outputId": "4a93efb4-aba8-45c9-d5a5-e89b3b515015",
        "colab": {
          "base_uri": "https://localhost:8080/"
        }
      },
      "execution_count": 10,
      "outputs": [
        {
          "output_type": "stream",
          "name": "stdout",
          "text": [
            "Epoch 21/30\n",
            "519/519 [==============================] - 2015s 4s/step - loss: 4.9946 - auc: 0.9739 - accuracy: 0.9785\n",
            "Epoch 22/30\n",
            "519/519 [==============================] - 424s 814ms/step - loss: 4.6762 - auc: 0.9754 - accuracy: 0.9794\n",
            "Epoch 23/30\n",
            "519/519 [==============================] - 424s 814ms/step - loss: 3.8836 - auc: 0.9779 - accuracy: 0.9818\n",
            "Epoch 24/30\n",
            "519/519 [==============================] - 424s 814ms/step - loss: 2.7520 - auc: 0.9840 - accuracy: 0.9850\n",
            "Epoch 25/30\n",
            "519/519 [==============================] - 423s 813ms/step - loss: 3.5704 - auc: 0.9797 - accuracy: 0.9826\n",
            "Epoch 26/30\n",
            "519/519 [==============================] - 423s 814ms/step - loss: 2.4298 - auc: 0.9860 - accuracy: 0.9881\n",
            "Epoch 27/30\n",
            "519/519 [==============================] - 424s 815ms/step - loss: 2.0797 - auc: 0.9873 - accuracy: 0.9892\n",
            "Epoch 28/30\n",
            "519/519 [==============================] - 424s 814ms/step - loss: 2.0638 - auc: 0.9892 - accuracy: 0.9891\n",
            "Epoch 29/30\n",
            "519/519 [==============================] - 424s 814ms/step - loss: 1.6912 - auc: 0.9910 - accuracy: 0.9908\n",
            "Epoch 30/30\n",
            "519/519 [==============================] - 423s 814ms/step - loss: 1.4261 - auc: 0.9907 - accuracy: 0.9914\n"
          ]
        }
      ]
    },
    {
      "cell_type": "code",
      "source": [
        "!cp ./logs/checkpoints/combined-model-24.h5 ./drive/MyDrive/checkpoints/combined-model-24.2.h5\n",
        "!cp ./logs/checkpoints/combined-model-29.h5 ./drive/MyDrive/checkpoints/combined-model-29.2.h5"
      ],
      "metadata": {
        "id": "PFn12cjjckKJ"
      },
      "execution_count": 12,
      "outputs": []
    }
  ],
  "metadata": {
    "colab": {
      "name": "xyz_model.ipynb",
      "provenance": [],
      "include_colab_link": true
    },
    "kernelspec": {
      "display_name": "Python 3",
      "name": "python3"
    },
    "language_info": {
      "name": "python"
    },
    "accelerator": "GPU",
    "gpuClass": "standard"
  },
  "nbformat": 4,
  "nbformat_minor": 0
}