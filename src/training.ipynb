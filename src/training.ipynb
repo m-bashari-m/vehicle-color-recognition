{
  "cells": [
    {
      "cell_type": "code",
      "source": [
        "!wget https://raw.githubusercontent.com/m-bashari-m/vehicle-color-recognition/main/src/utils.py"
      ],
      "metadata": {
        "id": "lo1t1tO9y6L4",
        "outputId": "99b2e660-450a-4809-94e7-c8115b24f827",
        "colab": {
          "base_uri": "https://localhost:8080/"
        }
      },
      "execution_count": 18,
      "outputs": [
        {
          "output_type": "stream",
          "name": "stdout",
          "text": [
            "--2022-05-26 19:41:26--  https://raw.githubusercontent.com/m-bashari-m/vehicle-color-recognition/main/src/utils.py\n",
            "Resolving raw.githubusercontent.com (raw.githubusercontent.com)... 185.199.108.133, 185.199.109.133, 185.199.110.133, ...\n",
            "Connecting to raw.githubusercontent.com (raw.githubusercontent.com)|185.199.108.133|:443... connected.\n",
            "HTTP request sent, awaiting response... 200 OK\n",
            "Length: 6814 (6.7K) [text/plain]\n",
            "Saving to: ‘utils.py’\n",
            "\n",
            "\rutils.py              0%[                    ]       0  --.-KB/s               \rutils.py            100%[===================>]   6.65K  --.-KB/s    in 0s      \n",
            "\n",
            "2022-05-26 19:41:26 (98.5 MB/s) - ‘utils.py’ saved [6814/6814]\n",
            "\n"
          ]
        }
      ]
    },
    {
      "cell_type": "code",
      "execution_count": 2,
      "metadata": {
        "colab": {
          "base_uri": "https://localhost:8080/"
        },
        "id": "bRdIPsPcp2OF",
        "outputId": "9cfe5959-8af6-4226-8a2e-bf5fd13fa104"
      },
      "outputs": [
        {
          "output_type": "stream",
          "name": "stdout",
          "text": [
            "Mounted at ./drive\n"
          ]
        }
      ],
      "source": [
        "from google.colab import drive\n",
        "drive.mount('./drive')"
      ]
    },
    {
      "cell_type": "code",
      "execution_count": 20,
      "metadata": {
        "id": "OqaOJQP4krhr"
      },
      "outputs": [],
      "source": [
        "import pandas as pd\n",
        "import numpy as np\n",
        "import os\n",
        "\n",
        "import tensorflow as tf\n",
        "from tensorflow import keras\n",
        "import tensorflow_hub as hub\n",
        "\n",
        "from utils import ModelCreator, get_train_val_ds, ErrorAnalyzer"
      ]
    },
    {
      "cell_type": "code",
      "execution_count": 6,
      "metadata": {
        "id": "3b2ik0jzro3S"
      },
      "outputs": [],
      "source": [
        "BATCH_SIZE = 128\n",
        "IMG_SIZE = (256, 256)\n",
        "AUTOTUNE = tf.data.AUTOTUNE\n",
        "N_CLASSES = 16"
      ]
    },
    {
      "cell_type": "code",
      "execution_count": 7,
      "metadata": {
        "id": "fdtpr6ZArLEQ"
      },
      "outputs": [],
      "source": [
        "dataset_dir = os.path.join('drive', 'MyDrive', 'cars')\n",
        "train_dir = os.path.join(dataset_dir, 'train')\n",
        "val_dir = os.path.join(dataset_dir, 'val')"
      ]
    },
    {
      "cell_type": "code",
      "execution_count": 8,
      "metadata": {
        "colab": {
          "base_uri": "https://localhost:8080/"
        },
        "id": "2Aqeb_chrbtm",
        "outputId": "50bfbadc-505e-4693-b92b-2b8347f89582"
      },
      "outputs": [
        {
          "output_type": "stream",
          "name": "stdout",
          "text": [
            "Found 17043 files belonging to 16 classes.\n",
            "Found 3495 files belonging to 16 classes.\n"
          ]
        }
      ],
      "source": [
        "train_ds, val_ds = get_train_val_ds(train_dir, val_dir)"
      ]
    },
    {
      "cell_type": "code",
      "execution_count": null,
      "metadata": {
        "id": "gDHgOmiOonos"
      },
      "outputs": [],
      "source": [
        ""
      ]
    },
    {
      "cell_type": "code",
      "execution_count": null,
      "metadata": {
        "colab": {
          "base_uri": "https://localhost:8080/"
        },
        "id": "KUMoLJLRpBiS",
        "outputId": "f471e99a-a7ee-4f91-c095-a040e09b5bd1"
      },
      "outputs": [
        {
          "name": "stdout",
          "output_type": "stream",
          "text": [
            "beige => 17.94\n",
            "black => 13.8\n",
            "blue => 15.47\n",
            "brown => 17.92\n",
            "cream => 56.81\n",
            "crimson => 76.43\n",
            "gold => 56.81\n",
            "green => 21.2\n",
            "grey => 12.41\n",
            "navy-blue => 58.77\n",
            "orange => 22.37\n",
            "red => 16.39\n",
            "silver => 20.17\n",
            "titanium => 56.81\n",
            "white => 2.97\n",
            "yellow => 20.68\n"
          ]
        }
      ],
      "source": [
        "for color, weight in zip(df['color'], class_weight.values()):\n",
        "  print(color, \"=>\", weight)"
      ]
    },
    {
      "cell_type": "code",
      "execution_count": null,
      "metadata": {
        "colab": {
          "base_uri": "https://localhost:8080/"
        },
        "id": "--MDbrTACZaO",
        "outputId": "43775149-af22-4480-daea-af5f21362969"
      },
      "outputs": [
        {
          "data": {
            "text/plain": [
              "{0: 17.94,\n",
              " 1: 13.8,\n",
              " 2: 15.47,\n",
              " 3: 17.92,\n",
              " 4: 56.81,\n",
              " 5: 76.43,\n",
              " 6: 56.81,\n",
              " 7: 21.2,\n",
              " 8: 12.41,\n",
              " 9: 58.77,\n",
              " 10: 22.37,\n",
              " 11: 16.39,\n",
              " 12: 20.17,\n",
              " 13: 56.81,\n",
              " 14: 2.97,\n",
              " 15: 20.68}"
            ]
          },
          "execution_count": 8,
          "metadata": {},
          "output_type": "execute_result"
        }
      ],
      "source": [
        "class_weight"
      ]
    },
    {
      "cell_type": "code",
      "execution_count": null,
      "metadata": {
        "id": "HTaqr5PL3RI5"
      },
      "outputs": [],
      "source": [
        "train_ds = (\n",
        "    train_ds.\n",
        "    map(lambda img, lbl: (img/255., lbl), num_parallel_calls=AUTOTUNE).\n",
        "    prefetch(AUTOTUNE))\n",
        "\n",
        "val_ds = (\n",
        "    val_ds.\n",
        "    map(lambda img, lbl: (img/255., lbl), num_parallel_calls=AUTOTUNE).\n",
        "    prefetch(AUTOTUNE))"
      ]
    },
    {
      "cell_type": "code",
      "execution_count": null,
      "metadata": {
        "id": "jxQRFlkkwx97"
      },
      "outputs": [],
      "source": [
        "bit_model_url = 'https://tfhub.dev/google/bit/m-r50x1/1'\n",
        "bit_module = hub.KerasLayer(bit_model_url)"
      ]
    },
    {
      "cell_type": "code",
      "execution_count": null,
      "metadata": {
        "id": "Bla3hZNMBnFX"
      },
      "outputs": [],
      "source": [
        "img, lbl = next(iter(train_ds))\n",
        "img, lbl = next(iter(val_ds))"
      ]
    },
    {
      "cell_type": "code",
      "execution_count": null,
      "metadata": {
        "id": "mecqBBzO20it"
      },
      "outputs": [],
      "source": [
        "bit_model = keras.Sequential([\n",
        "                          keras.Input(shape=IMG_SIZE+(3,)),\n",
        "                          bit_module,\n",
        "                          keras.layers.Dense(N_CLASSES)\n",
        "                            ])"
      ]
    },
    {
      "cell_type": "code",
      "execution_count": null,
      "metadata": {
        "id": "_HbeO7gS3mrE"
      },
      "outputs": [],
      "source": [
        "early_stopping = keras.callbacks.EarlyStopping(patience=4)\n",
        "\n",
        "loss_fn = keras.losses.SparseCategoricalCrossentropy(from_logits=True)\n",
        "\n",
        "lr_schedule = keras.optimizers.schedules.ExponentialDecay(\n",
        "    initial_learning_rate=1e-2,\n",
        "    decay_steps=100,\n",
        "    decay_rate=.9)\n",
        "\n",
        "optimizer = keras.optimizers.Adam(lr_schedule)"
      ]
    },
    {
      "cell_type": "code",
      "execution_count": null,
      "metadata": {
        "id": "S8tK7HcM6t0s"
      },
      "outputs": [],
      "source": [
        "bit_model.compile(loss=loss_fn,\n",
        "                  optimizer=optimizer,\n",
        "                  metrics=['accuracy'])"
      ]
    },
    {
      "cell_type": "code",
      "execution_count": null,
      "metadata": {
        "colab": {
          "base_uri": "https://localhost:8080/"
        },
        "id": "0gnG_cv46Bqx",
        "outputId": "6cd08950-195c-448c-a2c8-d564896d3078"
      },
      "outputs": [
        {
          "name": "stdout",
          "output_type": "stream",
          "text": [
            "Epoch 1/2\n",
            "20/20 [==============================] - ETA: 0s - loss: 439.1434 - accuracy: 0.1629 "
          ]
        }
      ],
      "source": [
        "history = bit_model.fit(train_ds,\n",
        "                        validation_data=val_ds,\n",
        "                        callbacks=[early_stopping],\n",
        "                        steps_per_epoch=20,\n",
        "                        epochs=2,\n",
        "                        class_weight=class_weight)"
      ]
    },
    {
      "cell_type": "code",
      "execution_count": null,
      "metadata": {
        "id": "BswMu5Lq7IsV"
      },
      "outputs": [],
      "source": [
        ""
      ]
    }
  ],
  "metadata": {
    "colab": {
      "name": "rgb_model.ipynb",
      "provenance": []
    },
    "kernelspec": {
      "display_name": "Python 3 (ipykernel)",
      "language": "python",
      "name": "python3"
    },
    "language_info": {
      "codemirror_mode": {
        "name": "ipython",
        "version": 3
      },
      "file_extension": ".py",
      "mimetype": "text/x-python",
      "name": "python",
      "nbconvert_exporter": "python",
      "pygments_lexer": "ipython3",
      "version": "3.8.10"
    },
    "accelerator": "GPU"
  },
  "nbformat": 4,
  "nbformat_minor": 0
}