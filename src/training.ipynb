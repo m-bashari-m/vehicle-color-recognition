{
  "nbformat": 4,
  "nbformat_minor": 0,
  "metadata": {
    "colab": {
      "name": "rgb_model.ipynb",
      "provenance": []
    },
    "kernelspec": {
      "name": "python3",
      "display_name": "Python 3"
    },
    "language_info": {
      "name": "python"
    }
  },
  "cells": [
    {
      "cell_type": "code",
      "source": [
        "import pandas as pd\n",
        "import numpy as np\n",
        "import os\n",
        "\n",
        "import tensorflow as tf\n",
        "from tensorflow import keras\n",
        "import tensorflow_hub as hub\n",
        "\n",
        "from google.colab import drive"
      ],
      "metadata": {
        "id": "OqaOJQP4krhr"
      },
      "execution_count": 1,
      "outputs": []
    },
    {
      "cell_type": "code",
      "source": [
        "drive.mount('./drive')"
      ],
      "metadata": {
        "colab": {
          "base_uri": "https://localhost:8080/"
        },
        "id": "bRdIPsPcp2OF",
        "outputId": "4d2a2efc-edf4-4018-c4a4-25e5bf16eeb6"
      },
      "execution_count": 2,
      "outputs": [
        {
          "output_type": "stream",
          "name": "stdout",
          "text": [
            "Drive already mounted at ./drive; to attempt to forcibly remount, call drive.mount(\"./drive\", force_remount=True).\n"
          ]
        }
      ]
    },
    {
      "cell_type": "code",
      "source": [
        "BATCH_SIZE = 128\n",
        "IMG_SIZE = (256, 256)\n",
        "AUTOTUNE = tf.data.AUTOTUNE\n",
        "N_CLASSES = 16"
      ],
      "metadata": {
        "id": "3b2ik0jzro3S"
      },
      "execution_count": 3,
      "outputs": []
    },
    {
      "cell_type": "code",
      "source": [
        "dataset_dir = os.path.join('drive', 'MyDrive', 'cars')\n",
        "train_dir = os.path.join(dataset_dir, 'train')\n",
        "val_dir = os.path.join(dataset_dir, 'val')"
      ],
      "metadata": {
        "id": "fdtpr6ZArLEQ"
      },
      "execution_count": 4,
      "outputs": []
    },
    {
      "cell_type": "code",
      "source": [
        "train_ds = keras.utils.image_dataset_from_directory(train_dir,\n",
        "                                                    batch_size=BATCH_SIZE,\n",
        "                                                    image_size=IMG_SIZE,\n",
        "                                                    shuffle=True,\n",
        "                                                    seed=42)\n",
        "\n",
        "val_ds = keras.utils.image_dataset_from_directory(val_dir,\n",
        "                                                  batch_size=BATCH_SIZE,\n",
        "                                                  image_size=IMG_SIZE,\n",
        "                                                  shuffle=True,\n",
        "                                                  seed=42)"
      ],
      "metadata": {
        "colab": {
          "base_uri": "https://localhost:8080/"
        },
        "id": "2Aqeb_chrbtm",
        "outputId": "a54c18a3-38d6-4482-f412-3a219ed75cc7"
      },
      "execution_count": 5,
      "outputs": [
        {
          "output_type": "stream",
          "name": "stdout",
          "text": [
            "Found 17043 files belonging to 16 classes.\n",
            "Found 3495 files belonging to 16 classes.\n"
          ]
        }
      ]
    },
    {
      "cell_type": "code",
      "source": [
        "df = pd.read_csv('./dataset-info.csv', index_col=0)\n",
        "n_train = np.sum(df['train'])\n",
        "class_weight = {key:value for\n",
        "                key, value in zip(df['color'].index, (n_train/df['train']).round(2))}"
      ],
      "metadata": {
        "id": "gDHgOmiOonos"
      },
      "execution_count": 6,
      "outputs": []
    },
    {
      "cell_type": "code",
      "source": [
        "for color, weight in zip(df['color'], class_weight.values()):\n",
        "  print(color, \"=>\", weight)"
      ],
      "metadata": {
        "colab": {
          "base_uri": "https://localhost:8080/"
        },
        "id": "KUMoLJLRpBiS",
        "outputId": "f471e99a-a7ee-4f91-c095-a040e09b5bd1"
      },
      "execution_count": 7,
      "outputs": [
        {
          "output_type": "stream",
          "name": "stdout",
          "text": [
            "beige => 17.94\n",
            "black => 13.8\n",
            "blue => 15.47\n",
            "brown => 17.92\n",
            "cream => 56.81\n",
            "crimson => 76.43\n",
            "gold => 56.81\n",
            "green => 21.2\n",
            "grey => 12.41\n",
            "navy-blue => 58.77\n",
            "orange => 22.37\n",
            "red => 16.39\n",
            "silver => 20.17\n",
            "titanium => 56.81\n",
            "white => 2.97\n",
            "yellow => 20.68\n"
          ]
        }
      ]
    },
    {
      "cell_type": "code",
      "source": [
        "class_weight"
      ],
      "metadata": {
        "colab": {
          "base_uri": "https://localhost:8080/"
        },
        "id": "--MDbrTACZaO",
        "outputId": "43775149-af22-4480-daea-af5f21362969"
      },
      "execution_count": 8,
      "outputs": [
        {
          "output_type": "execute_result",
          "data": {
            "text/plain": [
              "{0: 17.94,\n",
              " 1: 13.8,\n",
              " 2: 15.47,\n",
              " 3: 17.92,\n",
              " 4: 56.81,\n",
              " 5: 76.43,\n",
              " 6: 56.81,\n",
              " 7: 21.2,\n",
              " 8: 12.41,\n",
              " 9: 58.77,\n",
              " 10: 22.37,\n",
              " 11: 16.39,\n",
              " 12: 20.17,\n",
              " 13: 56.81,\n",
              " 14: 2.97,\n",
              " 15: 20.68}"
            ]
          },
          "metadata": {},
          "execution_count": 8
        }
      ]
    },
    {
      "cell_type": "code",
      "source": [
        "train_ds = (\n",
        "    train_ds.\n",
        "    map(lambda img, lbl: (img/255., lbl), num_parallel_calls=AUTOTUNE).\n",
        "    prefetch(AUTOTUNE))\n",
        "\n",
        "val_ds = (\n",
        "    val_ds.\n",
        "    map(lambda img, lbl: (img/255., lbl), num_parallel_calls=AUTOTUNE).\n",
        "    prefetch(AUTOTUNE))"
      ],
      "metadata": {
        "id": "HTaqr5PL3RI5"
      },
      "execution_count": 16,
      "outputs": []
    },
    {
      "cell_type": "code",
      "source": [
        "bit_model_url = 'https://tfhub.dev/google/bit/m-r50x1/1'\n",
        "bit_module = hub.KerasLayer(bit_model_url)"
      ],
      "metadata": {
        "id": "jxQRFlkkwx97"
      },
      "execution_count": 17,
      "outputs": []
    },
    {
      "cell_type": "code",
      "source": [
        "img, lbl = next(iter(train_ds))\n",
        "img, lbl = next(iter(val_ds))"
      ],
      "metadata": {
        "id": "Bla3hZNMBnFX"
      },
      "execution_count": 18,
      "outputs": []
    },
    {
      "cell_type": "code",
      "source": [
        "bit_model = keras.Sequential([\n",
        "                          keras.Input(shape=IMG_SIZE+(3,)),\n",
        "                          bit_module,\n",
        "                          keras.layers.Dense(N_CLASSES)\n",
        "                            ])"
      ],
      "metadata": {
        "id": "mecqBBzO20it"
      },
      "execution_count": 19,
      "outputs": []
    },
    {
      "cell_type": "code",
      "source": [
        "early_stopping = keras.callbacks.EarlyStopping(patience=4)\n",
        "\n",
        "loss_fn = keras.losses.SparseCategoricalCrossentropy(from_logits=True)\n",
        "\n",
        "lr_schedule = keras.optimizers.schedules.ExponentialDecay(\n",
        "    initial_learning_rate=1e-2,\n",
        "    decay_steps=100,\n",
        "    decay_rate=.9)\n",
        "\n",
        "optimizer = keras.optimizers.Adam(lr_schedule)"
      ],
      "metadata": {
        "id": "_HbeO7gS3mrE"
      },
      "execution_count": 20,
      "outputs": []
    },
    {
      "cell_type": "code",
      "source": [
        "bit_model.compile(loss=loss_fn,\n",
        "                  optimizer=optimizer,\n",
        "                  metrics=['accuracy'])"
      ],
      "metadata": {
        "id": "S8tK7HcM6t0s"
      },
      "execution_count": 21,
      "outputs": []
    },
    {
      "cell_type": "code",
      "source": [
        "history = bit_model.fit(train_ds,\n",
        "                        validation_data=val_ds,\n",
        "                        callbacks=[early_stopping],\n",
        "                        steps_per_epoch=20,\n",
        "                        epochs=2,\n",
        "                        class_weight=class_weight)"
      ],
      "metadata": {
        "colab": {
          "base_uri": "https://localhost:8080/"
        },
        "id": "0gnG_cv46Bqx",
        "outputId": "6cd08950-195c-448c-a2c8-d564896d3078"
      },
      "execution_count": null,
      "outputs": [
        {
          "output_type": "stream",
          "name": "stdout",
          "text": [
            "Epoch 1/2\n",
            "20/20 [==============================] - ETA: 0s - loss: 439.1434 - accuracy: 0.1629 "
          ]
        }
      ]
    },
    {
      "cell_type": "code",
      "source": [
        ""
      ],
      "metadata": {
        "id": "BswMu5Lq7IsV"
      },
      "execution_count": null,
      "outputs": []
    }
  ]
}