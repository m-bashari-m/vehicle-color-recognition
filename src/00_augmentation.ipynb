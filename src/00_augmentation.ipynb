{
 "cells": [
  {
   "cell_type": "code",
   "execution_count": null,
   "id": "81df2c80",
   "metadata": {
    "id": "81df2c80"
   },
   "outputs": [],
   "source": [
    "import os\n",
    "import tensorflow as tf\n",
    "from tensorflow import keras\n",
    "from PIL import Image\n",
    "import numpy as np\n",
    "import shutil"
   ]
  },
  {
   "cell_type": "code",
   "execution_count": null,
   "id": "si37rMlB28yK",
   "metadata": {
    "colab": {
     "base_uri": "https://localhost:8080/"
    },
    "id": "si37rMlB28yK",
    "outputId": "de5e9f96-54ad-469a-efed-0805dfaa83e9"
   },
   "outputs": [],
   "source": [
    "!pip install dirsync\n",
    "import dirsync"
   ]
  },
  {
   "cell_type": "code",
   "execution_count": null,
   "id": "p5ZLjI5styXa",
   "metadata": {
    "colab": {
     "base_uri": "https://localhost:8080/"
    },
    "id": "p5ZLjI5styXa",
    "outputId": "71773075-2e26-4813-ef9b-5819519b2654"
   },
   "outputs": [],
   "source": [
    "from google.colab import drive\n",
    "drive.mount('./drive')"
   ]
  },
  {
   "cell_type": "code",
   "execution_count": null,
   "id": "5b5e4e79",
   "metadata": {
    "id": "5b5e4e79"
   },
   "outputs": [],
   "source": [
    "base = \"/content/drive/MyDrive/cars/train\"\n",
    "dest_base = '/content/drive/MyDrive/data/train'\n",
    "IMAGE_SIZE = (256, 256)"
   ]
  },
  {
   "cell_type": "code",
   "execution_count": null,
   "id": "19396b72",
   "metadata": {
    "id": "19396b72"
   },
   "outputs": [],
   "source": [
    "augment = tf.keras.Sequential([\n",
    "            tf.keras.layers.RandomFlip(mode='horizontal'),\n",
    "            tf.keras.layers.RandomTranslation((-.1, .1),\n",
    "                                      (-.1, .1),\n",
    "                                      fill_mode='constant'),\n",
    "            ])"
   ]
  },
  {
   "cell_type": "code",
   "execution_count": null,
   "id": "17d9b0a9",
   "metadata": {
    "id": "17d9b0a9"
   },
   "outputs": [],
   "source": [
    "def augmentor(base, color, rate=2):\n",
    "    file_counter = 1000\n",
    "    path = os.path.join(base, color)\n",
    "    os.makedirs(os.path.join(dest_base, color), exist_ok=True)\n",
    "    move_originals(path, os.path.join(dest_base, color))\n",
    "    ds = get_data(path)\n",
    "    for _ in range(rate):\n",
    "        augmented = augment(ds)\n",
    "        for image in augmented:\n",
    "            img = Image.fromarray(image.numpy().astype(np.uint8))\n",
    "            img.save(os.path.join(dest_base, color, str(file_counter)+\".jpg\"))\n",
    "            file_counter += 1"
   ]
  },
  {
   "cell_type": "code",
   "execution_count": null,
   "id": "903fd648",
   "metadata": {
    "id": "903fd648"
   },
   "outputs": [],
   "source": [
    "def get_data(path: str):\n",
    "    images = np.array([]).reshape(-1, *IMAGE_SIZE, 3)\n",
    "    files = [os.path.join(path, file) \n",
    "             for file in os.listdir(path)]\n",
    "    for file in files:\n",
    "        image = Image.open(file).resize(IMAGE_SIZE)\n",
    "        image = np.expand_dims(image, 0)\n",
    "        images = np.concatenate([images, image], axis=0)\n",
    "    return images"
   ]
  },
  {
   "cell_type": "code",
   "execution_count": null,
   "id": "9P1jvcikwlD4",
   "metadata": {
    "id": "9P1jvcikwlD4"
   },
   "outputs": [],
   "source": [
    "def move_originals(path, dest):\n",
    "  for file in os.listdir(path):\n",
    "    shutil.copyfile(os.path.join(path, file), os.path.join(dest, file))"
   ]
  },
  {
   "cell_type": "code",
   "execution_count": null,
   "id": "004eb8c0",
   "metadata": {
    "id": "004eb8c0",
    "scrolled": true
   },
   "outputs": [],
   "source": [
    "to_augment = [(\"cream\", 2), (\"crimson\", 3), (\"gold\", 2), (\"navy-blue\", 2), (\"titanium\", 2)]\n",
    "for color, rate in to_augment:\n",
    "    augmentor(base, color=color, rate=rate)"
   ]
  },
  {
   "cell_type": "code",
   "execution_count": null,
   "id": "7q7GaOzn0gUN",
   "metadata": {
    "id": "7q7GaOzn0gUN"
   },
   "outputs": [],
   "source": [
    "dirsync.sync(\"/content/drive/MyDrive/cars/val\",\n",
    "             \"/content/drive/MyDrive/data/val\",\n",
    "             action=\"sync\")"
   ]
  },
  {
   "cell_type": "code",
   "execution_count": null,
   "id": "bqWk0gHT6c3y",
   "metadata": {
    "id": "bqWk0gHT6c3y"
   },
   "outputs": [],
   "source": [
    "remain_colors = [color \n",
    "                 for color in os.listdir(base)\n",
    "                 if color not in os.listdir(\"/content/drive/MyDrive/data/train\")]"
   ]
  },
  {
   "cell_type": "code",
   "execution_count": null,
   "id": "ndD-6_rs-jsw",
   "metadata": {
    "colab": {
     "base_uri": "https://localhost:8080/"
    },
    "id": "ndD-6_rs-jsw",
    "outputId": "2815f99f-f230-4870-82b3-33c28192cb80"
   },
   "outputs": [],
   "source": [
    "for color in remain_colors:\n",
    "  src_dir = os.path.join(\"/content/drive/MyDrive/cars/train\", color)\n",
    "  dst_dir = os.path.join(\"/content/drive/MyDrive/data/train\", color) \n",
    "  os.makedirs(dst_dir, exist_ok=True)\n",
    "  for file in os.listdir(src_dir):\n",
    "    shutil.copyfile(os.path.join(src_dir, file), os.path.join(dst_dir, file))\n",
    "  print(color, \"is completed\")"
   ]
  }
 ],
 "metadata": {
  "colab": {
   "name": "Untitled.ipynb",
   "provenance": []
  },
  "kernelspec": {
   "display_name": "Python 3 (ipykernel)",
   "language": "python",
   "name": "python3"
  },
  "language_info": {
   "codemirror_mode": {
    "name": "ipython",
    "version": 3
   },
   "file_extension": ".py",
   "mimetype": "text/x-python",
   "name": "python",
   "nbconvert_exporter": "python",
   "pygments_lexer": "ipython3",
   "version": "3.8.10"
  }
 },
 "nbformat": 4,
 "nbformat_minor": 5
}
