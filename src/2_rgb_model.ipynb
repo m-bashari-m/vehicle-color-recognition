{
  "cells": [
    {
      "cell_type": "markdown",
      "metadata": {
        "id": "view-in-github",
        "colab_type": "text"
      },
      "source": [
        "<a href=\"https://colab.research.google.com/github/m-bashari-m/vehicle-color-recognition/blob/main/src/2_rgb_model.ipynb\" target=\"_parent\"><img src=\"https://colab.research.google.com/assets/colab-badge.svg\" alt=\"Open In Colab\"/></a>"
      ]
    },
    {
      "cell_type": "code",
      "execution_count": 1,
      "metadata": {
        "colab": {
          "base_uri": "https://localhost:8080/"
        },
        "id": "lo1t1tO9y6L4",
        "outputId": "cb11f5d2-2c8c-4b68-f8d5-b906edf77656"
      },
      "outputs": [
        {
          "output_type": "stream",
          "name": "stdout",
          "text": [
            "--2022-06-14 16:28:52--  https://raw.githubusercontent.com/m-bashari-m/vehicle-color-recognition/main/src/utils.py\n",
            "Resolving raw.githubusercontent.com (raw.githubusercontent.com)... 185.199.108.133, 185.199.109.133, 185.199.110.133, ...\n",
            "Connecting to raw.githubusercontent.com (raw.githubusercontent.com)|185.199.108.133|:443... connected.\n",
            "HTTP request sent, awaiting response... 200 OK\n",
            "Length: 11733 (11K) [text/plain]\n",
            "Saving to: ‘utils.py’\n",
            "\n",
            "utils.py            100%[===================>]  11.46K  --.-KB/s    in 0s      \n",
            "\n",
            "2022-06-14 16:28:52 (122 MB/s) - ‘utils.py’ saved [11733/11733]\n",
            "\n"
          ]
        }
      ],
      "source": [
        "# Prepare utils file\n",
        "\n",
        "!wget https://raw.githubusercontent.com/m-bashari-m/vehicle-color-recognition/main/src/utils.py"
      ]
    },
    {
      "cell_type": "code",
      "execution_count": 2,
      "metadata": {
        "colab": {
          "base_uri": "https://localhost:8080/"
        },
        "id": "bRdIPsPcp2OF",
        "outputId": "4bd136df-d64f-4616-e9c2-5a08cc515a97"
      },
      "outputs": [
        {
          "output_type": "stream",
          "name": "stdout",
          "text": [
            "Mounted at ./drive\n"
          ]
        }
      ],
      "source": [
        "from google.colab import drive\n",
        "drive.mount('./drive')"
      ]
    },
    {
      "cell_type": "code",
      "execution_count": 3,
      "metadata": {
        "id": "OqaOJQP4krhr"
      },
      "outputs": [],
      "source": [
        "import pandas as pd\n",
        "import numpy as np\n",
        "import os\n",
        "\n",
        "import tensorflow as tf\n",
        "from tensorflow import keras\n",
        "import tensorflow_hub as hub\n",
        "\n",
        "from utils import ModelCreator, get_train_val_ds, ErrorAnalyzer, get_class_weight"
      ]
    },
    {
      "cell_type": "code",
      "execution_count": 4,
      "metadata": {
        "id": "3b2ik0jzro3S"
      },
      "outputs": [],
      "source": [
        "BATCH_SIZE = 32\n",
        "IMG_SIZE = (256, 256)\n",
        "AUTOTUNE = tf.data.AUTOTUNE\n",
        "N_CLASSES = 16\n",
        "HUB_URL = 'https://tfhub.dev/google/bit/m-r50x1/1'"
      ]
    },
    {
      "cell_type": "code",
      "execution_count": 5,
      "metadata": {
        "id": "fdtpr6ZArLEQ"
      },
      "outputs": [],
      "source": [
        "dataset_dir = os.path.join('drive', 'MyDrive', 'cars')\n",
        "train_dir = os.path.join(dataset_dir, 'train')\n",
        "val_dir = os.path.join(dataset_dir, 'val')"
      ]
    },
    {
      "cell_type": "code",
      "execution_count": 6,
      "metadata": {
        "colab": {
          "base_uri": "https://localhost:8080/"
        },
        "id": "2Aqeb_chrbtm",
        "outputId": "5a56f972-1560-43dd-ac80-f2bfca99adf0"
      },
      "outputs": [
        {
          "output_type": "stream",
          "name": "stdout",
          "text": [
            "Found 17043 files belonging to 16 classes.\n",
            "Found 3495 files belonging to 16 classes.\n"
          ]
        }
      ],
      "source": [
        "# Get shuffled train and validation dataset with one-hot labels\n",
        "\n",
        "train_ds, val_ds = get_train_val_ds(train_dir, val_dir, batch_size=BATCH_SIZE, img_size=IMG_SIZE)"
      ]
    },
    {
      "cell_type": "code",
      "execution_count": 7,
      "metadata": {
        "id": "gDHgOmiOonos"
      },
      "outputs": [],
      "source": [
        "# Get class weights which have calculated from the previous notebook and stored in github\n",
        "\n",
        "classes, class_weight = get_class_weight()"
      ]
    },
    {
      "cell_type": "code",
      "execution_count": 8,
      "metadata": {
        "colab": {
          "base_uri": "https://localhost:8080/"
        },
        "id": "KUMoLJLRpBiS",
        "outputId": "bafa4f4b-3950-4a8c-d4c6-d24a89fe3b09"
      },
      "outputs": [
        {
          "output_type": "stream",
          "name": "stdout",
          "text": [
            "beige     \t=> 17.94\n",
            "black     \t=> 13.8\n",
            "blue     \t=> 15.47\n",
            "brown     \t=> 17.92\n",
            "cream     \t=> 56.81\n",
            "crimson     \t=> 76.43\n",
            "gold     \t=> 56.81\n",
            "green     \t=> 21.2\n",
            "grey     \t=> 12.41\n",
            "navy-blue     \t=> 58.77\n",
            "orange     \t=> 22.37\n",
            "red     \t=> 16.39\n",
            "silver     \t=> 20.17\n",
            "titanium     \t=> 56.81\n",
            "white     \t=> 2.97\n",
            "yellow     \t=> 20.68\n"
          ]
        }
      ],
      "source": [
        "for color, weight in zip(classes, class_weight.values()):\n",
        "  print(color, \"    \\t=>\", weight)"
      ]
    },
    {
      "cell_type": "code",
      "execution_count": 9,
      "metadata": {
        "id": "HTaqr5PL3RI5"
      },
      "outputs": [],
      "source": [
        "train_ds = (\n",
        "    train_ds.\n",
        "    map(lambda img, lbl: (img/255., lbl), num_parallel_calls=AUTOTUNE).\n",
        "    prefetch(AUTOTUNE))"
      ]
    },
    {
      "cell_type": "code",
      "execution_count": 10,
      "metadata": {
        "id": "jxQRFlkkwx97",
        "outputId": "76f1b253-c0d7-444d-f5eb-9f02c86f85f8",
        "colab": {
          "base_uri": "https://localhost:8080/"
        }
      },
      "outputs": [
        {
          "output_type": "stream",
          "name": "stdout",
          "text": [
            "Model: \"RGB-model\"\n",
            "_________________________________________________________________\n",
            " Layer (type)                Output Shape              Param #   \n",
            "=================================================================\n",
            " keras_layer (KerasLayer)    (None, 2048)              23500352  \n",
            "                                                                 \n",
            " dense (Dense)               (None, 16)                32784     \n",
            "                                                                 \n",
            "=================================================================\n",
            "Total params: 23,533,136\n",
            "Trainable params: 32,784\n",
            "Non-trainable params: 23,500,352\n",
            "_________________________________________________________________\n"
          ]
        }
      ],
      "source": [
        "rgb_creator = ModelCreator(HUB_URL, 'RGB-model')\n",
        "rgb_model = rgb_creator.make_model(img_size=IMG_SIZE)"
      ]
    },
    {
      "cell_type": "code",
      "source": [
        "# Callbacks are EarlyStopping and ModelCheckpoint\n",
        "\n",
        "callbacks = rgb_creator.get_callbacks()"
      ],
      "metadata": {
        "id": "jm7eCvLpb8CN"
      },
      "execution_count": 11,
      "outputs": []
    },
    {
      "cell_type": "code",
      "execution_count": 12,
      "metadata": {
        "colab": {
          "base_uri": "https://localhost:8080/"
        },
        "id": "0gnG_cv46Bqx",
        "outputId": "ffc224a0-3979-4731-8b67-f20898435ca3"
      },
      "outputs": [
        {
          "output_type": "stream",
          "name": "stdout",
          "text": [
            "Epoch 1/10\n",
            "533/533 [==============================] - 1922s 3s/step - loss: 115.5075 - auc: 0.5076 - accuracy: 0.6004\n",
            "Epoch 2/10\n",
            "533/533 [==============================] - 153s 285ms/step - loss: 72.1814 - auc: 0.6392 - accuracy: 0.7226\n",
            "Epoch 3/10\n",
            "533/533 [==============================] - 154s 286ms/step - loss: 59.3923 - auc: 0.6988 - accuracy: 0.7675\n",
            "Epoch 4/10\n",
            "533/533 [==============================] - 153s 286ms/step - loss: 54.1022 - auc: 0.7338 - accuracy: 0.7939\n",
            "Epoch 5/10\n",
            "533/533 [==============================] - 153s 285ms/step - loss: 45.7822 - auc: 0.7590 - accuracy: 0.8118\n",
            "Epoch 6/10\n",
            "533/533 [==============================] - 153s 286ms/step - loss: 39.0629 - auc: 0.7779 - accuracy: 0.8240\n",
            "Epoch 7/10\n",
            "533/533 [==============================] - 153s 286ms/step - loss: 32.1342 - auc: 0.8106 - accuracy: 0.8487\n",
            "Epoch 8/10\n",
            "533/533 [==============================] - 153s 285ms/step - loss: 25.9544 - auc: 0.8306 - accuracy: 0.8593\n",
            "Epoch 9/10\n",
            "533/533 [==============================] - 154s 287ms/step - loss: 23.3481 - auc: 0.8502 - accuracy: 0.8752\n",
            "Epoch 10/10\n",
            "533/533 [==============================] - 153s 286ms/step - loss: 21.0059 - auc: 0.8498 - accuracy: 0.8758\n"
          ]
        }
      ],
      "source": [
        "history = rgb_model.fit(train_ds,\n",
        "                        callbacks=callbacks,\n",
        "                        epochs=10,\n",
        "                        class_weight=class_weight)"
      ]
    },
    {
      "cell_type": "code",
      "source": [
        "history = rgb_model.fit(train_ds,\n",
        "                        callbacks=callbacks,\n",
        "                        epochs=25,\n",
        "                        initial_epoch=10,\n",
        "                        class_weight=class_weight)"
      ],
      "metadata": {
        "id": "iHuMHr4oQJ2D",
        "outputId": "9ecc36a3-d9b4-418a-c800-d32873ad288e",
        "colab": {
          "base_uri": "https://localhost:8080/"
        }
      },
      "execution_count": 13,
      "outputs": [
        {
          "output_type": "stream",
          "name": "stdout",
          "text": [
            "Epoch 11/25\n",
            "533/533 [==============================] - 154s 286ms/step - loss: 14.8086 - auc: 0.8846 - accuracy: 0.8963\n",
            "Epoch 12/25\n",
            "533/533 [==============================] - 153s 286ms/step - loss: 15.4249 - auc: 0.8774 - accuracy: 0.8910\n",
            "Epoch 13/25\n",
            "533/533 [==============================] - 153s 286ms/step - loss: 11.6201 - auc: 0.9081 - accuracy: 0.9116\n",
            "Epoch 14/25\n",
            "533/533 [==============================] - 154s 286ms/step - loss: 9.5923 - auc: 0.9162 - accuracy: 0.9149\n",
            "Epoch 15/25\n",
            "533/533 [==============================] - 153s 285ms/step - loss: 9.4777 - auc: 0.9153 - accuracy: 0.9153\n",
            "Epoch 16/25\n",
            "533/533 [==============================] - 153s 285ms/step - loss: 6.9022 - auc: 0.9325 - accuracy: 0.9289\n",
            "Epoch 17/25\n",
            "533/533 [==============================] - 154s 286ms/step - loss: 6.3071 - auc: 0.9396 - accuracy: 0.9332\n",
            "Epoch 18/25\n",
            "533/533 [==============================] - 154s 286ms/step - loss: 5.2822 - auc: 0.9488 - accuracy: 0.9396\n",
            "Epoch 19/25\n",
            "533/533 [==============================] - 154s 286ms/step - loss: 5.1156 - auc: 0.9496 - accuracy: 0.9387\n",
            "Epoch 20/25\n",
            "533/533 [==============================] - 154s 286ms/step - loss: 4.1312 - auc: 0.9595 - accuracy: 0.9470\n",
            "Epoch 21/25\n",
            "533/533 [==============================] - 153s 286ms/step - loss: 3.7612 - auc: 0.9598 - accuracy: 0.9496\n",
            "Epoch 22/25\n",
            "533/533 [==============================] - 154s 286ms/step - loss: 3.1217 - auc: 0.9689 - accuracy: 0.9572\n",
            "Epoch 23/25\n",
            "533/533 [==============================] - 154s 286ms/step - loss: 2.6668 - auc: 0.9727 - accuracy: 0.9589\n",
            "Epoch 24/25\n",
            "533/533 [==============================] - 153s 286ms/step - loss: 2.5626 - auc: 0.9747 - accuracy: 0.9614\n",
            "Epoch 25/25\n",
            "533/533 [==============================] - 154s 286ms/step - loss: 2.1749 - auc: 0.9783 - accuracy: 0.9659\n"
          ]
        }
      ]
    },
    {
      "cell_type": "code",
      "source": [
        "!cp ./logs/checkpoints/RGB-model-09.h5 ./drive/MyDrive/checkpoints/rgb-model-09.h5\n",
        "!cp ./logs/checkpoints/RGB-model-14.h5 ./drive/MyDrive/checkpoints/rgb-model-14.h5\n",
        "!cp ./logs/checkpoints/RGB-model-20.h5 ./drive/MyDrive/checkpoints/rgb-model-20.h5\n",
        "!cp ./logs/checkpoints/RGB-model-25.h5 ./drive/MyDrive/checkpoints/rgb-model-25.h5"
      ],
      "metadata": {
        "id": "LjYSD1a-PK5U"
      },
      "execution_count": 14,
      "outputs": []
    },
    {
      "cell_type": "code",
      "source": [
        "history = rgb_model.fit(train_ds,\n",
        "                        callbacks=callbacks,\n",
        "                        epochs=30,\n",
        "                        initial_epoch=25,\n",
        "                        class_weight=class_weight)"
      ],
      "metadata": {
        "id": "Z36LYdqja1Bs",
        "outputId": "ff943f18-0455-4537-ef9a-8ff75145e0ae",
        "colab": {
          "base_uri": "https://localhost:8080/"
        }
      },
      "execution_count": 16,
      "outputs": [
        {
          "output_type": "stream",
          "name": "stdout",
          "text": [
            "Epoch 26/30\n",
            "533/533 [==============================] - 154s 287ms/step - loss: 1.8642 - auc: 0.9818 - accuracy: 0.9707\n",
            "Epoch 27/30\n",
            "533/533 [==============================] - 154s 286ms/step - loss: 1.6816 - auc: 0.9842 - accuracy: 0.9700\n",
            "Epoch 28/30\n",
            "533/533 [==============================] - 154s 286ms/step - loss: 1.4025 - auc: 0.9866 - accuracy: 0.9741\n",
            "Epoch 29/30\n",
            "533/533 [==============================] - 154s 286ms/step - loss: 1.2972 - auc: 0.9880 - accuracy: 0.9750\n",
            "Epoch 30/30\n",
            "533/533 [==============================] - 154s 287ms/step - loss: 1.1723 - auc: 0.9891 - accuracy: 0.9782\n"
          ]
        }
      ]
    },
    {
      "cell_type": "code",
      "source": [
        "!cp ./logs/checkpoints/RGB-model-30.h5 ./drive/MyDrive/checkpoints/rgb-model-30.h5"
      ],
      "metadata": {
        "id": "J48AzG6fdwcS"
      },
      "execution_count": 18,
      "outputs": []
    }
  ],
  "metadata": {
    "accelerator": "GPU",
    "colab": {
      "name": "rgb_model.ipynb",
      "provenance": [],
      "include_colab_link": true
    },
    "kernelspec": {
      "display_name": "Python 3 (ipykernel)",
      "language": "python",
      "name": "python3"
    },
    "language_info": {
      "codemirror_mode": {
        "name": "ipython",
        "version": 3
      },
      "file_extension": ".py",
      "mimetype": "text/x-python",
      "name": "python",
      "nbconvert_exporter": "python",
      "pygments_lexer": "ipython3",
      "version": "3.8.10"
    }
  },
  "nbformat": 4,
  "nbformat_minor": 0
}