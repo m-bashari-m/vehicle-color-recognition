{
  "cells": [
    {
      "cell_type": "markdown",
      "metadata": {
        "id": "view-in-github",
        "colab_type": "text"
      },
      "source": [
        "<a href=\"https://colab.research.google.com/github/m-bashari-m/vehicle-color-recognition/blob/main/src/rgb_model.ipynb\" target=\"_parent\"><img src=\"https://colab.research.google.com/assets/colab-badge.svg\" alt=\"Open In Colab\"/></a>"
      ]
    },
    {
      "cell_type": "code",
      "execution_count": 17,
      "metadata": {
        "colab": {
          "base_uri": "https://localhost:8080/"
        },
        "id": "lo1t1tO9y6L4",
        "outputId": "5d1a2e91-e675-476e-c146-a2f34e87cc62"
      },
      "outputs": [
        {
          "output_type": "stream",
          "name": "stdout",
          "text": [
            "--2022-06-04 20:19:32--  https://raw.githubusercontent.com/m-bashari-m/vehicle-color-recognition/main/src/utils.py\n",
            "Resolving raw.githubusercontent.com (raw.githubusercontent.com)... 185.199.108.133, 185.199.109.133, 185.199.110.133, ...\n",
            "Connecting to raw.githubusercontent.com (raw.githubusercontent.com)|185.199.108.133|:443... connected.\n",
            "HTTP request sent, awaiting response... 200 OK\n",
            "Length: 9943 (9.7K) [text/plain]\n",
            "Saving to: ‘utils.py.2’\n",
            "\n",
            "\rutils.py.2            0%[                    ]       0  --.-KB/s               \rutils.py.2          100%[===================>]   9.71K  --.-KB/s    in 0s      \n",
            "\n",
            "2022-06-04 20:19:32 (92.4 MB/s) - ‘utils.py.2’ saved [9943/9943]\n",
            "\n"
          ]
        }
      ],
      "source": [
        "# Prepare utils file\n",
        "\n",
        "!wget https://raw.githubusercontent.com/m-bashari-m/vehicle-color-recognition/main/src/utils.py"
      ]
    },
    {
      "cell_type": "code",
      "execution_count": 2,
      "metadata": {
        "colab": {
          "base_uri": "https://localhost:8080/"
        },
        "id": "bRdIPsPcp2OF",
        "outputId": "94b62ea9-6ef1-48ef-b8bd-e071d60b4790"
      },
      "outputs": [
        {
          "output_type": "stream",
          "name": "stdout",
          "text": [
            "Drive already mounted at ./drive; to attempt to forcibly remount, call drive.mount(\"./drive\", force_remount=True).\n"
          ]
        }
      ],
      "source": [
        "from google.colab import drive\n",
        "drive.mount('./drive')"
      ]
    },
    {
      "cell_type": "code",
      "execution_count": 3,
      "metadata": {
        "id": "OqaOJQP4krhr"
      },
      "outputs": [],
      "source": [
        "import pandas as pd\n",
        "import numpy as np\n",
        "import os\n",
        "\n",
        "import tensorflow as tf\n",
        "from tensorflow import keras\n",
        "import tensorflow_hub as hub\n",
        "\n",
        "from utils import ModelCreator, get_train_val_ds, ErrorAnalyzer, get_class_weight"
      ]
    },
    {
      "cell_type": "code",
      "execution_count": 4,
      "metadata": {
        "id": "3b2ik0jzro3S"
      },
      "outputs": [],
      "source": [
        "BATCH_SIZE = 32\n",
        "IMG_SIZE = (256, 256)\n",
        "AUTOTUNE = tf.data.AUTOTUNE\n",
        "N_CLASSES = 16\n",
        "HUB_URL = 'https://tfhub.dev/google/bit/m-r50x1/1'"
      ]
    },
    {
      "cell_type": "code",
      "execution_count": 5,
      "metadata": {
        "id": "fdtpr6ZArLEQ"
      },
      "outputs": [],
      "source": [
        "dataset_dir = os.path.join('drive', 'MyDrive', 'cars')\n",
        "train_dir = os.path.join(dataset_dir, 'train')\n",
        "val_dir = os.path.join(dataset_dir, 'val')"
      ]
    },
    {
      "cell_type": "code",
      "execution_count": 6,
      "metadata": {
        "colab": {
          "base_uri": "https://localhost:8080/"
        },
        "id": "2Aqeb_chrbtm",
        "outputId": "41d469b6-c5b2-4a54-d9f5-6c89d995f8b1"
      },
      "outputs": [
        {
          "output_type": "stream",
          "name": "stdout",
          "text": [
            "Found 17043 files belonging to 16 classes.\n",
            "Found 3495 files belonging to 16 classes.\n"
          ]
        }
      ],
      "source": [
        "# Get shuffled train and validation dataset with one-hot labels\n",
        "\n",
        "train_ds, val_ds = get_train_val_ds(train_dir, val_dir, batch_size=BATCH_SIZE, img_size=IMG_SIZE)"
      ]
    },
    {
      "cell_type": "code",
      "execution_count": 7,
      "metadata": {
        "id": "gDHgOmiOonos"
      },
      "outputs": [],
      "source": [
        "# Get class weights which have calculated from the previous notebook and stored in github\n",
        "\n",
        "classes, class_weight = get_class_weight()"
      ]
    },
    {
      "cell_type": "code",
      "execution_count": null,
      "metadata": {
        "colab": {
          "base_uri": "https://localhost:8080/"
        },
        "id": "KUMoLJLRpBiS",
        "outputId": "a29cdecf-b0b5-41a8-f76b-4b20bccaef62"
      },
      "outputs": [
        {
          "output_type": "stream",
          "name": "stdout",
          "text": [
            "beige     \t=> 17.94\n",
            "black     \t=> 13.8\n",
            "blue     \t=> 15.47\n",
            "brown     \t=> 17.92\n",
            "cream     \t=> 56.81\n",
            "crimson     \t=> 76.43\n",
            "gold     \t=> 56.81\n",
            "green     \t=> 21.2\n",
            "grey     \t=> 12.41\n",
            "navy-blue     \t=> 58.77\n",
            "orange     \t=> 22.37\n",
            "red     \t=> 16.39\n",
            "silver     \t=> 20.17\n",
            "titanium     \t=> 56.81\n",
            "white     \t=> 2.97\n",
            "yellow     \t=> 20.68\n"
          ]
        }
      ],
      "source": [
        "for color, weight in zip(classes, class_weight.values()):\n",
        "  print(color, \"    \\t=>\", weight)"
      ]
    },
    {
      "cell_type": "code",
      "execution_count": 8,
      "metadata": {
        "id": "HTaqr5PL3RI5"
      },
      "outputs": [],
      "source": [
        "train_ds = (\n",
        "    train_ds.\n",
        "    map(lambda img, lbl: (img/255., lbl), num_parallel_calls=AUTOTUNE).\n",
        "    prefetch(AUTOTUNE))\n",
        "\n",
        "val_ds = (\n",
        "    val_ds.\n",
        "    map(lambda img, lbl: (img/255., lbl), num_parallel_calls=AUTOTUNE).\n",
        "    prefetch(AUTOTUNE))"
      ]
    },
    {
      "cell_type": "code",
      "execution_count": 9,
      "metadata": {
        "id": "jxQRFlkkwx97",
        "outputId": "0c539c14-13ae-490f-fb67-e1ecf26339e2",
        "colab": {
          "base_uri": "https://localhost:8080/"
        }
      },
      "outputs": [
        {
          "output_type": "stream",
          "name": "stdout",
          "text": [
            "Model: \"RGB-model\"\n",
            "_________________________________________________________________\n",
            " Layer (type)                Output Shape              Param #   \n",
            "=================================================================\n",
            " keras_layer (KerasLayer)    (None, 2048)              23500352  \n",
            "                                                                 \n",
            " dense (Dense)               (None, 600)               1229400   \n",
            "                                                                 \n",
            " dropout (Dropout)           (None, 600)               0         \n",
            "                                                                 \n",
            " dense_1 (Dense)             (None, 16)                9616      \n",
            "                                                                 \n",
            "=================================================================\n",
            "Total params: 24,739,368\n",
            "Trainable params: 1,239,016\n",
            "Non-trainable params: 23,500,352\n",
            "_________________________________________________________________\n"
          ]
        }
      ],
      "source": [
        "rgb_creator = ModelCreator(HUB_URL, 'RGB-model')\n",
        "rgb_model = rgb_creator.make_model(img_size=IMG_SIZE)"
      ]
    },
    {
      "cell_type": "code",
      "source": [
        "# Callbacks are EarlyStopping and ModelCheckpoint\n",
        "\n",
        "callbacks = rgb_creator.get_callbacks()"
      ],
      "metadata": {
        "id": "jm7eCvLpb8CN"
      },
      "execution_count": 11,
      "outputs": []
    },
    {
      "cell_type": "code",
      "execution_count": 12,
      "metadata": {
        "colab": {
          "base_uri": "https://localhost:8080/"
        },
        "id": "0gnG_cv46Bqx",
        "outputId": "63ec2532-ed9e-4361-9db3-bd6f20f9f8cb"
      },
      "outputs": [
        {
          "output_type": "stream",
          "name": "stdout",
          "text": [
            "Epoch 1/25\n",
            "533/533 [==============================] - 887s 2s/step - loss: 1308.8171 - auc: 0.3715 - accuracy: 0.5508\n",
            "Epoch 2/25\n",
            "533/533 [==============================] - 150s 280ms/step - loss: 1606.4363 - auc: 0.4800 - accuracy: 0.6528\n",
            "Epoch 3/25\n",
            "533/533 [==============================] - 150s 279ms/step - loss: 1412.0343 - auc: 0.5455 - accuracy: 0.7049\n",
            "Epoch 4/25\n",
            "533/533 [==============================] - 150s 279ms/step - loss: 1189.2980 - auc: 0.5785 - accuracy: 0.7301\n",
            "Epoch 5/25\n",
            "533/533 [==============================] - 150s 279ms/step - loss: 966.5636 - auc: 0.5965 - accuracy: 0.7438\n",
            "Epoch 6/25\n",
            "533/533 [==============================] - 150s 279ms/step - loss: 861.8098 - auc: 0.6318 - accuracy: 0.7689\n",
            "Epoch 7/25\n",
            "533/533 [==============================] - 150s 279ms/step - loss: 630.7585 - auc: 0.6610 - accuracy: 0.7881\n",
            "Epoch 8/25\n",
            "533/533 [==============================] - 150s 280ms/step - loss: 497.4027 - auc: 0.6842 - accuracy: 0.8041\n",
            "Epoch 9/25\n",
            "533/533 [==============================] - 150s 280ms/step - loss: 476.6058 - auc: 0.6844 - accuracy: 0.8036\n",
            "Epoch 10/25\n",
            "533/533 [==============================] - 150s 279ms/step - loss: 389.9176 - auc: 0.7090 - accuracy: 0.8186\n",
            "Epoch 11/25\n",
            "533/533 [==============================] - 150s 279ms/step - loss: 331.3966 - auc: 0.7230 - accuracy: 0.8287\n",
            "Epoch 12/25\n",
            "533/533 [==============================] - 150s 280ms/step - loss: 309.6252 - auc: 0.7269 - accuracy: 0.8298\n",
            "Epoch 13/25\n",
            "533/533 [==============================] - 150s 279ms/step - loss: 248.5613 - auc: 0.7510 - accuracy: 0.8457\n",
            "Epoch 14/25\n",
            "533/533 [==============================] - 150s 279ms/step - loss: 203.7742 - auc: 0.7665 - accuracy: 0.8541\n",
            "Epoch 15/25\n",
            "533/533 [==============================] - 150s 279ms/step - loss: 189.7763 - auc: 0.7591 - accuracy: 0.8512\n",
            "Epoch 16/25\n",
            "533/533 [==============================] - 150s 280ms/step - loss: 159.1818 - auc: 0.7781 - accuracy: 0.8617\n",
            "Epoch 17/25\n",
            "533/533 [==============================] - 150s 280ms/step - loss: 141.1236 - auc: 0.7875 - accuracy: 0.8686\n",
            "Epoch 18/25\n",
            "533/533 [==============================] - 150s 279ms/step - loss: 121.1218 - auc: 0.7930 - accuracy: 0.8697\n",
            "Epoch 19/25\n",
            "533/533 [==============================] - 150s 279ms/step - loss: 105.9930 - auc: 0.8072 - accuracy: 0.8782\n",
            "Epoch 20/25\n",
            "533/533 [==============================] - 150s 279ms/step - loss: 95.4077 - auc: 0.8123 - accuracy: 0.8809\n",
            "Epoch 21/25\n",
            "533/533 [==============================] - 150s 279ms/step - loss: 78.6215 - auc: 0.8294 - accuracy: 0.8926\n",
            "Epoch 22/25\n",
            "533/533 [==============================] - 149s 278ms/step - loss: 73.8822 - auc: 0.8263 - accuracy: 0.8895\n",
            "Epoch 23/25\n",
            "533/533 [==============================] - 150s 279ms/step - loss: 66.7648 - auc: 0.8392 - accuracy: 0.8951\n",
            "Epoch 24/25\n",
            "533/533 [==============================] - 150s 279ms/step - loss: 57.0174 - auc: 0.8509 - accuracy: 0.9030\n",
            "Epoch 25/25\n",
            "533/533 [==============================] - 150s 279ms/step - loss: 47.5186 - auc: 0.8558 - accuracy: 0.9060\n"
          ]
        }
      ],
      "source": [
        "history = rgb_model.fit(train_ds,\n",
        "                        callbacks=callbacks,\n",
        "                        epochs=25,\n",
        "                        class_weight=class_weight)"
      ]
    },
    {
      "cell_type": "code",
      "source": [
        "rgb_model.save('./drive/MyDrive/checkpoints/rgb-model-25.h5')"
      ],
      "metadata": {
        "id": "LjYSD1a-PK5U"
      },
      "execution_count": 13,
      "outputs": []
    },
    {
      "cell_type": "markdown",
      "source": [
        "# ***Second*** day"
      ],
      "metadata": {
        "id": "P9pa1MwFYfGD"
      }
    },
    {
      "cell_type": "code",
      "source": [
        "rgb_model = tf.keras.models.load_model('./drive/MyDrive/checkpoints/rgb-model-25.h5',\n",
        "                                        custom_objects={'KerasLayer':hub.KerasLayer})"
      ],
      "metadata": {
        "id": "ZaC5-IwKYeXw"
      },
      "execution_count": null,
      "outputs": []
    },
    {
      "cell_type": "code",
      "source": [
        "analyzer = ErrorAnalyzer(model=rgb_model,\n",
        "                         model_name='RGB-model-1',\n",
        "                         ds=val_ds,\n",
        "                         classes=classes)"
      ],
      "metadata": {
        "id": "KoR1xPKVa9MB",
        "outputId": "1ade508a-509d-4fc9-d2e1-dc121b8b34f1",
        "colab": {
          "base_uri": "https://localhost:8080/",
          "height": 84,
          "referenced_widgets": [
            "724093ac3098421ca316d5f766f49d3e",
            "e8ef785178894ed49c61c8ad7a90ff3f",
            "923d68f0b13f4543ab13f753ebfdcf2a",
            "e2041078493d4c41b656d491d051926d",
            "82ec2be49a6342d3a1850a1c974ab535",
            "edaa5b33a62d4fba812cca2b456ff86c",
            "f868dff24d5c4750844d355add51ab50",
            "cce91f48ab394198a4f6741e85d4e996",
            "0f1af323c77146828ec4ebba224bf060",
            "e1711dbccf4d405db3f67890ed5af1b6",
            "210fa440b5704b71bcd0ceb9175509a2"
          ]
        }
      },
      "execution_count": 19,
      "outputs": [
        {
          "output_type": "stream",
          "name": "stdout",
          "text": [
            "Making confusion matrix:\n"
          ]
        },
        {
          "output_type": "display_data",
          "data": {
            "text/plain": [
              "  0%|          | 0/55 [00:00<?, ?it/s]"
            ],
            "application/vnd.jupyter.widget-view+json": {
              "version_major": 2,
              "version_minor": 0,
              "model_id": "724093ac3098421ca316d5f766f49d3e"
            }
          },
          "metadata": {}
        },
        {
          "output_type": "stream",
          "name": "stdout",
          "text": [
            "Saving confusion matrix\n"
          ]
        }
      ]
    },
    {
      "cell_type": "code",
      "execution_count": 20,
      "metadata": {
        "id": "KPBix5cPieer",
        "outputId": "9fab0e9f-f780-479b-cc1d-fbb80c76ead2",
        "colab": {
          "base_uri": "https://localhost:8080/",
          "height": 645
        }
      },
      "outputs": [
        {
          "output_type": "display_data",
          "data": {
            "text/plain": [
              "<Figure size 720x720 with 2 Axes>"
            ],
            "image/png": "[encoded data removed]"
          },
          "metadata": {
            "needs_background": "light"
          }
        }
      ],
      "source": [
        "analyzer.plot_confusion_mat()"
      ]
    },
    {
      "cell_type": "code",
      "execution_count": null,
      "metadata": {
        "id": "C_m7LmTEigoO"
      },
      "outputs": [],
      "source": [
        "analyzer.evaluate_model()"
      ]
    },
    {
      "cell_type": "code",
      "source": [
        "history = rgb_model.fit(train_ds,\n",
        "                        callbacks=callbacks,\n",
        "                        epochs=35,\n",
        "                        initial_epoch=25,\n",
        "                        class_weight=class_weight)"
      ],
      "metadata": {
        "id": "u5jsnuV8b1U7",
        "outputId": "09d0d587-58a9-4e44-b309-8912cea292af",
        "colab": {
          "base_uri": "https://localhost:8080/"
        }
      },
      "execution_count": null,
      "outputs": [
        {
          "output_type": "stream",
          "name": "stdout",
          "text": [
            "Epoch 16/25\n",
            "533/533 [==============================] - 151s 281ms/step - loss: 39.2574 - auc: 0.8381 - accuracy: 0.8857\n",
            "Epoch 17/25\n",
            "533/533 [==============================] - 150s 280ms/step - loss: 33.9198 - auc: 0.8501 - accuracy: 0.8902\n",
            "Epoch 18/25\n",
            "533/533 [==============================] - 151s 281ms/step - loss: 28.4424 - auc: 0.8596 - accuracy: 0.8960\n",
            "Epoch 19/25\n",
            "533/533 [==============================] - 150s 280ms/step - loss: 24.2731 - auc: 0.8698 - accuracy: 0.9004\n",
            "Epoch 20/25\n",
            "533/533 [==============================] - 150s 280ms/step - loss: 21.8002 - auc: 0.8768 - accuracy: 0.9044\n",
            "Epoch 21/25\n",
            "533/533 [==============================] - 151s 281ms/step - loss: 19.3043 - auc: 0.8877 - accuracy: 0.9081\n",
            "Epoch 22/25\n",
            "533/533 [==============================] - 150s 280ms/step - loss: 17.8724 - auc: 0.8884 - accuracy: 0.9111\n",
            "Epoch 23/25\n",
            "533/533 [==============================] - 150s 280ms/step - loss: 16.0079 - auc: 0.8918 - accuracy: 0.9093\n",
            "Epoch 24/25\n",
            "533/533 [==============================] - 151s 281ms/step - loss: 15.6954 - auc: 0.8957 - accuracy: 0.9102\n",
            "Epoch 25/25\n",
            "533/533 [==============================] - 150s 280ms/step - loss: 14.0051 - auc: 0.9016 - accuracy: 0.9137\n"
          ]
        }
      ]
    },
    {
      "cell_type": "code",
      "source": [
        "rgb_model.save('./drive/MyDrive/checkpoints/rgb-model-35.h5')"
      ],
      "metadata": {
        "id": "Vjs0LeD37JX7"
      },
      "execution_count": null,
      "outputs": []
    },
    {
      "cell_type": "code",
      "source": [
        "analyzer = ErrorAnalyzer(model=rgb_model,\n",
        "                         model_name='RGB-model-2',\n",
        "                         ds=val_ds,\n",
        "                         classes=classes)\n",
        "\n",
        "analyzer.plot_confusion_mat()\n",
        "analyzer.evaluate_model()"
      ],
      "metadata": {
        "id": "xIBRD-sN68-B"
      },
      "execution_count": null,
      "outputs": []
    }
  ],
  "metadata": {
    "accelerator": "GPU",
    "colab": {
      "name": "rgb_model.ipynb",
      "provenance": [],
      "include_colab_link": true
    },
    "kernelspec": {
      "display_name": "Python 3 (ipykernel)",
      "language": "python",
      "name": "python3"
    },
    "language_info": {
      "codemirror_mode": {
        "name": "ipython",
        "version": 3
      },
      "file_extension": ".py",
      "mimetype": "text/x-python",
      "name": "python",
      "nbconvert_exporter": "python",
      "pygments_lexer": "ipython3",
      "version": "3.8.10"
    },
    "widgets": {
      "application/vnd.jupyter.widget-state+json": {
        "724093ac3098421ca316d5f766f49d3e": {
          "model_module": "@jupyter-widgets/controls",
          "model_name": "HBoxModel",
          "model_module_version": "1.5.0",
          "state": {
            "_dom_classes": [],
            "_model_module": "@jupyter-widgets/controls",
            "_model_module_version": "1.5.0",
            "_model_name": "HBoxModel",
            "_view_count": null,
            "_view_module": "@jupyter-widgets/controls",
            "_view_module_version": "1.5.0",
            "_view_name": "HBoxView",
            "box_style": "",
            "children": [
              "IPY_MODEL_e8ef785178894ed49c61c8ad7a90ff3f",
              "IPY_MODEL_923d68f0b13f4543ab13f753ebfdcf2a",
              "IPY_MODEL_e2041078493d4c41b656d491d051926d"
            ],
            "layout": "IPY_MODEL_82ec2be49a6342d3a1850a1c974ab535"
          }
        },
        "e8ef785178894ed49c61c8ad7a90ff3f": {
          "model_module": "@jupyter-widgets/controls",
          "model_name": "HTMLModel",
          "model_module_version": "1.5.0",
          "state": {
            "_dom_classes": [],
            "_model_module": "@jupyter-widgets/controls",
            "_model_module_version": "1.5.0",
            "_model_name": "HTMLModel",
            "_view_count": null,
            "_view_module": "@jupyter-widgets/controls",
            "_view_module_version": "1.5.0",
            "_view_name": "HTMLView",
            "description": "",
            "description_tooltip": null,
            "layout": "IPY_MODEL_edaa5b33a62d4fba812cca2b456ff86c",
            "placeholder": "​",
            "style": "IPY_MODEL_f868dff24d5c4750844d355add51ab50",
            "value": "100%"
          }
        },
        "923d68f0b13f4543ab13f753ebfdcf2a": {
          "model_module": "@jupyter-widgets/controls",
          "model_name": "FloatProgressModel",
          "model_module_version": "1.5.0",
          "state": {
            "_dom_classes": [],
            "_model_module": "@jupyter-widgets/controls",
            "_model_module_version": "1.5.0",
            "_model_name": "FloatProgressModel",
            "_view_count": null,
            "_view_module": "@jupyter-widgets/controls",
            "_view_module_version": "1.5.0",
            "_view_name": "ProgressView",
            "bar_style": "success",
            "description": "",
            "description_tooltip": null,
            "layout": "IPY_MODEL_cce91f48ab394198a4f6741e85d4e996",
            "max": 55,
            "min": 0,
            "orientation": "horizontal",
            "style": "IPY_MODEL_0f1af323c77146828ec4ebba224bf060",
            "value": 55
          }
        },
        "e2041078493d4c41b656d491d051926d": {
          "model_module": "@jupyter-widgets/controls",
          "model_name": "HTMLModel",
          "model_module_version": "1.5.0",
          "state": {
            "_dom_classes": [],
            "_model_module": "@jupyter-widgets/controls",
            "_model_module_version": "1.5.0",
            "_model_name": "HTMLModel",
            "_view_count": null,
            "_view_module": "@jupyter-widgets/controls",
            "_view_module_version": "1.5.0",
            "_view_name": "HTMLView",
            "description": "",
            "description_tooltip": null,
            "layout": "IPY_MODEL_e1711dbccf4d405db3f67890ed5af1b6",
            "placeholder": "​",
            "style": "IPY_MODEL_210fa440b5704b71bcd0ceb9175509a2",
            "value": " 55/55 [00:31&lt;00:00,  2.16it/s]"
          }
        },
        "82ec2be49a6342d3a1850a1c974ab535": {
          "model_module": "@jupyter-widgets/base",
          "model_name": "LayoutModel",
          "model_module_version": "1.2.0",
          "state": {
            "_model_module": "@jupyter-widgets/base",
            "_model_module_version": "1.2.0",
            "_model_name": "LayoutModel",
            "_view_count": null,
            "_view_module": "@jupyter-widgets/base",
            "_view_module_version": "1.2.0",
            "_view_name": "LayoutView",
            "align_content": null,
            "align_items": null,
            "align_self": null,
            "border": null,
            "bottom": null,
            "display": null,
            "flex": null,
            "flex_flow": null,
            "grid_area": null,
            "grid_auto_columns": null,
            "grid_auto_flow": null,
            "grid_auto_rows": null,
            "grid_column": null,
            "grid_gap": null,
            "grid_row": null,
            "grid_template_areas": null,
            "grid_template_columns": null,
            "grid_template_rows": null,
            "height": null,
            "justify_content": null,
            "justify_items": null,
            "left": null,
            "margin": null,
            "max_height": null,
            "max_width": null,
            "min_height": null,
            "min_width": null,
            "object_fit": null,
            "object_position": null,
            "order": null,
            "overflow": null,
            "overflow_x": null,
            "overflow_y": null,
            "padding": null,
            "right": null,
            "top": null,
            "visibility": null,
            "width": null
          }
        },
        "edaa5b33a62d4fba812cca2b456ff86c": {
          "model_module": "@jupyter-widgets/base",
          "model_name": "LayoutModel",
          "model_module_version": "1.2.0",
          "state": {
            "_model_module": "@jupyter-widgets/base",
            "_model_module_version": "1.2.0",
            "_model_name": "LayoutModel",
            "_view_count": null,
            "_view_module": "@jupyter-widgets/base",
            "_view_module_version": "1.2.0",
            "_view_name": "LayoutView",
            "align_content": null,
            "align_items": null,
            "align_self": null,
            "border": null,
            "bottom": null,
            "display": null,
            "flex": null,
            "flex_flow": null,
            "grid_area": null,
            "grid_auto_columns": null,
            "grid_auto_flow": null,
            "grid_auto_rows": null,
            "grid_column": null,
            "grid_gap": null,
            "grid_row": null,
            "grid_template_areas": null,
            "grid_template_columns": null,
            "grid_template_rows": null,
            "height": null,
            "justify_content": null,
            "justify_items": null,
            "left": null,
            "margin": null,
            "max_height": null,
            "max_width": null,
            "min_height": null,
            "min_width": null,
            "object_fit": null,
            "object_position": null,
            "order": null,
            "overflow": null,
            "overflow_x": null,
            "overflow_y": null,
            "padding": null,
            "right": null,
            "top": null,
            "visibility": null,
            "width": null
          }
        },
        "f868dff24d5c4750844d355add51ab50": {
          "model_module": "@jupyter-widgets/controls",
          "model_name": "DescriptionStyleModel",
          "model_module_version": "1.5.0",
          "state": {
            "_model_module": "@jupyter-widgets/controls",
            "_model_module_version": "1.5.0",
            "_model_name": "DescriptionStyleModel",
            "_view_count": null,
            "_view_module": "@jupyter-widgets/base",
            "_view_module_version": "1.2.0",
            "_view_name": "StyleView",
            "description_width": ""
          }
        },
        "cce91f48ab394198a4f6741e85d4e996": {
          "model_module": "@jupyter-widgets/base",
          "model_name": "LayoutModel",
          "model_module_version": "1.2.0",
          "state": {
            "_model_module": "@jupyter-widgets/base",
            "_model_module_version": "1.2.0",
            "_model_name": "LayoutModel",
            "_view_count": null,
            "_view_module": "@jupyter-widgets/base",
            "_view_module_version": "1.2.0",
            "_view_name": "LayoutView",
            "align_content": null,
            "align_items": null,
            "align_self": null,
            "border": null,
            "bottom": null,
            "display": null,
            "flex": null,
            "flex_flow": null,
            "grid_area": null,
            "grid_auto_columns": null,
            "grid_auto_flow": null,
            "grid_auto_rows": null,
            "grid_column": null,
            "grid_gap": null,
            "grid_row": null,
            "grid_template_areas": null,
            "grid_template_columns": null,
            "grid_template_rows": null,
            "height": null,
            "justify_content": null,
            "justify_items": null,
            "left": null,
            "margin": null,
            "max_height": null,
            "max_width": null,
            "min_height": null,
            "min_width": null,
            "object_fit": null,
            "object_position": null,
            "order": null,
            "overflow": null,
            "overflow_x": null,
            "overflow_y": null,
            "padding": null,
            "right": null,
            "top": null,
            "visibility": null,
            "width": null
          }
        },
        "0f1af323c77146828ec4ebba224bf060": {
          "model_module": "@jupyter-widgets/controls",
          "model_name": "ProgressStyleModel",
          "model_module_version": "1.5.0",
          "state": {
            "_model_module": "@jupyter-widgets/controls",
            "_model_module_version": "1.5.0",
            "_model_name": "ProgressStyleModel",
            "_view_count": null,
            "_view_module": "@jupyter-widgets/base",
            "_view_module_version": "1.2.0",
            "_view_name": "StyleView",
            "bar_color": null,
            "description_width": ""
          }
        },
        "e1711dbccf4d405db3f67890ed5af1b6": {
          "model_module": "@jupyter-widgets/base",
          "model_name": "LayoutModel",
          "model_module_version": "1.2.0",
          "state": {
            "_model_module": "@jupyter-widgets/base",
            "_model_module_version": "1.2.0",
            "_model_name": "LayoutModel",
            "_view_count": null,
            "_view_module": "@jupyter-widgets/base",
            "_view_module_version": "1.2.0",
            "_view_name": "LayoutView",
            "align_content": null,
            "align_items": null,
            "align_self": null,
            "border": null,
            "bottom": null,
            "display": null,
            "flex": null,
            "flex_flow": null,
            "grid_area": null,
            "grid_auto_columns": null,
            "grid_auto_flow": null,
            "grid_auto_rows": null,
            "grid_column": null,
            "grid_gap": null,
            "grid_row": null,
            "grid_template_areas": null,
            "grid_template_columns": null,
            "grid_template_rows": null,
            "height": null,
            "justify_content": null,
            "justify_items": null,
            "left": null,
            "margin": null,
            "max_height": null,
            "max_width": null,
            "min_height": null,
            "min_width": null,
            "object_fit": null,
            "object_position": null,
            "order": null,
            "overflow": null,
            "overflow_x": null,
            "overflow_y": null,
            "padding": null,
            "right": null,
            "top": null,
            "visibility": null,
            "width": null
          }
        },
        "210fa440b5704b71bcd0ceb9175509a2": {
          "model_module": "@jupyter-widgets/controls",
          "model_name": "DescriptionStyleModel",
          "model_module_version": "1.5.0",
          "state": {
            "_model_module": "@jupyter-widgets/controls",
            "_model_module_version": "1.5.0",
            "_model_name": "DescriptionStyleModel",
            "_view_count": null,
            "_view_module": "@jupyter-widgets/base",
            "_view_module_version": "1.2.0",
            "_view_name": "StyleView",
            "description_width": ""
          }
        }
      }
    }
  },
  "nbformat": 4,
  "nbformat_minor": 0
}