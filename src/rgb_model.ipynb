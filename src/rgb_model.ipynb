{
  "cells": [
    {
      "cell_type": "markdown",
      "metadata": {
        "id": "view-in-github",
        "colab_type": "text"
      },
      "source": [
        "<a href=\"https://colab.research.google.com/github/m-bashari-m/vehicle-color-recognition/blob/main/src/rgb_model.ipynb\" target=\"_parent\"><img src=\"https://colab.research.google.com/assets/colab-badge.svg\" alt=\"Open In Colab\"/></a>"
      ]
    },
    {
      "cell_type": "code",
      "execution_count": 1,
      "metadata": {
        "colab": {
          "base_uri": "https://localhost:8080/"
        },
        "id": "lo1t1tO9y6L4",
        "outputId": "ab338846-7339-4b18-c21a-96b23edc56c9"
      },
      "outputs": [
        {
          "output_type": "stream",
          "name": "stdout",
          "text": [
            "--2022-06-03 17:31:23--  https://raw.githubusercontent.com/m-bashari-m/vehicle-color-recognition/main/src/utils.py\n",
            "Resolving raw.githubusercontent.com (raw.githubusercontent.com)... 185.199.108.133, 185.199.109.133, 185.199.110.133, ...\n",
            "Connecting to raw.githubusercontent.com (raw.githubusercontent.com)|185.199.108.133|:443... connected.\n",
            "HTTP request sent, awaiting response... 200 OK\n",
            "Length: 9588 (9.4K) [text/plain]\n",
            "Saving to: ‘utils.py’\n",
            "\n",
            "\rutils.py              0%[                    ]       0  --.-KB/s               \rutils.py            100%[===================>]   9.36K  --.-KB/s    in 0s      \n",
            "\n",
            "2022-06-03 17:31:23 (105 MB/s) - ‘utils.py’ saved [9588/9588]\n",
            "\n"
          ]
        }
      ],
      "source": [
        "# Prepare utils file\n",
        "\n",
        "!wget https://raw.githubusercontent.com/m-bashari-m/vehicle-color-recognition/main/src/utils.py"
      ]
    },
    {
      "cell_type": "code",
      "execution_count": 2,
      "metadata": {
        "colab": {
          "base_uri": "https://localhost:8080/"
        },
        "id": "bRdIPsPcp2OF",
        "outputId": "27d5ff15-bb8f-4e9b-cdc9-38f3f81925b7"
      },
      "outputs": [
        {
          "output_type": "stream",
          "name": "stdout",
          "text": [
            "Mounted at ./drive\n"
          ]
        }
      ],
      "source": [
        "from google.colab import drive\n",
        "drive.mount('./drive')"
      ]
    },
    {
      "cell_type": "code",
      "execution_count": 3,
      "metadata": {
        "id": "OqaOJQP4krhr"
      },
      "outputs": [],
      "source": [
        "import pandas as pd\n",
        "import numpy as np\n",
        "import os\n",
        "\n",
        "import tensorflow as tf\n",
        "from tensorflow import keras\n",
        "import tensorflow_hub as hub\n",
        "\n",
        "from utils import ModelCreator, get_train_val_ds, ErrorAnalyzer, get_class_weight"
      ]
    },
    {
      "cell_type": "code",
      "execution_count": 4,
      "metadata": {
        "id": "3b2ik0jzro3S"
      },
      "outputs": [],
      "source": [
        "BATCH_SIZE = 32\n",
        "IMG_SIZE = (256, 256)\n",
        "AUTOTUNE = tf.data.AUTOTUNE\n",
        "N_CLASSES = 16\n",
        "HUB_URL = 'https://tfhub.dev/google/bit/m-r50x1/1'"
      ]
    },
    {
      "cell_type": "code",
      "execution_count": 5,
      "metadata": {
        "id": "fdtpr6ZArLEQ"
      },
      "outputs": [],
      "source": [
        "dataset_dir = os.path.join('drive', 'MyDrive', 'cars')\n",
        "train_dir = os.path.join(dataset_dir, 'train')\n",
        "val_dir = os.path.join(dataset_dir, 'val')"
      ]
    },
    {
      "cell_type": "code",
      "execution_count": 6,
      "metadata": {
        "colab": {
          "base_uri": "https://localhost:8080/"
        },
        "id": "2Aqeb_chrbtm",
        "outputId": "d8ca0f51-9168-434a-e799-510df70924e1"
      },
      "outputs": [
        {
          "output_type": "stream",
          "name": "stdout",
          "text": [
            "Found 17043 files belonging to 16 classes.\n",
            "Found 3495 files belonging to 16 classes.\n"
          ]
        }
      ],
      "source": [
        "# Get shuffled train and validation dataset with one-hot labels\n",
        "\n",
        "train_ds, val_ds = get_train_val_ds(train_dir, val_dir, batch_size=BATCH_SIZE, img_size=IMG_SIZE)"
      ]
    },
    {
      "cell_type": "code",
      "execution_count": 7,
      "metadata": {
        "id": "gDHgOmiOonos"
      },
      "outputs": [],
      "source": [
        "# Get class weights which have calculated from the previous notebook and stored in github\n",
        "\n",
        "classes, class_weight = get_class_weight()"
      ]
    },
    {
      "cell_type": "code",
      "execution_count": null,
      "metadata": {
        "colab": {
          "base_uri": "https://localhost:8080/"
        },
        "id": "KUMoLJLRpBiS",
        "outputId": "a29cdecf-b0b5-41a8-f76b-4b20bccaef62"
      },
      "outputs": [
        {
          "output_type": "stream",
          "name": "stdout",
          "text": [
            "beige     \t=> 17.94\n",
            "black     \t=> 13.8\n",
            "blue     \t=> 15.47\n",
            "brown     \t=> 17.92\n",
            "cream     \t=> 56.81\n",
            "crimson     \t=> 76.43\n",
            "gold     \t=> 56.81\n",
            "green     \t=> 21.2\n",
            "grey     \t=> 12.41\n",
            "navy-blue     \t=> 58.77\n",
            "orange     \t=> 22.37\n",
            "red     \t=> 16.39\n",
            "silver     \t=> 20.17\n",
            "titanium     \t=> 56.81\n",
            "white     \t=> 2.97\n",
            "yellow     \t=> 20.68\n"
          ]
        }
      ],
      "source": [
        "for color, weight in zip(classes, class_weight.values()):\n",
        "  print(color, \"    \\t=>\", weight)"
      ]
    },
    {
      "cell_type": "code",
      "execution_count": 8,
      "metadata": {
        "id": "HTaqr5PL3RI5"
      },
      "outputs": [],
      "source": [
        "train_ds = (\n",
        "    train_ds.\n",
        "    map(lambda img, lbl: (img/255., lbl), num_parallel_calls=AUTOTUNE).\n",
        "    prefetch(AUTOTUNE))\n",
        "\n",
        "val_ds = (\n",
        "    val_ds.\n",
        "    map(lambda img, lbl: (img/255., lbl), num_parallel_calls=AUTOTUNE).\n",
        "    prefetch(AUTOTUNE))"
      ]
    },
    {
      "cell_type": "code",
      "execution_count": 9,
      "metadata": {
        "id": "jxQRFlkkwx97",
        "outputId": "97d93aab-623e-4e96-c7a2-83c7f22685b3",
        "colab": {
          "base_uri": "https://localhost:8080/"
        }
      },
      "outputs": [
        {
          "output_type": "stream",
          "name": "stdout",
          "text": [
            "Model: \"RGB-model\"\n",
            "_________________________________________________________________\n",
            " Layer (type)                Output Shape              Param #   \n",
            "=================================================================\n",
            " keras_layer (KerasLayer)    (None, 2048)              23500352  \n",
            "                                                                 \n",
            " dense (Dense)               (None, 600)               1229400   \n",
            "                                                                 \n",
            " dropout (Dropout)           (None, 600)               0         \n",
            "                                                                 \n",
            " dense_1 (Dense)             (None, 16)                9616      \n",
            "                                                                 \n",
            "=================================================================\n",
            "Total params: 24,739,368\n",
            "Trainable params: 1,239,016\n",
            "Non-trainable params: 23,500,352\n",
            "_________________________________________________________________\n"
          ]
        }
      ],
      "source": [
        "rgb_creator = ModelCreator(HUB_URL, 'RGB-model')\n",
        "rgb_model = rgb_creator.make_model(img_size=IMG_SIZE)"
      ]
    },
    {
      "cell_type": "code",
      "source": [
        "# Callbacks are EarlyStopping and ModelCheckpoint\n",
        "\n",
        "callbacks = rgb_creator.get_callbacks()"
      ],
      "metadata": {
        "id": "jm7eCvLpb8CN"
      },
      "execution_count": 10,
      "outputs": []
    },
    {
      "cell_type": "markdown",
      "source": [
        "## ***First*** day of training"
      ],
      "metadata": {
        "id": "lXV9uY8ecc6Z"
      }
    },
    {
      "cell_type": "code",
      "execution_count": 11,
      "metadata": {
        "colab": {
          "base_uri": "https://localhost:8080/"
        },
        "id": "0gnG_cv46Bqx",
        "outputId": "a67d3a46-25c7-441f-9b8f-947b32cd0516"
      },
      "outputs": [
        {
          "output_type": "stream",
          "name": "stdout",
          "text": [
            "Epoch 1/15\n",
            "533/533 [==============================] - 2107s 4s/step - loss: 1240.4811 - auc: 0.3695 - accuracy: 0.5495\n",
            "Epoch 2/15\n",
            "533/533 [==============================] - 151s 281ms/step - loss: 1182.8999 - auc: 0.5072 - accuracy: 0.6729\n",
            "Epoch 3/15\n",
            "533/533 [==============================] - 150s 280ms/step - loss: 865.5900 - auc: 0.5664 - accuracy: 0.7188\n",
            "Epoch 4/15\n",
            "533/533 [==============================] - 150s 280ms/step - loss: 633.8220 - auc: 0.6083 - accuracy: 0.7492\n",
            "Epoch 5/15\n",
            "533/533 [==============================] - 150s 280ms/step - loss: 466.5838 - auc: 0.6344 - accuracy: 0.7680\n",
            "Epoch 6/15\n",
            "533/533 [==============================] - 151s 281ms/step - loss: 371.2820 - auc: 0.6597 - accuracy: 0.7833\n",
            "Epoch 7/15\n",
            "533/533 [==============================] - 151s 280ms/step - loss: 257.0945 - auc: 0.6939 - accuracy: 0.8050\n",
            "Epoch 8/15\n",
            "533/533 [==============================] - 150s 280ms/step - loss: 186.1813 - auc: 0.7291 - accuracy: 0.8286\n",
            "Epoch 9/15\n",
            "533/533 [==============================] - 151s 281ms/step - loss: 157.4990 - auc: 0.7395 - accuracy: 0.8319\n",
            "Epoch 10/15\n",
            "533/533 [==============================] - 150s 280ms/step - loss: 123.2451 - auc: 0.7533 - accuracy: 0.8401\n",
            "Epoch 11/15\n",
            "533/533 [==============================] - 151s 281ms/step - loss: 95.7270 - auc: 0.7827 - accuracy: 0.8576\n",
            "Epoch 12/15\n",
            "533/533 [==============================] - 151s 281ms/step - loss: 80.4856 - auc: 0.7931 - accuracy: 0.8619\n",
            "Epoch 13/15\n",
            "533/533 [==============================] - 151s 281ms/step - loss: 64.6395 - auc: 0.7939 - accuracy: 0.8601\n",
            "Epoch 14/15\n",
            "533/533 [==============================] - 151s 281ms/step - loss: 53.4546 - auc: 0.8216 - accuracy: 0.8787\n",
            "Epoch 15/15\n",
            "533/533 [==============================] - 150s 280ms/step - loss: 46.6297 - auc: 0.8260 - accuracy: 0.8792\n"
          ]
        }
      ],
      "source": [
        "history = rgb_model.fit(train_ds,\n",
        "                        callbacks=callbacks,\n",
        "                        epochs=15,\n",
        "                        class_weight=class_weight)"
      ]
    },
    {
      "cell_type": "code",
      "source": [
        "rgb_model.save('./drive/MyDrive/checkpoints/rgb-model-15.h5')"
      ],
      "metadata": {
        "id": "LjYSD1a-PK5U"
      },
      "execution_count": 12,
      "outputs": []
    },
    {
      "cell_type": "code",
      "source": [
        "analyzer = ErrorAnalyzer(model=rgb_model,\n",
        "                         model_name='RGB-model-1',\n",
        "                         ds=val_ds,\n",
        "                         classes=classes)"
      ],
      "metadata": {
        "id": "KoR1xPKVa9MB",
        "outputId": "cec6c929-08e5-414e-e8ec-1cdade2ff78b",
        "colab": {
          "base_uri": "https://localhost:8080/",
          "height": 84,
          "referenced_widgets": [
            "8ce9debd6f5a491cb0c0ea982f42d63d",
            "d0751d402b504cb9bf47d0ea2db33e2d",
            "52eceb172a8440058d97c22e34f02dbf",
            "165dc869a53f48e291d66c84313d7b97",
            "5656248fbe8f45a6a651c8e51afa03c6",
            "f303fafb946e41b897f66babb3ab4225",
            "5159ef1cfaca47dda2c0b998d5d18225",
            "0f96af28664c4781a9a6b58c56a738d4",
            "3ccf324912a34f28843e653f8875b264",
            "fc8cf2b301804772b3422f54d99e53bf",
            "39cf33ea6f6b463c93c833ab2d3e162e"
          ]
        }
      },
      "execution_count": 13,
      "outputs": [
        {
          "output_type": "stream",
          "name": "stdout",
          "text": [
            "Making confusion matrix:\n"
          ]
        },
        {
          "output_type": "display_data",
          "data": {
            "text/plain": [
              "  0%|          | 0/55 [00:00<?, ?it/s]"
            ],
            "application/vnd.jupyter.widget-view+json": {
              "version_major": 2,
              "version_minor": 0,
              "model_id": "8ce9debd6f5a491cb0c0ea982f42d63d"
            }
          },
          "metadata": {}
        },
        {
          "output_type": "stream",
          "name": "stdout",
          "text": [
            "Saving confusion matrix\n"
          ]
        }
      ]
    },
    {
      "cell_type": "code",
      "execution_count": 14,
      "metadata": {
        "id": "KPBix5cPieer",
        "outputId": "647b6c4e-53d2-49bd-d79a-29a806db621f",
        "colab": {
          "base_uri": "https://localhost:8080/",
          "height": 645
        }
      },
      "outputs": [
        {
          "output_type": "display_data",
          "data": {
            "text/plain": [
              "<Figure size 720x720 with 2 Axes>"
            ],
            "image/png": "[encoded data removed]"
          },
          "metadata": {
            "needs_background": "light"
          }
        }
      ],
      "source": [
        "analyzer.plot_confusion_mat()"
      ]
    },
    {
      "cell_type": "code",
      "execution_count": 15,
      "metadata": {
        "colab": {
          "base_uri": "https://localhost:8080/"
        },
        "id": "C_m7LmTEigoO",
        "outputId": "1edfca27-b909-46b8-9c7a-5c7b7011fc40"
      },
      "outputs": [
        {
          "output_type": "stream",
          "name": "stdout",
          "text": [
            "Calculating error types...\n",
            "Writing in log file...\n",
            "\u001b[1;32m All done. Check log file => RGB-model-1.csv\n"
          ]
        }
      ],
      "source": [
        "analyzer.evaluate_model()"
      ]
    },
    {
      "cell_type": "code",
      "source": [
        "history = rgb_model.fit(train_ds,\n",
        "                        callbacks=callbacks,\n",
        "                        epochs=25,\n",
        "                        initial_epoch=15,\n",
        "                        class_weight=class_weight)"
      ],
      "metadata": {
        "id": "u5jsnuV8b1U7",
        "outputId": "09d0d587-58a9-4e44-b309-8912cea292af",
        "colab": {
          "base_uri": "https://localhost:8080/"
        }
      },
      "execution_count": 16,
      "outputs": [
        {
          "output_type": "stream",
          "name": "stdout",
          "text": [
            "Epoch 16/25\n",
            "533/533 [==============================] - 151s 281ms/step - loss: 39.2574 - auc: 0.8381 - accuracy: 0.8857\n",
            "Epoch 17/25\n",
            "533/533 [==============================] - 150s 280ms/step - loss: 33.9198 - auc: 0.8501 - accuracy: 0.8902\n",
            "Epoch 18/25\n",
            "533/533 [==============================] - 151s 281ms/step - loss: 28.4424 - auc: 0.8596 - accuracy: 0.8960\n",
            "Epoch 19/25\n",
            "533/533 [==============================] - 150s 280ms/step - loss: 24.2731 - auc: 0.8698 - accuracy: 0.9004\n",
            "Epoch 20/25\n",
            "533/533 [==============================] - 150s 280ms/step - loss: 21.8002 - auc: 0.8768 - accuracy: 0.9044\n",
            "Epoch 21/25\n",
            "533/533 [==============================] - 151s 281ms/step - loss: 19.3043 - auc: 0.8877 - accuracy: 0.9081\n",
            "Epoch 22/25\n",
            "533/533 [==============================] - 150s 280ms/step - loss: 17.8724 - auc: 0.8884 - accuracy: 0.9111\n",
            "Epoch 23/25\n",
            "533/533 [==============================] - 150s 280ms/step - loss: 16.0079 - auc: 0.8918 - accuracy: 0.9093\n",
            "Epoch 24/25\n",
            "533/533 [==============================] - 151s 281ms/step - loss: 15.6954 - auc: 0.8957 - accuracy: 0.9102\n",
            "Epoch 25/25\n",
            "533/533 [==============================] - 150s 280ms/step - loss: 14.0051 - auc: 0.9016 - accuracy: 0.9137\n"
          ]
        }
      ]
    },
    {
      "cell_type": "code",
      "source": [
        "rgb_model.save('./drive/MyDrive/checkpoints/rgb-model-25.h5')"
      ],
      "metadata": {
        "id": "Vjs0LeD37JX7"
      },
      "execution_count": 17,
      "outputs": []
    },
    {
      "cell_type": "code",
      "source": [
        "analyzer = ErrorAnalyzer(model=rgb_model,\n",
        "                         model_name='RGB-model-2',\n",
        "                         ds=val_ds,\n",
        "                         classes=classes)\n",
        "\n",
        "analyzer.plot_confusion_mat()\n",
        "analyzer.evaluate_model()"
      ],
      "metadata": {
        "id": "xIBRD-sN68-B",
        "outputId": "eb63143c-c42e-4ecd-82fc-d8464d0d9773",
        "colab": {
          "base_uri": "https://localhost:8080/",
          "height": 764,
          "referenced_widgets": [
            "6ec719f0f89b4a46a6315cd7d98805fd",
            "b1fafe20026c41f69d632a309f7ff1da",
            "9592ebe53eaa407bb53fb4ca1ea329fe",
            "83eb57d76c764632a991cbd032e7728d",
            "defc06ae21894b3aab8b73d7beaafd4c",
            "84e018fa77b1438583a822418f07a646",
            "638060a17d19421ca24508f4040aeeb9",
            "50b988b71856421a98a67696bc61c174",
            "71dba21a89944231a23fd14857ef581d",
            "4e3d43332a40401da7a6ddd19b148b8a",
            "b83b3c2342ec402da73aa35476b73302"
          ]
        }
      },
      "execution_count": 18,
      "outputs": [
        {
          "output_type": "stream",
          "name": "stdout",
          "text": [
            "Making confusion matrix:\n"
          ]
        },
        {
          "output_type": "display_data",
          "data": {
            "text/plain": [
              "  0%|          | 0/55 [00:00<?, ?it/s]"
            ],
            "application/vnd.jupyter.widget-view+json": {
              "version_major": 2,
              "version_minor": 0,
              "model_id": "6ec719f0f89b4a46a6315cd7d98805fd"
            }
          },
          "metadata": {}
        },
        {
          "output_type": "stream",
          "name": "stdout",
          "text": [
            "Saving confusion matrix\n"
          ]
        },
        {
          "output_type": "display_data",
          "data": {
            "text/plain": [
              "<Figure size 720x720 with 2 Axes>"
            ],
            "image/png": "[encoded data removed]"
          },
          "metadata": {
            "needs_background": "light"
          }
        },
        {
          "output_type": "stream",
          "name": "stdout",
          "text": [
            "Calculating error types...\n",
            "Writing in log file...\n",
            "\u001b[1;32m All done. Check log file => RGB-model-1.csv\n"
          ]
        }
      ]
    },
    {
      "cell_type": "code",
      "source": [
        "history = rgb_model.fit(train_ds,\n",
        "                        callbacks=callbacks,\n",
        "                        epochs=35,\n",
        "                        initial_epoch=25,\n",
        "                        class_weight=class_weight)"
      ],
      "metadata": {
        "id": "CT9RyXwnCc6p",
        "outputId": "c692cf2d-730f-4549-95f6-3f159b56506f",
        "colab": {
          "base_uri": "https://localhost:8080/"
        }
      },
      "execution_count": 20,
      "outputs": [
        {
          "output_type": "stream",
          "name": "stdout",
          "text": [
            "Epoch 26/35\n",
            "533/533 [==============================] - 151s 282ms/step - loss: 13.4865 - auc: 0.9078 - accuracy: 0.9149\n",
            "Epoch 27/35\n",
            "533/533 [==============================] - 151s 281ms/step - loss: 12.7034 - auc: 0.9086 - accuracy: 0.9174\n",
            "Epoch 28/35\n",
            "533/533 [==============================] - 151s 281ms/step - loss: 11.6468 - auc: 0.9109 - accuracy: 0.9189\n",
            "Epoch 29/35\n",
            "533/533 [==============================] - 151s 281ms/step - loss: 10.8505 - auc: 0.9190 - accuracy: 0.9242\n",
            "Epoch 30/35\n",
            "533/533 [==============================] - 150s 280ms/step - loss: 11.3177 - auc: 0.9134 - accuracy: 0.9194\n",
            "Epoch 31/35\n",
            "533/533 [==============================] - 151s 280ms/step - loss: 10.6002 - auc: 0.9165 - accuracy: 0.9206\n",
            "Epoch 32/35\n",
            "533/533 [==============================] - 151s 280ms/step - loss: 10.4589 - auc: 0.9201 - accuracy: 0.9229\n",
            "Epoch 33/35\n",
            "533/533 [==============================] - 151s 281ms/step - loss: 10.1019 - auc: 0.9231 - accuracy: 0.9258\n",
            "Epoch 34/35\n",
            "533/533 [==============================] - 151s 280ms/step - loss: 9.5225 - auc: 0.9242 - accuracy: 0.9239\n",
            "Epoch 35/35\n",
            "533/533 [==============================] - 151s 280ms/step - loss: 10.2412 - auc: 0.9226 - accuracy: 0.9225\n"
          ]
        }
      ]
    },
    {
      "cell_type": "code",
      "source": [
        "rgb_model.save('./drive/MyDrive/checkpoints/rgb-model-35.h5')"
      ],
      "metadata": {
        "id": "EDsGH3W3CiIB"
      },
      "execution_count": 21,
      "outputs": []
    },
    {
      "cell_type": "code",
      "source": [
        "analyzer = ErrorAnalyzer(model=rgb_model,\n",
        "                         model_name='RGB-model-3',\n",
        "                         ds=val_ds,\n",
        "                         classes=classes)\n",
        "\n",
        "analyzer.plot_confusion_mat()\n",
        "analyzer.evaluate_model()"
      ],
      "metadata": {
        "id": "E7O1khRRCyLo",
        "outputId": "c7dc7b7f-9d84-444b-8a2e-7470f697191a",
        "colab": {
          "base_uri": "https://localhost:8080/",
          "height": 764,
          "referenced_widgets": [
            "668a6d70446d484e8d366f6c0b2c9df9",
            "0093bf00555a49ffa6acb66587fbbfba",
            "3ac638e436e24790978150889d01f8d6",
            "8efa4ae9e25d489f85ff98be335b5228",
            "12e768e782b141668dde253beebd7a81",
            "251bb4bd40ed4d21b67153998a60623e",
            "2c75b020b0db4b798c00bd5b536bc1e2",
            "19868d035d2d4cd4a465ba1be6a8e5c3",
            "e87e9b1436cf4d94a32208311025fa59",
            "9b60c467410144c7837f558fdf4a1195",
            "4ec96aad34d24da7833d49dc2ddbc1c5"
          ]
        }
      },
      "execution_count": 22,
      "outputs": [
        {
          "output_type": "stream",
          "name": "stdout",
          "text": [
            "Making confusion matrix:\n"
          ]
        },
        {
          "output_type": "display_data",
          "data": {
            "text/plain": [
              "  0%|          | 0/55 [00:00<?, ?it/s]"
            ],
            "application/vnd.jupyter.widget-view+json": {
              "version_major": 2,
              "version_minor": 0,
              "model_id": "668a6d70446d484e8d366f6c0b2c9df9"
            }
          },
          "metadata": {}
        },
        {
          "output_type": "stream",
          "name": "stdout",
          "text": [
            "Saving confusion matrix\n"
          ]
        },
        {
          "output_type": "display_data",
          "data": {
            "text/plain": [
              "<Figure size 720x720 with 2 Axes>"
            ],
            "image/png": "[encoded data removed]"
          },
          "metadata": {
            "needs_background": "light"
          }
        },
        {
          "output_type": "stream",
          "name": "stdout",
          "text": [
            "Calculating error types...\n",
            "Writing in log file...\n",
            "\u001b[1;32m All done. Check log file => RGB-model-3.csv\n"
          ]
        }
      ]
    },
    {
      "cell_type": "markdown",
      "source": [
        "## ***Second*** day  "
      ],
      "metadata": {
        "id": "cqgXDVSQaujJ"
      }
    },
    {
      "cell_type": "code",
      "source": [
        "rgb_model = tf.keras.models.load_model('./drive/MyDrive/checkpoints/rgb-model-15.h5',\n",
        "                                        custom_objects={'KerasLayer':hub.KerasLayer})"
      ],
      "metadata": {
        "id": "7jmMmq-RP5L8"
      },
      "execution_count": null,
      "outputs": []
    },
    {
      "cell_type": "code",
      "source": [
        "rgb_model.save('./drive/MyDrive/checkpoints/rgb-model-15.h5')"
      ],
      "metadata": {
        "id": "gwniqYMRcLuj"
      },
      "execution_count": null,
      "outputs": []
    },
    {
      "cell_type": "code",
      "execution_count": null,
      "metadata": {
        "colab": {
          "base_uri": "https://localhost:8080/",
          "height": 66,
          "referenced_widgets": [
            "8e71638fa6c64f9ea73416c0732ea529",
            "c11537e480234adabd44b76beb71966e",
            "1710b22a6d674b789498d706c9849e9d",
            "fe3821d0af6d4b41b4d7425778267b71",
            "8ffb3709ced2452da64456f5c58e66dc",
            "5baf8cbcdb5c4a84a7a51613e85babf0",
            "f9b3d6cad56d48dbaad6bed8016b0ecc",
            "a4a6364c168d47d6b72acb64aae36c48",
            "599d3d367cd149f7aff6fd3ade8bf410",
            "abb7bbf5b3624a02a841d7c7ba4366f9",
            "b792671fbc3042989852cbd07104f917"
          ]
        },
        "id": "caEnxVe3CMl8",
        "outputId": "c0902ce5-7458-4883-f444-e2cbca4a3b6a"
      },
      "outputs": [
        {
          "name": "stdout",
          "output_type": "stream",
          "text": [
            "Making confusion matrix:\n"
          ]
        },
        {
          "data": {
            "application/vnd.jupyter.widget-view+json": {
              "model_id": "8e71638fa6c64f9ea73416c0732ea529",
              "version_major": 2,
              "version_minor": 0
            },
            "text/plain": [
              "  0%|          | 0/110 [00:00<?, ?it/s]"
            ]
          },
          "metadata": {},
          "output_type": "display_data"
        }
      ],
      "source": [
        "analyzer = ErrorAnalyzer(model=rgb_model, model_name='RGB-model-2', ds=val_ds, classes=classes)"
      ]
    },
    {
      "cell_type": "code",
      "execution_count": null,
      "metadata": {
        "id": "NeyoAPCqi51v"
      },
      "outputs": [],
      "source": [
        "analyzer.plot_confusion_mat()"
      ]
    },
    {
      "cell_type": "code",
      "source": [
        "analyzer.evaluate_model()"
      ],
      "metadata": {
        "id": "WbjZn6B1cTh9"
      },
      "execution_count": null,
      "outputs": []
    }
  ],
  "metadata": {
    "accelerator": "GPU",
    "colab": {
      "name": "rgb_model.ipynb",
      "provenance": [],
      "include_colab_link": true
    },
    "kernelspec": {
      "display_name": "Python 3 (ipykernel)",
      "language": "python",
      "name": "python3"
    },
    "language_info": {
      "codemirror_mode": {
        "name": "ipython",
        "version": 3
      },
      "file_extension": ".py",
      "mimetype": "text/x-python",
      "name": "python",
      "nbconvert_exporter": "python",
      "pygments_lexer": "ipython3",
      "version": "3.8.10"
    },
    "widgets": {
      "application/vnd.jupyter.widget-state+json": {
        "1710b22a6d674b789498d706c9849e9d": {
          "model_module": "@jupyter-widgets/controls",
          "model_module_version": "1.5.0",
          "model_name": "FloatProgressModel",
          "state": {
            "_dom_classes": [],
            "_model_module": "@jupyter-widgets/controls",
            "_model_module_version": "1.5.0",
            "_model_name": "FloatProgressModel",
            "_view_count": null,
            "_view_module": "@jupyter-widgets/controls",
            "_view_module_version": "1.5.0",
            "_view_name": "ProgressView",
            "bar_style": "success",
            "description": "",
            "description_tooltip": null,
            "layout": "IPY_MODEL_a4a6364c168d47d6b72acb64aae36c48",
            "max": 110,
            "min": 0,
            "orientation": "horizontal",
            "style": "IPY_MODEL_599d3d367cd149f7aff6fd3ade8bf410",
            "value": 110
          }
        },
        "599d3d367cd149f7aff6fd3ade8bf410": {
          "model_module": "@jupyter-widgets/controls",
          "model_module_version": "1.5.0",
          "model_name": "ProgressStyleModel",
          "state": {
            "_model_module": "@jupyter-widgets/controls",
            "_model_module_version": "1.5.0",
            "_model_name": "ProgressStyleModel",
            "_view_count": null,
            "_view_module": "@jupyter-widgets/base",
            "_view_module_version": "1.2.0",
            "_view_name": "StyleView",
            "bar_color": null,
            "description_width": ""
          }
        },
        "5baf8cbcdb5c4a84a7a51613e85babf0": {
          "model_module": "@jupyter-widgets/base",
          "model_module_version": "1.2.0",
          "model_name": "LayoutModel",
          "state": {
            "_model_module": "@jupyter-widgets/base",
            "_model_module_version": "1.2.0",
            "_model_name": "LayoutModel",
            "_view_count": null,
            "_view_module": "@jupyter-widgets/base",
            "_view_module_version": "1.2.0",
            "_view_name": "LayoutView",
            "align_content": null,
            "align_items": null,
            "align_self": null,
            "border": null,
            "bottom": null,
            "display": null,
            "flex": null,
            "flex_flow": null,
            "grid_area": null,
            "grid_auto_columns": null,
            "grid_auto_flow": null,
            "grid_auto_rows": null,
            "grid_column": null,
            "grid_gap": null,
            "grid_row": null,
            "grid_template_areas": null,
            "grid_template_columns": null,
            "grid_template_rows": null,
            "height": null,
            "justify_content": null,
            "justify_items": null,
            "left": null,
            "margin": null,
            "max_height": null,
            "max_width": null,
            "min_height": null,
            "min_width": null,
            "object_fit": null,
            "object_position": null,
            "order": null,
            "overflow": null,
            "overflow_x": null,
            "overflow_y": null,
            "padding": null,
            "right": null,
            "top": null,
            "visibility": null,
            "width": null
          }
        },
        "8e71638fa6c64f9ea73416c0732ea529": {
          "model_module": "@jupyter-widgets/controls",
          "model_module_version": "1.5.0",
          "model_name": "HBoxModel",
          "state": {
            "_dom_classes": [],
            "_model_module": "@jupyter-widgets/controls",
            "_model_module_version": "1.5.0",
            "_model_name": "HBoxModel",
            "_view_count": null,
            "_view_module": "@jupyter-widgets/controls",
            "_view_module_version": "1.5.0",
            "_view_name": "HBoxView",
            "box_style": "",
            "children": [
              "IPY_MODEL_c11537e480234adabd44b76beb71966e",
              "IPY_MODEL_1710b22a6d674b789498d706c9849e9d",
              "IPY_MODEL_fe3821d0af6d4b41b4d7425778267b71"
            ],
            "layout": "IPY_MODEL_8ffb3709ced2452da64456f5c58e66dc"
          }
        },
        "8ffb3709ced2452da64456f5c58e66dc": {
          "model_module": "@jupyter-widgets/base",
          "model_module_version": "1.2.0",
          "model_name": "LayoutModel",
          "state": {
            "_model_module": "@jupyter-widgets/base",
            "_model_module_version": "1.2.0",
            "_model_name": "LayoutModel",
            "_view_count": null,
            "_view_module": "@jupyter-widgets/base",
            "_view_module_version": "1.2.0",
            "_view_name": "LayoutView",
            "align_content": null,
            "align_items": null,
            "align_self": null,
            "border": null,
            "bottom": null,
            "display": null,
            "flex": null,
            "flex_flow": null,
            "grid_area": null,
            "grid_auto_columns": null,
            "grid_auto_flow": null,
            "grid_auto_rows": null,
            "grid_column": null,
            "grid_gap": null,
            "grid_row": null,
            "grid_template_areas": null,
            "grid_template_columns": null,
            "grid_template_rows": null,
            "height": null,
            "justify_content": null,
            "justify_items": null,
            "left": null,
            "margin": null,
            "max_height": null,
            "max_width": null,
            "min_height": null,
            "min_width": null,
            "object_fit": null,
            "object_position": null,
            "order": null,
            "overflow": null,
            "overflow_x": null,
            "overflow_y": null,
            "padding": null,
            "right": null,
            "top": null,
            "visibility": null,
            "width": null
          }
        },
        "a4a6364c168d47d6b72acb64aae36c48": {
          "model_module": "@jupyter-widgets/base",
          "model_module_version": "1.2.0",
          "model_name": "LayoutModel",
          "state": {
            "_model_module": "@jupyter-widgets/base",
            "_model_module_version": "1.2.0",
            "_model_name": "LayoutModel",
            "_view_count": null,
            "_view_module": "@jupyter-widgets/base",
            "_view_module_version": "1.2.0",
            "_view_name": "LayoutView",
            "align_content": null,
            "align_items": null,
            "align_self": null,
            "border": null,
            "bottom": null,
            "display": null,
            "flex": null,
            "flex_flow": null,
            "grid_area": null,
            "grid_auto_columns": null,
            "grid_auto_flow": null,
            "grid_auto_rows": null,
            "grid_column": null,
            "grid_gap": null,
            "grid_row": null,
            "grid_template_areas": null,
            "grid_template_columns": null,
            "grid_template_rows": null,
            "height": null,
            "justify_content": null,
            "justify_items": null,
            "left": null,
            "margin": null,
            "max_height": null,
            "max_width": null,
            "min_height": null,
            "min_width": null,
            "object_fit": null,
            "object_position": null,
            "order": null,
            "overflow": null,
            "overflow_x": null,
            "overflow_y": null,
            "padding": null,
            "right": null,
            "top": null,
            "visibility": null,
            "width": null
          }
        },
        "abb7bbf5b3624a02a841d7c7ba4366f9": {
          "model_module": "@jupyter-widgets/base",
          "model_module_version": "1.2.0",
          "model_name": "LayoutModel",
          "state": {
            "_model_module": "@jupyter-widgets/base",
            "_model_module_version": "1.2.0",
            "_model_name": "LayoutModel",
            "_view_count": null,
            "_view_module": "@jupyter-widgets/base",
            "_view_module_version": "1.2.0",
            "_view_name": "LayoutView",
            "align_content": null,
            "align_items": null,
            "align_self": null,
            "border": null,
            "bottom": null,
            "display": null,
            "flex": null,
            "flex_flow": null,
            "grid_area": null,
            "grid_auto_columns": null,
            "grid_auto_flow": null,
            "grid_auto_rows": null,
            "grid_column": null,
            "grid_gap": null,
            "grid_row": null,
            "grid_template_areas": null,
            "grid_template_columns": null,
            "grid_template_rows": null,
            "height": null,
            "justify_content": null,
            "justify_items": null,
            "left": null,
            "margin": null,
            "max_height": null,
            "max_width": null,
            "min_height": null,
            "min_width": null,
            "object_fit": null,
            "object_position": null,
            "order": null,
            "overflow": null,
            "overflow_x": null,
            "overflow_y": null,
            "padding": null,
            "right": null,
            "top": null,
            "visibility": null,
            "width": null
          }
        },
        "b792671fbc3042989852cbd07104f917": {
          "model_module": "@jupyter-widgets/controls",
          "model_module_version": "1.5.0",
          "model_name": "DescriptionStyleModel",
          "state": {
            "_model_module": "@jupyter-widgets/controls",
            "_model_module_version": "1.5.0",
            "_model_name": "DescriptionStyleModel",
            "_view_count": null,
            "_view_module": "@jupyter-widgets/base",
            "_view_module_version": "1.2.0",
            "_view_name": "StyleView",
            "description_width": ""
          }
        },
        "c11537e480234adabd44b76beb71966e": {
          "model_module": "@jupyter-widgets/controls",
          "model_module_version": "1.5.0",
          "model_name": "HTMLModel",
          "state": {
            "_dom_classes": [],
            "_model_module": "@jupyter-widgets/controls",
            "_model_module_version": "1.5.0",
            "_model_name": "HTMLModel",
            "_view_count": null,
            "_view_module": "@jupyter-widgets/controls",
            "_view_module_version": "1.5.0",
            "_view_name": "HTMLView",
            "description": "",
            "description_tooltip": null,
            "layout": "IPY_MODEL_5baf8cbcdb5c4a84a7a51613e85babf0",
            "placeholder": "​",
            "style": "IPY_MODEL_f9b3d6cad56d48dbaad6bed8016b0ecc",
            "value": "100%"
          }
        },
        "f9b3d6cad56d48dbaad6bed8016b0ecc": {
          "model_module": "@jupyter-widgets/controls",
          "model_module_version": "1.5.0",
          "model_name": "DescriptionStyleModel",
          "state": {
            "_model_module": "@jupyter-widgets/controls",
            "_model_module_version": "1.5.0",
            "_model_name": "DescriptionStyleModel",
            "_view_count": null,
            "_view_module": "@jupyter-widgets/base",
            "_view_module_version": "1.2.0",
            "_view_name": "StyleView",
            "description_width": ""
          }
        },
        "fe3821d0af6d4b41b4d7425778267b71": {
          "model_module": "@jupyter-widgets/controls",
          "model_module_version": "1.5.0",
          "model_name": "HTMLModel",
          "state": {
            "_dom_classes": [],
            "_model_module": "@jupyter-widgets/controls",
            "_model_module_version": "1.5.0",
            "_model_name": "HTMLModel",
            "_view_count": null,
            "_view_module": "@jupyter-widgets/controls",
            "_view_module_version": "1.5.0",
            "_view_name": "HTMLView",
            "description": "",
            "description_tooltip": null,
            "layout": "IPY_MODEL_abb7bbf5b3624a02a841d7c7ba4366f9",
            "placeholder": "​",
            "style": "IPY_MODEL_b792671fbc3042989852cbd07104f917",
            "value": " 110/110 [16:21&lt;00:00,  1.71s/it]"
          }
        },
        "8ce9debd6f5a491cb0c0ea982f42d63d": {
          "model_module": "@jupyter-widgets/controls",
          "model_name": "HBoxModel",
          "model_module_version": "1.5.0",
          "state": {
            "_dom_classes": [],
            "_model_module": "@jupyter-widgets/controls",
            "_model_module_version": "1.5.0",
            "_model_name": "HBoxModel",
            "_view_count": null,
            "_view_module": "@jupyter-widgets/controls",
            "_view_module_version": "1.5.0",
            "_view_name": "HBoxView",
            "box_style": "",
            "children": [
              "IPY_MODEL_d0751d402b504cb9bf47d0ea2db33e2d",
              "IPY_MODEL_52eceb172a8440058d97c22e34f02dbf",
              "IPY_MODEL_165dc869a53f48e291d66c84313d7b97"
            ],
            "layout": "IPY_MODEL_5656248fbe8f45a6a651c8e51afa03c6"
          }
        },
        "d0751d402b504cb9bf47d0ea2db33e2d": {
          "model_module": "@jupyter-widgets/controls",
          "model_name": "HTMLModel",
          "model_module_version": "1.5.0",
          "state": {
            "_dom_classes": [],
            "_model_module": "@jupyter-widgets/controls",
            "_model_module_version": "1.5.0",
            "_model_name": "HTMLModel",
            "_view_count": null,
            "_view_module": "@jupyter-widgets/controls",
            "_view_module_version": "1.5.0",
            "_view_name": "HTMLView",
            "description": "",
            "description_tooltip": null,
            "layout": "IPY_MODEL_f303fafb946e41b897f66babb3ab4225",
            "placeholder": "​",
            "style": "IPY_MODEL_5159ef1cfaca47dda2c0b998d5d18225",
            "value": "100%"
          }
        },
        "52eceb172a8440058d97c22e34f02dbf": {
          "model_module": "@jupyter-widgets/controls",
          "model_name": "FloatProgressModel",
          "model_module_version": "1.5.0",
          "state": {
            "_dom_classes": [],
            "_model_module": "@jupyter-widgets/controls",
            "_model_module_version": "1.5.0",
            "_model_name": "FloatProgressModel",
            "_view_count": null,
            "_view_module": "@jupyter-widgets/controls",
            "_view_module_version": "1.5.0",
            "_view_name": "ProgressView",
            "bar_style": "success",
            "description": "",
            "description_tooltip": null,
            "layout": "IPY_MODEL_0f96af28664c4781a9a6b58c56a738d4",
            "max": 55,
            "min": 0,
            "orientation": "horizontal",
            "style": "IPY_MODEL_3ccf324912a34f28843e653f8875b264",
            "value": 55
          }
        },
        "165dc869a53f48e291d66c84313d7b97": {
          "model_module": "@jupyter-widgets/controls",
          "model_name": "HTMLModel",
          "model_module_version": "1.5.0",
          "state": {
            "_dom_classes": [],
            "_model_module": "@jupyter-widgets/controls",
            "_model_module_version": "1.5.0",
            "_model_name": "HTMLModel",
            "_view_count": null,
            "_view_module": "@jupyter-widgets/controls",
            "_view_module_version": "1.5.0",
            "_view_name": "HTMLView",
            "description": "",
            "description_tooltip": null,
            "layout": "IPY_MODEL_fc8cf2b301804772b3422f54d99e53bf",
            "placeholder": "​",
            "style": "IPY_MODEL_39cf33ea6f6b463c93c833ab2d3e162e",
            "value": " 55/55 [08:03&lt;00:00,  1.34s/it]"
          }
        },
        "5656248fbe8f45a6a651c8e51afa03c6": {
          "model_module": "@jupyter-widgets/base",
          "model_name": "LayoutModel",
          "model_module_version": "1.2.0",
          "state": {
            "_model_module": "@jupyter-widgets/base",
            "_model_module_version": "1.2.0",
            "_model_name": "LayoutModel",
            "_view_count": null,
            "_view_module": "@jupyter-widgets/base",
            "_view_module_version": "1.2.0",
            "_view_name": "LayoutView",
            "align_content": null,
            "align_items": null,
            "align_self": null,
            "border": null,
            "bottom": null,
            "display": null,
            "flex": null,
            "flex_flow": null,
            "grid_area": null,
            "grid_auto_columns": null,
            "grid_auto_flow": null,
            "grid_auto_rows": null,
            "grid_column": null,
            "grid_gap": null,
            "grid_row": null,
            "grid_template_areas": null,
            "grid_template_columns": null,
            "grid_template_rows": null,
            "height": null,
            "justify_content": null,
            "justify_items": null,
            "left": null,
            "margin": null,
            "max_height": null,
            "max_width": null,
            "min_height": null,
            "min_width": null,
            "object_fit": null,
            "object_position": null,
            "order": null,
            "overflow": null,
            "overflow_x": null,
            "overflow_y": null,
            "padding": null,
            "right": null,
            "top": null,
            "visibility": null,
            "width": null
          }
        },
        "f303fafb946e41b897f66babb3ab4225": {
          "model_module": "@jupyter-widgets/base",
          "model_name": "LayoutModel",
          "model_module_version": "1.2.0",
          "state": {
            "_model_module": "@jupyter-widgets/base",
            "_model_module_version": "1.2.0",
            "_model_name": "LayoutModel",
            "_view_count": null,
            "_view_module": "@jupyter-widgets/base",
            "_view_module_version": "1.2.0",
            "_view_name": "LayoutView",
            "align_content": null,
            "align_items": null,
            "align_self": null,
            "border": null,
            "bottom": null,
            "display": null,
            "flex": null,
            "flex_flow": null,
            "grid_area": null,
            "grid_auto_columns": null,
            "grid_auto_flow": null,
            "grid_auto_rows": null,
            "grid_column": null,
            "grid_gap": null,
            "grid_row": null,
            "grid_template_areas": null,
            "grid_template_columns": null,
            "grid_template_rows": null,
            "height": null,
            "justify_content": null,
            "justify_items": null,
            "left": null,
            "margin": null,
            "max_height": null,
            "max_width": null,
            "min_height": null,
            "min_width": null,
            "object_fit": null,
            "object_position": null,
            "order": null,
            "overflow": null,
            "overflow_x": null,
            "overflow_y": null,
            "padding": null,
            "right": null,
            "top": null,
            "visibility": null,
            "width": null
          }
        },
        "5159ef1cfaca47dda2c0b998d5d18225": {
          "model_module": "@jupyter-widgets/controls",
          "model_name": "DescriptionStyleModel",
          "model_module_version": "1.5.0",
          "state": {
            "_model_module": "@jupyter-widgets/controls",
            "_model_module_version": "1.5.0",
            "_model_name": "DescriptionStyleModel",
            "_view_count": null,
            "_view_module": "@jupyter-widgets/base",
            "_view_module_version": "1.2.0",
            "_view_name": "StyleView",
            "description_width": ""
          }
        },
        "0f96af28664c4781a9a6b58c56a738d4": {
          "model_module": "@jupyter-widgets/base",
          "model_name": "LayoutModel",
          "model_module_version": "1.2.0",
          "state": {
            "_model_module": "@jupyter-widgets/base",
            "_model_module_version": "1.2.0",
            "_model_name": "LayoutModel",
            "_view_count": null,
            "_view_module": "@jupyter-widgets/base",
            "_view_module_version": "1.2.0",
            "_view_name": "LayoutView",
            "align_content": null,
            "align_items": null,
            "align_self": null,
            "border": null,
            "bottom": null,
            "display": null,
            "flex": null,
            "flex_flow": null,
            "grid_area": null,
            "grid_auto_columns": null,
            "grid_auto_flow": null,
            "grid_auto_rows": null,
            "grid_column": null,
            "grid_gap": null,
            "grid_row": null,
            "grid_template_areas": null,
            "grid_template_columns": null,
            "grid_template_rows": null,
            "height": null,
            "justify_content": null,
            "justify_items": null,
            "left": null,
            "margin": null,
            "max_height": null,
            "max_width": null,
            "min_height": null,
            "min_width": null,
            "object_fit": null,
            "object_position": null,
            "order": null,
            "overflow": null,
            "overflow_x": null,
            "overflow_y": null,
            "padding": null,
            "right": null,
            "top": null,
            "visibility": null,
            "width": null
          }
        },
        "3ccf324912a34f28843e653f8875b264": {
          "model_module": "@jupyter-widgets/controls",
          "model_name": "ProgressStyleModel",
          "model_module_version": "1.5.0",
          "state": {
            "_model_module": "@jupyter-widgets/controls",
            "_model_module_version": "1.5.0",
            "_model_name": "ProgressStyleModel",
            "_view_count": null,
            "_view_module": "@jupyter-widgets/base",
            "_view_module_version": "1.2.0",
            "_view_name": "StyleView",
            "bar_color": null,
            "description_width": ""
          }
        },
        "fc8cf2b301804772b3422f54d99e53bf": {
          "model_module": "@jupyter-widgets/base",
          "model_name": "LayoutModel",
          "model_module_version": "1.2.0",
          "state": {
            "_model_module": "@jupyter-widgets/base",
            "_model_module_version": "1.2.0",
            "_model_name": "LayoutModel",
            "_view_count": null,
            "_view_module": "@jupyter-widgets/base",
            "_view_module_version": "1.2.0",
            "_view_name": "LayoutView",
            "align_content": null,
            "align_items": null,
            "align_self": null,
            "border": null,
            "bottom": null,
            "display": null,
            "flex": null,
            "flex_flow": null,
            "grid_area": null,
            "grid_auto_columns": null,
            "grid_auto_flow": null,
            "grid_auto_rows": null,
            "grid_column": null,
            "grid_gap": null,
            "grid_row": null,
            "grid_template_areas": null,
            "grid_template_columns": null,
            "grid_template_rows": null,
            "height": null,
            "justify_content": null,
            "justify_items": null,
            "left": null,
            "margin": null,
            "max_height": null,
            "max_width": null,
            "min_height": null,
            "min_width": null,
            "object_fit": null,
            "object_position": null,
            "order": null,
            "overflow": null,
            "overflow_x": null,
            "overflow_y": null,
            "padding": null,
            "right": null,
            "top": null,
            "visibility": null,
            "width": null
          }
        },
        "39cf33ea6f6b463c93c833ab2d3e162e": {
          "model_module": "@jupyter-widgets/controls",
          "model_name": "DescriptionStyleModel",
          "model_module_version": "1.5.0",
          "state": {
            "_model_module": "@jupyter-widgets/controls",
            "_model_module_version": "1.5.0",
            "_model_name": "DescriptionStyleModel",
            "_view_count": null,
            "_view_module": "@jupyter-widgets/base",
            "_view_module_version": "1.2.0",
            "_view_name": "StyleView",
            "description_width": ""
          }
        },
        "6ec719f0f89b4a46a6315cd7d98805fd": {
          "model_module": "@jupyter-widgets/controls",
          "model_name": "HBoxModel",
          "model_module_version": "1.5.0",
          "state": {
            "_dom_classes": [],
            "_model_module": "@jupyter-widgets/controls",
            "_model_module_version": "1.5.0",
            "_model_name": "HBoxModel",
            "_view_count": null,
            "_view_module": "@jupyter-widgets/controls",
            "_view_module_version": "1.5.0",
            "_view_name": "HBoxView",
            "box_style": "",
            "children": [
              "IPY_MODEL_b1fafe20026c41f69d632a309f7ff1da",
              "IPY_MODEL_9592ebe53eaa407bb53fb4ca1ea329fe",
              "IPY_MODEL_83eb57d76c764632a991cbd032e7728d"
            ],
            "layout": "IPY_MODEL_defc06ae21894b3aab8b73d7beaafd4c"
          }
        },
        "b1fafe20026c41f69d632a309f7ff1da": {
          "model_module": "@jupyter-widgets/controls",
          "model_name": "HTMLModel",
          "model_module_version": "1.5.0",
          "state": {
            "_dom_classes": [],
            "_model_module": "@jupyter-widgets/controls",
            "_model_module_version": "1.5.0",
            "_model_name": "HTMLModel",
            "_view_count": null,
            "_view_module": "@jupyter-widgets/controls",
            "_view_module_version": "1.5.0",
            "_view_name": "HTMLView",
            "description": "",
            "description_tooltip": null,
            "layout": "IPY_MODEL_84e018fa77b1438583a822418f07a646",
            "placeholder": "​",
            "style": "IPY_MODEL_638060a17d19421ca24508f4040aeeb9",
            "value": "100%"
          }
        },
        "9592ebe53eaa407bb53fb4ca1ea329fe": {
          "model_module": "@jupyter-widgets/controls",
          "model_name": "FloatProgressModel",
          "model_module_version": "1.5.0",
          "state": {
            "_dom_classes": [],
            "_model_module": "@jupyter-widgets/controls",
            "_model_module_version": "1.5.0",
            "_model_name": "FloatProgressModel",
            "_view_count": null,
            "_view_module": "@jupyter-widgets/controls",
            "_view_module_version": "1.5.0",
            "_view_name": "ProgressView",
            "bar_style": "success",
            "description": "",
            "description_tooltip": null,
            "layout": "IPY_MODEL_50b988b71856421a98a67696bc61c174",
            "max": 55,
            "min": 0,
            "orientation": "horizontal",
            "style": "IPY_MODEL_71dba21a89944231a23fd14857ef581d",
            "value": 55
          }
        },
        "83eb57d76c764632a991cbd032e7728d": {
          "model_module": "@jupyter-widgets/controls",
          "model_name": "HTMLModel",
          "model_module_version": "1.5.0",
          "state": {
            "_dom_classes": [],
            "_model_module": "@jupyter-widgets/controls",
            "_model_module_version": "1.5.0",
            "_model_name": "HTMLModel",
            "_view_count": null,
            "_view_module": "@jupyter-widgets/controls",
            "_view_module_version": "1.5.0",
            "_view_name": "HTMLView",
            "description": "",
            "description_tooltip": null,
            "layout": "IPY_MODEL_4e3d43332a40401da7a6ddd19b148b8a",
            "placeholder": "​",
            "style": "IPY_MODEL_b83b3c2342ec402da73aa35476b73302",
            "value": " 55/55 [00:41&lt;00:00,  2.10it/s]"
          }
        },
        "defc06ae21894b3aab8b73d7beaafd4c": {
          "model_module": "@jupyter-widgets/base",
          "model_name": "LayoutModel",
          "model_module_version": "1.2.0",
          "state": {
            "_model_module": "@jupyter-widgets/base",
            "_model_module_version": "1.2.0",
            "_model_name": "LayoutModel",
            "_view_count": null,
            "_view_module": "@jupyter-widgets/base",
            "_view_module_version": "1.2.0",
            "_view_name": "LayoutView",
            "align_content": null,
            "align_items": null,
            "align_self": null,
            "border": null,
            "bottom": null,
            "display": null,
            "flex": null,
            "flex_flow": null,
            "grid_area": null,
            "grid_auto_columns": null,
            "grid_auto_flow": null,
            "grid_auto_rows": null,
            "grid_column": null,
            "grid_gap": null,
            "grid_row": null,
            "grid_template_areas": null,
            "grid_template_columns": null,
            "grid_template_rows": null,
            "height": null,
            "justify_content": null,
            "justify_items": null,
            "left": null,
            "margin": null,
            "max_height": null,
            "max_width": null,
            "min_height": null,
            "min_width": null,
            "object_fit": null,
            "object_position": null,
            "order": null,
            "overflow": null,
            "overflow_x": null,
            "overflow_y": null,
            "padding": null,
            "right": null,
            "top": null,
            "visibility": null,
            "width": null
          }
        },
        "84e018fa77b1438583a822418f07a646": {
          "model_module": "@jupyter-widgets/base",
          "model_name": "LayoutModel",
          "model_module_version": "1.2.0",
          "state": {
            "_model_module": "@jupyter-widgets/base",
            "_model_module_version": "1.2.0",
            "_model_name": "LayoutModel",
            "_view_count": null,
            "_view_module": "@jupyter-widgets/base",
            "_view_module_version": "1.2.0",
            "_view_name": "LayoutView",
            "align_content": null,
            "align_items": null,
            "align_self": null,
            "border": null,
            "bottom": null,
            "display": null,
            "flex": null,
            "flex_flow": null,
            "grid_area": null,
            "grid_auto_columns": null,
            "grid_auto_flow": null,
            "grid_auto_rows": null,
            "grid_column": null,
            "grid_gap": null,
            "grid_row": null,
            "grid_template_areas": null,
            "grid_template_columns": null,
            "grid_template_rows": null,
            "height": null,
            "justify_content": null,
            "justify_items": null,
            "left": null,
            "margin": null,
            "max_height": null,
            "max_width": null,
            "min_height": null,
            "min_width": null,
            "object_fit": null,
            "object_position": null,
            "order": null,
            "overflow": null,
            "overflow_x": null,
            "overflow_y": null,
            "padding": null,
            "right": null,
            "top": null,
            "visibility": null,
            "width": null
          }
        },
        "638060a17d19421ca24508f4040aeeb9": {
          "model_module": "@jupyter-widgets/controls",
          "model_name": "DescriptionStyleModel",
          "model_module_version": "1.5.0",
          "state": {
            "_model_module": "@jupyter-widgets/controls",
            "_model_module_version": "1.5.0",
            "_model_name": "DescriptionStyleModel",
            "_view_count": null,
            "_view_module": "@jupyter-widgets/base",
            "_view_module_version": "1.2.0",
            "_view_name": "StyleView",
            "description_width": ""
          }
        },
        "50b988b71856421a98a67696bc61c174": {
          "model_module": "@jupyter-widgets/base",
          "model_name": "LayoutModel",
          "model_module_version": "1.2.0",
          "state": {
            "_model_module": "@jupyter-widgets/base",
            "_model_module_version": "1.2.0",
            "_model_name": "LayoutModel",
            "_view_count": null,
            "_view_module": "@jupyter-widgets/base",
            "_view_module_version": "1.2.0",
            "_view_name": "LayoutView",
            "align_content": null,
            "align_items": null,
            "align_self": null,
            "border": null,
            "bottom": null,
            "display": null,
            "flex": null,
            "flex_flow": null,
            "grid_area": null,
            "grid_auto_columns": null,
            "grid_auto_flow": null,
            "grid_auto_rows": null,
            "grid_column": null,
            "grid_gap": null,
            "grid_row": null,
            "grid_template_areas": null,
            "grid_template_columns": null,
            "grid_template_rows": null,
            "height": null,
            "justify_content": null,
            "justify_items": null,
            "left": null,
            "margin": null,
            "max_height": null,
            "max_width": null,
            "min_height": null,
            "min_width": null,
            "object_fit": null,
            "object_position": null,
            "order": null,
            "overflow": null,
            "overflow_x": null,
            "overflow_y": null,
            "padding": null,
            "right": null,
            "top": null,
            "visibility": null,
            "width": null
          }
        },
        "71dba21a89944231a23fd14857ef581d": {
          "model_module": "@jupyter-widgets/controls",
          "model_name": "ProgressStyleModel",
          "model_module_version": "1.5.0",
          "state": {
            "_model_module": "@jupyter-widgets/controls",
            "_model_module_version": "1.5.0",
            "_model_name": "ProgressStyleModel",
            "_view_count": null,
            "_view_module": "@jupyter-widgets/base",
            "_view_module_version": "1.2.0",
            "_view_name": "StyleView",
            "bar_color": null,
            "description_width": ""
          }
        },
        "4e3d43332a40401da7a6ddd19b148b8a": {
          "model_module": "@jupyter-widgets/base",
          "model_name": "LayoutModel",
          "model_module_version": "1.2.0",
          "state": {
            "_model_module": "@jupyter-widgets/base",
            "_model_module_version": "1.2.0",
            "_model_name": "LayoutModel",
            "_view_count": null,
            "_view_module": "@jupyter-widgets/base",
            "_view_module_version": "1.2.0",
            "_view_name": "LayoutView",
            "align_content": null,
            "align_items": null,
            "align_self": null,
            "border": null,
            "bottom": null,
            "display": null,
            "flex": null,
            "flex_flow": null,
            "grid_area": null,
            "grid_auto_columns": null,
            "grid_auto_flow": null,
            "grid_auto_rows": null,
            "grid_column": null,
            "grid_gap": null,
            "grid_row": null,
            "grid_template_areas": null,
            "grid_template_columns": null,
            "grid_template_rows": null,
            "height": null,
            "justify_content": null,
            "justify_items": null,
            "left": null,
            "margin": null,
            "max_height": null,
            "max_width": null,
            "min_height": null,
            "min_width": null,
            "object_fit": null,
            "object_position": null,
            "order": null,
            "overflow": null,
            "overflow_x": null,
            "overflow_y": null,
            "padding": null,
            "right": null,
            "top": null,
            "visibility": null,
            "width": null
          }
        },
        "b83b3c2342ec402da73aa35476b73302": {
          "model_module": "@jupyter-widgets/controls",
          "model_name": "DescriptionStyleModel",
          "model_module_version": "1.5.0",
          "state": {
            "_model_module": "@jupyter-widgets/controls",
            "_model_module_version": "1.5.0",
            "_model_name": "DescriptionStyleModel",
            "_view_count": null,
            "_view_module": "@jupyter-widgets/base",
            "_view_module_version": "1.2.0",
            "_view_name": "StyleView",
            "description_width": ""
          }
        },
        "668a6d70446d484e8d366f6c0b2c9df9": {
          "model_module": "@jupyter-widgets/controls",
          "model_name": "HBoxModel",
          "model_module_version": "1.5.0",
          "state": {
            "_dom_classes": [],
            "_model_module": "@jupyter-widgets/controls",
            "_model_module_version": "1.5.0",
            "_model_name": "HBoxModel",
            "_view_count": null,
            "_view_module": "@jupyter-widgets/controls",
            "_view_module_version": "1.5.0",
            "_view_name": "HBoxView",
            "box_style": "",
            "children": [
              "IPY_MODEL_0093bf00555a49ffa6acb66587fbbfba",
              "IPY_MODEL_3ac638e436e24790978150889d01f8d6",
              "IPY_MODEL_8efa4ae9e25d489f85ff98be335b5228"
            ],
            "layout": "IPY_MODEL_12e768e782b141668dde253beebd7a81"
          }
        },
        "0093bf00555a49ffa6acb66587fbbfba": {
          "model_module": "@jupyter-widgets/controls",
          "model_name": "HTMLModel",
          "model_module_version": "1.5.0",
          "state": {
            "_dom_classes": [],
            "_model_module": "@jupyter-widgets/controls",
            "_model_module_version": "1.5.0",
            "_model_name": "HTMLModel",
            "_view_count": null,
            "_view_module": "@jupyter-widgets/controls",
            "_view_module_version": "1.5.0",
            "_view_name": "HTMLView",
            "description": "",
            "description_tooltip": null,
            "layout": "IPY_MODEL_251bb4bd40ed4d21b67153998a60623e",
            "placeholder": "​",
            "style": "IPY_MODEL_2c75b020b0db4b798c00bd5b536bc1e2",
            "value": "100%"
          }
        },
        "3ac638e436e24790978150889d01f8d6": {
          "model_module": "@jupyter-widgets/controls",
          "model_name": "FloatProgressModel",
          "model_module_version": "1.5.0",
          "state": {
            "_dom_classes": [],
            "_model_module": "@jupyter-widgets/controls",
            "_model_module_version": "1.5.0",
            "_model_name": "FloatProgressModel",
            "_view_count": null,
            "_view_module": "@jupyter-widgets/controls",
            "_view_module_version": "1.5.0",
            "_view_name": "ProgressView",
            "bar_style": "success",
            "description": "",
            "description_tooltip": null,
            "layout": "IPY_MODEL_19868d035d2d4cd4a465ba1be6a8e5c3",
            "max": 55,
            "min": 0,
            "orientation": "horizontal",
            "style": "IPY_MODEL_e87e9b1436cf4d94a32208311025fa59",
            "value": 55
          }
        },
        "8efa4ae9e25d489f85ff98be335b5228": {
          "model_module": "@jupyter-widgets/controls",
          "model_name": "HTMLModel",
          "model_module_version": "1.5.0",
          "state": {
            "_dom_classes": [],
            "_model_module": "@jupyter-widgets/controls",
            "_model_module_version": "1.5.0",
            "_model_name": "HTMLModel",
            "_view_count": null,
            "_view_module": "@jupyter-widgets/controls",
            "_view_module_version": "1.5.0",
            "_view_name": "HTMLView",
            "description": "",
            "description_tooltip": null,
            "layout": "IPY_MODEL_9b60c467410144c7837f558fdf4a1195",
            "placeholder": "​",
            "style": "IPY_MODEL_4ec96aad34d24da7833d49dc2ddbc1c5",
            "value": " 55/55 [00:41&lt;00:00,  2.05it/s]"
          }
        },
        "12e768e782b141668dde253beebd7a81": {
          "model_module": "@jupyter-widgets/base",
          "model_name": "LayoutModel",
          "model_module_version": "1.2.0",
          "state": {
            "_model_module": "@jupyter-widgets/base",
            "_model_module_version": "1.2.0",
            "_model_name": "LayoutModel",
            "_view_count": null,
            "_view_module": "@jupyter-widgets/base",
            "_view_module_version": "1.2.0",
            "_view_name": "LayoutView",
            "align_content": null,
            "align_items": null,
            "align_self": null,
            "border": null,
            "bottom": null,
            "display": null,
            "flex": null,
            "flex_flow": null,
            "grid_area": null,
            "grid_auto_columns": null,
            "grid_auto_flow": null,
            "grid_auto_rows": null,
            "grid_column": null,
            "grid_gap": null,
            "grid_row": null,
            "grid_template_areas": null,
            "grid_template_columns": null,
            "grid_template_rows": null,
            "height": null,
            "justify_content": null,
            "justify_items": null,
            "left": null,
            "margin": null,
            "max_height": null,
            "max_width": null,
            "min_height": null,
            "min_width": null,
            "object_fit": null,
            "object_position": null,
            "order": null,
            "overflow": null,
            "overflow_x": null,
            "overflow_y": null,
            "padding": null,
            "right": null,
            "top": null,
            "visibility": null,
            "width": null
          }
        },
        "251bb4bd40ed4d21b67153998a60623e": {
          "model_module": "@jupyter-widgets/base",
          "model_name": "LayoutModel",
          "model_module_version": "1.2.0",
          "state": {
            "_model_module": "@jupyter-widgets/base",
            "_model_module_version": "1.2.0",
            "_model_name": "LayoutModel",
            "_view_count": null,
            "_view_module": "@jupyter-widgets/base",
            "_view_module_version": "1.2.0",
            "_view_name": "LayoutView",
            "align_content": null,
            "align_items": null,
            "align_self": null,
            "border": null,
            "bottom": null,
            "display": null,
            "flex": null,
            "flex_flow": null,
            "grid_area": null,
            "grid_auto_columns": null,
            "grid_auto_flow": null,
            "grid_auto_rows": null,
            "grid_column": null,
            "grid_gap": null,
            "grid_row": null,
            "grid_template_areas": null,
            "grid_template_columns": null,
            "grid_template_rows": null,
            "height": null,
            "justify_content": null,
            "justify_items": null,
            "left": null,
            "margin": null,
            "max_height": null,
            "max_width": null,
            "min_height": null,
            "min_width": null,
            "object_fit": null,
            "object_position": null,
            "order": null,
            "overflow": null,
            "overflow_x": null,
            "overflow_y": null,
            "padding": null,
            "right": null,
            "top": null,
            "visibility": null,
            "width": null
          }
        },
        "2c75b020b0db4b798c00bd5b536bc1e2": {
          "model_module": "@jupyter-widgets/controls",
          "model_name": "DescriptionStyleModel",
          "model_module_version": "1.5.0",
          "state": {
            "_model_module": "@jupyter-widgets/controls",
            "_model_module_version": "1.5.0",
            "_model_name": "DescriptionStyleModel",
            "_view_count": null,
            "_view_module": "@jupyter-widgets/base",
            "_view_module_version": "1.2.0",
            "_view_name": "StyleView",
            "description_width": ""
          }
        },
        "19868d035d2d4cd4a465ba1be6a8e5c3": {
          "model_module": "@jupyter-widgets/base",
          "model_name": "LayoutModel",
          "model_module_version": "1.2.0",
          "state": {
            "_model_module": "@jupyter-widgets/base",
            "_model_module_version": "1.2.0",
            "_model_name": "LayoutModel",
            "_view_count": null,
            "_view_module": "@jupyter-widgets/base",
            "_view_module_version": "1.2.0",
            "_view_name": "LayoutView",
            "align_content": null,
            "align_items": null,
            "align_self": null,
            "border": null,
            "bottom": null,
            "display": null,
            "flex": null,
            "flex_flow": null,
            "grid_area": null,
            "grid_auto_columns": null,
            "grid_auto_flow": null,
            "grid_auto_rows": null,
            "grid_column": null,
            "grid_gap": null,
            "grid_row": null,
            "grid_template_areas": null,
            "grid_template_columns": null,
            "grid_template_rows": null,
            "height": null,
            "justify_content": null,
            "justify_items": null,
            "left": null,
            "margin": null,
            "max_height": null,
            "max_width": null,
            "min_height": null,
            "min_width": null,
            "object_fit": null,
            "object_position": null,
            "order": null,
            "overflow": null,
            "overflow_x": null,
            "overflow_y": null,
            "padding": null,
            "right": null,
            "top": null,
            "visibility": null,
            "width": null
          }
        },
        "e87e9b1436cf4d94a32208311025fa59": {
          "model_module": "@jupyter-widgets/controls",
          "model_name": "ProgressStyleModel",
          "model_module_version": "1.5.0",
          "state": {
            "_model_module": "@jupyter-widgets/controls",
            "_model_module_version": "1.5.0",
            "_model_name": "ProgressStyleModel",
            "_view_count": null,
            "_view_module": "@jupyter-widgets/base",
            "_view_module_version": "1.2.0",
            "_view_name": "StyleView",
            "bar_color": null,
            "description_width": ""
          }
        },
        "9b60c467410144c7837f558fdf4a1195": {
          "model_module": "@jupyter-widgets/base",
          "model_name": "LayoutModel",
          "model_module_version": "1.2.0",
          "state": {
            "_model_module": "@jupyter-widgets/base",
            "_model_module_version": "1.2.0",
            "_model_name": "LayoutModel",
            "_view_count": null,
            "_view_module": "@jupyter-widgets/base",
            "_view_module_version": "1.2.0",
            "_view_name": "LayoutView",
            "align_content": null,
            "align_items": null,
            "align_self": null,
            "border": null,
            "bottom": null,
            "display": null,
            "flex": null,
            "flex_flow": null,
            "grid_area": null,
            "grid_auto_columns": null,
            "grid_auto_flow": null,
            "grid_auto_rows": null,
            "grid_column": null,
            "grid_gap": null,
            "grid_row": null,
            "grid_template_areas": null,
            "grid_template_columns": null,
            "grid_template_rows": null,
            "height": null,
            "justify_content": null,
            "justify_items": null,
            "left": null,
            "margin": null,
            "max_height": null,
            "max_width": null,
            "min_height": null,
            "min_width": null,
            "object_fit": null,
            "object_position": null,
            "order": null,
            "overflow": null,
            "overflow_x": null,
            "overflow_y": null,
            "padding": null,
            "right": null,
            "top": null,
            "visibility": null,
            "width": null
          }
        },
        "4ec96aad34d24da7833d49dc2ddbc1c5": {
          "model_module": "@jupyter-widgets/controls",
          "model_name": "DescriptionStyleModel",
          "model_module_version": "1.5.0",
          "state": {
            "_model_module": "@jupyter-widgets/controls",
            "_model_module_version": "1.5.0",
            "_model_name": "DescriptionStyleModel",
            "_view_count": null,
            "_view_module": "@jupyter-widgets/base",
            "_view_module_version": "1.2.0",
            "_view_name": "StyleView",
            "description_width": ""
          }
        }
      }
    }
  },
  "nbformat": 4,
  "nbformat_minor": 0
}