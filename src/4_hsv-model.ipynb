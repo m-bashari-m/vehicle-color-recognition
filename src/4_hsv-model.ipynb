{
  "nbformat": 4,
  "nbformat_minor": 0,
  "metadata": {
    "colab": {
      "name": "Untitled1.ipynb",
      "provenance": [],
      "authorship_tag": "ABX9TyM8MFliq9R1rkjRQoapRDVi",
      "include_colab_link": true
    },
    "kernelspec": {
      "name": "python3",
      "display_name": "Python 3"
    },
    "language_info": {
      "name": "python"
    },
    "accelerator": "GPU"
  },
  "cells": [
    {
      "cell_type": "markdown",
      "metadata": {
        "id": "view-in-github",
        "colab_type": "text"
      },
      "source": [
        "<a href=\"https://colab.research.google.com/github/m-bashari-m/vehicle-color-recognition/blob/main/src/hsv-model.ipynb\" target=\"_parent\"><img src=\"https://colab.research.google.com/assets/colab-badge.svg\" alt=\"Open In Colab\"/></a>"
      ]
    },
    {
      "cell_type": "code",
      "execution_count": 1,
      "metadata": {
        "colab": {
          "base_uri": "https://localhost:8080/"
        },
        "id": "lbfRhziV_SuY",
        "outputId": "38547b54-9b9f-4716-a9f4-98d72c55ec84"
      },
      "outputs": [
        {
          "output_type": "stream",
          "name": "stdout",
          "text": [
            "--2022-06-07 18:29:48--  https://raw.githubusercontent.com/m-bashari-m/vehicle-color-recognition/main/src/utils.py\n",
            "Resolving raw.githubusercontent.com (raw.githubusercontent.com)... 185.199.109.133, 185.199.111.133, 185.199.108.133, ...\n",
            "Connecting to raw.githubusercontent.com (raw.githubusercontent.com)|185.199.109.133|:443... connected.\n",
            "HTTP request sent, awaiting response... 200 OK\n",
            "Length: 9887 (9.7K) [text/plain]\n",
            "Saving to: ‘utils.py’\n",
            "\n",
            "utils.py            100%[===================>]   9.66K  --.-KB/s    in 0s      \n",
            "\n",
            "2022-06-07 18:29:48 (70.3 MB/s) - ‘utils.py’ saved [9887/9887]\n",
            "\n"
          ]
        }
      ],
      "source": [
        "!wget https://raw.githubusercontent.com/m-bashari-m/vehicle-color-recognition/main/src/utils.py"
      ]
    },
    {
      "cell_type": "code",
      "source": [
        "from google.colab import drive\n",
        "drive.mount('./drive')"
      ],
      "metadata": {
        "colab": {
          "base_uri": "https://localhost:8080/"
        },
        "id": "dbaZViRwAPSA",
        "outputId": "7c2afb60-07ed-4764-91db-9b4b5ea1ff1f"
      },
      "execution_count": 2,
      "outputs": [
        {
          "output_type": "stream",
          "name": "stdout",
          "text": [
            "Mounted at ./drive\n"
          ]
        }
      ]
    },
    {
      "cell_type": "code",
      "source": [
        "import pandas as pd\n",
        "import numpy as np\n",
        "import os\n",
        "\n",
        "import tensorflow as tf\n",
        "from tensorflow import keras\n",
        "import tensorflow_hub as hub\n",
        "\n",
        "\n",
        "from utils import ModelCreator, get_train_val_ds, get_class_weight"
      ],
      "metadata": {
        "id": "rc7tl4w2AP9w"
      },
      "execution_count": 3,
      "outputs": []
    },
    {
      "cell_type": "code",
      "source": [
        "BATCH_SIZE = 32\n",
        "IMG_SIZE = (256, 256)\n",
        "AUTOTUNE = tf.data.AUTOTUNE\n",
        "N_CLASSES = 16\n",
        "HUB_URL = 'https://tfhub.dev/google/bit/m-r50x1/1'"
      ],
      "metadata": {
        "id": "srFlURD4AQKI"
      },
      "execution_count": 4,
      "outputs": []
    },
    {
      "cell_type": "code",
      "source": [
        "dataset_dir = os.path.join('drive', 'MyDrive', 'cars')\n",
        "train_dir = os.path.join(dataset_dir, 'train')\n",
        "val_dir = os.path.join(dataset_dir, 'val')"
      ],
      "metadata": {
        "id": "Loa16DctAQVZ"
      },
      "execution_count": 5,
      "outputs": []
    },
    {
      "cell_type": "code",
      "source": [
        "train_ds, _ = get_train_val_ds(train_dir, val_dir, batch_size=BATCH_SIZE, img_size=IMG_SIZE)"
      ],
      "metadata": {
        "colab": {
          "base_uri": "https://localhost:8080/"
        },
        "id": "eP5AHSPlAQiY",
        "outputId": "c705e7af-3837-4db0-8e00-4a8fb7b62e29"
      },
      "execution_count": 6,
      "outputs": [
        {
          "output_type": "stream",
          "name": "stdout",
          "text": [
            "Found 16580 files belonging to 16 classes.\n",
            "Found 3510 files belonging to 16 classes.\n"
          ]
        }
      ]
    },
    {
      "cell_type": "code",
      "source": [
        "classes, class_weight = get_class_weight()"
      ],
      "metadata": {
        "id": "3_tfsEoWAQvo"
      },
      "execution_count": 7,
      "outputs": []
    },
    {
      "cell_type": "code",
      "source": [
        "train_ds = (\n",
        "    train_ds.\n",
        "    map(lambda img, lbl: (img/255., lbl), num_parallel_calls=AUTOTUNE).\n",
        "    map(lambda img, lbl: (tf.image.rgb_to_hsv(img), lbl), num_parallel_calls=AUTOTUNE).\n",
        "    prefetch(AUTOTUNE))"
      ],
      "metadata": {
        "id": "mNVQnvhiAhho"
      },
      "execution_count": 8,
      "outputs": []
    },
    {
      "cell_type": "code",
      "source": [
        "hsv_creator = ModelCreator(HUB_URL, 'HSV-model')\n",
        "hsv_model = hsv_creator.make_model(img_size=IMG_SIZE)"
      ],
      "metadata": {
        "id": "9JsdrSl_AuRh",
        "outputId": "b4816c3d-e7fd-4e2b-dacd-ebbbb4328ba9",
        "colab": {
          "base_uri": "https://localhost:8080/"
        }
      },
      "execution_count": 9,
      "outputs": [
        {
          "output_type": "stream",
          "name": "stdout",
          "text": [
            "Model: \"HSV-model\"\n",
            "_________________________________________________________________\n",
            " Layer (type)                Output Shape              Param #   \n",
            "=================================================================\n",
            " keras_layer (KerasLayer)    (None, 2048)              23500352  \n",
            "                                                                 \n",
            " dense (Dense)               (None, 600)               1229400   \n",
            "                                                                 \n",
            " dropout (Dropout)           (None, 600)               0         \n",
            "                                                                 \n",
            " dense_1 (Dense)             (None, 16)                9616      \n",
            "                                                                 \n",
            "=================================================================\n",
            "Total params: 24,739,368\n",
            "Trainable params: 1,239,016\n",
            "Non-trainable params: 23,500,352\n",
            "_________________________________________________________________\n"
          ]
        }
      ]
    },
    {
      "cell_type": "code",
      "source": [
        "callbacks = hsv_creator.get_callbacks()"
      ],
      "metadata": {
        "id": "brgc8ZQPpCdQ"
      },
      "execution_count": 10,
      "outputs": []
    },
    {
      "cell_type": "markdown",
      "source": [
        "# ***First*** day of training"
      ],
      "metadata": {
        "id": "Ym83QenlAIBY"
      }
    },
    {
      "cell_type": "code",
      "source": [
        "history = hsv_model.fit(train_ds,\n",
        "                        callbacks=callbacks,\n",
        "                        epochs=25,\n",
        "                        class_weight=class_weight)"
      ],
      "metadata": {
        "colab": {
          "base_uri": "https://localhost:8080/"
        },
        "id": "gGBleAoQA57o",
        "outputId": "69e7694a-9170-4366-9d82-118387d56779"
      },
      "execution_count": 11,
      "outputs": [
        {
          "output_type": "stream",
          "name": "stdout",
          "text": [
            "Epoch 1/25\n",
            "519/519 [==============================] - 3212s 6s/step - loss: 1412.3386 - auc: 0.2989 - accuracy: 0.4707\n",
            "Epoch 2/25\n",
            "519/519 [==============================] - 144s 276ms/step - loss: 1670.1146 - auc: 0.3392 - accuracy: 0.5201\n",
            "Epoch 3/25\n",
            "519/519 [==============================] - 146s 279ms/step - loss: 1190.4730 - auc: 0.3788 - accuracy: 0.5556\n",
            "Epoch 4/25\n",
            "519/519 [==============================] - 147s 281ms/step - loss: 1155.5914 - auc: 0.3948 - accuracy: 0.5706\n",
            "Epoch 5/25\n",
            "519/519 [==============================] - 147s 280ms/step - loss: 837.3010 - auc: 0.4383 - accuracy: 0.6090\n",
            "Epoch 6/25\n",
            "519/519 [==============================] - 147s 280ms/step - loss: 748.4167 - auc: 0.4474 - accuracy: 0.6168\n",
            "Epoch 7/25\n",
            "519/519 [==============================] - 147s 281ms/step - loss: 612.3502 - auc: 0.4703 - accuracy: 0.6316\n",
            "Epoch 8/25\n",
            "519/519 [==============================] - 147s 282ms/step - loss: 645.6837 - auc: 0.4703 - accuracy: 0.6336\n",
            "Epoch 9/25\n",
            "519/519 [==============================] - 153s 292ms/step - loss: 526.7181 - auc: 0.4865 - accuracy: 0.6456\n",
            "Epoch 10/25\n",
            "519/519 [==============================] - 147s 282ms/step - loss: 402.7492 - auc: 0.5149 - accuracy: 0.6649\n",
            "Epoch 11/25\n",
            "519/519 [==============================] - 148s 282ms/step - loss: 342.7158 - auc: 0.5286 - accuracy: 0.6745\n",
            "Epoch 12/25\n",
            "519/519 [==============================] - 148s 282ms/step - loss: 308.9425 - auc: 0.5362 - accuracy: 0.6782\n",
            "Epoch 13/25\n",
            "519/519 [==============================] - 147s 281ms/step - loss: 244.1720 - auc: 0.5617 - accuracy: 0.6957\n",
            "Epoch 14/25\n",
            "519/519 [==============================] - 147s 281ms/step - loss: 250.5148 - auc: 0.5558 - accuracy: 0.6915\n",
            "Epoch 15/25\n",
            "519/519 [==============================] - 147s 281ms/step - loss: 201.2926 - auc: 0.5786 - accuracy: 0.7049\n",
            "Epoch 16/25\n",
            "519/519 [==============================] - 148s 282ms/step - loss: 161.4761 - auc: 0.5951 - accuracy: 0.7150\n",
            "Epoch 17/25\n",
            "519/519 [==============================] - 148s 282ms/step - loss: 142.5658 - auc: 0.6104 - accuracy: 0.7251\n",
            "Epoch 18/25\n",
            "519/519 [==============================] - 147s 281ms/step - loss: 124.8912 - auc: 0.6256 - accuracy: 0.7308\n",
            "Epoch 19/25\n",
            "519/519 [==============================] - 147s 282ms/step - loss: 116.0013 - auc: 0.6340 - accuracy: 0.7338\n",
            "Epoch 20/25\n",
            "519/519 [==============================] - 147s 281ms/step - loss: 94.2421 - auc: 0.6521 - accuracy: 0.7448\n",
            "Epoch 21/25\n",
            "519/519 [==============================] - 147s 281ms/step - loss: 79.9461 - auc: 0.6758 - accuracy: 0.7542\n",
            "Epoch 22/25\n",
            "519/519 [==============================] - 147s 281ms/step - loss: 72.8428 - auc: 0.6791 - accuracy: 0.7535\n",
            "Epoch 23/25\n",
            "519/519 [==============================] - 147s 282ms/step - loss: 59.8674 - auc: 0.7013 - accuracy: 0.7656\n",
            "Epoch 24/25\n",
            "519/519 [==============================] - 148s 283ms/step - loss: 55.5921 - auc: 0.7067 - accuracy: 0.7683\n",
            "Epoch 25/25\n",
            "519/519 [==============================] - 148s 282ms/step - loss: 51.1382 - auc: 0.7191 - accuracy: 0.7761\n"
          ]
        }
      ]
    },
    {
      "cell_type": "code",
      "source": [
        "hsv_model.save('./drive/MyDrive/checkpoints/hsv-model-25.h5')"
      ],
      "metadata": {
        "id": "LFGG08T94iFO"
      },
      "execution_count": 12,
      "outputs": []
    },
    {
      "cell_type": "code",
      "source": [
        "history = hsv_model.fit(train_ds,\n",
        "                          callbacks=callbacks,\n",
        "                          epochs=35,\n",
        "                          class_weight=class_weight,\n",
        "                          initial_epoch=25)"
      ],
      "metadata": {
        "id": "VsDEewJ2XI70",
        "outputId": "6110522f-8ce6-4431-d3b4-823991a3f79d",
        "colab": {
          "base_uri": "https://localhost:8080/"
        }
      },
      "execution_count": 13,
      "outputs": [
        {
          "output_type": "stream",
          "name": "stdout",
          "text": [
            "Epoch 26/35\n",
            "519/519 [==============================] - 148s 282ms/step - loss: 43.2054 - auc: 0.7388 - accuracy: 0.7797\n",
            "Epoch 27/35\n",
            "519/519 [==============================] - 149s 284ms/step - loss: 38.6738 - auc: 0.7499 - accuracy: 0.7896\n",
            "Epoch 28/35\n",
            "519/519 [==============================] - 148s 282ms/step - loss: 38.9391 - auc: 0.7513 - accuracy: 0.7873\n",
            "Epoch 29/35\n",
            "519/519 [==============================] - 147s 281ms/step - loss: 31.5158 - auc: 0.7726 - accuracy: 0.7966\n",
            "Epoch 30/35\n",
            "519/519 [==============================] - 149s 282ms/step - loss: 27.9170 - auc: 0.7879 - accuracy: 0.8028\n",
            "Epoch 31/35\n",
            "519/519 [==============================] - 148s 282ms/step - loss: 24.6731 - auc: 0.7985 - accuracy: 0.8064\n",
            "Epoch 32/35\n",
            "519/519 [==============================] - 147s 282ms/step - loss: 23.6671 - auc: 0.8047 - accuracy: 0.8061\n",
            "Epoch 33/35\n",
            "519/519 [==============================] - 148s 282ms/step - loss: 21.8818 - auc: 0.8179 - accuracy: 0.8168\n",
            "Epoch 34/35\n",
            "519/519 [==============================] - 147s 282ms/step - loss: 18.9056 - auc: 0.8237 - accuracy: 0.8185\n",
            "Epoch 35/35\n",
            "519/519 [==============================] - 148s 282ms/step - loss: 18.6142 - auc: 0.8326 - accuracy: 0.8198\n"
          ]
        }
      ]
    },
    {
      "cell_type": "code",
      "source": [
        "hsv_model.save('./drive/MyDrive/checkpoints/hsv-model-35.h5')"
      ],
      "metadata": {
        "id": "0Ct0tJUBz_LE"
      },
      "execution_count": 14,
      "outputs": []
    },
    {
      "cell_type": "markdown",
      "source": [
        "# ***Second*** day"
      ],
      "metadata": {
        "id": "xrhel0ElKukv"
      }
    },
    {
      "cell_type": "code",
      "source": [
        ""
      ],
      "metadata": {
        "id": "3Whayt_C4ag0"
      },
      "execution_count": null,
      "outputs": []
    },
    {
      "cell_type": "code",
      "source": [
        "hsv_model = tf.keras.models.load_model('./drive/MyDrive/checkpoints/hsv-model-25.h5',\n",
        "                                       custom_objects={'KerasLayer':hub.KerasLayer})"
      ],
      "metadata": {
        "id": "1I1uBYfoKvu5"
      },
      "execution_count": null,
      "outputs": []
    },
    {
      "cell_type": "code",
      "source": [
        "hsv_model.save('drive/MyDrive/checkpoints/hsv-model-40.h5')"
      ],
      "metadata": {
        "id": "XYG-Y6i-8mGl"
      },
      "execution_count": null,
      "outputs": []
    }
  ]
}