{
  "nbformat": 4,
  "nbformat_minor": 0,
  "metadata": {
    "colab": {
      "name": "Untitled1.ipynb",
      "provenance": [],
      "include_colab_link": true
    },
    "kernelspec": {
      "name": "python3",
      "display_name": "Python 3"
    },
    "language_info": {
      "name": "python"
    },
    "accelerator": "GPU",
    "gpuClass": "standard"
  },
  "cells": [
    {
      "cell_type": "markdown",
      "metadata": {
        "id": "view-in-github",
        "colab_type": "text"
      },
      "source": [
        "<a href=\"https://colab.research.google.com/github/m-bashari-m/vehicle-color-recognition/blob/main/src/4_hsv-model.ipynb\" target=\"_parent\"><img src=\"https://colab.research.google.com/assets/colab-badge.svg\" alt=\"Open In Colab\"/></a>"
      ]
    },
    {
      "cell_type": "code",
      "execution_count": 1,
      "metadata": {
        "colab": {
          "base_uri": "https://localhost:8080/"
        },
        "id": "lbfRhziV_SuY",
        "outputId": "0593aa0b-6a75-4e4c-f65f-440dd5a6d893"
      },
      "outputs": [
        {
          "output_type": "stream",
          "name": "stdout",
          "text": [
            "--2022-06-14 19:12:24--  https://raw.githubusercontent.com/m-bashari-m/vehicle-color-recognition/main/src/utils.py\n",
            "Resolving raw.githubusercontent.com (raw.githubusercontent.com)... 185.199.108.133, 185.199.109.133, 185.199.110.133, ...\n",
            "Connecting to raw.githubusercontent.com (raw.githubusercontent.com)|185.199.108.133|:443... connected.\n",
            "HTTP request sent, awaiting response... 200 OK\n",
            "Length: 11733 (11K) [text/plain]\n",
            "Saving to: ‘utils.py’\n",
            "\n",
            "\rutils.py              0%[                    ]       0  --.-KB/s               \rutils.py            100%[===================>]  11.46K  --.-KB/s    in 0s      \n",
            "\n",
            "2022-06-14 19:12:24 (105 MB/s) - ‘utils.py’ saved [11733/11733]\n",
            "\n"
          ]
        }
      ],
      "source": [
        "!wget https://raw.githubusercontent.com/m-bashari-m/vehicle-color-recognition/main/src/utils.py"
      ]
    },
    {
      "cell_type": "code",
      "source": [
        "from google.colab import drive\n",
        "drive.mount('./drive')"
      ],
      "metadata": {
        "colab": {
          "base_uri": "https://localhost:8080/"
        },
        "id": "dbaZViRwAPSA",
        "outputId": "14691e03-74a2-47fc-8f1b-65bacc6fbc6d"
      },
      "execution_count": 2,
      "outputs": [
        {
          "output_type": "stream",
          "name": "stdout",
          "text": [
            "Mounted at ./drive\n"
          ]
        }
      ]
    },
    {
      "cell_type": "code",
      "source": [
        "import pandas as pd\n",
        "import numpy as np\n",
        "import os\n",
        "\n",
        "import tensorflow as tf\n",
        "from tensorflow import keras\n",
        "import tensorflow_hub as hub\n",
        "\n",
        "\n",
        "from utils import ModelCreator, get_train_val_ds, get_class_weight"
      ],
      "metadata": {
        "id": "rc7tl4w2AP9w"
      },
      "execution_count": 3,
      "outputs": []
    },
    {
      "cell_type": "code",
      "source": [
        "BATCH_SIZE = 32\n",
        "IMG_SIZE = (256, 256)\n",
        "AUTOTUNE = tf.data.AUTOTUNE\n",
        "N_CLASSES = 16\n",
        "HUB_URL = 'https://tfhub.dev/google/bit/m-r50x1/1'"
      ],
      "metadata": {
        "id": "srFlURD4AQKI"
      },
      "execution_count": 4,
      "outputs": []
    },
    {
      "cell_type": "code",
      "source": [
        "dataset_dir = os.path.join('drive', 'MyDrive', 'cars')\n",
        "train_dir = os.path.join(dataset_dir, 'train')\n",
        "val_dir = os.path.join(dataset_dir, 'val')"
      ],
      "metadata": {
        "id": "Loa16DctAQVZ"
      },
      "execution_count": 5,
      "outputs": []
    },
    {
      "cell_type": "code",
      "source": [
        "train_ds, _ = get_train_val_ds(train_dir, val_dir, batch_size=BATCH_SIZE, img_size=IMG_SIZE)"
      ],
      "metadata": {
        "colab": {
          "base_uri": "https://localhost:8080/"
        },
        "id": "eP5AHSPlAQiY",
        "outputId": "f5a3f52f-42d7-4257-d14a-970984ecbbef"
      },
      "execution_count": 6,
      "outputs": [
        {
          "output_type": "stream",
          "name": "stdout",
          "text": [
            "Found 17043 files belonging to 16 classes.\n",
            "Found 3495 files belonging to 16 classes.\n"
          ]
        }
      ]
    },
    {
      "cell_type": "code",
      "source": [
        "classes, class_weight = get_class_weight()"
      ],
      "metadata": {
        "id": "3_tfsEoWAQvo"
      },
      "execution_count": 7,
      "outputs": []
    },
    {
      "cell_type": "code",
      "source": [
        "train_ds = (\n",
        "    train_ds.\n",
        "    map(lambda img, lbl: (img/255., lbl), num_parallel_calls=AUTOTUNE).\n",
        "    map(lambda img, lbl: (tf.image.rgb_to_hsv(img), lbl), num_parallel_calls=AUTOTUNE).\n",
        "    prefetch(AUTOTUNE))"
      ],
      "metadata": {
        "id": "mNVQnvhiAhho"
      },
      "execution_count": null,
      "outputs": []
    },
    {
      "cell_type": "code",
      "source": [
        "hsv_creator = ModelCreator(HUB_URL, 'HSV-model')\n",
        "hsv_model = hsv_creator.make_model(img_size=IMG_SIZE)"
      ],
      "metadata": {
        "id": "9JsdrSl_AuRh",
        "outputId": "9ffde759-0a36-414e-c9fb-bad97c24db1d",
        "colab": {
          "base_uri": "https://localhost:8080/"
        }
      },
      "execution_count": 8,
      "outputs": [
        {
          "output_type": "stream",
          "name": "stdout",
          "text": [
            "Model: \"HSV-model\"\n",
            "_________________________________________________________________\n",
            " Layer (type)                Output Shape              Param #   \n",
            "=================================================================\n",
            " keras_layer (KerasLayer)    (None, 2048)              23500352  \n",
            "                                                                 \n",
            " dense (Dense)               (None, 16)                32784     \n",
            "                                                                 \n",
            "=================================================================\n",
            "Total params: 23,533,136\n",
            "Trainable params: 32,784\n",
            "Non-trainable params: 23,500,352\n",
            "_________________________________________________________________\n"
          ]
        }
      ]
    },
    {
      "cell_type": "code",
      "source": [
        "callbacks = hsv_creator.get_callbacks()"
      ],
      "metadata": {
        "id": "brgc8ZQPpCdQ"
      },
      "execution_count": 9,
      "outputs": []
    },
    {
      "cell_type": "code",
      "source": [
        "history = hsv_model.fit(train_ds,\n",
        "                        callbacks=callbacks,\n",
        "                        epochs=25,\n",
        "                        class_weight=class_weight)"
      ],
      "metadata": {
        "colab": {
          "base_uri": "https://localhost:8080/"
        },
        "id": "gGBleAoQA57o",
        "outputId": "7a58cf81-3641-43f0-d4b6-d6dc1ca1354c"
      },
      "execution_count": 10,
      "outputs": [
        {
          "output_type": "stream",
          "name": "stdout",
          "text": [
            "Epoch 1/25\n",
            "533/533 [==============================] - 1674s 3s/step - loss: 123.0426 - auc: 0.4906 - accuracy: 0.5832\n",
            "Epoch 2/25\n",
            "533/533 [==============================] - 154s 286ms/step - loss: 76.1834 - auc: 0.6381 - accuracy: 0.7168\n",
            "Epoch 3/25\n",
            "533/533 [==============================] - 153s 284ms/step - loss: 61.5543 - auc: 0.6960 - accuracy: 0.7608\n",
            "Epoch 4/25\n",
            "533/533 [==============================] - 153s 285ms/step - loss: 55.7740 - auc: 0.7220 - accuracy: 0.7808\n",
            "Epoch 5/25\n",
            "533/533 [==============================] - 153s 285ms/step - loss: 45.2228 - auc: 0.7505 - accuracy: 0.8030\n",
            "Epoch 6/25\n",
            "533/533 [==============================] - 153s 284ms/step - loss: 41.7660 - auc: 0.7622 - accuracy: 0.8138\n",
            "Epoch 7/25\n",
            "533/533 [==============================] - 153s 285ms/step - loss: 32.6031 - auc: 0.7976 - accuracy: 0.8372\n",
            "Epoch 8/25\n",
            "533/533 [==============================] - 153s 285ms/step - loss: 28.3173 - auc: 0.8133 - accuracy: 0.8450\n",
            "Epoch 9/25\n",
            "533/533 [==============================] - 153s 285ms/step - loss: 21.6848 - auc: 0.8449 - accuracy: 0.8684\n",
            "Epoch 10/25\n",
            "533/533 [==============================] - 152s 284ms/step - loss: 23.3550 - auc: 0.8295 - accuracy: 0.8564\n",
            "Epoch 11/25\n",
            "533/533 [==============================] - 153s 286ms/step - loss: 16.5335 - auc: 0.8706 - accuracy: 0.8851\n",
            "Epoch 12/25\n",
            "533/533 [==============================] - 154s 285ms/step - loss: 13.1310 - auc: 0.8879 - accuracy: 0.8947\n",
            "Epoch 13/25\n",
            "533/533 [==============================] - 153s 285ms/step - loss: 13.1517 - auc: 0.8886 - accuracy: 0.8946\n",
            "Epoch 14/25\n",
            "533/533 [==============================] - 153s 285ms/step - loss: 11.3531 - auc: 0.9068 - accuracy: 0.9066\n",
            "Epoch 15/25\n",
            "533/533 [==============================] - 153s 285ms/step - loss: 9.7802 - auc: 0.9114 - accuracy: 0.9077\n",
            "Epoch 16/25\n",
            "533/533 [==============================] - 153s 284ms/step - loss: 7.7800 - auc: 0.9273 - accuracy: 0.9215\n",
            "Epoch 17/25\n",
            "533/533 [==============================] - 153s 285ms/step - loss: 6.8266 - auc: 0.9280 - accuracy: 0.9227\n",
            "Epoch 18/25\n",
            "533/533 [==============================] - 153s 285ms/step - loss: 6.3684 - auc: 0.9397 - accuracy: 0.9301\n",
            "Epoch 19/25\n",
            "533/533 [==============================] - 153s 285ms/step - loss: 4.9263 - auc: 0.9519 - accuracy: 0.9394\n",
            "Epoch 20/25\n",
            "533/533 [==============================] - 153s 285ms/step - loss: 4.4756 - auc: 0.9569 - accuracy: 0.9408\n",
            "Epoch 21/25\n",
            "533/533 [==============================] - 153s 285ms/step - loss: 3.8342 - auc: 0.9627 - accuracy: 0.9456\n",
            "Epoch 22/25\n",
            "533/533 [==============================] - 153s 284ms/step - loss: 3.8640 - auc: 0.9585 - accuracy: 0.9453\n",
            "Epoch 23/25\n",
            "533/533 [==============================] - 153s 285ms/step - loss: 2.7518 - auc: 0.9723 - accuracy: 0.9561\n",
            "Epoch 24/25\n",
            "533/533 [==============================] - 153s 285ms/step - loss: 2.5718 - auc: 0.9737 - accuracy: 0.9579\n",
            "Epoch 25/25\n",
            "533/533 [==============================] - 153s 284ms/step - loss: 2.2981 - auc: 0.9756 - accuracy: 0.9594\n"
          ]
        }
      ]
    },
    {
      "cell_type": "code",
      "source": [
        "!cp ./logs/checkpoints/HSV-model-09.h5 ./drive/MyDrive/checkpoints/hsv-model-09.h5\n",
        "!cp ./logs/checkpoints/HSV-model-15.h5 ./drive/MyDrive/checkpoints/hsv-model-15.h5\n",
        "!cp ./logs/checkpoints/HSV-model-20.h5 ./drive/MyDrive/checkpoints/hsv-model-20.h5\n",
        "!cp ./logs/checkpoints/HSV-model-25.h5 ./drive/MyDrive/checkpoints/hsv-model-25.h5"
      ],
      "metadata": {
        "id": "LFGG08T94iFO"
      },
      "execution_count": 11,
      "outputs": []
    },
    {
      "cell_type": "code",
      "source": [
        "history = hsv_model.fit(train_ds,\n",
        "                          callbacks=callbacks,\n",
        "                          epochs=30,\n",
        "                          class_weight=class_weight,\n",
        "                          initial_epoch=25)"
      ],
      "metadata": {
        "id": "VsDEewJ2XI70",
        "outputId": "c41d318a-ecc4-4983-dba8-5c093f10a247",
        "colab": {
          "base_uri": "https://localhost:8080/"
        }
      },
      "execution_count": 12,
      "outputs": [
        {
          "output_type": "stream",
          "name": "stdout",
          "text": [
            "Epoch 26/30\n",
            "533/533 [==============================] - 154s 285ms/step - loss: 1.8893 - auc: 0.9818 - accuracy: 0.9664\n",
            "Epoch 27/30\n",
            "533/533 [==============================] - 152s 283ms/step - loss: 1.8864 - auc: 0.9796 - accuracy: 0.9651\n",
            "Epoch 28/30\n",
            "533/533 [==============================] - 153s 285ms/step - loss: 1.6552 - auc: 0.9843 - accuracy: 0.9701\n",
            "Epoch 29/30\n",
            "533/533 [==============================] - 153s 285ms/step - loss: 1.4649 - auc: 0.9859 - accuracy: 0.9725\n",
            "Epoch 30/30\n",
            "533/533 [==============================] - 153s 285ms/step - loss: 1.3162 - auc: 0.9876 - accuracy: 0.9734\n"
          ]
        }
      ]
    },
    {
      "cell_type": "code",
      "source": [
        "!cp ./logs/checkpoints/HSV-model-30.h5 ./drive/MyDrive/checkpoints/hsv-model-30.h5"
      ],
      "metadata": {
        "id": "4mZGtFypBIuZ"
      },
      "execution_count": 13,
      "outputs": []
    }
  ]
}