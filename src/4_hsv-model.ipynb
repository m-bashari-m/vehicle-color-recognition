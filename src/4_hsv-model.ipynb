{
  "nbformat": 4,
  "nbformat_minor": 0,
  "metadata": {
    "colab": {
      "name": "Untitled1.ipynb",
      "provenance": [],
      "authorship_tag": "ABX9TyPnG8XysRGx7yTZ23w/nWN8",
      "include_colab_link": true
    },
    "kernelspec": {
      "name": "python3",
      "display_name": "Python 3"
    },
    "language_info": {
      "name": "python"
    },
    "accelerator": "GPU"
  },
  "cells": [
    {
      "cell_type": "markdown",
      "metadata": {
        "id": "view-in-github",
        "colab_type": "text"
      },
      "source": [
        "<a href=\"https://colab.research.google.com/github/m-bashari-m/vehicle-color-recognition/blob/main/src/4_hsv-model.ipynb\" target=\"_parent\"><img src=\"https://colab.research.google.com/assets/colab-badge.svg\" alt=\"Open In Colab\"/></a>"
      ]
    },
    {
      "cell_type": "code",
      "execution_count": 1,
      "metadata": {
        "colab": {
          "base_uri": "https://localhost:8080/"
        },
        "id": "lbfRhziV_SuY",
        "outputId": "3506308a-b41c-4a4b-d8b2-e4f9c401ff1e"
      },
      "outputs": [
        {
          "output_type": "stream",
          "name": "stdout",
          "text": [
            "--2022-06-08 17:49:08--  https://raw.githubusercontent.com/m-bashari-m/vehicle-color-recognition/main/src/utils.py\n",
            "Resolving raw.githubusercontent.com (raw.githubusercontent.com)... 185.199.111.133, 185.199.108.133, 185.199.110.133, ...\n",
            "Connecting to raw.githubusercontent.com (raw.githubusercontent.com)|185.199.111.133|:443... connected.\n",
            "HTTP request sent, awaiting response... 200 OK\n",
            "Length: 11830 (12K) [text/plain]\n",
            "Saving to: ‘utils.py’\n",
            "\n",
            "\rutils.py              0%[                    ]       0  --.-KB/s               \rutils.py            100%[===================>]  11.55K  --.-KB/s    in 0s      \n",
            "\n",
            "2022-06-08 17:49:08 (103 MB/s) - ‘utils.py’ saved [11830/11830]\n",
            "\n"
          ]
        }
      ],
      "source": [
        "!wget https://raw.githubusercontent.com/m-bashari-m/vehicle-color-recognition/main/src/utils.py"
      ]
    },
    {
      "cell_type": "code",
      "source": [
        "from google.colab import drive\n",
        "drive.mount('./drive')"
      ],
      "metadata": {
        "colab": {
          "base_uri": "https://localhost:8080/"
        },
        "id": "dbaZViRwAPSA",
        "outputId": "2feac118-b0c5-4df2-f115-81233895b425"
      },
      "execution_count": 4,
      "outputs": [
        {
          "output_type": "stream",
          "name": "stdout",
          "text": [
            "Mounted at ./drive\n"
          ]
        }
      ]
    },
    {
      "cell_type": "code",
      "source": [
        "import pandas as pd\n",
        "import numpy as np\n",
        "import os\n",
        "\n",
        "import tensorflow as tf\n",
        "from tensorflow import keras\n",
        "import tensorflow_hub as hub\n",
        "\n",
        "\n",
        "from utils import ModelCreator, get_train_val_ds, get_class_weight"
      ],
      "metadata": {
        "id": "rc7tl4w2AP9w"
      },
      "execution_count": 5,
      "outputs": []
    },
    {
      "cell_type": "code",
      "source": [
        "BATCH_SIZE = 32\n",
        "IMG_SIZE = (256, 256)\n",
        "AUTOTUNE = tf.data.AUTOTUNE\n",
        "N_CLASSES = 16\n",
        "HUB_URL = 'https://tfhub.dev/google/bit/m-r50x1/1'"
      ],
      "metadata": {
        "id": "srFlURD4AQKI"
      },
      "execution_count": 6,
      "outputs": []
    },
    {
      "cell_type": "code",
      "source": [
        "dataset_dir = os.path.join('drive', 'MyDrive', 'cars')\n",
        "train_dir = os.path.join(dataset_dir, 'train')\n",
        "val_dir = os.path.join(dataset_dir, 'val')"
      ],
      "metadata": {
        "id": "Loa16DctAQVZ"
      },
      "execution_count": 7,
      "outputs": []
    },
    {
      "cell_type": "code",
      "source": [
        "train_ds, _ = get_train_val_ds(train_dir, val_dir, batch_size=BATCH_SIZE, img_size=IMG_SIZE)"
      ],
      "metadata": {
        "colab": {
          "base_uri": "https://localhost:8080/"
        },
        "id": "eP5AHSPlAQiY",
        "outputId": "68e8d0da-9582-4dd8-b63c-fb1177368e37"
      },
      "execution_count": 8,
      "outputs": [
        {
          "output_type": "stream",
          "name": "stdout",
          "text": [
            "Found 16580 files belonging to 16 classes.\n",
            "Found 3510 files belonging to 16 classes.\n"
          ]
        }
      ]
    },
    {
      "cell_type": "code",
      "source": [
        "classes, class_weight = get_class_weight()"
      ],
      "metadata": {
        "id": "3_tfsEoWAQvo"
      },
      "execution_count": 9,
      "outputs": []
    },
    {
      "cell_type": "code",
      "source": [
        "train_ds = (\n",
        "    train_ds.\n",
        "    map(lambda img, lbl: (img/255., lbl), num_parallel_calls=AUTOTUNE).\n",
        "    map(lambda img, lbl: (tf.image.rgb_to_hsv(img), lbl), num_parallel_calls=AUTOTUNE).\n",
        "    prefetch(AUTOTUNE))"
      ],
      "metadata": {
        "id": "mNVQnvhiAhho"
      },
      "execution_count": 10,
      "outputs": []
    },
    {
      "cell_type": "code",
      "source": [
        "hsv_creator = ModelCreator(HUB_URL, 'HSV-model')\n",
        "hsv_model = hsv_creator.make_model(img_size=IMG_SIZE)"
      ],
      "metadata": {
        "id": "9JsdrSl_AuRh",
        "outputId": "fc4e1fb6-79f4-4a88-d2e4-4a0e4e03058b",
        "colab": {
          "base_uri": "https://localhost:8080/"
        }
      },
      "execution_count": 11,
      "outputs": [
        {
          "output_type": "stream",
          "name": "stdout",
          "text": [
            "Model: \"HSV-model\"\n",
            "_________________________________________________________________\n",
            " Layer (type)                Output Shape              Param #   \n",
            "=================================================================\n",
            " keras_layer (KerasLayer)    (None, 2048)              23500352  \n",
            "                                                                 \n",
            " dense (Dense)               (None, 600)               1229400   \n",
            "                                                                 \n",
            " dropout (Dropout)           (None, 600)               0         \n",
            "                                                                 \n",
            " dense_1 (Dense)             (None, 16)                9616      \n",
            "                                                                 \n",
            "=================================================================\n",
            "Total params: 24,739,368\n",
            "Trainable params: 1,239,016\n",
            "Non-trainable params: 23,500,352\n",
            "_________________________________________________________________\n"
          ]
        }
      ]
    },
    {
      "cell_type": "code",
      "source": [
        "callbacks = hsv_creator.get_callbacks()"
      ],
      "metadata": {
        "id": "brgc8ZQPpCdQ"
      },
      "execution_count": 12,
      "outputs": []
    },
    {
      "cell_type": "markdown",
      "source": [
        "# ***First*** day of training"
      ],
      "metadata": {
        "id": "Ym83QenlAIBY"
      }
    },
    {
      "cell_type": "code",
      "source": [
        "history = hsv_model.fit(train_ds,\n",
        "                        callbacks=callbacks,\n",
        "                        epochs=25,\n",
        "                        class_weight=class_weight)"
      ],
      "metadata": {
        "colab": {
          "base_uri": "https://localhost:8080/"
        },
        "id": "gGBleAoQA57o",
        "outputId": "69e7694a-9170-4366-9d82-118387d56779"
      },
      "execution_count": null,
      "outputs": [
        {
          "output_type": "stream",
          "name": "stdout",
          "text": [
            "Epoch 1/25\n",
            "519/519 [==============================] - 3212s 6s/step - loss: 1412.3386 - auc: 0.2989 - accuracy: 0.4707\n",
            "Epoch 2/25\n",
            "519/519 [==============================] - 144s 276ms/step - loss: 1670.1146 - auc: 0.3392 - accuracy: 0.5201\n",
            "Epoch 3/25\n",
            "519/519 [==============================] - 146s 279ms/step - loss: 1190.4730 - auc: 0.3788 - accuracy: 0.5556\n",
            "Epoch 4/25\n",
            "519/519 [==============================] - 147s 281ms/step - loss: 1155.5914 - auc: 0.3948 - accuracy: 0.5706\n",
            "Epoch 5/25\n",
            "519/519 [==============================] - 147s 280ms/step - loss: 837.3010 - auc: 0.4383 - accuracy: 0.6090\n",
            "Epoch 6/25\n",
            "519/519 [==============================] - 147s 280ms/step - loss: 748.4167 - auc: 0.4474 - accuracy: 0.6168\n",
            "Epoch 7/25\n",
            "519/519 [==============================] - 147s 281ms/step - loss: 612.3502 - auc: 0.4703 - accuracy: 0.6316\n",
            "Epoch 8/25\n",
            "519/519 [==============================] - 147s 282ms/step - loss: 645.6837 - auc: 0.4703 - accuracy: 0.6336\n",
            "Epoch 9/25\n",
            "519/519 [==============================] - 153s 292ms/step - loss: 526.7181 - auc: 0.4865 - accuracy: 0.6456\n",
            "Epoch 10/25\n",
            "519/519 [==============================] - 147s 282ms/step - loss: 402.7492 - auc: 0.5149 - accuracy: 0.6649\n",
            "Epoch 11/25\n",
            "519/519 [==============================] - 148s 282ms/step - loss: 342.7158 - auc: 0.5286 - accuracy: 0.6745\n",
            "Epoch 12/25\n",
            "519/519 [==============================] - 148s 282ms/step - loss: 308.9425 - auc: 0.5362 - accuracy: 0.6782\n",
            "Epoch 13/25\n",
            "519/519 [==============================] - 147s 281ms/step - loss: 244.1720 - auc: 0.5617 - accuracy: 0.6957\n",
            "Epoch 14/25\n",
            "519/519 [==============================] - 147s 281ms/step - loss: 250.5148 - auc: 0.5558 - accuracy: 0.6915\n",
            "Epoch 15/25\n",
            "519/519 [==============================] - 147s 281ms/step - loss: 201.2926 - auc: 0.5786 - accuracy: 0.7049\n",
            "Epoch 16/25\n",
            "519/519 [==============================] - 148s 282ms/step - loss: 161.4761 - auc: 0.5951 - accuracy: 0.7150\n",
            "Epoch 17/25\n",
            "519/519 [==============================] - 148s 282ms/step - loss: 142.5658 - auc: 0.6104 - accuracy: 0.7251\n",
            "Epoch 18/25\n",
            "519/519 [==============================] - 147s 281ms/step - loss: 124.8912 - auc: 0.6256 - accuracy: 0.7308\n",
            "Epoch 19/25\n",
            "519/519 [==============================] - 147s 282ms/step - loss: 116.0013 - auc: 0.6340 - accuracy: 0.7338\n",
            "Epoch 20/25\n",
            "519/519 [==============================] - 147s 281ms/step - loss: 94.2421 - auc: 0.6521 - accuracy: 0.7448\n",
            "Epoch 21/25\n",
            "519/519 [==============================] - 147s 281ms/step - loss: 79.9461 - auc: 0.6758 - accuracy: 0.7542\n",
            "Epoch 22/25\n",
            "519/519 [==============================] - 147s 281ms/step - loss: 72.8428 - auc: 0.6791 - accuracy: 0.7535\n",
            "Epoch 23/25\n",
            "519/519 [==============================] - 147s 282ms/step - loss: 59.8674 - auc: 0.7013 - accuracy: 0.7656\n",
            "Epoch 24/25\n",
            "519/519 [==============================] - 148s 283ms/step - loss: 55.5921 - auc: 0.7067 - accuracy: 0.7683\n",
            "Epoch 25/25\n",
            "519/519 [==============================] - 148s 282ms/step - loss: 51.1382 - auc: 0.7191 - accuracy: 0.7761\n"
          ]
        }
      ]
    },
    {
      "cell_type": "code",
      "source": [
        "hsv_model.save('./drive/MyDrive/checkpoints/hsv-model-25.h5')"
      ],
      "metadata": {
        "id": "LFGG08T94iFO"
      },
      "execution_count": null,
      "outputs": []
    },
    {
      "cell_type": "code",
      "source": [
        "history = hsv_model.fit(train_ds,\n",
        "                          callbacks=callbacks,\n",
        "                          epochs=35,\n",
        "                          class_weight=class_weight,\n",
        "                          initial_epoch=25)"
      ],
      "metadata": {
        "id": "VsDEewJ2XI70",
        "outputId": "6110522f-8ce6-4431-d3b4-823991a3f79d",
        "colab": {
          "base_uri": "https://localhost:8080/"
        }
      },
      "execution_count": null,
      "outputs": [
        {
          "output_type": "stream",
          "name": "stdout",
          "text": [
            "Epoch 26/35\n",
            "519/519 [==============================] - 148s 282ms/step - loss: 43.2054 - auc: 0.7388 - accuracy: 0.7797\n",
            "Epoch 27/35\n",
            "519/519 [==============================] - 149s 284ms/step - loss: 38.6738 - auc: 0.7499 - accuracy: 0.7896\n",
            "Epoch 28/35\n",
            "519/519 [==============================] - 148s 282ms/step - loss: 38.9391 - auc: 0.7513 - accuracy: 0.7873\n",
            "Epoch 29/35\n",
            "519/519 [==============================] - 147s 281ms/step - loss: 31.5158 - auc: 0.7726 - accuracy: 0.7966\n",
            "Epoch 30/35\n",
            "519/519 [==============================] - 149s 282ms/step - loss: 27.9170 - auc: 0.7879 - accuracy: 0.8028\n",
            "Epoch 31/35\n",
            "519/519 [==============================] - 148s 282ms/step - loss: 24.6731 - auc: 0.7985 - accuracy: 0.8064\n",
            "Epoch 32/35\n",
            "519/519 [==============================] - 147s 282ms/step - loss: 23.6671 - auc: 0.8047 - accuracy: 0.8061\n",
            "Epoch 33/35\n",
            "519/519 [==============================] - 148s 282ms/step - loss: 21.8818 - auc: 0.8179 - accuracy: 0.8168\n",
            "Epoch 34/35\n",
            "519/519 [==============================] - 147s 282ms/step - loss: 18.9056 - auc: 0.8237 - accuracy: 0.8185\n",
            "Epoch 35/35\n",
            "519/519 [==============================] - 148s 282ms/step - loss: 18.6142 - auc: 0.8326 - accuracy: 0.8198\n"
          ]
        }
      ]
    },
    {
      "cell_type": "code",
      "source": [
        "hsv_model.save('./drive/MyDrive/checkpoints/hsv-model-35.h5')"
      ],
      "metadata": {
        "id": "0Ct0tJUBz_LE"
      },
      "execution_count": null,
      "outputs": []
    },
    {
      "cell_type": "markdown",
      "source": [
        "# ***Second*** day"
      ],
      "metadata": {
        "id": "xrhel0ElKukv"
      }
    },
    {
      "cell_type": "code",
      "source": [
        "hsv_model = tf.keras.models.load_model('./drive/MyDrive/checkpoints/hsv-model-35.h5',\n",
        "                                       custom_objects={'KerasLayer':hub.KerasLayer})"
      ],
      "metadata": {
        "id": "1I1uBYfoKvu5"
      },
      "execution_count": 13,
      "outputs": []
    },
    {
      "cell_type": "code",
      "source": [
        "history = hsv_model.fit(train_ds,\n",
        "                          callbacks=callbacks,\n",
        "                          epochs=55,\n",
        "                          class_weight=class_weight,\n",
        "                          initial_epoch=35)"
      ],
      "metadata": {
        "id": "5B7FGXMnaZY8",
        "outputId": "2baaf612-350b-4ced-9c58-ee5ce7849e96",
        "colab": {
          "base_uri": "https://localhost:8080/"
        }
      },
      "execution_count": 14,
      "outputs": [
        {
          "output_type": "stream",
          "name": "stdout",
          "text": [
            "Epoch 36/55\n",
            "519/519 [==============================] - 2125s 4s/step - loss: 16.8194 - auc: 0.8420 - accuracy: 0.8271\n",
            "Epoch 37/55\n",
            "519/519 [==============================] - 146s 279ms/step - loss: 14.6472 - auc: 0.8539 - accuracy: 0.8346\n",
            "Epoch 38/55\n",
            "519/519 [==============================] - 147s 281ms/step - loss: 13.9205 - auc: 0.8621 - accuracy: 0.8383\n",
            "Epoch 39/55\n",
            "519/519 [==============================] - 147s 281ms/step - loss: 13.1162 - auc: 0.8685 - accuracy: 0.8420\n",
            "Epoch 40/55\n",
            "519/519 [==============================] - 147s 282ms/step - loss: 12.4649 - auc: 0.8695 - accuracy: 0.8414\n",
            "Epoch 41/55\n",
            "519/519 [==============================] - 147s 281ms/step - loss: 11.7970 - auc: 0.8735 - accuracy: 0.8439\n",
            "Epoch 42/55\n",
            "519/519 [==============================] - 147s 281ms/step - loss: 11.4112 - auc: 0.8808 - accuracy: 0.8476\n",
            "Epoch 43/55\n",
            "519/519 [==============================] - 148s 282ms/step - loss: 11.0059 - auc: 0.8865 - accuracy: 0.8497\n",
            "Epoch 44/55\n",
            "519/519 [==============================] - 153s 292ms/step - loss: 10.2359 - auc: 0.8911 - accuracy: 0.8527\n",
            "Epoch 45/55\n",
            "519/519 [==============================] - 147s 281ms/step - loss: 9.6388 - auc: 0.8933 - accuracy: 0.8547\n",
            "Epoch 46/55\n",
            "519/519 [==============================] - 148s 282ms/step - loss: 9.4428 - auc: 0.8973 - accuracy: 0.8572\n",
            "Epoch 47/55\n",
            "519/519 [==============================] - 148s 282ms/step - loss: 9.3627 - auc: 0.8988 - accuracy: 0.8563\n",
            "Epoch 48/55\n",
            "519/519 [==============================] - 148s 282ms/step - loss: 9.0540 - auc: 0.8995 - accuracy: 0.8592\n",
            "Epoch 49/55\n",
            "519/519 [==============================] - 148s 283ms/step - loss: 8.8698 - auc: 0.9043 - accuracy: 0.8619\n",
            "Epoch 50/55\n",
            "519/519 [==============================] - 148s 282ms/step - loss: 8.4528 - auc: 0.9089 - accuracy: 0.8635\n",
            "Epoch 51/55\n",
            "519/519 [==============================] - 147s 281ms/step - loss: 8.3991 - auc: 0.9096 - accuracy: 0.8639\n",
            "Epoch 52/55\n",
            "519/519 [==============================] - 147s 282ms/step - loss: 8.2239 - auc: 0.9098 - accuracy: 0.8662\n",
            "Epoch 53/55\n",
            "519/519 [==============================] - 147s 281ms/step - loss: 7.9305 - auc: 0.9136 - accuracy: 0.8663\n",
            "Epoch 54/55\n",
            "519/519 [==============================] - 147s 281ms/step - loss: 7.7947 - auc: 0.9138 - accuracy: 0.8705\n",
            "Epoch 55/55\n",
            "519/519 [==============================] - 147s 281ms/step - loss: 7.8117 - auc: 0.9144 - accuracy: 0.8703\n"
          ]
        }
      ]
    },
    {
      "cell_type": "code",
      "source": [
        "hsv_model.save('drive/MyDrive/checkpoints/hsv-model-55.h5')"
      ],
      "metadata": {
        "id": "XYG-Y6i-8mGl"
      },
      "execution_count": 15,
      "outputs": []
    },
    {
      "cell_type": "code",
      "source": [
        "history = hsv_model.fit(train_ds,\n",
        "                          callbacks=callbacks,\n",
        "                          epochs=65,\n",
        "                          class_weight=class_weight,\n",
        "                          initial_epoch=55)"
      ],
      "metadata": {
        "id": "DFia_PtApL90",
        "outputId": "37b191b3-372c-42e8-ea32-1f1900e685eb",
        "colab": {
          "base_uri": "https://localhost:8080/"
        }
      },
      "execution_count": 16,
      "outputs": [
        {
          "output_type": "stream",
          "name": "stdout",
          "text": [
            "Epoch 56/65\n",
            "519/519 [==============================] - 148s 282ms/step - loss: 7.5150 - auc: 0.9172 - accuracy: 0.8707\n",
            "Epoch 57/65\n",
            "519/519 [==============================] - 147s 281ms/step - loss: 7.5869 - auc: 0.9174 - accuracy: 0.8706\n",
            "Epoch 58/65\n",
            "519/519 [==============================] - 147s 281ms/step - loss: 7.5320 - auc: 0.9169 - accuracy: 0.8729\n",
            "Epoch 59/65\n",
            "519/519 [==============================] - 148s 282ms/step - loss: 7.4869 - auc: 0.9186 - accuracy: 0.8711\n",
            "Epoch 60/65\n",
            "519/519 [==============================] - 147s 281ms/step - loss: 7.2472 - auc: 0.9200 - accuracy: 0.8754\n",
            "Epoch 61/65\n",
            "519/519 [==============================] - 148s 282ms/step - loss: 7.2228 - auc: 0.9208 - accuracy: 0.8737\n",
            "Epoch 62/65\n",
            "519/519 [==============================] - 148s 282ms/step - loss: 7.1548 - auc: 0.9226 - accuracy: 0.8770\n",
            "Epoch 63/65\n",
            "519/519 [==============================] - 147s 281ms/step - loss: 7.0651 - auc: 0.9229 - accuracy: 0.8762\n",
            "Epoch 64/65\n",
            "519/519 [==============================] - 147s 282ms/step - loss: 6.9060 - auc: 0.9261 - accuracy: 0.8782\n",
            "Epoch 65/65\n",
            "519/519 [==============================] - 151s 289ms/step - loss: 7.1163 - auc: 0.9217 - accuracy: 0.8729\n"
          ]
        }
      ]
    },
    {
      "cell_type": "code",
      "source": [
        "hsv_model.save('drive/MyDrive/checkpoints/hsv-model-65.h5')"
      ],
      "metadata": {
        "id": "43YSQvJepTRC"
      },
      "execution_count": 17,
      "outputs": []
    },
    {
      "cell_type": "code",
      "source": [
        "history = hsv_model.fit(train_ds,\n",
        "                          callbacks=callbacks,\n",
        "                          epochs=75,\n",
        "                          class_weight=class_weight,\n",
        "                          initial_epoch=65)"
      ],
      "metadata": {
        "id": "xNi-m_D921Zw",
        "outputId": "78f37b8a-5980-44f4-bf22-9338831925af",
        "colab": {
          "base_uri": "https://localhost:8080/"
        }
      },
      "execution_count": 18,
      "outputs": [
        {
          "output_type": "stream",
          "name": "stdout",
          "text": [
            "Epoch 66/75\n",
            "519/519 [==============================] - 147s 281ms/step - loss: 7.0097 - auc: 0.9233 - accuracy: 0.8771\n",
            "Epoch 67/75\n",
            "519/519 [==============================] - 147s 281ms/step - loss: 6.9015 - auc: 0.9274 - accuracy: 0.8763\n",
            "Epoch 68/75\n",
            "519/519 [==============================] - 147s 281ms/step - loss: 6.8915 - auc: 0.9269 - accuracy: 0.8769\n",
            "Epoch 69/75\n",
            "519/519 [==============================] - 147s 281ms/step - loss: 6.9313 - auc: 0.9231 - accuracy: 0.8786\n",
            "Epoch 70/75\n",
            "519/519 [==============================] - ETA: 0s - loss: 6.8377 - auc: 0.9269 - accuracy: 0.8779Restoring model weights from the end of the best epoch: 67.\n",
            "519/519 [==============================] - 147s 280ms/step - loss: 6.8377 - auc: 0.9269 - accuracy: 0.8779\n",
            "Epoch 70: early stopping\n"
          ]
        }
      ]
    },
    {
      "cell_type": "code",
      "source": [
        "hsv_model.save('drive/MyDrive/checkpoints/hsv-model-67.h5')"
      ],
      "metadata": {
        "id": "k4RBFvrJ23bO"
      },
      "execution_count": 20,
      "outputs": []
    }
  ]
}