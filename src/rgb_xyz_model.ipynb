{
  "cells": [
    {
      "cell_type": "markdown",
      "metadata": {
        "id": "view-in-github",
        "colab_type": "text"
      },
      "source": [
        "<a href=\"https://colab.research.google.com/github/m-bashari-m/vehicle-color-recognition/blob/main/src/rgb_xyz_model.ipynb\" target=\"_parent\"><img src=\"https://colab.research.google.com/assets/colab-badge.svg\" alt=\"Open In Colab\"/></a>"
      ]
    },
    {
      "cell_type": "code",
      "execution_count": 1,
      "metadata": {
        "colab": {
          "base_uri": "https://localhost:8080/"
        },
        "id": "FaoIT7KdsydD",
        "outputId": "0cb62f9a-90ba-48ab-d93c-7b1882583322"
      },
      "outputs": [
        {
          "output_type": "stream",
          "name": "stdout",
          "text": [
            "--2022-06-04 19:49:11--  https://raw.githubusercontent.com/m-bashari-m/vehicle-color-recognition/main/src/utils.py\n",
            "Resolving raw.githubusercontent.com (raw.githubusercontent.com)... 185.199.108.133, 185.199.109.133, 185.199.110.133, ...\n",
            "Connecting to raw.githubusercontent.com (raw.githubusercontent.com)|185.199.108.133|:443... connected.\n",
            "HTTP request sent, awaiting response... 200 OK\n",
            "Length: 9942 (9.7K) [text/plain]\n",
            "Saving to: ‘utils.py’\n",
            "\n",
            "\rutils.py              0%[                    ]       0  --.-KB/s               \rutils.py            100%[===================>]   9.71K  --.-KB/s    in 0s      \n",
            "\n",
            "2022-06-04 19:49:11 (77.7 MB/s) - ‘utils.py’ saved [9942/9942]\n",
            "\n"
          ]
        }
      ],
      "source": [
        "!wget https://raw.githubusercontent.com/m-bashari-m/vehicle-color-recognition/main/src/utils.py"
      ]
    },
    {
      "cell_type": "code",
      "execution_count": 2,
      "metadata": {
        "colab": {
          "base_uri": "https://localhost:8080/"
        },
        "id": "HytB7-lTs7g5",
        "outputId": "f8c3df3b-1a97-48de-f2f8-70b7cd0781ed"
      },
      "outputs": [
        {
          "output_type": "stream",
          "name": "stdout",
          "text": [
            "Mounted at ./drive\n"
          ]
        }
      ],
      "source": [
        "from google.colab import drive\n",
        "drive.mount('./drive')"
      ]
    },
    {
      "cell_type": "code",
      "execution_count": 3,
      "metadata": {
        "id": "dQvl_Em4s8Oi",
        "outputId": "2786fff8-35dd-4852-df4e-7dbe4d23822c",
        "colab": {
          "base_uri": "https://localhost:8080/"
        }
      },
      "outputs": [
        {
          "output_type": "stream",
          "name": "stdout",
          "text": [
            "\u001b[K     |████████████████████████████████| 25.9 MB 1.1 MB/s \n",
            "\u001b[?25h"
          ]
        }
      ],
      "source": [
        "import pandas as pd\n",
        "import numpy as np\n",
        "import os\n",
        "\n",
        "import tensorflow as tf\n",
        "from tensorflow import keras\n",
        "import tensorflow_hub as hub\n",
        "\n",
        "!pip install -q tensorflow-io\n",
        "import tensorflow_io as tfio\n",
        "\n",
        "from utils import ModelCreator, get_train_val_ds, ErrorAnalyzer, get_class_weight"
      ]
    },
    {
      "cell_type": "code",
      "execution_count": 4,
      "metadata": {
        "id": "S5qkZw4Ns8Z7"
      },
      "outputs": [],
      "source": [
        "BATCH_SIZE = 32\n",
        "IMG_SIZE = (256, 256)\n",
        "AUTOTUNE = tf.data.AUTOTUNE\n",
        "N_CLASSES = 16\n",
        "HUB_URL = 'https://tfhub.dev/google/bit/m-r50x1/1'"
      ]
    },
    {
      "cell_type": "code",
      "execution_count": 5,
      "metadata": {
        "id": "J8g_1jhQtDFq"
      },
      "outputs": [],
      "source": [
        "dataset_dir = os.path.join('drive', 'MyDrive', 'cars')\n",
        "train_dir = os.path.join(dataset_dir, 'train')\n",
        "val_dir = os.path.join(dataset_dir, 'val')"
      ]
    },
    {
      "cell_type": "code",
      "execution_count": 19,
      "metadata": {
        "colab": {
          "base_uri": "https://localhost:8080/"
        },
        "id": "ZDdC4GywtEQh",
        "outputId": "a1a20621-e7f2-46b4-8202-fa0fe15b9b23"
      },
      "outputs": [
        {
          "output_type": "stream",
          "name": "stdout",
          "text": [
            "Found 16580 files belonging to 16 classes.\n",
            "Found 3508 files belonging to 16 classes.\n"
          ]
        }
      ],
      "source": [
        "train_ds, val_ds = get_train_val_ds(train_dir, val_dir, batch_size=BATCH_SIZE, img_size=IMG_SIZE)"
      ]
    },
    {
      "cell_type": "code",
      "execution_count": 7,
      "metadata": {
        "id": "VfXJuXaItHeC"
      },
      "outputs": [],
      "source": [
        "classes, class_weight = get_class_weight()"
      ]
    },
    {
      "cell_type": "code",
      "source": [
        "def combine_rgb_xyz(img_batch):\n",
        "  img_batch_xyz = tfio.experimental.color.rgb_to_xyz(img_batch)\n",
        "  return (img_batch + img_batch_xyz) / 2"
      ],
      "metadata": {
        "id": "_LHNsQs_QfKQ"
      },
      "execution_count": 20,
      "outputs": []
    },
    {
      "cell_type": "code",
      "execution_count": 21,
      "metadata": {
        "id": "YUizq5ZwtHqM"
      },
      "outputs": [],
      "source": [
        "train_ds = (\n",
        "    train_ds.\n",
        "    map(lambda img, lbl: (img/255., lbl), num_parallel_calls=AUTOTUNE).\n",
        "    map(lambda img, lbl: (combine_rgb_xyz(img), lbl), num_parallel_calls=AUTOTUNE).\n",
        "    prefetch(AUTOTUNE))\n",
        "\n",
        "val_ds = (\n",
        "    val_ds.\n",
        "    map(lambda img, lbl: (img/255., lbl), num_parallel_calls=AUTOTUNE).\n",
        "    map(lambda img, lbl: (combine_rgb_xyz(img), lbl), num_parallel_calls=AUTOTUNE).\n",
        "    prefetch(AUTOTUNE))"
      ]
    },
    {
      "cell_type": "code",
      "execution_count": null,
      "metadata": {
        "id": "SOzs81ywtH3h"
      },
      "outputs": [],
      "source": [
        "xyz_creator = ModelCreator(HUB_URL, 'RGB_XYZ-model')\n",
        "xyz_model = xyz_creator.make_model(img_size=IMG_SIZE)"
      ]
    },
    {
      "cell_type": "code",
      "source": [
        "callbacks = xyz_creator.get_callbacks()"
      ],
      "metadata": {
        "id": "rHnL7xHEoQLX"
      },
      "execution_count": 26,
      "outputs": []
    },
    {
      "cell_type": "code",
      "execution_count": null,
      "metadata": {
        "colab": {
          "base_uri": "https://localhost:8080/"
        },
        "id": "81hWi4y1utc0",
        "outputId": "804df944-ffd5-4054-b60a-76c993af1a13"
      },
      "outputs": [
        {
          "output_type": "stream",
          "name": "stdout",
          "text": [
            "Epoch 1/15\n",
            "519/519 [==============================] - 1793s 3s/step - loss: 1218.3698 - auc: 0.4760 - accuracy: 0.6424\n",
            "Epoch 2/15\n",
            "519/519 [==============================] - 203s 388ms/step - loss: 1451.0022 - auc: 0.5461 - accuracy: 0.7037\n",
            "Epoch 3/15\n",
            "519/519 [==============================] - 204s 389ms/step - loss: 1361.5565 - auc: 0.6005 - accuracy: 0.7458\n",
            "Epoch 4/15\n",
            "519/519 [==============================] - 202s 386ms/step - loss: 1171.0002 - auc: 0.6281 - accuracy: 0.7656\n",
            "Epoch 5/15\n",
            "519/519 [==============================] - 207s 397ms/step - loss: 1047.7461 - auc: 0.6477 - accuracy: 0.7796\n",
            "Epoch 6/15\n",
            "519/519 [==============================] - 202s 386ms/step - loss: 841.7449 - auc: 0.6850 - accuracy: 0.8049\n",
            "Epoch 7/15\n",
            "519/519 [==============================] - 201s 383ms/step - loss: 700.3039 - auc: 0.6913 - accuracy: 0.8088\n",
            "Epoch 8/15\n",
            "519/519 [==============================] - 208s 398ms/step - loss: 556.1678 - auc: 0.7091 - accuracy: 0.8206\n",
            "Epoch 9/15\n",
            "443/519 [========================>.....] - ETA: 29s - loss: 530.5893 - auc: 0.7178 - accuracy: 0.8263"
          ]
        }
      ],
      "source": [
        "history = xyz_model.fit(train_ds,\n",
        "                        callbacks=callbacks,\n",
        "                        epochs=15,\n",
        "                        class_weight=class_weight)"
      ]
    },
    {
      "cell_type": "code",
      "source": [
        "xyz_model.save_weights('drive/MyDrive/checkpoints/rgb-xyz-weights-15.h5')"
      ],
      "metadata": {
        "id": "2X6tlCAxxpR8"
      },
      "execution_count": null,
      "outputs": []
    },
    {
      "cell_type": "code",
      "source": [
        "analyzer = ErrorAnalyzer(model=xyz_model,\n",
        "                         ds=val_ds,\n",
        "                         classes=classes,\n",
        "                         model_name='RGB-XYZ-model-1')"
      ],
      "metadata": {
        "id": "3OpTUbRzyfLU"
      },
      "execution_count": null,
      "outputs": []
    },
    {
      "cell_type": "code",
      "source": [
        "analyzer.plot_confusion_mat()"
      ],
      "metadata": {
        "id": "pf8bF4wY1c2E"
      },
      "execution_count": null,
      "outputs": []
    },
    {
      "cell_type": "code",
      "source": [
        "analyzer.evaluate_model()"
      ],
      "metadata": {
        "id": "9BuVMhUy5Sg-"
      },
      "execution_count": null,
      "outputs": []
    },
    {
      "cell_type": "code",
      "source": [
        "history = xyz_model.fit(train_ds,\n",
        "                        callbacks=callbacks,\n",
        "                        epochs=25,\n",
        "                        initial_epoch=15,\n",
        "                        class_weight=class_weight)"
      ],
      "metadata": {
        "id": "LtkwjJbi55U3",
        "outputId": "db51d10c-a1a2-42ae-d9ac-0327c3012d84",
        "colab": {
          "base_uri": "https://localhost:8080/"
        }
      },
      "execution_count": null,
      "outputs": [
        {
          "output_type": "stream",
          "name": "stdout",
          "text": [
            "Epoch 16/25\n",
            "519/519 [==============================] - 184s 350ms/step - loss: 36.8937 - auc: 0.8343 - accuracy: 0.8712\n",
            "Epoch 17/25\n",
            "519/519 [==============================] - 184s 351ms/step - loss: 31.8624 - auc: 0.8472 - accuracy: 0.8772\n",
            "Epoch 18/25\n",
            "519/519 [==============================] - 178s 341ms/step - loss: 28.2253 - auc: 0.8507 - accuracy: 0.8740\n",
            "Epoch 19/25\n",
            "519/519 [==============================] - 181s 346ms/step - loss: 23.2445 - auc: 0.8711 - accuracy: 0.8870\n",
            "Epoch 20/25\n",
            "519/519 [==============================] - 175s 334ms/step - loss: 20.1127 - auc: 0.8842 - accuracy: 0.8931\n",
            "Epoch 21/25\n",
            "519/519 [==============================] - 182s 347ms/step - loss: 17.2879 - auc: 0.8945 - accuracy: 0.8994\n",
            "Epoch 22/25\n",
            "519/519 [==============================] - 182s 348ms/step - loss: 15.6592 - auc: 0.8979 - accuracy: 0.8990\n",
            "Epoch 23/25\n",
            "519/519 [==============================] - 181s 345ms/step - loss: 14.3515 - auc: 0.9088 - accuracy: 0.9038\n",
            "Epoch 24/25\n",
            "519/519 [==============================] - 178s 341ms/step - loss: 12.4510 - auc: 0.9154 - accuracy: 0.9084\n",
            "Epoch 25/25\n",
            "519/519 [==============================] - 174s 333ms/step - loss: 12.1720 - auc: 0.9203 - accuracy: 0.9083\n"
          ]
        }
      ]
    },
    {
      "cell_type": "code",
      "source": [
        "xyz_model.save_weights('drive/MyDrive/checkpoints/xyz-weights-25.h5')"
      ],
      "metadata": {
        "id": "hFVBXi0D6psm"
      },
      "execution_count": null,
      "outputs": []
    },
    {
      "cell_type": "code",
      "source": [
        "analyzer = ErrorAnalyzer(model=xyz_model,\n",
        "                         ds=val_ds,\n",
        "                         classes=classes,\n",
        "                         model_name='XYZ-model-2')\n",
        "\n",
        "analyzer.plot_confusion_mat()\n",
        "analyzer.evaluate_model()"
      ],
      "metadata": {
        "id": "H9_XKPnN6uNe",
        "outputId": "c3c1fe92-7a13-4a24-9fa9-b66c99558e5e",
        "colab": {
          "base_uri": "https://localhost:8080/",
          "height": 764,
          "referenced_widgets": [
            "0c649dda32c045df902173c9b787e102",
            "6d99d703e64d43d2ab86d59aafa29484",
            "8b714564f0604dbcaa083f25f384a4b7",
            "c3640f1c210745429ed8eaf5f43cfdbe",
            "8fd0f4e741d847c2a87fbec7e3b1767f",
            "b9e8ad786ea8470e8f7472b0d5ab572e",
            "2ae94d00ba03416a9b7212ca71d91469",
            "49fdf25602624251bcfaebc9d006f0d6",
            "f9e95bdad27242318edf40221f619db1",
            "d38548f555184435bb8964ad02ce5d12",
            "fa12f60805a241b9a643ef2ca8369904"
          ]
        }
      },
      "execution_count": null,
      "outputs": [
        {
          "output_type": "stream",
          "name": "stdout",
          "text": [
            "Making confusion matrix:\n"
          ]
        },
        {
          "output_type": "display_data",
          "data": {
            "text/plain": [
              "  0%|          | 0/55 [00:00<?, ?it/s]"
            ],
            "application/vnd.jupyter.widget-view+json": {
              "version_major": 2,
              "version_minor": 0,
              "model_id": "0c649dda32c045df902173c9b787e102"
            }
          },
          "metadata": {}
        },
        {
          "output_type": "stream",
          "name": "stdout",
          "text": [
            "Saving confusion matrix\n"
          ]
        },
        {
          "output_type": "display_data",
          "data": {
            "text/plain": [
              "<Figure size 720x720 with 2 Axes>"
            ],
            "image/png": "[encoded data removed]"
          },
          "metadata": {
            "needs_background": "light"
          }
        },
        {
          "output_type": "stream",
          "name": "stdout",
          "text": [
            "Calculating error types...\n",
            "Writing in log file...\n",
            "\u001b[1;32m All done. Check log file => XYZ-model-2.csv\n"
          ]
        }
      ]
    },
    {
      "cell_type": "code",
      "source": [
        "history = xyz_model.fit(train_ds,\n",
        "                        callbacks=callbacks,\n",
        "                        epochs=35,\n",
        "                        initial_epoch=25,\n",
        "                        class_weight=class_weight)"
      ],
      "metadata": {
        "id": "n4aN7FfJC2NN",
        "outputId": "ceebb81d-4760-4c09-ebba-8d19df9be348",
        "colab": {
          "base_uri": "https://localhost:8080/"
        }
      },
      "execution_count": null,
      "outputs": [
        {
          "output_type": "stream",
          "name": "stdout",
          "text": [
            "Epoch 26/35\n",
            "519/519 [==============================] - 178s 341ms/step - loss: 11.1384 - auc: 0.9240 - accuracy: 0.9101\n",
            "Epoch 27/35\n",
            "519/519 [==============================] - 183s 349ms/step - loss: 10.8732 - auc: 0.9241 - accuracy: 0.9113\n",
            "Epoch 28/35\n",
            "519/519 [==============================] - 181s 347ms/step - loss: 9.9524 - auc: 0.9314 - accuracy: 0.9145\n",
            "Epoch 29/35\n",
            "519/519 [==============================] - 177s 338ms/step - loss: 9.3697 - auc: 0.9309 - accuracy: 0.9134\n",
            "Epoch 30/35\n",
            "519/519 [==============================] - 176s 337ms/step - loss: 8.7191 - auc: 0.9366 - accuracy: 0.9169\n",
            "Epoch 31/35\n",
            "519/519 [==============================] - 175s 335ms/step - loss: 8.6110 - auc: 0.9369 - accuracy: 0.9166\n",
            "Epoch 32/35\n",
            "519/519 [==============================] - 178s 341ms/step - loss: 8.4556 - auc: 0.9396 - accuracy: 0.9209\n",
            "Epoch 33/35\n",
            "519/519 [==============================] - 178s 341ms/step - loss: 8.3487 - auc: 0.9394 - accuracy: 0.9202\n",
            "Epoch 34/35\n",
            "519/519 [==============================] - 175s 333ms/step - loss: 7.9879 - auc: 0.9437 - accuracy: 0.9207\n",
            "Epoch 35/35\n",
            "519/519 [==============================] - 176s 337ms/step - loss: 7.5727 - auc: 0.9448 - accuracy: 0.9224\n"
          ]
        }
      ]
    },
    {
      "cell_type": "code",
      "source": [
        "xyz_model.save_weights('drive/MyDrive/checkpoints/xyz-weights-35.h5')"
      ],
      "metadata": {
        "id": "1IjsLrEUC-Fv"
      },
      "execution_count": null,
      "outputs": []
    },
    {
      "cell_type": "code",
      "source": [
        "analyzer = ErrorAnalyzer(model=xyz_model,\n",
        "                         ds=val_ds,\n",
        "                         classes=classes,\n",
        "                         model_name='XYZ-model-3')\n",
        "\n",
        "analyzer.plot_confusion_mat()\n",
        "analyzer.evaluate_model()"
      ],
      "metadata": {
        "id": "OZCuiwz_DACd",
        "outputId": "85eaf8a4-ceac-425a-e16d-891f37df2338",
        "colab": {
          "base_uri": "https://localhost:8080/",
          "height": 764,
          "referenced_widgets": [
            "a39a210658f145fe8bab5865895f355b",
            "a76151eea1774d98ad88257ad0fc6855",
            "a0f2ed3e892644f2bf9025a81284b593",
            "a3aba7c8661b4731a57850d4e7732655",
            "d294886e6a534de5bc87b57e6516211f",
            "79648fd6af104087a29fbe90c45410a1",
            "065050c292a64feeb5a93bcac9b167d9",
            "34a850190b534190b1719e0ce7e05344",
            "13ca4eabfc794e24b25e1e7df5827ab6",
            "1e1a5e28153249fba0f61a803400e662",
            "6f8ae39149e14d45b3b0be4400ce1c2f"
          ]
        }
      },
      "execution_count": null,
      "outputs": [
        {
          "output_type": "stream",
          "name": "stdout",
          "text": [
            "Making confusion matrix:\n"
          ]
        },
        {
          "output_type": "display_data",
          "data": {
            "text/plain": [
              "  0%|          | 0/55 [00:00<?, ?it/s]"
            ],
            "application/vnd.jupyter.widget-view+json": {
              "version_major": 2,
              "version_minor": 0,
              "model_id": "a39a210658f145fe8bab5865895f355b"
            }
          },
          "metadata": {}
        },
        {
          "output_type": "stream",
          "name": "stdout",
          "text": [
            "Saving confusion matrix\n"
          ]
        },
        {
          "output_type": "display_data",
          "data": {
            "text/plain": [
              "<Figure size 720x720 with 2 Axes>"
            ],
            "image/png": "[encoded data removed]"
          },
          "metadata": {
            "needs_background": "light"
          }
        },
        {
          "output_type": "stream",
          "name": "stdout",
          "text": [
            "Calculating error types...\n",
            "Writing in log file...\n",
            "\u001b[1;32m All done. Check log file => XYZ-model-3.csv\n"
          ]
        }
      ]
    }
  ],
  "metadata": {
    "colab": {
      "name": "xyz_model.ipynb",
      "provenance": [],
      "include_colab_link": true
    },
    "kernelspec": {
      "display_name": "Python 3",
      "name": "python3"
    },
    "language_info": {
      "name": "python"
    },
    "widgets": {
      "application/vnd.jupyter.widget-state+json": {
        "0c649dda32c045df902173c9b787e102": {
          "model_module": "@jupyter-widgets/controls",
          "model_name": "HBoxModel",
          "model_module_version": "1.5.0",
          "state": {
            "_dom_classes": [],
            "_model_module": "@jupyter-widgets/controls",
            "_model_module_version": "1.5.0",
            "_model_name": "HBoxModel",
            "_view_count": null,
            "_view_module": "@jupyter-widgets/controls",
            "_view_module_version": "1.5.0",
            "_view_name": "HBoxView",
            "box_style": "",
            "children": [
              "IPY_MODEL_6d99d703e64d43d2ab86d59aafa29484",
              "IPY_MODEL_8b714564f0604dbcaa083f25f384a4b7",
              "IPY_MODEL_c3640f1c210745429ed8eaf5f43cfdbe"
            ],
            "layout": "IPY_MODEL_8fd0f4e741d847c2a87fbec7e3b1767f"
          }
        },
        "6d99d703e64d43d2ab86d59aafa29484": {
          "model_module": "@jupyter-widgets/controls",
          "model_name": "HTMLModel",
          "model_module_version": "1.5.0",
          "state": {
            "_dom_classes": [],
            "_model_module": "@jupyter-widgets/controls",
            "_model_module_version": "1.5.0",
            "_model_name": "HTMLModel",
            "_view_count": null,
            "_view_module": "@jupyter-widgets/controls",
            "_view_module_version": "1.5.0",
            "_view_name": "HTMLView",
            "description": "",
            "description_tooltip": null,
            "layout": "IPY_MODEL_b9e8ad786ea8470e8f7472b0d5ab572e",
            "placeholder": "​",
            "style": "IPY_MODEL_2ae94d00ba03416a9b7212ca71d91469",
            "value": "100%"
          }
        },
        "8b714564f0604dbcaa083f25f384a4b7": {
          "model_module": "@jupyter-widgets/controls",
          "model_name": "FloatProgressModel",
          "model_module_version": "1.5.0",
          "state": {
            "_dom_classes": [],
            "_model_module": "@jupyter-widgets/controls",
            "_model_module_version": "1.5.0",
            "_model_name": "FloatProgressModel",
            "_view_count": null,
            "_view_module": "@jupyter-widgets/controls",
            "_view_module_version": "1.5.0",
            "_view_name": "ProgressView",
            "bar_style": "success",
            "description": "",
            "description_tooltip": null,
            "layout": "IPY_MODEL_49fdf25602624251bcfaebc9d006f0d6",
            "max": 55,
            "min": 0,
            "orientation": "horizontal",
            "style": "IPY_MODEL_f9e95bdad27242318edf40221f619db1",
            "value": 55
          }
        },
        "c3640f1c210745429ed8eaf5f43cfdbe": {
          "model_module": "@jupyter-widgets/controls",
          "model_name": "HTMLModel",
          "model_module_version": "1.5.0",
          "state": {
            "_dom_classes": [],
            "_model_module": "@jupyter-widgets/controls",
            "_model_module_version": "1.5.0",
            "_model_name": "HTMLModel",
            "_view_count": null,
            "_view_module": "@jupyter-widgets/controls",
            "_view_module_version": "1.5.0",
            "_view_name": "HTMLView",
            "description": "",
            "description_tooltip": null,
            "layout": "IPY_MODEL_d38548f555184435bb8964ad02ce5d12",
            "placeholder": "​",
            "style": "IPY_MODEL_fa12f60805a241b9a643ef2ca8369904",
            "value": " 55/55 [00:52&lt;00:00,  1.79it/s]"
          }
        },
        "8fd0f4e741d847c2a87fbec7e3b1767f": {
          "model_module": "@jupyter-widgets/base",
          "model_name": "LayoutModel",
          "model_module_version": "1.2.0",
          "state": {
            "_model_module": "@jupyter-widgets/base",
            "_model_module_version": "1.2.0",
            "_model_name": "LayoutModel",
            "_view_count": null,
            "_view_module": "@jupyter-widgets/base",
            "_view_module_version": "1.2.0",
            "_view_name": "LayoutView",
            "align_content": null,
            "align_items": null,
            "align_self": null,
            "border": null,
            "bottom": null,
            "display": null,
            "flex": null,
            "flex_flow": null,
            "grid_area": null,
            "grid_auto_columns": null,
            "grid_auto_flow": null,
            "grid_auto_rows": null,
            "grid_column": null,
            "grid_gap": null,
            "grid_row": null,
            "grid_template_areas": null,
            "grid_template_columns": null,
            "grid_template_rows": null,
            "height": null,
            "justify_content": null,
            "justify_items": null,
            "left": null,
            "margin": null,
            "max_height": null,
            "max_width": null,
            "min_height": null,
            "min_width": null,
            "object_fit": null,
            "object_position": null,
            "order": null,
            "overflow": null,
            "overflow_x": null,
            "overflow_y": null,
            "padding": null,
            "right": null,
            "top": null,
            "visibility": null,
            "width": null
          }
        },
        "b9e8ad786ea8470e8f7472b0d5ab572e": {
          "model_module": "@jupyter-widgets/base",
          "model_name": "LayoutModel",
          "model_module_version": "1.2.0",
          "state": {
            "_model_module": "@jupyter-widgets/base",
            "_model_module_version": "1.2.0",
            "_model_name": "LayoutModel",
            "_view_count": null,
            "_view_module": "@jupyter-widgets/base",
            "_view_module_version": "1.2.0",
            "_view_name": "LayoutView",
            "align_content": null,
            "align_items": null,
            "align_self": null,
            "border": null,
            "bottom": null,
            "display": null,
            "flex": null,
            "flex_flow": null,
            "grid_area": null,
            "grid_auto_columns": null,
            "grid_auto_flow": null,
            "grid_auto_rows": null,
            "grid_column": null,
            "grid_gap": null,
            "grid_row": null,
            "grid_template_areas": null,
            "grid_template_columns": null,
            "grid_template_rows": null,
            "height": null,
            "justify_content": null,
            "justify_items": null,
            "left": null,
            "margin": null,
            "max_height": null,
            "max_width": null,
            "min_height": null,
            "min_width": null,
            "object_fit": null,
            "object_position": null,
            "order": null,
            "overflow": null,
            "overflow_x": null,
            "overflow_y": null,
            "padding": null,
            "right": null,
            "top": null,
            "visibility": null,
            "width": null
          }
        },
        "2ae94d00ba03416a9b7212ca71d91469": {
          "model_module": "@jupyter-widgets/controls",
          "model_name": "DescriptionStyleModel",
          "model_module_version": "1.5.0",
          "state": {
            "_model_module": "@jupyter-widgets/controls",
            "_model_module_version": "1.5.0",
            "_model_name": "DescriptionStyleModel",
            "_view_count": null,
            "_view_module": "@jupyter-widgets/base",
            "_view_module_version": "1.2.0",
            "_view_name": "StyleView",
            "description_width": ""
          }
        },
        "49fdf25602624251bcfaebc9d006f0d6": {
          "model_module": "@jupyter-widgets/base",
          "model_name": "LayoutModel",
          "model_module_version": "1.2.0",
          "state": {
            "_model_module": "@jupyter-widgets/base",
            "_model_module_version": "1.2.0",
            "_model_name": "LayoutModel",
            "_view_count": null,
            "_view_module": "@jupyter-widgets/base",
            "_view_module_version": "1.2.0",
            "_view_name": "LayoutView",
            "align_content": null,
            "align_items": null,
            "align_self": null,
            "border": null,
            "bottom": null,
            "display": null,
            "flex": null,
            "flex_flow": null,
            "grid_area": null,
            "grid_auto_columns": null,
            "grid_auto_flow": null,
            "grid_auto_rows": null,
            "grid_column": null,
            "grid_gap": null,
            "grid_row": null,
            "grid_template_areas": null,
            "grid_template_columns": null,
            "grid_template_rows": null,
            "height": null,
            "justify_content": null,
            "justify_items": null,
            "left": null,
            "margin": null,
            "max_height": null,
            "max_width": null,
            "min_height": null,
            "min_width": null,
            "object_fit": null,
            "object_position": null,
            "order": null,
            "overflow": null,
            "overflow_x": null,
            "overflow_y": null,
            "padding": null,
            "right": null,
            "top": null,
            "visibility": null,
            "width": null
          }
        },
        "f9e95bdad27242318edf40221f619db1": {
          "model_module": "@jupyter-widgets/controls",
          "model_name": "ProgressStyleModel",
          "model_module_version": "1.5.0",
          "state": {
            "_model_module": "@jupyter-widgets/controls",
            "_model_module_version": "1.5.0",
            "_model_name": "ProgressStyleModel",
            "_view_count": null,
            "_view_module": "@jupyter-widgets/base",
            "_view_module_version": "1.2.0",
            "_view_name": "StyleView",
            "bar_color": null,
            "description_width": ""
          }
        },
        "d38548f555184435bb8964ad02ce5d12": {
          "model_module": "@jupyter-widgets/base",
          "model_name": "LayoutModel",
          "model_module_version": "1.2.0",
          "state": {
            "_model_module": "@jupyter-widgets/base",
            "_model_module_version": "1.2.0",
            "_model_name": "LayoutModel",
            "_view_count": null,
            "_view_module": "@jupyter-widgets/base",
            "_view_module_version": "1.2.0",
            "_view_name": "LayoutView",
            "align_content": null,
            "align_items": null,
            "align_self": null,
            "border": null,
            "bottom": null,
            "display": null,
            "flex": null,
            "flex_flow": null,
            "grid_area": null,
            "grid_auto_columns": null,
            "grid_auto_flow": null,
            "grid_auto_rows": null,
            "grid_column": null,
            "grid_gap": null,
            "grid_row": null,
            "grid_template_areas": null,
            "grid_template_columns": null,
            "grid_template_rows": null,
            "height": null,
            "justify_content": null,
            "justify_items": null,
            "left": null,
            "margin": null,
            "max_height": null,
            "max_width": null,
            "min_height": null,
            "min_width": null,
            "object_fit": null,
            "object_position": null,
            "order": null,
            "overflow": null,
            "overflow_x": null,
            "overflow_y": null,
            "padding": null,
            "right": null,
            "top": null,
            "visibility": null,
            "width": null
          }
        },
        "fa12f60805a241b9a643ef2ca8369904": {
          "model_module": "@jupyter-widgets/controls",
          "model_name": "DescriptionStyleModel",
          "model_module_version": "1.5.0",
          "state": {
            "_model_module": "@jupyter-widgets/controls",
            "_model_module_version": "1.5.0",
            "_model_name": "DescriptionStyleModel",
            "_view_count": null,
            "_view_module": "@jupyter-widgets/base",
            "_view_module_version": "1.2.0",
            "_view_name": "StyleView",
            "description_width": ""
          }
        },
        "a39a210658f145fe8bab5865895f355b": {
          "model_module": "@jupyter-widgets/controls",
          "model_name": "HBoxModel",
          "model_module_version": "1.5.0",
          "state": {
            "_dom_classes": [],
            "_model_module": "@jupyter-widgets/controls",
            "_model_module_version": "1.5.0",
            "_model_name": "HBoxModel",
            "_view_count": null,
            "_view_module": "@jupyter-widgets/controls",
            "_view_module_version": "1.5.0",
            "_view_name": "HBoxView",
            "box_style": "",
            "children": [
              "IPY_MODEL_a76151eea1774d98ad88257ad0fc6855",
              "IPY_MODEL_a0f2ed3e892644f2bf9025a81284b593",
              "IPY_MODEL_a3aba7c8661b4731a57850d4e7732655"
            ],
            "layout": "IPY_MODEL_d294886e6a534de5bc87b57e6516211f"
          }
        },
        "a76151eea1774d98ad88257ad0fc6855": {
          "model_module": "@jupyter-widgets/controls",
          "model_name": "HTMLModel",
          "model_module_version": "1.5.0",
          "state": {
            "_dom_classes": [],
            "_model_module": "@jupyter-widgets/controls",
            "_model_module_version": "1.5.0",
            "_model_name": "HTMLModel",
            "_view_count": null,
            "_view_module": "@jupyter-widgets/controls",
            "_view_module_version": "1.5.0",
            "_view_name": "HTMLView",
            "description": "",
            "description_tooltip": null,
            "layout": "IPY_MODEL_79648fd6af104087a29fbe90c45410a1",
            "placeholder": "​",
            "style": "IPY_MODEL_065050c292a64feeb5a93bcac9b167d9",
            "value": "100%"
          }
        },
        "a0f2ed3e892644f2bf9025a81284b593": {
          "model_module": "@jupyter-widgets/controls",
          "model_name": "FloatProgressModel",
          "model_module_version": "1.5.0",
          "state": {
            "_dom_classes": [],
            "_model_module": "@jupyter-widgets/controls",
            "_model_module_version": "1.5.0",
            "_model_name": "FloatProgressModel",
            "_view_count": null,
            "_view_module": "@jupyter-widgets/controls",
            "_view_module_version": "1.5.0",
            "_view_name": "ProgressView",
            "bar_style": "success",
            "description": "",
            "description_tooltip": null,
            "layout": "IPY_MODEL_34a850190b534190b1719e0ce7e05344",
            "max": 55,
            "min": 0,
            "orientation": "horizontal",
            "style": "IPY_MODEL_13ca4eabfc794e24b25e1e7df5827ab6",
            "value": 55
          }
        },
        "a3aba7c8661b4731a57850d4e7732655": {
          "model_module": "@jupyter-widgets/controls",
          "model_name": "HTMLModel",
          "model_module_version": "1.5.0",
          "state": {
            "_dom_classes": [],
            "_model_module": "@jupyter-widgets/controls",
            "_model_module_version": "1.5.0",
            "_model_name": "HTMLModel",
            "_view_count": null,
            "_view_module": "@jupyter-widgets/controls",
            "_view_module_version": "1.5.0",
            "_view_name": "HTMLView",
            "description": "",
            "description_tooltip": null,
            "layout": "IPY_MODEL_1e1a5e28153249fba0f61a803400e662",
            "placeholder": "​",
            "style": "IPY_MODEL_6f8ae39149e14d45b3b0be4400ce1c2f",
            "value": " 55/55 [00:41&lt;00:00,  1.82it/s]"
          }
        },
        "d294886e6a534de5bc87b57e6516211f": {
          "model_module": "@jupyter-widgets/base",
          "model_name": "LayoutModel",
          "model_module_version": "1.2.0",
          "state": {
            "_model_module": "@jupyter-widgets/base",
            "_model_module_version": "1.2.0",
            "_model_name": "LayoutModel",
            "_view_count": null,
            "_view_module": "@jupyter-widgets/base",
            "_view_module_version": "1.2.0",
            "_view_name": "LayoutView",
            "align_content": null,
            "align_items": null,
            "align_self": null,
            "border": null,
            "bottom": null,
            "display": null,
            "flex": null,
            "flex_flow": null,
            "grid_area": null,
            "grid_auto_columns": null,
            "grid_auto_flow": null,
            "grid_auto_rows": null,
            "grid_column": null,
            "grid_gap": null,
            "grid_row": null,
            "grid_template_areas": null,
            "grid_template_columns": null,
            "grid_template_rows": null,
            "height": null,
            "justify_content": null,
            "justify_items": null,
            "left": null,
            "margin": null,
            "max_height": null,
            "max_width": null,
            "min_height": null,
            "min_width": null,
            "object_fit": null,
            "object_position": null,
            "order": null,
            "overflow": null,
            "overflow_x": null,
            "overflow_y": null,
            "padding": null,
            "right": null,
            "top": null,
            "visibility": null,
            "width": null
          }
        },
        "79648fd6af104087a29fbe90c45410a1": {
          "model_module": "@jupyter-widgets/base",
          "model_name": "LayoutModel",
          "model_module_version": "1.2.0",
          "state": {
            "_model_module": "@jupyter-widgets/base",
            "_model_module_version": "1.2.0",
            "_model_name": "LayoutModel",
            "_view_count": null,
            "_view_module": "@jupyter-widgets/base",
            "_view_module_version": "1.2.0",
            "_view_name": "LayoutView",
            "align_content": null,
            "align_items": null,
            "align_self": null,
            "border": null,
            "bottom": null,
            "display": null,
            "flex": null,
            "flex_flow": null,
            "grid_area": null,
            "grid_auto_columns": null,
            "grid_auto_flow": null,
            "grid_auto_rows": null,
            "grid_column": null,
            "grid_gap": null,
            "grid_row": null,
            "grid_template_areas": null,
            "grid_template_columns": null,
            "grid_template_rows": null,
            "height": null,
            "justify_content": null,
            "justify_items": null,
            "left": null,
            "margin": null,
            "max_height": null,
            "max_width": null,
            "min_height": null,
            "min_width": null,
            "object_fit": null,
            "object_position": null,
            "order": null,
            "overflow": null,
            "overflow_x": null,
            "overflow_y": null,
            "padding": null,
            "right": null,
            "top": null,
            "visibility": null,
            "width": null
          }
        },
        "065050c292a64feeb5a93bcac9b167d9": {
          "model_module": "@jupyter-widgets/controls",
          "model_name": "DescriptionStyleModel",
          "model_module_version": "1.5.0",
          "state": {
            "_model_module": "@jupyter-widgets/controls",
            "_model_module_version": "1.5.0",
            "_model_name": "DescriptionStyleModel",
            "_view_count": null,
            "_view_module": "@jupyter-widgets/base",
            "_view_module_version": "1.2.0",
            "_view_name": "StyleView",
            "description_width": ""
          }
        },
        "34a850190b534190b1719e0ce7e05344": {
          "model_module": "@jupyter-widgets/base",
          "model_name": "LayoutModel",
          "model_module_version": "1.2.0",
          "state": {
            "_model_module": "@jupyter-widgets/base",
            "_model_module_version": "1.2.0",
            "_model_name": "LayoutModel",
            "_view_count": null,
            "_view_module": "@jupyter-widgets/base",
            "_view_module_version": "1.2.0",
            "_view_name": "LayoutView",
            "align_content": null,
            "align_items": null,
            "align_self": null,
            "border": null,
            "bottom": null,
            "display": null,
            "flex": null,
            "flex_flow": null,
            "grid_area": null,
            "grid_auto_columns": null,
            "grid_auto_flow": null,
            "grid_auto_rows": null,
            "grid_column": null,
            "grid_gap": null,
            "grid_row": null,
            "grid_template_areas": null,
            "grid_template_columns": null,
            "grid_template_rows": null,
            "height": null,
            "justify_content": null,
            "justify_items": null,
            "left": null,
            "margin": null,
            "max_height": null,
            "max_width": null,
            "min_height": null,
            "min_width": null,
            "object_fit": null,
            "object_position": null,
            "order": null,
            "overflow": null,
            "overflow_x": null,
            "overflow_y": null,
            "padding": null,
            "right": null,
            "top": null,
            "visibility": null,
            "width": null
          }
        },
        "13ca4eabfc794e24b25e1e7df5827ab6": {
          "model_module": "@jupyter-widgets/controls",
          "model_name": "ProgressStyleModel",
          "model_module_version": "1.5.0",
          "state": {
            "_model_module": "@jupyter-widgets/controls",
            "_model_module_version": "1.5.0",
            "_model_name": "ProgressStyleModel",
            "_view_count": null,
            "_view_module": "@jupyter-widgets/base",
            "_view_module_version": "1.2.0",
            "_view_name": "StyleView",
            "bar_color": null,
            "description_width": ""
          }
        },
        "1e1a5e28153249fba0f61a803400e662": {
          "model_module": "@jupyter-widgets/base",
          "model_name": "LayoutModel",
          "model_module_version": "1.2.0",
          "state": {
            "_model_module": "@jupyter-widgets/base",
            "_model_module_version": "1.2.0",
            "_model_name": "LayoutModel",
            "_view_count": null,
            "_view_module": "@jupyter-widgets/base",
            "_view_module_version": "1.2.0",
            "_view_name": "LayoutView",
            "align_content": null,
            "align_items": null,
            "align_self": null,
            "border": null,
            "bottom": null,
            "display": null,
            "flex": null,
            "flex_flow": null,
            "grid_area": null,
            "grid_auto_columns": null,
            "grid_auto_flow": null,
            "grid_auto_rows": null,
            "grid_column": null,
            "grid_gap": null,
            "grid_row": null,
            "grid_template_areas": null,
            "grid_template_columns": null,
            "grid_template_rows": null,
            "height": null,
            "justify_content": null,
            "justify_items": null,
            "left": null,
            "margin": null,
            "max_height": null,
            "max_width": null,
            "min_height": null,
            "min_width": null,
            "object_fit": null,
            "object_position": null,
            "order": null,
            "overflow": null,
            "overflow_x": null,
            "overflow_y": null,
            "padding": null,
            "right": null,
            "top": null,
            "visibility": null,
            "width": null
          }
        },
        "6f8ae39149e14d45b3b0be4400ce1c2f": {
          "model_module": "@jupyter-widgets/controls",
          "model_name": "DescriptionStyleModel",
          "model_module_version": "1.5.0",
          "state": {
            "_model_module": "@jupyter-widgets/controls",
            "_model_module_version": "1.5.0",
            "_model_name": "DescriptionStyleModel",
            "_view_count": null,
            "_view_module": "@jupyter-widgets/base",
            "_view_module_version": "1.2.0",
            "_view_name": "StyleView",
            "description_width": ""
          }
        }
      }
    },
    "accelerator": "GPU"
  },
  "nbformat": 4,
  "nbformat_minor": 0
}