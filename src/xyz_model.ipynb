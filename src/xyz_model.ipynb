{
  "cells": [
    {
      "cell_type": "markdown",
      "metadata": {
        "id": "view-in-github",
        "colab_type": "text"
      },
      "source": [
        "<a href=\"https://colab.research.google.com/github/m-bashari-m/vehicle-color-recognition/blob/main/src/xyz_model.ipynb\" target=\"_parent\"><img src=\"https://colab.research.google.com/assets/colab-badge.svg\" alt=\"Open In Colab\"/></a>"
      ]
    },
    {
      "cell_type": "code",
      "execution_count": 1,
      "metadata": {
        "colab": {
          "base_uri": "https://localhost:8080/"
        },
        "id": "FaoIT7KdsydD",
        "outputId": "839c3f84-22b5-4954-95ee-c39dc9448e53"
      },
      "outputs": [
        {
          "output_type": "stream",
          "name": "stdout",
          "text": [
            "--2022-06-05 17:51:32--  https://raw.githubusercontent.com/m-bashari-m/vehicle-color-recognition/main/src/utils.py\n",
            "Resolving raw.githubusercontent.com (raw.githubusercontent.com)... 185.199.111.133, 185.199.109.133, 185.199.108.133, ...\n",
            "Connecting to raw.githubusercontent.com (raw.githubusercontent.com)|185.199.111.133|:443... connected.\n",
            "HTTP request sent, awaiting response... 200 OK\n",
            "Length: 9888 (9.7K) [text/plain]\n",
            "Saving to: ‘utils.py’\n",
            "\n",
            "\rutils.py              0%[                    ]       0  --.-KB/s               \rutils.py            100%[===================>]   9.66K  --.-KB/s    in 0s      \n",
            "\n",
            "2022-06-05 17:51:32 (53.9 MB/s) - ‘utils.py’ saved [9888/9888]\n",
            "\n"
          ]
        }
      ],
      "source": [
        "!wget https://raw.githubusercontent.com/m-bashari-m/vehicle-color-recognition/main/src/utils.py"
      ]
    },
    {
      "cell_type": "code",
      "execution_count": 2,
      "metadata": {
        "colab": {
          "base_uri": "https://localhost:8080/"
        },
        "id": "HytB7-lTs7g5",
        "outputId": "28f14ea5-727a-4048-e32f-fdde07605c4b"
      },
      "outputs": [
        {
          "output_type": "stream",
          "name": "stdout",
          "text": [
            "Mounted at ./drive\n"
          ]
        }
      ],
      "source": [
        "from google.colab import drive\n",
        "drive.mount('./drive')"
      ]
    },
    {
      "cell_type": "code",
      "execution_count": 3,
      "metadata": {
        "id": "dQvl_Em4s8Oi",
        "outputId": "2066b749-7959-446d-9e18-48574b2f3fbf",
        "colab": {
          "base_uri": "https://localhost:8080/"
        }
      },
      "outputs": [
        {
          "output_type": "stream",
          "name": "stdout",
          "text": [
            "\u001b[K     |████████████████████████████████| 25.9 MB 56.8 MB/s \n",
            "\u001b[?25h"
          ]
        }
      ],
      "source": [
        "import pandas as pd\n",
        "import numpy as np\n",
        "import os\n",
        "\n",
        "import tensorflow as tf\n",
        "from tensorflow import keras\n",
        "import tensorflow_hub as hub\n",
        "\n",
        "!pip install -q tensorflow-io\n",
        "import tensorflow_io as tfio\n",
        "\n",
        "from utils import ModelCreator, get_train_val_ds, ErrorAnalyzer, get_class_weight"
      ]
    },
    {
      "cell_type": "code",
      "execution_count": 4,
      "metadata": {
        "id": "S5qkZw4Ns8Z7"
      },
      "outputs": [],
      "source": [
        "BATCH_SIZE = 32\n",
        "IMG_SIZE = (256, 256)\n",
        "AUTOTUNE = tf.data.AUTOTUNE\n",
        "N_CLASSES = 16\n",
        "HUB_URL = 'https://tfhub.dev/google/bit/m-r50x1/1'"
      ]
    },
    {
      "cell_type": "code",
      "execution_count": 5,
      "metadata": {
        "id": "J8g_1jhQtDFq"
      },
      "outputs": [],
      "source": [
        "dataset_dir = os.path.join('drive', 'MyDrive', 'cars')\n",
        "train_dir = os.path.join(dataset_dir, 'train')\n",
        "val_dir = os.path.join(dataset_dir, 'val')"
      ]
    },
    {
      "cell_type": "code",
      "execution_count": 6,
      "metadata": {
        "colab": {
          "base_uri": "https://localhost:8080/"
        },
        "id": "ZDdC4GywtEQh",
        "outputId": "c18b8231-2594-4723-87da-8e2ed4432b5d"
      },
      "outputs": [
        {
          "output_type": "stream",
          "name": "stdout",
          "text": [
            "Found 16580 files belonging to 16 classes.\n",
            "Found 3508 files belonging to 16 classes.\n"
          ]
        }
      ],
      "source": [
        "train_ds, val_ds = get_train_val_ds(train_dir, val_dir, batch_size=BATCH_SIZE, img_size=IMG_SIZE)"
      ]
    },
    {
      "cell_type": "code",
      "execution_count": 9,
      "metadata": {
        "id": "VfXJuXaItHeC"
      },
      "outputs": [],
      "source": [
        "classes, class_weight = get_class_weight()"
      ]
    },
    {
      "cell_type": "code",
      "execution_count": 7,
      "metadata": {
        "id": "YUizq5ZwtHqM"
      },
      "outputs": [],
      "source": [
        "train_ds = (\n",
        "    train_ds.\n",
        "    map(lambda img, lbl: (img/255., lbl), num_parallel_calls=AUTOTUNE).\n",
        "    map(lambda img, lbl: (tfio.experimental.color.rgb_to_xyz(img), lbl), num_parallel_calls=AUTOTUNE).\n",
        "    prefetch(AUTOTUNE))\n",
        "\n",
        "val_ds = (\n",
        "    val_ds.\n",
        "    map(lambda img, lbl: (img/255., lbl), num_parallel_calls=AUTOTUNE).\n",
        "    map(lambda img, lbl: (tfio.experimental.color.rgb_to_xyz(img), lbl), num_parallel_calls=AUTOTUNE).\n",
        "    prefetch(AUTOTUNE))"
      ]
    },
    {
      "cell_type": "code",
      "execution_count": 8,
      "metadata": {
        "id": "SOzs81ywtH3h",
        "outputId": "fd59772f-c1e9-40b9-cc7a-a6c4e006d95a",
        "colab": {
          "base_uri": "https://localhost:8080/"
        }
      },
      "outputs": [
        {
          "output_type": "stream",
          "name": "stdout",
          "text": [
            "Model: \"XYZ-model\"\n",
            "_________________________________________________________________\n",
            " Layer (type)                Output Shape              Param #   \n",
            "=================================================================\n",
            " keras_layer (KerasLayer)    (None, 2048)              23500352  \n",
            "                                                                 \n",
            " dense (Dense)               (None, 600)               1229400   \n",
            "                                                                 \n",
            " dropout (Dropout)           (None, 600)               0         \n",
            "                                                                 \n",
            " dense_1 (Dense)             (None, 16)                9616      \n",
            "                                                                 \n",
            "=================================================================\n",
            "Total params: 24,739,368\n",
            "Trainable params: 1,239,016\n",
            "Non-trainable params: 23,500,352\n",
            "_________________________________________________________________\n"
          ]
        }
      ],
      "source": [
        "xyz_creator = ModelCreator(HUB_URL, 'XYZ-model')\n",
        "xyz_model = xyz_creator.make_model(img_size=IMG_SIZE)"
      ]
    },
    {
      "cell_type": "code",
      "source": [
        "callbacks = xyz_creator.get_callbacks()"
      ],
      "metadata": {
        "id": "rHnL7xHEoQLX"
      },
      "execution_count": 10,
      "outputs": []
    },
    {
      "cell_type": "markdown",
      "source": [
        "# **First** day of training"
      ],
      "metadata": {
        "id": "MbKbz4gzWBkV"
      }
    },
    {
      "cell_type": "code",
      "execution_count": 11,
      "metadata": {
        "colab": {
          "base_uri": "https://localhost:8080/"
        },
        "id": "81hWi4y1utc0",
        "outputId": "1cf441d8-6161-49a7-aefd-f0fa0c3eed7e"
      },
      "outputs": [
        {
          "output_type": "stream",
          "name": "stdout",
          "text": [
            "Epoch 1/25\n",
            "519/519 [==============================] - 2204s 4s/step - loss: 1252.1621 - auc: 0.4165 - accuracy: 0.5898\n",
            "Epoch 2/25\n",
            "519/519 [==============================] - 173s 330ms/step - loss: 1457.8622 - auc: 0.4709 - accuracy: 0.6431\n",
            "Epoch 3/25\n",
            "519/519 [==============================] - 174s 333ms/step - loss: 1456.4119 - auc: 0.5326 - accuracy: 0.6937\n",
            "Epoch 4/25\n",
            "519/519 [==============================] - 175s 334ms/step - loss: 1217.2002 - auc: 0.5598 - accuracy: 0.7147\n",
            "Epoch 5/25\n",
            "519/519 [==============================] - 170s 325ms/step - loss: 981.8767 - auc: 0.5869 - accuracy: 0.7351\n",
            "Epoch 6/25\n",
            "519/519 [==============================] - 185s 354ms/step - loss: 830.7003 - auc: 0.6066 - accuracy: 0.7484\n",
            "Epoch 7/25\n",
            "519/519 [==============================] - 186s 356ms/step - loss: 668.9490 - auc: 0.6359 - accuracy: 0.7685\n",
            "Epoch 8/25\n",
            "519/519 [==============================] - 188s 359ms/step - loss: 788.6319 - auc: 0.6280 - accuracy: 0.7633\n",
            "Epoch 9/25\n",
            "519/519 [==============================] - 178s 339ms/step - loss: 533.7442 - auc: 0.6675 - accuracy: 0.7910\n",
            "Epoch 10/25\n",
            "519/519 [==============================] - 177s 338ms/step - loss: 438.5637 - auc: 0.6801 - accuracy: 0.7983\n",
            "Epoch 11/25\n",
            "519/519 [==============================] - 176s 337ms/step - loss: 424.2899 - auc: 0.6813 - accuracy: 0.7992\n",
            "Epoch 12/25\n",
            "519/519 [==============================] - 174s 333ms/step - loss: 347.4928 - auc: 0.6995 - accuracy: 0.8100\n",
            "Epoch 13/25\n",
            "519/519 [==============================] - 171s 326ms/step - loss: 262.3140 - auc: 0.7308 - accuracy: 0.8299\n",
            "Epoch 14/25\n",
            "519/519 [==============================] - 174s 333ms/step - loss: 295.7799 - auc: 0.7174 - accuracy: 0.8218\n",
            "Epoch 15/25\n",
            "519/519 [==============================] - 170s 324ms/step - loss: 214.2752 - auc: 0.7370 - accuracy: 0.8341\n",
            "Epoch 16/25\n",
            "519/519 [==============================] - 178s 341ms/step - loss: 172.3516 - auc: 0.7583 - accuracy: 0.8463\n",
            "Epoch 17/25\n",
            "519/519 [==============================] - 192s 367ms/step - loss: 163.4579 - auc: 0.7557 - accuracy: 0.8439\n",
            "Epoch 18/25\n",
            "519/519 [==============================] - 185s 354ms/step - loss: 140.5882 - auc: 0.7720 - accuracy: 0.8530\n",
            "Epoch 19/25\n",
            "519/519 [==============================] - 180s 343ms/step - loss: 125.8727 - auc: 0.7803 - accuracy: 0.8582\n",
            "Epoch 20/25\n",
            "519/519 [==============================] - 171s 328ms/step - loss: 106.8766 - auc: 0.7942 - accuracy: 0.8682\n",
            "Epoch 21/25\n",
            "519/519 [==============================] - 169s 322ms/step - loss: 96.6586 - auc: 0.8062 - accuracy: 0.8724\n",
            "Epoch 22/25\n",
            "519/519 [==============================] - 173s 330ms/step - loss: 79.4761 - auc: 0.8096 - accuracy: 0.8735\n",
            "Epoch 23/25\n",
            "519/519 [==============================] - 171s 327ms/step - loss: 80.7372 - auc: 0.8109 - accuracy: 0.8748\n",
            "Epoch 24/25\n",
            "519/519 [==============================] - 169s 322ms/step - loss: 62.5157 - auc: 0.8315 - accuracy: 0.8875\n",
            "Epoch 25/25\n",
            "519/519 [==============================] - 173s 331ms/step - loss: 52.9530 - auc: 0.8428 - accuracy: 0.8910\n"
          ]
        }
      ],
      "source": [
        "history = xyz_model.fit(train_ds,\n",
        "                        callbacks=callbacks,\n",
        "                        epochs=25,\n",
        "                        class_weight=class_weight)"
      ]
    },
    {
      "cell_type": "code",
      "source": [
        "xyz_model.save_weights('drive/MyDrive/checkpoints/xyz-weights-25.h5')"
      ],
      "metadata": {
        "id": "2X6tlCAxxpR8"
      },
      "execution_count": 12,
      "outputs": []
    },
    {
      "cell_type": "code",
      "source": [
        "analyzer = ErrorAnalyzer(model=xyz_model,\n",
        "                         ds=val_ds,\n",
        "                         classes=classes,\n",
        "                         model_name='XYZ-model-1')"
      ],
      "metadata": {
        "id": "3OpTUbRzyfLU",
        "outputId": "a3329ff0-0cd8-4dea-e05d-d681110f020c",
        "colab": {
          "base_uri": "https://localhost:8080/",
          "height": 84,
          "referenced_widgets": [
            "034533ddc0684dcc933f9b87fa1a8289",
            "4d34686b6c94402e9e5571d1b247523a",
            "adc28b1dd3914b299c20d38f564d6d30",
            "a51b10d873cb4293b7ec1061b29bb2a6",
            "bddbbde72e90449a8b81424d50c198b2",
            "735b06e72e6d4c92b36441768d213219",
            "5a7ed61e82fa4c6e8ab0473138dc58d3",
            "12c9e849b92a47109d7033063b817a28",
            "8b0e85423ebc4b58b69c7f85b9ef185d",
            "4aee464982214fbf8147a00f68f08ecb",
            "b838a88df1344567ab567b4c12dba6b0"
          ]
        }
      },
      "execution_count": 13,
      "outputs": [
        {
          "output_type": "stream",
          "name": "stdout",
          "text": [
            "Making confusion matrix:\n"
          ]
        },
        {
          "output_type": "display_data",
          "data": {
            "text/plain": [
              "  0%|          | 0/55 [00:00<?, ?it/s]"
            ],
            "application/vnd.jupyter.widget-view+json": {
              "version_major": 2,
              "version_minor": 0,
              "model_id": "034533ddc0684dcc933f9b87fa1a8289"
            }
          },
          "metadata": {}
        },
        {
          "output_type": "stream",
          "name": "stdout",
          "text": [
            "Confusion matrix is saved\n"
          ]
        }
      ]
    },
    {
      "cell_type": "code",
      "source": [
        "analyzer.plot_confusion_mat()"
      ],
      "metadata": {
        "id": "pf8bF4wY1c2E",
        "outputId": "d036f6f0-cc0a-4bc4-c68c-2d90fd893b24",
        "colab": {
          "base_uri": "https://localhost:8080/",
          "height": 645
        }
      },
      "execution_count": 14,
      "outputs": [
        {
          "output_type": "display_data",
          "data": {
            "text/plain": [
              "<Figure size 720x720 with 2 Axes>"
            ],
            "image/png": "[encoded data removed]"
          },
          "metadata": {
            "needs_background": "light"
          }
        }
      ]
    },
    {
      "cell_type": "code",
      "source": [
        "analyzer.evaluate_model()"
      ],
      "metadata": {
        "id": "9BuVMhUy5Sg-"
      },
      "execution_count": null,
      "outputs": []
    },
    {
      "cell_type": "code",
      "source": [
        "history = xyz_model.fit(train_ds,\n",
        "                        callbacks=callbacks,\n",
        "                        epochs=40,\n",
        "                        initial_epoch=25,\n",
        "                        class_weight=class_weight)"
      ],
      "metadata": {
        "id": "LtkwjJbi55U3",
        "outputId": "5f2faacd-c6ce-439a-f6e3-950d182109ed",
        "colab": {
          "base_uri": "https://localhost:8080/"
        }
      },
      "execution_count": null,
      "outputs": [
        {
          "output_type": "stream",
          "name": "stdout",
          "text": [
            "Epoch 26/40\n",
            "519/519 [==============================] - 183s 349ms/step - loss: 48.9469 - auc: 0.8439 - accuracy: 0.8928\n",
            "Epoch 27/40\n",
            "519/519 [==============================] - 176s 336ms/step - loss: 44.7289 - auc: 0.8491 - accuracy: 0.8958\n",
            "Epoch 28/40\n",
            "519/519 [==============================] - 172s 328ms/step - loss: 41.9936 - auc: 0.8546 - accuracy: 0.8978\n",
            "Epoch 29/40\n",
            "519/519 [==============================] - 172s 329ms/step - loss: 36.0858 - auc: 0.8641 - accuracy: 0.9010\n",
            "Epoch 30/40\n",
            "519/519 [==============================] - 172s 328ms/step - loss: 33.1057 - auc: 0.8690 - accuracy: 0.9042\n",
            "Epoch 31/40\n",
            "519/519 [==============================] - 171s 326ms/step - loss: 29.8307 - auc: 0.8807 - accuracy: 0.9115\n",
            "Epoch 32/40\n",
            "519/519 [==============================] - 173s 330ms/step - loss: 29.1139 - auc: 0.8817 - accuracy: 0.9107\n",
            "Epoch 33/40\n",
            "519/519 [==============================] - 170s 325ms/step - loss: 26.3377 - auc: 0.8886 - accuracy: 0.9153\n",
            "Epoch 34/40\n",
            "519/519 [==============================] - 172s 328ms/step - loss: 21.1824 - auc: 0.8948 - accuracy: 0.9179\n",
            "Epoch 35/40\n",
            "519/519 [==============================] - 172s 328ms/step - loss: 19.3903 - auc: 0.9048 - accuracy: 0.9225\n",
            "Epoch 36/40\n",
            "372/519 [====================>.........] - ETA: 47s - loss: 18.0448 - auc: 0.9105 - accuracy: 0.9268"
          ]
        }
      ]
    },
    {
      "cell_type": "code",
      "source": [
        "xyz_model.save_weights('drive/MyDrive/checkpoints/xyz-weights-40.h5')"
      ],
      "metadata": {
        "id": "hFVBXi0D6psm"
      },
      "execution_count": null,
      "outputs": []
    },
    {
      "cell_type": "code",
      "source": [
        "analyzer = ErrorAnalyzer(model=xyz_model,\n",
        "                         ds=val_ds,\n",
        "                         classes=classes,\n",
        "                         model_name='XYZ-model-2')\n",
        "\n",
        "analyzer.plot_confusion_mat()\n",
        "analyzer.evaluate_model()"
      ],
      "metadata": {
        "id": "H9_XKPnN6uNe"
      },
      "execution_count": null,
      "outputs": []
    },
    {
      "cell_type": "code",
      "source": [
        "history = xyz_model.fit(train_ds,\n",
        "                        callbacks=callbacks,\n",
        "                        epochs=35,\n",
        "                        initial_epoch=25,\n",
        "                        class_weight=class_weight)"
      ],
      "metadata": {
        "id": "n4aN7FfJC2NN",
        "outputId": "ceebb81d-4760-4c09-ebba-8d19df9be348",
        "colab": {
          "base_uri": "https://localhost:8080/"
        }
      },
      "execution_count": null,
      "outputs": [
        {
          "output_type": "stream",
          "name": "stdout",
          "text": [
            "Epoch 26/35\n",
            "519/519 [==============================] - 178s 341ms/step - loss: 11.1384 - auc: 0.9240 - accuracy: 0.9101\n",
            "Epoch 27/35\n",
            "519/519 [==============================] - 183s 349ms/step - loss: 10.8732 - auc: 0.9241 - accuracy: 0.9113\n",
            "Epoch 28/35\n",
            "519/519 [==============================] - 181s 347ms/step - loss: 9.9524 - auc: 0.9314 - accuracy: 0.9145\n",
            "Epoch 29/35\n",
            "519/519 [==============================] - 177s 338ms/step - loss: 9.3697 - auc: 0.9309 - accuracy: 0.9134\n",
            "Epoch 30/35\n",
            "519/519 [==============================] - 176s 337ms/step - loss: 8.7191 - auc: 0.9366 - accuracy: 0.9169\n",
            "Epoch 31/35\n",
            "519/519 [==============================] - 175s 335ms/step - loss: 8.6110 - auc: 0.9369 - accuracy: 0.9166\n",
            "Epoch 32/35\n",
            "519/519 [==============================] - 178s 341ms/step - loss: 8.4556 - auc: 0.9396 - accuracy: 0.9209\n",
            "Epoch 33/35\n",
            "519/519 [==============================] - 178s 341ms/step - loss: 8.3487 - auc: 0.9394 - accuracy: 0.9202\n",
            "Epoch 34/35\n",
            "519/519 [==============================] - 175s 333ms/step - loss: 7.9879 - auc: 0.9437 - accuracy: 0.9207\n",
            "Epoch 35/35\n",
            "519/519 [==============================] - 176s 337ms/step - loss: 7.5727 - auc: 0.9448 - accuracy: 0.9224\n"
          ]
        }
      ]
    },
    {
      "cell_type": "code",
      "source": [
        "xyz_model.save_weights('drive/MyDrive/checkpoints/xyz-weights-35.h5')"
      ],
      "metadata": {
        "id": "1IjsLrEUC-Fv"
      },
      "execution_count": null,
      "outputs": []
    },
    {
      "cell_type": "code",
      "source": [
        "analyzer = ErrorAnalyzer(model=xyz_model,\n",
        "                         ds=val_ds,\n",
        "                         classes=classes,\n",
        "                         model_name='XYZ-model-3')\n",
        "\n",
        "analyzer.plot_confusion_mat()\n",
        "analyzer.evaluate_model()"
      ],
      "metadata": {
        "id": "OZCuiwz_DACd",
        "outputId": "85eaf8a4-ceac-425a-e16d-891f37df2338",
        "colab": {
          "base_uri": "https://localhost:8080/",
          "height": 764,
          "referenced_widgets": [
            "a39a210658f145fe8bab5865895f355b",
            "a76151eea1774d98ad88257ad0fc6855",
            "a0f2ed3e892644f2bf9025a81284b593",
            "a3aba7c8661b4731a57850d4e7732655",
            "d294886e6a534de5bc87b57e6516211f",
            "79648fd6af104087a29fbe90c45410a1",
            "065050c292a64feeb5a93bcac9b167d9",
            "34a850190b534190b1719e0ce7e05344",
            "13ca4eabfc794e24b25e1e7df5827ab6",
            "1e1a5e28153249fba0f61a803400e662",
            "6f8ae39149e14d45b3b0be4400ce1c2f"
          ]
        }
      },
      "execution_count": null,
      "outputs": [
        {
          "output_type": "stream",
          "name": "stdout",
          "text": [
            "Making confusion matrix:\n"
          ]
        },
        {
          "output_type": "display_data",
          "data": {
            "text/plain": [
              "  0%|          | 0/55 [00:00<?, ?it/s]"
            ],
            "application/vnd.jupyter.widget-view+json": {
              "version_major": 2,
              "version_minor": 0,
              "model_id": "a39a210658f145fe8bab5865895f355b"
            }
          },
          "metadata": {}
        },
        {
          "output_type": "stream",
          "name": "stdout",
          "text": [
            "Saving confusion matrix\n"
          ]
        },
        {
          "output_type": "display_data",
          "data": {
            "text/plain": [
              "<Figure size 720x720 with 2 Axes>"
            ],
            "image/png": "[encoded data removed]"
          },
          "metadata": {
            "needs_background": "light"
          }
        },
        {
          "output_type": "stream",
          "name": "stdout",
          "text": [
            "Calculating error types...\n",
            "Writing in log file...\n",
            "\u001b[1;32m All done. Check log file => XYZ-model-3.csv\n"
          ]
        }
      ]
    }
  ],
  "metadata": {
    "colab": {
      "name": "xyz_model.ipynb",
      "provenance": [],
      "include_colab_link": true
    },
    "kernelspec": {
      "display_name": "Python 3",
      "name": "python3"
    },
    "language_info": {
      "name": "python"
    },
    "widgets": {
      "application/vnd.jupyter.widget-state+json": {
        "a39a210658f145fe8bab5865895f355b": {
          "model_module": "@jupyter-widgets/controls",
          "model_name": "HBoxModel",
          "model_module_version": "1.5.0",
          "state": {
            "_dom_classes": [],
            "_model_module": "@jupyter-widgets/controls",
            "_model_module_version": "1.5.0",
            "_model_name": "HBoxModel",
            "_view_count": null,
            "_view_module": "@jupyter-widgets/controls",
            "_view_module_version": "1.5.0",
            "_view_name": "HBoxView",
            "box_style": "",
            "children": [
              "IPY_MODEL_a76151eea1774d98ad88257ad0fc6855",
              "IPY_MODEL_a0f2ed3e892644f2bf9025a81284b593",
              "IPY_MODEL_a3aba7c8661b4731a57850d4e7732655"
            ],
            "layout": "IPY_MODEL_d294886e6a534de5bc87b57e6516211f"
          }
        },
        "a76151eea1774d98ad88257ad0fc6855": {
          "model_module": "@jupyter-widgets/controls",
          "model_name": "HTMLModel",
          "model_module_version": "1.5.0",
          "state": {
            "_dom_classes": [],
            "_model_module": "@jupyter-widgets/controls",
            "_model_module_version": "1.5.0",
            "_model_name": "HTMLModel",
            "_view_count": null,
            "_view_module": "@jupyter-widgets/controls",
            "_view_module_version": "1.5.0",
            "_view_name": "HTMLView",
            "description": "",
            "description_tooltip": null,
            "layout": "IPY_MODEL_79648fd6af104087a29fbe90c45410a1",
            "placeholder": "​",
            "style": "IPY_MODEL_065050c292a64feeb5a93bcac9b167d9",
            "value": "100%"
          }
        },
        "a0f2ed3e892644f2bf9025a81284b593": {
          "model_module": "@jupyter-widgets/controls",
          "model_name": "FloatProgressModel",
          "model_module_version": "1.5.0",
          "state": {
            "_dom_classes": [],
            "_model_module": "@jupyter-widgets/controls",
            "_model_module_version": "1.5.0",
            "_model_name": "FloatProgressModel",
            "_view_count": null,
            "_view_module": "@jupyter-widgets/controls",
            "_view_module_version": "1.5.0",
            "_view_name": "ProgressView",
            "bar_style": "success",
            "description": "",
            "description_tooltip": null,
            "layout": "IPY_MODEL_34a850190b534190b1719e0ce7e05344",
            "max": 55,
            "min": 0,
            "orientation": "horizontal",
            "style": "IPY_MODEL_13ca4eabfc794e24b25e1e7df5827ab6",
            "value": 55
          }
        },
        "a3aba7c8661b4731a57850d4e7732655": {
          "model_module": "@jupyter-widgets/controls",
          "model_name": "HTMLModel",
          "model_module_version": "1.5.0",
          "state": {
            "_dom_classes": [],
            "_model_module": "@jupyter-widgets/controls",
            "_model_module_version": "1.5.0",
            "_model_name": "HTMLModel",
            "_view_count": null,
            "_view_module": "@jupyter-widgets/controls",
            "_view_module_version": "1.5.0",
            "_view_name": "HTMLView",
            "description": "",
            "description_tooltip": null,
            "layout": "IPY_MODEL_1e1a5e28153249fba0f61a803400e662",
            "placeholder": "​",
            "style": "IPY_MODEL_6f8ae39149e14d45b3b0be4400ce1c2f",
            "value": " 55/55 [00:41&lt;00:00,  1.82it/s]"
          }
        },
        "d294886e6a534de5bc87b57e6516211f": {
          "model_module": "@jupyter-widgets/base",
          "model_name": "LayoutModel",
          "model_module_version": "1.2.0",
          "state": {
            "_model_module": "@jupyter-widgets/base",
            "_model_module_version": "1.2.0",
            "_model_name": "LayoutModel",
            "_view_count": null,
            "_view_module": "@jupyter-widgets/base",
            "_view_module_version": "1.2.0",
            "_view_name": "LayoutView",
            "align_content": null,
            "align_items": null,
            "align_self": null,
            "border": null,
            "bottom": null,
            "display": null,
            "flex": null,
            "flex_flow": null,
            "grid_area": null,
            "grid_auto_columns": null,
            "grid_auto_flow": null,
            "grid_auto_rows": null,
            "grid_column": null,
            "grid_gap": null,
            "grid_row": null,
            "grid_template_areas": null,
            "grid_template_columns": null,
            "grid_template_rows": null,
            "height": null,
            "justify_content": null,
            "justify_items": null,
            "left": null,
            "margin": null,
            "max_height": null,
            "max_width": null,
            "min_height": null,
            "min_width": null,
            "object_fit": null,
            "object_position": null,
            "order": null,
            "overflow": null,
            "overflow_x": null,
            "overflow_y": null,
            "padding": null,
            "right": null,
            "top": null,
            "visibility": null,
            "width": null
          }
        },
        "79648fd6af104087a29fbe90c45410a1": {
          "model_module": "@jupyter-widgets/base",
          "model_name": "LayoutModel",
          "model_module_version": "1.2.0",
          "state": {
            "_model_module": "@jupyter-widgets/base",
            "_model_module_version": "1.2.0",
            "_model_name": "LayoutModel",
            "_view_count": null,
            "_view_module": "@jupyter-widgets/base",
            "_view_module_version": "1.2.0",
            "_view_name": "LayoutView",
            "align_content": null,
            "align_items": null,
            "align_self": null,
            "border": null,
            "bottom": null,
            "display": null,
            "flex": null,
            "flex_flow": null,
            "grid_area": null,
            "grid_auto_columns": null,
            "grid_auto_flow": null,
            "grid_auto_rows": null,
            "grid_column": null,
            "grid_gap": null,
            "grid_row": null,
            "grid_template_areas": null,
            "grid_template_columns": null,
            "grid_template_rows": null,
            "height": null,
            "justify_content": null,
            "justify_items": null,
            "left": null,
            "margin": null,
            "max_height": null,
            "max_width": null,
            "min_height": null,
            "min_width": null,
            "object_fit": null,
            "object_position": null,
            "order": null,
            "overflow": null,
            "overflow_x": null,
            "overflow_y": null,
            "padding": null,
            "right": null,
            "top": null,
            "visibility": null,
            "width": null
          }
        },
        "065050c292a64feeb5a93bcac9b167d9": {
          "model_module": "@jupyter-widgets/controls",
          "model_name": "DescriptionStyleModel",
          "model_module_version": "1.5.0",
          "state": {
            "_model_module": "@jupyter-widgets/controls",
            "_model_module_version": "1.5.0",
            "_model_name": "DescriptionStyleModel",
            "_view_count": null,
            "_view_module": "@jupyter-widgets/base",
            "_view_module_version": "1.2.0",
            "_view_name": "StyleView",
            "description_width": ""
          }
        },
        "34a850190b534190b1719e0ce7e05344": {
          "model_module": "@jupyter-widgets/base",
          "model_name": "LayoutModel",
          "model_module_version": "1.2.0",
          "state": {
            "_model_module": "@jupyter-widgets/base",
            "_model_module_version": "1.2.0",
            "_model_name": "LayoutModel",
            "_view_count": null,
            "_view_module": "@jupyter-widgets/base",
            "_view_module_version": "1.2.0",
            "_view_name": "LayoutView",
            "align_content": null,
            "align_items": null,
            "align_self": null,
            "border": null,
            "bottom": null,
            "display": null,
            "flex": null,
            "flex_flow": null,
            "grid_area": null,
            "grid_auto_columns": null,
            "grid_auto_flow": null,
            "grid_auto_rows": null,
            "grid_column": null,
            "grid_gap": null,
            "grid_row": null,
            "grid_template_areas": null,
            "grid_template_columns": null,
            "grid_template_rows": null,
            "height": null,
            "justify_content": null,
            "justify_items": null,
            "left": null,
            "margin": null,
            "max_height": null,
            "max_width": null,
            "min_height": null,
            "min_width": null,
            "object_fit": null,
            "object_position": null,
            "order": null,
            "overflow": null,
            "overflow_x": null,
            "overflow_y": null,
            "padding": null,
            "right": null,
            "top": null,
            "visibility": null,
            "width": null
          }
        },
        "13ca4eabfc794e24b25e1e7df5827ab6": {
          "model_module": "@jupyter-widgets/controls",
          "model_name": "ProgressStyleModel",
          "model_module_version": "1.5.0",
          "state": {
            "_model_module": "@jupyter-widgets/controls",
            "_model_module_version": "1.5.0",
            "_model_name": "ProgressStyleModel",
            "_view_count": null,
            "_view_module": "@jupyter-widgets/base",
            "_view_module_version": "1.2.0",
            "_view_name": "StyleView",
            "bar_color": null,
            "description_width": ""
          }
        },
        "1e1a5e28153249fba0f61a803400e662": {
          "model_module": "@jupyter-widgets/base",
          "model_name": "LayoutModel",
          "model_module_version": "1.2.0",
          "state": {
            "_model_module": "@jupyter-widgets/base",
            "_model_module_version": "1.2.0",
            "_model_name": "LayoutModel",
            "_view_count": null,
            "_view_module": "@jupyter-widgets/base",
            "_view_module_version": "1.2.0",
            "_view_name": "LayoutView",
            "align_content": null,
            "align_items": null,
            "align_self": null,
            "border": null,
            "bottom": null,
            "display": null,
            "flex": null,
            "flex_flow": null,
            "grid_area": null,
            "grid_auto_columns": null,
            "grid_auto_flow": null,
            "grid_auto_rows": null,
            "grid_column": null,
            "grid_gap": null,
            "grid_row": null,
            "grid_template_areas": null,
            "grid_template_columns": null,
            "grid_template_rows": null,
            "height": null,
            "justify_content": null,
            "justify_items": null,
            "left": null,
            "margin": null,
            "max_height": null,
            "max_width": null,
            "min_height": null,
            "min_width": null,
            "object_fit": null,
            "object_position": null,
            "order": null,
            "overflow": null,
            "overflow_x": null,
            "overflow_y": null,
            "padding": null,
            "right": null,
            "top": null,
            "visibility": null,
            "width": null
          }
        },
        "6f8ae39149e14d45b3b0be4400ce1c2f": {
          "model_module": "@jupyter-widgets/controls",
          "model_name": "DescriptionStyleModel",
          "model_module_version": "1.5.0",
          "state": {
            "_model_module": "@jupyter-widgets/controls",
            "_model_module_version": "1.5.0",
            "_model_name": "DescriptionStyleModel",
            "_view_count": null,
            "_view_module": "@jupyter-widgets/base",
            "_view_module_version": "1.2.0",
            "_view_name": "StyleView",
            "description_width": ""
          }
        },
        "034533ddc0684dcc933f9b87fa1a8289": {
          "model_module": "@jupyter-widgets/controls",
          "model_name": "HBoxModel",
          "model_module_version": "1.5.0",
          "state": {
            "_dom_classes": [],
            "_model_module": "@jupyter-widgets/controls",
            "_model_module_version": "1.5.0",
            "_model_name": "HBoxModel",
            "_view_count": null,
            "_view_module": "@jupyter-widgets/controls",
            "_view_module_version": "1.5.0",
            "_view_name": "HBoxView",
            "box_style": "",
            "children": [
              "IPY_MODEL_4d34686b6c94402e9e5571d1b247523a",
              "IPY_MODEL_adc28b1dd3914b299c20d38f564d6d30",
              "IPY_MODEL_a51b10d873cb4293b7ec1061b29bb2a6"
            ],
            "layout": "IPY_MODEL_bddbbde72e90449a8b81424d50c198b2"
          }
        },
        "4d34686b6c94402e9e5571d1b247523a": {
          "model_module": "@jupyter-widgets/controls",
          "model_name": "HTMLModel",
          "model_module_version": "1.5.0",
          "state": {
            "_dom_classes": [],
            "_model_module": "@jupyter-widgets/controls",
            "_model_module_version": "1.5.0",
            "_model_name": "HTMLModel",
            "_view_count": null,
            "_view_module": "@jupyter-widgets/controls",
            "_view_module_version": "1.5.0",
            "_view_name": "HTMLView",
            "description": "",
            "description_tooltip": null,
            "layout": "IPY_MODEL_735b06e72e6d4c92b36441768d213219",
            "placeholder": "​",
            "style": "IPY_MODEL_5a7ed61e82fa4c6e8ab0473138dc58d3",
            "value": "100%"
          }
        },
        "adc28b1dd3914b299c20d38f564d6d30": {
          "model_module": "@jupyter-widgets/controls",
          "model_name": "FloatProgressModel",
          "model_module_version": "1.5.0",
          "state": {
            "_dom_classes": [],
            "_model_module": "@jupyter-widgets/controls",
            "_model_module_version": "1.5.0",
            "_model_name": "FloatProgressModel",
            "_view_count": null,
            "_view_module": "@jupyter-widgets/controls",
            "_view_module_version": "1.5.0",
            "_view_name": "ProgressView",
            "bar_style": "success",
            "description": "",
            "description_tooltip": null,
            "layout": "IPY_MODEL_12c9e849b92a47109d7033063b817a28",
            "max": 55,
            "min": 0,
            "orientation": "horizontal",
            "style": "IPY_MODEL_8b0e85423ebc4b58b69c7f85b9ef185d",
            "value": 55
          }
        },
        "a51b10d873cb4293b7ec1061b29bb2a6": {
          "model_module": "@jupyter-widgets/controls",
          "model_name": "HTMLModel",
          "model_module_version": "1.5.0",
          "state": {
            "_dom_classes": [],
            "_model_module": "@jupyter-widgets/controls",
            "_model_module_version": "1.5.0",
            "_model_name": "HTMLModel",
            "_view_count": null,
            "_view_module": "@jupyter-widgets/controls",
            "_view_module_version": "1.5.0",
            "_view_name": "HTMLView",
            "description": "",
            "description_tooltip": null,
            "layout": "IPY_MODEL_4aee464982214fbf8147a00f68f08ecb",
            "placeholder": "​",
            "style": "IPY_MODEL_b838a88df1344567ab567b4c12dba6b0",
            "value": " 55/55 [13:58&lt;00:00,  1.91s/it]"
          }
        },
        "bddbbde72e90449a8b81424d50c198b2": {
          "model_module": "@jupyter-widgets/base",
          "model_name": "LayoutModel",
          "model_module_version": "1.2.0",
          "state": {
            "_model_module": "@jupyter-widgets/base",
            "_model_module_version": "1.2.0",
            "_model_name": "LayoutModel",
            "_view_count": null,
            "_view_module": "@jupyter-widgets/base",
            "_view_module_version": "1.2.0",
            "_view_name": "LayoutView",
            "align_content": null,
            "align_items": null,
            "align_self": null,
            "border": null,
            "bottom": null,
            "display": null,
            "flex": null,
            "flex_flow": null,
            "grid_area": null,
            "grid_auto_columns": null,
            "grid_auto_flow": null,
            "grid_auto_rows": null,
            "grid_column": null,
            "grid_gap": null,
            "grid_row": null,
            "grid_template_areas": null,
            "grid_template_columns": null,
            "grid_template_rows": null,
            "height": null,
            "justify_content": null,
            "justify_items": null,
            "left": null,
            "margin": null,
            "max_height": null,
            "max_width": null,
            "min_height": null,
            "min_width": null,
            "object_fit": null,
            "object_position": null,
            "order": null,
            "overflow": null,
            "overflow_x": null,
            "overflow_y": null,
            "padding": null,
            "right": null,
            "top": null,
            "visibility": null,
            "width": null
          }
        },
        "735b06e72e6d4c92b36441768d213219": {
          "model_module": "@jupyter-widgets/base",
          "model_name": "LayoutModel",
          "model_module_version": "1.2.0",
          "state": {
            "_model_module": "@jupyter-widgets/base",
            "_model_module_version": "1.2.0",
            "_model_name": "LayoutModel",
            "_view_count": null,
            "_view_module": "@jupyter-widgets/base",
            "_view_module_version": "1.2.0",
            "_view_name": "LayoutView",
            "align_content": null,
            "align_items": null,
            "align_self": null,
            "border": null,
            "bottom": null,
            "display": null,
            "flex": null,
            "flex_flow": null,
            "grid_area": null,
            "grid_auto_columns": null,
            "grid_auto_flow": null,
            "grid_auto_rows": null,
            "grid_column": null,
            "grid_gap": null,
            "grid_row": null,
            "grid_template_areas": null,
            "grid_template_columns": null,
            "grid_template_rows": null,
            "height": null,
            "justify_content": null,
            "justify_items": null,
            "left": null,
            "margin": null,
            "max_height": null,
            "max_width": null,
            "min_height": null,
            "min_width": null,
            "object_fit": null,
            "object_position": null,
            "order": null,
            "overflow": null,
            "overflow_x": null,
            "overflow_y": null,
            "padding": null,
            "right": null,
            "top": null,
            "visibility": null,
            "width": null
          }
        },
        "5a7ed61e82fa4c6e8ab0473138dc58d3": {
          "model_module": "@jupyter-widgets/controls",
          "model_name": "DescriptionStyleModel",
          "model_module_version": "1.5.0",
          "state": {
            "_model_module": "@jupyter-widgets/controls",
            "_model_module_version": "1.5.0",
            "_model_name": "DescriptionStyleModel",
            "_view_count": null,
            "_view_module": "@jupyter-widgets/base",
            "_view_module_version": "1.2.0",
            "_view_name": "StyleView",
            "description_width": ""
          }
        },
        "12c9e849b92a47109d7033063b817a28": {
          "model_module": "@jupyter-widgets/base",
          "model_name": "LayoutModel",
          "model_module_version": "1.2.0",
          "state": {
            "_model_module": "@jupyter-widgets/base",
            "_model_module_version": "1.2.0",
            "_model_name": "LayoutModel",
            "_view_count": null,
            "_view_module": "@jupyter-widgets/base",
            "_view_module_version": "1.2.0",
            "_view_name": "LayoutView",
            "align_content": null,
            "align_items": null,
            "align_self": null,
            "border": null,
            "bottom": null,
            "display": null,
            "flex": null,
            "flex_flow": null,
            "grid_area": null,
            "grid_auto_columns": null,
            "grid_auto_flow": null,
            "grid_auto_rows": null,
            "grid_column": null,
            "grid_gap": null,
            "grid_row": null,
            "grid_template_areas": null,
            "grid_template_columns": null,
            "grid_template_rows": null,
            "height": null,
            "justify_content": null,
            "justify_items": null,
            "left": null,
            "margin": null,
            "max_height": null,
            "max_width": null,
            "min_height": null,
            "min_width": null,
            "object_fit": null,
            "object_position": null,
            "order": null,
            "overflow": null,
            "overflow_x": null,
            "overflow_y": null,
            "padding": null,
            "right": null,
            "top": null,
            "visibility": null,
            "width": null
          }
        },
        "8b0e85423ebc4b58b69c7f85b9ef185d": {
          "model_module": "@jupyter-widgets/controls",
          "model_name": "ProgressStyleModel",
          "model_module_version": "1.5.0",
          "state": {
            "_model_module": "@jupyter-widgets/controls",
            "_model_module_version": "1.5.0",
            "_model_name": "ProgressStyleModel",
            "_view_count": null,
            "_view_module": "@jupyter-widgets/base",
            "_view_module_version": "1.2.0",
            "_view_name": "StyleView",
            "bar_color": null,
            "description_width": ""
          }
        },
        "4aee464982214fbf8147a00f68f08ecb": {
          "model_module": "@jupyter-widgets/base",
          "model_name": "LayoutModel",
          "model_module_version": "1.2.0",
          "state": {
            "_model_module": "@jupyter-widgets/base",
            "_model_module_version": "1.2.0",
            "_model_name": "LayoutModel",
            "_view_count": null,
            "_view_module": "@jupyter-widgets/base",
            "_view_module_version": "1.2.0",
            "_view_name": "LayoutView",
            "align_content": null,
            "align_items": null,
            "align_self": null,
            "border": null,
            "bottom": null,
            "display": null,
            "flex": null,
            "flex_flow": null,
            "grid_area": null,
            "grid_auto_columns": null,
            "grid_auto_flow": null,
            "grid_auto_rows": null,
            "grid_column": null,
            "grid_gap": null,
            "grid_row": null,
            "grid_template_areas": null,
            "grid_template_columns": null,
            "grid_template_rows": null,
            "height": null,
            "justify_content": null,
            "justify_items": null,
            "left": null,
            "margin": null,
            "max_height": null,
            "max_width": null,
            "min_height": null,
            "min_width": null,
            "object_fit": null,
            "object_position": null,
            "order": null,
            "overflow": null,
            "overflow_x": null,
            "overflow_y": null,
            "padding": null,
            "right": null,
            "top": null,
            "visibility": null,
            "width": null
          }
        },
        "b838a88df1344567ab567b4c12dba6b0": {
          "model_module": "@jupyter-widgets/controls",
          "model_name": "DescriptionStyleModel",
          "model_module_version": "1.5.0",
          "state": {
            "_model_module": "@jupyter-widgets/controls",
            "_model_module_version": "1.5.0",
            "_model_name": "DescriptionStyleModel",
            "_view_count": null,
            "_view_module": "@jupyter-widgets/base",
            "_view_module_version": "1.2.0",
            "_view_name": "StyleView",
            "description_width": ""
          }
        }
      }
    },
    "accelerator": "GPU"
  },
  "nbformat": 4,
  "nbformat_minor": 0
}