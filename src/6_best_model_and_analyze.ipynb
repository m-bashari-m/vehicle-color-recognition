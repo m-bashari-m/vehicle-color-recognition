{
  "nbformat": 4,
  "nbformat_minor": 0,
  "metadata": {
    "colab": {
      "name": "Untitled5.ipynb",
      "provenance": [],
      "collapsed_sections": [],
      "toc_visible": true,
      "authorship_tag": "ABX9TyNyqAGObm4Gpoigdp4jh0F7",
      "include_colab_link": true
    },
    "kernelspec": {
      "name": "python3",
      "display_name": "Python 3"
    },
    "language_info": {
      "name": "python"
    }
  },
  "cells": [
    {
      "cell_type": "markdown",
      "metadata": {
        "id": "view-in-github",
        "colab_type": "text"
      },
      "source": [
        "<a href=\"https://colab.research.google.com/github/m-bashari-m/vehicle-color-recognition/blob/main/src/6_best_model_and_analyze.ipynb\" target=\"_parent\"><img src=\"https://colab.research.google.com/assets/colab-badge.svg\" alt=\"Open In Colab\"/></a>"
      ]
    },
    {
      "cell_type": "code",
      "execution_count": 1,
      "metadata": {
        "colab": {
          "base_uri": "https://localhost:8080/"
        },
        "id": "J8ySLmJdGKM7",
        "outputId": "94f62b40-aa50-4157-9587-899522ef10b4"
      },
      "outputs": [
        {
          "output_type": "stream",
          "name": "stdout",
          "text": [
            "--2022-06-08 16:15:37--  https://raw.githubusercontent.com/m-bashari-m/vehicle-color-recognition/main/src/utils.py\n",
            "Resolving raw.githubusercontent.com (raw.githubusercontent.com)... 185.199.108.133, 185.199.109.133, 185.199.110.133, ...\n",
            "Connecting to raw.githubusercontent.com (raw.githubusercontent.com)|185.199.108.133|:443... connected.\n",
            "HTTP request sent, awaiting response... 200 OK\n",
            "Length: 11766 (11K) [text/plain]\n",
            "Saving to: ‘utils.py’\n",
            "\n",
            "\rutils.py              0%[                    ]       0  --.-KB/s               \rutils.py            100%[===================>]  11.49K  --.-KB/s    in 0s      \n",
            "\n",
            "2022-06-08 16:15:37 (89.7 MB/s) - ‘utils.py’ saved [11766/11766]\n",
            "\n"
          ]
        }
      ],
      "source": [
        "!wget https://raw.githubusercontent.com/m-bashari-m/vehicle-color-recognition/main/src/utils.py"
      ]
    },
    {
      "cell_type": "code",
      "source": [
        "from google.colab import drive\n",
        "drive.mount('./drive')"
      ],
      "metadata": {
        "colab": {
          "base_uri": "https://localhost:8080/"
        },
        "id": "AVK8jwqcGVQG",
        "outputId": "99afcc2b-e4a2-409f-915b-304a5e1206c3"
      },
      "execution_count": 2,
      "outputs": [
        {
          "output_type": "stream",
          "name": "stdout",
          "text": [
            "Mounted at ./drive\n"
          ]
        }
      ]
    },
    {
      "cell_type": "code",
      "source": [
        "import pandas as pd\n",
        "import numpy as np\n",
        "import os\n",
        "\n",
        "import tensorflow as tf\n",
        "from tensorflow import keras\n",
        "\n",
        "from utils import get_train_val_ds, ErrorAnalyzer, get_class_weight\n",
        "from utils import plot_missclassified, get_model"
      ],
      "metadata": {
        "id": "d9pP1eLMGbO4"
      },
      "execution_count": 10,
      "outputs": []
    },
    {
      "cell_type": "code",
      "source": [
        "BATCH_SIZE = 64\n",
        "IMG_SIZE = (256, 256)\n",
        "AUTOTUNE = tf.data.AUTOTUNE\n",
        "N_CLASSES = 16"
      ],
      "metadata": {
        "id": "Yi-DuzmqGkPv"
      },
      "execution_count": 4,
      "outputs": []
    },
    {
      "cell_type": "code",
      "source": [
        "dataset_dir = os.path.join('drive', 'MyDrive', 'cars')\n",
        "train_dir = os.path.join(dataset_dir, 'train')\n",
        "val_dir = os.path.join(dataset_dir, 'val')"
      ],
      "metadata": {
        "id": "curfXRkZGzCD"
      },
      "execution_count": 6,
      "outputs": []
    },
    {
      "cell_type": "code",
      "source": [
        "_, val_ds = get_train_val_ds(train_dir, val_dir, batch_size=BATCH_SIZE, img_size=IMG_SIZE)"
      ],
      "metadata": {
        "colab": {
          "base_uri": "https://localhost:8080/"
        },
        "id": "dKshpdroG3R5",
        "outputId": "933e4003-3a34-4bb0-ce7e-a958f016d076"
      },
      "execution_count": 9,
      "outputs": [
        {
          "output_type": "stream",
          "name": "stdout",
          "text": [
            "Found 17043 files belonging to 16 classes.\n",
            "Found 3495 files belonging to 16 classes.\n"
          ]
        }
      ]
    },
    {
      "cell_type": "code",
      "source": [
        "classes, _ = get_class_weight()"
      ],
      "metadata": {
        "id": "WGBHVpwkIgHF"
      },
      "execution_count": 13,
      "outputs": []
    },
    {
      "cell_type": "markdown",
      "source": [
        "# RGB models"
      ],
      "metadata": {
        "id": "xPzLj8nRHRAk"
      }
    },
    {
      "cell_type": "markdown",
      "source": [
        "## Epoch"
      ],
      "metadata": {
        "id": "EvNNpSNmINjF"
      }
    },
    {
      "cell_type": "markdown",
      "source": [
        "### #25"
      ],
      "metadata": {
        "id": "qvueWCWFIRbA"
      }
    },
    {
      "cell_type": "code",
      "source": [
        "rgb_25 = get_model('rgb-model-25')\n",
        "\n",
        "analyzer_25 = ErrorAnalyzer(model=rgb_25,\n",
        "                         model_name='RGB-25',\n",
        "                         ds=val_ds,\n",
        "                         classes=classes)"
      ],
      "metadata": {
        "id": "4Gbidr9AHx4e"
      },
      "execution_count": null,
      "outputs": []
    },
    {
      "cell_type": "code",
      "source": [
        "analyzer_25.plot_confusion_mat(show_plot=False)\n",
        "analyzer_25.evaluate_model()"
      ],
      "metadata": {
        "id": "-GBwa6OWIqgM"
      },
      "execution_count": null,
      "outputs": []
    },
    {
      "cell_type": "markdown",
      "source": [
        "### #40"
      ],
      "metadata": {
        "id": "L3Gv_pDBJ7Bo"
      }
    },
    {
      "cell_type": "code",
      "source": [
        "rgb_40 = get_model('rgb-model-40')\n",
        "\n",
        "analyzer_40 = ErrorAnalyzer(model=rgb_25,\n",
        "                         model_name='RGB-40',\n",
        "                         ds=val_ds,\n",
        "                         classes=classes)"
      ],
      "metadata": {
        "id": "SeUFtcRKKEH3"
      },
      "execution_count": null,
      "outputs": []
    },
    {
      "cell_type": "code",
      "source": [
        "analyzer_40.plot_confusion_mat(show_plot=False)\n",
        "analyzer_40.evaluate_model()"
      ],
      "metadata": {
        "id": "ruXpp3PfKDqh"
      },
      "execution_count": null,
      "outputs": []
    },
    {
      "cell_type": "markdown",
      "source": [
        "### #50"
      ],
      "metadata": {
        "id": "JaVM9sADKDHw"
      }
    },
    {
      "cell_type": "code",
      "source": [
        "rgb_50 = get_model('rgb-model-50')\n",
        "\n",
        "analyzer_50 = ErrorAnalyzer(model=rgb_25,\n",
        "                         model_name='RGB-50',\n",
        "                         ds=val_ds,\n",
        "                         classes=classes)"
      ],
      "metadata": {
        "id": "tt7HV5trKQUF"
      },
      "execution_count": null,
      "outputs": []
    },
    {
      "cell_type": "code",
      "source": [
        "analyzer_50.plot_confusion_mat(show_plot=False)\n",
        "analyzer_50.evaluate_model()"
      ],
      "metadata": {
        "id": "DUXsjMloKQDY"
      },
      "execution_count": null,
      "outputs": []
    },
    {
      "cell_type": "markdown",
      "source": [
        "### #60"
      ],
      "metadata": {
        "id": "tusPpWEaKcbN"
      }
    },
    {
      "cell_type": "code",
      "source": [
        "rgb_60 = get_model('rgb-model-60')\n",
        "\n",
        "analyzer_60 = ErrorAnalyzer(model=rgb_25,\n",
        "                         model_name='RGB-60',\n",
        "                         ds=val_ds,\n",
        "                         classes=classes)"
      ],
      "metadata": {
        "id": "2fTyIpwTKeKF"
      },
      "execution_count": null,
      "outputs": []
    },
    {
      "cell_type": "code",
      "source": [
        "analyzer_60.plot_confusion_mat(show_plot=False)\n",
        "analyzer_60.evaluate_model()"
      ],
      "metadata": {
        "id": "w9uiDEmfKhP8"
      },
      "execution_count": null,
      "outputs": []
    },
    {
      "cell_type": "markdown",
      "source": [
        "## Best "
      ],
      "metadata": {
        "id": "xK_2uSXyK8oy"
      }
    },
    {
      "cell_type": "code",
      "source": [
        "analyzer_?.plot_confusion_mat()"
      ],
      "metadata": {
        "id": "UwJ-NLZ-LDpF"
      },
      "execution_count": null,
      "outputs": []
    },
    {
      "cell_type": "code",
      "source": [
        "analyzer_?.plot_missclassified(base_class)"
      ],
      "metadata": {
        "id": "KUoljP7gMAVu"
      },
      "execution_count": null,
      "outputs": []
    },
    {
      "cell_type": "markdown",
      "source": [
        "# XYZ model"
      ],
      "metadata": {
        "id": "Ju9sF9fHHUe-"
      }
    },
    {
      "cell_type": "markdown",
      "source": [
        "# HSV models"
      ],
      "metadata": {
        "id": "KNs9eimBHU_W"
      }
    },
    {
      "cell_type": "markdown",
      "source": [
        "# RGB-XYZ  models"
      ],
      "metadata": {
        "id": "C4BxqA3rHaMc"
      }
    }
  ]
}