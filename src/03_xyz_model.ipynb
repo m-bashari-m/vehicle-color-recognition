{
  "cells": [
    {
      "cell_type": "markdown",
      "metadata": {
        "id": "view-in-github",
        "colab_type": "text"
      },
      "source": [
        "<a href=\"https://colab.research.google.com/github/m-bashari-m/vehicle-color-recognition/blob/main/src/03_xyz_model.ipynb\" target=\"_parent\"><img src=\"https://colab.research.google.com/assets/colab-badge.svg\" alt=\"Open In Colab\"/></a>"
      ]
    },
    {
      "cell_type": "code",
      "execution_count": 1,
      "metadata": {
        "colab": {
          "base_uri": "https://localhost:8080/"
        },
        "id": "FaoIT7KdsydD",
        "outputId": "c5d1575d-3af0-4f68-ef88-7c87f74ecfac"
      },
      "outputs": [
        {
          "output_type": "stream",
          "name": "stdout",
          "text": [
            "--2022-06-25 08:37:55--  https://raw.githubusercontent.com/m-bashari-m/vehicle-color-recognition/main/src/utils.py\n",
            "Resolving raw.githubusercontent.com (raw.githubusercontent.com)... 185.199.108.133, 185.199.109.133, 185.199.110.133, ...\n",
            "Connecting to raw.githubusercontent.com (raw.githubusercontent.com)|185.199.108.133|:443... connected.\n",
            "HTTP request sent, awaiting response... 200 OK\n",
            "Length: 12099 (12K) [text/plain]\n",
            "Saving to: ‘utils.py’\n",
            "\n",
            "\rutils.py              0%[                    ]       0  --.-KB/s               \rutils.py            100%[===================>]  11.82K  --.-KB/s    in 0s      \n",
            "\n",
            "2022-06-25 08:37:55 (90.7 MB/s) - ‘utils.py’ saved [12099/12099]\n",
            "\n"
          ]
        }
      ],
      "source": [
        "!wget https://raw.githubusercontent.com/m-bashari-m/vehicle-color-recognition/main/src/utils.py"
      ]
    },
    {
      "cell_type": "code",
      "execution_count": 2,
      "metadata": {
        "colab": {
          "base_uri": "https://localhost:8080/"
        },
        "id": "HytB7-lTs7g5",
        "outputId": "df5bcbf8-1bb0-415e-a3c1-319ddd05a3e5"
      },
      "outputs": [
        {
          "output_type": "stream",
          "name": "stdout",
          "text": [
            "Mounted at ./drive\n"
          ]
        }
      ],
      "source": [
        "from google.colab import drive\n",
        "drive.mount('./drive')"
      ]
    },
    {
      "cell_type": "code",
      "execution_count": 1,
      "metadata": {
        "id": "dQvl_Em4s8Oi"
      },
      "outputs": [],
      "source": [
        "import pandas as pd\n",
        "import numpy as np\n",
        "import os\n",
        "\n",
        "import tensorflow as tf\n",
        "from tensorflow import keras\n",
        "import tensorflow_hub as hub\n",
        "\n",
        "!pip install -q tensorflow-io\n",
        "import tensorflow_io as tfio\n",
        "\n",
        "from utils import ModelCreator, get_train_val_ds, get_class_weight"
      ]
    },
    {
      "cell_type": "code",
      "execution_count": 2,
      "metadata": {
        "id": "S5qkZw4Ns8Z7"
      },
      "outputs": [],
      "source": [
        "BATCH_SIZE = 32\n",
        "IMG_SIZE = (256, 256)\n",
        "AUTOTUNE = tf.data.AUTOTUNE\n",
        "N_CLASSES = 16\n",
        "HUB_URL = 'https://tfhub.dev/google/imagenet/efficientnet_v2_imagenet21k_ft1k_b3/feature_vector/2'"
      ]
    },
    {
      "cell_type": "code",
      "execution_count": 3,
      "metadata": {
        "id": "J8g_1jhQtDFq"
      },
      "outputs": [],
      "source": [
        "dataset_dir = os.path.join('drive', 'MyDrive', 'cars')\n",
        "train_dir = os.path.join(dataset_dir, 'train')\n",
        "val_dir = os.path.join(dataset_dir, 'val')"
      ]
    },
    {
      "cell_type": "code",
      "execution_count": 4,
      "metadata": {
        "colab": {
          "base_uri": "https://localhost:8080/"
        },
        "id": "ZDdC4GywtEQh",
        "outputId": "f08d1545-1d14-4fdd-85cd-0dc33c31947a"
      },
      "outputs": [
        {
          "output_type": "stream",
          "name": "stdout",
          "text": [
            "Found 17043 files belonging to 16 classes.\n",
            "Found 3495 files belonging to 16 classes.\n"
          ]
        }
      ],
      "source": [
        "train_ds, val_ds = get_train_val_ds(train_dir, val_dir, batch_size=BATCH_SIZE, img_size=IMG_SIZE)"
      ]
    },
    {
      "cell_type": "code",
      "execution_count": 5,
      "metadata": {
        "id": "VfXJuXaItHeC"
      },
      "outputs": [],
      "source": [
        "classes, class_weight = get_class_weight()"
      ]
    },
    {
      "cell_type": "code",
      "execution_count": 6,
      "metadata": {
        "id": "YUizq5ZwtHqM"
      },
      "outputs": [],
      "source": [
        "train_ds = (\n",
        "    train_ds.\n",
        "    map(lambda img, lbl: (img/255., lbl), num_parallel_calls=AUTOTUNE).\n",
        "    map(lambda img, lbl: (tfio.experimental.color.rgb_to_xyz(img), lbl), num_parallel_calls=AUTOTUNE).\n",
        "    prefetch(AUTOTUNE))\n",
        "\n",
        "val_ds = (\n",
        "    val_ds.\n",
        "    map(lambda img, lbl: (img/255., lbl), num_parallel_calls=AUTOTUNE).\n",
        "    map(lambda img, lbl: (tfio.experimental.color.rgb_to_xyz(img), lbl), num_parallel_calls=AUTOTUNE).\n",
        "    prefetch(AUTOTUNE))"
      ]
    },
    {
      "cell_type": "code",
      "execution_count": 7,
      "metadata": {
        "id": "SOzs81ywtH3h",
        "outputId": "f8c6e813-d138-4c1d-9755-08f914f1a77f",
        "colab": {
          "base_uri": "https://localhost:8080/"
        }
      },
      "outputs": [
        {
          "output_type": "stream",
          "name": "stdout",
          "text": [
            "Model: \"XYZ-model\"\n",
            "_________________________________________________________________\n",
            " Layer (type)                Output Shape              Param #   \n",
            "=================================================================\n",
            " keras_layer (KerasLayer)    (None, 1536)              12930622  \n",
            "                                                                 \n",
            " dense (Dense)               (None, 16)                24592     \n",
            "                                                                 \n",
            "=================================================================\n",
            "Total params: 12,955,214\n",
            "Trainable params: 12,845,998\n",
            "Non-trainable params: 109,216\n",
            "_________________________________________________________________\n"
          ]
        }
      ],
      "source": [
        "xyz_creator = ModelCreator(HUB_URL, 'XYZ-model')\n",
        "xyz_model = xyz_creator.make_model(img_size=IMG_SIZE)"
      ]
    },
    {
      "cell_type": "code",
      "source": [
        "callbacks = xyz_creator.get_callbacks()"
      ],
      "metadata": {
        "id": "rHnL7xHEoQLX"
      },
      "execution_count": 8,
      "outputs": []
    },
    {
      "cell_type": "code",
      "execution_count": 9,
      "metadata": {
        "colab": {
          "base_uri": "https://localhost:8080/"
        },
        "id": "81hWi4y1utc0",
        "outputId": "6838a621-d2f7-4628-c49d-00068142fae8"
      },
      "outputs": [
        {
          "output_type": "stream",
          "name": "stdout",
          "text": [
            "Epoch 1/15\n",
            "533/533 [==============================] - 1706s 3s/step - loss: 17.8534 - auc: 0.7334 - accuracy: 0.6543 - val_loss: 1.1138 - val_auc: 0.7104 - val_accuracy: 0.5957\n",
            "Epoch 2/15\n",
            "533/533 [==============================] - 259s 483ms/step - loss: 10.3508 - auc: 0.8794 - accuracy: 0.7938 - val_loss: 0.7962 - val_auc: 0.8333 - val_accuracy: 0.7597\n",
            "Epoch 3/15\n",
            "533/533 [==============================] - 258s 482ms/step - loss: 7.9526 - auc: 0.9151 - accuracy: 0.8361 - val_loss: 0.7981 - val_auc: 0.8421 - val_accuracy: 0.7668\n",
            "Epoch 4/15\n",
            "533/533 [==============================] - 266s 496ms/step - loss: 6.0219 - auc: 0.9402 - accuracy: 0.8721 - val_loss: 1.0013 - val_auc: 0.7940 - val_accuracy: 0.7439\n",
            "Epoch 5/15\n",
            "533/533 [==============================] - 257s 480ms/step - loss: 4.5287 - auc: 0.9605 - accuracy: 0.9010 - val_loss: 0.8910 - val_auc: 0.8208 - val_accuracy: 0.7459\n",
            "Epoch 6/15\n",
            "533/533 [==============================] - 256s 477ms/step - loss: 3.2181 - auc: 0.9738 - accuracy: 0.9221 - val_loss: 1.0185 - val_auc: 0.7834 - val_accuracy: 0.7605\n",
            "Epoch 7/15\n",
            "533/533 [==============================] - 259s 482ms/step - loss: 2.7758 - auc: 0.9821 - accuracy: 0.9398 - val_loss: 1.2276 - val_auc: 0.7773 - val_accuracy: 0.7454\n",
            "Epoch 8/15\n",
            "533/533 [==============================] - 267s 498ms/step - loss: 2.5935 - auc: 0.9806 - accuracy: 0.9346 - val_loss: 0.8670 - val_auc: 0.8550 - val_accuracy: 0.8046\n",
            "Epoch 9/15\n",
            "533/533 [==============================] - 260s 486ms/step - loss: 1.4202 - auc: 0.9914 - accuracy: 0.9640 - val_loss: 0.9170 - val_auc: 0.8511 - val_accuracy: 0.8155\n",
            "Epoch 10/15\n",
            "533/533 [==============================] - 262s 488ms/step - loss: 1.0232 - auc: 0.9953 - accuracy: 0.9742 - val_loss: 1.1061 - val_auc: 0.8335 - val_accuracy: 0.8029\n",
            "Epoch 11/15\n",
            "533/533 [==============================] - 262s 489ms/step - loss: 0.9459 - auc: 0.9947 - accuracy: 0.9771 - val_loss: 1.1237 - val_auc: 0.8171 - val_accuracy: 0.7877\n",
            "Epoch 12/15\n",
            "533/533 [==============================] - 271s 505ms/step - loss: 0.6997 - auc: 0.9965 - accuracy: 0.9819 - val_loss: 1.1671 - val_auc: 0.8298 - val_accuracy: 0.8123\n",
            "Epoch 13/15\n",
            "533/533 [==============================] - 263s 491ms/step - loss: 0.6534 - auc: 0.9972 - accuracy: 0.9856 - val_loss: 1.0107 - val_auc: 0.8423 - val_accuracy: 0.8089\n",
            "Epoch 13: early stopping\n"
          ]
        }
      ],
      "source": [
        "history = xyz_model.fit(train_ds,\n",
        "                        callbacks=callbacks,\n",
        "                        epochs=15,\n",
        "                        class_weight=class_weight,\n",
        "                        validation_data=val_ds)"
      ]
    },
    {
      "cell_type": "code",
      "source": [
        "!cp ./logs/checkpoints/XYZ-model.h5 ./drive/MyDrive/checkpoints/xyz-model-final.h5"
      ],
      "metadata": {
        "id": "PFe-o2Oo6kFQ"
      },
      "execution_count": 10,
      "outputs": []
    }
  ],
  "metadata": {
    "colab": {
      "name": "xyz_model.ipynb",
      "provenance": [],
      "include_colab_link": true
    },
    "kernelspec": {
      "display_name": "Python 3",
      "name": "python3"
    },
    "language_info": {
      "name": "python"
    },
    "accelerator": "GPU",
    "gpuClass": "standard"
  },
  "nbformat": 4,
  "nbformat_minor": 0
}