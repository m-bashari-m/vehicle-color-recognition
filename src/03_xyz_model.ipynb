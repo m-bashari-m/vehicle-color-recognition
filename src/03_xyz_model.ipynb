{
  "cells": [
    {
      "cell_type": "markdown",
      "metadata": {
        "id": "view-in-github",
        "colab_type": "text"
      },
      "source": [
        "<a href=\"https://colab.research.google.com/github/m-bashari-m/vehicle-color-recognition/blob/main/src/03_xyz_model.ipynb\" target=\"_parent\"><img src=\"https://colab.research.google.com/assets/colab-badge.svg\" alt=\"Open In Colab\"/></a>"
      ]
    },
    {
      "cell_type": "code",
      "execution_count": 1,
      "metadata": {
        "colab": {
          "base_uri": "https://localhost:8080/"
        },
        "id": "FaoIT7KdsydD",
        "outputId": "ad88a3ad-3151-4c94-fb62-70d3c8e71dd9"
      },
      "outputs": [
        {
          "output_type": "stream",
          "name": "stdout",
          "text": [
            "--2022-07-21 15:35:00--  https://raw.githubusercontent.com/m-bashari-m/vehicle-color-recognition/main/src/utils.py\n",
            "Resolving raw.githubusercontent.com (raw.githubusercontent.com)... 185.199.108.133, 185.199.109.133, 185.199.110.133, ...\n",
            "Connecting to raw.githubusercontent.com (raw.githubusercontent.com)|185.199.108.133|:443... connected.\n",
            "HTTP request sent, awaiting response... 200 OK\n",
            "Length: 11848 (12K) [text/plain]\n",
            "Saving to: ‘utils.py’\n",
            "\n",
            "\rutils.py              0%[                    ]       0  --.-KB/s               \rutils.py            100%[===================>]  11.57K  --.-KB/s    in 0s      \n",
            "\n",
            "2022-07-21 15:35:01 (111 MB/s) - ‘utils.py’ saved [11848/11848]\n",
            "\n"
          ]
        }
      ],
      "source": [
        "!wget https://raw.githubusercontent.com/m-bashari-m/vehicle-color-recognition/main/src/utils.py"
      ]
    },
    {
      "cell_type": "code",
      "execution_count": 2,
      "metadata": {
        "colab": {
          "base_uri": "https://localhost:8080/"
        },
        "id": "HytB7-lTs7g5",
        "outputId": "ca7a4702-780d-47eb-9f91-3a8408d44cc5"
      },
      "outputs": [
        {
          "output_type": "stream",
          "name": "stdout",
          "text": [
            "Mounted at ./drive\n"
          ]
        }
      ],
      "source": [
        "from google.colab import drive\n",
        "drive.mount('./drive')"
      ]
    },
    {
      "cell_type": "code",
      "execution_count": 3,
      "metadata": {
        "id": "dQvl_Em4s8Oi",
        "outputId": "bea26b66-db9b-48ce-e2a6-46cb99f4daba",
        "colab": {
          "base_uri": "https://localhost:8080/"
        }
      },
      "outputs": [
        {
          "output_type": "stream",
          "name": "stdout",
          "text": [
            "\u001b[K     |████████████████████████████████| 25.9 MB 1.4 MB/s \n",
            "\u001b[?25h"
          ]
        }
      ],
      "source": [
        "import pandas as pd\n",
        "import numpy as np\n",
        "import os\n",
        "\n",
        "import tensorflow as tf\n",
        "from tensorflow import keras\n",
        "import tensorflow_hub as hub\n",
        "\n",
        "!pip install -q tensorflow-io\n",
        "import tensorflow_io as tfio\n",
        "\n",
        "from utils import ModelCreator, get_train_val_ds, get_class_weight"
      ]
    },
    {
      "cell_type": "code",
      "execution_count": 4,
      "metadata": {
        "id": "S5qkZw4Ns8Z7"
      },
      "outputs": [],
      "source": [
        "BATCH_SIZE = 32\n",
        "IMG_SIZE = (256, 256)\n",
        "AUTOTUNE = tf.data.AUTOTUNE\n",
        "N_CLASSES = 16\n",
        "HUB_URL = 'https://tfhub.dev/google/imagenet/efficientnet_v2_imagenet21k_ft1k_b3/feature_vector/2'"
      ]
    },
    {
      "cell_type": "code",
      "execution_count": 5,
      "metadata": {
        "id": "J8g_1jhQtDFq"
      },
      "outputs": [],
      "source": [
        "dataset_dir = os.path.join('drive', 'MyDrive', 'data')\n",
        "train_dir = os.path.join(dataset_dir, 'train')\n",
        "val_dir = os.path.join(dataset_dir, 'val')"
      ]
    },
    {
      "cell_type": "code",
      "execution_count": 6,
      "metadata": {
        "colab": {
          "base_uri": "https://localhost:8080/"
        },
        "id": "ZDdC4GywtEQh",
        "outputId": "f660f1f6-20bc-4cab-bf35-4e44157fb503"
      },
      "outputs": [
        {
          "output_type": "stream",
          "name": "stdout",
          "text": [
            "Found 20092 files belonging to 16 classes.\n",
            "Found 3495 files belonging to 16 classes.\n"
          ]
        }
      ],
      "source": [
        "train_ds, val_ds = get_train_val_ds(train_dir, val_dir, batch_size=BATCH_SIZE, img_size=IMG_SIZE)"
      ]
    },
    {
      "cell_type": "code",
      "execution_count": 7,
      "metadata": {
        "id": "VfXJuXaItHeC"
      },
      "outputs": [],
      "source": [
        "classes, class_weight = get_class_weight()"
      ]
    },
    {
      "cell_type": "code",
      "execution_count": 8,
      "metadata": {
        "id": "YUizq5ZwtHqM"
      },
      "outputs": [],
      "source": [
        "train_ds = (\n",
        "    train_ds.\n",
        "    map(lambda img, lbl: (img/255., lbl), num_parallel_calls=AUTOTUNE).\n",
        "    map(lambda img, lbl: (tfio.experimental.color.rgb_to_xyz(img), lbl), num_parallel_calls=AUTOTUNE).\n",
        "    prefetch(AUTOTUNE))\n",
        "\n",
        "val_ds = (\n",
        "    val_ds.\n",
        "    map(lambda img, lbl: (img/255., lbl), num_parallel_calls=AUTOTUNE).\n",
        "    map(lambda img, lbl: (tfio.experimental.color.rgb_to_xyz(img), lbl), num_parallel_calls=AUTOTUNE).\n",
        "    prefetch(AUTOTUNE))"
      ]
    },
    {
      "cell_type": "code",
      "execution_count": 9,
      "metadata": {
        "id": "SOzs81ywtH3h",
        "outputId": "3fefe3c3-060a-43df-95d2-554a49139938",
        "colab": {
          "base_uri": "https://localhost:8080/"
        }
      },
      "outputs": [
        {
          "output_type": "stream",
          "name": "stdout",
          "text": [
            "Model: \"XYZ-model\"\n",
            "_________________________________________________________________\n",
            " Layer (type)                Output Shape              Param #   \n",
            "=================================================================\n",
            " keras_layer (KerasLayer)    (None, 1536)              12930622  \n",
            "                                                                 \n",
            " dense (Dense)               (None, 16)                24592     \n",
            "                                                                 \n",
            "=================================================================\n",
            "Total params: 12,955,214\n",
            "Trainable params: 12,845,998\n",
            "Non-trainable params: 109,216\n",
            "_________________________________________________________________\n"
          ]
        }
      ],
      "source": [
        "xyz_creator = ModelCreator(HUB_URL, 'XYZ-model')\n",
        "xyz_model = xyz_creator.make_model(img_size=IMG_SIZE)"
      ]
    },
    {
      "cell_type": "code",
      "source": [
        "callbacks = xyz_creator.get_callbacks()"
      ],
      "metadata": {
        "id": "rHnL7xHEoQLX"
      },
      "execution_count": 10,
      "outputs": []
    },
    {
      "cell_type": "code",
      "execution_count": 11,
      "metadata": {
        "colab": {
          "base_uri": "https://localhost:8080/"
        },
        "id": "81hWi4y1utc0",
        "outputId": "a3cd72b1-069b-4ea9-e1f9-19e67dbd7662"
      },
      "outputs": [
        {
          "output_type": "stream",
          "name": "stdout",
          "text": [
            "Epoch 1/15\n",
            "628/628 [==============================] - 3314s 5s/step - loss: 12.9164 - auc: 0.8271 - accuracy: 0.7393 - val_loss: 0.7705 - val_auc: 0.8378 - val_accuracy: 0.7502\n",
            "Epoch 2/15\n",
            "628/628 [==============================] - 308s 488ms/step - loss: 7.3325 - auc: 0.9251 - accuracy: 0.8468 - val_loss: 0.7362 - val_auc: 0.8626 - val_accuracy: 0.7871\n",
            "Epoch 3/15\n",
            "628/628 [==============================] - 300s 475ms/step - loss: 5.5115 - auc: 0.9505 - accuracy: 0.8825 - val_loss: 0.8049 - val_auc: 0.8497 - val_accuracy: 0.7728\n",
            "Epoch 4/15\n",
            "628/628 [==============================] - 300s 475ms/step - loss: 3.9943 - auc: 0.9708 - accuracy: 0.9152 - val_loss: 0.7470 - val_auc: 0.8664 - val_accuracy: 0.7969\n",
            "Epoch 5/15\n",
            "628/628 [==============================] - 302s 477ms/step - loss: 2.9560 - auc: 0.9813 - accuracy: 0.9355 - val_loss: 0.7381 - val_auc: 0.8810 - val_accuracy: 0.8126\n",
            "Epoch 6/15\n",
            "628/628 [==============================] - 301s 476ms/step - loss: 2.0470 - auc: 0.9892 - accuracy: 0.9534 - val_loss: 0.8675 - val_auc: 0.8702 - val_accuracy: 0.8197\n",
            "Epoch 7/15\n",
            "628/628 [==============================] - 310s 492ms/step - loss: 1.6891 - auc: 0.9910 - accuracy: 0.9614 - val_loss: 0.7659 - val_auc: 0.8822 - val_accuracy: 0.8441\n",
            "Epoch 8/15\n",
            "628/628 [==============================] - 299s 475ms/step - loss: 1.1378 - auc: 0.9953 - accuracy: 0.9746 - val_loss: 1.0866 - val_auc: 0.8379 - val_accuracy: 0.8009\n",
            "Epoch 9/15\n",
            "628/628 [==============================] - 298s 473ms/step - loss: 0.8383 - auc: 0.9964 - accuracy: 0.9804 - val_loss: 1.2814 - val_auc: 0.8089 - val_accuracy: 0.7874\n",
            "Epoch 10/15\n",
            "628/628 [==============================] - 302s 478ms/step - loss: 0.5318 - auc: 0.9980 - accuracy: 0.9880 - val_loss: 0.9718 - val_auc: 0.8571 - val_accuracy: 0.8312\n",
            "Epoch 11/15\n",
            "628/628 [==============================] - 300s 476ms/step - loss: 0.4892 - auc: 0.9978 - accuracy: 0.9898 - val_loss: 1.0443 - val_auc: 0.8564 - val_accuracy: 0.8320\n",
            "Epoch 12/15\n",
            "628/628 [==============================] - 302s 479ms/step - loss: 0.4919 - auc: 0.9982 - accuracy: 0.9899 - val_loss: 1.1798 - val_auc: 0.8375 - val_accuracy: 0.8195\n",
            "Epoch 13/15\n",
            "628/628 [==============================] - 300s 475ms/step - loss: 0.3557 - auc: 0.9989 - accuracy: 0.9923 - val_loss: 1.2554 - val_auc: 0.8291 - val_accuracy: 0.8175\n",
            "Epoch 14/15\n",
            "628/628 [==============================] - 300s 475ms/step - loss: 0.2634 - auc: 0.9992 - accuracy: 0.9944 - val_loss: 1.2420 - val_auc: 0.8248 - val_accuracy: 0.8166\n",
            "Epoch 15/15\n",
            "628/628 [==============================] - 300s 476ms/step - loss: 0.1896 - auc: 0.9994 - accuracy: 0.9955 - val_loss: 1.1366 - val_auc: 0.8403 - val_accuracy: 0.8340\n",
            "Epoch 15: early stopping\n"
          ]
        }
      ],
      "source": [
        "history = xyz_model.fit(train_ds,\n",
        "                        callbacks=callbacks,\n",
        "                        epochs=15,\n",
        "                        class_weight=class_weight,\n",
        "                        validation_data=val_ds)"
      ]
    },
    {
      "cell_type": "code",
      "source": [
        "!cp ./logs/checkpoints/XYZ-model.h5 ./drive/MyDrive/checkpoints/xyz-model-aug.h5"
      ],
      "metadata": {
        "id": "PFe-o2Oo6kFQ"
      },
      "execution_count": 12,
      "outputs": []
    }
  ],
  "metadata": {
    "colab": {
      "name": "xyz_model.ipynb",
      "provenance": [],
      "include_colab_link": true
    },
    "kernelspec": {
      "display_name": "Python 3",
      "name": "python3"
    },
    "language_info": {
      "name": "python"
    },
    "accelerator": "GPU",
    "gpuClass": "standard"
  },
  "nbformat": 4,
  "nbformat_minor": 0
}