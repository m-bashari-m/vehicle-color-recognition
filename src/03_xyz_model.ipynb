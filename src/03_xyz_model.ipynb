{
  "cells": [
    {
      "cell_type": "markdown",
      "metadata": {
        "id": "view-in-github",
        "colab_type": "text"
      },
      "source": [
        "<a href=\"https://colab.research.google.com/github/m-bashari-m/vehicle-color-recognition/blob/main/src/03_xyz_model.ipynb\" target=\"_parent\"><img src=\"https://colab.research.google.com/assets/colab-badge.svg\" alt=\"Open In Colab\"/></a>"
      ]
    },
    {
      "cell_type": "code",
      "execution_count": 1,
      "metadata": {
        "colab": {
          "base_uri": "https://localhost:8080/"
        },
        "id": "FaoIT7KdsydD",
        "outputId": "ec22904e-4fbf-4376-afb6-8ccf6a623e26"
      },
      "outputs": [
        {
          "output_type": "stream",
          "name": "stdout",
          "text": [
            "--2022-06-27 01:57:20--  https://raw.githubusercontent.com/m-bashari-m/vehicle-color-recognition/main/src/utils.py\n",
            "Resolving raw.githubusercontent.com (raw.githubusercontent.com)... 185.199.108.133, 185.199.111.133, 185.199.109.133, ...\n",
            "Connecting to raw.githubusercontent.com (raw.githubusercontent.com)|185.199.108.133|:443... connected.\n",
            "HTTP request sent, awaiting response... 200 OK\n",
            "Length: 12110 (12K) [text/plain]\n",
            "Saving to: ‘utils.py’\n",
            "\n",
            "utils.py            100%[===================>]  11.83K  --.-KB/s    in 0s      \n",
            "\n",
            "2022-06-27 01:57:20 (54.1 MB/s) - ‘utils.py’ saved [12110/12110]\n",
            "\n"
          ]
        }
      ],
      "source": [
        "!wget https://raw.githubusercontent.com/m-bashari-m/vehicle-color-recognition/main/src/utils.py"
      ]
    },
    {
      "cell_type": "code",
      "execution_count": 2,
      "metadata": {
        "colab": {
          "base_uri": "https://localhost:8080/"
        },
        "id": "HytB7-lTs7g5",
        "outputId": "c2f260b4-c511-4258-ff80-f6cc3392f36b"
      },
      "outputs": [
        {
          "output_type": "stream",
          "name": "stdout",
          "text": [
            "Mounted at ./drive\n"
          ]
        }
      ],
      "source": [
        "from google.colab import drive\n",
        "drive.mount('./drive')"
      ]
    },
    {
      "cell_type": "code",
      "execution_count": 3,
      "metadata": {
        "id": "dQvl_Em4s8Oi",
        "outputId": "44d4c7c9-f8e7-4579-ec85-3525f8654484",
        "colab": {
          "base_uri": "https://localhost:8080/"
        }
      },
      "outputs": [
        {
          "output_type": "stream",
          "name": "stdout",
          "text": [
            "\u001b[K     |████████████████████████████████| 25.9 MB 1.3 MB/s \n",
            "\u001b[?25h"
          ]
        }
      ],
      "source": [
        "import pandas as pd\n",
        "import numpy as np\n",
        "import os\n",
        "\n",
        "import tensorflow as tf\n",
        "from tensorflow import keras\n",
        "import tensorflow_hub as hub\n",
        "\n",
        "!pip install -q tensorflow-io\n",
        "import tensorflow_io as tfio\n",
        "\n",
        "from utils import ModelCreator, get_train_val_ds, get_class_weight"
      ]
    },
    {
      "cell_type": "code",
      "execution_count": 4,
      "metadata": {
        "id": "S5qkZw4Ns8Z7"
      },
      "outputs": [],
      "source": [
        "BATCH_SIZE = 32\n",
        "IMG_SIZE = (256, 256)\n",
        "AUTOTUNE = tf.data.AUTOTUNE\n",
        "N_CLASSES = 16\n",
        "HUB_URL = 'https://tfhub.dev/google/imagenet/efficientnet_v2_imagenet21k_ft1k_b3/feature_vector/2'"
      ]
    },
    {
      "cell_type": "code",
      "execution_count": 5,
      "metadata": {
        "id": "J8g_1jhQtDFq"
      },
      "outputs": [],
      "source": [
        "dataset_dir = os.path.join('drive', 'MyDrive', 'cars')\n",
        "train_dir = os.path.join(dataset_dir, 'train')\n",
        "val_dir = os.path.join(dataset_dir, 'val')"
      ]
    },
    {
      "cell_type": "code",
      "execution_count": 6,
      "metadata": {
        "colab": {
          "base_uri": "https://localhost:8080/"
        },
        "id": "ZDdC4GywtEQh",
        "outputId": "7e720c7e-e94e-49a6-e381-c58e79d5016a"
      },
      "outputs": [
        {
          "output_type": "stream",
          "name": "stdout",
          "text": [
            "Found 16580 files belonging to 16 classes.\n",
            "Found 3510 files belonging to 16 classes.\n"
          ]
        }
      ],
      "source": [
        "train_ds, val_ds = get_train_val_ds(train_dir, val_dir, batch_size=BATCH_SIZE, img_size=IMG_SIZE)"
      ]
    },
    {
      "cell_type": "code",
      "execution_count": 7,
      "metadata": {
        "id": "VfXJuXaItHeC"
      },
      "outputs": [],
      "source": [
        "classes, class_weight = get_class_weight()"
      ]
    },
    {
      "cell_type": "code",
      "execution_count": 8,
      "metadata": {
        "id": "YUizq5ZwtHqM"
      },
      "outputs": [],
      "source": [
        "train_ds = (\n",
        "    train_ds.\n",
        "    map(lambda img, lbl: (img/255., lbl), num_parallel_calls=AUTOTUNE).\n",
        "    map(lambda img, lbl: (tfio.experimental.color.rgb_to_xyz(img), lbl), num_parallel_calls=AUTOTUNE).\n",
        "    prefetch(AUTOTUNE))\n",
        "\n",
        "val_ds = (\n",
        "    val_ds.\n",
        "    map(lambda img, lbl: (img/255., lbl), num_parallel_calls=AUTOTUNE).\n",
        "    map(lambda img, lbl: (tfio.experimental.color.rgb_to_xyz(img), lbl), num_parallel_calls=AUTOTUNE).\n",
        "    prefetch(AUTOTUNE))"
      ]
    },
    {
      "cell_type": "code",
      "execution_count": 9,
      "metadata": {
        "id": "SOzs81ywtH3h",
        "outputId": "9056fc98-dca6-4c3b-ab9b-f0cd53bc8188",
        "colab": {
          "base_uri": "https://localhost:8080/"
        }
      },
      "outputs": [
        {
          "output_type": "stream",
          "name": "stdout",
          "text": [
            "Model: \"XYZ-model\"\n",
            "_________________________________________________________________\n",
            " Layer (type)                Output Shape              Param #   \n",
            "=================================================================\n",
            " keras_layer (KerasLayer)    (None, 1536)              12930622  \n",
            "                                                                 \n",
            " dense (Dense)               (None, 16)                24592     \n",
            "                                                                 \n",
            "=================================================================\n",
            "Total params: 12,955,214\n",
            "Trainable params: 12,845,998\n",
            "Non-trainable params: 109,216\n",
            "_________________________________________________________________\n"
          ]
        }
      ],
      "source": [
        "xyz_creator = ModelCreator(HUB_URL, 'XYZ-model')\n",
        "xyz_model = xyz_creator.make_model(img_size=IMG_SIZE)"
      ]
    },
    {
      "cell_type": "code",
      "source": [
        "callbacks = xyz_creator.get_callbacks()"
      ],
      "metadata": {
        "id": "rHnL7xHEoQLX"
      },
      "execution_count": 10,
      "outputs": []
    },
    {
      "cell_type": "code",
      "execution_count": 11,
      "metadata": {
        "colab": {
          "base_uri": "https://localhost:8080/"
        },
        "id": "81hWi4y1utc0",
        "outputId": "805b1763-151b-42cc-9ee7-c3d7ba240489"
      },
      "outputs": [
        {
          "output_type": "stream",
          "name": "stdout",
          "text": [
            "Epoch 1/15\n",
            "519/519 [==============================] - 3222s 6s/step - loss: 16.2919 - auc: 0.7512 - accuracy: 0.6674 - val_loss: 0.9552 - val_auc: 0.8143 - val_accuracy: 0.7274\n",
            "Epoch 2/15\n",
            "519/519 [==============================] - 253s 484ms/step - loss: 10.1347 - auc: 0.8770 - accuracy: 0.7920 - val_loss: 0.7196 - val_auc: 0.8677 - val_accuracy: 0.7769\n",
            "Epoch 3/15\n",
            "519/519 [==============================] - 252s 482ms/step - loss: 7.4890 - auc: 0.9193 - accuracy: 0.8387 - val_loss: 1.1594 - val_auc: 0.6972 - val_accuracy: 0.6416\n",
            "Epoch 4/15\n",
            "519/519 [==============================] - 248s 476ms/step - loss: 5.9527 - auc: 0.9381 - accuracy: 0.8644 - val_loss: 0.8191 - val_auc: 0.8572 - val_accuracy: 0.7838\n",
            "Epoch 5/15\n",
            "519/519 [==============================] - 247s 474ms/step - loss: 4.2674 - auc: 0.9626 - accuracy: 0.9040 - val_loss: 1.0428 - val_auc: 0.8202 - val_accuracy: 0.7516\n",
            "Epoch 6/15\n",
            "519/519 [==============================] - 250s 479ms/step - loss: 3.3987 - auc: 0.9709 - accuracy: 0.9169 - val_loss: 0.8405 - val_auc: 0.8562 - val_accuracy: 0.8006\n",
            "Epoch 7/15\n",
            "519/519 [==============================] - 249s 477ms/step - loss: 2.3047 - auc: 0.9848 - accuracy: 0.9450 - val_loss: 1.1178 - val_auc: 0.8053 - val_accuracy: 0.7695\n",
            "Epoch 8/15\n",
            "519/519 [==============================] - 246s 471ms/step - loss: 2.2231 - auc: 0.9815 - accuracy: 0.9413 - val_loss: 1.1058 - val_auc: 0.8391 - val_accuracy: 0.7997\n",
            "Epoch 9/15\n",
            "519/519 [==============================] - 248s 475ms/step - loss: 1.7368 - auc: 0.9883 - accuracy: 0.9544 - val_loss: 1.0220 - val_auc: 0.8449 - val_accuracy: 0.8123\n",
            "Epoch 10/15\n",
            "519/519 [==============================] - 247s 474ms/step - loss: 1.0614 - auc: 0.9943 - accuracy: 0.9727 - val_loss: 0.9996 - val_auc: 0.8478 - val_accuracy: 0.8105\n",
            "Epoch 11/15\n",
            "519/519 [==============================] - 247s 473ms/step - loss: 0.9198 - auc: 0.9957 - accuracy: 0.9762 - val_loss: 1.1438 - val_auc: 0.8235 - val_accuracy: 0.7915\n",
            "Epoch 12/15\n",
            "519/519 [==============================] - 247s 473ms/step - loss: 0.6777 - auc: 0.9967 - accuracy: 0.9820 - val_loss: 1.1781 - val_auc: 0.8153 - val_accuracy: 0.8009\n",
            "Epoch 13/15\n",
            "519/519 [==============================] - 247s 474ms/step - loss: 0.6403 - auc: 0.9977 - accuracy: 0.9852 - val_loss: 1.3468 - val_auc: 0.8062 - val_accuracy: 0.7949\n",
            "Epoch 14/15\n",
            "519/519 [==============================] - 251s 480ms/step - loss: 0.4190 - auc: 0.9980 - accuracy: 0.9890 - val_loss: 1.3508 - val_auc: 0.8095 - val_accuracy: 0.7929\n",
            "Epoch 15/15\n",
            "519/519 [==============================] - 265s 506ms/step - loss: 0.5258 - auc: 0.9978 - accuracy: 0.9864 - val_loss: 1.1196 - val_auc: 0.8460 - val_accuracy: 0.8219\n"
          ]
        }
      ],
      "source": [
        "history = xyz_model.fit(train_ds,\n",
        "                        callbacks=callbacks,\n",
        "                        epochs=15,\n",
        "                        class_weight=class_weight,\n",
        "                        validation_data=val_ds)"
      ]
    },
    {
      "cell_type": "code",
      "source": [
        "history = xyz_model.fit(train_ds,\n",
        "                          callbacks=callbacks,\n",
        "                          epochs=20,\n",
        "                          initial_epoch=15,\n",
        "                          validation_data=val_ds,\n",
        "                          class_weight=class_weight)"
      ],
      "metadata": {
        "id": "w-p0D6bzR0Ne",
        "outputId": "a61b53cc-9d5b-406b-8741-e16a6ae5f9c5",
        "colab": {
          "base_uri": "https://localhost:8080/"
        }
      },
      "execution_count": 12,
      "outputs": [
        {
          "output_type": "stream",
          "name": "stdout",
          "text": [
            "Epoch 16/20\n",
            "519/519 [==============================] - 248s 475ms/step - loss: 0.2958 - auc: 0.9989 - accuracy: 0.9915 - val_loss: 1.2497 - val_auc: 0.8363 - val_accuracy: 0.8214\n",
            "Epoch 17/20\n",
            "519/519 [==============================] - 245s 470ms/step - loss: 0.3538 - auc: 0.9984 - accuracy: 0.9909 - val_loss: 1.2278 - val_auc: 0.8346 - val_accuracy: 0.8199\n",
            "Epoch 18/20\n",
            "519/519 [==============================] - 247s 473ms/step - loss: 0.2496 - auc: 0.9987 - accuracy: 0.9942 - val_loss: 1.2720 - val_auc: 0.8324 - val_accuracy: 0.8157\n",
            "Epoch 19/20\n",
            "519/519 [==============================] - 248s 475ms/step - loss: 0.1701 - auc: 0.9992 - accuracy: 0.9955 - val_loss: 1.2600 - val_auc: 0.8380 - val_accuracy: 0.8248\n",
            "Epoch 20/20\n",
            "519/519 [==============================] - 252s 483ms/step - loss: 0.2340 - auc: 0.9987 - accuracy: 0.9932 - val_loss: 1.1638 - val_auc: 0.8420 - val_accuracy: 0.8254\n"
          ]
        }
      ]
    },
    {
      "cell_type": "code",
      "source": [
        "!cp ./logs/checkpoints/XYZ-model.h5 ./drive/MyDrive/checkpoints/xyz-model.h5"
      ],
      "metadata": {
        "id": "PFe-o2Oo6kFQ"
      },
      "execution_count": 13,
      "outputs": []
    }
  ],
  "metadata": {
    "colab": {
      "name": "xyz_model.ipynb",
      "provenance": [],
      "include_colab_link": true
    },
    "kernelspec": {
      "display_name": "Python 3",
      "name": "python3"
    },
    "language_info": {
      "name": "python"
    },
    "accelerator": "GPU",
    "gpuClass": "standard"
  },
  "nbformat": 4,
  "nbformat_minor": 0
}