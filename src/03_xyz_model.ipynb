{
  "cells": [
    {
      "cell_type": "markdown",
      "metadata": {
        "id": "view-in-github",
        "colab_type": "text"
      },
      "source": [
        "<a href=\"https://colab.research.google.com/github/m-bashari-m/vehicle-color-recognition/blob/main/src/03_xyz_model.ipynb\" target=\"_parent\"><img src=\"https://colab.research.google.com/assets/colab-badge.svg\" alt=\"Open In Colab\"/></a>"
      ]
    },
    {
      "cell_type": "code",
      "execution_count": 1,
      "metadata": {
        "colab": {
          "base_uri": "https://localhost:8080/"
        },
        "id": "FaoIT7KdsydD",
        "outputId": "ed936bb3-c6ce-4955-beb9-7597b41c9e56"
      },
      "outputs": [
        {
          "output_type": "stream",
          "name": "stdout",
          "text": [
            "--2022-06-18 13:18:33--  https://raw.githubusercontent.com/m-bashari-m/vehicle-color-recognition/main/src/utils.py\n",
            "Resolving raw.githubusercontent.com (raw.githubusercontent.com)... 185.199.108.133, 185.199.110.133, 185.199.109.133, ...\n",
            "Connecting to raw.githubusercontent.com (raw.githubusercontent.com)|185.199.108.133|:443... connected.\n",
            "HTTP request sent, awaiting response... 200 OK\n",
            "Length: 11745 (11K) [text/plain]\n",
            "Saving to: ‘utils.py’\n",
            "\n",
            "utils.py            100%[===================>]  11.47K  --.-KB/s    in 0s      \n",
            "\n",
            "2022-06-18 13:18:33 (84.9 MB/s) - ‘utils.py’ saved [11745/11745]\n",
            "\n"
          ]
        }
      ],
      "source": [
        "!wget https://raw.githubusercontent.com/m-bashari-m/vehicle-color-recognition/main/src/utils.py"
      ]
    },
    {
      "cell_type": "code",
      "execution_count": 2,
      "metadata": {
        "colab": {
          "base_uri": "https://localhost:8080/"
        },
        "id": "HytB7-lTs7g5",
        "outputId": "75dd0183-73b4-401b-e388-86e610dd2347"
      },
      "outputs": [
        {
          "output_type": "stream",
          "name": "stdout",
          "text": [
            "Mounted at ./drive\n"
          ]
        }
      ],
      "source": [
        "from google.colab import drive\n",
        "drive.mount('./drive')"
      ]
    },
    {
      "cell_type": "code",
      "execution_count": 3,
      "metadata": {
        "id": "dQvl_Em4s8Oi",
        "outputId": "70caf5c3-e8a7-47cd-8765-e8ea39467cba",
        "colab": {
          "base_uri": "https://localhost:8080/"
        }
      },
      "outputs": [
        {
          "output_type": "stream",
          "name": "stdout",
          "text": [
            "\u001b[K     |████████████████████████████████| 25.9 MB 1.3 MB/s \n",
            "\u001b[?25h"
          ]
        }
      ],
      "source": [
        "import pandas as pd\n",
        "import numpy as np\n",
        "import os\n",
        "\n",
        "import tensorflow as tf\n",
        "from tensorflow import keras\n",
        "import tensorflow_hub as hub\n",
        "\n",
        "!pip install -q tensorflow-io\n",
        "import tensorflow_io as tfio\n",
        "\n",
        "from utils import ModelCreator, get_train_val_ds, get_class_weight"
      ]
    },
    {
      "cell_type": "code",
      "execution_count": 4,
      "metadata": {
        "id": "S5qkZw4Ns8Z7"
      },
      "outputs": [],
      "source": [
        "BATCH_SIZE = 32\n",
        "IMG_SIZE = (256, 256)\n",
        "AUTOTUNE = tf.data.AUTOTUNE\n",
        "N_CLASSES = 16\n",
        "HUB_URL = 'https://tfhub.dev/google/bit/m-r50x1/1'"
      ]
    },
    {
      "cell_type": "code",
      "execution_count": 5,
      "metadata": {
        "id": "J8g_1jhQtDFq"
      },
      "outputs": [],
      "source": [
        "dataset_dir = os.path.join('drive', 'MyDrive', 'cars')\n",
        "train_dir = os.path.join(dataset_dir, 'train')\n",
        "val_dir = os.path.join(dataset_dir, 'val')"
      ]
    },
    {
      "cell_type": "code",
      "execution_count": 6,
      "metadata": {
        "colab": {
          "base_uri": "https://localhost:8080/"
        },
        "id": "ZDdC4GywtEQh",
        "outputId": "8aa09089-34a2-4313-95cf-81d768ff8c18"
      },
      "outputs": [
        {
          "output_type": "stream",
          "name": "stdout",
          "text": [
            "Found 16580 files belonging to 16 classes.\n",
            "Found 3510 files belonging to 16 classes.\n"
          ]
        }
      ],
      "source": [
        "train_ds, _ = get_train_val_ds(train_dir, val_dir, batch_size=BATCH_SIZE, img_size=IMG_SIZE)"
      ]
    },
    {
      "cell_type": "code",
      "execution_count": 7,
      "metadata": {
        "id": "VfXJuXaItHeC"
      },
      "outputs": [],
      "source": [
        "classes, class_weight = get_class_weight()"
      ]
    },
    {
      "cell_type": "code",
      "execution_count": 8,
      "metadata": {
        "id": "YUizq5ZwtHqM"
      },
      "outputs": [],
      "source": [
        "train_ds = (\n",
        "    train_ds.\n",
        "    map(lambda img, lbl: (img/255., lbl), num_parallel_calls=AUTOTUNE).\n",
        "    map(lambda img, lbl: (tfio.experimental.color.rgb_to_xyz(img), lbl), num_parallel_calls=AUTOTUNE).\n",
        "    prefetch(AUTOTUNE))"
      ]
    },
    {
      "cell_type": "code",
      "execution_count": 9,
      "metadata": {
        "id": "SOzs81ywtH3h",
        "outputId": "961155ef-22f8-4794-9e95-14395e236ed4",
        "colab": {
          "base_uri": "https://localhost:8080/"
        }
      },
      "outputs": [
        {
          "output_type": "stream",
          "name": "stdout",
          "text": [
            "Model: \"XYZ-model\"\n",
            "_________________________________________________________________\n",
            " Layer (type)                Output Shape              Param #   \n",
            "=================================================================\n",
            " keras_layer (KerasLayer)    (None, 2048)              23500352  \n",
            "                                                                 \n",
            " dense (Dense)               (None, 16)                32784     \n",
            "                                                                 \n",
            "=================================================================\n",
            "Total params: 23,533,136\n",
            "Trainable params: 32,784\n",
            "Non-trainable params: 23,500,352\n",
            "_________________________________________________________________\n"
          ]
        }
      ],
      "source": [
        "xyz_creator = ModelCreator(HUB_URL, 'XYZ-model')\n",
        "xyz_model = xyz_creator.make_model(img_size=IMG_SIZE)"
      ]
    },
    {
      "cell_type": "code",
      "source": [
        "callbacks = xyz_creator.get_callbacks()"
      ],
      "metadata": {
        "id": "rHnL7xHEoQLX"
      },
      "execution_count": 10,
      "outputs": []
    },
    {
      "cell_type": "code",
      "execution_count": 11,
      "metadata": {
        "colab": {
          "base_uri": "https://localhost:8080/"
        },
        "id": "81hWi4y1utc0",
        "outputId": "c55967d1-6c93-4df5-f6eb-d226e96a2dfd"
      },
      "outputs": [
        {
          "output_type": "stream",
          "name": "stdout",
          "text": [
            "Epoch 1/20\n",
            "519/519 [==============================] - 2819s 5s/step - loss: 115.9474 - auc: 0.4855 - accuracy: 0.5753\n",
            "Epoch 2/20\n",
            "519/519 [==============================] - 182s 348ms/step - loss: 79.3776 - auc: 0.6174 - accuracy: 0.7002\n",
            "Epoch 3/20\n",
            "519/519 [==============================] - 180s 344ms/step - loss: 71.2091 - auc: 0.6462 - accuracy: 0.7256\n",
            "Epoch 4/20\n",
            "519/519 [==============================] - 176s 337ms/step - loss: 53.2773 - auc: 0.6991 - accuracy: 0.7657\n",
            "Epoch 5/20\n",
            "519/519 [==============================] - 179s 343ms/step - loss: 45.1622 - auc: 0.7359 - accuracy: 0.7920\n",
            "Epoch 6/20\n",
            "519/519 [==============================] - 183s 351ms/step - loss: 37.4085 - auc: 0.7586 - accuracy: 0.8054\n",
            "Epoch 7/20\n",
            "519/519 [==============================] - 178s 341ms/step - loss: 35.5113 - auc: 0.7786 - accuracy: 0.8194\n",
            "Epoch 8/20\n",
            "519/519 [==============================] - 179s 343ms/step - loss: 29.7567 - auc: 0.7969 - accuracy: 0.8326\n",
            "Epoch 9/20\n",
            "519/519 [==============================] - 177s 339ms/step - loss: 24.7168 - auc: 0.8276 - accuracy: 0.8507\n",
            "Epoch 10/20\n",
            "519/519 [==============================] - 180s 344ms/step - loss: 20.2410 - auc: 0.8358 - accuracy: 0.8563\n",
            "Epoch 11/20\n",
            "519/519 [==============================] - 181s 347ms/step - loss: 19.7964 - auc: 0.8438 - accuracy: 0.8637\n",
            "Epoch 12/20\n",
            "519/519 [==============================] - 180s 344ms/step - loss: 14.4570 - auc: 0.8754 - accuracy: 0.8806\n",
            "Epoch 13/20\n",
            "519/519 [==============================] - 180s 345ms/step - loss: 12.3931 - auc: 0.8907 - accuracy: 0.8902\n",
            "Epoch 14/20\n",
            "519/519 [==============================] - 181s 346ms/step - loss: 11.0853 - auc: 0.8949 - accuracy: 0.8954\n",
            "Epoch 15/20\n",
            "519/519 [==============================] - 180s 344ms/step - loss: 9.9823 - auc: 0.8994 - accuracy: 0.8998\n",
            "Epoch 16/20\n",
            "519/519 [==============================] - 179s 342ms/step - loss: 7.0292 - auc: 0.9291 - accuracy: 0.9220\n",
            "Epoch 17/20\n",
            "519/519 [==============================] - 185s 354ms/step - loss: 6.6409 - auc: 0.9343 - accuracy: 0.9220\n",
            "Epoch 18/20\n",
            "519/519 [==============================] - 177s 338ms/step - loss: 5.1457 - auc: 0.9448 - accuracy: 0.9317\n",
            "Epoch 19/20\n",
            "519/519 [==============================] - 179s 342ms/step - loss: 4.9976 - auc: 0.9460 - accuracy: 0.9311\n",
            "Epoch 20/20\n",
            "519/519 [==============================] - 180s 344ms/step - loss: 4.0894 - auc: 0.9564 - accuracy: 0.9397\n"
          ]
        }
      ],
      "source": [
        "history = xyz_model.fit(train_ds,\n",
        "                        callbacks=callbacks,\n",
        "                        epochs=20,\n",
        "                        class_weight=class_weight)"
      ]
    },
    {
      "cell_type": "code",
      "source": [
        "!cp ./logs/checkpoints/XYZ-model-10.h5 ./drive/MyDrive/checkpoints/xyz-model-10.h5\n",
        "!cp ./logs/checkpoints/XYZ-model-15.h5 ./drive/MyDrive/checkpoints/xyz-model-15.h5\n",
        "!cp ./logs/checkpoints/XYZ-model-20.h5 ./drive/MyDrive/checkpoints/xyz-model-20.h5"
      ],
      "metadata": {
        "id": "PFe-o2Oo6kFQ"
      },
      "execution_count": 12,
      "outputs": []
    },
    {
      "cell_type": "code",
      "source": [
        "history = xyz_model.fit(train_ds,\n",
        "                        callbacks=callbacks,\n",
        "                        epochs=30,\n",
        "                        initial_epoch=20,\n",
        "                        class_weight=class_weight)"
      ],
      "metadata": {
        "id": "6FWY5oaxDOBY",
        "outputId": "bf5098df-f3e1-4bf8-c14c-7590e3afe7f1",
        "colab": {
          "base_uri": "https://localhost:8080/"
        }
      },
      "execution_count": 13,
      "outputs": [
        {
          "output_type": "stream",
          "name": "stdout",
          "text": [
            "Epoch 21/30\n",
            "519/519 [==============================] - 179s 339ms/step - loss: 3.6200 - auc: 0.9587 - accuracy: 0.9388\n",
            "Epoch 22/30\n",
            "519/519 [==============================] - 180s 344ms/step - loss: 3.2040 - auc: 0.9687 - accuracy: 0.9495\n",
            "Epoch 23/30\n",
            "519/519 [==============================] - 178s 340ms/step - loss: 3.0689 - auc: 0.9666 - accuracy: 0.9493\n",
            "Epoch 24/30\n",
            "519/519 [==============================] - 180s 344ms/step - loss: 2.4269 - auc: 0.9754 - accuracy: 0.9572\n",
            "Epoch 25/30\n",
            "519/519 [==============================] - 183s 349ms/step - loss: 2.1273 - auc: 0.9786 - accuracy: 0.9602\n",
            "Epoch 26/30\n",
            "519/519 [==============================] - 196s 374ms/step - loss: 1.9823 - auc: 0.9801 - accuracy: 0.9608\n",
            "Epoch 27/30\n",
            "519/519 [==============================] - 178s 340ms/step - loss: 1.7686 - auc: 0.9837 - accuracy: 0.9660\n",
            "Epoch 28/30\n",
            "519/519 [==============================] - 177s 338ms/step - loss: 1.6524 - auc: 0.9842 - accuracy: 0.9668\n",
            "Epoch 29/30\n",
            "519/519 [==============================] - 177s 339ms/step - loss: 1.5499 - auc: 0.9847 - accuracy: 0.9682\n",
            "Epoch 30/30\n",
            "519/519 [==============================] - 177s 338ms/step - loss: 1.2286 - auc: 0.9878 - accuracy: 0.9722\n"
          ]
        }
      ]
    },
    {
      "cell_type": "code",
      "source": [
        "!cp ./logs/checkpoints/XYZ-model-25.h5 ./drive/MyDrive/checkpoints/xyz-model-25.h5\n",
        "!cp ./logs/checkpoints/XYZ-model-30.h5 ./drive/MyDrive/checkpoints/xyz-model-30.h5"
      ],
      "metadata": {
        "id": "XALqoHM2DhWo"
      },
      "execution_count": 14,
      "outputs": []
    },
    {
      "cell_type": "code",
      "source": [
        "history = xyz_model.fit(train_ds,\n",
        "                        callbacks=callbacks,\n",
        "                        epochs=35,\n",
        "                        initial_epoch=30,\n",
        "                        class_weight=class_weight)"
      ],
      "metadata": {
        "id": "V9BPivAcdLw9",
        "outputId": "5bedfd44-2d07-4a51-cc56-2bc23ce13633",
        "colab": {
          "base_uri": "https://localhost:8080/"
        }
      },
      "execution_count": 15,
      "outputs": [
        {
          "output_type": "stream",
          "name": "stdout",
          "text": [
            "Epoch 31/35\n",
            "519/519 [==============================] - 179s 343ms/step - loss: 1.1576 - auc: 0.9896 - accuracy: 0.9742\n",
            "Epoch 32/35\n",
            "519/519 [==============================] - 178s 340ms/step - loss: 1.0805 - auc: 0.9905 - accuracy: 0.9754\n",
            "Epoch 33/35\n",
            "519/519 [==============================] - 177s 337ms/step - loss: 1.0385 - auc: 0.9907 - accuracy: 0.9768\n",
            "Epoch 34/35\n",
            "519/519 [==============================] - 179s 343ms/step - loss: 0.9734 - auc: 0.9920 - accuracy: 0.9790\n",
            "Epoch 35/35\n",
            "519/519 [==============================] - 177s 338ms/step - loss: 0.8809 - auc: 0.9931 - accuracy: 0.9804\n"
          ]
        }
      ]
    },
    {
      "cell_type": "code",
      "source": [
        "!cp ./logs/checkpoints/XYZ-model-35.h5 ./drive/MyDrive/checkpoints/xyz-model-35.h5"
      ],
      "metadata": {
        "id": "XhGJiZF4l4Ut"
      },
      "execution_count": 16,
      "outputs": []
    }
  ],
  "metadata": {
    "colab": {
      "name": "xyz_model.ipynb",
      "provenance": [],
      "include_colab_link": true
    },
    "kernelspec": {
      "display_name": "Python 3",
      "name": "python3"
    },
    "language_info": {
      "name": "python"
    },
    "accelerator": "GPU",
    "gpuClass": "standard"
  },
  "nbformat": 4,
  "nbformat_minor": 0
}