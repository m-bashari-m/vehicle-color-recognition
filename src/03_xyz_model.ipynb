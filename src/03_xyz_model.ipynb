{
  "cells": [
    {
      "cell_type": "markdown",
      "metadata": {
        "id": "view-in-github",
        "colab_type": "text"
      },
      "source": [
        "<a href=\"https://colab.research.google.com/github/m-bashari-m/vehicle-color-recognition/blob/main/src/3_xyz_model.ipynb\" target=\"_parent\"><img src=\"https://colab.research.google.com/assets/colab-badge.svg\" alt=\"Open In Colab\"/></a>"
      ]
    },
    {
      "cell_type": "code",
      "execution_count": 1,
      "metadata": {
        "colab": {
          "base_uri": "https://localhost:8080/"
        },
        "id": "FaoIT7KdsydD",
        "outputId": "4f16c4c6-f4d0-415e-dd65-862596cbae05"
      },
      "outputs": [
        {
          "output_type": "stream",
          "name": "stdout",
          "text": [
            "--2022-06-14 19:11:36--  https://raw.githubusercontent.com/m-bashari-m/vehicle-color-recognition/main/src/utils.py\n",
            "Resolving raw.githubusercontent.com (raw.githubusercontent.com)... 185.199.108.133, 185.199.109.133, 185.199.110.133, ...\n",
            "Connecting to raw.githubusercontent.com (raw.githubusercontent.com)|185.199.108.133|:443... connected.\n",
            "HTTP request sent, awaiting response... 200 OK\n",
            "Length: 11733 (11K) [text/plain]\n",
            "Saving to: ‘utils.py’\n",
            "\n",
            "\rutils.py              0%[                    ]       0  --.-KB/s               \rutils.py            100%[===================>]  11.46K  --.-KB/s    in 0s      \n",
            "\n",
            "2022-06-14 19:11:37 (63.8 MB/s) - ‘utils.py’ saved [11733/11733]\n",
            "\n"
          ]
        }
      ],
      "source": [
        "!wget https://raw.githubusercontent.com/m-bashari-m/vehicle-color-recognition/main/src/utils.py"
      ]
    },
    {
      "cell_type": "code",
      "execution_count": 2,
      "metadata": {
        "colab": {
          "base_uri": "https://localhost:8080/"
        },
        "id": "HytB7-lTs7g5",
        "outputId": "0bfd1fe0-f77a-4ef5-c10e-a3a56605c4a4"
      },
      "outputs": [
        {
          "output_type": "stream",
          "name": "stdout",
          "text": [
            "Mounted at ./drive\n"
          ]
        }
      ],
      "source": [
        "from google.colab import drive\n",
        "drive.mount('./drive')"
      ]
    },
    {
      "cell_type": "code",
      "execution_count": 3,
      "metadata": {
        "id": "dQvl_Em4s8Oi",
        "outputId": "c2f373bb-71fd-4bcb-b978-441d7977b093",
        "colab": {
          "base_uri": "https://localhost:8080/"
        }
      },
      "outputs": [
        {
          "output_type": "stream",
          "name": "stdout",
          "text": [
            "\u001b[K     |████████████████████████████████| 25.9 MB 1.5 MB/s \n",
            "\u001b[?25h"
          ]
        }
      ],
      "source": [
        "import pandas as pd\n",
        "import numpy as np\n",
        "import os\n",
        "\n",
        "import tensorflow as tf\n",
        "from tensorflow import keras\n",
        "import tensorflow_hub as hub\n",
        "\n",
        "!pip install -q tensorflow-io\n",
        "import tensorflow_io as tfio\n",
        "\n",
        "from utils import ModelCreator, get_train_val_ds, get_class_weight"
      ]
    },
    {
      "cell_type": "code",
      "execution_count": 4,
      "metadata": {
        "id": "S5qkZw4Ns8Z7"
      },
      "outputs": [],
      "source": [
        "BATCH_SIZE = 32\n",
        "IMG_SIZE = (256, 256)\n",
        "AUTOTUNE = tf.data.AUTOTUNE\n",
        "N_CLASSES = 16\n",
        "HUB_URL = 'https://tfhub.dev/google/bit/m-r50x1/1'"
      ]
    },
    {
      "cell_type": "code",
      "execution_count": 5,
      "metadata": {
        "id": "J8g_1jhQtDFq"
      },
      "outputs": [],
      "source": [
        "dataset_dir = os.path.join('drive', 'MyDrive', 'cars')\n",
        "train_dir = os.path.join(dataset_dir, 'train')\n",
        "val_dir = os.path.join(dataset_dir, 'val')"
      ]
    },
    {
      "cell_type": "code",
      "execution_count": 6,
      "metadata": {
        "colab": {
          "base_uri": "https://localhost:8080/"
        },
        "id": "ZDdC4GywtEQh",
        "outputId": "37bd9ec6-3578-4e9c-bcfb-6f61b7bc870c"
      },
      "outputs": [
        {
          "output_type": "stream",
          "name": "stdout",
          "text": [
            "Found 16580 files belonging to 16 classes.\n",
            "Found 3508 files belonging to 16 classes.\n"
          ]
        }
      ],
      "source": [
        "train_ds, _ = get_train_val_ds(train_dir, val_dir, batch_size=BATCH_SIZE, img_size=IMG_SIZE)"
      ]
    },
    {
      "cell_type": "code",
      "execution_count": 7,
      "metadata": {
        "id": "VfXJuXaItHeC"
      },
      "outputs": [],
      "source": [
        "classes, class_weight = get_class_weight()"
      ]
    },
    {
      "cell_type": "code",
      "execution_count": 8,
      "metadata": {
        "id": "YUizq5ZwtHqM"
      },
      "outputs": [],
      "source": [
        "train_ds = (\n",
        "    train_ds.\n",
        "    map(lambda img, lbl: (img/255., lbl), num_parallel_calls=AUTOTUNE).\n",
        "    map(lambda img, lbl: (tfio.experimental.color.rgb_to_xyz(img), lbl), num_parallel_calls=AUTOTUNE).\n",
        "    prefetch(AUTOTUNE))"
      ]
    },
    {
      "cell_type": "code",
      "execution_count": 9,
      "metadata": {
        "id": "SOzs81ywtH3h",
        "outputId": "15f7fec9-5fda-4e62-9e7f-70f87e700c54",
        "colab": {
          "base_uri": "https://localhost:8080/"
        }
      },
      "outputs": [
        {
          "output_type": "stream",
          "name": "stdout",
          "text": [
            "Model: \"XYZ-model\"\n",
            "_________________________________________________________________\n",
            " Layer (type)                Output Shape              Param #   \n",
            "=================================================================\n",
            " keras_layer (KerasLayer)    (None, 2048)              23500352  \n",
            "                                                                 \n",
            " dense (Dense)               (None, 16)                32784     \n",
            "                                                                 \n",
            "=================================================================\n",
            "Total params: 23,533,136\n",
            "Trainable params: 32,784\n",
            "Non-trainable params: 23,500,352\n",
            "_________________________________________________________________\n"
          ]
        }
      ],
      "source": [
        "xyz_creator = ModelCreator(HUB_URL, 'XYZ-model')\n",
        "xyz_model = xyz_creator.make_model(img_size=IMG_SIZE)"
      ]
    },
    {
      "cell_type": "code",
      "source": [
        "callbacks = xyz_creator.get_callbacks()"
      ],
      "metadata": {
        "id": "rHnL7xHEoQLX"
      },
      "execution_count": 10,
      "outputs": []
    },
    {
      "cell_type": "code",
      "execution_count": 11,
      "metadata": {
        "colab": {
          "base_uri": "https://localhost:8080/"
        },
        "id": "81hWi4y1utc0",
        "outputId": "5199a17a-4d42-46ef-ad9d-93780bf8d363"
      },
      "outputs": [
        {
          "output_type": "stream",
          "name": "stdout",
          "text": [
            "Epoch 1/25\n",
            "519/519 [==============================] - 2249s 4s/step - loss: 149.8451 - auc: 0.5486 - accuracy: 0.6311\n",
            "Epoch 2/25\n",
            "519/519 [==============================] - 183s 349ms/step - loss: 88.8327 - auc: 0.6507 - accuracy: 0.7224\n",
            "Epoch 3/25\n",
            "519/519 [==============================] - 187s 357ms/step - loss: 79.8329 - auc: 0.6778 - accuracy: 0.7495\n",
            "Epoch 4/25\n",
            "519/519 [==============================] - 184s 352ms/step - loss: 67.0500 - auc: 0.7218 - accuracy: 0.7811\n",
            "Epoch 5/25\n",
            "519/519 [==============================] - 181s 346ms/step - loss: 53.5126 - auc: 0.7498 - accuracy: 0.7984\n",
            "Epoch 6/25\n",
            "519/519 [==============================] - 184s 352ms/step - loss: 48.4253 - auc: 0.7664 - accuracy: 0.8119\n",
            "Epoch 7/25\n",
            "519/519 [==============================] - 180s 344ms/step - loss: 40.3471 - auc: 0.7937 - accuracy: 0.8296\n",
            "Epoch 8/25\n",
            "519/519 [==============================] - 184s 352ms/step - loss: 34.6213 - auc: 0.8127 - accuracy: 0.8429\n",
            "Epoch 9/25\n",
            "519/519 [==============================] - 186s 356ms/step - loss: 29.3529 - auc: 0.8363 - accuracy: 0.8559\n",
            "Epoch 10/25\n",
            "519/519 [==============================] - 181s 346ms/step - loss: 25.3820 - auc: 0.8491 - accuracy: 0.8650\n",
            "Epoch 11/25\n",
            "519/519 [==============================] - 184s 352ms/step - loss: 27.2552 - auc: 0.8467 - accuracy: 0.8654\n",
            "Epoch 12/25\n",
            "519/519 [==============================] - 181s 346ms/step - loss: 19.7462 - auc: 0.8769 - accuracy: 0.8856\n",
            "Epoch 13/25\n",
            "519/519 [==============================] - 182s 347ms/step - loss: 15.6889 - auc: 0.8952 - accuracy: 0.8963\n",
            "Epoch 14/25\n",
            "519/519 [==============================] - 200s 382ms/step - loss: 14.5602 - auc: 0.9015 - accuracy: 0.9013\n",
            "Epoch 15/25\n",
            "519/519 [==============================] - 182s 349ms/step - loss: 13.1383 - auc: 0.9141 - accuracy: 0.9098\n",
            "Epoch 16/25\n",
            "519/519 [==============================] - 181s 346ms/step - loss: 10.2200 - auc: 0.9221 - accuracy: 0.9182\n",
            "Epoch 17/25\n",
            "519/519 [==============================] - 181s 345ms/step - loss: 9.1550 - auc: 0.9351 - accuracy: 0.9230\n",
            "Epoch 18/25\n",
            "519/519 [==============================] - 185s 353ms/step - loss: 8.7914 - auc: 0.9369 - accuracy: 0.9255\n",
            "Epoch 19/25\n",
            "519/519 [==============================] - 184s 352ms/step - loss: 6.4281 - auc: 0.9488 - accuracy: 0.9364\n",
            "Epoch 20/25\n",
            "519/519 [==============================] - 180s 344ms/step - loss: 5.9356 - auc: 0.9566 - accuracy: 0.9387\n",
            "Epoch 21/25\n",
            "519/519 [==============================] - 179s 342ms/step - loss: 4.8623 - auc: 0.9647 - accuracy: 0.9466\n",
            "Epoch 22/25\n",
            "519/519 [==============================] - 180s 343ms/step - loss: 4.4943 - auc: 0.9667 - accuracy: 0.9483\n",
            "Epoch 23/25\n",
            "519/519 [==============================] - 180s 345ms/step - loss: 4.6396 - auc: 0.9677 - accuracy: 0.9469\n",
            "Epoch 24/25\n",
            "519/519 [==============================] - 183s 350ms/step - loss: 3.6237 - auc: 0.9735 - accuracy: 0.9572\n",
            "Epoch 25/25\n",
            "519/519 [==============================] - 183s 349ms/step - loss: 3.0109 - auc: 0.9786 - accuracy: 0.9604\n"
          ]
        }
      ],
      "source": [
        "history = xyz_model.fit(train_ds,\n",
        "                        callbacks=callbacks,\n",
        "                        epochs=25,\n",
        "                        class_weight=class_weight)"
      ]
    },
    {
      "cell_type": "code",
      "source": [
        "!cp ./logs/checkpoints/XYZ-model-10.h5 ./drive/MyDrive/checkpoints/xyz-model-10.h5\n",
        "!cp ./logs/checkpoints/XYZ-model-15.h5 ./drive/MyDrive/checkpoints/xyz-model-15.h5\n",
        "!cp ./logs/checkpoints/XYZ-model-20.h5 ./drive/MyDrive/checkpoints/xyz-model-20.h5\n",
        "!cp ./logs/checkpoints/XYZ-model-25.h5 ./drive/MyDrive/checkpoints/xyz-model-25.h5"
      ],
      "metadata": {
        "id": "PFe-o2Oo6kFQ"
      },
      "execution_count": 12,
      "outputs": []
    },
    {
      "cell_type": "code",
      "source": [
        "history = xyz_model.fit(train_ds,\n",
        "                        callbacks=callbacks,\n",
        "                        epochs=30,\n",
        "                        initial_epoch=25,\n",
        "                        class_weight=class_weight)"
      ],
      "metadata": {
        "id": "6FWY5oaxDOBY",
        "outputId": "d37aa2b4-6074-4cd5-c244-4f43b6c260ed",
        "colab": {
          "base_uri": "https://localhost:8080/"
        }
      },
      "execution_count": 14,
      "outputs": [
        {
          "output_type": "stream",
          "name": "stdout",
          "text": [
            "Epoch 26/30\n",
            "519/519 [==============================] - 187s 355ms/step - loss: 2.8084 - auc: 0.9810 - accuracy: 0.9655\n",
            "Epoch 27/30\n",
            "519/519 [==============================] - 181s 346ms/step - loss: 2.4569 - auc: 0.9837 - accuracy: 0.9669\n",
            "Epoch 28/30\n",
            "519/519 [==============================] - 186s 355ms/step - loss: 2.1919 - auc: 0.9850 - accuracy: 0.9707\n",
            "Epoch 29/30\n",
            "519/519 [==============================] - 184s 352ms/step - loss: 1.9954 - auc: 0.9872 - accuracy: 0.9701\n",
            "Epoch 30/30\n",
            "519/519 [==============================] - 181s 345ms/step - loss: 1.7814 - auc: 0.9888 - accuracy: 0.9728\n"
          ]
        }
      ]
    },
    {
      "cell_type": "code",
      "source": [
        "!cp ./logs/checkpoints/XYZ-model-30.h5 ./drive/MyDrive/checkpoints/xyz-model-30.h5"
      ],
      "metadata": {
        "id": "XALqoHM2DhWo"
      },
      "execution_count": 15,
      "outputs": []
    }
  ],
  "metadata": {
    "colab": {
      "name": "xyz_model.ipynb",
      "provenance": [],
      "include_colab_link": true
    },
    "kernelspec": {
      "display_name": "Python 3",
      "name": "python3"
    },
    "language_info": {
      "name": "python"
    },
    "accelerator": "GPU"
  },
  "nbformat": 4,
  "nbformat_minor": 0
}