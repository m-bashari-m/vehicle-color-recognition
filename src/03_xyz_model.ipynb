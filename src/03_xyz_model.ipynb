{
  "cells": [
    {
      "cell_type": "markdown",
      "metadata": {
        "id": "view-in-github",
        "colab_type": "text"
      },
      "source": [
        "<a href=\"https://colab.research.google.com/github/m-bashari-m/vehicle-color-recognition/blob/main/src/03_xyz_model.ipynb\" target=\"_parent\"><img src=\"https://colab.research.google.com/assets/colab-badge.svg\" alt=\"Open In Colab\"/></a>"
      ]
    },
    {
      "cell_type": "code",
      "execution_count": 1,
      "metadata": {
        "colab": {
          "base_uri": "https://localhost:8080/"
        },
        "id": "FaoIT7KdsydD",
        "outputId": "70a65a76-f248-4c78-cca9-a152836f0385"
      },
      "outputs": [
        {
          "output_type": "stream",
          "name": "stdout",
          "text": [
            "--2022-06-19 20:59:59--  https://raw.githubusercontent.com/m-bashari-m/vehicle-color-recognition/main/src/utils.py\n",
            "Resolving raw.githubusercontent.com (raw.githubusercontent.com)... 185.199.108.133, 185.199.109.133, 185.199.110.133, ...\n",
            "Connecting to raw.githubusercontent.com (raw.githubusercontent.com)|185.199.108.133|:443... connected.\n",
            "HTTP request sent, awaiting response... 200 OK\n",
            "Length: 12074 (12K) [text/plain]\n",
            "Saving to: ‘utils.py’\n",
            "\n",
            "\rutils.py              0%[                    ]       0  --.-KB/s               \rutils.py            100%[===================>]  11.79K  --.-KB/s    in 0s      \n",
            "\n",
            "2022-06-19 20:59:59 (117 MB/s) - ‘utils.py’ saved [12074/12074]\n",
            "\n"
          ]
        }
      ],
      "source": [
        "!wget https://raw.githubusercontent.com/m-bashari-m/vehicle-color-recognition/main/src/utils.py"
      ]
    },
    {
      "cell_type": "code",
      "execution_count": 2,
      "metadata": {
        "colab": {
          "base_uri": "https://localhost:8080/"
        },
        "id": "HytB7-lTs7g5",
        "outputId": "f3e257fc-2483-408e-a500-a84c0ea0746e"
      },
      "outputs": [
        {
          "output_type": "stream",
          "name": "stdout",
          "text": [
            "Mounted at ./drive\n"
          ]
        }
      ],
      "source": [
        "from google.colab import drive\n",
        "drive.mount('./drive')"
      ]
    },
    {
      "cell_type": "code",
      "execution_count": 1,
      "metadata": {
        "id": "dQvl_Em4s8Oi"
      },
      "outputs": [],
      "source": [
        "import pandas as pd\n",
        "import numpy as np\n",
        "import os\n",
        "\n",
        "import tensorflow as tf\n",
        "from tensorflow import keras\n",
        "import tensorflow_hub as hub\n",
        "\n",
        "!pip install -q tensorflow-io\n",
        "import tensorflow_io as tfio\n",
        "\n",
        "from utils import ModelCreator, get_train_val_ds, get_class_weight"
      ]
    },
    {
      "cell_type": "code",
      "execution_count": 2,
      "metadata": {
        "id": "S5qkZw4Ns8Z7"
      },
      "outputs": [],
      "source": [
        "BATCH_SIZE = 32\n",
        "IMG_SIZE = (256, 256)\n",
        "AUTOTUNE = tf.data.AUTOTUNE\n",
        "N_CLASSES = 16\n",
        "HUB_URL = 'https://tfhub.dev/google/bit/m-r50x1/1'"
      ]
    },
    {
      "cell_type": "code",
      "execution_count": 3,
      "metadata": {
        "id": "J8g_1jhQtDFq"
      },
      "outputs": [],
      "source": [
        "dataset_dir = os.path.join('drive', 'MyDrive', 'cars')\n",
        "train_dir = os.path.join(dataset_dir, 'train')\n",
        "val_dir = os.path.join(dataset_dir, 'val')"
      ]
    },
    {
      "cell_type": "code",
      "execution_count": 4,
      "metadata": {
        "colab": {
          "base_uri": "https://localhost:8080/"
        },
        "id": "ZDdC4GywtEQh",
        "outputId": "80190abc-e91b-4028-9219-a90d5dec5c6c"
      },
      "outputs": [
        {
          "output_type": "stream",
          "name": "stdout",
          "text": [
            "Found 16580 files belonging to 16 classes.\n",
            "Found 3510 files belonging to 16 classes.\n"
          ]
        }
      ],
      "source": [
        "train_ds, val_ds = get_train_val_ds(train_dir, val_dir, batch_size=BATCH_SIZE, img_size=IMG_SIZE)"
      ]
    },
    {
      "cell_type": "code",
      "execution_count": 5,
      "metadata": {
        "id": "VfXJuXaItHeC"
      },
      "outputs": [],
      "source": [
        "classes, class_weight = get_class_weight()"
      ]
    },
    {
      "cell_type": "code",
      "execution_count": 6,
      "metadata": {
        "id": "YUizq5ZwtHqM"
      },
      "outputs": [],
      "source": [
        "train_ds = (\n",
        "    train_ds.\n",
        "    map(lambda img, lbl: (img/255., lbl), num_parallel_calls=AUTOTUNE).\n",
        "    map(lambda img, lbl: (tfio.experimental.color.rgb_to_xyz(img), lbl), num_parallel_calls=AUTOTUNE).\n",
        "    prefetch(AUTOTUNE))\n",
        "\n",
        "val_ds = (\n",
        "    val_ds.\n",
        "    map(lambda img, lbl: (img/255., lbl), num_parallel_calls=AUTOTUNE).\n",
        "    map(lambda img, lbl: (tfio.experimental.color.rgb_to_xyz(img), lbl), num_parallel_calls=AUTOTUNE).\n",
        "    prefetch(AUTOTUNE))"
      ]
    },
    {
      "cell_type": "code",
      "execution_count": 7,
      "metadata": {
        "id": "SOzs81ywtH3h",
        "outputId": "c380f073-a1d1-4700-bc88-bfa8dbad906b",
        "colab": {
          "base_uri": "https://localhost:8080/"
        }
      },
      "outputs": [
        {
          "output_type": "stream",
          "name": "stdout",
          "text": [
            "Model: \"XYZ-model\"\n",
            "_________________________________________________________________\n",
            " Layer (type)                Output Shape              Param #   \n",
            "=================================================================\n",
            " keras_layer (KerasLayer)    (None, 2048)              23500352  \n",
            "                                                                 \n",
            " dense (Dense)               (None, 16)                32784     \n",
            "                                                                 \n",
            "=================================================================\n",
            "Total params: 23,533,136\n",
            "Trainable params: 32,784\n",
            "Non-trainable params: 23,500,352\n",
            "_________________________________________________________________\n"
          ]
        }
      ],
      "source": [
        "xyz_creator = ModelCreator(HUB_URL, 'XYZ-model')\n",
        "xyz_model = xyz_creator.make_model(img_size=IMG_SIZE)"
      ]
    },
    {
      "cell_type": "code",
      "source": [
        "callbacks = xyz_creator.get_callbacks()"
      ],
      "metadata": {
        "id": "rHnL7xHEoQLX"
      },
      "execution_count": 8,
      "outputs": []
    },
    {
      "cell_type": "code",
      "source": [
        "xyz_model.layers[0].trainable = True\n",
        "xyz_creator.re_compile(xyz_model, lr=1e-3)"
      ],
      "metadata": {
        "id": "q8Pa78mV5bBM"
      },
      "execution_count": 9,
      "outputs": []
    },
    {
      "cell_type": "code",
      "execution_count": 10,
      "metadata": {
        "colab": {
          "base_uri": "https://localhost:8080/"
        },
        "id": "81hWi4y1utc0",
        "outputId": "1e737bcf-1cd3-4d47-9829-7c2187655623"
      },
      "outputs": [
        {
          "output_type": "stream",
          "name": "stdout",
          "text": [
            "Epoch 1/5\n",
            "519/519 [==============================] - 647s 1s/step - loss: 43.6819 - auc: 0.0992 - accuracy: 0.1245 - val_loss: 2.3662 - val_auc: 0.2898 - val_accuracy: 0.3980\n",
            "Epoch 2/5\n",
            "519/519 [==============================] - 416s 800ms/step - loss: 34.2436 - auc: 0.2298 - accuracy: 0.2380 - val_loss: 2.1564 - val_auc: 0.3088 - val_accuracy: 0.3151\n",
            "Epoch 3/5\n",
            "519/519 [==============================] - 421s 808ms/step - loss: 26.5571 - auc: 0.4196 - accuracy: 0.3909 - val_loss: 1.7387 - val_auc: 0.4589 - val_accuracy: 0.4157\n",
            "Epoch 4/5\n",
            "519/519 [==============================] - 421s 809ms/step - loss: 21.1374 - auc: 0.5844 - accuracy: 0.5197 - val_loss: 1.6311 - val_auc: 0.5204 - val_accuracy: 0.4917\n",
            "Epoch 5/5\n",
            "519/519 [==============================] - 422s 809ms/step - loss: 18.2735 - auc: 0.6727 - accuracy: 0.5957 - val_loss: 1.3664 - val_auc: 0.6487 - val_accuracy: 0.5855\n"
          ]
        }
      ],
      "source": [
        "history = xyz_model.fit(train_ds,\n",
        "                        callbacks=callbacks,\n",
        "                        epochs=5,\n",
        "                        class_weight=class_weight,\n",
        "                        validation_data=val_ds)"
      ]
    },
    {
      "cell_type": "code",
      "source": [
        "!cp ./logs/checkpoints/XYZ-model-05.h5 ./drive/MyDrive/checkpoints/xyz-model-ft-5.h5"
      ],
      "metadata": {
        "id": "PFe-o2Oo6kFQ"
      },
      "execution_count": 11,
      "outputs": []
    },
    {
      "cell_type": "code",
      "source": [
        "history = xyz_model.fit(train_ds,\n",
        "                        callbacks=callbacks,\n",
        "                        epochs=10,\n",
        "                        initial_epoch=5,\n",
        "                        class_weight=class_weight)"
      ],
      "metadata": {
        "id": "6FWY5oaxDOBY",
        "outputId": "bf5098df-f3e1-4bf8-c14c-7590e3afe7f1",
        "colab": {
          "base_uri": "https://localhost:8080/"
        }
      },
      "execution_count": null,
      "outputs": [
        {
          "output_type": "stream",
          "name": "stdout",
          "text": [
            "Epoch 21/30\n",
            "519/519 [==============================] - 179s 339ms/step - loss: 3.6200 - auc: 0.9587 - accuracy: 0.9388\n",
            "Epoch 22/30\n",
            "519/519 [==============================] - 180s 344ms/step - loss: 3.2040 - auc: 0.9687 - accuracy: 0.9495\n",
            "Epoch 23/30\n",
            "519/519 [==============================] - 178s 340ms/step - loss: 3.0689 - auc: 0.9666 - accuracy: 0.9493\n",
            "Epoch 24/30\n",
            "519/519 [==============================] - 180s 344ms/step - loss: 2.4269 - auc: 0.9754 - accuracy: 0.9572\n",
            "Epoch 25/30\n",
            "519/519 [==============================] - 183s 349ms/step - loss: 2.1273 - auc: 0.9786 - accuracy: 0.9602\n",
            "Epoch 26/30\n",
            "519/519 [==============================] - 196s 374ms/step - loss: 1.9823 - auc: 0.9801 - accuracy: 0.9608\n",
            "Epoch 27/30\n",
            "519/519 [==============================] - 178s 340ms/step - loss: 1.7686 - auc: 0.9837 - accuracy: 0.9660\n",
            "Epoch 28/30\n",
            "519/519 [==============================] - 177s 338ms/step - loss: 1.6524 - auc: 0.9842 - accuracy: 0.9668\n",
            "Epoch 29/30\n",
            "519/519 [==============================] - 177s 339ms/step - loss: 1.5499 - auc: 0.9847 - accuracy: 0.9682\n",
            "Epoch 30/30\n",
            "519/519 [==============================] - 177s 338ms/step - loss: 1.2286 - auc: 0.9878 - accuracy: 0.9722\n"
          ]
        }
      ]
    },
    {
      "cell_type": "code",
      "source": [
        "!cp ./logs/checkpoints/XYZ-model-25.h5 ./drive/MyDrive/checkpoints/xyz-model-25.h5\n",
        "!cp ./logs/checkpoints/XYZ-model-30.h5 ./drive/MyDrive/checkpoints/xyz-model-30.h5"
      ],
      "metadata": {
        "id": "XALqoHM2DhWo"
      },
      "execution_count": null,
      "outputs": []
    },
    {
      "cell_type": "code",
      "source": [
        "history = xyz_model.fit(train_ds,\n",
        "                        callbacks=callbacks,\n",
        "                        epochs=35,\n",
        "                        initial_epoch=30,\n",
        "                        class_weight=class_weight)"
      ],
      "metadata": {
        "id": "V9BPivAcdLw9",
        "outputId": "5bedfd44-2d07-4a51-cc56-2bc23ce13633",
        "colab": {
          "base_uri": "https://localhost:8080/"
        }
      },
      "execution_count": null,
      "outputs": [
        {
          "output_type": "stream",
          "name": "stdout",
          "text": [
            "Epoch 31/35\n",
            "519/519 [==============================] - 179s 343ms/step - loss: 1.1576 - auc: 0.9896 - accuracy: 0.9742\n",
            "Epoch 32/35\n",
            "519/519 [==============================] - 178s 340ms/step - loss: 1.0805 - auc: 0.9905 - accuracy: 0.9754\n",
            "Epoch 33/35\n",
            "519/519 [==============================] - 177s 337ms/step - loss: 1.0385 - auc: 0.9907 - accuracy: 0.9768\n",
            "Epoch 34/35\n",
            "519/519 [==============================] - 179s 343ms/step - loss: 0.9734 - auc: 0.9920 - accuracy: 0.9790\n",
            "Epoch 35/35\n",
            "519/519 [==============================] - 177s 338ms/step - loss: 0.8809 - auc: 0.9931 - accuracy: 0.9804\n"
          ]
        }
      ]
    },
    {
      "cell_type": "code",
      "source": [
        "!cp ./logs/checkpoints/XYZ-model-35.h5 ./drive/MyDrive/checkpoints/xyz-model-35.h5"
      ],
      "metadata": {
        "id": "XhGJiZF4l4Ut"
      },
      "execution_count": null,
      "outputs": []
    }
  ],
  "metadata": {
    "colab": {
      "name": "xyz_model.ipynb",
      "provenance": [],
      "include_colab_link": true
    },
    "kernelspec": {
      "display_name": "Python 3",
      "name": "python3"
    },
    "language_info": {
      "name": "python"
    },
    "accelerator": "GPU",
    "gpuClass": "standard"
  },
  "nbformat": 4,
  "nbformat_minor": 0
}