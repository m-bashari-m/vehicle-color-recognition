{
  "cells": [
    {
      "cell_type": "markdown",
      "metadata": {
        "id": "view-in-github",
        "colab_type": "text"
      },
      "source": [
        "<a href=\"https://colab.research.google.com/github/m-bashari-m/vehicle-color-recognition/blob/main/src/5_combined_model_v1.ipynb\" target=\"_parent\"><img src=\"https://colab.research.google.com/assets/colab-badge.svg\" alt=\"Open In Colab\"/></a>"
      ]
    },
    {
      "cell_type": "code",
      "execution_count": 1,
      "metadata": {
        "colab": {
          "base_uri": "https://localhost:8080/"
        },
        "id": "FaoIT7KdsydD",
        "outputId": "7ce5cbb0-2999-4e63-d84c-5a4e19c236a4"
      },
      "outputs": [
        {
          "output_type": "stream",
          "name": "stdout",
          "text": [
            "--2022-06-15 18:15:37--  https://raw.githubusercontent.com/m-bashari-m/vehicle-color-recognition/main/src/utils.py\n",
            "Resolving raw.githubusercontent.com (raw.githubusercontent.com)... 185.199.108.133, 185.199.109.133, 185.199.110.133, ...\n",
            "Connecting to raw.githubusercontent.com (raw.githubusercontent.com)|185.199.108.133|:443... connected.\n",
            "HTTP request sent, awaiting response... 200 OK\n",
            "Length: 11733 (11K) [text/plain]\n",
            "Saving to: ‘utils.py’\n",
            "\n",
            "\rutils.py              0%[                    ]       0  --.-KB/s               \rutils.py            100%[===================>]  11.46K  --.-KB/s    in 0s      \n",
            "\n",
            "2022-06-15 18:15:37 (120 MB/s) - ‘utils.py’ saved [11733/11733]\n",
            "\n"
          ]
        }
      ],
      "source": [
        "!wget https://raw.githubusercontent.com/m-bashari-m/vehicle-color-recognition/main/src/utils.py"
      ]
    },
    {
      "cell_type": "code",
      "execution_count": 3,
      "metadata": {
        "colab": {
          "base_uri": "https://localhost:8080/"
        },
        "id": "HytB7-lTs7g5",
        "outputId": "43108e4c-816a-4e42-882b-e5f097d70bd5"
      },
      "outputs": [
        {
          "output_type": "stream",
          "name": "stdout",
          "text": [
            "Mounted at ./drive\n"
          ]
        }
      ],
      "source": [
        "from google.colab import drive\n",
        "drive.mount('./drive')"
      ]
    },
    {
      "cell_type": "code",
      "execution_count": 4,
      "metadata": {
        "id": "dQvl_Em4s8Oi",
        "outputId": "cd2ebc5d-5b7b-45f6-9248-1bcfc317a35a",
        "colab": {
          "base_uri": "https://localhost:8080/"
        }
      },
      "outputs": [
        {
          "output_type": "stream",
          "name": "stdout",
          "text": [
            "\u001b[K     |████████████████████████████████| 25.9 MB 1.2 MB/s \n",
            "\u001b[?25h"
          ]
        }
      ],
      "source": [
        "import os\n",
        "\n",
        "import tensorflow as tf\n",
        "from tensorflow import keras\n",
        "import tensorflow_hub as hub\n",
        "\n",
        "!pip install -q tensorflow-io\n",
        "import tensorflow_io as tfio\n",
        "\n",
        "from utils import get_train_val_ds, get_class_weight"
      ]
    },
    {
      "cell_type": "code",
      "execution_count": 5,
      "metadata": {
        "id": "S5qkZw4Ns8Z7"
      },
      "outputs": [],
      "source": [
        "BATCH_SIZE = 32\n",
        "IMG_SIZE = (256, 256)\n",
        "AUTOTUNE = tf.data.AUTOTUNE\n",
        "N_CLASSES = 16\n",
        "HUB_URL = 'https://tfhub.dev/google/bit/m-r50x1/1'"
      ]
    },
    {
      "cell_type": "code",
      "execution_count": 6,
      "metadata": {
        "id": "J8g_1jhQtDFq"
      },
      "outputs": [],
      "source": [
        "dataset_dir = os.path.join('drive', 'MyDrive', 'cars')\n",
        "train_dir = os.path.join(dataset_dir, 'train')\n",
        "val_dir = os.path.join(dataset_dir, 'val')"
      ]
    },
    {
      "cell_type": "code",
      "execution_count": 7,
      "metadata": {
        "id": "ZDdC4GywtEQh",
        "outputId": "5d7e91c8-81e5-4e28-b216-cf68e4a3f615",
        "colab": {
          "base_uri": "https://localhost:8080/"
        }
      },
      "outputs": [
        {
          "output_type": "stream",
          "name": "stdout",
          "text": [
            "Found 16580 files belonging to 16 classes.\n",
            "Found 3508 files belonging to 16 classes.\n"
          ]
        }
      ],
      "source": [
        "train_ds, _ = get_train_val_ds(train_dir, val_dir, batch_size=BATCH_SIZE, img_size=IMG_SIZE)"
      ]
    },
    {
      "cell_type": "code",
      "execution_count": 8,
      "metadata": {
        "id": "VfXJuXaItHeC"
      },
      "outputs": [],
      "source": [
        "classes, class_weight = get_class_weight()"
      ]
    },
    {
      "cell_type": "code",
      "execution_count": 9,
      "metadata": {
        "id": "YUizq5ZwtHqM"
      },
      "outputs": [],
      "source": [
        "train_ds = (\n",
        "    train_ds.\n",
        "    map(lambda img, lbl: (img/255., lbl), num_parallel_calls=AUTOTUNE).\n",
        "    prefetch(AUTOTUNE))"
      ]
    },
    {
      "cell_type": "code",
      "source": [
        "target_shape = (32, 64, 1)\n",
        "\n",
        "rgb_input = keras.Input(shape=IMG_SIZE+(3,))\n",
        "hub_module = hub.KerasLayer(HUB_URL)\n",
        "\n",
        "rgb_features = hub_module(rgb_input)\n",
        "rgb_layer = keras.layers.Reshape(target_shape=target_shape)(rgb_features)\n",
        "\n",
        "xyz_input = tfio.experimental.color.rgb_to_xyz(rgb_input)\n",
        "xyz_features = hub_module(xyz_input)\n",
        "xyz_layer = keras.layers.Reshape(target_shape=target_shape)(xyz_features)\n",
        "\n",
        "hsv_input = tf.image.rgb_to_hsv(rgb_input)\n",
        "hsv_features = hub_module(hsv_input)\n",
        "hsv_layer = keras.layers.Reshape(target_shape=target_shape)(hsv_features)\n",
        "\n",
        "block = keras.layers.Concatenate()([rgb_layer, xyz_layer, hsv_layer])\n",
        "\n",
        "conv1 = keras.layers.Conv2D(filters=10,\n",
        "                            kernel_size=(2,2),\n",
        "                            strides=(1,2),\n",
        "                            padding='same',\n",
        "                            activation='relu')(block)\n",
        "\n",
        "conv2 = keras.layers.Conv2D(filters=20,\n",
        "                            kernel_size=(2,2),\n",
        "                            strides=(2,2),\n",
        "                            activation='relu')(conv1)\n",
        "\n",
        "avg_pool = keras.layers.AveragePooling2D(pool_size=(2,2))(conv2)\n",
        "\n",
        "conv3 = keras.layers.Conv2D(filters=20,\n",
        "                            kernel_size=(1,1),\n",
        "                            activation='relu')(avg_pool)\n",
        "\n",
        "flatten = keras.layers.Flatten()(conv3)\n",
        "\n",
        "output = keras.layers.Dense(N_CLASSES, activation='softmax')(flatten)\n",
        "\n",
        "model = keras.models.Model(inputs=[rgb_input], outputs=[output])"
      ],
      "metadata": {
        "id": "EyjtMBoD5lMN"
      },
      "execution_count": 10,
      "outputs": []
    },
    {
      "cell_type": "code",
      "source": [
        "model._name = 'combined-model'"
      ],
      "metadata": {
        "id": "x9Cf6BCzCHdO"
      },
      "execution_count": 11,
      "outputs": []
    },
    {
      "cell_type": "code",
      "source": [
        "metrics = [\n",
        "            keras.metrics.AUC(name='auc', curve='PR', num_thresholds=100),\n",
        "            'accuracy'\n",
        "          ]\n",
        "\n",
        "loss_fn = keras.losses.CategoricalCrossentropy()\n",
        "lr_schedule =tf.keras.optimizers.schedules.ExponentialDecay(1e-2, 533, .9)\n",
        "\n",
        "model.compile(loss=loss_fn,\n",
        "            optimizer=keras.optimizers.Adam(learning_rate=lr_schedule),\n",
        "            metrics=metrics)"
      ],
      "metadata": {
        "id": "ZtVjR1lMAlyA"
      },
      "execution_count": 12,
      "outputs": []
    },
    {
      "cell_type": "code",
      "source": [
        "early_stopping = keras.callbacks.EarlyStopping(\n",
        "                                              monitor='auc', \n",
        "                                              verbose=1,\n",
        "                                              patience=3,\n",
        "                                              restore_best_weights=True,\n",
        "                                              mode='max')\n",
        "\n",
        "check_point_path = os.path.join('./logs/checkpoints', model._name+\"-{epoch:02d}.h5\")\n",
        "check_point = keras.callbacks.ModelCheckpoint(\n",
        "                                            filepath=check_point_path,\n",
        "                                            monitor='auc',\n",
        "                                            save_best_only=True,\n",
        "                                            mode='max')\n",
        "        \n",
        "callbacks = [early_stopping, check_point]"
      ],
      "metadata": {
        "id": "auoSXmr3A4i3"
      },
      "execution_count": 13,
      "outputs": []
    },
    {
      "cell_type": "code",
      "execution_count": 14,
      "metadata": {
        "colab": {
          "base_uri": "https://localhost:8080/"
        },
        "id": "81hWi4y1utc0",
        "outputId": "0fab9288-6580-4dc7-d8f8-6e962f2f89e5"
      },
      "outputs": [
        {
          "output_type": "stream",
          "name": "stdout",
          "text": [
            "Epoch 1/20\n",
            "519/519 [==============================] - 2474s 5s/step - loss: 20.6054 - auc: 0.7934 - accuracy: 0.7113\n",
            "Epoch 2/20\n",
            "519/519 [==============================] - 433s 833ms/step - loss: 12.7492 - auc: 0.8807 - accuracy: 0.7982\n",
            "Epoch 3/20\n",
            "519/519 [==============================] - 434s 834ms/step - loss: 11.0154 - auc: 0.9003 - accuracy: 0.8239\n",
            "Epoch 4/20\n",
            "519/519 [==============================] - 434s 834ms/step - loss: 9.8305 - auc: 0.9148 - accuracy: 0.8359\n",
            "Epoch 5/20\n",
            "519/519 [==============================] - 434s 834ms/step - loss: 9.0306 - auc: 0.9232 - accuracy: 0.8486\n",
            "Epoch 6/20\n",
            "519/519 [==============================] - 434s 834ms/step - loss: 7.9557 - auc: 0.9357 - accuracy: 0.8672\n",
            "Epoch 7/20\n",
            "519/519 [==============================] - 434s 833ms/step - loss: 7.5632 - auc: 0.9412 - accuracy: 0.8767\n",
            "Epoch 8/20\n",
            "519/519 [==============================] - 434s 834ms/step - loss: 6.5960 - auc: 0.9497 - accuracy: 0.8878\n",
            "Epoch 9/20\n",
            "519/519 [==============================] - 434s 833ms/step - loss: 5.9679 - auc: 0.9563 - accuracy: 0.8976\n",
            "Epoch 10/20\n",
            "519/519 [==============================] - 434s 834ms/step - loss: 5.3122 - auc: 0.9617 - accuracy: 0.9086\n",
            "Epoch 11/20\n",
            "519/519 [==============================] - 434s 834ms/step - loss: 4.8846 - auc: 0.9649 - accuracy: 0.9142\n",
            "Epoch 12/20\n",
            "519/519 [==============================] - 434s 833ms/step - loss: 4.5190 - auc: 0.9694 - accuracy: 0.9214\n",
            "Epoch 13/20\n",
            "519/519 [==============================] - 434s 833ms/step - loss: 4.1198 - auc: 0.9727 - accuracy: 0.9272\n",
            "Epoch 14/20\n",
            "519/519 [==============================] - 434s 834ms/step - loss: 3.7670 - auc: 0.9764 - accuracy: 0.9331\n",
            "Epoch 15/20\n",
            "519/519 [==============================] - 434s 834ms/step - loss: 3.4266 - auc: 0.9787 - accuracy: 0.9394\n",
            "Epoch 16/20\n",
            "519/519 [==============================] - 434s 834ms/step - loss: 3.0978 - auc: 0.9824 - accuracy: 0.9441\n",
            "Epoch 17/20\n",
            "519/519 [==============================] - 434s 834ms/step - loss: 2.8364 - auc: 0.9844 - accuracy: 0.9504\n",
            "Epoch 18/20\n",
            "519/519 [==============================] - 433s 833ms/step - loss: 2.6232 - auc: 0.9861 - accuracy: 0.9562\n",
            "Epoch 19/20\n",
            "519/519 [==============================] - 434s 833ms/step - loss: 2.4136 - auc: 0.9873 - accuracy: 0.9584\n",
            "Epoch 20/20\n",
            "519/519 [==============================] - 434s 834ms/step - loss: 2.2655 - auc: 0.9890 - accuracy: 0.9625\n"
          ]
        }
      ],
      "source": [
        "history = model.fit(train_ds,\n",
        "                    callbacks=callbacks,\n",
        "                    epochs=20,\n",
        "                    class_weight=class_weight)"
      ]
    },
    {
      "cell_type": "code",
      "source": [
        "!cp ./logs/checkpoints/combined-model-10.h5 ./drive/MyDrive/checkpoints/combined-model-10.1.h5\n",
        "!cp ./logs/checkpoints/combined-model-15.h5 ./drive/MyDrive/checkpoints/combined-model-15.1.h5\n",
        "!cp ./logs/checkpoints/combined-model-20.h5 ./drive/MyDrive/checkpoints/combined-model-20.1.h5"
      ],
      "metadata": {
        "id": "FsbrLof_N6IJ"
      },
      "execution_count": 15,
      "outputs": []
    },
    {
      "cell_type": "code",
      "source": [
        "history = model.fit(train_ds,\n",
        "                        callbacks=callbacks,\n",
        "                        epochs=30,\n",
        "                        initial_epoch=20,\n",
        "                        class_weight=class_weight)"
      ],
      "metadata": {
        "id": "plnJlVzTONGL",
        "outputId": "a3b54bc5-6694-45bc-b2a5-664df2dca03d",
        "colab": {
          "base_uri": "https://localhost:8080/"
        }
      },
      "execution_count": 16,
      "outputs": [
        {
          "output_type": "stream",
          "name": "stdout",
          "text": [
            "Epoch 21/30\n",
            "519/519 [==============================] - 430s 823ms/step - loss: 2.0828 - auc: 0.9903 - accuracy: 0.9659\n",
            "Epoch 22/30\n",
            "519/519 [==============================] - 434s 833ms/step - loss: 1.9592 - auc: 0.9913 - accuracy: 0.9685\n",
            "Epoch 23/30\n",
            "519/519 [==============================] - 433s 833ms/step - loss: 1.8316 - auc: 0.9918 - accuracy: 0.9710\n",
            "Epoch 24/30\n",
            "519/519 [==============================] - 433s 833ms/step - loss: 1.7306 - auc: 0.9926 - accuracy: 0.9732\n",
            "Epoch 25/30\n",
            "519/519 [==============================] - 433s 832ms/step - loss: 1.6157 - auc: 0.9934 - accuracy: 0.9758\n",
            "Epoch 26/30\n",
            "519/519 [==============================] - 434s 834ms/step - loss: 1.5040 - auc: 0.9945 - accuracy: 0.9768\n",
            "Epoch 27/30\n",
            "519/519 [==============================] - 434s 834ms/step - loss: 1.4442 - auc: 0.9948 - accuracy: 0.9784\n",
            "Epoch 28/30\n",
            "519/519 [==============================] - 434s 835ms/step - loss: 1.3661 - auc: 0.9951 - accuracy: 0.9798\n",
            "Epoch 29/30\n",
            "519/519 [==============================] - 434s 834ms/step - loss: 1.3045 - auc: 0.9955 - accuracy: 0.9820\n",
            "Epoch 30/30\n",
            "519/519 [==============================] - 434s 834ms/step - loss: 1.2468 - auc: 0.9955 - accuracy: 0.9813\n"
          ]
        }
      ]
    },
    {
      "cell_type": "code",
      "source": [
        "!cp ./logs/checkpoints/combined-model-25.h5 ./drive/MyDrive/checkpoints/combined-model-25.1.h5\n",
        "!cp ./logs/checkpoints/combined-model-30.h5 ./drive/MyDrive/checkpoints/combined-model-30.1.h5"
      ],
      "metadata": {
        "id": "ECMHZIydcbyp"
      },
      "execution_count": 17,
      "outputs": []
    }
  ],
  "metadata": {
    "colab": {
      "name": "xyz_model.ipynb",
      "provenance": [],
      "include_colab_link": true
    },
    "kernelspec": {
      "display_name": "Python 3",
      "name": "python3"
    },
    "language_info": {
      "name": "python"
    },
    "accelerator": "GPU"
  },
  "nbformat": 4,
  "nbformat_minor": 0
}